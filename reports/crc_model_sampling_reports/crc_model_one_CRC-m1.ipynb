{
 "cells": [
  {
   "cell_type": "markdown",
   "id": "warming-agriculture",
   "metadata": {
    "papermill": {},
    "tags": []
   },
   "source": [
    "# Model Report"
   ]
  },
  {
   "cell_type": "code",
   "execution_count": null,
   "id": "incident-biology",
   "metadata": {
    "papermill": {},
    "tags": []
   },
   "outputs": [],
   "source": [
    "import warnings\n",
    "from pathlib import Path\n",
    "from time import time\n",
    "\n",
    "import arviz as az\n",
    "import matplotlib.pyplot as plt\n",
    "import numpy as np\n",
    "import pandas as pd\n",
    "import plotnine as gg\n",
    "import pymc3 as pm\n",
    "import seaborn as sns\n",
    "from src.command_line_interfaces import sampling_pymc3_models_cli as sampling\n",
    "from src.data_processing import common as dphelp\n",
    "from src.modeling import pymc3_analysis as pmanal\n",
    "from src.modeling import pymc3_sampling_api as pmapi\n",
    "from src.plot.color_pal import SeabornColor\n",
    "\n",
    "notebook_tic = time()\n",
    "\n",
    "warnings.simplefilter(action=\"ignore\", category=UserWarning)\n",
    "\n",
    "gg.theme_set(gg.theme_classic())\n",
    "%config InlineBackend.figure_format = \"retina\"\n",
    "\n",
    "RANDOM_SEED = 847\n",
    "np.random.seed(RANDOM_SEED)\n",
    "\n",
    "pymc3_cache_dir = Path(\"..\", \"models\", \"modeling_cache\", \"pymc3_model_cache\")"
   ]
  },
  {
   "cell_type": "markdown",
   "id": "incomplete-aquarium",
   "metadata": {
    "papermill": {},
    "tags": []
   },
   "source": [
    "Parameters for papermill:\n",
    "\n",
    "- `MODEL`: which model was tested\n",
    "- `MODEL_NAME`: name of the model\n",
    "- `DEBUG`: if in debug mode or not"
   ]
  },
  {
   "cell_type": "markdown",
   "id": "literary-compatibility",
   "metadata": {
    "papermill": {},
    "tags": []
   },
   "source": [
    "## Setup"
   ]
  },
  {
   "cell_type": "markdown",
   "id": "compound-hobby",
   "metadata": {
    "papermill": {},
    "tags": []
   },
   "source": [
    "### Papermill parameters"
   ]
  },
  {
   "cell_type": "code",
   "execution_count": null,
   "id": "objective-delicious",
   "metadata": {
    "papermill": {},
    "tags": [
     "parameters"
    ]
   },
   "outputs": [],
   "source": [
    "MODEL = \"crc-m1\"\n",
    "MODEL_NAME = \"CRC-model1\"\n",
    "DEBUG = True"
   ]
  },
  {
   "cell_type": "code",
   "execution_count": null,
   "id": "periodic-apollo",
   "metadata": {
    "tags": [
     "injected-parameters"
    ]
   },
   "outputs": [],
   "source": [
    "# Parameters\n",
    "MODEL = \"crc_model_one\"\n",
    "MODEL_NAME = \"CRC-m1\"\n",
    "DEBUG = True"
   ]
  },
  {
   "cell_type": "code",
   "execution_count": null,
   "id": "subtle-therapy",
   "metadata": {
    "papermill": {},
    "tags": []
   },
   "outputs": [],
   "source": [
    "speclet_model = sampling.sample_speclet_model(\n",
    "    MODEL, name=MODEL_NAME, debug=DEBUG, random_seed=RANDOM_SEED, touch=False\n",
    ")"
   ]
  },
  {
   "cell_type": "code",
   "execution_count": null,
   "id": "thousand-adoption",
   "metadata": {
    "papermill": {},
    "tags": []
   },
   "outputs": [],
   "source": [
    "model_res = speclet_model.advi_results"
   ]
  },
  {
   "cell_type": "markdown",
   "id": "appreciated-cannon",
   "metadata": {
    "papermill": {},
    "tags": []
   },
   "source": [
    "### Data"
   ]
  },
  {
   "cell_type": "code",
   "execution_count": null,
   "id": "decent-model",
   "metadata": {
    "papermill": {},
    "tags": []
   },
   "outputs": [],
   "source": [
    "data = speclet_model.get_data()\n",
    "data.head()"
   ]
  },
  {
   "cell_type": "markdown",
   "id": "continental-bridge",
   "metadata": {
    "papermill": {},
    "tags": []
   },
   "source": [
    "### Cached model fit"
   ]
  },
  {
   "cell_type": "code",
   "execution_count": null,
   "id": "nonprofit-throat",
   "metadata": {
    "papermill": {},
    "tags": []
   },
   "outputs": [],
   "source": [
    "model_az = pmapi.convert_samples_to_arviz(\n",
    "    model=speclet_model.model, res=speclet_model.advi_results\n",
    ")"
   ]
  },
  {
   "cell_type": "code",
   "execution_count": null,
   "id": "subsequent-bumper",
   "metadata": {
    "papermill": {},
    "tags": []
   },
   "outputs": [],
   "source": [
    "pm.model_to_graphviz(speclet_model.model)"
   ]
  },
  {
   "cell_type": "markdown",
   "id": "stupid-collector",
   "metadata": {
    "papermill": {},
    "tags": []
   },
   "source": [
    "## Fit diagnostics"
   ]
  },
  {
   "cell_type": "code",
   "execution_count": null,
   "id": "challenging-duration",
   "metadata": {
    "papermill": {},
    "tags": []
   },
   "outputs": [],
   "source": [
    "pmanal.plot_vi_hist(model_res.approximation)"
   ]
  },
  {
   "cell_type": "markdown",
   "id": "surgical-commodity",
   "metadata": {
    "papermill": {},
    "tags": []
   },
   "source": [
    "## Model parameters"
   ]
  },
  {
   "cell_type": "code",
   "execution_count": null,
   "id": "liable-general",
   "metadata": {
    "papermill": {},
    "tags": []
   },
   "outputs": [],
   "source": [
    "def check_shape(trace: np.ndarray) -> np.ndarray:\n",
    "    if len(trace.shape) == 1:\n",
    "        return trace[:, None]\n",
    "    return trace\n",
    "\n",
    "\n",
    "def add_hdi(p: gg.ggplot, values: np.ndarray, color: str) -> gg.ggplot:\n",
    "    m = np.mean(values)\n",
    "    hdi = az.hdi(values, hdi_prob=0.89).flatten()\n",
    "    p = (\n",
    "        p\n",
    "        + gg.geom_vline(xintercept=m, color=color)\n",
    "        + gg.geom_vline(xintercept=hdi, color=color, linetype=\"--\")\n",
    "    )\n",
    "    return p\n",
    "\n",
    "\n",
    "def variable_distribution_plot(var, trace: np.ndarray, max_plot=20000) -> gg.ggplot:\n",
    "    trace = check_shape(trace)\n",
    "\n",
    "    # Sample 25% of the trace.\n",
    "    d = pd.DataFrame(trace).melt().assign(variable=lambda d: d.variable.astype(\"str\"))\n",
    "    d_summaries = d.groupby([\"variable\"])[\"value\"].mean().reset_index(drop=False)\n",
    "\n",
    "    if d.shape[0] > max_plot:\n",
    "        d = d.sample(n=max_plot)\n",
    "    else:\n",
    "        d = d.sample(frac=0.2)\n",
    "\n",
    "    p = (\n",
    "        gg.ggplot(d, gg.aes(x=\"value\"))\n",
    "        + gg.geom_density(alpha=0.1)\n",
    "        + gg.geom_vline(xintercept=0, color=\"black\", size=0.7, alpha=0.7, linetype=\"--\")\n",
    "        + gg.scale_x_continuous(expand=(0, 0))\n",
    "        + gg.scale_y_continuous(expand=(0, 0, 0.02, 0))\n",
    "        + gg.theme(legend_position=\"none\", figure_size=(6.5, 3))\n",
    "        + gg.labs(x=\"posterior\", y=\"density\", title=f\"Posterior distirbution of {var}\")\n",
    "    )\n",
    "\n",
    "    c = SeabornColor.blue\n",
    "\n",
    "    if len(d_summaries) > 1:\n",
    "        p = p + gg.geom_rug(\n",
    "            data=d_summaries, sides=\"b\", alpha=0.5, color=c, length=0.08\n",
    "        )\n",
    "    else:\n",
    "        p = add_hdi(p, trace.flatten(), color=c)\n",
    "\n",
    "    return p"
   ]
  },
  {
   "cell_type": "code",
   "execution_count": null,
   "id": "second-hawaiian",
   "metadata": {
    "papermill": {},
    "tags": []
   },
   "outputs": [],
   "source": [
    "vars_to_inspect = model_res.trace.varnames\n",
    "vars_to_inspect = [v for v in vars_to_inspect if not \"log\" in v]\n",
    "vars_to_inspect.sort()\n",
    "\n",
    "for var in vars_to_inspect:\n",
    "    trace = model_res.trace[var]\n",
    "    if len(trace.shape) > 1 and trace.shape[1] == data.shape[0]:\n",
    "        # Do not plot the final deterministic mean (usually \"μ\").\n",
    "        continue\n",
    "    try:\n",
    "        print(variable_distribution_plot(var, model_res.trace[var]))\n",
    "    except Exception as err:\n",
    "        print(f\"Skipping variable '{var}'.\")\n",
    "        print(err)"
   ]
  },
  {
   "cell_type": "markdown",
   "id": "liked-canadian",
   "metadata": {
    "papermill": {},
    "tags": []
   },
   "source": [
    "## Model predicitons"
   ]
  },
  {
   "cell_type": "code",
   "execution_count": null,
   "id": "falling-thickness",
   "metadata": {
    "papermill": {},
    "tags": []
   },
   "outputs": [],
   "source": [
    "predictions = model_res.posterior_predictive\n",
    "pred_summary = pmanal.summarize_posterior_predictions(\n",
    "    predictions[\"lfc\"],\n",
    "    merge_with=data,\n",
    "    calc_error=True,\n",
    "    observed_y=\"lfc\",\n",
    ")\n",
    "pred_summary.head()"
   ]
  },
  {
   "cell_type": "code",
   "execution_count": null,
   "id": "diverse-reggae",
   "metadata": {
    "papermill": {},
    "tags": []
   },
   "outputs": [],
   "source": [
    "az.plot_loo_pit(model_az, y=\"lfc\");"
   ]
  },
  {
   "cell_type": "code",
   "execution_count": null,
   "id": "demanding-saint",
   "metadata": {
    "papermill": {},
    "tags": []
   },
   "outputs": [],
   "source": [
    "model_loo = az.loo(model_az, pointwise=True)\n",
    "print(model_loo)"
   ]
  },
  {
   "cell_type": "code",
   "execution_count": null,
   "id": "significant-programming",
   "metadata": {
    "papermill": {},
    "tags": []
   },
   "outputs": [],
   "source": [
    "sns.distplot(model_loo.loo_i.values);"
   ]
  },
  {
   "cell_type": "code",
   "execution_count": null,
   "id": "municipal-microwave",
   "metadata": {
    "papermill": {},
    "tags": []
   },
   "outputs": [],
   "source": [
    "pred_summary[\"loo\"] = model_loo.loo_i.values"
   ]
  },
  {
   "cell_type": "code",
   "execution_count": null,
   "id": "operating-murder",
   "metadata": {
    "papermill": {},
    "tags": []
   },
   "outputs": [],
   "source": [
    "(\n",
    "    gg.ggplot(pred_summary, gg.aes(x=\"lfc\", y=\"pred_mean\"))\n",
    "    + gg.geom_hline(yintercept=0, size=0.5, alpha=0.7)\n",
    "    + gg.geom_vline(xintercept=0, size=0.5, alpha=0.7)\n",
    "    + gg.geom_point(size=0.1, alpha=0.2)\n",
    "    + gg.geom_abline(slope=1, intercept=0, size=1, alpha=0.7, color=\"grey\")\n",
    "    + gg.geom_smooth(method=\"glm\", color=SeabornColor.red, size=1, alpha=0.7, se=False)\n",
    "    + gg.labs(x=\"observed LFC\", y=\"prediticed LFC (posterior avg.)\")\n",
    ")"
   ]
  },
  {
   "cell_type": "code",
   "execution_count": null,
   "id": "human-spectrum",
   "metadata": {
    "papermill": {},
    "tags": []
   },
   "outputs": [],
   "source": [
    "(\n",
    "    gg.ggplot(pred_summary, gg.aes(x=\"lfc\", y=\"loo\"))\n",
    "    + gg.geom_point(gg.aes(color=\"np.abs(error)\"), alpha=0.5)\n",
    "    + gg.scale_color_gradient(low=\"grey\", high=\"red\")\n",
    "    + gg.theme()\n",
    "    + gg.labs(x=\"observed LFC\", y=\"LOO\", color=\"abs(error)\")\n",
    ")"
   ]
  },
  {
   "cell_type": "code",
   "execution_count": null,
   "id": "periodic-ensemble",
   "metadata": {
    "papermill": {},
    "tags": []
   },
   "outputs": [],
   "source": [
    "(\n",
    "    gg.ggplot(pred_summary, gg.aes(x=\"np.abs(error)\", y=\"loo\"))\n",
    "    + gg.geom_point(gg.aes(color=\"lfc\"), alpha=0.5)\n",
    "    + gg.labs(x=\"abs(error)\", y=\"loo\", color=\"LFC\")\n",
    ")"
   ]
  },
  {
   "cell_type": "code",
   "execution_count": null,
   "id": "surprised-tsunami",
   "metadata": {
    "papermill": {},
    "tags": []
   },
   "outputs": [],
   "source": [
    "(\n",
    "    gg.ggplot(pred_summary, gg.aes(x=\"lfc\", y=\"error\"))\n",
    "    + gg.geom_hline(yintercept=0, size=0.5, alpha=0.7)\n",
    "    + gg.geom_vline(xintercept=0, size=0.5, alpha=0.7)\n",
    "    + gg.geom_point(size=0.1, alpha=0.2)\n",
    "    + gg.labs(x=\"observed LFC\", y=\"prediction error\")\n",
    ")"
   ]
  },
  {
   "cell_type": "code",
   "execution_count": null,
   "id": "unlike-station",
   "metadata": {
    "papermill": {},
    "tags": []
   },
   "outputs": [],
   "source": [
    "(\n",
    "    gg.ggplot(pred_summary, gg.aes(x=\"hugo_symbol\", y=\"loo\"))\n",
    "    + gg.geom_point(alpha=0.2, size=0.7)\n",
    "    + gg.geom_boxplot(outlier_alpha=0, alpha=0.4)\n",
    "    + gg.theme(axis_text_x=gg.element_blank(), axis_ticks_major_x=gg.element_blank())\n",
    "    + gg.labs(x=\"genes\", y=\"LOO\")\n",
    ")"
   ]
  },
  {
   "cell_type": "code",
   "execution_count": null,
   "id": "wrong-circular",
   "metadata": {
    "papermill": {},
    "tags": []
   },
   "outputs": [],
   "source": [
    "(\n",
    "    gg.ggplot(pred_summary, gg.aes(x=\"depmap_id\", y=\"loo\"))\n",
    "    + gg.geom_jitter(width=0.2, alpha=0.3, size=0.7)\n",
    "    + gg.geom_boxplot(outlier_alpha=0, alpha=0.4)\n",
    "    + gg.theme(\n",
    "        axis_text_x=gg.element_text(angle=90, size=8),\n",
    "    )\n",
    "    + gg.labs(x=\"cell lines\", y=\"LOO\")\n",
    ")"
   ]
  },
  {
   "cell_type": "code",
   "execution_count": null,
   "id": "dedicated-nashville",
   "metadata": {
    "papermill": {},
    "tags": []
   },
   "outputs": [],
   "source": [
    "# Remove samples without gene CN data.\n",
    "ppc_df_no_missing = pred_summary.copy()[~pred_summary.gene_cn.isna()]\n",
    "ppc_df_no_missing[\"binned_gene_cn\"] = [\n",
    "    np.min([round(x), 10]) for x in ppc_df_no_missing.gene_cn\n",
    "]\n",
    "\n",
    "(\n",
    "    gg.ggplot(ppc_df_no_missing, gg.aes(x=\"factor(binned_gene_cn)\", y=\"loo\"))\n",
    "    + gg.geom_jitter(size=0.6, alpha=0.5, width=0.3)\n",
    "    + gg.geom_boxplot(outlier_alpha=0, alpha=0.8)\n",
    "    + gg.labs(x=\"gene copy number (max. 10)\", y=\"LOO\")\n",
    ")"
   ]
  },
  {
   "cell_type": "code",
   "execution_count": null,
   "id": "falling-validity",
   "metadata": {
    "papermill": {},
    "tags": []
   },
   "outputs": [],
   "source": [
    "gene_error = (\n",
    "    pred_summary.groupby([\"hugo_symbol\"])[\"error\"]\n",
    "    .agg([np.mean, np.std])\n",
    "    .reset_index(drop=False)\n",
    "    .sort_values([\"mean\"])\n",
    "    .reset_index(drop=True)\n",
    "    .assign(\n",
    "        hugo_symbol=lambda d: pd.Categorical(\n",
    "            d.hugo_symbol.astype(str),\n",
    "            categories=d.hugo_symbol.astype(str),\n",
    "            ordered=True,\n",
    "        )\n",
    "    )\n",
    ")\n",
    "\n",
    "n_genes = 15\n",
    "\n",
    "(\n",
    "    gg.ggplot(\n",
    "        gene_error.iloc[list(range(n_genes)) + list(range(-n_genes, -1))],\n",
    "        gg.aes(x=\"hugo_symbol\", y=\"mean\"),\n",
    "    )\n",
    "    + gg.geom_col()\n",
    "    + gg.theme(axis_text_x=gg.element_text(angle=90))\n",
    "    + gg.labs(x=\"gene\", y=\"error\", title=\"Genes with the highest average error\")\n",
    ")"
   ]
  },
  {
   "cell_type": "code",
   "execution_count": null,
   "id": "dirty-gender",
   "metadata": {
    "papermill": {},
    "tags": []
   },
   "outputs": [],
   "source": [
    "(\n",
    "    gg.ggplot(pred_summary, gg.aes(x=\"log2_cn\", y=\"error\"))\n",
    "    + gg.geom_hline(yintercept=0, size=0.5, alpha=0.7, linetype=\"--\")\n",
    "    + gg.geom_vline(xintercept=0, size=0.5, alpha=0.7, linetype=\"--\")\n",
    "    + gg.geom_point(size=0.1, alpha=0.2)\n",
    "    + gg.labs(x=\"gene copy number (log2)\", y=\"predition error\")\n",
    ")"
   ]
  },
  {
   "cell_type": "markdown",
   "id": "sapphire-cruise",
   "metadata": {
    "papermill": {},
    "tags": []
   },
   "source": [
    "---"
   ]
  },
  {
   "cell_type": "code",
   "execution_count": null,
   "id": "defined-hampton",
   "metadata": {
    "papermill": {},
    "tags": []
   },
   "outputs": [],
   "source": [
    "notebook_toc = time()\n",
    "print(f\"execution time: {(notebook_toc - notebook_tic) / 60:.2f} minutes\")"
   ]
  },
  {
   "cell_type": "code",
   "execution_count": null,
   "id": "filled-guinea",
   "metadata": {
    "papermill": {},
    "tags": []
   },
   "outputs": [],
   "source": [
    "%load_ext watermark\n",
    "%watermark -d -u -v -iv -b -h -m"
   ]
  }
 ],
 "metadata": {
  "kernelspec": {
   "display_name": "Python 3",
   "language": "python",
   "name": "python3"
  },
  "language_info": {
   "codemirror_mode": {
    "name": "ipython",
    "version": 3
   },
   "file_extension": ".py",
   "mimetype": "text/x-python",
   "name": "python",
   "nbconvert_exporter": "python",
   "pygments_lexer": "ipython3",
   "version": "3.9.2"
  },
  "papermill": {
   "default_parameters": {},
   "environment_variables": {},
   "input_path": "reports/crc_model_sampling_reports/model-report-template.ipynb",
   "output_path": "reports/crc_model_sampling_reports/crc_model_one_CRC-m1.ipynb",
   "parameters": {
    "DEBUG": true,
    "MODEL": "crc_model_one",
    "MODEL_NAME": "CRC-m1"
   },
   "version": "2.3.3"
  }
 },
 "nbformat": 4,
 "nbformat_minor": 5
}
