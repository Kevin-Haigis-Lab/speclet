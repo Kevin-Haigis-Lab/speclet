{
 "cells": [
  {
   "cell_type": "markdown",
   "id": "ce03d394",
   "metadata": {
    "papermill": {},
    "tags": []
   },
   "source": [
    "# Model Report"
   ]
  },
  {
   "cell_type": "code",
   "execution_count": null,
   "id": "cb7a8a96",
   "metadata": {
    "papermill": {},
    "tags": []
   },
   "outputs": [],
   "source": [
    "import logging\n",
    "import warnings\n",
    "from pathlib import Path\n",
    "from time import time\n",
    "\n",
    "import arviz as az\n",
    "import matplotlib.pyplot as plt\n",
    "import numpy as np\n",
    "import pandas as pd\n",
    "import plotnine as gg\n",
    "import pymc3 as pm\n",
    "import seaborn as sns\n",
    "\n",
    "from src.analysis import pymc3_analysis as pmanal\n",
    "from src.command_line_interfaces import sampling_pymc3_models_cli as sampling\n",
    "from src.data_processing import common as dphelp\n",
    "from src.loggers import set_console_handler_level\n",
    "from src.modeling import pymc3_sampling_api as pmapi\n",
    "from src.models import configuration\n",
    "from src.models.speclet_pipeline_test_model import SpecletTestModel\n",
    "from src.plot.color_pal import SeabornColor\n",
    "from src.project_enums import ModelFitMethod"
   ]
  },
  {
   "cell_type": "code",
   "execution_count": null,
   "id": "42f3a77d",
   "metadata": {
    "papermill": {},
    "tags": []
   },
   "outputs": [],
   "source": [
    "notebook_tic = time()\n",
    "\n",
    "set_console_handler_level(logging.WARNING)\n",
    "warnings.simplefilter(action=\"ignore\", category=UserWarning)\n",
    "\n",
    "gg.theme_set(gg.theme_classic())\n",
    "%config InlineBackend.figure_format = \"retina\"\n",
    "\n",
    "RANDOM_SEED = 847\n",
    "np.random.seed(RANDOM_SEED)\n",
    "\n",
    "path_prefix = Path(\"..\", \"..\")"
   ]
  },
  {
   "cell_type": "markdown",
   "id": "d1e4dc28",
   "metadata": {
    "papermill": {},
    "tags": []
   },
   "source": [
    "Parameters for papermill:\n",
    "\n",
    "- `CONFIG_PATH`: path to configuration file\n",
    "- `MODEL_NAME`: name of the model\n",
    "- `FIT_METHOD`: method used to fit the model; either \"ADVI\" or \"MCMC\"\n",
    "- `ROOT_CACHE_DIR`: path to the root caching directory"
   ]
  },
  {
   "cell_type": "markdown",
   "id": "c0d75741",
   "metadata": {
    "papermill": {},
    "tags": []
   },
   "source": [
    "## Setup"
   ]
  },
  {
   "cell_type": "markdown",
   "id": "abb238e3",
   "metadata": {
    "papermill": {},
    "tags": []
   },
   "source": [
    "### Papermill parameters"
   ]
  },
  {
   "cell_type": "code",
   "execution_count": null,
   "id": "6346afd2",
   "metadata": {
    "papermill": {},
    "tags": [
     "parameters"
    ]
   },
   "outputs": [],
   "source": [
    "CONFIG_PATH = \"\"\n",
    "MODEL_NAME = \"\"\n",
    "FIT_METHOD = \"\"\n",
    "ROOT_CACHE_DIR = \"\""
   ]
  },
  {
   "cell_type": "code",
   "execution_count": null,
   "id": "70934710",
   "metadata": {
    "tags": [
     "injected-parameters"
    ]
   },
   "outputs": [],
   "source": [
    "# Parameters\n",
    "CONFIG_PATH = \"models/model-configs.yaml\"\n",
    "MODEL_NAME = \"eight-default\"\n",
    "FIT_METHOD = \"MCMC\"\n",
    "ROOT_CACHE_DIR = \"models/\""
   ]
  },
  {
   "cell_type": "code",
   "execution_count": null,
   "id": "f5b4c414",
   "metadata": {
    "papermill": {},
    "tags": []
   },
   "outputs": [],
   "source": [
    "# Check the fit method is recognized.\n",
    "assert ModelFitMethod(FIT_METHOD) in ModelFitMethod"
   ]
  },
  {
   "cell_type": "code",
   "execution_count": null,
   "id": "b9703d09",
   "metadata": {
    "papermill": {},
    "tags": []
   },
   "outputs": [],
   "source": [
    "speclet_model = configuration.get_config_and_instantiate_model(\n",
    "    path_prefix / CONFIG_PATH,\n",
    "    name=MODEL_NAME,\n",
    "    root_cache_dir=path_prefix / ROOT_CACHE_DIR,\n",
    ")\n",
    "\n",
    "speclet_model.build_model()"
   ]
  },
  {
   "cell_type": "code",
   "execution_count": null,
   "id": "9b411e03",
   "metadata": {
    "papermill": {},
    "tags": []
   },
   "outputs": [],
   "source": [
    "if FIT_METHOD == \"ADVI\":\n",
    "    model_az, advi_approx = speclet_model.load_advi_cache()\n",
    "else:\n",
    "    model_az = speclet_model.load_mcmc_cache()"
   ]
  },
  {
   "cell_type": "markdown",
   "id": "2eb1403c",
   "metadata": {
    "papermill": {},
    "tags": []
   },
   "source": [
    "### Data"
   ]
  },
  {
   "cell_type": "code",
   "execution_count": null,
   "id": "8021a853",
   "metadata": {
    "papermill": {},
    "tags": []
   },
   "outputs": [],
   "source": [
    "data = speclet_model.data_manager.get_data()\n",
    "data.head()"
   ]
  },
  {
   "cell_type": "markdown",
   "id": "f33d6171",
   "metadata": {
    "papermill": {},
    "tags": []
   },
   "source": [
    "### Cached model fit"
   ]
  },
  {
   "cell_type": "code",
   "execution_count": null,
   "id": "3fb5a1e6",
   "metadata": {
    "papermill": {},
    "tags": []
   },
   "outputs": [],
   "source": [
    "print(speclet_model.model)"
   ]
  },
  {
   "cell_type": "code",
   "execution_count": null,
   "id": "652cdfe3",
   "metadata": {
    "papermill": {},
    "tags": []
   },
   "outputs": [],
   "source": [
    "pm.model_to_graphviz(speclet_model.model)"
   ]
  },
  {
   "cell_type": "markdown",
   "id": "81a5e937",
   "metadata": {
    "papermill": {},
    "tags": []
   },
   "source": [
    "## Fit diagnostics"
   ]
  },
  {
   "cell_type": "code",
   "execution_count": null,
   "id": "9ada97a9",
   "metadata": {
    "papermill": {},
    "tags": []
   },
   "outputs": [],
   "source": [
    "if FIT_METHOD == \"ADVI\":\n",
    "    pmanal.plot_vi_hist(advi_approx).draw()\n",
    "    pmanal.plot_vi_hist(advi_approx, y_log=True).draw()\n",
    "    pmanal.plot_vi_hist(advi_approx, y_log=True, x_start=0.5).draw()\n",
    "    plt.show()\n",
    "else:\n",
    "    print(\"R-HAT\")\n",
    "    print(az.rhat(model_az))\n",
    "    print(\"=\" * 60)\n",
    "    pmanal.describe_mcmc(model_az)"
   ]
  },
  {
   "cell_type": "markdown",
   "id": "22a7d1c7",
   "metadata": {
    "papermill": {},
    "tags": []
   },
   "source": [
    "## Model parameters"
   ]
  },
  {
   "cell_type": "code",
   "execution_count": null,
   "id": "c76ed0ce",
   "metadata": {
    "papermill": {},
    "tags": []
   },
   "outputs": [],
   "source": [
    "def check_shape(trace: np.ndarray) -> np.ndarray:\n",
    "    if len(trace.shape) == 1:\n",
    "        return trace[:, None]\n",
    "    return trace\n",
    "\n",
    "\n",
    "def add_hdi(p: gg.ggplot, values: np.ndarray, color: str) -> gg.ggplot:\n",
    "    m = np.mean(values)\n",
    "    hdi = az.hdi(values, hdi_prob=0.89).flatten()\n",
    "    p = (\n",
    "        p\n",
    "        + gg.geom_vline(xintercept=m, color=color)\n",
    "        + gg.geom_vline(xintercept=hdi, color=color, linetype=\"--\")\n",
    "    )\n",
    "    return p\n",
    "\n",
    "\n",
    "def variable_distribution_plot(var, trace: np.ndarray, max_plot=20000) -> gg.ggplot:\n",
    "    trace = check_shape(trace)\n",
    "\n",
    "    # Sample 25% of the trace.\n",
    "    d = pd.DataFrame(trace).melt().assign(variable=lambda d: d.variable.astype(\"str\"))\n",
    "    d_summaries = d.groupby([\"variable\"])[\"value\"].mean().reset_index(drop=False)\n",
    "\n",
    "    if d.shape[0] > max_plot:\n",
    "        d = d.sample(n=max_plot)\n",
    "    else:\n",
    "        d = d.sample(frac=0.2)\n",
    "\n",
    "    p = (\n",
    "        gg.ggplot(d, gg.aes(x=\"value\"))\n",
    "        + gg.geom_density(alpha=0.1)\n",
    "        + gg.geom_vline(xintercept=0, color=\"black\", size=0.7, alpha=0.7, linetype=\"--\")\n",
    "        + gg.scale_x_continuous(expand=(0, 0))\n",
    "        + gg.scale_y_continuous(expand=(0, 0, 0.02, 0))\n",
    "        + gg.theme(legend_position=\"none\", figure_size=(6.5, 3))\n",
    "        + gg.labs(x=\"posterior\", y=\"density\", title=f\"Posterior distirbution of {var}\")\n",
    "    )\n",
    "\n",
    "    c = SeabornColor.BLUE\n",
    "\n",
    "    if len(d_summaries) > 1:\n",
    "        p = p + gg.geom_rug(\n",
    "            data=d_summaries, sides=\"b\", alpha=0.5, color=c, length=0.08\n",
    "        )\n",
    "    else:\n",
    "        p = add_hdi(p, trace.flatten(), color=c)\n",
    "\n",
    "    return p"
   ]
  },
  {
   "cell_type": "code",
   "execution_count": null,
   "id": "e3548c46",
   "metadata": {
    "papermill": {},
    "tags": []
   },
   "outputs": [],
   "source": [
    "ignore_vars = \"μ\"\n",
    "vars_to_inspect = model_az.posterior.keys()\n",
    "vars_to_inspect = [v for v in vars_to_inspect if not \"log\" in v]\n",
    "vars_to_inspect.sort()\n",
    "\n",
    "for var in vars_to_inspect:\n",
    "    trace = model_az.posterior[var]\n",
    "    if trace.shape[1] == data.shape[0]:\n",
    "        # Do not plot the final deterministic mean (usually \"μ\").\n",
    "        continue\n",
    "    try:\n",
    "        print(variable_distribution_plot(var, model_az.posterior[var].values.flatten()))\n",
    "    except Exception as err:\n",
    "        print(f\"Skipping variable '{var}'.\")\n",
    "        print(err)"
   ]
  },
  {
   "cell_type": "code",
   "execution_count": null,
   "id": "b2cdf169",
   "metadata": {
    "papermill": {},
    "tags": []
   },
   "outputs": [],
   "source": [
    "if isinstance(speclet_model, SpecletTestModel):\n",
    "    raise KeyboardInterrupt()"
   ]
  },
  {
   "cell_type": "markdown",
   "id": "cb2393d0",
   "metadata": {
    "papermill": {},
    "tags": []
   },
   "source": [
    "## Model predictions"
   ]
  },
  {
   "cell_type": "code",
   "execution_count": null,
   "id": "7867c03a",
   "metadata": {
    "papermill": {},
    "tags": []
   },
   "outputs": [],
   "source": [
    "predictions = model_az.posterior_predictive\n",
    "pred_summary = pmanal.summarize_posterior_predictions(\n",
    "    predictions[\"lfc\"].values,\n",
    "    merge_with=data,\n",
    "    calc_error=True,\n",
    "    observed_y=\"lfc\",\n",
    ")\n",
    "pred_summary.head()"
   ]
  },
  {
   "cell_type": "code",
   "execution_count": null,
   "id": "1f3ebc64",
   "metadata": {
    "papermill": {},
    "tags": []
   },
   "outputs": [],
   "source": [
    "try:\n",
    "    az.plot_loo_pit(model_az, y=\"lfc\")\n",
    "except Exception as e:\n",
    "    print(e)"
   ]
  },
  {
   "cell_type": "code",
   "execution_count": null,
   "id": "bbcf212b",
   "metadata": {
    "papermill": {},
    "tags": []
   },
   "outputs": [],
   "source": [
    "model_loo = az.loo(model_az, pointwise=True)\n",
    "print(model_loo)"
   ]
  },
  {
   "cell_type": "code",
   "execution_count": null,
   "id": "7c928461",
   "metadata": {
    "papermill": {},
    "tags": []
   },
   "outputs": [],
   "source": [
    "sns.distplot(model_loo.loo_i.values);"
   ]
  },
  {
   "cell_type": "code",
   "execution_count": null,
   "id": "9583bfb4",
   "metadata": {
    "papermill": {},
    "tags": []
   },
   "outputs": [],
   "source": [
    "pred_summary[\"loo\"] = model_loo.loo_i.values"
   ]
  },
  {
   "cell_type": "code",
   "execution_count": null,
   "id": "f8ee2baa",
   "metadata": {
    "papermill": {},
    "tags": []
   },
   "outputs": [],
   "source": [
    "(\n",
    "    gg.ggplot(pred_summary, gg.aes(x=\"lfc\", y=\"pred_mean\"))\n",
    "    + gg.geom_hline(yintercept=0, size=0.5, alpha=0.7)\n",
    "    + gg.geom_vline(xintercept=0, size=0.5, alpha=0.7)\n",
    "    + gg.geom_point(size=0.1, alpha=0.2)\n",
    "    + gg.geom_abline(slope=1, intercept=0, size=1, alpha=0.7, color=\"grey\")\n",
    "    + gg.geom_smooth(method=\"glm\", color=SeabornColor.RED, size=1, alpha=0.7, se=False)\n",
    "    + gg.labs(x=\"observed LFC\", y=\"prediticed LFC (posterior avg.)\")\n",
    ")"
   ]
  },
  {
   "cell_type": "code",
   "execution_count": null,
   "id": "d565bdd4",
   "metadata": {
    "papermill": {},
    "tags": []
   },
   "outputs": [],
   "source": [
    "(\n",
    "    gg.ggplot(pred_summary, gg.aes(x=\"lfc\", y=\"loo\"))\n",
    "    + gg.geom_point(gg.aes(color=\"np.abs(error)\"), alpha=0.5)\n",
    "    + gg.scale_color_gradient(low=\"grey\", high=\"red\")\n",
    "    + gg.theme()\n",
    "    + gg.labs(x=\"observed LFC\", y=\"LOO\", color=\"abs(error)\")\n",
    ")"
   ]
  },
  {
   "cell_type": "code",
   "execution_count": null,
   "id": "f631f0a2",
   "metadata": {
    "papermill": {},
    "tags": []
   },
   "outputs": [],
   "source": [
    "(\n",
    "    gg.ggplot(pred_summary, gg.aes(x=\"np.abs(error)\", y=\"loo\"))\n",
    "    + gg.geom_point(gg.aes(color=\"lfc\"), alpha=0.5)\n",
    "    + gg.labs(x=\"abs(error)\", y=\"loo\", color=\"LFC\")\n",
    ")"
   ]
  },
  {
   "cell_type": "code",
   "execution_count": null,
   "id": "a9971a42",
   "metadata": {
    "papermill": {},
    "tags": []
   },
   "outputs": [],
   "source": [
    "(\n",
    "    gg.ggplot(pred_summary, gg.aes(x=\"lfc\", y=\"error\"))\n",
    "    + gg.geom_hline(yintercept=0, size=0.5, alpha=0.7)\n",
    "    + gg.geom_vline(xintercept=0, size=0.5, alpha=0.7)\n",
    "    + gg.geom_point(size=0.1, alpha=0.2)\n",
    "    + gg.labs(x=\"observed LFC\", y=\"prediction error\")\n",
    ")"
   ]
  },
  {
   "cell_type": "code",
   "execution_count": null,
   "id": "88e85db0",
   "metadata": {
    "papermill": {},
    "tags": []
   },
   "outputs": [],
   "source": [
    "(\n",
    "    gg.ggplot(pred_summary, gg.aes(x=\"hugo_symbol\", y=\"loo\"))\n",
    "    + gg.geom_point(alpha=0.2, size=0.7)\n",
    "    + gg.geom_boxplot(outlier_alpha=0, alpha=0.4)\n",
    "    + gg.theme(axis_text_x=gg.element_blank(), axis_ticks_major_x=gg.element_blank())\n",
    "    + gg.labs(x=\"genes\", y=\"LOO\")\n",
    ")"
   ]
  },
  {
   "cell_type": "code",
   "execution_count": null,
   "id": "9a05d898",
   "metadata": {
    "papermill": {},
    "tags": []
   },
   "outputs": [],
   "source": [
    "(\n",
    "    gg.ggplot(pred_summary, gg.aes(x=\"depmap_id\", y=\"loo\"))\n",
    "    + gg.geom_jitter(width=0.2, alpha=0.3, size=0.7)\n",
    "    + gg.geom_boxplot(outlier_alpha=0, alpha=0.4)\n",
    "    + gg.theme(\n",
    "        axis_text_x=gg.element_text(angle=90, size=8),\n",
    "    )\n",
    "    + gg.labs(x=\"cell lines\", y=\"LOO\")\n",
    ")"
   ]
  },
  {
   "cell_type": "code",
   "execution_count": null,
   "id": "8b3bc5eb",
   "metadata": {
    "papermill": {},
    "tags": []
   },
   "outputs": [],
   "source": [
    "# Remove samples without gene CN data.\n",
    "ppc_df_no_missing = pred_summary.copy()[~pred_summary[\"copy_number\"].isna()]\n",
    "ppc_df_no_missing[\"binned_copy_number\"] = [\n",
    "    np.min([round(x), 10]) for x in ppc_df_no_missing[\"copy_number\"]\n",
    "]\n",
    "\n",
    "(\n",
    "    gg.ggplot(ppc_df_no_missing, gg.aes(x=\"factor(binned_copy_number)\", y=\"loo\"))\n",
    "    + gg.geom_jitter(size=0.6, alpha=0.5, width=0.3)\n",
    "    + gg.geom_boxplot(outlier_alpha=0, alpha=0.8)\n",
    "    + gg.labs(x=\"gene copy number (max. 10)\", y=\"LOO\")\n",
    ")"
   ]
  },
  {
   "cell_type": "code",
   "execution_count": null,
   "id": "dce81a5f",
   "metadata": {
    "papermill": {},
    "tags": []
   },
   "outputs": [],
   "source": [
    "gene_error = (\n",
    "    pred_summary.groupby([\"hugo_symbol\"])[\"error\"]\n",
    "    .agg([np.mean, np.std])\n",
    "    .reset_index(drop=False)\n",
    "    .sort_values([\"mean\"])\n",
    "    .reset_index(drop=True)\n",
    "    .assign(\n",
    "        hugo_symbol=lambda d: pd.Categorical(\n",
    "            d.hugo_symbol.astype(str),\n",
    "            categories=d.hugo_symbol.astype(str),\n",
    "            ordered=True,\n",
    "        )\n",
    "    )\n",
    ")\n",
    "\n",
    "n_genes = 15\n",
    "\n",
    "(\n",
    "    gg.ggplot(\n",
    "        gene_error.iloc[list(range(n_genes)) + list(range(-n_genes, -1))],\n",
    "        gg.aes(x=\"hugo_symbol\", y=\"mean\"),\n",
    "    )\n",
    "    + gg.geom_col()\n",
    "    + gg.theme(axis_text_x=gg.element_text(angle=90))\n",
    "    + gg.labs(x=\"gene\", y=\"error\", title=\"Genes with the highest average error\")\n",
    ")"
   ]
  },
  {
   "cell_type": "code",
   "execution_count": null,
   "id": "9149440c",
   "metadata": {
    "papermill": {},
    "tags": []
   },
   "outputs": [],
   "source": [
    "(\n",
    "    gg.ggplot(pred_summary, gg.aes(x=\"copy_number\", y=\"error\"))\n",
    "    + gg.geom_hline(yintercept=0, size=0.5, alpha=0.7, linetype=\"--\")\n",
    "    + gg.geom_vline(xintercept=0, size=0.5, alpha=0.7, linetype=\"--\")\n",
    "    + gg.geom_point(size=0.1, alpha=0.2)\n",
    "    + gg.labs(x=\"gene copy number\", y=\"predition error\")\n",
    ")"
   ]
  },
  {
   "cell_type": "markdown",
   "id": "4633f6c9",
   "metadata": {
    "papermill": {},
    "tags": []
   },
   "source": [
    "---"
   ]
  },
  {
   "cell_type": "code",
   "execution_count": null,
   "id": "fd19bbdf",
   "metadata": {
    "papermill": {},
    "tags": []
   },
   "outputs": [],
   "source": [
    "notebook_toc = time()\n",
    "print(f\"execution time: {(notebook_toc - notebook_tic) / 60:.2f} minutes\")"
   ]
  },
  {
   "cell_type": "code",
   "execution_count": null,
   "id": "90e8a385",
   "metadata": {
    "papermill": {},
    "tags": []
   },
   "outputs": [],
   "source": [
    "%load_ext watermark\n",
    "%watermark -d -u -v -iv -b -h -m"
   ]
  }
 ],
 "metadata": {
  "kernelspec": {
   "display_name": "Python 3",
   "language": "python",
   "name": "python3"
  },
  "language_info": {
   "codemirror_mode": {
    "name": "ipython",
    "version": 3
   },
   "file_extension": ".py",
   "mimetype": "text/x-python",
   "name": "python",
   "nbconvert_exporter": "python",
   "pygments_lexer": "ipython3",
   "version": "3.9.2"
  },
  "papermill": {
   "default_parameters": {},
   "environment_variables": {},
   "input_path": "reports/crc_model_sampling_reports/model-report-template.ipynb",
   "output_path": "reports/crc_model_sampling_reports/eight-default_MCMC.ipynb",
   "parameters": {
    "CONFIG_PATH": "models/model-configs.yaml",
    "FIT_METHOD": "MCMC",
    "MODEL_NAME": "eight-default",
    "ROOT_CACHE_DIR": "models/"
   },
   "version": "2.3.3"
  }
 },
 "nbformat": 4,
 "nbformat_minor": 5
}
