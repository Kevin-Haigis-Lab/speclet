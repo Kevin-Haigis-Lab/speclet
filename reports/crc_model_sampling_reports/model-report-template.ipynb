{
 "cells": [
  {
   "cell_type": "markdown",
   "metadata": {},
   "source": [
    "# Model Report"
   ]
  },
  {
   "cell_type": "code",
   "execution_count": null,
   "metadata": {},
   "outputs": [],
   "source": [
    "import warnings\n",
    "from pathlib import Path\n",
    "from time import time\n",
    "\n",
    "import arviz as az\n",
    "import matplotlib.pyplot as plt\n",
    "import numpy as np\n",
    "import pandas as pd\n",
    "import plotnine as gg\n",
    "import pymc3 as pm\n",
    "import seaborn as sns\n",
    "\n",
    "from src.command_line_interfaces import sampling_pymc3_models_cli as sampling\n",
    "from src.data_processing import common as dphelp\n",
    "from src.modeling import pymc3_analysis as pmanal\n",
    "from src.modeling import pymc3_sampling_api as pmapi\n",
    "from src.models.speclet_pipeline_test_model import SpecletTestModel\n",
    "from src.plot.color_pal import SeabornColor\n",
    "\n",
    "notebook_tic = time()\n",
    "\n",
    "warnings.simplefilter(action=\"ignore\", category=UserWarning)\n",
    "\n",
    "gg.theme_set(gg.theme_classic())\n",
    "%config InlineBackend.figure_format = \"retina\"\n",
    "\n",
    "RANDOM_SEED = 847\n",
    "np.random.seed(RANDOM_SEED)\n",
    "\n",
    "path_prefix = Path(\"..\", \"..\")"
   ]
  },
  {
   "cell_type": "code",
   "execution_count": null,
   "metadata": {},
   "outputs": [],
   "source": [
    "from src.project_enums import ModelFitMethod"
   ]
  },
  {
   "cell_type": "markdown",
   "metadata": {},
   "source": [
    "Parameters for papermill:\n",
    "\n",
    "- `CONFIG_PATH`: path to configuration file\n",
    "- `MODEL_NAME`: name of the model\n",
    "- `FIT_METHOD`: method used to fit the model; either \"ADVI\" or \"MCMC\"\n",
    "- `ROOT_CACHE_DIR`: path to the root caching directory"
   ]
  },
  {
   "cell_type": "markdown",
   "metadata": {},
   "source": [
    "## Setup"
   ]
  },
  {
   "cell_type": "markdown",
   "metadata": {},
   "source": [
    "### Papermill parameters"
   ]
  },
  {
   "cell_type": "code",
   "execution_count": null,
   "metadata": {
    "tags": [
     "parameters"
    ]
   },
   "outputs": [],
   "source": [
    "CONFIG_PATH = \"\"\n",
    "MODEL_NAME = \"\"\n",
    "FIT_METHOD = \"\"\n",
    "ROOT_CACHE_DIR = \"\""
   ]
  },
  {
   "cell_type": "code",
   "execution_count": null,
   "metadata": {},
   "outputs": [],
   "source": [
    "# Check the fit method is recognized.\n",
    "assert ModelFitMethod(FIT_METHOD) in ModelFitMethod"
   ]
  },
  {
   "cell_type": "code",
   "execution_count": 7,
   "metadata": {
    "papermill": {},
    "tags": []
   },
   "outputs": [
    {
     "data": {
      "text/html": [
       "<pre style=\"white-space:pre;overflow-x:auto;line-height:normal;font-family:Menlo,'DejaVu Sans Mono',consolas,'Courier New',monospace\"><span style=\"color: #7fbfbf; text-decoration-color: #7fbfbf\">[07/05/21 14:48:31] </span><span style=\"color: #000080; text-decoration-color: #000080\">INFO    </span> Instantiating and configuring a speclet      <a href=\"file:///n/data1/hms/dbmi/park/Cook/speclet/src/models/configuration.py\"><span style=\"color: #7f7f7f; text-decoration-color: #7f7f7f\">configuration.py</span></a><span style=\"color: #7f7f7f; text-decoration-color: #7f7f7f\">:78</span>\n",
       "                             model from config.                                              \n",
       "</pre>\n"
      ],
      "text/plain": [
       "\u001b[2;36m[07/05/21 14:48:31]\u001b[0m\u001b[2;36m \u001b[0m\u001b[34mINFO    \u001b[0m Instantiating and configuring a speclet      \u001b]8;id=1625510911.2146308-828474;file:///n/data1/hms/dbmi/park/Cook/speclet/src/models/configuration.py\u001b\\\u001b[2mconfiguration.py\u001b[0m\u001b]8;;\u001b\\\u001b[2m:78\u001b[0m\n",
       "                             model from config.                                              \n"
      ]
     },
     "metadata": {},
     "output_type": "display_data"
    },
    {
     "data": {
      "text/html": [
       "<pre style=\"white-space:pre;overflow-x:auto;line-height:normal;font-family:Menlo,'DejaVu Sans Mono',consolas,'Courier New',monospace\"><span style=\"color: #7fbfbf; text-decoration-color: #7fbfbf\">                    </span><span style=\"color: #000080; text-decoration-color: #000080\">INFO    </span> Calling `model_specification<span style=\"font-weight: bold\">()</span>` method.     <a href=\"file:///n/data1/hms/dbmi/park/Cook/speclet/src/models/speclet_model.py\"><span style=\"color: #7f7f7f; text-decoration-color: #7f7f7f\">speclet_model.py</span></a><span style=\"color: #7f7f7f; text-decoration-color: #7f7f7f\">:181</span>\n",
       "</pre>\n"
      ],
      "text/plain": [
       "\u001b[2;36m                   \u001b[0m\u001b[2;36m \u001b[0m\u001b[34mINFO    \u001b[0m Calling `model_specification\u001b[1m(\u001b[0m\u001b[1m)\u001b[0m` method.     \u001b]8;id=1625510911.2207386-711954;file:///n/data1/hms/dbmi/park/Cook/speclet/src/models/speclet_model.py\u001b\\\u001b[2mspeclet_model.py\u001b[0m\u001b]8;;\u001b\\\u001b[2m:181\u001b[0m\n"
      ]
     },
     "metadata": {},
     "output_type": "display_data"
    },
    {
     "data": {
      "text/html": [
       "<pre style=\"white-space:pre;overflow-x:auto;line-height:normal;font-family:Menlo,'DejaVu Sans Mono',consolas,'Courier New',monospace\"><span style=\"color: #7fbfbf; text-decoration-color: #7fbfbf\">                    </span><span style=\"color: #000080; text-decoration-color: #000080\">INFO    </span> Beginning PyMC3 model specification.         <a href=\"file:///n/data1/hms/dbmi/park/Cook/speclet/src/models/speclet_four.py\"><span style=\"color: #7f7f7f; text-decoration-color: #7f7f7f\">speclet_four.py</span></a><span style=\"color: #7f7f7f; text-decoration-color: #7f7f7f\">:183</span>\n",
       "</pre>\n"
      ],
      "text/plain": [
       "\u001b[2;36m                   \u001b[0m\u001b[2;36m \u001b[0m\u001b[34mINFO    \u001b[0m Beginning PyMC3 model specification.         \u001b]8;id=1625510911.2247255-404308;file:///n/data1/hms/dbmi/park/Cook/speclet/src/models/speclet_four.py\u001b\\\u001b[2mspeclet_four.py\u001b[0m\u001b]8;;\u001b\\\u001b[2m:183\u001b[0m\n"
      ]
     },
     "metadata": {},
     "output_type": "display_data"
    },
    {
     "data": {
      "text/html": [
       "<pre style=\"white-space:pre;overflow-x:auto;line-height:normal;font-family:Menlo,'DejaVu Sans Mono',consolas,'Courier New',monospace\"><span style=\"color: #7fbfbf; text-decoration-color: #7fbfbf\">                    </span><span style=\"color: #000080; text-decoration-color: #000080\">INFO    </span> Applying <span style=\"color: #008080; text-decoration-color: #008080; font-weight: bold\">2</span> data transformations.      <a href=\"file:///n/data1/hms/dbmi/park/Cook/speclet/src/managers/model_data_managers.py\"><span style=\"color: #7f7f7f; text-decoration-color: #7f7f7f\">model_data_managers.py</span></a><span style=\"color: #7f7f7f; text-decoration-color: #7f7f7f\">:131</span>\n",
       "</pre>\n"
      ],
      "text/plain": [
       "\u001b[2;36m                   \u001b[0m\u001b[2;36m \u001b[0m\u001b[34mINFO    \u001b[0m Applying \u001b[1;36m2\u001b[0m data transformations.      \u001b]8;id=1625510911.2736542-743098;file:///n/data1/hms/dbmi/park/Cook/speclet/src/managers/model_data_managers.py\u001b\\\u001b[2mmodel_data_managers.py\u001b[0m\u001b]8;;\u001b\\\u001b[2m:131\u001b[0m\n"
      ]
     },
     "metadata": {},
     "output_type": "display_data"
    },
    {
     "data": {
      "text/html": [
       "<pre style=\"white-space:pre;overflow-x:auto;line-height:normal;font-family:Menlo,'DejaVu Sans Mono',consolas,'Courier New',monospace\"><span style=\"color: #7fbfbf; text-decoration-color: #7fbfbf\">                    </span><span style=\"color: #000080; text-decoration-color: #000080\">INFO    </span> Applying transformation: <span style=\"color: #008000; text-decoration-color: #008000\">'_drop_sgrna</span> <a href=\"file:///n/data1/hms/dbmi/park/Cook/speclet/src/managers/model_data_managers.py\"><span style=\"color: #7f7f7f; text-decoration-color: #7f7f7f\">model_data_managers.py</span></a><span style=\"color: #7f7f7f; text-decoration-color: #7f7f7f\">:118</span>\n",
       "                             <span style=\"color: #008000; text-decoration-color: #008000\">s_that_map_to_multiple_genes'</span>                                   \n",
       "</pre>\n"
      ],
      "text/plain": [
       "\u001b[2;36m                   \u001b[0m\u001b[2;36m \u001b[0m\u001b[34mINFO    \u001b[0m Applying transformation: \u001b[32m'_drop_sgrna\u001b[0m \u001b]8;id=1625510911.277352-759145;file:///n/data1/hms/dbmi/park/Cook/speclet/src/managers/model_data_managers.py\u001b\\\u001b[2mmodel_data_managers.py\u001b[0m\u001b]8;;\u001b\\\u001b[2m:118\u001b[0m\n",
       "                             \u001b[32ms_that_map_to_multiple_genes'\u001b[0m                                   \n"
      ]
     },
     "metadata": {},
     "output_type": "display_data"
    },
    {
     "data": {
      "text/html": [
       "<pre style=\"white-space:pre;overflow-x:auto;line-height:normal;font-family:Menlo,'DejaVu Sans Mono',consolas,'Courier New',monospace\"><span style=\"color: #7fbfbf; text-decoration-color: #7fbfbf\">                    </span><span style=\"color: #800000; text-decoration-color: #800000\">WARNING </span> Dropping <span style=\"color: #008080; text-decoration-color: #008080; font-weight: bold\">0</span> sgRNA that map to multiple <a href=\"file:///n/data1/hms/dbmi/park/Cook/speclet/src/managers/model_data_managers.py\"><span style=\"color: #7f7f7f; text-decoration-color: #7f7f7f\">model_data_managers.py</span></a><span style=\"color: #7f7f7f; text-decoration-color: #7f7f7f\">:251</span>\n",
       "                             genes.                                                          \n",
       "</pre>\n"
      ],
      "text/plain": [
       "\u001b[2;36m                   \u001b[0m\u001b[2;36m \u001b[0m\u001b[31mWARNING \u001b[0m Dropping \u001b[1;36m0\u001b[0m sgRNA that map to multiple \u001b]8;id=1625510911.2923257-861731;file:///n/data1/hms/dbmi/park/Cook/speclet/src/managers/model_data_managers.py\u001b\\\u001b[2mmodel_data_managers.py\u001b[0m\u001b]8;;\u001b\\\u001b[2m:251\u001b[0m\n",
       "                             genes.                                                          \n"
      ]
     },
     "metadata": {},
     "output_type": "display_data"
    },
    {
     "data": {
      "text/html": [
       "<pre style=\"white-space:pre;overflow-x:auto;line-height:normal;font-family:Menlo,'DejaVu Sans Mono',consolas,'Courier New',monospace\"><span style=\"color: #7fbfbf; text-decoration-color: #7fbfbf\">                    </span><span style=\"color: #000080; text-decoration-color: #000080\">INFO    </span> Applying transformation:              <a href=\"file:///n/data1/hms/dbmi/park/Cook/speclet/src/managers/model_data_managers.py\"><span style=\"color: #7f7f7f; text-decoration-color: #7f7f7f\">model_data_managers.py</span></a><span style=\"color: #7f7f7f; text-decoration-color: #7f7f7f\">:118</span>\n",
       "                             <span style=\"color: #008000; text-decoration-color: #008000\">'_drop_missing_copynumber'</span>                                      \n",
       "</pre>\n"
      ],
      "text/plain": [
       "\u001b[2;36m                   \u001b[0m\u001b[2;36m \u001b[0m\u001b[34mINFO    \u001b[0m Applying transformation:              \u001b]8;id=1625510911.2994761-906581;file:///n/data1/hms/dbmi/park/Cook/speclet/src/managers/model_data_managers.py\u001b\\\u001b[2mmodel_data_managers.py\u001b[0m\u001b]8;;\u001b\\\u001b[2m:118\u001b[0m\n",
       "                             \u001b[32m'_drop_missing_copynumber'\u001b[0m                                      \n"
      ]
     },
     "metadata": {},
     "output_type": "display_data"
    },
    {
     "data": {
      "text/html": [
       "<pre style=\"white-space:pre;overflow-x:auto;line-height:normal;font-family:Menlo,'DejaVu Sans Mono',consolas,'Courier New',monospace\"><span style=\"color: #7fbfbf; text-decoration-color: #7fbfbf\">                    </span><span style=\"color: #800000; text-decoration-color: #800000\">WARNING </span> Dropping <span style=\"color: #008080; text-decoration-color: #008080; font-weight: bold\">0</span> data points with missing   <a href=\"file:///n/data1/hms/dbmi/park/Cook/speclet/src/managers/model_data_managers.py\"><span style=\"color: #7f7f7f; text-decoration-color: #7f7f7f\">model_data_managers.py</span></a><span style=\"color: #7f7f7f; text-decoration-color: #7f7f7f\">:261</span>\n",
       "                             copy number.                                                    \n",
       "</pre>\n"
      ],
      "text/plain": [
       "\u001b[2;36m                   \u001b[0m\u001b[2;36m \u001b[0m\u001b[31mWARNING \u001b[0m Dropping \u001b[1;36m0\u001b[0m data points with missing   \u001b]8;id=1625510911.3058448-41986;file:///n/data1/hms/dbmi/park/Cook/speclet/src/managers/model_data_managers.py\u001b\\\u001b[2mmodel_data_managers.py\u001b[0m\u001b]8;;\u001b\\\u001b[2m:261\u001b[0m\n",
       "                             copy number.                                                    \n"
      ]
     },
     "metadata": {},
     "output_type": "display_data"
    },
    {
     "data": {
      "text/html": [
       "<pre style=\"white-space:pre;overflow-x:auto;line-height:normal;font-family:Menlo,'DejaVu Sans Mono',consolas,'Courier New',monospace\"><span style=\"color: #7fbfbf; text-decoration-color: #7fbfbf\">                    </span><span style=\"color: #000080; text-decoration-color: #000080\">INFO    </span> Getting Theano shared variables.             <a href=\"file:///n/data1/hms/dbmi/park/Cook/speclet/src/models/speclet_four.py\"><span style=\"color: #7f7f7f; text-decoration-color: #7f7f7f\">speclet_four.py</span></a><span style=\"color: #7f7f7f; text-decoration-color: #7f7f7f\">:193</span>\n",
       "</pre>\n"
      ],
      "text/plain": [
       "\u001b[2;36m                   \u001b[0m\u001b[2;36m \u001b[0m\u001b[34mINFO    \u001b[0m Getting Theano shared variables.             \u001b]8;id=1625510911.330864-440467;file:///n/data1/hms/dbmi/park/Cook/speclet/src/models/speclet_four.py\u001b\\\u001b[2mspeclet_four.py\u001b[0m\u001b]8;;\u001b\\\u001b[2m:193\u001b[0m\n"
      ]
     },
     "metadata": {},
     "output_type": "display_data"
    },
    {
     "data": {
      "text/html": [
       "<pre style=\"white-space:pre;overflow-x:auto;line-height:normal;font-family:Menlo,'DejaVu Sans Mono',consolas,'Courier New',monospace\"><span style=\"color: #7fbfbf; text-decoration-color: #7fbfbf\">                    </span><span style=\"color: #000080; text-decoration-color: #000080\">INFO    </span> Saving shared variables to dictionary.       <a href=\"file:///n/data1/hms/dbmi/park/Cook/speclet/src/models/speclet_four.py\"><span style=\"color: #7f7f7f; text-decoration-color: #7f7f7f\">speclet_four.py</span></a><span style=\"color: #7f7f7f; text-decoration-color: #7f7f7f\">:201</span>\n",
       "</pre>\n"
      ],
      "text/plain": [
       "\u001b[2;36m                   \u001b[0m\u001b[2;36m \u001b[0m\u001b[34mINFO    \u001b[0m Saving shared variables to dictionary.       \u001b]8;id=1625510911.334625-587064;file:///n/data1/hms/dbmi/park/Cook/speclet/src/models/speclet_four.py\u001b\\\u001b[2mspeclet_four.py\u001b[0m\u001b]8;;\u001b\\\u001b[2m:201\u001b[0m\n"
      ]
     },
     "metadata": {},
     "output_type": "display_data"
    },
    {
     "data": {
      "text/html": [
       "<pre style=\"white-space:pre;overflow-x:auto;line-height:normal;font-family:Menlo,'DejaVu Sans Mono',consolas,'Courier New',monospace\"><span style=\"color: #7fbfbf; text-decoration-color: #7fbfbf\">                    </span><span style=\"color: #000080; text-decoration-color: #000080\">INFO    </span> Creating PyMC3 model.                        <a href=\"file:///n/data1/hms/dbmi/park/Cook/speclet/src/models/speclet_four.py\"><span style=\"color: #7f7f7f; text-decoration-color: #7f7f7f\">speclet_four.py</span></a><span style=\"color: #7f7f7f; text-decoration-color: #7f7f7f\">:211</span>\n",
       "</pre>\n"
      ],
      "text/plain": [
       "\u001b[2;36m                   \u001b[0m\u001b[2;36m \u001b[0m\u001b[34mINFO    \u001b[0m Creating PyMC3 model.                        \u001b]8;id=1625510911.3373592-481447;file:///n/data1/hms/dbmi/park/Cook/speclet/src/models/speclet_four.py\u001b\\\u001b[2mspeclet_four.py\u001b[0m\u001b]8;;\u001b\\\u001b[2m:211\u001b[0m\n"
      ]
     },
     "metadata": {},
     "output_type": "display_data"
    }
   ],
   "source": [
    "from src.models import configuration\n",
    "\n",
    "speclet_model = configuration.get_config_and_instantiate_model(\n",
    "    path_prefix / CONFIG_PATH,\n",
    "    name=MODEL_NAME,\n",
    "    root_cache_dir=path_prefix / ROOT_CACHE_DIR,\n",
    ")\n",
    "\n",
    "speclet_model.build_model()"
   ]
  },
  {
   "cell_type": "code",
   "execution_count": 8,
   "metadata": {
    "papermill": {},
    "tags": []
   },
   "outputs": [
    {
     "data": {
      "text/html": [
       "<pre style=\"white-space:pre;overflow-x:auto;line-height:normal;font-family:Menlo,'DejaVu Sans Mono',consolas,'Courier New',monospace\"><span style=\"color: #7fbfbf; text-decoration-color: #7fbfbf\">[07/05/21 14:48:49] </span><span style=\"color: #000080; text-decoration-color: #000080\">INFO    </span> ArvizCacheManager: MCMC cache exists.      <a href=\"file:///n/data1/hms/dbmi/park/Cook/speclet/src/managers/cache_managers.py\"><span style=\"color: #7f7f7f; text-decoration-color: #7f7f7f\">cache_managers.py</span></a><span style=\"color: #7f7f7f; text-decoration-color: #7f7f7f\">:257</span>\n",
       "</pre>\n"
      ],
      "text/plain": [
       "\u001b[2;36m[07/05/21 14:48:49]\u001b[0m\u001b[2;36m \u001b[0m\u001b[34mINFO    \u001b[0m ArvizCacheManager: MCMC cache exists.      \u001b]8;id=1625510929.6161225-762658;file:///n/data1/hms/dbmi/park/Cook/speclet/src/managers/cache_managers.py\u001b\\\u001b[2mcache_managers.py\u001b[0m\u001b]8;;\u001b\\\u001b[2m:257\u001b[0m\n"
      ]
     },
     "metadata": {},
     "output_type": "display_data"
    },
    {
     "data": {
      "text/html": [
       "<pre style=\"white-space:pre;overflow-x:auto;line-height:normal;font-family:Menlo,'DejaVu Sans Mono',consolas,'Courier New',monospace\"><span style=\"color: #7fbfbf; text-decoration-color: #7fbfbf\">                    </span><span style=\"color: #000080; text-decoration-color: #000080\">INFO    </span> ArvizCacheManager: MCMC cache exists.      <a href=\"file:///n/data1/hms/dbmi/park/Cook/speclet/src/managers/cache_managers.py\"><span style=\"color: #7f7f7f; text-decoration-color: #7f7f7f\">cache_managers.py</span></a><span style=\"color: #7f7f7f; text-decoration-color: #7f7f7f\">:257</span>\n",
       "</pre>\n"
      ],
      "text/plain": [
       "\u001b[2;36m                   \u001b[0m\u001b[2;36m \u001b[0m\u001b[34mINFO    \u001b[0m ArvizCacheManager: MCMC cache exists.      \u001b]8;id=1625510929.6212828-996613;file:///n/data1/hms/dbmi/park/Cook/speclet/src/managers/cache_managers.py\u001b\\\u001b[2mcache_managers.py\u001b[0m\u001b]8;;\u001b\\\u001b[2m:257\u001b[0m\n"
      ]
     },
     "metadata": {},
     "output_type": "display_data"
    }
   ],
   "source": [
    "if FIT_METHOD == \"ADVI\":\n",
    "    model_az, advi_approx = speclet_model.load_advi_cache()\n",
    "else:\n",
    "    model_az = speclet_model.load_mcmc_cache()"
   ]
  },
  {
   "cell_type": "markdown",
   "metadata": {
    "papermill": {},
    "tags": []
   },
   "source": [
    "### Data"
   ]
  },
  {
   "cell_type": "code",
   "execution_count": null,
   "metadata": {
    "papermill": {},
    "tags": []
   },
   "outputs": [],
   "source": [
    "data = speclet_model.data_manager.get_data()\n",
    "data.head()"
   ]
  },
  {
   "cell_type": "markdown",
   "metadata": {
    "papermill": {},
    "tags": []
   },
   "source": [
    "### Cached model fit"
   ]
  },
  {
   "cell_type": "code",
   "execution_count": null,
   "metadata": {},
   "outputs": [],
   "source": [
    "print(speclet_model.model)"
   ]
  },
  {
   "cell_type": "code",
   "execution_count": null,
   "metadata": {
    "papermill": {},
    "tags": []
   },
   "outputs": [],
   "source": [
    "pm.model_to_graphviz(speclet_model.model)"
   ]
  },
  {
   "cell_type": "markdown",
   "metadata": {
    "papermill": {},
    "tags": []
   },
   "source": [
    "## Fit diagnostics"
   ]
  },
  {
   "cell_type": "code",
   "execution_count": null,
   "metadata": {
    "papermill": {},
    "tags": []
   },
   "outputs": [],
   "source": [
    "if FIT_METHOD == \"ADVI\":\n",
    "    pmanal.plot_vi_hist(advi_approx).draw()\n",
    "    plt.show()\n",
    "else:\n",
    "    print(\"R-HAT\")\n",
    "    print(az.rhat(model_az))\n",
    "    print(\"=\" * 60)\n",
    "    print(\"BFMI\")\n",
    "    print(az.bfmi(model_az))"
   ]
  },
  {
   "cell_type": "markdown",
   "metadata": {
    "papermill": {},
    "tags": []
   },
   "source": [
    "## Model parameters"
   ]
  },
  {
   "cell_type": "code",
   "execution_count": null,
   "metadata": {
    "papermill": {},
    "tags": []
   },
   "outputs": [],
   "source": [
    "def check_shape(trace: np.ndarray) -> np.ndarray:\n",
    "    if len(trace.shape) == 1:\n",
    "        return trace[:, None]\n",
    "    return trace\n",
    "\n",
    "\n",
    "def add_hdi(p: gg.ggplot, values: np.ndarray, color: str) -> gg.ggplot:\n",
    "    m = np.mean(values)\n",
    "    hdi = az.hdi(values, hdi_prob=0.89).flatten()\n",
    "    p = (\n",
    "        p\n",
    "        + gg.geom_vline(xintercept=m, color=color)\n",
    "        + gg.geom_vline(xintercept=hdi, color=color, linetype=\"--\")\n",
    "    )\n",
    "    return p\n",
    "\n",
    "\n",
    "def variable_distribution_plot(var, trace: np.ndarray, max_plot=20000) -> gg.ggplot:\n",
    "    trace = check_shape(trace)\n",
    "\n",
    "    # Sample 25% of the trace.\n",
    "    d = pd.DataFrame(trace).melt().assign(variable=lambda d: d.variable.astype(\"str\"))\n",
    "    d_summaries = d.groupby([\"variable\"])[\"value\"].mean().reset_index(drop=False)\n",
    "\n",
    "    if d.shape[0] > max_plot:\n",
    "        d = d.sample(n=max_plot)\n",
    "    else:\n",
    "        d = d.sample(frac=0.2)\n",
    "\n",
    "    p = (\n",
    "        gg.ggplot(d, gg.aes(x=\"value\"))\n",
    "        + gg.geom_density(alpha=0.1)\n",
    "        + gg.geom_vline(xintercept=0, color=\"black\", size=0.7, alpha=0.7, linetype=\"--\")\n",
    "        + gg.scale_x_continuous(expand=(0, 0))\n",
    "        + gg.scale_y_continuous(expand=(0, 0, 0.02, 0))\n",
    "        + gg.theme(legend_position=\"none\", figure_size=(6.5, 3))\n",
    "        + gg.labs(x=\"posterior\", y=\"density\", title=f\"Posterior distirbution of {var}\")\n",
    "    )\n",
    "\n",
    "    c = SeabornColor.BLUE\n",
    "\n",
    "    if len(d_summaries) > 1:\n",
    "        p = p + gg.geom_rug(\n",
    "            data=d_summaries, sides=\"b\", alpha=0.5, color=c, length=0.08\n",
    "        )\n",
    "    else:\n",
    "        p = add_hdi(p, trace.flatten(), color=c)\n",
    "\n",
    "    return p"
   ]
  },
  {
   "cell_type": "code",
   "execution_count": null,
   "metadata": {
    "papermill": {},
    "tags": []
   },
   "outputs": [],
   "source": [
    "ignore_vars = \"μ\"\n",
    "vars_to_inspect = model_az.posterior.keys()\n",
    "vars_to_inspect = [v for v in vars_to_inspect if not \"log\" in v]\n",
    "vars_to_inspect.sort()\n",
    "\n",
    "for var in vars_to_inspect:\n",
    "    trace = model_az.posterior[var]\n",
    "    if trace.shape[1] == data.shape[0]:\n",
    "        # Do not plot the final deterministic mean (usually \"μ\").\n",
    "        continue\n",
    "    try:\n",
    "        print(variable_distribution_plot(var, model_az.posterior[var].values.flatten()))\n",
    "    except Exception as err:\n",
    "        print(f\"Skipping variable '{var}'.\")\n",
    "        print(err)"
   ]
  },
  {
   "cell_type": "code",
   "execution_count": null,
   "metadata": {},
   "outputs": [],
   "source": [
    "if isinstance(speclet_model, SpecletTestModel):\n",
    "    raise KeyboardInterrupt()"
   ]
  },
  {
   "cell_type": "markdown",
   "metadata": {
    "papermill": {},
    "tags": []
   },
   "source": [
    "## Model predictions"
   ]
  },
  {
   "cell_type": "code",
   "execution_count": null,
   "metadata": {
    "papermill": {},
    "tags": []
   },
   "outputs": [],
   "source": [
    "predictions = model_az.posterior_predictive\n",
    "pred_summary = pmanal.summarize_posterior_predictions(\n",
    "    predictions[\"lfc\"].values,\n",
    "    merge_with=data,\n",
    "    calc_error=True,\n",
    "    observed_y=\"lfc\",\n",
    ")\n",
    "pred_summary.head()"
   ]
  },
  {
   "cell_type": "code",
   "execution_count": null,
   "metadata": {
    "papermill": {},
    "tags": []
   },
   "outputs": [],
   "source": [
    "try:\n",
    "    az.plot_loo_pit(model_az, y=\"lfc\")\n",
    "except Exception as e:\n",
    "    print(e)"
   ]
  },
  {
   "cell_type": "code",
   "execution_count": null,
   "metadata": {
    "papermill": {},
    "tags": []
   },
   "outputs": [],
   "source": [
    "model_loo = az.loo(model_az, pointwise=True)\n",
    "print(model_loo)"
   ]
  },
  {
   "cell_type": "code",
   "execution_count": null,
   "metadata": {
    "papermill": {},
    "tags": []
   },
   "outputs": [],
   "source": [
    "sns.distplot(model_loo.loo_i.values);"
   ]
  },
  {
   "cell_type": "code",
   "execution_count": null,
   "metadata": {
    "papermill": {},
    "tags": []
   },
   "outputs": [],
   "source": [
    "pred_summary[\"loo\"] = model_loo.loo_i.values"
   ]
  },
  {
   "cell_type": "code",
   "execution_count": null,
   "metadata": {
    "papermill": {},
    "tags": []
   },
   "outputs": [],
   "source": [
    "(\n",
    "    gg.ggplot(pred_summary, gg.aes(x=\"lfc\", y=\"pred_mean\"))\n",
    "    + gg.geom_hline(yintercept=0, size=0.5, alpha=0.7)\n",
    "    + gg.geom_vline(xintercept=0, size=0.5, alpha=0.7)\n",
    "    + gg.geom_point(size=0.1, alpha=0.2)\n",
    "    + gg.geom_abline(slope=1, intercept=0, size=1, alpha=0.7, color=\"grey\")\n",
    "    + gg.geom_smooth(method=\"glm\", color=SeabornColor.RED, size=1, alpha=0.7, se=False)\n",
    "    + gg.labs(x=\"observed LFC\", y=\"prediticed LFC (posterior avg.)\")\n",
    ")"
   ]
  },
  {
   "cell_type": "code",
   "execution_count": null,
   "metadata": {
    "papermill": {},
    "tags": []
   },
   "outputs": [],
   "source": [
    "(\n",
    "    gg.ggplot(pred_summary, gg.aes(x=\"lfc\", y=\"loo\"))\n",
    "    + gg.geom_point(gg.aes(color=\"np.abs(error)\"), alpha=0.5)\n",
    "    + gg.scale_color_gradient(low=\"grey\", high=\"red\")\n",
    "    + gg.theme()\n",
    "    + gg.labs(x=\"observed LFC\", y=\"LOO\", color=\"abs(error)\")\n",
    ")"
   ]
  },
  {
   "cell_type": "code",
   "execution_count": null,
   "metadata": {
    "papermill": {},
    "tags": []
   },
   "outputs": [],
   "source": [
    "(\n",
    "    gg.ggplot(pred_summary, gg.aes(x=\"np.abs(error)\", y=\"loo\"))\n",
    "    + gg.geom_point(gg.aes(color=\"lfc\"), alpha=0.5)\n",
    "    + gg.labs(x=\"abs(error)\", y=\"loo\", color=\"LFC\")\n",
    ")"
   ]
  },
  {
   "cell_type": "code",
   "execution_count": null,
   "metadata": {
    "papermill": {},
    "tags": []
   },
   "outputs": [],
   "source": [
    "(\n",
    "    gg.ggplot(pred_summary, gg.aes(x=\"lfc\", y=\"error\"))\n",
    "    + gg.geom_hline(yintercept=0, size=0.5, alpha=0.7)\n",
    "    + gg.geom_vline(xintercept=0, size=0.5, alpha=0.7)\n",
    "    + gg.geom_point(size=0.1, alpha=0.2)\n",
    "    + gg.labs(x=\"observed LFC\", y=\"prediction error\")\n",
    ")"
   ]
  },
  {
   "cell_type": "code",
   "execution_count": null,
   "metadata": {
    "papermill": {},
    "tags": []
   },
   "outputs": [],
   "source": [
    "(\n",
    "    gg.ggplot(pred_summary, gg.aes(x=\"hugo_symbol\", y=\"loo\"))\n",
    "    + gg.geom_point(alpha=0.2, size=0.7)\n",
    "    + gg.geom_boxplot(outlier_alpha=0, alpha=0.4)\n",
    "    + gg.theme(axis_text_x=gg.element_blank(), axis_ticks_major_x=gg.element_blank())\n",
    "    + gg.labs(x=\"genes\", y=\"LOO\")\n",
    ")"
   ]
  },
  {
   "cell_type": "code",
   "execution_count": null,
   "metadata": {
    "papermill": {},
    "tags": []
   },
   "outputs": [],
   "source": [
    "(\n",
    "    gg.ggplot(pred_summary, gg.aes(x=\"depmap_id\", y=\"loo\"))\n",
    "    + gg.geom_jitter(width=0.2, alpha=0.3, size=0.7)\n",
    "    + gg.geom_boxplot(outlier_alpha=0, alpha=0.4)\n",
    "    + gg.theme(\n",
    "        axis_text_x=gg.element_text(angle=90, size=8),\n",
    "    )\n",
    "    + gg.labs(x=\"cell lines\", y=\"LOO\")\n",
    ")"
   ]
  },
  {
   "cell_type": "code",
   "execution_count": null,
   "metadata": {
    "papermill": {},
    "tags": []
   },
   "outputs": [],
   "source": [
    "# Remove samples without gene CN data.\n",
    "ppc_df_no_missing = pred_summary.copy()[~pred_summary[\"copy_number\"].isna()]\n",
    "ppc_df_no_missing[\"binned_copy_number\"] = [\n",
    "    np.min([round(x), 10]) for x in ppc_df_no_missing[\"copy_number\"]\n",
    "]\n",
    "\n",
    "(\n",
    "    gg.ggplot(ppc_df_no_missing, gg.aes(x=\"factor(binned_copy_number)\", y=\"loo\"))\n",
    "    + gg.geom_jitter(size=0.6, alpha=0.5, width=0.3)\n",
    "    + gg.geom_boxplot(outlier_alpha=0, alpha=0.8)\n",
    "    + gg.labs(x=\"gene copy number (max. 10)\", y=\"LOO\")\n",
    ")"
   ]
  },
  {
   "cell_type": "code",
   "execution_count": null,
   "metadata": {
    "papermill": {},
    "tags": []
   },
   "outputs": [],
   "source": [
    "gene_error = (\n",
    "    pred_summary.groupby([\"hugo_symbol\"])[\"error\"]\n",
    "    .agg([np.mean, np.std])\n",
    "    .reset_index(drop=False)\n",
    "    .sort_values([\"mean\"])\n",
    "    .reset_index(drop=True)\n",
    "    .assign(\n",
    "        hugo_symbol=lambda d: pd.Categorical(\n",
    "            d.hugo_symbol.astype(str),\n",
    "            categories=d.hugo_symbol.astype(str),\n",
    "            ordered=True,\n",
    "        )\n",
    "    )\n",
    ")\n",
    "\n",
    "n_genes = 15\n",
    "\n",
    "(\n",
    "    gg.ggplot(\n",
    "        gene_error.iloc[list(range(n_genes)) + list(range(-n_genes, -1))],\n",
    "        gg.aes(x=\"hugo_symbol\", y=\"mean\"),\n",
    "    )\n",
    "    + gg.geom_col()\n",
    "    + gg.theme(axis_text_x=gg.element_text(angle=90))\n",
    "    + gg.labs(x=\"gene\", y=\"error\", title=\"Genes with the highest average error\")\n",
    ")"
   ]
  },
  {
   "cell_type": "code",
   "execution_count": null,
   "metadata": {
    "papermill": {},
    "tags": []
   },
   "outputs": [],
   "source": [
    "(\n",
    "    gg.ggplot(pred_summary, gg.aes(x=\"copy_number\", y=\"error\"))\n",
    "    + gg.geom_hline(yintercept=0, size=0.5, alpha=0.7, linetype=\"--\")\n",
    "    + gg.geom_vline(xintercept=0, size=0.5, alpha=0.7, linetype=\"--\")\n",
    "    + gg.geom_point(size=0.1, alpha=0.2)\n",
    "    + gg.labs(x=\"gene copy number\", y=\"predition error\")\n",
    ")"
   ]
  },
  {
   "cell_type": "markdown",
   "metadata": {
    "papermill": {},
    "tags": []
   },
   "source": [
    "---"
   ]
  },
  {
   "cell_type": "code",
   "execution_count": null,
   "metadata": {
    "papermill": {},
    "tags": []
   },
   "outputs": [],
   "source": [
    "notebook_toc = time()\n",
    "print(f\"execution time: {(notebook_toc - notebook_tic) / 60:.2f} minutes\")"
   ]
  },
  {
   "cell_type": "code",
   "execution_count": null,
   "metadata": {
    "papermill": {},
    "tags": []
   },
   "outputs": [],
   "source": [
    "%load_ext watermark\n",
    "%watermark -d -u -v -iv -b -h -m"
   ]
  }
 ],
 "metadata": {
  "kernelspec": {
   "display_name": "Python 3",
   "language": "python",
   "name": "python3"
  },
  "language_info": {
   "codemirror_mode": {
    "name": "ipython",
    "version": 3
   },
   "file_extension": ".py",
   "mimetype": "text/x-python",
   "name": "python",
   "nbconvert_exporter": "python",
   "pygments_lexer": "ipython3",
   "version": "3.9.2"
  }
 },
 "nbformat": 4,
 "nbformat_minor": 4
}
