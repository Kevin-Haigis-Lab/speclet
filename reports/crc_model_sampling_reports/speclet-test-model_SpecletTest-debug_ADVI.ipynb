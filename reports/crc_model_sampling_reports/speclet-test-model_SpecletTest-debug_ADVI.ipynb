{
 "cells": [
  {
   "cell_type": "markdown",
   "id": "coral-dispatch",
   "metadata": {
    "papermill": {},
    "tags": []
   },
   "source": [
    "# Model Report"
   ]
  },
  {
   "cell_type": "code",
   "execution_count": null,
   "id": "fabulous-architecture",
   "metadata": {
    "papermill": {},
    "tags": []
   },
   "outputs": [],
   "source": [
    "import warnings\n",
    "from pathlib import Path\n",
    "from time import time\n",
    "\n",
    "import arviz as az\n",
    "import matplotlib.pyplot as plt\n",
    "import numpy as np\n",
    "import pandas as pd\n",
    "import plotnine as gg\n",
    "import pymc3 as pm\n",
    "import seaborn as sns\n",
    "\n",
    "from src.command_line_interfaces import sampling_pymc3_models_cli as sampling\n",
    "from src.data_processing import common as dphelp\n",
    "from src.modeling import pymc3_analysis as pmanal\n",
    "from src.modeling import pymc3_sampling_api as pmapi\n",
    "from src.plot.color_pal import SeabornColor\n",
    "\n",
    "notebook_tic = time()\n",
    "\n",
    "warnings.simplefilter(action=\"ignore\", category=UserWarning)\n",
    "\n",
    "gg.theme_set(gg.theme_classic())\n",
    "%config InlineBackend.figure_format = \"retina\"\n",
    "\n",
    "RANDOM_SEED = 847\n",
    "np.random.seed(RANDOM_SEED)"
   ]
  },
  {
   "cell_type": "markdown",
   "id": "metric-cutting",
   "metadata": {
    "papermill": {},
    "tags": []
   },
   "source": [
    "Parameters for papermill:\n",
    "\n",
    "- `MODEL`: which model was tested\n",
    "- `MODEL_NAME`: name of the model\n",
    "- `DEBUG`: if in debug mode or not\n",
    "- `FIT_METHOD`: method used to fit the model; either \"ADVI\" or \"MCMC\""
   ]
  },
  {
   "cell_type": "markdown",
   "id": "backed-selling",
   "metadata": {
    "papermill": {},
    "tags": []
   },
   "source": [
    "## Setup"
   ]
  },
  {
   "cell_type": "markdown",
   "id": "coastal-textbook",
   "metadata": {
    "papermill": {},
    "tags": []
   },
   "source": [
    "### Papermill parameters"
   ]
  },
  {
   "cell_type": "code",
   "execution_count": null,
   "id": "vocal-updating",
   "metadata": {
    "papermill": {},
    "tags": [
     "parameters"
    ]
   },
   "outputs": [],
   "source": [
    "MODEL = \"\"\n",
    "MODEL_NAME = \"\"\n",
    "DEBUG = True\n",
    "FIT_METHOD = \"\""
   ]
  },
  {
   "cell_type": "code",
   "execution_count": null,
   "id": "continued-rugby",
   "metadata": {
    "tags": [
     "injected-parameters"
    ]
   },
   "outputs": [],
   "source": [
    "# Parameters\n",
    "MODEL = \"speclet-test-model\"\n",
    "MODEL_NAME = \"SpecletTest-debug\"\n",
    "DEBUG = True\n",
    "FIT_METHOD = \"ADVI\""
   ]
  },
  {
   "cell_type": "code",
   "execution_count": null,
   "id": "historical-consideration",
   "metadata": {
    "papermill": {},
    "tags": []
   },
   "outputs": [],
   "source": [
    "assert FIT_METHOD in [\"ADVI\", \"MCMC\"]"
   ]
  },
  {
   "cell_type": "code",
   "execution_count": null,
   "id": "disabled-dealing",
   "metadata": {
    "papermill": {},
    "tags": []
   },
   "outputs": [],
   "source": [
    "speclet_model = sampling.sample_speclet_model(\n",
    "    MODEL,\n",
    "    name=MODEL_NAME,\n",
    "    fit_method=FIT_METHOD,\n",
    "    debug=DEBUG,\n",
    "    random_seed=RANDOM_SEED,\n",
    "    touch=False,\n",
    ")"
   ]
  },
  {
   "cell_type": "code",
   "execution_count": null,
   "id": "personal-credit",
   "metadata": {
    "papermill": {},
    "tags": []
   },
   "outputs": [],
   "source": [
    "model_res = (\n",
    "    speclet_model.advi_results if FIT_METHOD == \"ADVI\" else speclet_model.mcmc_results\n",
    ")"
   ]
  },
  {
   "cell_type": "markdown",
   "id": "sized-athletics",
   "metadata": {
    "papermill": {},
    "tags": []
   },
   "source": [
    "### Data"
   ]
  },
  {
   "cell_type": "code",
   "execution_count": null,
   "id": "tender-multiple",
   "metadata": {
    "papermill": {},
    "tags": []
   },
   "outputs": [],
   "source": [
    "data = speclet_model.data_manager.get_data()\n",
    "data.head()"
   ]
  },
  {
   "cell_type": "markdown",
   "id": "described-nightlife",
   "metadata": {
    "papermill": {},
    "tags": []
   },
   "source": [
    "### Cached model fit"
   ]
  },
  {
   "cell_type": "code",
   "execution_count": null,
   "id": "boxed-fossil",
   "metadata": {
    "papermill": {},
    "tags": []
   },
   "outputs": [],
   "source": [
    "model_az = pmapi.convert_samples_to_arviz(model=speclet_model.model, res=model_res)"
   ]
  },
  {
   "cell_type": "code",
   "execution_count": null,
   "id": "russian-accordance",
   "metadata": {
    "papermill": {},
    "tags": []
   },
   "outputs": [],
   "source": [
    "pm.model_to_graphviz(speclet_model.model)"
   ]
  },
  {
   "cell_type": "markdown",
   "id": "endangered-operation",
   "metadata": {
    "papermill": {},
    "tags": []
   },
   "source": [
    "## Fit diagnostics"
   ]
  },
  {
   "cell_type": "code",
   "execution_count": null,
   "id": "dated-bahamas",
   "metadata": {
    "papermill": {},
    "tags": []
   },
   "outputs": [],
   "source": [
    "if FIT_METHOD == \"ADVI\":\n",
    "    pmanal.plot_vi_hist(model_res.approximation)\n",
    "    plt.show()\n",
    "else:\n",
    "    print(\"R-HAT\")\n",
    "    print(az.rhat(model_az))\n",
    "    print(\"=\" * 60)\n",
    "    print(\"BFMI\")\n",
    "    print(az.bfmi(model_az))"
   ]
  },
  {
   "cell_type": "markdown",
   "id": "referenced-balloon",
   "metadata": {
    "papermill": {},
    "tags": []
   },
   "source": [
    "## Model parameters"
   ]
  },
  {
   "cell_type": "code",
   "execution_count": null,
   "id": "according-appointment",
   "metadata": {
    "papermill": {},
    "tags": []
   },
   "outputs": [],
   "source": [
    "def check_shape(trace: np.ndarray) -> np.ndarray:\n",
    "    if len(trace.shape) == 1:\n",
    "        return trace[:, None]\n",
    "    return trace\n",
    "\n",
    "\n",
    "def add_hdi(p: gg.ggplot, values: np.ndarray, color: str) -> gg.ggplot:\n",
    "    m = np.mean(values)\n",
    "    hdi = az.hdi(values, hdi_prob=0.89).flatten()\n",
    "    p = (\n",
    "        p\n",
    "        + gg.geom_vline(xintercept=m, color=color)\n",
    "        + gg.geom_vline(xintercept=hdi, color=color, linetype=\"--\")\n",
    "    )\n",
    "    return p\n",
    "\n",
    "\n",
    "def variable_distribution_plot(var, trace: np.ndarray, max_plot=20000) -> gg.ggplot:\n",
    "    trace = check_shape(trace)\n",
    "\n",
    "    # Sample 25% of the trace.\n",
    "    d = pd.DataFrame(trace).melt().assign(variable=lambda d: d.variable.astype(\"str\"))\n",
    "    d_summaries = d.groupby([\"variable\"])[\"value\"].mean().reset_index(drop=False)\n",
    "\n",
    "    if d.shape[0] > max_plot:\n",
    "        d = d.sample(n=max_plot)\n",
    "    else:\n",
    "        d = d.sample(frac=0.2)\n",
    "\n",
    "    p = (\n",
    "        gg.ggplot(d, gg.aes(x=\"value\"))\n",
    "        + gg.geom_density(alpha=0.1)\n",
    "        + gg.geom_vline(xintercept=0, color=\"black\", size=0.7, alpha=0.7, linetype=\"--\")\n",
    "        + gg.scale_x_continuous(expand=(0, 0))\n",
    "        + gg.scale_y_continuous(expand=(0, 0, 0.02, 0))\n",
    "        + gg.theme(legend_position=\"none\", figure_size=(6.5, 3))\n",
    "        + gg.labs(x=\"posterior\", y=\"density\", title=f\"Posterior distirbution of {var}\")\n",
    "    )\n",
    "\n",
    "    c = SeabornColor.blue\n",
    "\n",
    "    if len(d_summaries) > 1:\n",
    "        p = p + gg.geom_rug(\n",
    "            data=d_summaries, sides=\"b\", alpha=0.5, color=c, length=0.08\n",
    "        )\n",
    "    else:\n",
    "        p = add_hdi(p, trace.flatten(), color=c)\n",
    "\n",
    "    return p"
   ]
  },
  {
   "cell_type": "code",
   "execution_count": null,
   "id": "built-david",
   "metadata": {
    "papermill": {},
    "tags": []
   },
   "outputs": [],
   "source": [
    "vars_to_inspect = model_res.trace.varnames\n",
    "vars_to_inspect = [v for v in vars_to_inspect if not \"log\" in v]\n",
    "vars_to_inspect.sort()\n",
    "\n",
    "for var in vars_to_inspect:\n",
    "    trace = model_res.trace[var]\n",
    "    if len(trace.shape) > 1 and trace.shape[1] == data.shape[0]:\n",
    "        # Do not plot the final deterministic mean (usually \"μ\").\n",
    "        continue\n",
    "    try:\n",
    "        print(variable_distribution_plot(var, model_res.trace[var]))\n",
    "    except Exception as err:\n",
    "        print(f\"Skipping variable '{var}'.\")\n",
    "        print(err)"
   ]
  },
  {
   "cell_type": "markdown",
   "id": "manual-marshall",
   "metadata": {
    "papermill": {},
    "tags": []
   },
   "source": [
    "## Model predicitons"
   ]
  },
  {
   "cell_type": "code",
   "execution_count": null,
   "id": "existing-digest",
   "metadata": {
    "papermill": {},
    "tags": []
   },
   "outputs": [],
   "source": [
    "predictions = model_res.posterior_predictive\n",
    "pred_summary = pmanal.summarize_posterior_predictions(\n",
    "    predictions[\"lfc\"],\n",
    "    merge_with=data,\n",
    "    calc_error=True,\n",
    "    observed_y=\"lfc\",\n",
    ")\n",
    "pred_summary.head()"
   ]
  },
  {
   "cell_type": "code",
   "execution_count": null,
   "id": "acquired-sewing",
   "metadata": {
    "papermill": {},
    "tags": []
   },
   "outputs": [],
   "source": [
    "try:\n",
    "    az.plot_loo_pit(model_az, y=\"lfc\")\n",
    "except Exception as e:\n",
    "    print(e)"
   ]
  },
  {
   "cell_type": "code",
   "execution_count": null,
   "id": "irish-major",
   "metadata": {
    "papermill": {},
    "tags": []
   },
   "outputs": [],
   "source": [
    "model_loo = az.loo(model_az, pointwise=True)\n",
    "print(model_loo)"
   ]
  },
  {
   "cell_type": "code",
   "execution_count": null,
   "id": "blocked-planning",
   "metadata": {
    "papermill": {},
    "tags": []
   },
   "outputs": [],
   "source": [
    "sns.distplot(model_loo.loo_i.values);"
   ]
  },
  {
   "cell_type": "code",
   "execution_count": null,
   "id": "republican-running",
   "metadata": {
    "papermill": {},
    "tags": []
   },
   "outputs": [],
   "source": [
    "pred_summary[\"loo\"] = model_loo.loo_i.values"
   ]
  },
  {
   "cell_type": "code",
   "execution_count": null,
   "id": "protective-walnut",
   "metadata": {
    "papermill": {},
    "tags": []
   },
   "outputs": [],
   "source": [
    "(\n",
    "    gg.ggplot(pred_summary, gg.aes(x=\"lfc\", y=\"pred_mean\"))\n",
    "    + gg.geom_hline(yintercept=0, size=0.5, alpha=0.7)\n",
    "    + gg.geom_vline(xintercept=0, size=0.5, alpha=0.7)\n",
    "    + gg.geom_point(size=0.1, alpha=0.2)\n",
    "    + gg.geom_abline(slope=1, intercept=0, size=1, alpha=0.7, color=\"grey\")\n",
    "    + gg.geom_smooth(method=\"glm\", color=SeabornColor.red, size=1, alpha=0.7, se=False)\n",
    "    + gg.labs(x=\"observed LFC\", y=\"prediticed LFC (posterior avg.)\")\n",
    ")"
   ]
  },
  {
   "cell_type": "code",
   "execution_count": null,
   "id": "artistic-estimate",
   "metadata": {
    "papermill": {},
    "tags": []
   },
   "outputs": [],
   "source": [
    "(\n",
    "    gg.ggplot(pred_summary, gg.aes(x=\"lfc\", y=\"loo\"))\n",
    "    + gg.geom_point(gg.aes(color=\"np.abs(error)\"), alpha=0.5)\n",
    "    + gg.scale_color_gradient(low=\"grey\", high=\"red\")\n",
    "    + gg.theme()\n",
    "    + gg.labs(x=\"observed LFC\", y=\"LOO\", color=\"abs(error)\")\n",
    ")"
   ]
  },
  {
   "cell_type": "code",
   "execution_count": null,
   "id": "solar-movement",
   "metadata": {
    "papermill": {},
    "tags": []
   },
   "outputs": [],
   "source": [
    "(\n",
    "    gg.ggplot(pred_summary, gg.aes(x=\"np.abs(error)\", y=\"loo\"))\n",
    "    + gg.geom_point(gg.aes(color=\"lfc\"), alpha=0.5)\n",
    "    + gg.labs(x=\"abs(error)\", y=\"loo\", color=\"LFC\")\n",
    ")"
   ]
  },
  {
   "cell_type": "code",
   "execution_count": null,
   "id": "finnish-prophet",
   "metadata": {
    "papermill": {},
    "tags": []
   },
   "outputs": [],
   "source": [
    "(\n",
    "    gg.ggplot(pred_summary, gg.aes(x=\"lfc\", y=\"error\"))\n",
    "    + gg.geom_hline(yintercept=0, size=0.5, alpha=0.7)\n",
    "    + gg.geom_vline(xintercept=0, size=0.5, alpha=0.7)\n",
    "    + gg.geom_point(size=0.1, alpha=0.2)\n",
    "    + gg.labs(x=\"observed LFC\", y=\"prediction error\")\n",
    ")"
   ]
  },
  {
   "cell_type": "code",
   "execution_count": null,
   "id": "expired-chosen",
   "metadata": {
    "papermill": {},
    "tags": []
   },
   "outputs": [],
   "source": [
    "(\n",
    "    gg.ggplot(pred_summary, gg.aes(x=\"hugo_symbol\", y=\"loo\"))\n",
    "    + gg.geom_point(alpha=0.2, size=0.7)\n",
    "    + gg.geom_boxplot(outlier_alpha=0, alpha=0.4)\n",
    "    + gg.theme(axis_text_x=gg.element_blank(), axis_ticks_major_x=gg.element_blank())\n",
    "    + gg.labs(x=\"genes\", y=\"LOO\")\n",
    ")"
   ]
  },
  {
   "cell_type": "code",
   "execution_count": null,
   "id": "recent-minute",
   "metadata": {
    "papermill": {},
    "tags": []
   },
   "outputs": [],
   "source": [
    "(\n",
    "    gg.ggplot(pred_summary, gg.aes(x=\"depmap_id\", y=\"loo\"))\n",
    "    + gg.geom_jitter(width=0.2, alpha=0.3, size=0.7)\n",
    "    + gg.geom_boxplot(outlier_alpha=0, alpha=0.4)\n",
    "    + gg.theme(\n",
    "        axis_text_x=gg.element_text(angle=90, size=8),\n",
    "    )\n",
    "    + gg.labs(x=\"cell lines\", y=\"LOO\")\n",
    ")"
   ]
  },
  {
   "cell_type": "code",
   "execution_count": null,
   "id": "great-blackberry",
   "metadata": {
    "papermill": {},
    "tags": []
   },
   "outputs": [],
   "source": [
    "# Remove samples without gene CN data.\n",
    "ppc_df_no_missing = pred_summary.copy()[~pred_summary.gene_cn.isna()]\n",
    "ppc_df_no_missing[\"binned_gene_cn\"] = [\n",
    "    np.min([round(x), 10]) for x in ppc_df_no_missing.gene_cn\n",
    "]\n",
    "\n",
    "(\n",
    "    gg.ggplot(ppc_df_no_missing, gg.aes(x=\"factor(binned_gene_cn)\", y=\"loo\"))\n",
    "    + gg.geom_jitter(size=0.6, alpha=0.5, width=0.3)\n",
    "    + gg.geom_boxplot(outlier_alpha=0, alpha=0.8)\n",
    "    + gg.labs(x=\"gene copy number (max. 10)\", y=\"LOO\")\n",
    ")"
   ]
  },
  {
   "cell_type": "code",
   "execution_count": null,
   "id": "swedish-stock",
   "metadata": {
    "papermill": {},
    "tags": []
   },
   "outputs": [],
   "source": [
    "gene_error = (\n",
    "    pred_summary.groupby([\"hugo_symbol\"])[\"error\"]\n",
    "    .agg([np.mean, np.std])\n",
    "    .reset_index(drop=False)\n",
    "    .sort_values([\"mean\"])\n",
    "    .reset_index(drop=True)\n",
    "    .assign(\n",
    "        hugo_symbol=lambda d: pd.Categorical(\n",
    "            d.hugo_symbol.astype(str),\n",
    "            categories=d.hugo_symbol.astype(str),\n",
    "            ordered=True,\n",
    "        )\n",
    "    )\n",
    ")\n",
    "\n",
    "n_genes = 15\n",
    "\n",
    "(\n",
    "    gg.ggplot(\n",
    "        gene_error.iloc[list(range(n_genes)) + list(range(-n_genes, -1))],\n",
    "        gg.aes(x=\"hugo_symbol\", y=\"mean\"),\n",
    "    )\n",
    "    + gg.geom_col()\n",
    "    + gg.theme(axis_text_x=gg.element_text(angle=90))\n",
    "    + gg.labs(x=\"gene\", y=\"error\", title=\"Genes with the highest average error\")\n",
    ")"
   ]
  },
  {
   "cell_type": "code",
   "execution_count": null,
   "id": "tamil-nickel",
   "metadata": {
    "papermill": {},
    "tags": []
   },
   "outputs": [],
   "source": [
    "(\n",
    "    gg.ggplot(pred_summary, gg.aes(x=\"log2_cn\", y=\"error\"))\n",
    "    + gg.geom_hline(yintercept=0, size=0.5, alpha=0.7, linetype=\"--\")\n",
    "    + gg.geom_vline(xintercept=0, size=0.5, alpha=0.7, linetype=\"--\")\n",
    "    + gg.geom_point(size=0.1, alpha=0.2)\n",
    "    + gg.labs(x=\"gene copy number (log2)\", y=\"predition error\")\n",
    ")"
   ]
  },
  {
   "cell_type": "markdown",
   "id": "orange-drain",
   "metadata": {
    "papermill": {},
    "tags": []
   },
   "source": [
    "---"
   ]
  },
  {
   "cell_type": "code",
   "execution_count": null,
   "id": "thirty-turkish",
   "metadata": {
    "papermill": {},
    "tags": []
   },
   "outputs": [],
   "source": [
    "notebook_toc = time()\n",
    "print(f\"execution time: {(notebook_toc - notebook_tic) / 60:.2f} minutes\")"
   ]
  },
  {
   "cell_type": "code",
   "execution_count": null,
   "id": "judicial-representative",
   "metadata": {
    "papermill": {},
    "tags": []
   },
   "outputs": [],
   "source": [
    "%load_ext watermark\n",
    "%watermark -d -u -v -iv -b -h -m"
   ]
  }
 ],
 "metadata": {
  "kernelspec": {
   "display_name": "Python 3",
   "language": "python",
   "name": "python3"
  },
  "language_info": {
   "codemirror_mode": {
    "name": "ipython",
    "version": 3
   },
   "file_extension": ".py",
   "mimetype": "text/x-python",
   "name": "python",
   "nbconvert_exporter": "python",
   "pygments_lexer": "ipython3",
   "version": "3.9.2"
  },
  "papermill": {
   "default_parameters": {},
   "environment_variables": {},
   "input_path": "reports/crc_model_sampling_reports/model-report-template.ipynb",
   "output_path": "reports/crc_model_sampling_reports/speclet-test-model_SpecletTest-debug_ADVI.ipynb",
   "parameters": {
    "DEBUG": true,
    "FIT_METHOD": "ADVI",
    "MODEL": "speclet-test-model",
    "MODEL_NAME": "SpecletTest-debug"
   },
   "version": "2.3.3"
  }
 },
 "nbformat": 4,
 "nbformat_minor": 5
}
