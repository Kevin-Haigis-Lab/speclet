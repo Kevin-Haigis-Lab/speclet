{
 "cells": [
  {
   "cell_type": "markdown",
   "id": "veterinary-international",
   "metadata": {
    "papermill": {},
    "tags": []
   },
   "source": [
    "# Model Report"
   ]
  },
  {
   "cell_type": "code",
   "execution_count": 1,
   "id": "aggregate-swaziland",
   "metadata": {
    "execution": {
     "iopub.execute_input": "2021-04-06T12:53:49.615760Z",
     "iopub.status.busy": "2021-04-06T12:53:49.615082Z",
     "iopub.status.idle": "2021-04-06T12:54:36.334890Z",
     "shell.execute_reply": "2021-04-06T12:54:36.335520Z"
    },
    "papermill": {},
    "tags": []
   },
   "outputs": [],
   "source": [
    "import re\n",
    "import warnings\n",
    "from pathlib import Path\n",
    "from time import time\n",
    "from typing import Dict, List\n",
    "\n",
    "import arviz as az\n",
    "import matplotlib.pyplot as plt\n",
    "import numpy as np\n",
    "import pandas as pd\n",
    "import plotnine as gg\n",
    "import pymc3 as pm\n",
    "import seaborn as sns\n",
    "from src.command_line_interfaces import simulation_based_calibration_cli as sbc_cli\n",
    "from src.context_managers import set_directory\n",
    "from src.data_processing import common as dphelp\n",
    "from src.modeling import pymc3_analysis as pmanal\n",
    "from src.modeling import pymc3_sampling_api as pmapi\n",
    "from src.modeling import sampling_pymc3_models as sampling\n",
    "from src.modeling.sampling_pymc3_models import SamplingArguments\n",
    "from src.modeling.simulation_based_calibration_helpers import SBCFileManager\n",
    "from src.plot.color_pal import SeabornColor\n",
    "\n",
    "notebook_tic = time()\n",
    "\n",
    "warnings.simplefilter(action=\"ignore\", category=UserWarning)\n",
    "\n",
    "gg.theme_set(gg.theme_classic())\n",
    "%config InlineBackend.figure_format = \"retina\"\n",
    "\n",
    "RANDOM_SEED = 847\n",
    "np.random.seed(RANDOM_SEED)\n",
    "\n",
    "pymc3_cache_dir = Path(\"..\", \"models\", \"modeling_cache\", \"pymc3_model_cache\")"
   ]
  },
  {
   "cell_type": "markdown",
   "id": "bright-pledge",
   "metadata": {
    "papermill": {},
    "tags": []
   },
   "source": [
    "Parameters for papermill:\n",
    "\n",
    "- `MODEL`: which model was tested\n",
    "- `SBC_RESULTS_DIR`: directory containing results of many rounds of SBC\n",
    "- `NUM_SIMULATIONS`: the number of simiulations; will be used to check that all results are found"
   ]
  },
  {
   "cell_type": "markdown",
   "id": "divine-siemens",
   "metadata": {
    "papermill": {},
    "tags": []
   },
   "source": [
    "## Setup"
   ]
  },
  {
   "cell_type": "markdown",
   "id": "rental-terrain",
   "metadata": {
    "papermill": {},
    "tags": []
   },
   "source": [
    "### Papermill parameters"
   ]
  },
  {
   "cell_type": "code",
   "execution_count": 2,
   "id": "driving-sullivan",
   "metadata": {
    "execution": {
     "iopub.execute_input": "2021-04-06T12:54:36.339243Z",
     "iopub.status.busy": "2021-04-06T12:54:36.338697Z",
     "iopub.status.idle": "2021-04-06T12:54:36.342224Z",
     "shell.execute_reply": "2021-04-06T12:54:36.342785Z"
    },
    "papermill": {},
    "tags": [
     "parameters"
    ]
   },
   "outputs": [],
   "source": [
    "MODEL = \"\"\n",
    "SBC_RESULTS_DIR = \"\"\n",
    "NUM_SIMULATIONS = -1"
   ]
  },
  {
   "cell_type": "code",
   "execution_count": 3,
   "id": "ignored-envelope",
   "metadata": {
    "execution": {
     "iopub.execute_input": "2021-04-06T12:54:36.346069Z",
     "iopub.status.busy": "2021-04-06T12:54:36.345429Z",
     "iopub.status.idle": "2021-04-06T12:54:36.349144Z",
     "shell.execute_reply": "2021-04-06T12:54:36.349865Z"
    },
    "tags": [
     "injected-parameters"
    ]
   },
   "outputs": [],
   "source": [
    "# Parameters\n",
    "MODEL = \"crc_model_one\"\n",
    "SBC_RESULTS_DIR = \"/n/scratch3/users/j/jc604/speclet-sbc/crc_model_one\"\n",
    "NUM_SIMULATIONS = 500\n"
   ]
  },
  {
   "cell_type": "markdown",
   "id": "severe-shell",
   "metadata": {
    "papermill": {},
    "tags": []
   },
   "source": [
    "### Prepare and validate papermill parameters"
   ]
  },
  {
   "cell_type": "markdown",
   "id": "liable-insertion",
   "metadata": {
    "papermill": {},
    "tags": []
   },
   "source": [
    "Build the model using the `MODEL` parameter."
   ]
  },
  {
   "cell_type": "code",
   "execution_count": 4,
   "id": "pending-lawsuit",
   "metadata": {
    "execution": {
     "iopub.execute_input": "2021-04-06T12:54:36.353463Z",
     "iopub.status.busy": "2021-04-06T12:54:36.352817Z",
     "iopub.status.idle": "2021-04-06T12:54:36.356596Z",
     "shell.execute_reply": "2021-04-06T12:54:36.357138Z"
    },
    "papermill": {},
    "tags": []
   },
   "outputs": [],
   "source": [
    "ModelClass = sbc_cli.get_model_class(sbc_cli.ModelOption[MODEL])"
   ]
  },
  {
   "cell_type": "markdown",
   "id": "heated-preview",
   "metadata": {
    "papermill": {},
    "tags": []
   },
   "source": [
    "Check values passed as the directory with results of the rounds of SBC."
   ]
  },
  {
   "cell_type": "code",
   "execution_count": 5,
   "id": "separated-luther",
   "metadata": {
    "execution": {
     "iopub.execute_input": "2021-04-06T12:54:36.360512Z",
     "iopub.status.busy": "2021-04-06T12:54:36.359879Z",
     "iopub.status.idle": "2021-04-06T12:54:36.373398Z",
     "shell.execute_reply": "2021-04-06T12:54:36.373869Z"
    },
    "papermill": {},
    "tags": []
   },
   "outputs": [],
   "source": [
    "sbc_results_dir = Path(\"../..\", SBC_RESULTS_DIR)\n",
    "assert sbc_results_dir.is_dir()\n",
    "assert sbc_results_dir.exists()"
   ]
  },
  {
   "cell_type": "markdown",
   "id": "historic-pleasure",
   "metadata": {
    "papermill": {},
    "tags": []
   },
   "source": [
    "Confirm that there is a positive number of simulations."
   ]
  },
  {
   "cell_type": "code",
   "execution_count": 6,
   "id": "modular-register",
   "metadata": {
    "execution": {
     "iopub.execute_input": "2021-04-06T12:54:36.379147Z",
     "iopub.status.busy": "2021-04-06T12:54:36.378601Z",
     "iopub.status.idle": "2021-04-06T12:54:36.382695Z",
     "shell.execute_reply": "2021-04-06T12:54:36.383160Z"
    },
    "papermill": {},
    "tags": []
   },
   "outputs": [],
   "source": [
    "assert NUM_SIMULATIONS > 0"
   ]
  },
  {
   "cell_type": "markdown",
   "id": "fleet-spelling",
   "metadata": {
    "papermill": {},
    "tags": []
   },
   "source": [
    "## Read in all results"
   ]
  },
  {
   "cell_type": "code",
   "execution_count": 7,
   "id": "divided-calvin",
   "metadata": {
    "execution": {
     "iopub.execute_input": "2021-04-06T12:54:36.392725Z",
     "iopub.status.busy": "2021-04-06T12:54:36.392134Z",
     "iopub.status.idle": "2021-04-06T12:54:36.395848Z",
     "shell.execute_reply": "2021-04-06T12:54:36.396661Z"
    },
    "papermill": {},
    "tags": []
   },
   "outputs": [],
   "source": [
    "def split_parameter(p: str) -> List[str]:\n",
    "    return [a for a in re.split(\"\\\\[|,|\\\\]\", p) if a != \"\"]\n",
    "\n",
    "\n",
    "def get_prior_value_using_index_list(ary: np.ndarray, idx: List[int]) -> float:\n",
    "    if len(idx) == 0:\n",
    "        return ary\n",
    "\n",
    "    assert len(idx) == len(ary.shape)\n",
    "    value = ary\n",
    "    for i in idx:\n",
    "        value = value[i]\n",
    "    return value\n",
    "\n",
    "\n",
    "def make_priors_dataframe(\n",
    "    priors: Dict[str, np.ndarray], parameters: List[str]\n",
    ") -> pd.DataFrame:\n",
    "    df = pd.DataFrame({\"parameter\": parameters, \"true_value\": 0}).set_index(\"parameter\")\n",
    "    for parameter in parameters:\n",
    "        split_p = split_parameter(parameter)\n",
    "        param = split_p[0]\n",
    "        idx = [int(i) for i in split_p[1:]]\n",
    "        value = get_prior_value_using_index_list(priors[param][0], idx)\n",
    "        df.loc[parameter] = value\n",
    "    return df"
   ]
  },
  {
   "cell_type": "code",
   "execution_count": 8,
   "id": "operational-bench",
   "metadata": {
    "execution": {
     "iopub.execute_input": "2021-04-06T12:54:36.401011Z",
     "iopub.status.busy": "2021-04-06T12:54:36.399726Z",
     "iopub.status.idle": "2021-04-06T13:14:27.831546Z",
     "shell.execute_reply": "2021-04-06T13:14:27.832159Z"
    },
    "papermill": {},
    "tags": []
   },
   "outputs": [],
   "source": [
    "simulation_posteriors = []\n",
    "\n",
    "for sbc_dir in sbc_results_dir.iterdir():\n",
    "    sbc_fm = SBCFileManager(sbc_dir)\n",
    "    if not sbc_fm.all_data_exists():\n",
    "        raise Exception(f\"Not all output from '{sbc_fm.dir.name}' exist.\")\n",
    "    res = sbc_fm.get_sbc_results()\n",
    "    true_values = make_priors_dataframe(\n",
    "        res.priors, parameters=res.posterior_summary.index.values\n",
    "    )\n",
    "    posterior_summary = res.posterior_summary.merge(\n",
    "        true_values, left_index=True, right_index=True\n",
    "    )\n",
    "    simulation_posteriors.append(posterior_summary)"
   ]
  },
  {
   "cell_type": "code",
   "execution_count": 9,
   "id": "structured-texture",
   "metadata": {
    "execution": {
     "iopub.execute_input": "2021-04-06T13:14:27.840730Z",
     "iopub.status.busy": "2021-04-06T13:14:27.840109Z",
     "iopub.status.idle": "2021-04-06T13:14:27.848073Z",
     "shell.execute_reply": "2021-04-06T13:14:27.848861Z"
    },
    "papermill": {},
    "tags": []
   },
   "outputs": [
    {
     "name": "stdout",
     "output_type": "stream",
     "text": [
      "Collected all simulations.\n"
     ]
    }
   ],
   "source": [
    "if len(simulation_posteriors) == NUM_SIMULATIONS:\n",
    "    print(\"Collected all simulations.\")\n",
    "else:\n",
    "    print(\n",
    "        f\"The number of simluations ({NUM_SIMULATIONS}) does not match the number collected ({len(simulation_posteriors)}).\"\n",
    "    )"
   ]
  },
  {
   "cell_type": "markdown",
   "id": "inclusive-century",
   "metadata": {
    "papermill": {},
    "tags": []
   },
   "source": [
    "## Analysis"
   ]
  },
  {
   "cell_type": "code",
   "execution_count": 10,
   "id": "powerful-december",
   "metadata": {
    "execution": {
     "iopub.execute_input": "2021-04-06T13:14:27.853235Z",
     "iopub.status.busy": "2021-04-06T13:14:27.851983Z",
     "iopub.status.idle": "2021-04-06T13:14:27.859055Z",
     "shell.execute_reply": "2021-04-06T13:14:27.859846Z"
    },
    "papermill": {},
    "tags": []
   },
   "outputs": [],
   "source": [
    "def measure_posterior_accuracy(post) -> float:\n",
    "    hdi_lower = post.iloc[:, 2].values.flatten()\n",
    "    hdi_upper = post.iloc[:, 3].values.flatten()\n",
    "    trues = post[\"true_value\"].values.flatten()\n",
    "    return np.mean((hdi_lower < trues).astype(int) * (trues < hdi_upper).astype(int))"
   ]
  },
  {
   "cell_type": "code",
   "execution_count": 11,
   "id": "marine-estate",
   "metadata": {
    "execution": {
     "iopub.execute_input": "2021-04-06T13:14:27.864252Z",
     "iopub.status.busy": "2021-04-06T13:14:27.862981Z",
     "iopub.status.idle": "2021-04-06T13:14:28.147432Z",
     "shell.execute_reply": "2021-04-06T13:14:28.148150Z"
    },
    "papermill": {},
    "tags": []
   },
   "outputs": [],
   "source": [
    "hdi_acc = [measure_posterior_accuracy(p) for p in simulation_posteriors]"
   ]
  },
  {
   "cell_type": "code",
   "execution_count": 12,
   "id": "junior-crawford",
   "metadata": {
    "execution": {
     "iopub.execute_input": "2021-04-06T13:14:28.152381Z",
     "iopub.status.busy": "2021-04-06T13:14:28.151060Z",
     "iopub.status.idle": "2021-04-06T13:14:28.869507Z",
     "shell.execute_reply": "2021-04-06T13:14:28.870088Z"
    },
    "papermill": {},
    "tags": []
   },
   "outputs": [
    {
     "data": {
      "text/plain": [
       "Text(0.5, 0, 'HDI accuracy')"
      ]
     },
     "execution_count": 1,
     "metadata": {},
     "output_type": "execute_result"
    },
    {
     "data": {
      "image/png": "[encoded data removed]",
      "text/plain": [
       "<Figure size 432x288 with 1 Axes>"
      ]
     },
     "metadata": {
      "image/png": {
       "height": 267,
       "width": 388
      }
     },
     "output_type": "display_data"
    }
   ],
   "source": [
    "sns.set_theme()\n",
    "ax = sns.histplot(hdi_acc)\n",
    "ax.set_xlabel(\"HDI accuracy\");"
   ]
  },
  {
   "cell_type": "markdown",
   "id": "surprising-protocol",
   "metadata": {
    "papermill": {},
    "tags": []
   },
   "source": [
    "---"
   ]
  },
  {
   "cell_type": "code",
   "execution_count": 13,
   "id": "false-globe",
   "metadata": {
    "execution": {
     "iopub.execute_input": "2021-04-06T13:14:28.873419Z",
     "iopub.status.busy": "2021-04-06T13:14:28.872869Z",
     "iopub.status.idle": "2021-04-06T13:14:28.878477Z",
     "shell.execute_reply": "2021-04-06T13:14:28.879031Z"
    },
    "papermill": {},
    "tags": []
   },
   "outputs": [
    {
     "name": "stdout",
     "output_type": "stream",
     "text": [
      "execution time: 19.88 minutes\n"
     ]
    }
   ],
   "source": [
    "notebook_toc = time()\n",
    "print(f\"execution time: {(notebook_toc - notebook_tic) / 60:.2f} minutes\")"
   ]
  },
  {
   "cell_type": "code",
   "execution_count": 14,
   "id": "convertible-procedure",
   "metadata": {
    "execution": {
     "iopub.execute_input": "2021-04-06T13:14:28.882162Z",
     "iopub.status.busy": "2021-04-06T13:14:28.881623Z",
     "iopub.status.idle": "2021-04-06T13:14:29.597282Z",
     "shell.execute_reply": "2021-04-06T13:14:29.596747Z"
    },
    "papermill": {},
    "tags": []
   },
   "outputs": [
    {
     "name": "stdout",
     "output_type": "stream",
     "text": [
      "Last updated: 2021-04-06\n",
      "\n",
      "Python implementation: CPython\n",
      "Python version       : 3.9.2\n",
      "IPython version      : 7.21.0\n",
      "\n",
      "Compiler    : GCC 9.3.0\n",
      "OS          : Linux\n",
      "Release     : 3.10.0-1062.el7.x86_64\n",
      "Machine     : x86_64\n",
      "Processor   : x86_64\n",
      "CPU cores   : 20\n",
      "Architecture: 64bit\n",
      "\n",
      "Hostname: compute-f-17-11.o2.rc.hms.harvard.edu\n",
      "\n",
      "Git branch: simulation-based-calibration\n",
      "\n",
      "numpy     : 1.20.1\n",
      "arviz     : 0.11.2\n",
      "pandas    : 1.2.3\n",
      "seaborn   : 0.11.1\n",
      "matplotlib: 3.3.4\n",
      "pymc3     : 3.11.1\n",
      "plotnine  : 0.7.1\n",
      "re        : 2.2.1\n",
      "\n"
     ]
    }
   ],
   "source": [
    "%load_ext watermark\n",
    "%watermark -d -u -v -iv -b -h -m"
   ]
  }
 ],
 "metadata": {
  "kernelspec": {
   "display_name": "Python 3",
   "language": "python",
   "name": "python3"
  },
  "language_info": {
   "codemirror_mode": {
    "name": "ipython",
    "version": 3
   },
   "file_extension": ".py",
   "mimetype": "text/x-python",
   "name": "python",
   "nbconvert_exporter": "python",
   "pygments_lexer": "ipython3",
   "version": "3.9.2"
  },
  "papermill": {
   "default_parameters": {},
   "environment_variables": {},
   "input_path": "reports/crc_sbc_reports/sbc-results-template.ipynb",
   "output_path": "reports/crc_sbc_reports/crc_model_one_sbc-results.ipynb",
   "parameters": {
    "MODEL": "crc_model_one",
    "NUM_SIMULATIONS": 500,
    "SBC_RESULTS_DIR": "/n/scratch3/users/j/jc604/speclet-sbc/crc_model_one"
   },
   "version": "2.3.3"
  }
 },
 "nbformat": 4,
 "nbformat_minor": 5
}
