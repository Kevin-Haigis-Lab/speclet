{
 "cells": [
  {
   "cell_type": "markdown",
   "id": "little-continuity",
   "metadata": {
    "papermill": {},
    "tags": []
   },
   "source": [
    "# Model Report"
   ]
  },
  {
   "cell_type": "code",
   "execution_count": 1,
   "id": "private-ranch",
   "metadata": {
    "execution": {
     "iopub.execute_input": "2021-04-01T20:29:54.407845Z",
     "iopub.status.busy": "2021-04-01T20:29:54.406773Z",
     "iopub.status.idle": "2021-04-01T20:29:58.373034Z",
     "shell.execute_reply": "2021-04-01T20:29:58.373503Z"
    },
    "papermill": {},
    "tags": []
   },
   "outputs": [],
   "source": [
    "import warnings\n",
    "from pathlib import Path\n",
    "from time import time\n",
    "\n",
    "import arviz as az\n",
    "import matplotlib.pyplot as plt\n",
    "import numpy as np\n",
    "import pandas as pd\n",
    "import plotnine as gg\n",
    "import pymc3 as pm\n",
    "import seaborn as sns\n",
    "from src.command_line_interfaces import simulation_based_calibration_cli as sbc_cli\n",
    "from src.context_managers import set_directory\n",
    "from src.data_processing import common as dphelp\n",
    "from src.modeling import pymc3_analysis as pmanal\n",
    "from src.modeling import pymc3_sampling_api as pmapi\n",
    "from src.modeling import sampling_pymc3_models as sampling\n",
    "from src.modeling.sampling_pymc3_models import SamplingArguments\n",
    "from src.modeling.simulation_based_calibration_helpers import SBCFileManager\n",
    "from src.plot.color_pal import SeabornColor\n",
    "\n",
    "notebook_tic = time()\n",
    "\n",
    "warnings.simplefilter(action=\"ignore\", category=UserWarning)\n",
    "\n",
    "gg.theme_set(gg.theme_classic())\n",
    "%config InlineBackend.figure_format = \"retina\"\n",
    "\n",
    "RANDOM_SEED = 847\n",
    "np.random.seed(RANDOM_SEED)\n",
    "\n",
    "pymc3_cache_dir = Path(\"..\", \"models\", \"modeling_cache\", \"pymc3_model_cache\")"
   ]
  },
  {
   "cell_type": "markdown",
   "id": "choice-strategy",
   "metadata": {
    "papermill": {},
    "tags": []
   },
   "source": [
    "Parameters for papermill:\n",
    "\n",
    "- `MODEL`: which model was tested\n",
    "- `SBC_RESULTS_DIR`: directory containing results of many rounds of SBC\n",
    "- `NUM_SIMULATIONS`: the number of simiulations; will be used to check that all results are found"
   ]
  },
  {
   "cell_type": "markdown",
   "id": "located-brand",
   "metadata": {
    "papermill": {},
    "tags": []
   },
   "source": [
    "## Setup"
   ]
  },
  {
   "cell_type": "markdown",
   "id": "valued-guess",
   "metadata": {
    "papermill": {},
    "tags": []
   },
   "source": [
    "### Papermill parameters"
   ]
  },
  {
   "cell_type": "code",
   "execution_count": 2,
   "id": "lovely-politics",
   "metadata": {
    "execution": {
     "iopub.execute_input": "2021-04-01T20:29:58.379541Z",
     "iopub.status.busy": "2021-04-01T20:29:58.378999Z",
     "iopub.status.idle": "2021-04-01T20:29:58.382380Z",
     "shell.execute_reply": "2021-04-01T20:29:58.381918Z"
    },
    "papermill": {},
    "tags": [
     "parameters"
    ]
   },
   "outputs": [],
   "source": [
    "MODEL = \"\"\n",
    "SBC_RESULTS_DIR = \"\"\n",
    "NUM_SIMULATIONS = -1"
   ]
  },
  {
   "cell_type": "code",
   "execution_count": 3,
   "id": "loose-milton",
   "metadata": {
    "execution": {
     "iopub.execute_input": "2021-04-01T20:29:58.387056Z",
     "iopub.status.busy": "2021-04-01T20:29:58.386537Z",
     "iopub.status.idle": "2021-04-01T20:29:58.389497Z",
     "shell.execute_reply": "2021-04-01T20:29:58.389940Z"
    },
    "tags": [
     "injected-parameters"
    ]
   },
   "outputs": [],
   "source": [
    "# Parameters\n",
    "MODEL = \"crc_model_one\"\n",
    "SBC_RESULTS_DIR = \"temp/crc_model_one\"\n",
    "NUM_SIMULATIONS = 5"
   ]
  },
  {
   "cell_type": "markdown",
   "id": "fossil-register",
   "metadata": {
    "papermill": {},
    "tags": []
   },
   "source": [
    "### Prepare and validate papermill parameters"
   ]
  },
  {
   "cell_type": "markdown",
   "id": "relevant-idaho",
   "metadata": {
    "papermill": {},
    "tags": []
   },
   "source": [
    "Build the model using the `MODEL` parameter."
   ]
  },
  {
   "cell_type": "code",
   "execution_count": 4,
   "id": "injured-armor",
   "metadata": {
    "execution": {
     "iopub.execute_input": "2021-04-01T20:29:58.394984Z",
     "iopub.status.busy": "2021-04-01T20:29:58.394443Z",
     "iopub.status.idle": "2021-04-01T20:29:58.397247Z",
     "shell.execute_reply": "2021-04-01T20:29:58.397775Z"
    },
    "papermill": {},
    "tags": []
   },
   "outputs": [],
   "source": [
    "ModelClass = sbc_cli.get_model_class(sbc_cli.ModelOption[MODEL])"
   ]
  },
  {
   "cell_type": "markdown",
   "id": "protective-clearance",
   "metadata": {
    "papermill": {},
    "tags": []
   },
   "source": [
    "Check values passed as the directory with results of the rounds of SBC."
   ]
  },
  {
   "cell_type": "code",
   "execution_count": 5,
   "id": "ethical-dealer",
   "metadata": {
    "execution": {
     "iopub.execute_input": "2021-04-01T20:29:58.402856Z",
     "iopub.status.busy": "2021-04-01T20:29:58.402320Z",
     "iopub.status.idle": "2021-04-01T20:29:58.405503Z",
     "shell.execute_reply": "2021-04-01T20:29:58.405042Z"
    },
    "papermill": {},
    "tags": []
   },
   "outputs": [],
   "source": [
    "sbc_results_dir = Path(\"../..\", SBC_RESULTS_DIR)\n",
    "assert sbc_results_dir.is_dir()\n",
    "assert sbc_results_dir.exists()"
   ]
  },
  {
   "cell_type": "markdown",
   "id": "royal-vancouver",
   "metadata": {
    "papermill": {},
    "tags": []
   },
   "source": [
    "Confirm that there is a positive number of simulations."
   ]
  },
  {
   "cell_type": "code",
   "execution_count": 6,
   "id": "through-tooth",
   "metadata": {
    "execution": {
     "iopub.execute_input": "2021-04-01T20:29:58.410024Z",
     "iopub.status.busy": "2021-04-01T20:29:58.409503Z",
     "iopub.status.idle": "2021-04-01T20:29:58.412099Z",
     "shell.execute_reply": "2021-04-01T20:29:58.412533Z"
    },
    "papermill": {},
    "tags": []
   },
   "outputs": [],
   "source": [
    "assert NUM_SIMULATIONS > 0"
   ]
  },
  {
   "cell_type": "markdown",
   "id": "secondary-static",
   "metadata": {
    "papermill": {},
    "tags": []
   },
   "source": [
    "## Read in all results"
   ]
  },
  {
   "cell_type": "code",
   "execution_count": 7,
   "id": "difficult-mouth",
   "metadata": {
    "execution": {
     "iopub.execute_input": "2021-04-01T20:29:58.417575Z",
     "iopub.status.busy": "2021-04-01T20:29:58.416861Z",
     "iopub.status.idle": "2021-04-01T20:30:00.065748Z",
     "shell.execute_reply": "2021-04-01T20:30:00.064784Z"
    },
    "papermill": {},
    "tags": []
   },
   "outputs": [],
   "source": [
    "for sbc_dir in sbc_results_dir.iterdir():\n",
    "    sbc_fm = SBCFileManager(sbc_dir)\n",
    "    if not sbc_fm.all_data_exists():\n",
    "        raise Exception(f\"Not all output from '{sbc_fm.dir.name}' exist.\")\n",
    "    res = sbc_fm.get_sbc_results()"
   ]
  },
  {
   "cell_type": "code",
   "execution_count": 8,
   "id": "economic-problem",
   "metadata": {
    "execution": {
     "iopub.execute_input": "2021-04-01T20:30:00.074813Z",
     "iopub.status.busy": "2021-04-01T20:30:00.073585Z",
     "iopub.status.idle": "2021-04-01T20:30:00.095325Z",
     "shell.execute_reply": "2021-04-01T20:30:00.096323Z"
    },
    "papermill": {},
    "tags": []
   },
   "outputs": [
    {
     "data": {
      "text/html": [
       "<div>\n",
       "<style scoped>\n",
       "    .dataframe tbody tr th:only-of-type {\n",
       "        vertical-align: middle;\n",
       "    }\n",
       "\n",
       "    .dataframe tbody tr th {\n",
       "        vertical-align: top;\n",
       "    }\n",
       "\n",
       "    .dataframe thead th {\n",
       "        text-align: right;\n",
       "    }\n",
       "</style>\n",
       "<table border=\"1\" class=\"dataframe\">\n",
       "  <thead>\n",
       "    <tr style=\"text-align: right;\">\n",
       "      <th></th>\n",
       "      <th>mean</th>\n",
       "      <th>sd</th>\n",
       "      <th>hdi_3%</th>\n",
       "      <th>hdi_97%</th>\n",
       "      <th>mcse_mean</th>\n",
       "      <th>mcse_sd</th>\n",
       "      <th>ess_bulk</th>\n",
       "      <th>ess_tail</th>\n",
       "      <th>r_hat</th>\n",
       "    </tr>\n",
       "    <tr>\n",
       "      <th>parameter</th>\n",
       "      <th></th>\n",
       "      <th></th>\n",
       "      <th></th>\n",
       "      <th></th>\n",
       "      <th></th>\n",
       "      <th></th>\n",
       "      <th></th>\n",
       "      <th></th>\n",
       "      <th></th>\n",
       "    </tr>\n",
       "  </thead>\n",
       "  <tbody>\n",
       "    <tr>\n",
       "      <th>μ_g</th>\n",
       "      <td>0.144</td>\n",
       "      <td>0.338</td>\n",
       "      <td>-0.519</td>\n",
       "      <td>0.731</td>\n",
       "      <td>0.011</td>\n",
       "      <td>0.008</td>\n",
       "      <td>966.0</td>\n",
       "      <td>902.0</td>\n",
       "      <td>NaN</td>\n",
       "    </tr>\n",
       "    <tr>\n",
       "      <th>μ_α[0]</th>\n",
       "      <td>0.571</td>\n",
       "      <td>0.319</td>\n",
       "      <td>0.040</td>\n",
       "      <td>1.232</td>\n",
       "      <td>0.010</td>\n",
       "      <td>0.007</td>\n",
       "      <td>1023.0</td>\n",
       "      <td>906.0</td>\n",
       "      <td>NaN</td>\n",
       "    </tr>\n",
       "    <tr>\n",
       "      <th>μ_α[1]</th>\n",
       "      <td>1.642</td>\n",
       "      <td>0.460</td>\n",
       "      <td>0.760</td>\n",
       "      <td>2.475</td>\n",
       "      <td>0.016</td>\n",
       "      <td>0.011</td>\n",
       "      <td>875.0</td>\n",
       "      <td>947.0</td>\n",
       "      <td>NaN</td>\n",
       "    </tr>\n",
       "    <tr>\n",
       "      <th>μ_α[2]</th>\n",
       "      <td>1.486</td>\n",
       "      <td>0.397</td>\n",
       "      <td>0.709</td>\n",
       "      <td>2.200</td>\n",
       "      <td>0.013</td>\n",
       "      <td>0.009</td>\n",
       "      <td>1009.0</td>\n",
       "      <td>963.0</td>\n",
       "      <td>NaN</td>\n",
       "    </tr>\n",
       "    <tr>\n",
       "      <th>μ_α[3]</th>\n",
       "      <td>-1.373</td>\n",
       "      <td>0.534</td>\n",
       "      <td>-2.309</td>\n",
       "      <td>-0.304</td>\n",
       "      <td>0.017</td>\n",
       "      <td>0.012</td>\n",
       "      <td>1037.0</td>\n",
       "      <td>852.0</td>\n",
       "      <td>NaN</td>\n",
       "    </tr>\n",
       "    <tr>\n",
       "      <th>...</th>\n",
       "      <td>...</td>\n",
       "      <td>...</td>\n",
       "      <td>...</td>\n",
       "      <td>...</td>\n",
       "      <td>...</td>\n",
       "      <td>...</td>\n",
       "      <td>...</td>\n",
       "      <td>...</td>\n",
       "      <td>...</td>\n",
       "    </tr>\n",
       "    <tr>\n",
       "      <th>μ[146]</th>\n",
       "      <td>1.477</td>\n",
       "      <td>0.236</td>\n",
       "      <td>1.039</td>\n",
       "      <td>1.906</td>\n",
       "      <td>0.008</td>\n",
       "      <td>0.005</td>\n",
       "      <td>941.0</td>\n",
       "      <td>944.0</td>\n",
       "      <td>NaN</td>\n",
       "    </tr>\n",
       "    <tr>\n",
       "      <th>μ[147]</th>\n",
       "      <td>1.365</td>\n",
       "      <td>0.227</td>\n",
       "      <td>0.957</td>\n",
       "      <td>1.800</td>\n",
       "      <td>0.007</td>\n",
       "      <td>0.005</td>\n",
       "      <td>923.0</td>\n",
       "      <td>941.0</td>\n",
       "      <td>NaN</td>\n",
       "    </tr>\n",
       "    <tr>\n",
       "      <th>μ[148]</th>\n",
       "      <td>2.071</td>\n",
       "      <td>0.233</td>\n",
       "      <td>1.614</td>\n",
       "      <td>2.505</td>\n",
       "      <td>0.007</td>\n",
       "      <td>0.005</td>\n",
       "      <td>1060.0</td>\n",
       "      <td>895.0</td>\n",
       "      <td>NaN</td>\n",
       "    </tr>\n",
       "    <tr>\n",
       "      <th>μ[149]</th>\n",
       "      <td>1.487</td>\n",
       "      <td>0.231</td>\n",
       "      <td>1.069</td>\n",
       "      <td>1.924</td>\n",
       "      <td>0.007</td>\n",
       "      <td>0.005</td>\n",
       "      <td>971.0</td>\n",
       "      <td>905.0</td>\n",
       "      <td>NaN</td>\n",
       "    </tr>\n",
       "    <tr>\n",
       "      <th>σ</th>\n",
       "      <td>0.392</td>\n",
       "      <td>0.027</td>\n",
       "      <td>0.343</td>\n",
       "      <td>0.441</td>\n",
       "      <td>0.001</td>\n",
       "      <td>0.001</td>\n",
       "      <td>1090.0</td>\n",
       "      <td>935.0</td>\n",
       "      <td>NaN</td>\n",
       "    </tr>\n",
       "  </tbody>\n",
       "</table>\n",
       "<p>215 rows × 9 columns</p>\n",
       "</div>"
      ],
      "text/plain": [
       "            mean     sd  hdi_3%  hdi_97%  mcse_mean  mcse_sd  ess_bulk  \\\n",
       "parameter                                                                \n",
       "μ_g        0.144  0.338  -0.519    0.731      0.011    0.008     966.0   \n",
       "μ_α[0]     0.571  0.319   0.040    1.232      0.010    0.007    1023.0   \n",
       "μ_α[1]     1.642  0.460   0.760    2.475      0.016    0.011     875.0   \n",
       "μ_α[2]     1.486  0.397   0.709    2.200      0.013    0.009    1009.0   \n",
       "μ_α[3]    -1.373  0.534  -2.309   -0.304      0.017    0.012    1037.0   \n",
       "...          ...    ...     ...      ...        ...      ...       ...   \n",
       "μ[146]     1.477  0.236   1.039    1.906      0.008    0.005     941.0   \n",
       "μ[147]     1.365  0.227   0.957    1.800      0.007    0.005     923.0   \n",
       "μ[148]     2.071  0.233   1.614    2.505      0.007    0.005    1060.0   \n",
       "μ[149]     1.487  0.231   1.069    1.924      0.007    0.005     971.0   \n",
       "σ          0.392  0.027   0.343    0.441      0.001    0.001    1090.0   \n",
       "\n",
       "           ess_tail  r_hat  \n",
       "parameter                   \n",
       "μ_g           902.0    NaN  \n",
       "μ_α[0]        906.0    NaN  \n",
       "μ_α[1]        947.0    NaN  \n",
       "μ_α[2]        963.0    NaN  \n",
       "μ_α[3]        852.0    NaN  \n",
       "...             ...    ...  \n",
       "μ[146]        944.0    NaN  \n",
       "μ[147]        941.0    NaN  \n",
       "μ[148]        895.0    NaN  \n",
       "μ[149]        905.0    NaN  \n",
       "σ             935.0    NaN  \n",
       "\n",
       "[215 rows x 9 columns]"
      ]
     },
     "execution_count": 1,
     "metadata": {},
     "output_type": "execute_result"
    }
   ],
   "source": [
    "res.posterior_summary"
   ]
  },
  {
   "cell_type": "code",
   "execution_count": null,
   "id": "basic-internet",
   "metadata": {
    "papermill": {},
    "tags": []
   },
   "outputs": [],
   "source": []
  },
  {
   "cell_type": "code",
   "execution_count": null,
   "id": "heated-subsection",
   "metadata": {
    "papermill": {},
    "tags": []
   },
   "outputs": [],
   "source": []
  },
  {
   "cell_type": "code",
   "execution_count": null,
   "id": "known-closer",
   "metadata": {
    "papermill": {},
    "tags": []
   },
   "outputs": [],
   "source": []
  },
  {
   "cell_type": "markdown",
   "id": "spare-reach",
   "metadata": {
    "papermill": {},
    "tags": []
   },
   "source": [
    "---"
   ]
  },
  {
   "cell_type": "code",
   "execution_count": 9,
   "id": "freelance-brook",
   "metadata": {
    "execution": {
     "iopub.execute_input": "2021-04-01T20:30:00.102040Z",
     "iopub.status.busy": "2021-04-01T20:30:00.100928Z",
     "iopub.status.idle": "2021-04-01T20:30:00.105695Z",
     "shell.execute_reply": "2021-04-01T20:30:00.106621Z"
    },
    "papermill": {},
    "tags": []
   },
   "outputs": [
    {
     "name": "stdout",
     "output_type": "stream",
     "text": [
      "execution time: 0.03 minutes\n"
     ]
    }
   ],
   "source": [
    "notebook_toc = time()\n",
    "print(f\"execution time: {(notebook_toc - notebook_tic) / 60:.2f} minutes\")"
   ]
  },
  {
   "cell_type": "code",
   "execution_count": 10,
   "id": "about-community",
   "metadata": {
    "execution": {
     "iopub.execute_input": "2021-04-01T20:30:00.112117Z",
     "iopub.status.busy": "2021-04-01T20:30:00.111198Z",
     "iopub.status.idle": "2021-04-01T20:30:00.197798Z",
     "shell.execute_reply": "2021-04-01T20:30:00.198320Z"
    },
    "papermill": {},
    "tags": []
   },
   "outputs": [
    {
     "name": "stdout",
     "output_type": "stream",
     "text": [
      "Last updated: 2021-04-01\n",
      "\n",
      "Python implementation: CPython\n",
      "Python version       : 3.9.2\n",
      "IPython version      : 7.21.0\n",
      "\n",
      "Compiler    : GCC 9.3.0\n",
      "OS          : Linux\n",
      "Release     : 3.10.0-1062.el7.x86_64\n",
      "Machine     : x86_64\n",
      "Processor   : x86_64\n",
      "CPU cores   : 32\n",
      "Architecture: 64bit\n",
      "\n",
      "Hostname: compute-a-16-163.o2.rc.hms.harvard.edu\n",
      "\n",
      "Git branch: simulation-based-calibration\n",
      "\n",
      "matplotlib: 3.3.4\n",
      "pandas    : 1.2.3\n",
      "plotnine  : 0.7.1\n",
      "numpy     : 1.20.1\n",
      "pymc3     : 3.11.1\n",
      "seaborn   : 0.11.1\n",
      "arviz     : 0.11.2\n",
      "\n"
     ]
    }
   ],
   "source": [
    "%load_ext watermark\n",
    "%watermark -d -u -v -iv -b -h -m"
   ]
  }
 ],
 "metadata": {
  "kernelspec": {
   "display_name": "Python 3",
   "language": "python",
   "name": "python3"
  },
  "language_info": {
   "codemirror_mode": {
    "name": "ipython",
    "version": 3
   },
   "file_extension": ".py",
   "mimetype": "text/x-python",
   "name": "python",
   "nbconvert_exporter": "python",
   "pygments_lexer": "ipython3",
   "version": "3.9.2"
  },
  "papermill": {
   "default_parameters": {},
   "environment_variables": {},
   "input_path": "reports/crc_sbc_reports/sbc-results-template.ipynb",
   "output_path": "reports/crc_sbc_reports/crc_model_one_sbc-results.ipynb",
   "parameters": {
    "MODEL": "crc_model_one",
    "NUM_SIMULATIONS": 5,
    "SBC_RESULTS_DIR": "temp/crc_model_one"
   },
   "version": "2.3.3"
  }
 },
 "nbformat": 4,
 "nbformat_minor": 5
}
