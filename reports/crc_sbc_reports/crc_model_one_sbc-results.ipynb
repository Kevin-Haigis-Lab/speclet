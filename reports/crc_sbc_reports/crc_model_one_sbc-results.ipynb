{
 "cells": [
  {
   "cell_type": "markdown",
   "id": "affected-burton",
   "metadata": {
    "papermill": {},
    "tags": []
   },
   "source": [
    "# Model Report"
   ]
  },
  {
   "cell_type": "code",
   "execution_count": 1,
   "id": "executed-booking",
   "metadata": {
    "execution": {
     "iopub.execute_input": "2021-04-01T19:36:24.760028Z",
     "iopub.status.busy": "2021-04-01T19:36:24.747140Z",
     "iopub.status.idle": "2021-04-01T19:36:29.882906Z",
     "shell.execute_reply": "2021-04-01T19:36:29.883802Z"
    },
    "papermill": {},
    "tags": []
   },
   "outputs": [],
   "source": [
    "import warnings\n",
    "from pathlib import Path\n",
    "from time import time\n",
    "\n",
    "import arviz as az\n",
    "import matplotlib.pyplot as plt\n",
    "import numpy as np\n",
    "import pandas as pd\n",
    "import plotnine as gg\n",
    "import pymc3 as pm\n",
    "import seaborn as sns\n",
    "from src.context_managers import set_directory\n",
    "from src.data_processing import common as dphelp\n",
    "from src.modeling import pymc3_analysis as pmanal\n",
    "from src.modeling import pymc3_sampling_api as pmapi\n",
    "from src.modeling import sampling_pymc3_models as sampling\n",
    "from src.modeling.sampling_pymc3_models import SamplingArguments\n",
    "from src.plot.color_pal import SeabornColor\n",
    "\n",
    "notebook_tic = time()\n",
    "\n",
    "warnings.simplefilter(action=\"ignore\", category=UserWarning)\n",
    "\n",
    "gg.theme_set(gg.theme_classic())\n",
    "%config InlineBackend.figure_format = \"retina\"\n",
    "\n",
    "RANDOM_SEED = 847\n",
    "np.random.seed(RANDOM_SEED)\n",
    "\n",
    "pymc3_cache_dir = Path(\"..\", \"models\", \"modeling_cache\", \"pymc3_model_cache\")"
   ]
  },
  {
   "cell_type": "markdown",
   "id": "burning-vegetable",
   "metadata": {
    "papermill": {},
    "tags": []
   },
   "source": [
    "Parameters for papermill:\n",
    "\n",
    "- `MODEL`: which model was tested"
   ]
  },
  {
   "cell_type": "markdown",
   "id": "visible-mexico",
   "metadata": {
    "papermill": {},
    "tags": []
   },
   "source": [
    "## Setup"
   ]
  },
  {
   "cell_type": "markdown",
   "id": "fatal-ladder",
   "metadata": {
    "papermill": {},
    "tags": []
   },
   "source": [
    "### Papermill parameters"
   ]
  },
  {
   "cell_type": "code",
   "execution_count": 2,
   "id": "voluntary-cuisine",
   "metadata": {
    "execution": {
     "iopub.execute_input": "2021-04-01T19:36:29.888834Z",
     "iopub.status.busy": "2021-04-01T19:36:29.887729Z",
     "iopub.status.idle": "2021-04-01T19:36:29.890635Z",
     "shell.execute_reply": "2021-04-01T19:36:29.891491Z"
    },
    "papermill": {},
    "tags": [
     "parameters"
    ]
   },
   "outputs": [],
   "source": [
    "MODEL = \"\""
   ]
  },
  {
   "cell_type": "code",
   "execution_count": 3,
   "id": "addressed-shock",
   "metadata": {
    "execution": {
     "iopub.execute_input": "2021-04-01T19:36:29.895447Z",
     "iopub.status.busy": "2021-04-01T19:36:29.894433Z",
     "iopub.status.idle": "2021-04-01T19:36:29.897002Z",
     "shell.execute_reply": "2021-04-01T19:36:29.897805Z"
    },
    "tags": [
     "injected-parameters"
    ]
   },
   "outputs": [],
   "source": [
    "# Parameters\n",
    "MODEL = \"crc_model_one\""
   ]
  },
  {
   "cell_type": "code",
   "execution_count": 4,
   "id": "polyphonic-exclusion",
   "metadata": {
    "execution": {
     "iopub.execute_input": "2021-04-01T19:36:29.901577Z",
     "iopub.status.busy": "2021-04-01T19:36:29.900588Z",
     "iopub.status.idle": "2021-04-01T19:36:29.902857Z",
     "shell.execute_reply": "2021-04-01T19:36:29.903582Z"
    },
    "papermill": {},
    "tags": []
   },
   "outputs": [],
   "source": [
    "# speclet_model = sampling.sample_speclet_model(\n",
    "#     MODEL, name=MODEL_NAME, debug=DEBUG, random_seed=RANDOM_SEED, touch=False\n",
    "# )"
   ]
  },
  {
   "cell_type": "code",
   "execution_count": 5,
   "id": "working-visiting",
   "metadata": {
    "execution": {
     "iopub.execute_input": "2021-04-01T19:36:29.907237Z",
     "iopub.status.busy": "2021-04-01T19:36:29.906322Z",
     "iopub.status.idle": "2021-04-01T19:36:29.909076Z",
     "shell.execute_reply": "2021-04-01T19:36:29.909818Z"
    },
    "papermill": {},
    "tags": []
   },
   "outputs": [],
   "source": [
    "# model_res = speclet_model.advi_results"
   ]
  },
  {
   "cell_type": "code",
   "execution_count": 6,
   "id": "peripheral-sunglasses",
   "metadata": {
    "execution": {
     "iopub.execute_input": "2021-04-01T19:36:29.913462Z",
     "iopub.status.busy": "2021-04-01T19:36:29.912583Z",
     "iopub.status.idle": "2021-04-01T19:36:29.918686Z",
     "shell.execute_reply": "2021-04-01T19:36:29.919551Z"
    },
    "papermill": {},
    "tags": []
   },
   "outputs": [
    {
     "data": {
      "text/plain": [
       "'/n/data2/dfci/cancerbio/haigis/Cook/speclet/reports/crc_sbc_reports'"
      ]
     },
     "execution_count": 1,
     "metadata": {},
     "output_type": "execute_result"
    }
   ],
   "source": [
    "import os\n",
    "\n",
    "os.getcwd()"
   ]
  },
  {
   "cell_type": "code",
   "execution_count": null,
   "id": "grand-editor",
   "metadata": {
    "papermill": {},
    "tags": []
   },
   "outputs": [],
   "source": []
  },
  {
   "cell_type": "code",
   "execution_count": null,
   "id": "owned-appointment",
   "metadata": {
    "papermill": {},
    "tags": []
   },
   "outputs": [],
   "source": []
  },
  {
   "cell_type": "code",
   "execution_count": null,
   "id": "serial-subcommittee",
   "metadata": {
    "papermill": {},
    "tags": []
   },
   "outputs": [],
   "source": []
  },
  {
   "cell_type": "code",
   "execution_count": null,
   "id": "north-hybrid",
   "metadata": {
    "papermill": {},
    "tags": []
   },
   "outputs": [],
   "source": []
  },
  {
   "cell_type": "code",
   "execution_count": null,
   "id": "proud-active",
   "metadata": {
    "papermill": {},
    "tags": []
   },
   "outputs": [],
   "source": []
  },
  {
   "cell_type": "markdown",
   "id": "nonprofit-heater",
   "metadata": {
    "papermill": {},
    "tags": []
   },
   "source": [
    "---"
   ]
  },
  {
   "cell_type": "code",
   "execution_count": 7,
   "id": "monetary-spiritual",
   "metadata": {
    "execution": {
     "iopub.execute_input": "2021-04-01T19:36:29.923694Z",
     "iopub.status.busy": "2021-04-01T19:36:29.922833Z",
     "iopub.status.idle": "2021-04-01T19:36:29.927112Z",
     "shell.execute_reply": "2021-04-01T19:36:29.927927Z"
    },
    "papermill": {},
    "tags": []
   },
   "outputs": [
    {
     "name": "stdout",
     "output_type": "stream",
     "text": [
      "execution time: 0.00 minutes\n"
     ]
    }
   ],
   "source": [
    "notebook_toc = time()\n",
    "print(f\"execution time: {(notebook_toc - notebook_tic) / 60:.2f} minutes\")"
   ]
  },
  {
   "cell_type": "code",
   "execution_count": 8,
   "id": "hydraulic-energy",
   "metadata": {
    "execution": {
     "iopub.execute_input": "2021-04-01T19:36:29.931273Z",
     "iopub.status.busy": "2021-04-01T19:36:29.930462Z",
     "iopub.status.idle": "2021-04-01T19:36:30.011927Z",
     "shell.execute_reply": "2021-04-01T19:36:30.012983Z"
    },
    "papermill": {},
    "tags": []
   },
   "outputs": [
    {
     "name": "stdout",
     "output_type": "stream",
     "text": [
      "Last updated: 2021-04-01\n",
      "\n",
      "Python implementation: CPython\n",
      "Python version       : 3.9.2\n",
      "IPython version      : 7.21.0\n",
      "\n",
      "Compiler    : GCC 9.3.0\n",
      "OS          : Linux\n",
      "Release     : 3.10.0-1062.el7.x86_64\n",
      "Machine     : x86_64\n",
      "Processor   : x86_64\n",
      "CPU cores   : 32\n",
      "Architecture: 64bit\n",
      "\n",
      "Hostname: compute-a-16-163.o2.rc.hms.harvard.edu\n",
      "\n",
      "Git branch: simulation-based-calibration\n",
      "\n",
      "matplotlib: 3.3.4\n",
      "arviz     : 0.11.2\n",
      "pandas    : 1.2.3\n",
      "numpy     : 1.20.1\n",
      "plotnine  : 0.7.1\n",
      "pymc3     : 3.11.1\n",
      "seaborn   : 0.11.1\n",
      "\n"
     ]
    }
   ],
   "source": [
    "%load_ext watermark\n",
    "%watermark -d -u -v -iv -b -h -m"
   ]
  }
 ],
 "metadata": {
  "kernelspec": {
   "display_name": "Python 3",
   "language": "python",
   "name": "python3"
  },
  "language_info": {
   "codemirror_mode": {
    "name": "ipython",
    "version": 3
   },
   "file_extension": ".py",
   "mimetype": "text/x-python",
   "name": "python",
   "nbconvert_exporter": "python",
   "pygments_lexer": "ipython3",
   "version": "3.9.2"
  },
  "papermill": {
   "default_parameters": {},
   "environment_variables": {},
   "input_path": "reports/crc_sbc_reports/sbc-results-template.ipynb",
   "output_path": "reports/crc_sbc_reports/crc_model_one_sbc-results.ipynb",
   "parameters": {
    "MODEL": "crc_model_one"
   },
   "version": "2.3.3"
  }
 },
 "nbformat": 4,
 "nbformat_minor": 5
}
