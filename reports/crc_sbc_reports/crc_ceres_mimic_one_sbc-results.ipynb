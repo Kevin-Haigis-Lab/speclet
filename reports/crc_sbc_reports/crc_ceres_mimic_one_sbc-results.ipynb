{
 "cells": [
  {
   "cell_type": "markdown",
   "id": "opposite-affect",
   "metadata": {
    "papermill": {},
    "tags": []
   },
   "source": [
    "# Model Report"
   ]
  },
  {
   "cell_type": "code",
   "execution_count": 1,
   "id": "metric-family",
   "metadata": {
    "execution": {
     "iopub.execute_input": "2021-04-01T19:34:14.877768Z",
     "iopub.status.busy": "2021-04-01T19:34:14.876652Z",
     "iopub.status.idle": "2021-04-01T19:34:20.464458Z",
     "shell.execute_reply": "2021-04-01T19:34:20.465759Z"
    },
    "papermill": {},
    "tags": []
   },
   "outputs": [],
   "source": [
    "import warnings\n",
    "from pathlib import Path\n",
    "from time import time\n",
    "\n",
    "import arviz as az\n",
    "import matplotlib.pyplot as plt\n",
    "import numpy as np\n",
    "import pandas as pd\n",
    "import plotnine as gg\n",
    "import pymc3 as pm\n",
    "import seaborn as sns\n",
    "from src.context_managers import set_directory\n",
    "from src.data_processing import common as dphelp\n",
    "from src.modeling import pymc3_analysis as pmanal\n",
    "from src.modeling import pymc3_sampling_api as pmapi\n",
    "from src.modeling import sampling_pymc3_models as sampling\n",
    "from src.modeling.sampling_pymc3_models import SamplingArguments\n",
    "from src.plot.color_pal import SeabornColor\n",
    "\n",
    "notebook_tic = time()\n",
    "\n",
    "warnings.simplefilter(action=\"ignore\", category=UserWarning)\n",
    "\n",
    "gg.theme_set(gg.theme_classic())\n",
    "%config InlineBackend.figure_format = \"retina\"\n",
    "\n",
    "RANDOM_SEED = 847\n",
    "np.random.seed(RANDOM_SEED)\n",
    "\n",
    "pymc3_cache_dir = Path(\"..\", \"models\", \"modeling_cache\", \"pymc3_model_cache\")"
   ]
  },
  {
   "cell_type": "markdown",
   "id": "flexible-shadow",
   "metadata": {
    "papermill": {},
    "tags": []
   },
   "source": [
    "Parameters for papermill:\n",
    "\n",
    "- `MODEL`: which model was tested"
   ]
  },
  {
   "cell_type": "markdown",
   "id": "effective-gates",
   "metadata": {
    "papermill": {},
    "tags": []
   },
   "source": [
    "## Setup"
   ]
  },
  {
   "cell_type": "markdown",
   "id": "exempt-nurse",
   "metadata": {
    "papermill": {},
    "tags": []
   },
   "source": [
    "### Papermill parameters"
   ]
  },
  {
   "cell_type": "code",
   "execution_count": 2,
   "id": "bridal-blowing",
   "metadata": {
    "execution": {
     "iopub.execute_input": "2021-04-01T19:34:20.472581Z",
     "iopub.status.busy": "2021-04-01T19:34:20.470788Z",
     "iopub.status.idle": "2021-04-01T19:34:20.477881Z",
     "shell.execute_reply": "2021-04-01T19:34:20.479099Z"
    },
    "papermill": {},
    "tags": [
     "parameters"
    ]
   },
   "outputs": [],
   "source": [
    "MODEL = \"\""
   ]
  },
  {
   "cell_type": "code",
   "execution_count": 3,
   "id": "random-sister",
   "metadata": {
    "execution": {
     "iopub.execute_input": "2021-04-01T19:34:20.484471Z",
     "iopub.status.busy": "2021-04-01T19:34:20.482831Z",
     "iopub.status.idle": "2021-04-01T19:34:20.488989Z",
     "shell.execute_reply": "2021-04-01T19:34:20.490151Z"
    },
    "tags": [
     "injected-parameters"
    ]
   },
   "outputs": [],
   "source": [
    "# Parameters\n",
    "MODEL = \"crc_ceres_mimic_one\""
   ]
  },
  {
   "cell_type": "code",
   "execution_count": 4,
   "id": "english-portfolio",
   "metadata": {
    "execution": {
     "iopub.execute_input": "2021-04-01T19:34:20.495358Z",
     "iopub.status.busy": "2021-04-01T19:34:20.494295Z",
     "iopub.status.idle": "2021-04-01T19:34:20.498153Z",
     "shell.execute_reply": "2021-04-01T19:34:20.499155Z"
    },
    "papermill": {},
    "tags": []
   },
   "outputs": [],
   "source": [
    "# speclet_model = sampling.sample_speclet_model(\n",
    "#     MODEL, name=MODEL_NAME, debug=DEBUG, random_seed=RANDOM_SEED, touch=False\n",
    "# )"
   ]
  },
  {
   "cell_type": "code",
   "execution_count": 5,
   "id": "sharp-xerox",
   "metadata": {
    "execution": {
     "iopub.execute_input": "2021-04-01T19:34:20.503578Z",
     "iopub.status.busy": "2021-04-01T19:34:20.502599Z",
     "iopub.status.idle": "2021-04-01T19:34:20.506241Z",
     "shell.execute_reply": "2021-04-01T19:34:20.507153Z"
    },
    "papermill": {},
    "tags": []
   },
   "outputs": [],
   "source": [
    "# model_res = speclet_model.advi_results"
   ]
  },
  {
   "cell_type": "code",
   "execution_count": 6,
   "id": "tough-address",
   "metadata": {
    "execution": {
     "iopub.execute_input": "2021-04-01T19:34:20.511295Z",
     "iopub.status.busy": "2021-04-01T19:34:20.510380Z",
     "iopub.status.idle": "2021-04-01T19:34:20.518642Z",
     "shell.execute_reply": "2021-04-01T19:34:20.519519Z"
    },
    "papermill": {},
    "tags": []
   },
   "outputs": [
    {
     "data": {
      "text/plain": [
       "'/n/data2/dfci/cancerbio/haigis/Cook/speclet/reports/crc_sbc_reports'"
      ]
     },
     "execution_count": 1,
     "metadata": {},
     "output_type": "execute_result"
    }
   ],
   "source": [
    "import os\n",
    "\n",
    "os.getcwd()"
   ]
  },
  {
   "cell_type": "code",
   "execution_count": null,
   "id": "statewide-ambassador",
   "metadata": {
    "papermill": {},
    "tags": []
   },
   "outputs": [],
   "source": []
  },
  {
   "cell_type": "code",
   "execution_count": null,
   "id": "precious-prediction",
   "metadata": {
    "papermill": {},
    "tags": []
   },
   "outputs": [],
   "source": []
  },
  {
   "cell_type": "code",
   "execution_count": null,
   "id": "involved-maldives",
   "metadata": {
    "papermill": {},
    "tags": []
   },
   "outputs": [],
   "source": []
  },
  {
   "cell_type": "code",
   "execution_count": null,
   "id": "metric-intelligence",
   "metadata": {
    "papermill": {},
    "tags": []
   },
   "outputs": [],
   "source": []
  },
  {
   "cell_type": "code",
   "execution_count": null,
   "id": "genuine-central",
   "metadata": {
    "papermill": {},
    "tags": []
   },
   "outputs": [],
   "source": []
  },
  {
   "cell_type": "markdown",
   "id": "graduate-accident",
   "metadata": {
    "papermill": {},
    "tags": []
   },
   "source": [
    "---"
   ]
  },
  {
   "cell_type": "code",
   "execution_count": 7,
   "id": "perceived-competition",
   "metadata": {
    "execution": {
     "iopub.execute_input": "2021-04-01T19:34:20.525837Z",
     "iopub.status.busy": "2021-04-01T19:34:20.524949Z",
     "iopub.status.idle": "2021-04-01T19:34:20.529124Z",
     "shell.execute_reply": "2021-04-01T19:34:20.529951Z"
    },
    "papermill": {},
    "tags": []
   },
   "outputs": [
    {
     "name": "stdout",
     "output_type": "stream",
     "text": [
      "execution time: 0.00 minutes\n"
     ]
    }
   ],
   "source": [
    "notebook_toc = time()\n",
    "print(f\"execution time: {(notebook_toc - notebook_tic) / 60:.2f} minutes\")"
   ]
  },
  {
   "cell_type": "code",
   "execution_count": 8,
   "id": "southern-whale",
   "metadata": {
    "execution": {
     "iopub.execute_input": "2021-04-01T19:34:20.533795Z",
     "iopub.status.busy": "2021-04-01T19:34:20.532947Z",
     "iopub.status.idle": "2021-04-01T19:34:21.168299Z",
     "shell.execute_reply": "2021-04-01T19:34:21.169360Z"
    },
    "papermill": {},
    "tags": []
   },
   "outputs": [
    {
     "name": "stdout",
     "output_type": "stream",
     "text": [
      "Last updated: 2021-04-01\n",
      "\n",
      "Python implementation: CPython\n",
      "Python version       : 3.9.2\n",
      "IPython version      : 7.21.0\n",
      "\n",
      "Compiler    : GCC 9.3.0\n",
      "OS          : Linux\n",
      "Release     : 3.10.0-1062.el7.x86_64\n",
      "Machine     : x86_64\n",
      "Processor   : x86_64\n",
      "CPU cores   : 32\n",
      "Architecture: 64bit\n",
      "\n",
      "Hostname: compute-a-16-163.o2.rc.hms.harvard.edu\n",
      "\n",
      "Git branch: simulation-based-calibration\n",
      "\n",
      "numpy     : 1.20.1\n",
      "pandas    : 1.2.3\n",
      "matplotlib: 3.3.4\n",
      "seaborn   : 0.11.1\n",
      "pymc3     : 3.11.1\n",
      "arviz     : 0.11.2\n",
      "plotnine  : 0.7.1\n",
      "\n"
     ]
    }
   ],
   "source": [
    "%load_ext watermark\n",
    "%watermark -d -u -v -iv -b -h -m"
   ]
  }
 ],
 "metadata": {
  "kernelspec": {
   "display_name": "Python 3",
   "language": "python",
   "name": "python3"
  },
  "language_info": {
   "codemirror_mode": {
    "name": "ipython",
    "version": 3
   },
   "file_extension": ".py",
   "mimetype": "text/x-python",
   "name": "python",
   "nbconvert_exporter": "python",
   "pygments_lexer": "ipython3",
   "version": "3.9.2"
  },
  "papermill": {
   "default_parameters": {},
   "environment_variables": {},
   "input_path": "reports/crc_sbc_reports/sbc-results-template.ipynb",
   "output_path": "reports/crc_sbc_reports/crc_ceres_mimic_one_sbc-results.ipynb",
   "parameters": {
    "MODEL": "crc_ceres_mimic_one"
   },
   "version": "2.3.3"
  }
 },
 "nbformat": 4,
 "nbformat_minor": 5
}
