{
 "cells": [
  {
   "cell_type": "markdown",
   "id": "offensive-cornell",
   "metadata": {
    "papermill": {},
    "tags": []
   },
   "source": [
    "# Model Report"
   ]
  },
  {
   "cell_type": "code",
   "execution_count": 1,
   "id": "photographic-scott",
   "metadata": {
    "execution": {
     "iopub.execute_input": "2021-04-06T12:53:49.627753Z",
     "iopub.status.busy": "2021-04-06T12:53:49.626578Z",
     "iopub.status.idle": "2021-04-06T12:54:13.788295Z",
     "shell.execute_reply": "2021-04-06T12:54:13.787725Z"
    },
    "papermill": {},
    "tags": []
   },
   "outputs": [],
   "source": [
    "import re\n",
    "import warnings\n",
    "from pathlib import Path\n",
    "from time import time\n",
    "from typing import Dict, List\n",
    "\n",
    "import arviz as az\n",
    "import matplotlib.pyplot as plt\n",
    "import numpy as np\n",
    "import pandas as pd\n",
    "import plotnine as gg\n",
    "import pymc3 as pm\n",
    "import seaborn as sns\n",
    "from src.command_line_interfaces import simulation_based_calibration_cli as sbc_cli\n",
    "from src.context_managers import set_directory\n",
    "from src.data_processing import common as dphelp\n",
    "from src.modeling import pymc3_analysis as pmanal\n",
    "from src.modeling import pymc3_sampling_api as pmapi\n",
    "from src.modeling import sampling_pymc3_models as sampling\n",
    "from src.modeling.sampling_pymc3_models import SamplingArguments\n",
    "from src.modeling.simulation_based_calibration_helpers import SBCFileManager\n",
    "from src.plot.color_pal import SeabornColor\n",
    "\n",
    "notebook_tic = time()\n",
    "\n",
    "warnings.simplefilter(action=\"ignore\", category=UserWarning)\n",
    "\n",
    "gg.theme_set(gg.theme_classic())\n",
    "%config InlineBackend.figure_format = \"retina\"\n",
    "\n",
    "RANDOM_SEED = 847\n",
    "np.random.seed(RANDOM_SEED)\n",
    "\n",
    "pymc3_cache_dir = Path(\"..\", \"models\", \"modeling_cache\", \"pymc3_model_cache\")"
   ]
  },
  {
   "cell_type": "markdown",
   "id": "aggressive-bradley",
   "metadata": {
    "papermill": {},
    "tags": []
   },
   "source": [
    "Parameters for papermill:\n",
    "\n",
    "- `MODEL`: which model was tested\n",
    "- `SBC_RESULTS_DIR`: directory containing results of many rounds of SBC\n",
    "- `NUM_SIMULATIONS`: the number of simiulations; will be used to check that all results are found"
   ]
  },
  {
   "cell_type": "markdown",
   "id": "periodic-greensboro",
   "metadata": {
    "papermill": {},
    "tags": []
   },
   "source": [
    "## Setup"
   ]
  },
  {
   "cell_type": "markdown",
   "id": "separate-omaha",
   "metadata": {
    "papermill": {},
    "tags": []
   },
   "source": [
    "### Papermill parameters"
   ]
  },
  {
   "cell_type": "code",
   "execution_count": 2,
   "id": "primary-senegal",
   "metadata": {
    "execution": {
     "iopub.execute_input": "2021-04-06T12:54:13.792796Z",
     "iopub.status.busy": "2021-04-06T12:54:13.792250Z",
     "iopub.status.idle": "2021-04-06T12:54:13.795905Z",
     "shell.execute_reply": "2021-04-06T12:54:13.795420Z"
    },
    "papermill": {},
    "tags": [
     "parameters"
    ]
   },
   "outputs": [],
   "source": [
    "MODEL = \"\"\n",
    "SBC_RESULTS_DIR = \"\"\n",
    "NUM_SIMULATIONS = -1"
   ]
  },
  {
   "cell_type": "code",
   "execution_count": 3,
   "id": "eastern-butter",
   "metadata": {
    "execution": {
     "iopub.execute_input": "2021-04-06T12:54:13.799821Z",
     "iopub.status.busy": "2021-04-06T12:54:13.799287Z",
     "iopub.status.idle": "2021-04-06T12:54:13.802891Z",
     "shell.execute_reply": "2021-04-06T12:54:13.802374Z"
    },
    "tags": [
     "injected-parameters"
    ]
   },
   "outputs": [],
   "source": [
    "# Parameters\n",
    "MODEL = \"crc_ceres_mimic_one\"\n",
    "SBC_RESULTS_DIR = \"/n/scratch3/users/j/jc604/speclet-sbc/crc_ceres_mimic_one\"\n",
    "NUM_SIMULATIONS = 500\n"
   ]
  },
  {
   "cell_type": "markdown",
   "id": "numeric-xerox",
   "metadata": {
    "papermill": {},
    "tags": []
   },
   "source": [
    "### Prepare and validate papermill parameters"
   ]
  },
  {
   "cell_type": "markdown",
   "id": "missing-finding",
   "metadata": {
    "papermill": {},
    "tags": []
   },
   "source": [
    "Build the model using the `MODEL` parameter."
   ]
  },
  {
   "cell_type": "code",
   "execution_count": 4,
   "id": "protective-inspection",
   "metadata": {
    "execution": {
     "iopub.execute_input": "2021-04-06T12:54:13.807881Z",
     "iopub.status.busy": "2021-04-06T12:54:13.806741Z",
     "iopub.status.idle": "2021-04-06T12:54:13.808385Z",
     "shell.execute_reply": "2021-04-06T12:54:13.808918Z"
    },
    "papermill": {},
    "tags": []
   },
   "outputs": [],
   "source": [
    "ModelClass = sbc_cli.get_model_class(sbc_cli.ModelOption[MODEL])"
   ]
  },
  {
   "cell_type": "markdown",
   "id": "crude-pharmaceutical",
   "metadata": {
    "papermill": {},
    "tags": []
   },
   "source": [
    "Check values passed as the directory with results of the rounds of SBC."
   ]
  },
  {
   "cell_type": "code",
   "execution_count": 5,
   "id": "exempt-vessel",
   "metadata": {
    "execution": {
     "iopub.execute_input": "2021-04-06T12:54:13.812752Z",
     "iopub.status.busy": "2021-04-06T12:54:13.812230Z",
     "iopub.status.idle": "2021-04-06T12:54:13.816532Z",
     "shell.execute_reply": "2021-04-06T12:54:13.816037Z"
    },
    "papermill": {},
    "tags": []
   },
   "outputs": [],
   "source": [
    "sbc_results_dir = Path(\"../..\", SBC_RESULTS_DIR)\n",
    "assert sbc_results_dir.is_dir()\n",
    "assert sbc_results_dir.exists()"
   ]
  },
  {
   "cell_type": "markdown",
   "id": "enhanced-latex",
   "metadata": {
    "papermill": {},
    "tags": []
   },
   "source": [
    "Confirm that there is a positive number of simulations."
   ]
  },
  {
   "cell_type": "code",
   "execution_count": 6,
   "id": "regulation-appeal",
   "metadata": {
    "execution": {
     "iopub.execute_input": "2021-04-06T12:54:13.821428Z",
     "iopub.status.busy": "2021-04-06T12:54:13.820333Z",
     "iopub.status.idle": "2021-04-06T12:54:13.821946Z",
     "shell.execute_reply": "2021-04-06T12:54:13.822467Z"
    },
    "papermill": {},
    "tags": []
   },
   "outputs": [],
   "source": [
    "assert NUM_SIMULATIONS > 0"
   ]
  },
  {
   "cell_type": "markdown",
   "id": "civil-coordinator",
   "metadata": {
    "papermill": {},
    "tags": []
   },
   "source": [
    "## Read in all results"
   ]
  },
  {
   "cell_type": "code",
   "execution_count": 7,
   "id": "beautiful-infrastructure",
   "metadata": {
    "execution": {
     "iopub.execute_input": "2021-04-06T12:54:13.830323Z",
     "iopub.status.busy": "2021-04-06T12:54:13.829768Z",
     "iopub.status.idle": "2021-04-06T12:54:13.831502Z",
     "shell.execute_reply": "2021-04-06T12:54:13.831937Z"
    },
    "papermill": {},
    "tags": []
   },
   "outputs": [],
   "source": [
    "def split_parameter(p: str) -> List[str]:\n",
    "    return [a for a in re.split(\"\\\\[|,|\\\\]\", p) if a != \"\"]\n",
    "\n",
    "\n",
    "def get_prior_value_using_index_list(ary: np.ndarray, idx: List[int]) -> float:\n",
    "    if len(idx) == 0:\n",
    "        return ary\n",
    "\n",
    "    assert len(idx) == len(ary.shape)\n",
    "    value = ary\n",
    "    for i in idx:\n",
    "        value = value[i]\n",
    "    return value\n",
    "\n",
    "\n",
    "def make_priors_dataframe(\n",
    "    priors: Dict[str, np.ndarray], parameters: List[str]\n",
    ") -> pd.DataFrame:\n",
    "    df = pd.DataFrame({\"parameter\": parameters, \"true_value\": 0}).set_index(\"parameter\")\n",
    "    for parameter in parameters:\n",
    "        split_p = split_parameter(parameter)\n",
    "        param = split_p[0]\n",
    "        idx = [int(i) for i in split_p[1:]]\n",
    "        value = get_prior_value_using_index_list(priors[param][0], idx)\n",
    "        df.loc[parameter] = value\n",
    "    return df"
   ]
  },
  {
   "cell_type": "code",
   "execution_count": 8,
   "id": "figured-retailer",
   "metadata": {
    "execution": {
     "iopub.execute_input": "2021-04-06T12:54:13.837529Z",
     "iopub.status.busy": "2021-04-06T12:54:13.836952Z",
     "iopub.status.idle": "2021-04-06T13:15:55.062734Z",
     "shell.execute_reply": "2021-04-06T13:15:55.061759Z"
    },
    "papermill": {},
    "tags": []
   },
   "outputs": [],
   "source": [
    "simulation_posteriors = []\n",
    "\n",
    "for sbc_dir in sbc_results_dir.iterdir():\n",
    "    sbc_fm = SBCFileManager(sbc_dir)\n",
    "    if not sbc_fm.all_data_exists():\n",
    "        raise Exception(f\"Not all output from '{sbc_fm.dir.name}' exist.\")\n",
    "    res = sbc_fm.get_sbc_results()\n",
    "    true_values = make_priors_dataframe(\n",
    "        res.priors, parameters=res.posterior_summary.index.values\n",
    "    )\n",
    "    posterior_summary = res.posterior_summary.merge(\n",
    "        true_values, left_index=True, right_index=True\n",
    "    )\n",
    "    simulation_posteriors.append(posterior_summary)"
   ]
  },
  {
   "cell_type": "code",
   "execution_count": 9,
   "id": "metric-pendant",
   "metadata": {
    "execution": {
     "iopub.execute_input": "2021-04-06T13:15:55.070058Z",
     "iopub.status.busy": "2021-04-06T13:15:55.069045Z",
     "iopub.status.idle": "2021-04-06T13:15:55.077840Z",
     "shell.execute_reply": "2021-04-06T13:15:55.078587Z"
    },
    "papermill": {},
    "tags": []
   },
   "outputs": [
    {
     "name": "stdout",
     "output_type": "stream",
     "text": [
      "Collected all simulations.\n"
     ]
    }
   ],
   "source": [
    "if len(simulation_posteriors) == NUM_SIMULATIONS:\n",
    "    print(\"Collected all simulations.\")\n",
    "else:\n",
    "    print(\n",
    "        f\"The number of simluations ({NUM_SIMULATIONS}) does not match the number collected ({len(simulation_posteriors)}).\"\n",
    "    )"
   ]
  },
  {
   "cell_type": "markdown",
   "id": "reverse-gibraltar",
   "metadata": {
    "papermill": {},
    "tags": []
   },
   "source": [
    "## Analysis"
   ]
  },
  {
   "cell_type": "code",
   "execution_count": 10,
   "id": "gross-visitor",
   "metadata": {
    "execution": {
     "iopub.execute_input": "2021-04-06T13:15:55.085297Z",
     "iopub.status.busy": "2021-04-06T13:15:55.084349Z",
     "iopub.status.idle": "2021-04-06T13:15:55.088461Z",
     "shell.execute_reply": "2021-04-06T13:15:55.088905Z"
    },
    "papermill": {},
    "tags": []
   },
   "outputs": [],
   "source": [
    "def measure_posterior_accuracy(post) -> float:\n",
    "    hdi_lower = post.iloc[:, 2].values.flatten()\n",
    "    hdi_upper = post.iloc[:, 3].values.flatten()\n",
    "    trues = post[\"true_value\"].values.flatten()\n",
    "    return np.mean((hdi_lower < trues).astype(int) * (trues < hdi_upper).astype(int))"
   ]
  },
  {
   "cell_type": "code",
   "execution_count": 11,
   "id": "further-adoption",
   "metadata": {
    "execution": {
     "iopub.execute_input": "2021-04-06T13:15:55.095148Z",
     "iopub.status.busy": "2021-04-06T13:15:55.094621Z",
     "iopub.status.idle": "2021-04-06T13:15:55.398647Z",
     "shell.execute_reply": "2021-04-06T13:15:55.399093Z"
    },
    "papermill": {},
    "tags": []
   },
   "outputs": [],
   "source": [
    "hdi_acc = [measure_posterior_accuracy(p) for p in simulation_posteriors]"
   ]
  },
  {
   "cell_type": "code",
   "execution_count": 12,
   "id": "marine-michigan",
   "metadata": {
    "execution": {
     "iopub.execute_input": "2021-04-06T13:15:55.431405Z",
     "iopub.status.busy": "2021-04-06T13:15:55.422516Z",
     "iopub.status.idle": "2021-04-06T13:15:55.870098Z",
     "shell.execute_reply": "2021-04-06T13:15:55.870793Z"
    },
    "papermill": {},
    "tags": []
   },
   "outputs": [
    {
     "data": {
      "text/plain": [
       "Text(0.5, 0, 'HDI accuracy')"
      ]
     },
     "execution_count": 1,
     "metadata": {},
     "output_type": "execute_result"
    },
    {
     "data": {
      "image/png": "[encoded data removed]",
      "text/plain": [
       "<Figure size 432x288 with 1 Axes>"
      ]
     },
     "metadata": {
      "image/png": {
       "height": 267,
       "width": 402
      }
     },
     "output_type": "display_data"
    }
   ],
   "source": [
    "sns.set_theme()\n",
    "ax = sns.histplot(hdi_acc)\n",
    "ax.set_xlabel(\"HDI accuracy\");"
   ]
  },
  {
   "cell_type": "markdown",
   "id": "union-fight",
   "metadata": {
    "papermill": {},
    "tags": []
   },
   "source": [
    "---"
   ]
  },
  {
   "cell_type": "code",
   "execution_count": 13,
   "id": "premier-demographic",
   "metadata": {
    "execution": {
     "iopub.execute_input": "2021-04-06T13:15:55.876843Z",
     "iopub.status.busy": "2021-04-06T13:15:55.876152Z",
     "iopub.status.idle": "2021-04-06T13:15:55.882199Z",
     "shell.execute_reply": "2021-04-06T13:15:55.882944Z"
    },
    "papermill": {},
    "tags": []
   },
   "outputs": [
    {
     "name": "stdout",
     "output_type": "stream",
     "text": [
      "execution time: 21.70 minutes\n"
     ]
    }
   ],
   "source": [
    "notebook_toc = time()\n",
    "print(f\"execution time: {(notebook_toc - notebook_tic) / 60:.2f} minutes\")"
   ]
  },
  {
   "cell_type": "code",
   "execution_count": 14,
   "id": "transsexual-twenty",
   "metadata": {
    "execution": {
     "iopub.execute_input": "2021-04-06T13:15:55.889000Z",
     "iopub.status.busy": "2021-04-06T13:15:55.888139Z",
     "iopub.status.idle": "2021-04-06T13:15:56.297624Z",
     "shell.execute_reply": "2021-04-06T13:15:56.298157Z"
    },
    "papermill": {},
    "tags": []
   },
   "outputs": [
    {
     "name": "stdout",
     "output_type": "stream",
     "text": [
      "Last updated: 2021-04-06\n",
      "\n",
      "Python implementation: CPython\n",
      "Python version       : 3.9.2\n",
      "IPython version      : 7.21.0\n",
      "\n",
      "Compiler    : GCC 9.3.0\n",
      "OS          : Linux\n",
      "Release     : 3.10.0-1062.el7.x86_64\n",
      "Machine     : x86_64\n",
      "Processor   : x86_64\n",
      "CPU cores   : 32\n",
      "Architecture: 64bit\n",
      "\n",
      "Hostname: compute-a-16-167.o2.rc.hms.harvard.edu\n",
      "\n",
      "Git branch: simulation-based-calibration\n",
      "\n",
      "plotnine  : 0.7.1\n",
      "re        : 2.2.1\n",
      "numpy     : 1.20.1\n",
      "seaborn   : 0.11.1\n",
      "arviz     : 0.11.2\n",
      "pandas    : 1.2.3\n",
      "pymc3     : 3.11.1\n",
      "matplotlib: 3.3.4\n",
      "\n"
     ]
    }
   ],
   "source": [
    "%load_ext watermark\n",
    "%watermark -d -u -v -iv -b -h -m"
   ]
  }
 ],
 "metadata": {
  "kernelspec": {
   "display_name": "Python 3",
   "language": "python",
   "name": "python3"
  },
  "language_info": {
   "codemirror_mode": {
    "name": "ipython",
    "version": 3
   },
   "file_extension": ".py",
   "mimetype": "text/x-python",
   "name": "python",
   "nbconvert_exporter": "python",
   "pygments_lexer": "ipython3",
   "version": "3.9.2"
  },
  "papermill": {
   "default_parameters": {},
   "environment_variables": {},
   "input_path": "reports/crc_sbc_reports/sbc-results-template.ipynb",
   "output_path": "reports/crc_sbc_reports/crc_ceres_mimic_one_sbc-results.ipynb",
   "parameters": {
    "MODEL": "crc_ceres_mimic_one",
    "NUM_SIMULATIONS": 500,
    "SBC_RESULTS_DIR": "/n/scratch3/users/j/jc604/speclet-sbc/crc_ceres_mimic_one"
   },
   "version": "2.3.3"
  }
 },
 "nbformat": 4,
 "nbformat_minor": 5
}
