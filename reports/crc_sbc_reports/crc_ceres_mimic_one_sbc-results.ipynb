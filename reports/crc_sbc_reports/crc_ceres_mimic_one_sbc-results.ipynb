{
 "cells": [
  {
   "cell_type": "markdown",
   "id": "green-eleven",
   "metadata": {
    "papermill": {},
    "tags": []
   },
   "source": [
    "# Model Report"
   ]
  },
  {
   "cell_type": "code",
   "execution_count": 1,
   "id": "educational-prefix",
   "metadata": {
    "execution": {
     "iopub.execute_input": "2021-04-02T15:53:59.905332Z",
     "iopub.status.busy": "2021-04-02T15:53:59.904204Z",
     "iopub.status.idle": "2021-04-02T15:54:04.042537Z",
     "shell.execute_reply": "2021-04-02T15:54:04.041227Z"
    },
    "papermill": {},
    "tags": []
   },
   "outputs": [],
   "source": [
    "import re\n",
    "import warnings\n",
    "from pathlib import Path\n",
    "from time import time\n",
    "from typing import Dict, List\n",
    "\n",
    "import arviz as az\n",
    "import matplotlib.pyplot as plt\n",
    "import numpy as np\n",
    "import pandas as pd\n",
    "import plotnine as gg\n",
    "import pymc3 as pm\n",
    "import seaborn as sns\n",
    "from src.command_line_interfaces import simulation_based_calibration_cli as sbc_cli\n",
    "from src.context_managers import set_directory\n",
    "from src.data_processing import common as dphelp\n",
    "from src.modeling import pymc3_analysis as pmanal\n",
    "from src.modeling import pymc3_sampling_api as pmapi\n",
    "from src.modeling import sampling_pymc3_models as sampling\n",
    "from src.modeling.sampling_pymc3_models import SamplingArguments\n",
    "from src.modeling.simulation_based_calibration_helpers import SBCFileManager\n",
    "from src.plot.color_pal import SeabornColor\n",
    "\n",
    "notebook_tic = time()\n",
    "\n",
    "warnings.simplefilter(action=\"ignore\", category=UserWarning)\n",
    "\n",
    "gg.theme_set(gg.theme_classic())\n",
    "%config InlineBackend.figure_format = \"retina\"\n",
    "\n",
    "RANDOM_SEED = 847\n",
    "np.random.seed(RANDOM_SEED)\n",
    "\n",
    "pymc3_cache_dir = Path(\"..\", \"models\", \"modeling_cache\", \"pymc3_model_cache\")"
   ]
  },
  {
   "cell_type": "markdown",
   "id": "laden-stability",
   "metadata": {
    "papermill": {},
    "tags": []
   },
   "source": [
    "Parameters for papermill:\n",
    "\n",
    "- `MODEL`: which model was tested\n",
    "- `SBC_RESULTS_DIR`: directory containing results of many rounds of SBC\n",
    "- `NUM_SIMULATIONS`: the number of simiulations; will be used to check that all results are found"
   ]
  },
  {
   "cell_type": "markdown",
   "id": "unauthorized-child",
   "metadata": {
    "papermill": {},
    "tags": []
   },
   "source": [
    "## Setup"
   ]
  },
  {
   "cell_type": "markdown",
   "id": "athletic-cutting",
   "metadata": {
    "papermill": {},
    "tags": []
   },
   "source": [
    "### Papermill parameters"
   ]
  },
  {
   "cell_type": "code",
   "execution_count": 2,
   "id": "approved-fever",
   "metadata": {
    "execution": {
     "iopub.execute_input": "2021-04-02T15:54:04.048915Z",
     "iopub.status.busy": "2021-04-02T15:54:04.047876Z",
     "iopub.status.idle": "2021-04-02T15:54:04.050920Z",
     "shell.execute_reply": "2021-04-02T15:54:04.049932Z"
    },
    "papermill": {},
    "tags": [
     "parameters"
    ]
   },
   "outputs": [],
   "source": [
    "MODEL = \"\"\n",
    "SBC_RESULTS_DIR = \"\"\n",
    "NUM_SIMULATIONS = -1"
   ]
  },
  {
   "cell_type": "code",
   "execution_count": 3,
   "id": "nasty-nevada",
   "metadata": {
    "execution": {
     "iopub.execute_input": "2021-04-02T15:54:04.055134Z",
     "iopub.status.busy": "2021-04-02T15:54:04.054275Z",
     "iopub.status.idle": "2021-04-02T15:54:04.057880Z",
     "shell.execute_reply": "2021-04-02T15:54:04.057019Z"
    },
    "tags": [
     "injected-parameters"
    ]
   },
   "outputs": [],
   "source": [
    "# Parameters\n",
    "MODEL = \"crc_ceres_mimic_one\"\n",
    "SBC_RESULTS_DIR = \"temp/crc_ceres_mimic_one\"\n",
    "NUM_SIMULATIONS = 20"
   ]
  },
  {
   "cell_type": "markdown",
   "id": "educated-cornell",
   "metadata": {
    "papermill": {},
    "tags": []
   },
   "source": [
    "### Prepare and validate papermill parameters"
   ]
  },
  {
   "cell_type": "markdown",
   "id": "powered-pound",
   "metadata": {
    "papermill": {},
    "tags": []
   },
   "source": [
    "Build the model using the `MODEL` parameter."
   ]
  },
  {
   "cell_type": "code",
   "execution_count": 4,
   "id": "dynamic-scout",
   "metadata": {
    "execution": {
     "iopub.execute_input": "2021-04-02T15:54:04.063574Z",
     "iopub.status.busy": "2021-04-02T15:54:04.062757Z",
     "iopub.status.idle": "2021-04-02T15:54:04.066042Z",
     "shell.execute_reply": "2021-04-02T15:54:04.065264Z"
    },
    "papermill": {},
    "tags": []
   },
   "outputs": [],
   "source": [
    "ModelClass = sbc_cli.get_model_class(sbc_cli.ModelOption[MODEL])"
   ]
  },
  {
   "cell_type": "markdown",
   "id": "illegal-thompson",
   "metadata": {
    "papermill": {},
    "tags": []
   },
   "source": [
    "Check values passed as the directory with results of the rounds of SBC."
   ]
  },
  {
   "cell_type": "code",
   "execution_count": 5,
   "id": "informational-israel",
   "metadata": {
    "execution": {
     "iopub.execute_input": "2021-04-02T15:54:04.070551Z",
     "iopub.status.busy": "2021-04-02T15:54:04.069641Z",
     "iopub.status.idle": "2021-04-02T15:54:04.072530Z",
     "shell.execute_reply": "2021-04-02T15:54:04.071665Z"
    },
    "papermill": {},
    "tags": []
   },
   "outputs": [],
   "source": [
    "sbc_results_dir = Path(\"../..\", SBC_RESULTS_DIR)\n",
    "assert sbc_results_dir.is_dir()\n",
    "assert sbc_results_dir.exists()"
   ]
  },
  {
   "cell_type": "markdown",
   "id": "tribal-advocacy",
   "metadata": {
    "papermill": {},
    "tags": []
   },
   "source": [
    "Confirm that there is a positive number of simulations."
   ]
  },
  {
   "cell_type": "code",
   "execution_count": 6,
   "id": "incident-mobility",
   "metadata": {
    "execution": {
     "iopub.execute_input": "2021-04-02T15:54:04.077627Z",
     "iopub.status.busy": "2021-04-02T15:54:04.076857Z",
     "iopub.status.idle": "2021-04-02T15:54:04.079006Z",
     "shell.execute_reply": "2021-04-02T15:54:04.079613Z"
    },
    "papermill": {},
    "tags": []
   },
   "outputs": [],
   "source": [
    "assert NUM_SIMULATIONS > 0"
   ]
  },
  {
   "cell_type": "markdown",
   "id": "pressing-coral",
   "metadata": {
    "papermill": {},
    "tags": []
   },
   "source": [
    "## Read in all results"
   ]
  },
  {
   "cell_type": "code",
   "execution_count": 7,
   "id": "gentle-thinking",
   "metadata": {
    "execution": {
     "iopub.execute_input": "2021-04-02T15:54:04.086864Z",
     "iopub.status.busy": "2021-04-02T15:54:04.086125Z",
     "iopub.status.idle": "2021-04-02T15:54:04.088953Z",
     "shell.execute_reply": "2021-04-02T15:54:04.088194Z"
    },
    "papermill": {},
    "tags": []
   },
   "outputs": [],
   "source": [
    "def split_parameter(p: str) -> List[str]:\n",
    "    return [a for a in re.split(\"\\\\[|,|\\\\]\", p) if a != \"\"]\n",
    "\n",
    "\n",
    "def get_prior_value_using_index_list(ary: np.ndarray, idx: List[int]) -> float:\n",
    "    if len(idx) == 0:\n",
    "        return ary\n",
    "\n",
    "    assert len(idx) == len(ary.shape)\n",
    "    value = ary\n",
    "    for i in idx:\n",
    "        value = value[i]\n",
    "    return value\n",
    "\n",
    "\n",
    "def make_priors_dataframe(\n",
    "    priors: Dict[str, np.ndarray], parameters: List[str]\n",
    ") -> pd.DataFrame:\n",
    "    df = pd.DataFrame({\"parameter\": parameters, \"true_value\": 0}).set_index(\"parameter\")\n",
    "    for parameter in parameters:\n",
    "        split_p = split_parameter(parameter)\n",
    "        param = split_p[0]\n",
    "        idx = [int(i) for i in split_p[1:]]\n",
    "        value = get_prior_value_using_index_list(priors[param][0], idx)\n",
    "        df.loc[parameter] = value\n",
    "    return df"
   ]
  },
  {
   "cell_type": "code",
   "execution_count": 8,
   "id": "foster-outdoors",
   "metadata": {
    "execution": {
     "iopub.execute_input": "2021-04-02T15:54:04.093967Z",
     "iopub.status.busy": "2021-04-02T15:54:04.093150Z",
     "iopub.status.idle": "2021-04-02T15:54:13.747277Z",
     "shell.execute_reply": "2021-04-02T15:54:13.746250Z"
    },
    "papermill": {},
    "tags": []
   },
   "outputs": [],
   "source": [
    "simulation_posteriors = []\n",
    "\n",
    "for sbc_dir in sbc_results_dir.iterdir():\n",
    "    sbc_fm = SBCFileManager(sbc_dir)\n",
    "    if not sbc_fm.all_data_exists():\n",
    "        raise Exception(f\"Not all output from '{sbc_fm.dir.name}' exist.\")\n",
    "    res = sbc_fm.get_sbc_results()\n",
    "    true_values = make_priors_dataframe(\n",
    "        res.priors, parameters=res.posterior_summary.index.values\n",
    "    )\n",
    "    posterior_summary = res.posterior_summary.merge(\n",
    "        true_values, left_index=True, right_index=True\n",
    "    )\n",
    "    simulation_posteriors.append(posterior_summary)"
   ]
  },
  {
   "cell_type": "code",
   "execution_count": 9,
   "id": "surrounded-narrative",
   "metadata": {
    "execution": {
     "iopub.execute_input": "2021-04-02T15:54:13.754412Z",
     "iopub.status.busy": "2021-04-02T15:54:13.753493Z",
     "iopub.status.idle": "2021-04-02T15:54:13.760148Z",
     "shell.execute_reply": "2021-04-02T15:54:13.759203Z"
    },
    "papermill": {},
    "tags": []
   },
   "outputs": [
    {
     "name": "stdout",
     "output_type": "stream",
     "text": [
      "Collected all simulations.\n"
     ]
    }
   ],
   "source": [
    "if len(simulation_posteriors) == NUM_SIMULATIONS:\n",
    "    print(\"Collected all simulations.\")\n",
    "else:\n",
    "    print(\n",
    "        f\"The number of simluations ({NUM_SIMULATIONS}) does not match the number collected ({len(simulation_posteriors)}).\"\n",
    "    )"
   ]
  },
  {
   "cell_type": "markdown",
   "id": "wrapped-jonathan",
   "metadata": {
    "papermill": {},
    "tags": []
   },
   "source": [
    "## Analysis"
   ]
  },
  {
   "cell_type": "code",
   "execution_count": 10,
   "id": "automotive-mixer",
   "metadata": {
    "execution": {
     "iopub.execute_input": "2021-04-02T15:54:13.766776Z",
     "iopub.status.busy": "2021-04-02T15:54:13.766245Z",
     "iopub.status.idle": "2021-04-02T15:54:13.769271Z",
     "shell.execute_reply": "2021-04-02T15:54:13.770009Z"
    },
    "papermill": {},
    "tags": []
   },
   "outputs": [],
   "source": [
    "def measure_posterior_accuracy(post) -> float:\n",
    "    hdi_lower = post.iloc[:, 2].values.flatten()\n",
    "    hdi_upper = post.iloc[:, 3].values.flatten()\n",
    "    trues = post[\"true_value\"].values.flatten()\n",
    "    return np.mean((hdi_lower < trues).astype(int) * (trues < hdi_upper).astype(int))"
   ]
  },
  {
   "cell_type": "code",
   "execution_count": 11,
   "id": "cellular-vegetable",
   "metadata": {
    "execution": {
     "iopub.execute_input": "2021-04-02T15:54:13.776079Z",
     "iopub.status.busy": "2021-04-02T15:54:13.775225Z",
     "iopub.status.idle": "2021-04-02T15:54:13.784316Z",
     "shell.execute_reply": "2021-04-02T15:54:13.783438Z"
    },
    "papermill": {},
    "tags": []
   },
   "outputs": [],
   "source": [
    "hdi_acc = [measure_posterior_accuracy(p) for p in simulation_posteriors]"
   ]
  },
  {
   "cell_type": "code",
   "execution_count": 12,
   "id": "arabic-strength",
   "metadata": {
    "execution": {
     "iopub.execute_input": "2021-04-02T15:54:13.828193Z",
     "iopub.status.busy": "2021-04-02T15:54:13.827287Z",
     "iopub.status.idle": "2021-04-02T15:54:14.158722Z",
     "shell.execute_reply": "2021-04-02T15:54:14.157614Z"
    },
    "papermill": {},
    "tags": []
   },
   "outputs": [
    {
     "data": {
      "text/plain": [
       "Text(0.5, 0, 'HDI accuracy')"
      ]
     },
     "execution_count": 1,
     "metadata": {},
     "output_type": "execute_result"
    },
    {
     "data": {
      "image/png": "[encoded data removed]",
      "text/plain": [
       "<Figure size 432x288 with 1 Axes>"
      ]
     },
     "metadata": {
      "image/png": {
       "height": 267,
       "width": 387
      }
     },
     "output_type": "display_data"
    }
   ],
   "source": [
    "sns.set_theme()\n",
    "ax = sns.histplot(hdi_acc)\n",
    "ax.set_xlabel(\"HDI accuracy\");"
   ]
  },
  {
   "cell_type": "markdown",
   "id": "earned-rebound",
   "metadata": {
    "papermill": {},
    "tags": []
   },
   "source": [
    "---"
   ]
  },
  {
   "cell_type": "code",
   "execution_count": 13,
   "id": "wrapped-radar",
   "metadata": {
    "execution": {
     "iopub.execute_input": "2021-04-02T15:54:14.165092Z",
     "iopub.status.busy": "2021-04-02T15:54:14.164129Z",
     "iopub.status.idle": "2021-04-02T15:54:14.169739Z",
     "shell.execute_reply": "2021-04-02T15:54:14.168714Z"
    },
    "papermill": {},
    "tags": []
   },
   "outputs": [
    {
     "name": "stdout",
     "output_type": "stream",
     "text": [
      "execution time: 0.17 minutes\n"
     ]
    }
   ],
   "source": [
    "notebook_toc = time()\n",
    "print(f\"execution time: {(notebook_toc - notebook_tic) / 60:.2f} minutes\")"
   ]
  },
  {
   "cell_type": "code",
   "execution_count": 14,
   "id": "italian-trade",
   "metadata": {
    "execution": {
     "iopub.execute_input": "2021-04-02T15:54:14.175023Z",
     "iopub.status.busy": "2021-04-02T15:54:14.174070Z",
     "iopub.status.idle": "2021-04-02T15:54:14.268067Z",
     "shell.execute_reply": "2021-04-02T15:54:14.266963Z"
    },
    "papermill": {},
    "tags": []
   },
   "outputs": [
    {
     "name": "stdout",
     "output_type": "stream",
     "text": [
      "Last updated: 2021-04-02\n",
      "\n",
      "Python implementation: CPython\n",
      "Python version       : 3.9.2\n",
      "IPython version      : 7.21.0\n",
      "\n",
      "Compiler    : GCC 9.3.0\n",
      "OS          : Linux\n",
      "Release     : 3.10.0-1062.el7.x86_64\n",
      "Machine     : x86_64\n",
      "Processor   : x86_64\n",
      "CPU cores   : 28\n",
      "Architecture: 64bit\n",
      "\n",
      "Hostname: compute-e-16-233.o2.rc.hms.harvard.edu\n",
      "\n",
      "Git branch: simulation-based-calibration\n",
      "\n",
      "plotnine  : 0.7.1\n",
      "pandas    : 1.2.3\n",
      "matplotlib: 3.3.4\n",
      "re        : 2.2.1\n",
      "numpy     : 1.20.1\n",
      "seaborn   : 0.11.1\n",
      "arviz     : 0.11.2\n",
      "pymc3     : 3.11.1\n",
      "\n"
     ]
    }
   ],
   "source": [
    "%load_ext watermark\n",
    "%watermark -d -u -v -iv -b -h -m"
   ]
  }
 ],
 "metadata": {
  "kernelspec": {
   "display_name": "Python 3",
   "language": "python",
   "name": "python3"
  },
  "language_info": {
   "codemirror_mode": {
    "name": "ipython",
    "version": 3
   },
   "file_extension": ".py",
   "mimetype": "text/x-python",
   "name": "python",
   "nbconvert_exporter": "python",
   "pygments_lexer": "ipython3",
   "version": "3.9.2"
  },
  "papermill": {
   "default_parameters": {},
   "environment_variables": {},
   "input_path": "reports/crc_sbc_reports/sbc-results-template.ipynb",
   "output_path": "reports/crc_sbc_reports/crc_ceres_mimic_one_sbc-results.ipynb",
   "parameters": {
    "MODEL": "crc_ceres_mimic_one",
    "NUM_SIMULATIONS": 20,
    "SBC_RESULTS_DIR": "temp/crc_ceres_mimic_one"
   },
   "version": "2.3.3"
  }
 },
 "nbformat": 4,
 "nbformat_minor": 5
}
