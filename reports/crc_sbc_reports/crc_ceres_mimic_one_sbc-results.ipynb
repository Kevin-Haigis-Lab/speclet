{
 "cells": [
  {
   "cell_type": "markdown",
   "id": "sonic-costume",
   "metadata": {
    "papermill": {},
    "tags": []
   },
   "source": [
    "# Model Report"
   ]
  },
  {
   "cell_type": "code",
   "execution_count": 1,
   "id": "extensive-lucas",
   "metadata": {
    "execution": {
     "iopub.execute_input": "2021-04-01T20:29:40.365552Z",
     "iopub.status.busy": "2021-04-01T20:29:40.364420Z",
     "iopub.status.idle": "2021-04-01T20:29:45.573181Z",
     "shell.execute_reply": "2021-04-01T20:29:45.574075Z"
    },
    "papermill": {},
    "tags": []
   },
   "outputs": [],
   "source": [
    "import warnings\n",
    "from pathlib import Path\n",
    "from time import time\n",
    "\n",
    "import arviz as az\n",
    "import matplotlib.pyplot as plt\n",
    "import numpy as np\n",
    "import pandas as pd\n",
    "import plotnine as gg\n",
    "import pymc3 as pm\n",
    "import seaborn as sns\n",
    "from src.command_line_interfaces import simulation_based_calibration_cli as sbc_cli\n",
    "from src.context_managers import set_directory\n",
    "from src.data_processing import common as dphelp\n",
    "from src.modeling import pymc3_analysis as pmanal\n",
    "from src.modeling import pymc3_sampling_api as pmapi\n",
    "from src.modeling import sampling_pymc3_models as sampling\n",
    "from src.modeling.sampling_pymc3_models import SamplingArguments\n",
    "from src.modeling.simulation_based_calibration_helpers import SBCFileManager\n",
    "from src.plot.color_pal import SeabornColor\n",
    "\n",
    "notebook_tic = time()\n",
    "\n",
    "warnings.simplefilter(action=\"ignore\", category=UserWarning)\n",
    "\n",
    "gg.theme_set(gg.theme_classic())\n",
    "%config InlineBackend.figure_format = \"retina\"\n",
    "\n",
    "RANDOM_SEED = 847\n",
    "np.random.seed(RANDOM_SEED)\n",
    "\n",
    "pymc3_cache_dir = Path(\"..\", \"models\", \"modeling_cache\", \"pymc3_model_cache\")"
   ]
  },
  {
   "cell_type": "markdown",
   "id": "accepting-athletics",
   "metadata": {
    "papermill": {},
    "tags": []
   },
   "source": [
    "Parameters for papermill:\n",
    "\n",
    "- `MODEL`: which model was tested\n",
    "- `SBC_RESULTS_DIR`: directory containing results of many rounds of SBC\n",
    "- `NUM_SIMULATIONS`: the number of simiulations; will be used to check that all results are found"
   ]
  },
  {
   "cell_type": "markdown",
   "id": "arranged-paris",
   "metadata": {
    "papermill": {},
    "tags": []
   },
   "source": [
    "## Setup"
   ]
  },
  {
   "cell_type": "markdown",
   "id": "patient-bolivia",
   "metadata": {
    "papermill": {},
    "tags": []
   },
   "source": [
    "### Papermill parameters"
   ]
  },
  {
   "cell_type": "code",
   "execution_count": 2,
   "id": "brazilian-sperm",
   "metadata": {
    "execution": {
     "iopub.execute_input": "2021-04-01T20:29:45.579060Z",
     "iopub.status.busy": "2021-04-01T20:29:45.578008Z",
     "iopub.status.idle": "2021-04-01T20:29:45.581009Z",
     "shell.execute_reply": "2021-04-01T20:29:45.581869Z"
    },
    "papermill": {},
    "tags": [
     "parameters"
    ]
   },
   "outputs": [],
   "source": [
    "MODEL = \"\"\n",
    "SBC_RESULTS_DIR = \"\"\n",
    "NUM_SIMULATIONS = -1"
   ]
  },
  {
   "cell_type": "code",
   "execution_count": 3,
   "id": "signal-turkish",
   "metadata": {
    "execution": {
     "iopub.execute_input": "2021-04-01T20:29:45.585903Z",
     "iopub.status.busy": "2021-04-01T20:29:45.584917Z",
     "iopub.status.idle": "2021-04-01T20:29:45.587616Z",
     "shell.execute_reply": "2021-04-01T20:29:45.588068Z"
    },
    "tags": [
     "injected-parameters"
    ]
   },
   "outputs": [],
   "source": [
    "# Parameters\n",
    "MODEL = \"crc_ceres_mimic_one\"\n",
    "SBC_RESULTS_DIR = \"temp/crc_ceres_mimic_one\"\n",
    "NUM_SIMULATIONS = 5"
   ]
  },
  {
   "cell_type": "markdown",
   "id": "threatened-certification",
   "metadata": {
    "papermill": {},
    "tags": []
   },
   "source": [
    "### Prepare and validate papermill parameters"
   ]
  },
  {
   "cell_type": "markdown",
   "id": "directed-jewelry",
   "metadata": {
    "papermill": {},
    "tags": []
   },
   "source": [
    "Build the model using the `MODEL` parameter."
   ]
  },
  {
   "cell_type": "code",
   "execution_count": 4,
   "id": "supreme-scheme",
   "metadata": {
    "execution": {
     "iopub.execute_input": "2021-04-01T20:29:45.592553Z",
     "iopub.status.busy": "2021-04-01T20:29:45.592028Z",
     "iopub.status.idle": "2021-04-01T20:29:45.595307Z",
     "shell.execute_reply": "2021-04-01T20:29:45.595742Z"
    },
    "papermill": {},
    "tags": []
   },
   "outputs": [],
   "source": [
    "ModelClass = sbc_cli.get_model_class(sbc_cli.ModelOption[MODEL])"
   ]
  },
  {
   "cell_type": "markdown",
   "id": "reported-blind",
   "metadata": {
    "papermill": {},
    "tags": []
   },
   "source": [
    "Check values passed as the directory with results of the rounds of SBC."
   ]
  },
  {
   "cell_type": "code",
   "execution_count": 5,
   "id": "orange-accuracy",
   "metadata": {
    "execution": {
     "iopub.execute_input": "2021-04-01T20:29:45.600001Z",
     "iopub.status.busy": "2021-04-01T20:29:45.599466Z",
     "iopub.status.idle": "2021-04-01T20:29:45.602731Z",
     "shell.execute_reply": "2021-04-01T20:29:45.603155Z"
    },
    "papermill": {},
    "tags": []
   },
   "outputs": [],
   "source": [
    "sbc_results_dir = Path(\"../..\", SBC_RESULTS_DIR)\n",
    "assert sbc_results_dir.is_dir()\n",
    "assert sbc_results_dir.exists()"
   ]
  },
  {
   "cell_type": "markdown",
   "id": "embedded-basement",
   "metadata": {
    "papermill": {},
    "tags": []
   },
   "source": [
    "Confirm that there is a positive number of simulations."
   ]
  },
  {
   "cell_type": "code",
   "execution_count": 6,
   "id": "intelligent-spanking",
   "metadata": {
    "execution": {
     "iopub.execute_input": "2021-04-01T20:29:45.607232Z",
     "iopub.status.busy": "2021-04-01T20:29:45.606728Z",
     "iopub.status.idle": "2021-04-01T20:29:45.609991Z",
     "shell.execute_reply": "2021-04-01T20:29:45.610408Z"
    },
    "papermill": {},
    "tags": []
   },
   "outputs": [],
   "source": [
    "assert NUM_SIMULATIONS > 0"
   ]
  },
  {
   "cell_type": "markdown",
   "id": "weighted-nickel",
   "metadata": {
    "papermill": {},
    "tags": []
   },
   "source": [
    "## Read in all results"
   ]
  },
  {
   "cell_type": "code",
   "execution_count": 7,
   "id": "alpine-program",
   "metadata": {
    "execution": {
     "iopub.execute_input": "2021-04-01T20:29:45.614982Z",
     "iopub.status.busy": "2021-04-01T20:29:45.614446Z",
     "iopub.status.idle": "2021-04-01T20:29:47.252682Z",
     "shell.execute_reply": "2021-04-01T20:29:47.253509Z"
    },
    "papermill": {},
    "tags": []
   },
   "outputs": [],
   "source": [
    "for sbc_dir in sbc_results_dir.iterdir():\n",
    "    sbc_fm = SBCFileManager(sbc_dir)\n",
    "    if not sbc_fm.all_data_exists():\n",
    "        raise Exception(f\"Not all output from '{sbc_fm.dir.name}' exist.\")\n",
    "    res = sbc_fm.get_sbc_results()"
   ]
  },
  {
   "cell_type": "code",
   "execution_count": 8,
   "id": "changed-weekly",
   "metadata": {
    "execution": {
     "iopub.execute_input": "2021-04-01T20:29:47.257451Z",
     "iopub.status.busy": "2021-04-01T20:29:47.256470Z",
     "iopub.status.idle": "2021-04-01T20:29:47.282896Z",
     "shell.execute_reply": "2021-04-01T20:29:47.283803Z"
    },
    "papermill": {},
    "tags": []
   },
   "outputs": [
    {
     "data": {
      "text/html": [
       "<div>\n",
       "<style scoped>\n",
       "    .dataframe tbody tr th:only-of-type {\n",
       "        vertical-align: middle;\n",
       "    }\n",
       "\n",
       "    .dataframe tbody tr th {\n",
       "        vertical-align: top;\n",
       "    }\n",
       "\n",
       "    .dataframe thead th {\n",
       "        text-align: right;\n",
       "    }\n",
       "</style>\n",
       "<table border=\"1\" class=\"dataframe\">\n",
       "  <thead>\n",
       "    <tr style=\"text-align: right;\">\n",
       "      <th></th>\n",
       "      <th>mean</th>\n",
       "      <th>sd</th>\n",
       "      <th>hdi_3%</th>\n",
       "      <th>hdi_97%</th>\n",
       "      <th>mcse_mean</th>\n",
       "      <th>mcse_sd</th>\n",
       "      <th>ess_bulk</th>\n",
       "      <th>ess_tail</th>\n",
       "      <th>r_hat</th>\n",
       "    </tr>\n",
       "    <tr>\n",
       "      <th>parameter</th>\n",
       "      <th></th>\n",
       "      <th></th>\n",
       "      <th></th>\n",
       "      <th></th>\n",
       "      <th></th>\n",
       "      <th></th>\n",
       "      <th></th>\n",
       "      <th></th>\n",
       "      <th></th>\n",
       "    </tr>\n",
       "  </thead>\n",
       "  <tbody>\n",
       "    <tr>\n",
       "      <th>μ_h</th>\n",
       "      <td>0.404</td>\n",
       "      <td>0.338</td>\n",
       "      <td>-0.198</td>\n",
       "      <td>1.046</td>\n",
       "      <td>0.010</td>\n",
       "      <td>0.007</td>\n",
       "      <td>1102.0</td>\n",
       "      <td>877.0</td>\n",
       "      <td>NaN</td>\n",
       "    </tr>\n",
       "    <tr>\n",
       "      <th>μ_d</th>\n",
       "      <td>0.112</td>\n",
       "      <td>0.118</td>\n",
       "      <td>-0.112</td>\n",
       "      <td>0.329</td>\n",
       "      <td>0.004</td>\n",
       "      <td>0.003</td>\n",
       "      <td>875.0</td>\n",
       "      <td>981.0</td>\n",
       "      <td>NaN</td>\n",
       "    </tr>\n",
       "    <tr>\n",
       "      <th>μ_η</th>\n",
       "      <td>0.133</td>\n",
       "      <td>0.205</td>\n",
       "      <td>-0.285</td>\n",
       "      <td>0.482</td>\n",
       "      <td>0.007</td>\n",
       "      <td>0.005</td>\n",
       "      <td>990.0</td>\n",
       "      <td>1013.0</td>\n",
       "      <td>NaN</td>\n",
       "    </tr>\n",
       "    <tr>\n",
       "      <th>h[0]</th>\n",
       "      <td>0.750</td>\n",
       "      <td>0.691</td>\n",
       "      <td>-0.406</td>\n",
       "      <td>2.187</td>\n",
       "      <td>0.022</td>\n",
       "      <td>0.016</td>\n",
       "      <td>989.0</td>\n",
       "      <td>934.0</td>\n",
       "      <td>NaN</td>\n",
       "    </tr>\n",
       "    <tr>\n",
       "      <th>h[1]</th>\n",
       "      <td>0.250</td>\n",
       "      <td>0.714</td>\n",
       "      <td>-1.015</td>\n",
       "      <td>1.602</td>\n",
       "      <td>0.023</td>\n",
       "      <td>0.017</td>\n",
       "      <td>972.0</td>\n",
       "      <td>983.0</td>\n",
       "      <td>NaN</td>\n",
       "    </tr>\n",
       "    <tr>\n",
       "      <th>...</th>\n",
       "      <td>...</td>\n",
       "      <td>...</td>\n",
       "      <td>...</td>\n",
       "      <td>...</td>\n",
       "      <td>...</td>\n",
       "      <td>...</td>\n",
       "      <td>...</td>\n",
       "      <td>...</td>\n",
       "      <td>...</td>\n",
       "    </tr>\n",
       "    <tr>\n",
       "      <th>μ[146]</th>\n",
       "      <td>0.964</td>\n",
       "      <td>0.881</td>\n",
       "      <td>-0.618</td>\n",
       "      <td>2.598</td>\n",
       "      <td>0.028</td>\n",
       "      <td>0.020</td>\n",
       "      <td>966.0</td>\n",
       "      <td>992.0</td>\n",
       "      <td>NaN</td>\n",
       "    </tr>\n",
       "    <tr>\n",
       "      <th>μ[147]</th>\n",
       "      <td>1.583</td>\n",
       "      <td>0.920</td>\n",
       "      <td>-0.241</td>\n",
       "      <td>3.234</td>\n",
       "      <td>0.028</td>\n",
       "      <td>0.020</td>\n",
       "      <td>1096.0</td>\n",
       "      <td>980.0</td>\n",
       "      <td>NaN</td>\n",
       "    </tr>\n",
       "    <tr>\n",
       "      <th>μ[148]</th>\n",
       "      <td>1.578</td>\n",
       "      <td>0.923</td>\n",
       "      <td>-0.028</td>\n",
       "      <td>3.520</td>\n",
       "      <td>0.029</td>\n",
       "      <td>0.021</td>\n",
       "      <td>1002.0</td>\n",
       "      <td>941.0</td>\n",
       "      <td>NaN</td>\n",
       "    </tr>\n",
       "    <tr>\n",
       "      <th>μ[149]</th>\n",
       "      <td>1.562</td>\n",
       "      <td>0.887</td>\n",
       "      <td>-0.040</td>\n",
       "      <td>3.361</td>\n",
       "      <td>0.027</td>\n",
       "      <td>0.020</td>\n",
       "      <td>1060.0</td>\n",
       "      <td>977.0</td>\n",
       "      <td>NaN</td>\n",
       "    </tr>\n",
       "    <tr>\n",
       "      <th>σ</th>\n",
       "      <td>2.567</td>\n",
       "      <td>0.196</td>\n",
       "      <td>2.260</td>\n",
       "      <td>2.997</td>\n",
       "      <td>0.007</td>\n",
       "      <td>0.005</td>\n",
       "      <td>854.0</td>\n",
       "      <td>856.0</td>\n",
       "      <td>NaN</td>\n",
       "    </tr>\n",
       "  </tbody>\n",
       "</table>\n",
       "<p>271 rows × 9 columns</p>\n",
       "</div>"
      ],
      "text/plain": [
       "            mean     sd  hdi_3%  hdi_97%  mcse_mean  mcse_sd  ess_bulk  \\\n",
       "parameter                                                                \n",
       "μ_h        0.404  0.338  -0.198    1.046      0.010    0.007    1102.0   \n",
       "μ_d        0.112  0.118  -0.112    0.329      0.004    0.003     875.0   \n",
       "μ_η        0.133  0.205  -0.285    0.482      0.007    0.005     990.0   \n",
       "h[0]       0.750  0.691  -0.406    2.187      0.022    0.016     989.0   \n",
       "h[1]       0.250  0.714  -1.015    1.602      0.023    0.017     972.0   \n",
       "...          ...    ...     ...      ...        ...      ...       ...   \n",
       "μ[146]     0.964  0.881  -0.618    2.598      0.028    0.020     966.0   \n",
       "μ[147]     1.583  0.920  -0.241    3.234      0.028    0.020    1096.0   \n",
       "μ[148]     1.578  0.923  -0.028    3.520      0.029    0.021    1002.0   \n",
       "μ[149]     1.562  0.887  -0.040    3.361      0.027    0.020    1060.0   \n",
       "σ          2.567  0.196   2.260    2.997      0.007    0.005     854.0   \n",
       "\n",
       "           ess_tail  r_hat  \n",
       "parameter                   \n",
       "μ_h           877.0    NaN  \n",
       "μ_d           981.0    NaN  \n",
       "μ_η          1013.0    NaN  \n",
       "h[0]          934.0    NaN  \n",
       "h[1]          983.0    NaN  \n",
       "...             ...    ...  \n",
       "μ[146]        992.0    NaN  \n",
       "μ[147]        980.0    NaN  \n",
       "μ[148]        941.0    NaN  \n",
       "μ[149]        977.0    NaN  \n",
       "σ             856.0    NaN  \n",
       "\n",
       "[271 rows x 9 columns]"
      ]
     },
     "execution_count": 1,
     "metadata": {},
     "output_type": "execute_result"
    }
   ],
   "source": [
    "res.posterior_summary"
   ]
  },
  {
   "cell_type": "code",
   "execution_count": null,
   "id": "radical-arbor",
   "metadata": {
    "papermill": {},
    "tags": []
   },
   "outputs": [],
   "source": []
  },
  {
   "cell_type": "code",
   "execution_count": null,
   "id": "willing-characterization",
   "metadata": {
    "papermill": {},
    "tags": []
   },
   "outputs": [],
   "source": []
  },
  {
   "cell_type": "code",
   "execution_count": null,
   "id": "personal-agent",
   "metadata": {
    "papermill": {},
    "tags": []
   },
   "outputs": [],
   "source": []
  },
  {
   "cell_type": "markdown",
   "id": "protective-apparatus",
   "metadata": {
    "papermill": {},
    "tags": []
   },
   "source": [
    "---"
   ]
  },
  {
   "cell_type": "code",
   "execution_count": 9,
   "id": "senior-vitamin",
   "metadata": {
    "execution": {
     "iopub.execute_input": "2021-04-01T20:29:47.287943Z",
     "iopub.status.busy": "2021-04-01T20:29:47.287077Z",
     "iopub.status.idle": "2021-04-01T20:29:47.291788Z",
     "shell.execute_reply": "2021-04-01T20:29:47.292605Z"
    },
    "papermill": {},
    "tags": []
   },
   "outputs": [
    {
     "name": "stdout",
     "output_type": "stream",
     "text": [
      "execution time: 0.03 minutes\n"
     ]
    }
   ],
   "source": [
    "notebook_toc = time()\n",
    "print(f\"execution time: {(notebook_toc - notebook_tic) / 60:.2f} minutes\")"
   ]
  },
  {
   "cell_type": "code",
   "execution_count": 10,
   "id": "loose-withdrawal",
   "metadata": {
    "execution": {
     "iopub.execute_input": "2021-04-01T20:29:47.296076Z",
     "iopub.status.busy": "2021-04-01T20:29:47.295254Z",
     "iopub.status.idle": "2021-04-01T20:29:47.374607Z",
     "shell.execute_reply": "2021-04-01T20:29:47.375662Z"
    },
    "papermill": {},
    "tags": []
   },
   "outputs": [
    {
     "name": "stdout",
     "output_type": "stream",
     "text": [
      "Last updated: 2021-04-01\n",
      "\n",
      "Python implementation: CPython\n",
      "Python version       : 3.9.2\n",
      "IPython version      : 7.21.0\n",
      "\n",
      "Compiler    : GCC 9.3.0\n",
      "OS          : Linux\n",
      "Release     : 3.10.0-1062.el7.x86_64\n",
      "Machine     : x86_64\n",
      "Processor   : x86_64\n",
      "CPU cores   : 32\n",
      "Architecture: 64bit\n",
      "\n",
      "Hostname: compute-a-16-163.o2.rc.hms.harvard.edu\n",
      "\n",
      "Git branch: simulation-based-calibration\n",
      "\n",
      "pymc3     : 3.11.1\n",
      "arviz     : 0.11.2\n",
      "plotnine  : 0.7.1\n",
      "matplotlib: 3.3.4\n",
      "numpy     : 1.20.1\n",
      "pandas    : 1.2.3\n",
      "seaborn   : 0.11.1\n",
      "\n"
     ]
    }
   ],
   "source": [
    "%load_ext watermark\n",
    "%watermark -d -u -v -iv -b -h -m"
   ]
  }
 ],
 "metadata": {
  "kernelspec": {
   "display_name": "Python 3",
   "language": "python",
   "name": "python3"
  },
  "language_info": {
   "codemirror_mode": {
    "name": "ipython",
    "version": 3
   },
   "file_extension": ".py",
   "mimetype": "text/x-python",
   "name": "python",
   "nbconvert_exporter": "python",
   "pygments_lexer": "ipython3",
   "version": "3.9.2"
  },
  "papermill": {
   "default_parameters": {},
   "environment_variables": {},
   "input_path": "reports/crc_sbc_reports/sbc-results-template.ipynb",
   "output_path": "reports/crc_sbc_reports/crc_ceres_mimic_one_sbc-results.ipynb",
   "parameters": {
    "MODEL": "crc_ceres_mimic_one",
    "NUM_SIMULATIONS": 5,
    "SBC_RESULTS_DIR": "temp/crc_ceres_mimic_one"
   },
   "version": "2.3.3"
  }
 },
 "nbformat": 4,
 "nbformat_minor": 5
}
