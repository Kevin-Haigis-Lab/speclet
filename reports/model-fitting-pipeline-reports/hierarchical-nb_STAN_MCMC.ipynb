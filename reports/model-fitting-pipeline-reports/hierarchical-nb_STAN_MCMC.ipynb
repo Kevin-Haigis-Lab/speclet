{
 "cells": [
  {
   "cell_type": "markdown",
   "id": "eed84748",
   "metadata": {
    "papermill": {},
    "tags": []
   },
   "source": [
    "# Model Report"
   ]
  },
  {
   "cell_type": "code",
   "execution_count": null,
   "id": "c12cfaaa",
   "metadata": {
    "papermill": {},
    "tags": []
   },
   "outputs": [],
   "source": [
    "import logging\n",
    "from time import time\n",
    "from typing import Optional\n",
    "\n",
    "import arviz as az\n",
    "import matplotlib.pyplot as plt\n",
    "\n",
    "from speclet import model_configuration\n",
    "from speclet.analysis.arviz_analysis import describe_mcmc\n",
    "from speclet.bayesian_models import get_bayesian_model\n",
    "from speclet.io import project_root\n",
    "from speclet.loggers import set_console_handler_level\n",
    "from speclet.managers.cache_manager import (\n",
    "    get_cached_posterior,\n",
    "    get_posterior_cache_name,\n",
    ")\n",
    "from speclet.project_configuration import get_bayesian_modeling_constants\n",
    "from speclet.project_enums import ModelFitMethod"
   ]
  },
  {
   "cell_type": "code",
   "execution_count": null,
   "id": "5d9cc32b",
   "metadata": {
    "papermill": {},
    "tags": []
   },
   "outputs": [],
   "source": [
    "notebook_tic = time()\n",
    "set_console_handler_level(logging.WARNING)\n",
    "%config InlineBackend.figure_format = \"retina\"\n",
    "HDI_PROB = get_bayesian_modeling_constants().hdi_prob"
   ]
  },
  {
   "cell_type": "markdown",
   "id": "dfc12f44",
   "metadata": {
    "papermill": {},
    "tags": []
   },
   "source": [
    "Parameters for papermill:\n",
    "\n",
    "- `MODEL_NAME`: name of the model\n",
    "- `FIT_METHOD`: method used to fit the model; either \"ADVI\" or \"MCMC\"\n",
    "- `CONFIG_PATH`: path to configuration file\n",
    "- `ROOT_CACHE_DIR`: path to the root caching directory"
   ]
  },
  {
   "cell_type": "markdown",
   "id": "79e82094",
   "metadata": {
    "papermill": {},
    "tags": []
   },
   "source": [
    "## Setup"
   ]
  },
  {
   "cell_type": "markdown",
   "id": "f11ea087",
   "metadata": {
    "papermill": {},
    "tags": []
   },
   "source": [
    "### Papermill parameters"
   ]
  },
  {
   "cell_type": "code",
   "execution_count": null,
   "id": "02d38917",
   "metadata": {
    "papermill": {},
    "tags": [
     "parameters"
    ]
   },
   "outputs": [],
   "source": [
    "CONFIG_PATH = \"\"\n",
    "MODEL_NAME = \"\"\n",
    "FIT_METHOD_STR = \"\"\n",
    "ROOT_CACHE_DIR = \"\""
   ]
  },
  {
   "cell_type": "code",
   "execution_count": null,
   "id": "7a201c69",
   "metadata": {
    "tags": [
     "injected-parameters"
    ]
   },
   "outputs": [],
   "source": [
    "# Parameters\n",
    "MODEL_NAME = \"hierarchical-nb\"\n",
    "FIT_METHOD_STR = \"STAN_MCMC\"\n",
    "CONFIG_PATH = \"models/model-configs.yaml\"\n",
    "ROOT_CACHE_DIR = \"models\""
   ]
  },
  {
   "cell_type": "code",
   "execution_count": null,
   "id": "98d231ad",
   "metadata": {
    "papermill": {},
    "tags": []
   },
   "outputs": [],
   "source": [
    "FIT_METHOD = ModelFitMethod(FIT_METHOD_STR)\n",
    "model_config = model_configuration.get_configuration_for_model(\n",
    "    config_path=project_root() / CONFIG_PATH, name=MODEL_NAME\n",
    ")\n",
    "model = get_bayesian_model(model_config.model)()\n",
    "trace = get_cached_posterior(\n",
    "    get_posterior_cache_name(MODEL_NAME, FIT_METHOD),\n",
    "    cache_dir=project_root() / ROOT_CACHE_DIR,\n",
    ")"
   ]
  },
  {
   "cell_type": "markdown",
   "id": "e0b67354",
   "metadata": {
    "papermill": {},
    "tags": []
   },
   "source": [
    "## Fit diagnostics"
   ]
  },
  {
   "cell_type": "code",
   "execution_count": null,
   "id": "7a7acc6c",
   "metadata": {
    "papermill": {},
    "tags": []
   },
   "outputs": [],
   "source": [
    "if \"MCMC\" in FIT_METHOD.value:\n",
    "    print(\"R-HAT\")\n",
    "    print(az.rhat(trace))\n",
    "    print(\"=\" * 60)\n",
    "    describe_mcmc(trace)"
   ]
  },
  {
   "cell_type": "markdown",
   "id": "4dc9262d",
   "metadata": {
    "papermill": {},
    "tags": []
   },
   "source": [
    "## Model parameters"
   ]
  },
  {
   "cell_type": "code",
   "execution_count": null,
   "id": "5d565723",
   "metadata": {
    "papermill": {},
    "tags": []
   },
   "outputs": [],
   "source": [
    "var_regex = model.vars_regex(FIT_METHOD)\n",
    "var_regex += [\"~^log_lik$\", \"~^y_hat$\"]"
   ]
  },
  {
   "cell_type": "code",
   "execution_count": null,
   "id": "f8c174ce",
   "metadata": {
    "papermill": {},
    "tags": []
   },
   "outputs": [],
   "source": [
    "az.plot_trace(trace, var_names=var_regex, filter_vars=\"regex\")\n",
    "plt.tight_layout()\n",
    "plt.show()"
   ]
  },
  {
   "cell_type": "markdown",
   "id": "030d5d3e",
   "metadata": {
    "papermill": {},
    "tags": []
   },
   "source": [
    "## Model predictions"
   ]
  },
  {
   "cell_type": "code",
   "execution_count": null,
   "id": "92b88567",
   "metadata": {
    "papermill": {},
    "tags": []
   },
   "outputs": [],
   "source": [
    "data_pairs: Optional[dict[str, str]] = None\n",
    "\n",
    "# NOTE: This is a bit of a hack for now...\n",
    "if FIT_METHOD is ModelFitMethod.STAN_MCMC:\n",
    "    # obs_var = model.stan_idata_addons[\"observed_data\"][0]\n",
    "    # ppc_var = model.stan_idata_addons[\"posterior_predictive\"][0]\n",
    "    obs_var = list(trace.observed_data.data_vars.keys())[0]\n",
    "    ppc_var = list(trace.posterior_predictive.data_vars.keys())[0]\n",
    "    data_pairs = {obs_var: ppc_var}\n",
    "\n",
    "\n",
    "az.plot_ppc(trace, data_pairs=data_pairs, num_pp_samples=100, random_seed=123)\n",
    "plt.tight_layout()\n",
    "plt.show()"
   ]
  },
  {
   "cell_type": "code",
   "execution_count": null,
   "id": "91d557bf",
   "metadata": {
    "papermill": {},
    "tags": []
   },
   "outputs": [],
   "source": [
    "psis_loo = az.loo(trace, pointwise=True)\n",
    "psis_loo"
   ]
  },
  {
   "cell_type": "code",
   "execution_count": null,
   "id": "5db2d1d3",
   "metadata": {
    "papermill": {},
    "tags": []
   },
   "outputs": [],
   "source": [
    "az.plot_khat(psis_loo)\n",
    "plt.tight_layout()\n",
    "plt.show()"
   ]
  },
  {
   "cell_type": "markdown",
   "id": "840633ab",
   "metadata": {
    "papermill": {},
    "tags": []
   },
   "source": [
    "---"
   ]
  },
  {
   "cell_type": "code",
   "execution_count": null,
   "id": "d443953a",
   "metadata": {
    "papermill": {},
    "tags": []
   },
   "outputs": [],
   "source": [
    "notebook_toc = time()\n",
    "print(f\"execution time: {(notebook_toc - notebook_tic) / 60:.2f} minutes\")"
   ]
  },
  {
   "cell_type": "code",
   "execution_count": null,
   "id": "2608b627",
   "metadata": {
    "papermill": {},
    "tags": []
   },
   "outputs": [],
   "source": [
    "%load_ext watermark\n",
    "%watermark -d -u -v -iv -b -h -m"
   ]
  }
 ],
 "metadata": {
  "kernelspec": {
   "display_name": "Python 3 (ipykernel)",
   "language": "python",
   "name": "python3"
  },
  "language_info": {
   "codemirror_mode": {
    "name": "ipython",
    "version": 3
   },
   "file_extension": ".py",
   "mimetype": "text/x-python",
   "name": "python",
   "nbconvert_exporter": "python",
   "pygments_lexer": "ipython3",
   "version": "3.9.9"
  },
  "papermill": {
   "default_parameters": {},
   "environment_variables": {},
   "input_path": "reports/model-fitting-pipeline-reports/_model-report-template.ipynb",
   "output_path": "reports/model-fitting-pipeline-reports/hierarchical-nb_STAN_MCMC.ipynb",
   "parameters": {
    "CONFIG_PATH": "models/model-configs.yaml",
    "FIT_METHOD_STR": "STAN_MCMC",
    "MODEL_NAME": "hierarchical-nb",
    "ROOT_CACHE_DIR": "models"
   },
   "version": "2.3.3"
  }
 },
 "nbformat": 4,
 "nbformat_minor": 5
}
