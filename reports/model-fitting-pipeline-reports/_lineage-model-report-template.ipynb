{
 "cells": [
  {
   "cell_type": "markdown",
   "id": "91f97901",
   "metadata": {
    "papermill": {},
    "tags": []
   },
   "source": [
    "# Single-lineage Hierarchical Model Report"
   ]
  },
  {
   "cell_type": "markdown",
   "id": "65d59dac",
   "metadata": {
    "papermill": {},
    "tags": []
   },
   "source": [
    "## Setup"
   ]
  },
  {
   "cell_type": "markdown",
   "id": "de600e06-6e4e-4a86-85ae-e048dba77d76",
   "metadata": {},
   "source": [
    "### Imports"
   ]
  },
  {
   "cell_type": "code",
   "execution_count": null,
   "id": "9da98973-2b73-4310-a578-eb5ee9891c4f",
   "metadata": {},
   "outputs": [],
   "source": [
    "import logging\n",
    "from math import ceil\n",
    "from pathlib import Path\n",
    "\n",
    "import arviz as az\n",
    "import matplotlib.pyplot as plt\n",
    "import numpy as np\n",
    "import pandas as pd\n",
    "import seaborn as sns\n",
    "from IPython.display import Markdown, display"
   ]
  },
  {
   "cell_type": "code",
   "execution_count": null,
   "id": "25cc3dcc",
   "metadata": {
    "papermill": {},
    "tags": []
   },
   "outputs": [],
   "source": [
    "from speclet.analysis.arviz_analysis import describe_mcmc, extract_coords_param_names\n",
    "from speclet.bayesian_models.lineage_hierarchical_nb import LineageHierNegBinomModel\n",
    "from speclet.data_processing.common import head_tail\n",
    "from speclet.data_processing.vectors import squish_array\n",
    "from speclet.io import project_root\n",
    "from speclet.loggers import set_console_handler_level\n",
    "from speclet.managers.posterior_data_manager import PosteriorDataManager\n",
    "from speclet.project_configuration import arviz_config\n",
    "from speclet.project_enums import ModelFitMethod"
   ]
  },
  {
   "cell_type": "code",
   "execution_count": null,
   "id": "9bdc1cf6",
   "metadata": {
    "papermill": {},
    "tags": []
   },
   "outputs": [],
   "source": [
    "set_console_handler_level(logging.INFO)\n",
    "%config InlineBackend.figure_format = \"retina\"\n",
    "arviz_config()"
   ]
  },
  {
   "cell_type": "markdown",
   "id": "37c9397b",
   "metadata": {
    "papermill": {},
    "tags": []
   },
   "source": [
    "Parameters for papermill:\n",
    "\n",
    "- `MODEL_NAME`: name of the model\n",
    "- `FIT_METHOD`: method used to fit the model\n",
    "- `CONFIG_PATH`: path to configuration file\n",
    "- `ROOT_CACHE_DIR`: path to the root caching directory"
   ]
  },
  {
   "cell_type": "markdown",
   "id": "79186d2f",
   "metadata": {
    "papermill": {},
    "tags": []
   },
   "source": [
    "### Papermill parameters"
   ]
  },
  {
   "cell_type": "code",
   "execution_count": null,
   "id": "c036d83e",
   "metadata": {
    "papermill": {},
    "tags": [
     "parameters"
    ]
   },
   "outputs": [],
   "source": [
    "CONFIG_PATH = \"\"\n",
    "MODEL_NAME = \"\"\n",
    "FIT_METHOD = \"\"\n",
    "ROOT_CACHE_DIR = \"\""
   ]
  },
  {
   "cell_type": "code",
   "execution_count": null,
   "id": "460e610d",
   "metadata": {
    "papermill": {},
    "tags": []
   },
   "outputs": [],
   "source": [
    "_fit_method = ModelFitMethod(FIT_METHOD)\n",
    "postman = PosteriorDataManager(\n",
    "    name=MODEL_NAME,\n",
    "    fit_method=_fit_method,\n",
    "    config_path=project_root() / Path(CONFIG_PATH),\n",
    "    posterior_dir=project_root() / Path(ROOT_CACHE_DIR),\n",
    ")"
   ]
  },
  {
   "cell_type": "code",
   "execution_count": null,
   "id": "ec5feeec-29cb-41b7-99ab-f9d62ea3e870",
   "metadata": {},
   "outputs": [],
   "source": [
    "assert isinstance(postman.bayes_model, LineageHierNegBinomModel)"
   ]
  },
  {
   "cell_type": "code",
   "execution_count": null,
   "id": "166f6450-9afd-49d6-acbc-fd2879fb6908",
   "metadata": {},
   "outputs": [],
   "source": [
    "print(postman.read_description())"
   ]
  },
  {
   "cell_type": "code",
   "execution_count": null,
   "id": "6e3a61d9-51e6-493a-a445-b618f604c007",
   "metadata": {},
   "outputs": [],
   "source": [
    "postman.load_all()"
   ]
  },
  {
   "cell_type": "markdown",
   "id": "c4d0be8e",
   "metadata": {
    "papermill": {},
    "tags": []
   },
   "source": [
    "## Fit diagnostics"
   ]
  },
  {
   "cell_type": "code",
   "execution_count": null,
   "id": "26889db5-e636-41fb-84a2-63b61639a872",
   "metadata": {},
   "outputs": [],
   "source": [
    "def _plot_rhat_boxplots(pm: PosteriorDataManager) -> None:\n",
    "    fig, ax = plt.subplots(figsize=(8, 4))\n",
    "    sns.boxplot(data=pm.posterior_summary, x=\"var_name\", y=\"r_hat\", ax=ax)\n",
    "    ax.tick_params(\"x\", rotation=90)\n",
    "    ax.set_ylabel(r\"$\\widehat{R}$\")\n",
    "    ax.set_ylim(0.999, None)\n",
    "    plt.show()\n",
    "\n",
    "\n",
    "def _plot_ess_hist(pm: PosteriorDataManager) -> None:\n",
    "    fig, axes = plt.subplots(\n",
    "        nrows=1, ncols=2, sharex=False, sharey=False, figsize=(8, 4)\n",
    "    )\n",
    "    sns.histplot(data=pm.posterior_summary, x=\"ess_bulk\", ax=axes[0])\n",
    "    axes[0].set_title(\"ESS (bulk)\")\n",
    "    sns.histplot(data=pm.posterior_summary, x=\"ess_tail\", ax=axes[1])\n",
    "    axes[1].set_title(\"ESS (tail)\")\n",
    "    for ax in axes.flatten():\n",
    "        ax.set_xlim(0, None)\n",
    "    fig.tight_layout()\n",
    "    plt.show()"
   ]
  },
  {
   "cell_type": "code",
   "execution_count": null,
   "id": "8b1cb872-a4d3-41d0-a228-9be4884f20c8",
   "metadata": {
    "papermill": {},
    "tags": []
   },
   "outputs": [],
   "source": [
    "if postman.fit_method in {ModelFitMethod.PYMC_NUMPYRO, ModelFitMethod.PYMC_MCMC}:\n",
    "    _plot_rhat_boxplots(postman)\n",
    "    _plot_ess_hist(postman)\n",
    "    print(\"=\" * 60)\n",
    "    describe_mcmc(postman.trace)"
   ]
  },
  {
   "cell_type": "markdown",
   "id": "536b89c0-964d-4517-89cd-1c8b21528992",
   "metadata": {},
   "source": [
    "## Posterior analysis"
   ]
  },
  {
   "cell_type": "code",
   "execution_count": null,
   "id": "171958f7-3721-4a2c-9b97-9ab3c64781c0",
   "metadata": {},
   "outputs": [],
   "source": [
    "ignore_vars = [\"mu_a\", \"a\", \"b\", \"d\", \"f\", \"h\", \"k\", \"m\"]\n",
    "ignore_vars = [f\"~^{v}$\" for v in ignore_vars]\n",
    "ignore_vars += postman.bayes_model.vars_regex(postman.fit_method)\n",
    "az.plot_trace(postman.trace, var_names=ignore_vars, filter_vars=\"regex\")\n",
    "plt.tight_layout()\n",
    "plt.show()"
   ]
  },
  {
   "cell_type": "code",
   "execution_count": null,
   "id": "c681e84f-0403-4e98-9d8e-4299a96fd9aa",
   "metadata": {},
   "outputs": [],
   "source": [
    "sigma_vars = list(\n",
    "    {v for v in postman.posterior_summary[\"var_name\"].unique() if \"sigma\" in v}\n",
    ")\n",
    "sigma_vars.sort()\n",
    "\n",
    "axes = az.plot_forest(\n",
    "    postman.trace,\n",
    "    var_names=sigma_vars,\n",
    "    combined=True,\n",
    "    figsize=(6, len(sigma_vars) * 0.6),\n",
    ")\n",
    "axes[0].axvline(0, color=\"k\", lw=0.8, zorder=1)\n",
    "plt.tight_layout()\n",
    "plt.show()"
   ]
  },
  {
   "cell_type": "code",
   "execution_count": null,
   "id": "7715b376-5938-4013-9662-2c2515a0fb80",
   "metadata": {},
   "outputs": [],
   "source": [
    "sgrna_to_gene_map = (\n",
    "    postman.data.copy()[[\"hugo_symbol\", \"sgrna\"]]\n",
    "    .drop_duplicates()\n",
    "    .reset_index(drop=True)\n",
    ")"
   ]
  },
  {
   "cell_type": "code",
   "execution_count": null,
   "id": "7aeb5317-7842-4692-8bd9-72e3c251f043",
   "metadata": {
    "papermill": {},
    "tags": []
   },
   "outputs": [],
   "source": [
    "_cgs = postman.trace.posterior.coords.get(\"cancer_gene\")\n",
    "cancer_genes: list[str] = [] if _cgs is None else _cgs.values.tolist()\n",
    "print(cancer_genes)"
   ]
  },
  {
   "cell_type": "code",
   "execution_count": null,
   "id": "bd46ba92-85e6-4eb6-98eb-3f64a6309516",
   "metadata": {
    "papermill": {},
    "tags": []
   },
   "outputs": [],
   "source": [
    "example_genes = [\"KRAS\", \"BRAF\", \"CTNNB1\", \"TP53\", \"PTEN\", \"STK11\", \"MDM2\"]\n",
    "\n",
    "var_names = [\"mu_mu_a\", \"mu_a\", \"a\", \"mu_b\", \"b\", \"d\", \"f\"]\n",
    "if len(cancer_genes) > 0:\n",
    "    var_names += [\"h\"]\n",
    "\n",
    "for example_gene in example_genes:\n",
    "    display(Markdown(f\"🧬 **target gene: *{example_gene}***\"))\n",
    "    example_gene_sgrna = sgrna_to_gene_map.query(f\"hugo_symbol == '{example_gene}'\")[\n",
    "        \"sgrna\"\n",
    "    ].tolist()\n",
    "    axes = az.plot_forest(\n",
    "        postman.trace,\n",
    "        var_names=var_names,\n",
    "        coords={\"gene\": [example_gene], \"sgrna\": example_gene_sgrna},\n",
    "        combined=True,\n",
    "        figsize=(6, 4 + 0.3 * len(cancer_genes)),\n",
    "    )\n",
    "    axes[0].axvline(0, color=\"k\", lw=0.8, zorder=1)\n",
    "    plt.show()"
   ]
  },
  {
   "cell_type": "code",
   "execution_count": null,
   "id": "88fb9e12-ff7d-4f20-b3fd-93c8414cb09b",
   "metadata": {
    "papermill": {},
    "tags": []
   },
   "outputs": [],
   "source": [
    "if len(cancer_genes) > 0:\n",
    "    h_post_summary = (\n",
    "        postman.posterior_summary.query(\"var_name == 'h'\")\n",
    "        .reset_index(drop=True)\n",
    "        .pipe(\n",
    "            extract_coords_param_names,\n",
    "            names=[\"hugo_symbol\", \"cancer_gene\"],\n",
    "            col=\"parameter\",\n",
    "        )\n",
    "    )\n",
    "\n",
    "    _, ax = plt.subplots(figsize=(8, 5))\n",
    "    sns.kdeplot(data=h_post_summary, x=\"mean\", hue=\"cancer_gene\", ax=ax)\n",
    "    ax.set_xlabel(r\"$\\bar{h}_g$ posterior\")\n",
    "    ax.set_ylabel(\"density\")\n",
    "    ax.get_legend().set_title(\"cancer gene\\ncomut.\")\n",
    "    plt.show()\n",
    "\n",
    "    h_post_df = (\n",
    "        postman.posterior_summary.query(\"var_name == 'h'\")\n",
    "        .reset_index(drop=True)\n",
    "        .pipe(\n",
    "            extract_coords_param_names,\n",
    "            names=[\"target_gene\", \"cancer_gene\"],\n",
    "            col=\"parameter\",\n",
    "        )\n",
    "        .pivot_wider(\"target_gene\", names_from=\"cancer_gene\", values_from=\"mean\")\n",
    "        .set_index(\"target_gene\")\n",
    "    )\n",
    "\n",
    "    h_gene_var = h_post_df.values.var(axis=1)\n",
    "    idx = h_gene_var >= np.quantile(h_gene_var, q=0.8)\n",
    "    h_post_df_topvar = h_post_df.loc[idx, :]\n",
    "\n",
    "    width = max(2, len(cancer_genes) * 0.5)\n",
    "    sns.clustermap(\n",
    "        h_post_df_topvar,\n",
    "        cmap=\"seismic\",\n",
    "        center=0,\n",
    "        figsize=(width, 12),\n",
    "        col_cluster=len(cancer_genes) > 1,\n",
    "        cbar_pos=(1, 0.4, 0.05, 0.2),\n",
    "        dendrogram_ratio=(0.1, 0.1 if len(cancer_genes) > 1 else 0),\n",
    "    )\n",
    "    plt.show()"
   ]
  },
  {
   "cell_type": "code",
   "execution_count": null,
   "id": "4d2aaff5-05b3-407b-af87-836e82417314",
   "metadata": {},
   "outputs": [],
   "source": [
    "tp53_muts = (\n",
    "    postman.valid_data.query(\"hugo_symbol == 'TP53'\")[[\"depmap_id\", \"is_mutated\"]]\n",
    "    .copy()\n",
    "    .drop_duplicates()\n",
    "    .rename(columns={\"is_mutated\": \"TP53 mut.\"})\n",
    "    .reset_index(drop=True)\n",
    ")\n",
    "\n",
    "cell_line_vars = [\"mu_k\", \"mu_m\"]\n",
    "cell_line_effects = (\n",
    "    az.summary(postman.trace, var_names=cell_line_vars, kind=\"stats\")\n",
    "    .pipe(extract_coords_param_names, names=[\"depmap_id\"])\n",
    "    .assign(var_name=lambda d: [x.split(\"[\")[0] for x in d.index.values])\n",
    "    .pivot_wider(\n",
    "        index=\"depmap_id\",\n",
    "        names_from=\"var_name\",\n",
    "        values_from=[\"mean\", \"hdi_5.5%\", \"hdi_94.5%\"],\n",
    "    )\n",
    "    .merge(tp53_muts, on=\"depmap_id\")\n",
    ")\n",
    "\n",
    "fig, ax = plt.subplots(figsize=(6, 5))\n",
    "\n",
    "ax.axhline(0, color=\"k\", zorder=1)\n",
    "ax.axvline(0, color=\"k\", zorder=1)\n",
    "\n",
    "ax.vlines(\n",
    "    x=cell_line_effects[\"mean_mu_k\"],\n",
    "    ymin=cell_line_effects[\"hdi_5.5%_mu_m\"],\n",
    "    ymax=cell_line_effects[\"hdi_94.5%_mu_m\"],\n",
    "    alpha=0.5,\n",
    "    color=\"gray\",\n",
    ")\n",
    "ax.hlines(\n",
    "    y=cell_line_effects[\"mean_mu_m\"],\n",
    "    xmin=cell_line_effects[\"hdi_5.5%_mu_k\"],\n",
    "    xmax=cell_line_effects[\"hdi_94.5%_mu_k\"],\n",
    "    alpha=0.5,\n",
    "    color=\"gray\",\n",
    ")\n",
    "mut_pal = {True: \"tab:red\", False: \"tab:blue\"}\n",
    "sns.scatterplot(\n",
    "    data=cell_line_effects,\n",
    "    x=\"mean_mu_k\",\n",
    "    y=\"mean_mu_m\",\n",
    "    hue=\"TP53 mut.\",\n",
    "    palette=mut_pal,\n",
    "    ax=ax,\n",
    "    zorder=10,\n",
    ")\n",
    "\n",
    "sns.move_legend(ax, loc=\"upper left\", bbox_to_anchor=(1, 1))\n",
    "fig.tight_layout()\n",
    "plt.show()"
   ]
  },
  {
   "cell_type": "code",
   "execution_count": null,
   "id": "4bf81d91-3f3c-490a-942e-acf26603a246",
   "metadata": {},
   "outputs": [],
   "source": [
    "cell_chromosome_map = (\n",
    "    postman.valid_data[[\"depmap_id\", \"sgrna_target_chr\", \"cell_chrom\"]]\n",
    "    .drop_duplicates()\n",
    "    .sort_values(\"cell_chrom\")\n",
    "    .reset_index(drop=True)\n",
    ")\n",
    "chromosome_effect_post = (\n",
    "    az.summary(postman.trace, var_names=[\"k\", \"m\"], kind=\"stats\")\n",
    "    .pipe(extract_coords_param_names, names=\"cell_chrom\")\n",
    "    .assign(var_name=lambda d: [p[0] for p in d.index.values])\n",
    "    .merge(cell_chromosome_map, on=\"cell_chrom\")\n",
    ")\n",
    "\n",
    "ncells = chromosome_effect_post[\"depmap_id\"].nunique()\n",
    "ncols = 3\n",
    "nrows = ceil(ncells / 3)\n",
    "fig, axes = plt.subplots(nrows=nrows, ncols=ncols, figsize=(9, nrows * 3))\n",
    "for ax, (cell, data_c) in zip(\n",
    "    axes.flatten(), chromosome_effect_post.groupby(\"depmap_id\")\n",
    "):\n",
    "    plot_df = data_c.pivot_wider(\n",
    "        index=\"sgrna_target_chr\",\n",
    "        names_from=\"var_name\",\n",
    "        values_from=[\"mean\", \"hdi_5.5%\", \"hdi_94.5%\"],\n",
    "    )\n",
    "    cell_eff = (\n",
    "        cell_line_effects.copy().query(f\"depmap_id == '{cell}'\").reset_index(drop=True)\n",
    "    )\n",
    "\n",
    "    ax.axhline(0, color=\"k\", zorder=1)\n",
    "    ax.axvline(0, color=\"k\", zorder=1)\n",
    "\n",
    "    ax.vlines(\n",
    "        x=plot_df[\"mean_k\"],\n",
    "        ymin=plot_df[\"hdi_5.5%_m\"],\n",
    "        ymax=plot_df[\"hdi_94.5%_m\"],\n",
    "        alpha=0.5,\n",
    "        zorder=5,\n",
    "    )\n",
    "    ax.hlines(\n",
    "        y=plot_df[\"mean_m\"],\n",
    "        xmin=plot_df[\"hdi_5.5%_k\"],\n",
    "        xmax=plot_df[\"hdi_94.5%_k\"],\n",
    "        alpha=0.5,\n",
    "        zorder=5,\n",
    "    )\n",
    "    sns.scatterplot(data=plot_df, x=\"mean_k\", y=\"mean_m\", ax=ax, zorder=10)\n",
    "\n",
    "    ax.vlines(\n",
    "        x=cell_eff[\"mean_mu_k\"],\n",
    "        ymin=cell_eff[\"hdi_5.5%_mu_m\"],\n",
    "        ymax=cell_eff[\"hdi_94.5%_mu_m\"],\n",
    "        alpha=0.8,\n",
    "        zorder=15,\n",
    "        color=\"red\",\n",
    "    )\n",
    "    ax.hlines(\n",
    "        y=cell_eff[\"mean_mu_m\"],\n",
    "        xmin=cell_eff[\"hdi_5.5%_mu_k\"],\n",
    "        xmax=cell_eff[\"hdi_94.5%_mu_k\"],\n",
    "        alpha=0.8,\n",
    "        zorder=15,\n",
    "        color=\"red\",\n",
    "    )\n",
    "    sns.scatterplot(\n",
    "        data=cell_eff, x=\"mean_mu_k\", y=\"mean_mu_m\", ax=ax, zorder=20, color=\"red\"\n",
    "    )\n",
    "    ax.set_title(cell)\n",
    "    ax.set_xlabel(None)\n",
    "    ax.set_ylabel(None)\n",
    "\n",
    "for ax in axes[-1, :]:\n",
    "    ax.set_xlabel(\"$k$\")\n",
    "for ax in axes[:, 0]:\n",
    "    ax.set_ylabel(\"$m$\")\n",
    "for ax in axes.flatten()[ncells:]:\n",
    "    ax.axis(\"off\")\n",
    "\n",
    "fig.tight_layout()\n",
    "plt.show()"
   ]
  },
  {
   "cell_type": "code",
   "execution_count": null,
   "id": "695b479d-c40c-4400-85ce-bbcd9dd6971b",
   "metadata": {
    "papermill": {},
    "tags": []
   },
   "outputs": [],
   "source": [
    "for v, data_v in chromosome_effect_post.groupby(\"var_name\"):\n",
    "    df = (\n",
    "        data_v.copy()\n",
    "        .reset_index(drop=True)\n",
    "        .pivot_wider(\n",
    "            index=\"depmap_id\", names_from=\"sgrna_target_chr\", values_from=\"mean\"\n",
    "        )\n",
    "        .set_index(\"depmap_id\")\n",
    "    )\n",
    "    height = max(2.5, df.shape[0] * 0.15)\n",
    "    cg = sns.clustermap(\n",
    "        df,\n",
    "        cmap=\"seismic\",\n",
    "        figsize=(7, height),\n",
    "        cbar_pos=(1, 0.4, 0.05, 0.2),\n",
    "        dendrogram_ratio=(0.1, 0.1),\n",
    "        center=0,\n",
    "    )\n",
    "    cg.ax_col_dendrogram.set_title(f\"variable: ${v}$\")\n",
    "    plt.show()"
   ]
  },
  {
   "cell_type": "code",
   "execution_count": null,
   "id": "70b321df-d691-4307-b3fb-74ed0339c1fe",
   "metadata": {
    "papermill": {},
    "tags": []
   },
   "outputs": [],
   "source": [
    "chrom_target_positions = (\n",
    "    postman.valid_data.copy()[\n",
    "        [\n",
    "            \"hugo_symbol\",\n",
    "            \"sgrna\",\n",
    "            \"sgrna_target_chr\",\n",
    "            \"sgrna_target_pos\",\n",
    "            \"copy_number\",\n",
    "            \"cn_gene\",\n",
    "            \"depmap_id\",\n",
    "        ]\n",
    "    ]\n",
    "    .drop_duplicates()\n",
    "    .reset_index(drop=True)\n",
    ")\n",
    "\n",
    "d_post = (\n",
    "    postman.posterior_summary.query(\"var_name == 'd'\")\n",
    "    .reset_index(drop=True)\n",
    "    .pipe(extract_coords_param_names, names=[\"hugo_symbol\"], col=\"parameter\")\n",
    "    .merge(chrom_target_positions, on=\"hugo_symbol\", validate=\"one_to_many\")\n",
    "    .assign(cn_effect=lambda d: d[\"mean\"] * d[\"cn_gene\"])\n",
    ")"
   ]
  },
  {
   "cell_type": "code",
   "execution_count": null,
   "id": "dab22c0f-274a-4ae4-8c4c-d77342ae5746",
   "metadata": {
    "papermill": {},
    "tags": []
   },
   "outputs": [],
   "source": [
    "n_chroms = d_post[\"sgrna_target_chr\"].nunique()\n",
    "n_cols = 4\n",
    "n_rows = ceil(n_chroms / n_cols)\n",
    "\n",
    "fig, axes = plt.subplots(\n",
    "    nrows=n_rows,\n",
    "    ncols=n_cols,\n",
    "    figsize=(n_cols * 3, n_rows * 2),\n",
    "    sharex=False,\n",
    "    sharey=True,\n",
    ")\n",
    "\n",
    "for ax, (chrom, data_c) in zip(axes.flatten(), d_post.groupby(\"sgrna_target_chr\")):\n",
    "    ax.set_title(f\"chromsome {chrom}\")\n",
    "\n",
    "    # Plot CN for each cell line over the chromosome.\n",
    "    cell_cn_data = (\n",
    "        chrom_target_positions.copy()\n",
    "        .query(f\"sgrna_target_chr == '{chrom}'\")\n",
    "        .reset_index(drop=True)\n",
    "        .assign(\n",
    "            copy_number=lambda d: squish_array(d[\"copy_number\"] - 1, lower=-1, upper=1)\n",
    "        )\n",
    "    )\n",
    "    for _, data_cell in cell_cn_data.groupby(\"depmap_id\"):\n",
    "        sns.lineplot(\n",
    "            data=data_cell,\n",
    "            x=\"sgrna_target_pos\",\n",
    "            y=\"copy_number\",\n",
    "            alpha=0.2,\n",
    "            lw=0.5,\n",
    "            color=\"k\",\n",
    "            drawstyle=\"steps-pre\",\n",
    "            ax=ax,\n",
    "            zorder=1,\n",
    "        )\n",
    "\n",
    "    # Plot the gene copy number effects over the chromosome.\n",
    "    sns.scatterplot(\n",
    "        data=data_c,\n",
    "        x=\"sgrna_target_pos\",\n",
    "        y=\"cn_effect\",\n",
    "        ax=ax,\n",
    "        color=\"tab:blue\",\n",
    "        s=2,\n",
    "        alpha=0.3,\n",
    "        edgecolor=None,\n",
    "        zorder=5,\n",
    "    )\n",
    "\n",
    "    ax.set_ylabel(None)\n",
    "    ax.set_xlabel(None)\n",
    "    ax.set_xlim(data_c[\"sgrna_target_pos\"].min(), data_c[\"sgrna_target_pos\"].max())\n",
    "    # break\n",
    "\n",
    "for ax in axes.flatten()[n_chroms:]:\n",
    "    ax.axis(\"off\")\n",
    "for ax in axes[:, 0]:\n",
    "    ax.set_ylabel(\"$d$\")\n",
    "for ax in axes.flatten()[(n_chroms - 4) : n_chroms]:\n",
    "    ax.set_xlabel(\"chromosome position\")\n",
    "\n",
    "fig.tight_layout()\n",
    "plt.show()"
   ]
  },
  {
   "cell_type": "code",
   "execution_count": null,
   "id": "037d304d-f0fe-4133-a76a-7108a53534d6",
   "metadata": {},
   "outputs": [],
   "source": [
    "def _plot_corr_heatmap(\n",
    "    trace: az.InferenceData, corr_var_name: str, var_names: list[str]\n",
    ") -> None:\n",
    "    corr_post = (\n",
    "        az.summary(trace, var_names=[corr_var_name], kind=\"stats\")\n",
    "        .pipe(extract_coords_param_names, names=[\"d1\", \"d2\"])\n",
    "        .astype({\"d1\": int, \"d2\": int})\n",
    "        .assign(\n",
    "            p1=lambda d: [var_names[i] for i in d[\"d1\"]],\n",
    "            p2=lambda d: [var_names[i] for i in d[\"d2\"]],\n",
    "        )\n",
    "        .assign(\n",
    "            p1=lambda d: pd.Categorical(\n",
    "                d[\"p1\"], categories=d[\"p1\"].unique(), ordered=True\n",
    "            )\n",
    "        )\n",
    "        .assign(\n",
    "            p2=lambda d: pd.Categorical(\n",
    "                d[\"p2\"], categories=d[\"p1\"].cat.categories, ordered=True\n",
    "            )\n",
    "        )\n",
    "    )\n",
    "    plot_df = corr_post.pivot_wider(\"p1\", \"p2\", \"mean\").set_index(\"p1\")\n",
    "    ax = sns.heatmap(\n",
    "        plot_df,\n",
    "        cmap=\"coolwarm\",\n",
    "        vmin=-1,\n",
    "        vmax=1,\n",
    "    )\n",
    "    ax.set_ylabel(None)\n",
    "    plt.show()\n",
    "    return None"
   ]
  },
  {
   "cell_type": "code",
   "execution_count": null,
   "id": "f2aa8af1-1d98-4389-acd4-51339f1c4eca",
   "metadata": {},
   "outputs": [],
   "source": [
    "# TODO: change get from the trace when included in `posterior.coords`.\n",
    "genes_var_names = postman.model_data_struct.coords[\"genes_params\"]\n",
    "_plot_corr_heatmap(postman.trace, \"genes_chol_cov_corr\", var_names=genes_var_names)\n",
    "\n",
    "# TODO: change to use \"cells_params\" when that is included as a coord.\n",
    "cells_var_names = postman.model_data_struct.coords[\"cells_params\"]\n",
    "_plot_corr_heatmap(postman.trace, \"cells_chol_cov_corr\", var_names=cells_var_names)"
   ]
  },
  {
   "cell_type": "code",
   "execution_count": null,
   "id": "625f599e-f138-4a6e-9b3f-1d3285ab04cb",
   "metadata": {},
   "outputs": [],
   "source": [
    "if len(cancer_genes) > 1:\n",
    "    cancer_gene_mutants = (\n",
    "        postman.valid_data.filter_column_isin(\"hugo_symbol\", cancer_genes)[\n",
    "            [\"hugo_symbol\", \"depmap_id\", \"is_mutated\"]\n",
    "        ]\n",
    "        .drop_duplicates()\n",
    "        .sort_values([\"hugo_symbol\", \"depmap_id\"])\n",
    "        .pivot_wider(\"depmap_id\", names_from=\"hugo_symbol\", values_from=\"is_mutated\")\n",
    "        .set_index(\"depmap_id\")\n",
    "    )\n",
    "\n",
    "    sns.clustermap(\n",
    "        cancer_gene_mutants,\n",
    "        cmap=\"gray_r\",\n",
    "        xticklabels=1,\n",
    "        yticklabels=1,\n",
    "        figsize=(3, 9),\n",
    "        cbar_pos=(1, 0.4, 0.05, 0.2),\n",
    "    )\n",
    "    plt.show()\n",
    "\n",
    "    sns.clustermap(\n",
    "        cancer_gene_mutants.corr(),\n",
    "        cmap=\"seismic\",\n",
    "        center=0,\n",
    "        vmin=-1,\n",
    "        vmax=1,\n",
    "        figsize=(len(cancer_genes) * 0.5, len(cancer_genes) * 0.5),\n",
    "    )\n",
    "    plt.show()"
   ]
  },
  {
   "cell_type": "code",
   "execution_count": null,
   "id": "6ab7db33-a1e3-4436-b6bd-46b87cd2fea8",
   "metadata": {},
   "outputs": [],
   "source": [
    "top_n = 5\n",
    "top_b_hits = (\n",
    "    postman.posterior_summary.query(\"var_name == 'b'\")\n",
    "    .sort_values(\"mean\")\n",
    "    .reset_index(drop=True)\n",
    "    .pipe(extract_coords_param_names, names=[\"hugo_symbol\"], col=\"parameter\")\n",
    "    .pipe(head_tail, n=top_n)\n",
    ")\n",
    "\n",
    "negative_b = top_b_hits[\"hugo_symbol\"][:top_n].values\n",
    "positive_b = top_b_hits[\"hugo_symbol\"][top_n:].values\n",
    "\n",
    "\n",
    "fig, axes = plt.subplots(2, top_n, figsize=(12, 6))\n",
    "\n",
    "for i, genes in enumerate([positive_b, negative_b]):\n",
    "    for j, gene in enumerate(genes):\n",
    "        ax = axes[i, j]\n",
    "        ax.set_title(gene)\n",
    "        obs_data = postman.valid_data.query(f\"hugo_symbol == '{gene}'\")\n",
    "        sns.scatterplot(\n",
    "            data=obs_data, x=\"m_rna_gene\", y=\"lfc\", ax=ax, edgecolor=None, s=20\n",
    "        )\n",
    "        ax.set_xlabel(None)\n",
    "        ax.set_ylabel(None)\n",
    "\n",
    "\n",
    "fig.supxlabel(\"log RNA expression\")\n",
    "fig.supylabel(\"log-fold change\")\n",
    "\n",
    "fig.tight_layout()\n",
    "plt.show()"
   ]
  },
  {
   "cell_type": "code",
   "execution_count": null,
   "id": "36e00e88-3ede-4814-82bf-6bc753f5aa5c",
   "metadata": {},
   "outputs": [],
   "source": [
    "top_n = 5\n",
    "top_d_hits = (\n",
    "    postman.posterior_summary.query(\"var_name == 'd'\")\n",
    "    .sort_values(\"mean\")\n",
    "    .reset_index(drop=True)\n",
    "    .pipe(extract_coords_param_names, names=[\"hugo_symbol\"], col=\"parameter\")\n",
    "    .pipe(head_tail, n=top_n)\n",
    ")\n",
    "\n",
    "negative_d = top_d_hits[\"hugo_symbol\"][:top_n].values\n",
    "positive_d = top_d_hits[\"hugo_symbol\"][top_n:].values\n",
    "\n",
    "\n",
    "fig, axes = plt.subplots(2, top_n, figsize=(12, 6))\n",
    "\n",
    "for i, genes in enumerate([positive_d, negative_d]):\n",
    "    for j, gene in enumerate(genes):\n",
    "        ax = axes[i, j]\n",
    "        ax.set_title(gene)\n",
    "        obs_data = postman.valid_data.query(f\"hugo_symbol == '{gene}'\")\n",
    "        sns.scatterplot(data=obs_data, x=\"cn_gene\", y=\"lfc\", ax=ax)\n",
    "        ax.set_xlabel(None)\n",
    "        ax.set_ylabel(None)\n",
    "\n",
    "\n",
    "fig.supxlabel(\"copy number\")\n",
    "fig.supylabel(\"log-fold change\")\n",
    "fig.tight_layout()\n",
    "plt.show()"
   ]
  },
  {
   "cell_type": "markdown",
   "id": "ac1691f0",
   "metadata": {
    "papermill": {},
    "tags": []
   },
   "source": [
    "## Model predictions"
   ]
  },
  {
   "cell_type": "code",
   "execution_count": null,
   "id": "1fb4521b-3eba-4fa7-bf69-a9f8af8c5f56",
   "metadata": {},
   "outputs": [],
   "source": [
    "n_examples = 40\n",
    "n_chains, n_draws, n_data = postman.trace.posterior_predictive[\"ct_final\"].shape\n",
    "ex_draws_idx = np.random.choice(\n",
    "    np.arange(n_draws), size=n_examples // n_chains, replace=False\n",
    ")\n",
    "example_ppc_draws = postman.trace.posterior_predictive[\"ct_final\"][\n",
    "    :, ex_draws_idx, :\n",
    "].values.reshape(-1, n_data)\n",
    "\n",
    "fig, axes = plt.subplots(ncols=2, figsize=(9, 4), sharex=False, sharey=False)\n",
    "ax1 = axes[0]\n",
    "ax2 = axes[1]\n",
    "\n",
    "pp_avg = postman.trace.posterior_predictive[\"ct_final\"].mean(axis=(0, 1))\n",
    "\n",
    "for i in range(example_ppc_draws.shape[0]):\n",
    "    sns.kdeplot(\n",
    "        x=np.log10(example_ppc_draws[i, :] + 1), alpha=0.2, color=\"tab:blue\", ax=ax1\n",
    "    )\n",
    "\n",
    "sns.kdeplot(x=np.log10(pp_avg + 1), color=\"tab:orange\", ax=ax1)\n",
    "sns.kdeplot(x=np.log10(postman.valid_data[\"counts_final\"] + 1), color=\"k\", ax=ax1)\n",
    "ax1.set_xlabel(\"log10(counts final + 1)\")\n",
    "ax1.set_ylabel(\"density\")\n",
    "\n",
    "x_max = 1000\n",
    "x_cut = x_max * 5\n",
    "for i in range(example_ppc_draws.shape[0]):\n",
    "    x = example_ppc_draws[i, :]\n",
    "    x = x[x < x_cut]\n",
    "    sns.kdeplot(x=x, alpha=0.2, color=\"tab:blue\", ax=ax2)\n",
    "\n",
    "sns.kdeplot(x=pp_avg[pp_avg < x_cut], color=\"tab:orange\", ax=ax2)\n",
    "_obs = postman.valid_data[\"counts_final\"].values\n",
    "_obs = _obs[_obs < x_cut]\n",
    "sns.kdeplot(x=_obs, color=\"k\", ax=ax2)\n",
    "ax2.set_xlabel(\"counts final\")\n",
    "ax2.set_ylabel(\"density\")\n",
    "ax2.set_xlim(0, x_max)\n",
    "\n",
    "fig.suptitle(\"PPC\")\n",
    "fig.tight_layout()\n",
    "plt.show()"
   ]
  },
  {
   "cell_type": "markdown",
   "id": "2ce64402",
   "metadata": {
    "papermill": {},
    "tags": []
   },
   "source": [
    "---"
   ]
  },
  {
   "cell_type": "code",
   "execution_count": null,
   "id": "b150a0d4",
   "metadata": {
    "papermill": {},
    "tags": []
   },
   "outputs": [],
   "source": [
    "%load_ext watermark\n",
    "%watermark -d -u -v -iv -b -h -m"
   ]
  }
 ],
 "metadata": {
  "interpreter": {
   "hash": "4769bf24bc498781164c688bc11a94206605929ba0bbe41f9e4c6af0ec480c6e"
  },
  "kernelspec": {
   "display_name": "Python 3 (ipykernel)",
   "language": "python",
   "name": "python3"
  },
  "language_info": {
   "codemirror_mode": {
    "name": "ipython",
    "version": 3
   },
   "file_extension": ".py",
   "mimetype": "text/x-python",
   "name": "python",
   "nbconvert_exporter": "python",
   "pygments_lexer": "ipython3",
   "version": "3.10.5"
  },
  "papermill": {
   "default_parameters": {},
   "environment_variables": {},
   "input_path": "reports/model-fitting-pipeline-reports/_model-report-template.ipynb",
   "output_path": "reports/model-fitting-pipeline-reports/hnb-single-lineage-prostate-009_PYMC_NUMPYRO.ipynb",
   "parameters": {
    "CONFIG_PATH": "models/model-configs.yaml",
    "FIT_METHOD": "PYMC_NUMPYRO",
    "MODEL_NAME": "hnb-single-lineage-prostate-009",
    "ROOT_CACHE_DIR": "models"
   },
   "version": "2.3.4"
  }
 },
 "nbformat": 4,
 "nbformat_minor": 5
}
