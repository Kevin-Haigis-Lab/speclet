{
 "cells": [
  {
   "cell_type": "markdown",
   "id": "ad9849c6",
   "metadata": {
    "papermill": {},
    "tags": []
   },
   "source": [
    "# Model Report"
   ]
  },
  {
   "cell_type": "code",
   "execution_count": 1,
   "id": "7d1e2a70",
   "metadata": {
    "execution": {
     "iopub.execute_input": "2022-05-20T10:23:52.928840Z",
     "iopub.status.busy": "2022-05-20T10:23:52.927248Z",
     "iopub.status.idle": "2022-05-20T10:24:00.802341Z",
     "shell.execute_reply": "2022-05-20T10:24:00.801442Z"
    },
    "papermill": {},
    "tags": []
   },
   "outputs": [
    {
     "name": "stderr",
     "output_type": "stream",
     "text": [
      "/home/jc604/.conda/envs/speclet_smk/bin/../lib/gcc/x86_64-conda-linux-gnu/10.3.0/../../../../x86_64-conda-linux-gnu/bin/ld: /n/app/gcc/6.2.0/lib64/libquadmath.so.0: undefined reference to `memcpy@GLIBC_2.14'\n",
      "collect2: error: ld returned 1 exit status\n",
      "/home/jc604/.conda/envs/speclet_smk/bin/../lib/gcc/x86_64-conda-linux-gnu/10.3.0/../../../../x86_64-conda-linux-gnu/bin/ld: /n/app/gcc/6.2.0/lib64/libquadmath.so.0: undefined reference to `memcpy@GLIBC_2.14'\n",
      "collect2: error: ld returned 1 exit status\n",
      "/home/jc604/.conda/envs/speclet_smk/bin/../lib/gcc/x86_64-conda-linux-gnu/10.3.0/../../../../x86_64-conda-linux-gnu/bin/ld: /n/app/gcc/6.2.0/lib64/libquadmath.so.0: undefined reference to `memcpy@GLIBC_2.14'\n",
      "collect2: error: ld returned 1 exit status\n",
      "/home/jc604/.conda/envs/speclet_smk/bin/../lib/gcc/x86_64-conda-linux-gnu/10.3.0/../../../../x86_64-conda-linux-gnu/bin/ld: /n/app/gcc/6.2.0/lib64/libquadmath.so.0: undefined reference to `memcpy@GLIBC_2.14'\n",
      "collect2: error: ld returned 1 exit status\n",
      "/home/jc604/.conda/envs/speclet_smk/bin/../lib/gcc/x86_64-conda-linux-gnu/10.3.0/../../../../x86_64-conda-linux-gnu/bin/ld: /n/app/gcc/6.2.0/lib64/libquadmath.so.0: undefined reference to `memcpy@GLIBC_2.14'\n",
      "collect2: error: ld returned 1 exit status\n",
      "/home/jc604/.conda/envs/speclet_smk/bin/../lib/gcc/x86_64-conda-linux-gnu/10.3.0/../../../../x86_64-conda-linux-gnu/bin/ld: /n/app/gcc/6.2.0/lib64/libquadmath.so.0: undefined reference to `memcpy@GLIBC_2.14'\n",
      "collect2: error: ld returned 1 exit status\n",
      "WARNING (aesara.tensor.blas): Using NumPy C-API based implementation for BLAS functions.\n"
     ]
    }
   ],
   "source": [
    "import logging\n",
    "from time import time\n",
    "from typing import Optional\n",
    "\n",
    "import arviz as az\n",
    "import matplotlib.pyplot as plt\n",
    "\n",
    "from speclet import model_configuration\n",
    "from speclet.analysis.arviz_analysis import describe_mcmc, summarize_rhat\n",
    "from speclet.bayesian_models import get_bayesian_model\n",
    "from speclet.io import project_root\n",
    "from speclet.loggers import set_console_handler_level\n",
    "from speclet.managers.cache_manager import (\n",
    "    get_cached_posterior,\n",
    "    get_posterior_cache_name,\n",
    ")\n",
    "from speclet.project_configuration import get_bayesian_modeling_constants\n",
    "from speclet.project_enums import ModelFitMethod"
   ]
  },
  {
   "cell_type": "code",
   "execution_count": 2,
   "id": "d528e2b5",
   "metadata": {
    "execution": {
     "iopub.execute_input": "2022-05-20T10:24:00.809818Z",
     "iopub.status.busy": "2022-05-20T10:24:00.807688Z",
     "iopub.status.idle": "2022-05-20T10:24:00.830912Z",
     "shell.execute_reply": "2022-05-20T10:24:00.830198Z"
    },
    "papermill": {},
    "tags": []
   },
   "outputs": [],
   "source": [
    "notebook_tic = time()\n",
    "set_console_handler_level(logging.WARNING)\n",
    "%config InlineBackend.figure_format = \"retina\"\n",
    "HDI_PROB = get_bayesian_modeling_constants().hdi_prob"
   ]
  },
  {
   "cell_type": "markdown",
   "id": "9b4dd059",
   "metadata": {
    "papermill": {},
    "tags": []
   },
   "source": [
    "Parameters for papermill:\n",
    "\n",
    "- `MODEL_NAME`: name of the model\n",
    "- `FIT_METHOD`: method used to fit the model; either \"ADVI\" or \"MCMC\"\n",
    "- `CONFIG_PATH`: path to configuration file\n",
    "- `ROOT_CACHE_DIR`: path to the root caching directory"
   ]
  },
  {
   "cell_type": "markdown",
   "id": "1a632351",
   "metadata": {
    "papermill": {},
    "tags": []
   },
   "source": [
    "## Setup"
   ]
  },
  {
   "cell_type": "markdown",
   "id": "8adba877",
   "metadata": {
    "papermill": {},
    "tags": []
   },
   "source": [
    "### Papermill parameters"
   ]
  },
  {
   "cell_type": "code",
   "execution_count": 3,
   "id": "c4331183",
   "metadata": {
    "execution": {
     "iopub.execute_input": "2022-05-20T10:24:00.836425Z",
     "iopub.status.busy": "2022-05-20T10:24:00.835085Z",
     "iopub.status.idle": "2022-05-20T10:24:00.840397Z",
     "shell.execute_reply": "2022-05-20T10:24:00.839745Z"
    },
    "papermill": {},
    "tags": [
     "parameters"
    ]
   },
   "outputs": [],
   "source": [
    "CONFIG_PATH = \"\"\n",
    "MODEL_NAME = \"\"\n",
    "FIT_METHOD_STR = \"\"\n",
    "ROOT_CACHE_DIR = \"\""
   ]
  },
  {
   "cell_type": "code",
   "execution_count": 4,
   "id": "1d0ee4ad",
   "metadata": {
    "execution": {
     "iopub.execute_input": "2022-05-20T10:24:00.845400Z",
     "iopub.status.busy": "2022-05-20T10:24:00.844083Z",
     "iopub.status.idle": "2022-05-20T10:24:00.849385Z",
     "shell.execute_reply": "2022-05-20T10:24:00.848727Z"
    },
    "tags": [
     "injected-parameters"
    ]
   },
   "outputs": [],
   "source": [
    "# Parameters\n",
    "MODEL_NAME = \"hnb-small-data\"\n",
    "FIT_METHOD_STR = \"PYMC_MCMC\"\n",
    "CONFIG_PATH = \"models/model-configs.yaml\"\n",
    "ROOT_CACHE_DIR = \"models\""
   ]
  },
  {
   "cell_type": "code",
   "execution_count": 5,
   "id": "5d081069",
   "metadata": {
    "execution": {
     "iopub.execute_input": "2022-05-20T10:24:00.854926Z",
     "iopub.status.busy": "2022-05-20T10:24:00.853343Z",
     "iopub.status.idle": "2022-05-20T10:24:01.240855Z",
     "shell.execute_reply": "2022-05-20T10:24:01.240007Z"
    },
    "papermill": {},
    "tags": []
   },
   "outputs": [],
   "source": [
    "FIT_METHOD = ModelFitMethod(FIT_METHOD_STR)\n",
    "model_config = model_configuration.get_configuration_for_model(\n",
    "    config_path=project_root() / CONFIG_PATH, name=MODEL_NAME\n",
    ")\n",
    "model = get_bayesian_model(model_config.model)()\n",
    "trace = get_cached_posterior(\n",
    "    get_posterior_cache_name(MODEL_NAME, FIT_METHOD),\n",
    "    cache_dir=project_root() / ROOT_CACHE_DIR,\n",
    ")"
   ]
  },
  {
   "cell_type": "markdown",
   "id": "684eaf25",
   "metadata": {
    "papermill": {},
    "tags": []
   },
   "source": [
    "## Fit diagnostics"
   ]
  },
  {
   "cell_type": "code",
   "execution_count": 6,
   "id": "0b91392e",
   "metadata": {
    "execution": {
     "iopub.execute_input": "2022-05-20T10:24:01.247073Z",
     "iopub.status.busy": "2022-05-20T10:24:01.245434Z",
     "iopub.status.idle": "2022-05-20T10:24:01.252067Z",
     "shell.execute_reply": "2022-05-20T10:24:01.251287Z"
    },
    "papermill": {},
    "tags": []
   },
   "outputs": [],
   "source": [
    "if FIT_METHOD.value in {ModelFitMethod.PYMC_MCMC, ModelFitMethod.PYMC_NUMPYRO}:\n",
    "    print(\"R-HAT\")\n",
    "    rhat_summ = summarize_rhat(trace)\n",
    "    print(rhat_summ)\n",
    "    print(\"=\" * 60)\n",
    "    describe_mcmc(trace)"
   ]
  },
  {
   "cell_type": "markdown",
   "id": "3f682717",
   "metadata": {
    "papermill": {},
    "tags": []
   },
   "source": [
    "## Model predictions"
   ]
  },
  {
   "cell_type": "code",
   "execution_count": 7,
   "id": "c7449ee6",
   "metadata": {
    "execution": {
     "iopub.execute_input": "2022-05-20T10:24:01.258298Z",
     "iopub.status.busy": "2022-05-20T10:24:01.256657Z",
     "iopub.status.idle": "2022-05-20T10:24:49.869293Z",
     "shell.execute_reply": "2022-05-20T10:24:49.867970Z"
    },
    "papermill": {},
    "tags": []
   },
   "outputs": [
    {
     "data": {
      "image/png": "[encoded data removed]",
      "text/plain": [
       "<Figure size 460.8x345.6 with 1 Axes>"
      ]
     },
     "metadata": {
      "image/png": {
       "height": 337,
       "width": 453
      },
      "needs_background": "light"
     },
     "output_type": "display_data"
    }
   ],
   "source": [
    "az.plot_ppc(trace, num_pp_samples=100, random_seed=123)\n",
    "plt.tight_layout()\n",
    "plt.show()"
   ]
  },
  {
   "cell_type": "code",
   "execution_count": 8,
   "id": "dd3b0dd3",
   "metadata": {
    "execution": {
     "iopub.execute_input": "2022-05-20T10:24:49.877269Z",
     "iopub.status.busy": "2022-05-20T10:24:49.875407Z",
     "iopub.status.idle": "2022-05-20T10:49:12.089320Z",
     "shell.execute_reply": "2022-05-20T10:49:12.088288Z"
    },
    "papermill": {},
    "tags": []
   },
   "outputs": [
    {
     "name": "stderr",
     "output_type": "stream",
     "text": [
      "/home/jc604/.conda/envs/speclet_smk/lib/python3.10/site-packages/arviz/stats/stats.py:1048: RuntimeWarning: overflow encountered in exp\n",
      "  weights = 1 / np.exp(len_scale - len_scale[:, None]).sum(axis=1)\n",
      "/home/jc604/.conda/envs/speclet_smk/lib/python3.10/site-packages/arviz/stats/stats.py:811: UserWarning: Estimated shape parameter of Pareto distribution is greater than 0.7 for one or more samples. You should consider using a more robust model, this is because importance sampling is less likely to work well if the marginal posterior and LOO posterior are very different. This is more likely to happen with a non-robust model and highly influential observations.\n",
      "  warnings.warn(\n"
     ]
    },
    {
     "data": {
      "text/plain": [
       "Computed from 4000 by 73454 log-likelihood matrix\n",
       "\n",
       "         Estimate       SE\n",
       "elpd_loo -492233.47   500.34\n",
       "p_loo      646.49        -\n",
       "\n",
       "There has been a warning during the calculation. Please check the results.\n",
       "------\n",
       "\n",
       "Pareto k diagnostic values:\n",
       "                         Count   Pct.\n",
       "(-Inf, 0.5]   (good)     73440  100.0%\n",
       " (0.5, 0.7]   (ok)           8    0.0%\n",
       "   (0.7, 1]   (bad)          5    0.0%\n",
       "   (1, Inf)   (very bad)     1    0.0%"
      ]
     },
     "execution_count": 8,
     "metadata": {},
     "output_type": "execute_result"
    }
   ],
   "source": [
    "psis_loo = az.loo(trace, pointwise=True)\n",
    "psis_loo"
   ]
  },
  {
   "cell_type": "code",
   "execution_count": 9,
   "id": "af08cf95",
   "metadata": {
    "execution": {
     "iopub.execute_input": "2022-05-20T10:49:12.095536Z",
     "iopub.status.busy": "2022-05-20T10:49:12.093907Z",
     "iopub.status.idle": "2022-05-20T10:49:14.504019Z",
     "shell.execute_reply": "2022-05-20T10:49:14.503228Z"
    },
    "papermill": {},
    "tags": []
   },
   "outputs": [
    {
     "data": {
      "image/png": "[encoded data removed]",
      "text/plain": [
       "<Figure size 432x288 with 1 Axes>"
      ]
     },
     "metadata": {
      "image/png": {
       "height": 280,
       "width": 424
      },
      "needs_background": "light"
     },
     "output_type": "display_data"
    }
   ],
   "source": [
    "az.plot_khat(psis_loo)\n",
    "plt.tight_layout()\n",
    "plt.show()"
   ]
  },
  {
   "cell_type": "markdown",
   "id": "fca07989",
   "metadata": {
    "papermill": {},
    "tags": []
   },
   "source": [
    "---"
   ]
  },
  {
   "cell_type": "code",
   "execution_count": 10,
   "id": "69063ce4",
   "metadata": {
    "execution": {
     "iopub.execute_input": "2022-05-20T10:49:14.510391Z",
     "iopub.status.busy": "2022-05-20T10:49:14.508678Z",
     "iopub.status.idle": "2022-05-20T10:49:14.517418Z",
     "shell.execute_reply": "2022-05-20T10:49:14.516645Z"
    },
    "papermill": {},
    "tags": []
   },
   "outputs": [
    {
     "name": "stdout",
     "output_type": "stream",
     "text": [
      "execution time: 25.23 minutes\n"
     ]
    }
   ],
   "source": [
    "notebook_toc = time()\n",
    "print(f\"execution time: {(notebook_toc - notebook_tic) / 60:.2f} minutes\")"
   ]
  },
  {
   "cell_type": "code",
   "execution_count": 11,
   "id": "b556ab16",
   "metadata": {
    "execution": {
     "iopub.execute_input": "2022-05-20T10:49:14.523265Z",
     "iopub.status.busy": "2022-05-20T10:49:14.521704Z",
     "iopub.status.idle": "2022-05-20T10:49:14.623349Z",
     "shell.execute_reply": "2022-05-20T10:49:14.622558Z"
    },
    "papermill": {},
    "tags": []
   },
   "outputs": [
    {
     "name": "stdout",
     "output_type": "stream",
     "text": [
      "Last updated: 2022-05-20\n",
      "\n",
      "Python implementation: CPython\n",
      "Python version       : 3.10.4\n",
      "IPython version      : 8.3.0\n",
      "\n",
      "Compiler    : GCC 10.3.0\n",
      "OS          : Linux\n",
      "Release     : 3.10.0-1160.45.1.el7.x86_64\n",
      "Machine     : x86_64\n",
      "Processor   : x86_64\n",
      "CPU cores   : 32\n",
      "Architecture: 64bit\n",
      "\n",
      "Hostname: compute-a-16-161.o2.rc.hms.harvard.edu\n",
      "\n",
      "Git branch: modeling-color-panc-eso\n",
      "\n",
      "logging   : 0.5.1.2\n",
      "matplotlib: 3.5.2\n",
      "arviz     : 0.12.0\n",
      "speclet   : 0.0.9000\n",
      "\n"
     ]
    }
   ],
   "source": [
    "%load_ext watermark\n",
    "%watermark -d -u -v -iv -b -h -m"
   ]
  }
 ],
 "metadata": {
  "interpreter": {
   "hash": "4769bf24bc498781164c688bc11a94206605929ba0bbe41f9e4c6af0ec480c6e"
  },
  "kernelspec": {
   "display_name": "Python 3.10.4 ('speclet')",
   "language": "python",
   "name": "python3"
  },
  "language_info": {
   "codemirror_mode": {
    "name": "ipython",
    "version": 3
   },
   "file_extension": ".py",
   "mimetype": "text/x-python",
   "name": "python",
   "nbconvert_exporter": "python",
   "pygments_lexer": "ipython3",
   "version": "3.10.4"
  },
  "papermill": {
   "default_parameters": {},
   "environment_variables": {},
   "input_path": "reports/model-fitting-pipeline-reports/_model-report-template.ipynb",
   "output_path": "reports/model-fitting-pipeline-reports/hnb-small-data_PYMC_MCMC.ipynb",
   "parameters": {
    "CONFIG_PATH": "models/model-configs.yaml",
    "FIT_METHOD_STR": "PYMC_MCMC",
    "MODEL_NAME": "hnb-small-data",
    "ROOT_CACHE_DIR": "models"
   },
   "version": "2.3.4"
  }
 },
 "nbformat": 4,
 "nbformat_minor": 5
}
