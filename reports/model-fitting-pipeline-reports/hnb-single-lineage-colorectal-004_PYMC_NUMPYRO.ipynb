{
 "cells": [
  {
   "cell_type": "markdown",
   "id": "bafd6a6c",
   "metadata": {
    "papermill": {},
    "tags": []
   },
   "source": [
    "# Model Report"
   ]
  },
  {
   "cell_type": "code",
   "execution_count": null,
   "id": "352b40d0",
   "metadata": {
    "papermill": {},
    "tags": []
   },
   "outputs": [],
   "source": [
    "import logging\n",
    "from itertools import product\n",
    "from time import time\n",
    "from typing import Optional\n",
    "\n",
    "import arviz as az\n",
    "import matplotlib.pyplot as plt\n",
    "import numpy as np\n",
    "import seaborn as sns\n",
    "from matplotlib.lines import Line2D\n",
    "from xarray import Dataset\n",
    "\n",
    "from speclet import model_configuration\n",
    "from speclet.analysis.arviz_analysis import describe_mcmc, summarize_rhat\n",
    "from speclet.bayesian_models import get_bayesian_model\n",
    "from speclet.io import project_root\n",
    "from speclet.loggers import set_console_handler_level\n",
    "from speclet.managers.cache_manager import (\n",
    "    get_cached_posterior,\n",
    "    get_posterior_cache_name,\n",
    ")\n",
    "from speclet.project_configuration import get_bayesian_modeling_constants\n",
    "from speclet.project_enums import ModelFitMethod"
   ]
  },
  {
   "cell_type": "code",
   "execution_count": null,
   "id": "38ac7268",
   "metadata": {
    "papermill": {},
    "tags": []
   },
   "outputs": [],
   "source": [
    "notebook_tic = time()\n",
    "set_console_handler_level(logging.WARNING)\n",
    "%config InlineBackend.figure_format = \"retina\"\n",
    "HDI_PROB = get_bayesian_modeling_constants().hdi_prob"
   ]
  },
  {
   "cell_type": "markdown",
   "id": "e6e2c63b",
   "metadata": {
    "papermill": {},
    "tags": []
   },
   "source": [
    "Parameters for papermill:\n",
    "\n",
    "- `MODEL_NAME`: name of the model\n",
    "- `FIT_METHOD`: method used to fit the model; either \"ADVI\" or \"MCMC\"\n",
    "- `CONFIG_PATH`: path to configuration file\n",
    "- `ROOT_CACHE_DIR`: path to the root caching directory"
   ]
  },
  {
   "cell_type": "markdown",
   "id": "258efa5f",
   "metadata": {
    "papermill": {},
    "tags": []
   },
   "source": [
    "## Setup"
   ]
  },
  {
   "cell_type": "markdown",
   "id": "8a5db92b",
   "metadata": {
    "papermill": {},
    "tags": []
   },
   "source": [
    "### Papermill parameters"
   ]
  },
  {
   "cell_type": "code",
   "execution_count": null,
   "id": "fe93123c",
   "metadata": {
    "papermill": {},
    "tags": [
     "parameters"
    ]
   },
   "outputs": [],
   "source": [
    "CONFIG_PATH = \"\"\n",
    "MODEL_NAME = \"\"\n",
    "FIT_METHOD_STR = \"\"\n",
    "ROOT_CACHE_DIR = \"\""
   ]
  },
  {
   "cell_type": "code",
   "execution_count": null,
   "id": "ef87e26c",
   "metadata": {
    "tags": [
     "injected-parameters"
    ]
   },
   "outputs": [],
   "source": [
    "# Parameters\n",
    "MODEL_NAME = \"hnb-single-lineage-colorectal-004\"\n",
    "FIT_METHOD_STR = \"PYMC_NUMPYRO\"\n",
    "CONFIG_PATH = \"models/model-configs.yaml\"\n",
    "ROOT_CACHE_DIR = \"models\""
   ]
  },
  {
   "cell_type": "code",
   "execution_count": null,
   "id": "699bcda3",
   "metadata": {
    "papermill": {},
    "tags": []
   },
   "outputs": [],
   "source": [
    "FIT_METHOD = ModelFitMethod(FIT_METHOD_STR)\n",
    "model_config = model_configuration.get_configuration_for_model(\n",
    "    config_path=project_root() / CONFIG_PATH, name=MODEL_NAME\n",
    ")\n",
    "model = get_bayesian_model(model_config.model)(**model_config.model_kwargs)\n",
    "trace = get_cached_posterior(\n",
    "    get_posterior_cache_name(MODEL_NAME, FIT_METHOD),\n",
    "    cache_dir=project_root() / ROOT_CACHE_DIR,\n",
    ")"
   ]
  },
  {
   "cell_type": "markdown",
   "id": "1cdbaf24",
   "metadata": {
    "papermill": {},
    "tags": []
   },
   "source": [
    "## Fit diagnostics"
   ]
  },
  {
   "cell_type": "code",
   "execution_count": null,
   "id": "d646cc97",
   "metadata": {
    "papermill": {},
    "tags": []
   },
   "outputs": [],
   "source": [
    "if FIT_METHOD in {ModelFitMethod.PYMC_NUMPYRO, ModelFitMethod.PYMC_MCMC}:\n",
    "    print(\"R-HAT\")\n",
    "    rhat_summ = summarize_rhat(trace)\n",
    "    print(rhat_summ)\n",
    "    print(\"=\" * 60)\n",
    "    describe_mcmc(trace)"
   ]
  },
  {
   "cell_type": "markdown",
   "id": "0f53771d",
   "metadata": {
    "papermill": {},
    "tags": []
   },
   "source": [
    "## Model predictions"
   ]
  },
  {
   "cell_type": "code",
   "execution_count": null,
   "id": "ad930e61",
   "metadata": {
    "papermill": {},
    "tags": []
   },
   "outputs": [],
   "source": [
    "np.random.seed(333)\n",
    "\n",
    "pp: Dataset = trace.posterior_predictive[\"ct_final\"]\n",
    "n_chains, n_draws, n_data = pp.shape\n",
    "n_rand = 10\n",
    "draws_idx = np.random.choice(np.arange(n_draws), n_rand, replace=False)\n",
    "\n",
    "fig, axes = plt.subplots(\n",
    "    nrows=2, ncols=1, figsize=(8, 10), squeeze=True, sharex=False, sharey=False\n",
    ")\n",
    "\n",
    "alpha = 0.2\n",
    "\n",
    "for c, d in product(range(n_chains), draws_idx):\n",
    "    draw = pp[c, d, :].values.flatten()\n",
    "    sns.kdeplot(x=draw, ax=axes[0], color=\"tab:blue\", alpha=alpha)\n",
    "    sns.kdeplot(x=np.log10(draw + 1), ax=axes[1], color=\"tab:blue\", alpha=alpha)\n",
    "\n",
    "avg_ppc = pp.median(axis=(0, 1))\n",
    "sns.kdeplot(x=avg_ppc, ax=axes[0], color=\"tab:orange\", alpha=0.8)\n",
    "sns.kdeplot(x=np.log10(avg_ppc + 1), ax=axes[1], color=\"tab:orange\", alpha=0.8)\n",
    "\n",
    "obs_data = trace.observed_data[\"ct_final\"].values.flatten()\n",
    "sns.kdeplot(x=obs_data, ax=axes[0], color=\"black\", alpha=0.8)\n",
    "sns.kdeplot(x=np.log10(obs_data + 1), ax=axes[1], color=\"black\", alpha=0.8)\n",
    "\n",
    "axes[0].set_xlabel(\"ct_final\")\n",
    "axes[1].set_xlabel(r\"$\\log_{10}($ ct_final $)$\")\n",
    "\n",
    "leg_handles = [\n",
    "    Line2D([0], [0], color=\"tab:blue\", label=\"draw\"),\n",
    "    Line2D([0], [0], color=\"tab:orange\", label=\"post. pred. median\"),\n",
    "    Line2D([0], [0], color=\"black\", label=\"observed\"),\n",
    "]\n",
    "for ax in axes:\n",
    "    ax.legend(handles=leg_handles, loc=\"best\")\n",
    "\n",
    "plt.tight_layout()\n",
    "plt.show()"
   ]
  },
  {
   "cell_type": "code",
   "execution_count": null,
   "id": "ccbf8651",
   "metadata": {
    "papermill": {},
    "tags": []
   },
   "outputs": [],
   "source": [
    "has_log_likelihood = \"log_likelihood\" in trace"
   ]
  },
  {
   "cell_type": "code",
   "execution_count": null,
   "id": "ad52da1f",
   "metadata": {
    "papermill": {},
    "tags": []
   },
   "outputs": [],
   "source": [
    "if has_log_likelihood:\n",
    "    psis_loo = az.loo(trace, pointwise=True)\n",
    "    psis_loo"
   ]
  },
  {
   "cell_type": "code",
   "execution_count": null,
   "id": "ea20f110",
   "metadata": {
    "papermill": {},
    "tags": []
   },
   "outputs": [],
   "source": [
    "if has_log_likelihood:\n",
    "    az.plot_khat(psis_loo)\n",
    "    plt.tight_layout()\n",
    "    plt.show()"
   ]
  },
  {
   "cell_type": "markdown",
   "id": "3579030e",
   "metadata": {
    "papermill": {},
    "tags": []
   },
   "source": [
    "---"
   ]
  },
  {
   "cell_type": "code",
   "execution_count": null,
   "id": "81721d43",
   "metadata": {
    "papermill": {},
    "tags": []
   },
   "outputs": [],
   "source": [
    "notebook_toc = time()\n",
    "print(f\"execution time: {(notebook_toc - notebook_tic) / 60:.2f} minutes\")"
   ]
  },
  {
   "cell_type": "code",
   "execution_count": null,
   "id": "61d16f35",
   "metadata": {
    "papermill": {},
    "tags": []
   },
   "outputs": [],
   "source": [
    "%load_ext watermark\n",
    "%watermark -d -u -v -iv -b -h -m"
   ]
  }
 ],
 "metadata": {
  "interpreter": {
   "hash": "4769bf24bc498781164c688bc11a94206605929ba0bbe41f9e4c6af0ec480c6e"
  },
  "kernelspec": {
   "display_name": "Python 3 (ipykernel)",
   "language": "python",
   "name": "python3"
  },
  "language_info": {
   "codemirror_mode": {
    "name": "ipython",
    "version": 3
   },
   "file_extension": ".py",
   "mimetype": "text/x-python",
   "name": "python",
   "nbconvert_exporter": "python",
   "pygments_lexer": "ipython3",
   "version": "3.10.5"
  },
  "papermill": {
   "default_parameters": {},
   "environment_variables": {},
   "input_path": "reports/model-fitting-pipeline-reports/_model-report-template.ipynb",
   "output_path": "reports/model-fitting-pipeline-reports/hnb-single-lineage-colorectal-004_PYMC_NUMPYRO.ipynb",
   "parameters": {
    "CONFIG_PATH": "models/model-configs.yaml",
    "FIT_METHOD_STR": "PYMC_NUMPYRO",
    "MODEL_NAME": "hnb-single-lineage-colorectal-004",
    "ROOT_CACHE_DIR": "models"
   },
   "version": "2.3.4"
  }
 },
 "nbformat": 4,
 "nbformat_minor": 5
}
