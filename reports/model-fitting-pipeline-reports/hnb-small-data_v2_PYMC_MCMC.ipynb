{
 "cells": [
  {
   "cell_type": "markdown",
   "id": "84fd2a18",
   "metadata": {
    "papermill": {},
    "tags": []
   },
   "source": [
    "# Model Report"
   ]
  },
  {
   "cell_type": "code",
   "execution_count": 1,
   "id": "df1fda6d",
   "metadata": {
    "execution": {
     "iopub.execute_input": "2022-05-21T12:22:58.489357Z",
     "iopub.status.busy": "2022-05-21T12:22:58.488436Z",
     "iopub.status.idle": "2022-05-21T12:23:06.976223Z",
     "shell.execute_reply": "2022-05-21T12:23:06.975491Z"
    },
    "papermill": {},
    "tags": []
   },
   "outputs": [
    {
     "name": "stderr",
     "output_type": "stream",
     "text": [
      "/home/jc604/.conda/envs/speclet_smk/bin/../lib/gcc/x86_64-conda-linux-gnu/10.3.0/../../../../x86_64-conda-linux-gnu/bin/ld: /n/app/gcc/6.2.0/lib64/libquadmath.so.0: undefined reference to `memcpy@GLIBC_2.14'\n",
      "collect2: error: ld returned 1 exit status\n",
      "/home/jc604/.conda/envs/speclet_smk/bin/../lib/gcc/x86_64-conda-linux-gnu/10.3.0/../../../../x86_64-conda-linux-gnu/bin/ld: /n/app/gcc/6.2.0/lib64/libquadmath.so.0: undefined reference to `memcpy@GLIBC_2.14'\n",
      "collect2: error: ld returned 1 exit status\n",
      "/home/jc604/.conda/envs/speclet_smk/bin/../lib/gcc/x86_64-conda-linux-gnu/10.3.0/../../../../x86_64-conda-linux-gnu/bin/ld: /n/app/gcc/6.2.0/lib64/libquadmath.so.0: undefined reference to `memcpy@GLIBC_2.14'\n",
      "collect2: error: ld returned 1 exit status\n",
      "/home/jc604/.conda/envs/speclet_smk/bin/../lib/gcc/x86_64-conda-linux-gnu/10.3.0/../../../../x86_64-conda-linux-gnu/bin/ld: /n/app/gcc/6.2.0/lib64/libquadmath.so.0: undefined reference to `memcpy@GLIBC_2.14'\n",
      "collect2: error: ld returned 1 exit status\n",
      "/home/jc604/.conda/envs/speclet_smk/bin/../lib/gcc/x86_64-conda-linux-gnu/10.3.0/../../../../x86_64-conda-linux-gnu/bin/ld: /n/app/gcc/6.2.0/lib64/libquadmath.so.0: undefined reference to `memcpy@GLIBC_2.14'\n",
      "collect2: error: ld returned 1 exit status\n",
      "/home/jc604/.conda/envs/speclet_smk/bin/../lib/gcc/x86_64-conda-linux-gnu/10.3.0/../../../../x86_64-conda-linux-gnu/bin/ld: /n/app/gcc/6.2.0/lib64/libquadmath.so.0: undefined reference to `memcpy@GLIBC_2.14'\n",
      "collect2: error: ld returned 1 exit status\n",
      "WARNING (aesara.tensor.blas): Using NumPy C-API based implementation for BLAS functions.\n"
     ]
    }
   ],
   "source": [
    "import logging\n",
    "from time import time\n",
    "from typing import Optional\n",
    "\n",
    "import arviz as az\n",
    "import matplotlib.pyplot as plt\n",
    "\n",
    "from speclet import model_configuration\n",
    "from speclet.analysis.arviz_analysis import describe_mcmc, summarize_rhat\n",
    "from speclet.bayesian_models import get_bayesian_model\n",
    "from speclet.io import project_root\n",
    "from speclet.loggers import set_console_handler_level\n",
    "from speclet.managers.cache_manager import (\n",
    "    get_cached_posterior,\n",
    "    get_posterior_cache_name,\n",
    ")\n",
    "from speclet.project_configuration import get_bayesian_modeling_constants\n",
    "from speclet.project_enums import ModelFitMethod"
   ]
  },
  {
   "cell_type": "code",
   "execution_count": 2,
   "id": "27582f84",
   "metadata": {
    "execution": {
     "iopub.execute_input": "2022-05-21T12:23:06.982134Z",
     "iopub.status.busy": "2022-05-21T12:23:06.980339Z",
     "iopub.status.idle": "2022-05-21T12:23:07.001012Z",
     "shell.execute_reply": "2022-05-21T12:23:07.000293Z"
    },
    "papermill": {},
    "tags": []
   },
   "outputs": [],
   "source": [
    "notebook_tic = time()\n",
    "set_console_handler_level(logging.WARNING)\n",
    "%config InlineBackend.figure_format = \"retina\"\n",
    "HDI_PROB = get_bayesian_modeling_constants().hdi_prob"
   ]
  },
  {
   "cell_type": "markdown",
   "id": "16bb678e",
   "metadata": {
    "papermill": {},
    "tags": []
   },
   "source": [
    "Parameters for papermill:\n",
    "\n",
    "- `MODEL_NAME`: name of the model\n",
    "- `FIT_METHOD`: method used to fit the model; either \"ADVI\" or \"MCMC\"\n",
    "- `CONFIG_PATH`: path to configuration file\n",
    "- `ROOT_CACHE_DIR`: path to the root caching directory"
   ]
  },
  {
   "cell_type": "markdown",
   "id": "9e9ce303",
   "metadata": {
    "papermill": {},
    "tags": []
   },
   "source": [
    "## Setup"
   ]
  },
  {
   "cell_type": "markdown",
   "id": "700a23fa",
   "metadata": {
    "papermill": {},
    "tags": []
   },
   "source": [
    "### Papermill parameters"
   ]
  },
  {
   "cell_type": "code",
   "execution_count": 3,
   "id": "60e631f9",
   "metadata": {
    "execution": {
     "iopub.execute_input": "2022-05-21T12:23:07.006622Z",
     "iopub.status.busy": "2022-05-21T12:23:07.005260Z",
     "iopub.status.idle": "2022-05-21T12:23:07.010628Z",
     "shell.execute_reply": "2022-05-21T12:23:07.009928Z"
    },
    "papermill": {},
    "tags": [
     "parameters"
    ]
   },
   "outputs": [],
   "source": [
    "CONFIG_PATH = \"\"\n",
    "MODEL_NAME = \"\"\n",
    "FIT_METHOD_STR = \"\"\n",
    "ROOT_CACHE_DIR = \"\""
   ]
  },
  {
   "cell_type": "code",
   "execution_count": 4,
   "id": "1ea3fca0",
   "metadata": {
    "execution": {
     "iopub.execute_input": "2022-05-21T12:23:07.015656Z",
     "iopub.status.busy": "2022-05-21T12:23:07.014334Z",
     "iopub.status.idle": "2022-05-21T12:23:07.019724Z",
     "shell.execute_reply": "2022-05-21T12:23:07.019057Z"
    },
    "tags": [
     "injected-parameters"
    ]
   },
   "outputs": [],
   "source": [
    "# Parameters\n",
    "MODEL_NAME = \"hnb-small-data_v2\"\n",
    "FIT_METHOD_STR = \"PYMC_MCMC\"\n",
    "CONFIG_PATH = \"models/model-configs.yaml\"\n",
    "ROOT_CACHE_DIR = \"models\""
   ]
  },
  {
   "cell_type": "code",
   "execution_count": 5,
   "id": "c8e9b558",
   "metadata": {
    "execution": {
     "iopub.execute_input": "2022-05-21T12:23:07.024957Z",
     "iopub.status.busy": "2022-05-21T12:23:07.023424Z",
     "iopub.status.idle": "2022-05-21T12:23:07.357245Z",
     "shell.execute_reply": "2022-05-21T12:23:07.356474Z"
    },
    "papermill": {},
    "tags": []
   },
   "outputs": [],
   "source": [
    "FIT_METHOD = ModelFitMethod(FIT_METHOD_STR)\n",
    "model_config = model_configuration.get_configuration_for_model(\n",
    "    config_path=project_root() / CONFIG_PATH, name=MODEL_NAME\n",
    ")\n",
    "model = get_bayesian_model(model_config.model)()\n",
    "trace = get_cached_posterior(\n",
    "    get_posterior_cache_name(MODEL_NAME, FIT_METHOD),\n",
    "    cache_dir=project_root() / ROOT_CACHE_DIR,\n",
    ")"
   ]
  },
  {
   "cell_type": "markdown",
   "id": "8ab9d217",
   "metadata": {
    "papermill": {},
    "tags": []
   },
   "source": [
    "## Fit diagnostics"
   ]
  },
  {
   "cell_type": "code",
   "execution_count": 6,
   "id": "39235786",
   "metadata": {
    "execution": {
     "iopub.execute_input": "2022-05-21T12:23:07.363588Z",
     "iopub.status.busy": "2022-05-21T12:23:07.361885Z",
     "iopub.status.idle": "2022-05-21T12:23:07.368522Z",
     "shell.execute_reply": "2022-05-21T12:23:07.367797Z"
    },
    "papermill": {},
    "tags": []
   },
   "outputs": [],
   "source": [
    "if FIT_METHOD.value in {ModelFitMethod.PYMC_MCMC, ModelFitMethod.PYMC_NUMPYRO}:\n",
    "    print(\"R-HAT\")\n",
    "    rhat_summ = summarize_rhat(trace)\n",
    "    print(rhat_summ)\n",
    "    print(\"=\" * 60)\n",
    "    describe_mcmc(trace)"
   ]
  },
  {
   "cell_type": "markdown",
   "id": "ecd2f227",
   "metadata": {
    "papermill": {},
    "tags": []
   },
   "source": [
    "## Model predictions"
   ]
  },
  {
   "cell_type": "code",
   "execution_count": 7,
   "id": "e30333c7",
   "metadata": {
    "execution": {
     "iopub.execute_input": "2022-05-21T12:23:07.374564Z",
     "iopub.status.busy": "2022-05-21T12:23:07.372916Z",
     "iopub.status.idle": "2022-05-21T12:23:29.189149Z",
     "shell.execute_reply": "2022-05-21T12:23:29.188266Z"
    },
    "papermill": {},
    "tags": []
   },
   "outputs": [
    {
     "data": {
      "image/png": "[encoded data removed]",
      "text/plain": [
       "<Figure size 460.8x345.6 with 1 Axes>"
      ]
     },
     "metadata": {
      "image/png": {
       "height": 337,
       "width": 453
      },
      "needs_background": "light"
     },
     "output_type": "display_data"
    }
   ],
   "source": [
    "az.plot_ppc(trace, num_pp_samples=100, random_seed=123)\n",
    "plt.tight_layout()\n",
    "plt.show()"
   ]
  },
  {
   "cell_type": "code",
   "execution_count": 8,
   "id": "65872888",
   "metadata": {
    "execution": {
     "iopub.execute_input": "2022-05-21T12:23:29.194978Z",
     "iopub.status.busy": "2022-05-21T12:23:29.193531Z",
     "iopub.status.idle": "2022-05-21T12:33:06.895132Z",
     "shell.execute_reply": "2022-05-21T12:33:06.894104Z"
    },
    "papermill": {},
    "tags": []
   },
   "outputs": [
    {
     "data": {
      "text/plain": [
       "Computed from 4000 by 39758 log-likelihood matrix\n",
       "\n",
       "         Estimate       SE\n",
       "elpd_loo -268397.62   224.19\n",
       "p_loo      395.72        -\n",
       "------\n",
       "\n",
       "Pareto k diagnostic values:\n",
       "                         Count   Pct.\n",
       "(-Inf, 0.5]   (good)     39757  100.0%\n",
       " (0.5, 0.7]   (ok)           1    0.0%\n",
       "   (0.7, 1]   (bad)          0    0.0%\n",
       "   (1, Inf)   (very bad)     0    0.0%"
      ]
     },
     "execution_count": 8,
     "metadata": {},
     "output_type": "execute_result"
    }
   ],
   "source": [
    "psis_loo = az.loo(trace, pointwise=True)\n",
    "psis_loo"
   ]
  },
  {
   "cell_type": "code",
   "execution_count": 9,
   "id": "4c7be66b",
   "metadata": {
    "execution": {
     "iopub.execute_input": "2022-05-21T12:33:06.901029Z",
     "iopub.status.busy": "2022-05-21T12:33:06.899625Z",
     "iopub.status.idle": "2022-05-21T12:33:08.254271Z",
     "shell.execute_reply": "2022-05-21T12:33:08.253559Z"
    },
    "papermill": {},
    "tags": []
   },
   "outputs": [
    {
     "data": {
      "image/png": "[encoded data removed]",
      "text/plain": [
       "<Figure size 432x288 with 1 Axes>"
      ]
     },
     "metadata": {
      "image/png": {
       "height": 280,
       "width": 424
      },
      "needs_background": "light"
     },
     "output_type": "display_data"
    }
   ],
   "source": [
    "az.plot_khat(psis_loo)\n",
    "plt.tight_layout()\n",
    "plt.show()"
   ]
  },
  {
   "cell_type": "markdown",
   "id": "7f606bc8",
   "metadata": {
    "papermill": {},
    "tags": []
   },
   "source": [
    "---"
   ]
  },
  {
   "cell_type": "code",
   "execution_count": 10,
   "id": "5edbfbd3",
   "metadata": {
    "execution": {
     "iopub.execute_input": "2022-05-21T12:33:08.259674Z",
     "iopub.status.busy": "2022-05-21T12:33:08.258283Z",
     "iopub.status.idle": "2022-05-21T12:33:08.265801Z",
     "shell.execute_reply": "2022-05-21T12:33:08.265086Z"
    },
    "papermill": {},
    "tags": []
   },
   "outputs": [
    {
     "name": "stdout",
     "output_type": "stream",
     "text": [
      "execution time: 10.02 minutes\n"
     ]
    }
   ],
   "source": [
    "notebook_toc = time()\n",
    "print(f\"execution time: {(notebook_toc - notebook_tic) / 60:.2f} minutes\")"
   ]
  },
  {
   "cell_type": "code",
   "execution_count": 11,
   "id": "56d54e0a",
   "metadata": {
    "execution": {
     "iopub.execute_input": "2022-05-21T12:33:08.270896Z",
     "iopub.status.busy": "2022-05-21T12:33:08.269560Z",
     "iopub.status.idle": "2022-05-21T12:33:08.357354Z",
     "shell.execute_reply": "2022-05-21T12:33:08.356552Z"
    },
    "papermill": {},
    "tags": []
   },
   "outputs": [
    {
     "name": "stdout",
     "output_type": "stream",
     "text": [
      "Last updated: 2022-05-21\n",
      "\n",
      "Python implementation: CPython\n",
      "Python version       : 3.10.4\n",
      "IPython version      : 8.3.0\n",
      "\n",
      "Compiler    : GCC 10.3.0\n",
      "OS          : Linux\n",
      "Release     : 3.10.0-1160.45.1.el7.x86_64\n",
      "Machine     : x86_64\n",
      "Processor   : x86_64\n",
      "CPU cores   : 32\n",
      "Architecture: 64bit\n",
      "\n",
      "Hostname: compute-a-16-169.o2.rc.hms.harvard.edu\n",
      "\n",
      "Git branch: modeling-color-panc-eso\n",
      "\n",
      "logging   : 0.5.1.2\n",
      "arviz     : 0.12.0\n",
      "matplotlib: 3.5.2\n",
      "speclet   : 0.0.9000\n",
      "\n"
     ]
    }
   ],
   "source": [
    "%load_ext watermark\n",
    "%watermark -d -u -v -iv -b -h -m"
   ]
  }
 ],
 "metadata": {
  "interpreter": {
   "hash": "4769bf24bc498781164c688bc11a94206605929ba0bbe41f9e4c6af0ec480c6e"
  },
  "kernelspec": {
   "display_name": "Python 3.10.4 ('speclet')",
   "language": "python",
   "name": "python3"
  },
  "language_info": {
   "codemirror_mode": {
    "name": "ipython",
    "version": 3
   },
   "file_extension": ".py",
   "mimetype": "text/x-python",
   "name": "python",
   "nbconvert_exporter": "python",
   "pygments_lexer": "ipython3",
   "version": "3.10.4"
  },
  "papermill": {
   "default_parameters": {},
   "environment_variables": {},
   "input_path": "reports/model-fitting-pipeline-reports/_model-report-template.ipynb",
   "output_path": "reports/model-fitting-pipeline-reports/hnb-small-data_v2_PYMC_MCMC.ipynb",
   "parameters": {
    "CONFIG_PATH": "models/model-configs.yaml",
    "FIT_METHOD_STR": "PYMC_MCMC",
    "MODEL_NAME": "hnb-small-data_v2",
    "ROOT_CACHE_DIR": "models"
   },
   "version": "2.3.4"
  }
 },
 "nbformat": 4,
 "nbformat_minor": 5
}
