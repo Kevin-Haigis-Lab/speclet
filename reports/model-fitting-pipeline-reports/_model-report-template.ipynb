{
 "cells": [
  {
   "cell_type": "markdown",
   "metadata": {},
   "source": [
    "# Model Report"
   ]
  },
  {
   "cell_type": "code",
   "execution_count": null,
   "id": "a8079475",
   "metadata": {
    "papermill": {},
    "tags": []
   },
   "outputs": [],
   "source": [
    "import logging\n",
    "from time import time\n",
    "from typing import Optional\n",
    "\n",
    "import arviz as az\n",
    "import matplotlib.pyplot as plt\n",
    "\n",
    "from speclet import model_configuration\n",
    "from speclet.analysis.arviz_analysis import describe_mcmc\n",
    "from speclet.bayesian_models import get_bayesian_model\n",
    "from speclet.io import project_root\n",
    "from speclet.loggers import set_console_handler_level\n",
    "from speclet.managers.cache_manager import (\n",
    "    get_cached_posterior,\n",
    "    get_posterior_cache_name,\n",
    ")\n",
    "from speclet.project_configuration import get_bayesian_modeling_constants\n",
    "from speclet.project_enums import ModelFitMethod"
   ]
  },
  {
   "cell_type": "code",
   "execution_count": null,
   "id": "78abd800",
   "metadata": {
    "papermill": {},
    "tags": []
   },
   "outputs": [],
   "source": [
    "notebook_tic = time()\n",
    "set_console_handler_level(logging.WARNING)\n",
    "%config InlineBackend.figure_format = \"retina\"\n",
    "HDI_PROB = get_bayesian_modeling_constants().hdi_prob"
   ]
  },
  {
   "cell_type": "markdown",
   "id": "a85941b9",
   "metadata": {
    "papermill": {},
    "tags": []
   },
   "source": [
    "Parameters for papermill:\n",
    "\n",
    "- `MODEL_NAME`: name of the model\n",
    "- `FIT_METHOD`: method used to fit the model; either \"ADVI\" or \"MCMC\"\n",
    "- `CONFIG_PATH`: path to configuration file\n",
    "- `ROOT_CACHE_DIR`: path to the root caching directory"
   ]
  },
  {
   "cell_type": "markdown",
   "metadata": {},
   "source": [
    "## Setup"
   ]
  },
  {
   "cell_type": "markdown",
   "metadata": {},
   "source": [
    "### Papermill parameters"
   ]
  },
  {
   "cell_type": "code",
   "execution_count": null,
   "metadata": {
    "tags": [
     "parameters"
    ]
   },
   "outputs": [],
   "source": [
    "CONFIG_PATH = \"\"\n",
    "MODEL_NAME = \"\"\n",
    "FIT_METHOD_STR = \"\"\n",
    "ROOT_CACHE_DIR = \"\""
   ]
  },
  {
   "cell_type": "code",
   "execution_count": null,
   "id": "2226b6a8",
   "metadata": {
    "papermill": {},
    "tags": []
   },
   "outputs": [],
   "source": [
    "FIT_METHOD = ModelFitMethod(FIT_METHOD_STR)\n",
    "model_config = model_configuration.get_configuration_for_model(\n",
    "    config_path=project_root() / CONFIG_PATH, name=MODEL_NAME\n",
    ")\n",
    "model = get_bayesian_model(model_config.model)()\n",
    "trace = get_cached_posterior(\n",
    "    get_posterior_cache_name(MODEL_NAME, FIT_METHOD),\n",
    "    cache_dir=project_root() / ROOT_CACHE_DIR,\n",
    ")"
   ]
  },
  {
   "cell_type": "markdown",
   "id": "549aac73",
   "metadata": {
    "papermill": {},
    "tags": []
   },
   "source": [
    "## Fit diagnostics"
   ]
  },
  {
   "cell_type": "code",
   "execution_count": null,
   "id": "dda98d10",
   "metadata": {
    "papermill": {},
    "tags": []
   },
   "outputs": [],
   "source": [
    "if \"MCMC\" in FIT_METHOD.value:\n",
    "    print(\"R-HAT\")\n",
    "    print(az.rhat(trace))\n",
    "    print(\"=\" * 60)\n",
    "    describe_mcmc(trace)"
   ]
  },
  {
   "cell_type": "markdown",
   "id": "4f2c239c",
   "metadata": {
    "papermill": {},
    "tags": []
   },
   "source": [
    "## Model parameters"
   ]
  },
  {
   "cell_type": "code",
   "execution_count": null,
   "id": "4fc822a0",
   "metadata": {},
   "outputs": [],
   "source": [
    "var_regex = model.vars_regex(FIT_METHOD)\n",
    "var_regex += [\"~log_lik\", \"~y_hat\"]"
   ]
  },
  {
   "cell_type": "code",
   "execution_count": null,
   "id": "64ca7189",
   "metadata": {
    "papermill": {},
    "tags": []
   },
   "outputs": [],
   "source": [
    "def _as_int(x: float) -> str:\n",
    "    return str(int(x))\n",
    "\n",
    "\n",
    "az.summary(\n",
    "    trace, var_names=var_regex, filter_vars=\"regex\", hdi_prob=HDI_PROB\n",
    ").style.format(formatter={\"ess_bulk\": _as_int, \"ess_tail\": _as_int}, precision=2)"
   ]
  },
  {
   "cell_type": "code",
   "execution_count": null,
   "id": "f01c4d3c",
   "metadata": {
    "papermill": {},
    "tags": []
   },
   "outputs": [],
   "source": [
    "az.plot_trace(trace, var_names=var_regex, filter_vars=\"regex\")\n",
    "plt.tight_layout()\n",
    "plt.show()"
   ]
  },
  {
   "cell_type": "code",
   "execution_count": null,
   "id": "4f527f10",
   "metadata": {
    "papermill": {},
    "tags": []
   },
   "outputs": [],
   "source": [
    "az.plot_forest(\n",
    "    trace, var_names=var_regex, filter_vars=\"regex\", hdi_prob=HDI_PROB, combined=True\n",
    ")\n",
    "plt.tight_layout()\n",
    "plt.show()"
   ]
  },
  {
   "cell_type": "markdown",
   "id": "c2eaa4dd",
   "metadata": {
    "papermill": {},
    "tags": []
   },
   "source": [
    "## Model predictions"
   ]
  },
  {
   "cell_type": "code",
   "execution_count": null,
   "id": "09866fb0",
   "metadata": {},
   "outputs": [],
   "source": [
    "data_pairs: Optional[dict[str, str]] = None\n",
    "\n",
    "if FIT_METHOD is ModelFitMethod.STAN_MCMC:\n",
    "    obs_var = model.stan_idata_addons[\"observed_data\"][0]\n",
    "    ppc_var = model.stan_idata_addons[\"posterior_predictive\"][0]\n",
    "    data_pairs = {obs_var: ppc_var}\n",
    "\n",
    "\n",
    "az.plot_ppc(trace, data_pairs=data_pairs, num_pp_samples=100, random_seed=123)\n",
    "plt.tight_layout()\n",
    "plt.show()"
   ]
  },
  {
   "cell_type": "code",
   "execution_count": null,
   "metadata": {},
   "outputs": [],
   "source": [
    "psis_loo = az.loo(trace, pointwise=True)\n",
    "psis_loo"
   ]
  },
  {
   "cell_type": "code",
   "execution_count": null,
   "id": "2bc8680f",
   "metadata": {},
   "outputs": [],
   "source": [
    "az.plot_khat(psis_loo)\n",
    "plt.tight_layout()\n",
    "plt.show()"
   ]
  },
  {
   "cell_type": "markdown",
   "metadata": {
    "papermill": {},
    "tags": []
   },
   "source": [
    "---"
   ]
  },
  {
   "cell_type": "code",
   "execution_count": null,
   "metadata": {
    "papermill": {},
    "tags": []
   },
   "outputs": [],
   "source": [
    "notebook_toc = time()\n",
    "print(f\"execution time: {(notebook_toc - notebook_tic) / 60:.2f} minutes\")"
   ]
  },
  {
   "cell_type": "code",
   "execution_count": null,
   "metadata": {
    "papermill": {},
    "tags": []
   },
   "outputs": [],
   "source": [
    "%load_ext watermark\n",
    "%watermark -d -u -v -iv -b -h -m"
   ]
  }
 ],
 "metadata": {
  "kernelspec": {
   "display_name": "Python 3",
   "language": "python",
   "name": "python3"
  },
  "language_info": {
   "codemirror_mode": {
    "name": "ipython",
    "version": 3
   },
   "file_extension": ".py",
   "mimetype": "text/x-python",
   "name": "python",
   "nbconvert_exporter": "python",
   "pygments_lexer": "ipython3",
   "version": "3.9.9"
  }
 },
 "nbformat": 4,
 "nbformat_minor": 4
}
