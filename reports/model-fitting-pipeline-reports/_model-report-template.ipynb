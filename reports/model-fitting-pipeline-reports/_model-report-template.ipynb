{
 "cells": [
  {
   "cell_type": "markdown",
   "metadata": {
    "tags": []
   },
   "source": [
    "# Model Report"
   ]
  },
  {
   "cell_type": "markdown",
   "metadata": {},
   "source": [
    "## Setup"
   ]
  },
  {
   "cell_type": "markdown",
   "metadata": {},
   "source": [
    "### Imports"
   ]
  },
  {
   "cell_type": "code",
   "execution_count": null,
   "metadata": {
    "papermill": {},
    "tags": []
   },
   "outputs": [],
   "source": [
    "import logging\n",
    "from pathlib import Path\n",
    "\n",
    "import matplotlib.pyplot as plt\n",
    "import seaborn as sns\n",
    "\n",
    "from speclet.analysis.arviz_analysis import describe_mcmc\n",
    "from speclet.io import project_root\n",
    "from speclet.loggers import set_console_handler_level\n",
    "from speclet.managers.posterior_data_manager import PosteriorDataManager\n",
    "from speclet.project_configuration import arviz_config\n",
    "from speclet.project_enums import ModelFitMethod"
   ]
  },
  {
   "cell_type": "code",
   "execution_count": null,
   "metadata": {
    "papermill": {},
    "tags": []
   },
   "outputs": [],
   "source": [
    "set_console_handler_level(logging.INFO)\n",
    "%config InlineBackend.figure_format = \"retina\"\n",
    "arviz_config()"
   ]
  },
  {
   "cell_type": "markdown",
   "metadata": {
    "papermill": {},
    "tags": []
   },
   "source": [
    "Parameters for papermill:\n",
    "\n",
    "- `MODEL_NAME`: name of the model\n",
    "- `FIT_METHOD`: method used to fit the model\n",
    "- `CONFIG_PATH`: path to configuration file\n",
    "- `ROOT_CACHE_DIR`: path to the root caching directory"
   ]
  },
  {
   "cell_type": "markdown",
   "metadata": {},
   "source": [
    "### Papermill parameters"
   ]
  },
  {
   "cell_type": "code",
   "execution_count": null,
   "metadata": {
    "tags": [
     "parameters"
    ]
   },
   "outputs": [],
   "source": [
    "CONFIG_PATH = \"\"\n",
    "MODEL_NAME = \"\"\n",
    "FIT_METHOD = \"\"\n",
    "ROOT_CACHE_DIR = \"\""
   ]
  },
  {
   "cell_type": "code",
   "execution_count": null,
   "metadata": {
    "papermill": {},
    "tags": []
   },
   "outputs": [],
   "source": [
    "_fit_method = ModelFitMethod(FIT_METHOD)\n",
    "postman = PosteriorDataManager(\n",
    "    name=MODEL_NAME,\n",
    "    fit_method=_fit_method,\n",
    "    config_path=project_root() / Path(CONFIG_PATH),\n",
    "    posterior_dir=project_root() / Path(ROOT_CACHE_DIR),\n",
    ")"
   ]
  },
  {
   "cell_type": "markdown",
   "metadata": {
    "papermill": {},
    "tags": []
   },
   "source": [
    "## Fit diagnostics"
   ]
  },
  {
   "cell_type": "code",
   "execution_count": null,
   "metadata": {},
   "outputs": [],
   "source": [
    "def _plot_rhat_boxplots(pm: PosteriorDataManager) -> None:\n",
    "    fig, ax = plt.subplots(figsize=(8, 4))\n",
    "    sns.boxplot(data=pm.posterior_summary, x=\"var_name\", y=\"r_hat\", ax=ax)\n",
    "    ax.tick_params(\"x\", rotation=90)\n",
    "    ax.set_ylabel(r\"$\\widehat{R}$\")\n",
    "    ax.set_ylim(0.999, None)\n",
    "    plt.show()\n",
    "\n",
    "\n",
    "def _plot_ess_hist(pm: PosteriorDataManager) -> None:\n",
    "    fig, axes = plt.subplots(\n",
    "        nrows=1, ncols=2, sharex=False, sharey=False, figsize=(8, 4)\n",
    "    )\n",
    "    sns.histplot(data=pm.posterior_summary, x=\"ess_bulk\", ax=axes[0])\n",
    "    axes[0].set_title(\"ESS (bulk)\")\n",
    "    sns.histplot(data=pm.posterior_summary, x=\"ess_tail\", ax=axes[1])\n",
    "    axes[1].set_title(\"ESS (tail)\")\n",
    "    for ax in axes.flatten():\n",
    "        ax.set_xlim(0, None)\n",
    "    fig.tight_layout()\n",
    "    plt.show()"
   ]
  },
  {
   "cell_type": "code",
   "execution_count": null,
   "metadata": {
    "papermill": {},
    "tags": []
   },
   "outputs": [],
   "source": [
    "if postman.fit_method in {ModelFitMethod.PYMC_NUMPYRO, ModelFitMethod.PYMC_MCMC}:\n",
    "    _plot_rhat_boxplots(postman)\n",
    "    _plot_ess_hist(postman)\n",
    "    print(\"=\" * 60)\n",
    "    describe_mcmc(postman.trace)"
   ]
  },
  {
   "cell_type": "markdown",
   "metadata": {
    "papermill": {},
    "tags": []
   },
   "source": [
    "---"
   ]
  },
  {
   "cell_type": "code",
   "execution_count": null,
   "metadata": {
    "papermill": {},
    "tags": []
   },
   "outputs": [],
   "source": [
    "%load_ext watermark\n",
    "%watermark -d -u -v -iv -b -h -m"
   ]
  }
 ],
 "metadata": {
  "interpreter": {
   "hash": "4769bf24bc498781164c688bc11a94206605929ba0bbe41f9e4c6af0ec480c6e"
  },
  "kernelspec": {
   "display_name": "Python 3 (ipykernel)",
   "language": "python",
   "name": "python3"
  },
  "language_info": {
   "codemirror_mode": {
    "name": "ipython",
    "version": 3
   },
   "file_extension": ".py",
   "mimetype": "text/x-python",
   "name": "python",
   "nbconvert_exporter": "python",
   "pygments_lexer": "ipython3",
   "version": "3.10.5"
  }
 },
 "nbformat": 4,
 "nbformat_minor": 4
}
