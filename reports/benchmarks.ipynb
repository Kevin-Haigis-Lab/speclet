{
 "cells": [
  {
   "cell_type": "code",
   "execution_count": 1,
   "metadata": {
    "execution": {
     "iopub.execute_input": "2021-07-27T14:39:37.725333Z",
     "iopub.status.busy": "2021-07-27T14:39:37.724422Z",
     "iopub.status.idle": "2021-07-27T14:39:49.934584Z",
     "shell.execute_reply": "2021-07-27T14:39:49.935392Z"
    },
    "tags": []
   },
   "outputs": [],
   "source": [
    "from pathlib import Path\n",
    "from typing import Optional\n",
    "\n",
    "import janitor\n",
    "import pandas as pd\n",
    "import plotnine as gg\n",
    "import seaborn as sns\n",
    "\n",
    "%config InlineBackend.figure_format='retina'"
   ]
  },
  {
   "cell_type": "code",
   "execution_count": 2,
   "metadata": {
    "execution": {
     "iopub.execute_input": "2021-07-27T14:39:49.939312Z",
     "iopub.status.busy": "2021-07-27T14:39:49.938248Z",
     "iopub.status.idle": "2021-07-27T14:39:49.943870Z",
     "shell.execute_reply": "2021-07-27T14:39:49.944581Z"
    },
    "tags": []
   },
   "outputs": [],
   "source": [
    "benchmark_dir = Path(\"../benchmarks/\")\n",
    "assert benchmark_dir.exists()\n",
    "assert benchmark_dir.is_dir()"
   ]
  },
  {
   "cell_type": "markdown",
   "metadata": {},
   "source": [
    "## Data Processing"
   ]
  },
  {
   "cell_type": "markdown",
   "metadata": {},
   "source": [
    "Organization of benchmarks directory:\n",
    "\n",
    "1. pipeline\n",
    "2. rules\n",
    "3. individual runs\n",
    "\n",
    "> I may want to add more information to the name of the rules to keep them separate and not overwritten.\n",
    "> For instance, including the date would be useful or metadata such as the data size for SBC or debug status for the fitting pipeline."
   ]
  },
  {
   "cell_type": "code",
   "execution_count": 3,
   "metadata": {
    "execution": {
     "iopub.execute_input": "2021-07-27T14:39:49.948155Z",
     "iopub.status.busy": "2021-07-27T14:39:49.947115Z",
     "iopub.status.idle": "2021-07-27T14:39:49.958501Z",
     "shell.execute_reply": "2021-07-27T14:39:49.959240Z"
    }
   },
   "outputs": [
    {
     "data": {
      "text/plain": [
       "[PosixPath('../benchmarks/010_010_run-crc-sampling-snakemake'),\n",
       " PosixPath('../benchmarks/012_010_simulation-based-calibration-snakemake')]"
      ]
     },
     "execution_count": 3,
     "metadata": {},
     "output_type": "execute_result"
    }
   ],
   "source": [
    "list(benchmark_dir.iterdir())"
   ]
  },
  {
   "cell_type": "code",
   "execution_count": 4,
   "metadata": {
    "execution": {
     "iopub.execute_input": "2021-07-27T14:39:49.963013Z",
     "iopub.status.busy": "2021-07-27T14:39:49.961884Z",
     "iopub.status.idle": "2021-07-27T14:39:51.870682Z",
     "shell.execute_reply": "2021-07-27T14:39:51.871407Z"
    },
    "tags": []
   },
   "outputs": [
    {
     "data": {
      "text/html": [
       "<div>\n",
       "<style scoped>\n",
       "    .dataframe tbody tr th:only-of-type {\n",
       "        vertical-align: middle;\n",
       "    }\n",
       "\n",
       "    .dataframe tbody tr th {\n",
       "        vertical-align: top;\n",
       "    }\n",
       "\n",
       "    .dataframe thead th {\n",
       "        text-align: right;\n",
       "    }\n",
       "</style>\n",
       "<table border=\"1\" class=\"dataframe\">\n",
       "  <thead>\n",
       "    <tr style=\"text-align: right;\">\n",
       "      <th></th>\n",
       "      <th>s</th>\n",
       "      <th>h_m_s</th>\n",
       "      <th>max_rss</th>\n",
       "      <th>max_vms</th>\n",
       "      <th>max_uss</th>\n",
       "      <th>max_pss</th>\n",
       "      <th>io_in</th>\n",
       "      <th>io_out</th>\n",
       "      <th>mean_load</th>\n",
       "      <th>cpu_time</th>\n",
       "      <th>step</th>\n",
       "      <th>rule</th>\n",
       "      <th>pipeline</th>\n",
       "    </tr>\n",
       "  </thead>\n",
       "  <tbody>\n",
       "    <tr>\n",
       "      <th>0</th>\n",
       "      <td>1394.6028</td>\n",
       "      <td>0:23:14</td>\n",
       "      <td>13024.31</td>\n",
       "      <td>17736.92</td>\n",
       "      <td>2819.38</td>\n",
       "      <td>2819.44</td>\n",
       "      <td>764.14</td>\n",
       "      <td>173.55</td>\n",
       "      <td>291.99</td>\n",
       "      <td>116.36</td>\n",
       "      <td>sp2-default_MCMC_perm106</td>\n",
       "      <td>run_sbc</td>\n",
       "      <td>012_010_simulation-based-calibration-snakemake</td>\n",
       "    </tr>\n",
       "    <tr>\n",
       "      <th>1</th>\n",
       "      <td>965.0994</td>\n",
       "      <td>0:16:05</td>\n",
       "      <td>12391.73</td>\n",
       "      <td>17107.66</td>\n",
       "      <td>2711.39</td>\n",
       "      <td>2711.48</td>\n",
       "      <td>1930.35</td>\n",
       "      <td>179.84</td>\n",
       "      <td>274.71</td>\n",
       "      <td>128.70</td>\n",
       "      <td>sp2-default_MCMC_perm447</td>\n",
       "      <td>run_sbc</td>\n",
       "      <td>012_010_simulation-based-calibration-snakemake</td>\n",
       "    </tr>\n",
       "    <tr>\n",
       "      <th>2</th>\n",
       "      <td>935.6633</td>\n",
       "      <td>0:15:35</td>\n",
       "      <td>13656.05</td>\n",
       "      <td>18371.72</td>\n",
       "      <td>2906.89</td>\n",
       "      <td>2921.86</td>\n",
       "      <td>19.48</td>\n",
       "      <td>177.94</td>\n",
       "      <td>272.56</td>\n",
       "      <td>115.20</td>\n",
       "      <td>sp2-default_MCMC_perm10</td>\n",
       "      <td>run_sbc</td>\n",
       "      <td>012_010_simulation-based-calibration-snakemake</td>\n",
       "    </tr>\n",
       "    <tr>\n",
       "      <th>3</th>\n",
       "      <td>1138.5514</td>\n",
       "      <td>0:18:58</td>\n",
       "      <td>12778.65</td>\n",
       "      <td>17491.38</td>\n",
       "      <td>2847.65</td>\n",
       "      <td>2847.71</td>\n",
       "      <td>278.06</td>\n",
       "      <td>129.89</td>\n",
       "      <td>284.06</td>\n",
       "      <td>121.95</td>\n",
       "      <td>sp2-default_MCMC_perm82</td>\n",
       "      <td>run_sbc</td>\n",
       "      <td>012_010_simulation-based-calibration-snakemake</td>\n",
       "    </tr>\n",
       "    <tr>\n",
       "      <th>4</th>\n",
       "      <td>1185.8116</td>\n",
       "      <td>0:19:45</td>\n",
       "      <td>13912.48</td>\n",
       "      <td>18616.94</td>\n",
       "      <td>2971.59</td>\n",
       "      <td>2995.49</td>\n",
       "      <td>6.51</td>\n",
       "      <td>173.51</td>\n",
       "      <td>276.01</td>\n",
       "      <td>124.15</td>\n",
       "      <td>sp2-default_MCMC_perm24</td>\n",
       "      <td>run_sbc</td>\n",
       "      <td>012_010_simulation-based-calibration-snakemake</td>\n",
       "    </tr>\n",
       "  </tbody>\n",
       "</table>\n",
       "</div>"
      ],
      "text/plain": [
       "           s    h_m_s   max_rss   max_vms  max_uss  max_pss    io_in  io_out  \\\n",
       "0  1394.6028  0:23:14  13024.31  17736.92  2819.38  2819.44   764.14  173.55   \n",
       "1   965.0994  0:16:05  12391.73  17107.66  2711.39  2711.48  1930.35  179.84   \n",
       "2   935.6633  0:15:35  13656.05  18371.72  2906.89  2921.86    19.48  177.94   \n",
       "3  1138.5514  0:18:58  12778.65  17491.38  2847.65  2847.71   278.06  129.89   \n",
       "4  1185.8116  0:19:45  13912.48  18616.94  2971.59  2995.49     6.51  173.51   \n",
       "\n",
       "   mean_load  cpu_time                      step     rule  \\\n",
       "0     291.99    116.36  sp2-default_MCMC_perm106  run_sbc   \n",
       "1     274.71    128.70  sp2-default_MCMC_perm447  run_sbc   \n",
       "2     272.56    115.20   sp2-default_MCMC_perm10  run_sbc   \n",
       "3     284.06    121.95   sp2-default_MCMC_perm82  run_sbc   \n",
       "4     276.01    124.15   sp2-default_MCMC_perm24  run_sbc   \n",
       "\n",
       "                                         pipeline  \n",
       "0  012_010_simulation-based-calibration-snakemake  \n",
       "1  012_010_simulation-based-calibration-snakemake  \n",
       "2  012_010_simulation-based-calibration-snakemake  \n",
       "3  012_010_simulation-based-calibration-snakemake  \n",
       "4  012_010_simulation-based-calibration-snakemake  "
      ]
     },
     "execution_count": 4,
     "metadata": {},
     "output_type": "execute_result"
    }
   ],
   "source": [
    "def process_benchmark_file(bench_f: Path) -> pd.DataFrame:\n",
    "    return pd.read_csv(bench_f, sep=\"\\t\").assign(\n",
    "        step=bench_f.name.replace(bench_f.suffix, \"\")\n",
    "    )\n",
    "\n",
    "\n",
    "def get_benchmark_data_for_rule_dir(\n",
    "    rule_d: Path, pipeline_name: str\n",
    ") -> Optional[pd.DataFrame]:\n",
    "    bench_dfs: list[pd.DataFrame] = [\n",
    "        process_benchmark_file(b) for b in rule_d.iterdir()\n",
    "    ]\n",
    "    if len(bench_dfs) == 0:\n",
    "        return None\n",
    "\n",
    "    return (\n",
    "        pd.concat(bench_dfs)\n",
    "        .assign(rule=rule_d.name, pipeline=pipeline_name)\n",
    "        .clean_names()\n",
    "    )\n",
    "\n",
    "\n",
    "benchmark_df_list: list[pd.DataFrame] = []\n",
    "\n",
    "for pipeline_dir in benchmark_dir.iterdir():\n",
    "    for rule_dir in pipeline_dir.iterdir():\n",
    "        df = get_benchmark_data_for_rule_dir(rule_dir, pipeline_name=pipeline_dir.name)\n",
    "        if df is not None:\n",
    "            benchmark_df_list.append(df)\n",
    "\n",
    "benchmark_df = pd.concat(benchmark_df_list).reset_index(drop=True)\n",
    "benchmark_df.head()"
   ]
  },
  {
   "cell_type": "markdown",
   "metadata": {},
   "source": [
    "## Data dictionary\n",
    "\n",
    "| colname | type (unit) | description |\n",
    "|-------- |-------------|-------------|\n",
    "| s | float (seconds) | Running time in seconds. |\n",
    "| h:m:s\t| string (-) | Running time in hour, minutes, seconds format. |\n",
    "| max_rss | float (MB) | Maximum \"Resident Set Size”, this is the non-swapped physical memory a process has used. |\n",
    "| max_vms | float (MB) | Maximum “Virtual Memory Size”, this is the total amount of virtual memory used by the process. |\n",
    "| max_uss | float (MB) | “Unique Set Size”, this is the memory which is unique to a process and which would be freed if the process was terminated right now. |\n",
    "| max_pss | float (MB) | “Proportional Set Size”, is the amount of memory shared with other processes, accounted in a way that the amount is divided evenly between the processes that share it (Linux only). |\n",
    "| io_in | float (MB) | The number of MB read (cumulative). |\n",
    "| io_out | float (MB) | The number of MB written (cumulative). |\n",
    "| mean_load | float (-) | CPU usage over time, divided by the total running time (first row). |\n",
    "| cpu_time | float (-) | CPU time summed for user and system. |"
   ]
  },
  {
   "cell_type": "markdown",
   "metadata": {},
   "source": [
    "## Data analysis and visualization"
   ]
  },
  {
   "cell_type": "code",
   "execution_count": 5,
   "metadata": {
    "execution": {
     "iopub.execute_input": "2021-07-27T14:39:51.875243Z",
     "iopub.status.busy": "2021-07-27T14:39:51.874174Z",
     "iopub.status.idle": "2021-07-27T14:39:51.899755Z",
     "shell.execute_reply": "2021-07-27T14:39:51.900477Z"
    },
    "tags": []
   },
   "outputs": [
    {
     "data": {
      "text/html": [
       "<div>\n",
       "<style scoped>\n",
       "    .dataframe tbody tr th:only-of-type {\n",
       "        vertical-align: middle;\n",
       "    }\n",
       "\n",
       "    .dataframe tbody tr th {\n",
       "        vertical-align: top;\n",
       "    }\n",
       "\n",
       "    .dataframe thead th {\n",
       "        text-align: right;\n",
       "    }\n",
       "</style>\n",
       "<table border=\"1\" class=\"dataframe\">\n",
       "  <thead>\n",
       "    <tr style=\"text-align: right;\">\n",
       "      <th></th>\n",
       "      <th></th>\n",
       "      <th>s</th>\n",
       "      <th>max_rss</th>\n",
       "      <th>max_vms</th>\n",
       "      <th>max_uss</th>\n",
       "      <th>max_pss</th>\n",
       "      <th>io_in</th>\n",
       "      <th>io_out</th>\n",
       "      <th>mean_load</th>\n",
       "      <th>cpu_time</th>\n",
       "    </tr>\n",
       "    <tr>\n",
       "      <th>pipeline</th>\n",
       "      <th>rule</th>\n",
       "      <th></th>\n",
       "      <th></th>\n",
       "      <th></th>\n",
       "      <th></th>\n",
       "      <th></th>\n",
       "      <th></th>\n",
       "      <th></th>\n",
       "      <th></th>\n",
       "      <th></th>\n",
       "    </tr>\n",
       "  </thead>\n",
       "  <tbody>\n",
       "    <tr>\n",
       "      <th rowspan=\"4\" valign=\"top\">012_010_simulation-based-calibration-snakemake</th>\n",
       "      <th>collate_sbc</th>\n",
       "      <td>178.84</td>\n",
       "      <td>288.88</td>\n",
       "      <td>1072.03</td>\n",
       "      <td>286.40</td>\n",
       "      <td>286.48</td>\n",
       "      <td>2729.82</td>\n",
       "      <td>0.28</td>\n",
       "      <td>43.00</td>\n",
       "      <td>88.26</td>\n",
       "    </tr>\n",
       "    <tr>\n",
       "      <th>generate_mockdata</th>\n",
       "      <td>8.50</td>\n",
       "      <td>217.23</td>\n",
       "      <td>909.48</td>\n",
       "      <td>214.66</td>\n",
       "      <td>214.71</td>\n",
       "      <td>92.97</td>\n",
       "      <td>0.27</td>\n",
       "      <td>40.35</td>\n",
       "      <td>3.66</td>\n",
       "    </tr>\n",
       "    <tr>\n",
       "      <th>run_sbc</th>\n",
       "      <td>1046.89</td>\n",
       "      <td>12407.27</td>\n",
       "      <td>16817.09</td>\n",
       "      <td>2850.96</td>\n",
       "      <td>2859.93</td>\n",
       "      <td>306.70</td>\n",
       "      <td>137.59</td>\n",
       "      <td>243.69</td>\n",
       "      <td>115.56</td>\n",
       "    </tr>\n",
       "    <tr>\n",
       "      <th>sbc_uniformity_test</th>\n",
       "      <td>403.19</td>\n",
       "      <td>4553.32</td>\n",
       "      <td>5082.03</td>\n",
       "      <td>4550.75</td>\n",
       "      <td>4550.79</td>\n",
       "      <td>17752.07</td>\n",
       "      <td>0.14</td>\n",
       "      <td>49.95</td>\n",
       "      <td>201.61</td>\n",
       "    </tr>\n",
       "  </tbody>\n",
       "</table>\n",
       "</div>"
      ],
      "text/plain": [
       "                                                                          s  \\\n",
       "pipeline                                       rule                           \n",
       "012_010_simulation-based-calibration-snakemake collate_sbc           178.84   \n",
       "                                               generate_mockdata       8.50   \n",
       "                                               run_sbc              1046.89   \n",
       "                                               sbc_uniformity_test   403.19   \n",
       "\n",
       "                                                                     max_rss  \\\n",
       "pipeline                                       rule                            \n",
       "012_010_simulation-based-calibration-snakemake collate_sbc            288.88   \n",
       "                                               generate_mockdata      217.23   \n",
       "                                               run_sbc              12407.27   \n",
       "                                               sbc_uniformity_test   4553.32   \n",
       "\n",
       "                                                                     max_vms  \\\n",
       "pipeline                                       rule                            \n",
       "012_010_simulation-based-calibration-snakemake collate_sbc           1072.03   \n",
       "                                               generate_mockdata      909.48   \n",
       "                                               run_sbc              16817.09   \n",
       "                                               sbc_uniformity_test   5082.03   \n",
       "\n",
       "                                                                    max_uss  \\\n",
       "pipeline                                       rule                           \n",
       "012_010_simulation-based-calibration-snakemake collate_sbc           286.40   \n",
       "                                               generate_mockdata     214.66   \n",
       "                                               run_sbc              2850.96   \n",
       "                                               sbc_uniformity_test  4550.75   \n",
       "\n",
       "                                                                    max_pss  \\\n",
       "pipeline                                       rule                           \n",
       "012_010_simulation-based-calibration-snakemake collate_sbc           286.48   \n",
       "                                               generate_mockdata     214.71   \n",
       "                                               run_sbc              2859.93   \n",
       "                                               sbc_uniformity_test  4550.79   \n",
       "\n",
       "                                                                       io_in  \\\n",
       "pipeline                                       rule                            \n",
       "012_010_simulation-based-calibration-snakemake collate_sbc           2729.82   \n",
       "                                               generate_mockdata       92.97   \n",
       "                                               run_sbc                306.70   \n",
       "                                               sbc_uniformity_test  17752.07   \n",
       "\n",
       "                                                                    io_out  \\\n",
       "pipeline                                       rule                          \n",
       "012_010_simulation-based-calibration-snakemake collate_sbc            0.28   \n",
       "                                               generate_mockdata      0.27   \n",
       "                                               run_sbc              137.59   \n",
       "                                               sbc_uniformity_test    0.14   \n",
       "\n",
       "                                                                    mean_load  \\\n",
       "pipeline                                       rule                             \n",
       "012_010_simulation-based-calibration-snakemake collate_sbc              43.00   \n",
       "                                               generate_mockdata        40.35   \n",
       "                                               run_sbc                 243.69   \n",
       "                                               sbc_uniformity_test      49.95   \n",
       "\n",
       "                                                                    cpu_time  \n",
       "pipeline                                       rule                           \n",
       "012_010_simulation-based-calibration-snakemake collate_sbc             88.26  \n",
       "                                               generate_mockdata        3.66  \n",
       "                                               run_sbc                115.56  \n",
       "                                               sbc_uniformity_test    201.61  "
      ]
     },
     "execution_count": 5,
     "metadata": {},
     "output_type": "execute_result"
    }
   ],
   "source": [
    "benchmark_df.groupby([\"pipeline\", \"rule\"]).mean().round(2)"
   ]
  },
  {
   "cell_type": "code",
   "execution_count": 6,
   "metadata": {
    "execution": {
     "iopub.execute_input": "2021-07-27T14:39:51.904259Z",
     "iopub.status.busy": "2021-07-27T14:39:51.903163Z",
     "iopub.status.idle": "2021-07-27T14:39:51.922104Z",
     "shell.execute_reply": "2021-07-27T14:39:51.922851Z"
    },
    "tags": []
   },
   "outputs": [
    {
     "data": {
      "text/html": [
       "<div>\n",
       "<style scoped>\n",
       "    .dataframe tbody tr th:only-of-type {\n",
       "        vertical-align: middle;\n",
       "    }\n",
       "\n",
       "    .dataframe tbody tr th {\n",
       "        vertical-align: top;\n",
       "    }\n",
       "\n",
       "    .dataframe thead th {\n",
       "        text-align: right;\n",
       "    }\n",
       "</style>\n",
       "<table border=\"1\" class=\"dataframe\">\n",
       "  <thead>\n",
       "    <tr style=\"text-align: right;\">\n",
       "      <th></th>\n",
       "      <th>pipeline</th>\n",
       "      <th>rule</th>\n",
       "      <th>step</th>\n",
       "      <th>variable</th>\n",
       "      <th>value</th>\n",
       "    </tr>\n",
       "  </thead>\n",
       "  <tbody>\n",
       "    <tr>\n",
       "      <th>0</th>\n",
       "      <td>012_010_simulation-based-calibration-snakemake</td>\n",
       "      <td>run_sbc</td>\n",
       "      <td>sp2-default_MCMC_perm106</td>\n",
       "      <td>cpu_time</td>\n",
       "      <td>116.36</td>\n",
       "    </tr>\n",
       "    <tr>\n",
       "      <th>1</th>\n",
       "      <td>012_010_simulation-based-calibration-snakemake</td>\n",
       "      <td>run_sbc</td>\n",
       "      <td>sp2-default_MCMC_perm447</td>\n",
       "      <td>cpu_time</td>\n",
       "      <td>128.70</td>\n",
       "    </tr>\n",
       "    <tr>\n",
       "      <th>2</th>\n",
       "      <td>012_010_simulation-based-calibration-snakemake</td>\n",
       "      <td>run_sbc</td>\n",
       "      <td>sp2-default_MCMC_perm10</td>\n",
       "      <td>cpu_time</td>\n",
       "      <td>115.20</td>\n",
       "    </tr>\n",
       "    <tr>\n",
       "      <th>3</th>\n",
       "      <td>012_010_simulation-based-calibration-snakemake</td>\n",
       "      <td>run_sbc</td>\n",
       "      <td>sp2-default_MCMC_perm82</td>\n",
       "      <td>cpu_time</td>\n",
       "      <td>121.95</td>\n",
       "    </tr>\n",
       "    <tr>\n",
       "      <th>4</th>\n",
       "      <td>012_010_simulation-based-calibration-snakemake</td>\n",
       "      <td>run_sbc</td>\n",
       "      <td>sp2-default_MCMC_perm24</td>\n",
       "      <td>cpu_time</td>\n",
       "      <td>124.15</td>\n",
       "    </tr>\n",
       "  </tbody>\n",
       "</table>\n",
       "</div>"
      ],
      "text/plain": [
       "                                         pipeline     rule  \\\n",
       "0  012_010_simulation-based-calibration-snakemake  run_sbc   \n",
       "1  012_010_simulation-based-calibration-snakemake  run_sbc   \n",
       "2  012_010_simulation-based-calibration-snakemake  run_sbc   \n",
       "3  012_010_simulation-based-calibration-snakemake  run_sbc   \n",
       "4  012_010_simulation-based-calibration-snakemake  run_sbc   \n",
       "\n",
       "                       step  variable   value  \n",
       "0  sp2-default_MCMC_perm106  cpu_time  116.36  \n",
       "1  sp2-default_MCMC_perm447  cpu_time  128.70  \n",
       "2   sp2-default_MCMC_perm10  cpu_time  115.20  \n",
       "3   sp2-default_MCMC_perm82  cpu_time  121.95  \n",
       "4   sp2-default_MCMC_perm24  cpu_time  124.15  "
      ]
     },
     "execution_count": 6,
     "metadata": {},
     "output_type": "execute_result"
    }
   ],
   "source": [
    "benchmark_df_long = benchmark_df[\n",
    "    [\"pipeline\", \"rule\", \"step\", \"cpu_time\", \"max_rss\", \"mean_load\", \"cpu_time\"]\n",
    "].pivot_longer([\"pipeline\", \"rule\", \"step\"])\n",
    "\n",
    "benchmark_df_long.head()"
   ]
  },
  {
   "cell_type": "code",
   "execution_count": 7,
   "metadata": {
    "execution": {
     "iopub.execute_input": "2021-07-27T14:39:51.926547Z",
     "iopub.status.busy": "2021-07-27T14:39:51.925461Z",
     "iopub.status.idle": "2021-07-27T14:39:52.942234Z",
     "shell.execute_reply": "2021-07-27T14:39:52.941408Z"
    },
    "tags": []
   },
   "outputs": [
    {
     "data": {
      "image/png": "[encoded data removed]",
      "text/plain": [
       "<Figure size 360x1080 with 3 Axes>"
      ]
     },
     "metadata": {
      "image/png": {
       "height": 1084,
       "width": 440
      },
      "needs_background": "light"
     },
     "output_type": "display_data"
    }
   ],
   "source": [
    "sns.catplot(\n",
    "    data=benchmark_df_long,\n",
    "    x=\"rule\",\n",
    "    y=\"value\",\n",
    "    kind=\"box\",\n",
    "    row=\"variable\",\n",
    "    col=\"pipeline\",\n",
    "    sharey=False,\n",
    ");"
   ]
  },
  {
   "cell_type": "markdown",
   "metadata": {},
   "source": [
    "---"
   ]
  },
  {
   "cell_type": "code",
   "execution_count": 8,
   "metadata": {
    "execution": {
     "iopub.execute_input": "2021-07-27T14:39:52.948551Z",
     "iopub.status.busy": "2021-07-27T14:39:52.947998Z",
     "iopub.status.idle": "2021-07-27T14:39:53.065652Z",
     "shell.execute_reply": "2021-07-27T14:39:53.066400Z"
    }
   },
   "outputs": [
    {
     "name": "stdout",
     "output_type": "stream",
     "text": [
      "Last updated: 2021-07-27\n",
      "\n",
      "Python implementation: CPython\n",
      "Python version       : 3.9.6\n",
      "IPython version      : 7.25.0\n",
      "\n",
      "Compiler    : GCC 9.3.0\n",
      "OS          : Linux\n",
      "Release     : 3.10.0-1062.el7.x86_64\n",
      "Machine     : x86_64\n",
      "Processor   : x86_64\n",
      "CPU cores   : 32\n",
      "Architecture: 64bit\n",
      "\n",
      "Hostname: compute-a-16-167.o2.rc.hms.harvard.edu\n",
      "\n",
      "Git branch: sbc-uniform-check\n",
      "\n",
      "plotnine: 0.8.0\n",
      "janitor : 0.21.0\n",
      "pandas  : 1.3.0\n",
      "seaborn : 0.11.1\n",
      "\n"
     ]
    }
   ],
   "source": [
    "%load_ext watermark\n",
    "%watermark -d -u -v -iv -b -h -m"
   ]
  }
 ],
 "metadata": {
  "interpreter": {
   "hash": "3085ca38df4f1aaf6729dbaacc5495b38b678ce6649b3c907f566975172f6d0a"
  },
  "kernelspec": {
   "display_name": "Python 3 (ipykernel)",
   "language": "python",
   "name": "python3"
  },
  "language_info": {
   "codemirror_mode": {
    "name": "ipython",
    "version": 3
   },
   "file_extension": ".py",
   "mimetype": "text/x-python",
   "name": "python",
   "nbconvert_exporter": "python",
   "pygments_lexer": "ipython3",
   "version": "3.9.6"
  }
 },
 "nbformat": 4,
 "nbformat_minor": 4
}
