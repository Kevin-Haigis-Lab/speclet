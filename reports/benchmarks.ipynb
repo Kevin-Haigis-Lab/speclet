{
 "cells": [
  {
   "cell_type": "code",
   "execution_count": 1,
   "metadata": {
    "execution": {
     "iopub.execute_input": "2021-08-14T12:11:19.226214Z",
     "iopub.status.busy": "2021-08-14T12:11:19.225295Z",
     "iopub.status.idle": "2021-08-14T12:11:23.432587Z",
     "shell.execute_reply": "2021-08-14T12:11:23.433314Z"
    },
    "tags": []
   },
   "outputs": [],
   "source": [
    "from pathlib import Path\n",
    "from typing import Optional\n",
    "\n",
    "import janitor\n",
    "import pandas as pd\n",
    "import plotnine as gg\n",
    "import seaborn as sns\n",
    "\n",
    "%config InlineBackend.figure_format='retina'"
   ]
  },
  {
   "cell_type": "code",
   "execution_count": 2,
   "metadata": {
    "execution": {
     "iopub.execute_input": "2021-08-14T12:11:23.436918Z",
     "iopub.status.busy": "2021-08-14T12:11:23.435890Z",
     "iopub.status.idle": "2021-08-14T12:11:23.440724Z",
     "shell.execute_reply": "2021-08-14T12:11:23.441404Z"
    },
    "tags": []
   },
   "outputs": [],
   "source": [
    "benchmark_dir = Path(\"../benchmarks/\")\n",
    "assert benchmark_dir.exists()\n",
    "assert benchmark_dir.is_dir()"
   ]
  },
  {
   "cell_type": "markdown",
   "metadata": {},
   "source": [
    "## Data Processing"
   ]
  },
  {
   "cell_type": "markdown",
   "metadata": {},
   "source": [
    "Organization of benchmarks directory:\n",
    "\n",
    "1. pipeline\n",
    "2. rules\n",
    "3. individual runs\n",
    "\n",
    "> I may want to add more information to the name of the rules to keep them separate and not overwritten.\n",
    "> For instance, including the date would be useful or metadata such as the data size for SBC or debug status for the fitting pipeline."
   ]
  },
  {
   "cell_type": "code",
   "execution_count": 3,
   "metadata": {
    "execution": {
     "iopub.execute_input": "2021-08-14T12:11:23.444674Z",
     "iopub.status.busy": "2021-08-14T12:11:23.443668Z",
     "iopub.status.idle": "2021-08-14T12:11:23.456097Z",
     "shell.execute_reply": "2021-08-14T12:11:23.456777Z"
    }
   },
   "outputs": [
    {
     "data": {
      "text/plain": [
       "[PosixPath('../benchmarks/010_010_run-crc-sampling-snakemake'),\n",
       " PosixPath('../benchmarks/012_010_simulation-based-calibration-snakemake')]"
      ]
     },
     "execution_count": 3,
     "metadata": {},
     "output_type": "execute_result"
    }
   ],
   "source": [
    "list(benchmark_dir.iterdir())"
   ]
  },
  {
   "cell_type": "code",
   "execution_count": 4,
   "metadata": {
    "execution": {
     "iopub.execute_input": "2021-08-14T12:11:23.460103Z",
     "iopub.status.busy": "2021-08-14T12:11:23.459042Z",
     "iopub.status.idle": "2021-08-14T12:11:28.493560Z",
     "shell.execute_reply": "2021-08-14T12:11:28.494276Z"
    },
    "tags": []
   },
   "outputs": [
    {
     "data": {
      "text/html": [
       "<div>\n",
       "<style scoped>\n",
       "    .dataframe tbody tr th:only-of-type {\n",
       "        vertical-align: middle;\n",
       "    }\n",
       "\n",
       "    .dataframe tbody tr th {\n",
       "        vertical-align: top;\n",
       "    }\n",
       "\n",
       "    .dataframe thead th {\n",
       "        text-align: right;\n",
       "    }\n",
       "</style>\n",
       "<table border=\"1\" class=\"dataframe\">\n",
       "  <thead>\n",
       "    <tr style=\"text-align: right;\">\n",
       "      <th></th>\n",
       "      <th>s</th>\n",
       "      <th>h_m_s</th>\n",
       "      <th>max_rss</th>\n",
       "      <th>max_vms</th>\n",
       "      <th>max_uss</th>\n",
       "      <th>max_pss</th>\n",
       "      <th>io_in</th>\n",
       "      <th>io_out</th>\n",
       "      <th>mean_load</th>\n",
       "      <th>cpu_time</th>\n",
       "      <th>step</th>\n",
       "      <th>rule</th>\n",
       "      <th>pipeline</th>\n",
       "    </tr>\n",
       "  </thead>\n",
       "  <tbody>\n",
       "    <tr>\n",
       "      <th>0</th>\n",
       "      <td>189.8387</td>\n",
       "      <td>0:03:09</td>\n",
       "      <td>1599.40</td>\n",
       "      <td>2327.29</td>\n",
       "      <td>1596.87</td>\n",
       "      <td>1596.96</td>\n",
       "      <td>1025.21</td>\n",
       "      <td>5.09</td>\n",
       "      <td>31.49</td>\n",
       "      <td>59.88</td>\n",
       "      <td>simple-default_MCMC_perm168</td>\n",
       "      <td>run_sbc</td>\n",
       "      <td>012_010_simulation-based-calibration-snakemake</td>\n",
       "    </tr>\n",
       "    <tr>\n",
       "      <th>1</th>\n",
       "      <td>1394.6028</td>\n",
       "      <td>0:23:14</td>\n",
       "      <td>13024.31</td>\n",
       "      <td>17736.92</td>\n",
       "      <td>2819.38</td>\n",
       "      <td>2819.44</td>\n",
       "      <td>764.14</td>\n",
       "      <td>173.55</td>\n",
       "      <td>291.99</td>\n",
       "      <td>116.36</td>\n",
       "      <td>sp2-default_MCMC_perm106</td>\n",
       "      <td>run_sbc</td>\n",
       "      <td>012_010_simulation-based-calibration-snakemake</td>\n",
       "    </tr>\n",
       "    <tr>\n",
       "      <th>2</th>\n",
       "      <td>210.3181</td>\n",
       "      <td>0:03:30</td>\n",
       "      <td>1550.02</td>\n",
       "      <td>2271.32</td>\n",
       "      <td>1547.41</td>\n",
       "      <td>1547.47</td>\n",
       "      <td>5.54</td>\n",
       "      <td>37.25</td>\n",
       "      <td>29.33</td>\n",
       "      <td>61.68</td>\n",
       "      <td>simple-default_MCMC_perm369</td>\n",
       "      <td>run_sbc</td>\n",
       "      <td>012_010_simulation-based-calibration-snakemake</td>\n",
       "    </tr>\n",
       "    <tr>\n",
       "      <th>3</th>\n",
       "      <td>145.9928</td>\n",
       "      <td>0:02:25</td>\n",
       "      <td>1470.88</td>\n",
       "      <td>2192.43</td>\n",
       "      <td>1468.29</td>\n",
       "      <td>1468.34</td>\n",
       "      <td>5.94</td>\n",
       "      <td>109.27</td>\n",
       "      <td>43.57</td>\n",
       "      <td>63.86</td>\n",
       "      <td>simple-default_MCMC_perm789</td>\n",
       "      <td>run_sbc</td>\n",
       "      <td>012_010_simulation-based-calibration-snakemake</td>\n",
       "    </tr>\n",
       "    <tr>\n",
       "      <th>4</th>\n",
       "      <td>132.1361</td>\n",
       "      <td>0:02:12</td>\n",
       "      <td>1361.04</td>\n",
       "      <td>2094.03</td>\n",
       "      <td>1358.61</td>\n",
       "      <td>1358.68</td>\n",
       "      <td>2.88</td>\n",
       "      <td>5.08</td>\n",
       "      <td>35.23</td>\n",
       "      <td>46.97</td>\n",
       "      <td>simple-default_MCMC_perm140</td>\n",
       "      <td>run_sbc</td>\n",
       "      <td>012_010_simulation-based-calibration-snakemake</td>\n",
       "    </tr>\n",
       "  </tbody>\n",
       "</table>\n",
       "</div>"
      ],
      "text/plain": [
       "           s    h_m_s   max_rss   max_vms  max_uss  max_pss    io_in  io_out  \\\n",
       "0   189.8387  0:03:09   1599.40   2327.29  1596.87  1596.96  1025.21    5.09   \n",
       "1  1394.6028  0:23:14  13024.31  17736.92  2819.38  2819.44   764.14  173.55   \n",
       "2   210.3181  0:03:30   1550.02   2271.32  1547.41  1547.47     5.54   37.25   \n",
       "3   145.9928  0:02:25   1470.88   2192.43  1468.29  1468.34     5.94  109.27   \n",
       "4   132.1361  0:02:12   1361.04   2094.03  1358.61  1358.68     2.88    5.08   \n",
       "\n",
       "   mean_load  cpu_time                         step     rule  \\\n",
       "0      31.49     59.88  simple-default_MCMC_perm168  run_sbc   \n",
       "1     291.99    116.36     sp2-default_MCMC_perm106  run_sbc   \n",
       "2      29.33     61.68  simple-default_MCMC_perm369  run_sbc   \n",
       "3      43.57     63.86  simple-default_MCMC_perm789  run_sbc   \n",
       "4      35.23     46.97  simple-default_MCMC_perm140  run_sbc   \n",
       "\n",
       "                                         pipeline  \n",
       "0  012_010_simulation-based-calibration-snakemake  \n",
       "1  012_010_simulation-based-calibration-snakemake  \n",
       "2  012_010_simulation-based-calibration-snakemake  \n",
       "3  012_010_simulation-based-calibration-snakemake  \n",
       "4  012_010_simulation-based-calibration-snakemake  "
      ]
     },
     "execution_count": 4,
     "metadata": {},
     "output_type": "execute_result"
    }
   ],
   "source": [
    "def process_benchmark_file(bench_f: Path) -> pd.DataFrame:\n",
    "    return pd.read_csv(bench_f, sep=\"\\t\").assign(\n",
    "        step=bench_f.name.replace(bench_f.suffix, \"\")\n",
    "    )\n",
    "\n",
    "\n",
    "def get_benchmark_data_for_rule_dir(\n",
    "    rule_d: Path, pipeline_name: str\n",
    ") -> Optional[pd.DataFrame]:\n",
    "    bench_dfs: list[pd.DataFrame] = [\n",
    "        process_benchmark_file(b) for b in rule_d.iterdir()\n",
    "    ]\n",
    "    if len(bench_dfs) == 0:\n",
    "        return None\n",
    "\n",
    "    return (\n",
    "        pd.concat(bench_dfs)\n",
    "        .assign(rule=rule_d.name, pipeline=pipeline_name)\n",
    "        .clean_names()\n",
    "    )\n",
    "\n",
    "\n",
    "benchmark_df_list: list[pd.DataFrame] = []\n",
    "\n",
    "for pipeline_dir in benchmark_dir.iterdir():\n",
    "    for rule_dir in pipeline_dir.iterdir():\n",
    "        df = get_benchmark_data_for_rule_dir(rule_dir, pipeline_name=pipeline_dir.name)\n",
    "        if df is not None:\n",
    "            benchmark_df_list.append(df)\n",
    "\n",
    "benchmark_df = pd.concat(benchmark_df_list).reset_index(drop=True)\n",
    "benchmark_df.head()"
   ]
  },
  {
   "cell_type": "markdown",
   "metadata": {},
   "source": [
    "## Data dictionary\n",
    "\n",
    "| colname | type (unit) | description |\n",
    "|-------- |-------------|-------------|\n",
    "| s | float (seconds) | Running time in seconds. |\n",
    "| h:m:s\t| string (-) | Running time in hour, minutes, seconds format. |\n",
    "| max_rss | float (MB) | Maximum \"Resident Set Size”, this is the non-swapped physical memory a process has used. |\n",
    "| max_vms | float (MB) | Maximum “Virtual Memory Size”, this is the total amount of virtual memory used by the process. |\n",
    "| max_uss | float (MB) | “Unique Set Size”, this is the memory which is unique to a process and which would be freed if the process was terminated right now. |\n",
    "| max_pss | float (MB) | “Proportional Set Size”, is the amount of memory shared with other processes, accounted in a way that the amount is divided evenly between the processes that share it (Linux only). |\n",
    "| io_in | float (MB) | The number of MB read (cumulative). |\n",
    "| io_out | float (MB) | The number of MB written (cumulative). |\n",
    "| mean_load | float (-) | CPU usage over time, divided by the total running time (first row). |\n",
    "| cpu_time | float (-) | CPU time summed for user and system. |"
   ]
  },
  {
   "cell_type": "markdown",
   "metadata": {},
   "source": [
    "## Data analysis and visualization"
   ]
  },
  {
   "cell_type": "code",
   "execution_count": 5,
   "metadata": {
    "execution": {
     "iopub.execute_input": "2021-08-14T12:11:28.497870Z",
     "iopub.status.busy": "2021-08-14T12:11:28.496844Z",
     "iopub.status.idle": "2021-08-14T12:11:28.520001Z",
     "shell.execute_reply": "2021-08-14T12:11:28.520690Z"
    },
    "tags": []
   },
   "outputs": [
    {
     "data": {
      "text/html": [
       "<div>\n",
       "<style scoped>\n",
       "    .dataframe tbody tr th:only-of-type {\n",
       "        vertical-align: middle;\n",
       "    }\n",
       "\n",
       "    .dataframe tbody tr th {\n",
       "        vertical-align: top;\n",
       "    }\n",
       "\n",
       "    .dataframe thead th {\n",
       "        text-align: right;\n",
       "    }\n",
       "</style>\n",
       "<table border=\"1\" class=\"dataframe\">\n",
       "  <thead>\n",
       "    <tr style=\"text-align: right;\">\n",
       "      <th></th>\n",
       "      <th></th>\n",
       "      <th>s</th>\n",
       "      <th>max_rss</th>\n",
       "      <th>max_vms</th>\n",
       "      <th>max_uss</th>\n",
       "      <th>max_pss</th>\n",
       "      <th>io_in</th>\n",
       "      <th>io_out</th>\n",
       "      <th>mean_load</th>\n",
       "      <th>cpu_time</th>\n",
       "    </tr>\n",
       "    <tr>\n",
       "      <th>pipeline</th>\n",
       "      <th>rule</th>\n",
       "      <th></th>\n",
       "      <th></th>\n",
       "      <th></th>\n",
       "      <th></th>\n",
       "      <th></th>\n",
       "      <th></th>\n",
       "      <th></th>\n",
       "      <th></th>\n",
       "      <th></th>\n",
       "    </tr>\n",
       "  </thead>\n",
       "  <tbody>\n",
       "    <tr>\n",
       "      <th rowspan=\"4\" valign=\"top\">012_010_simulation-based-calibration-snakemake</th>\n",
       "      <th>collate_sbc</th>\n",
       "      <td>349.97</td>\n",
       "      <td>449.04</td>\n",
       "      <td>2958.43</td>\n",
       "      <td>447.12</td>\n",
       "      <td>447.18</td>\n",
       "      <td>8047.58</td>\n",
       "      <td>0.26</td>\n",
       "      <td>42.32</td>\n",
       "      <td>147.87</td>\n",
       "    </tr>\n",
       "    <tr>\n",
       "      <th>generate_mockdata</th>\n",
       "      <td>10.37</td>\n",
       "      <td>217.25</td>\n",
       "      <td>826.30</td>\n",
       "      <td>214.76</td>\n",
       "      <td>214.82</td>\n",
       "      <td>211.50</td>\n",
       "      <td>0.27</td>\n",
       "      <td>34.63</td>\n",
       "      <td>3.58</td>\n",
       "    </tr>\n",
       "    <tr>\n",
       "      <th>run_sbc</th>\n",
       "      <td>468.31</td>\n",
       "      <td>5678.15</td>\n",
       "      <td>7866.74</td>\n",
       "      <td>1954.82</td>\n",
       "      <td>1960.67</td>\n",
       "      <td>150.24</td>\n",
       "      <td>79.93</td>\n",
       "      <td>107.71</td>\n",
       "      <td>76.16</td>\n",
       "    </tr>\n",
       "    <tr>\n",
       "      <th>sbc_uniformity_test</th>\n",
       "      <td>426.45</td>\n",
       "      <td>3051.67</td>\n",
       "      <td>4950.30</td>\n",
       "      <td>3049.61</td>\n",
       "      <td>3049.65</td>\n",
       "      <td>15221.14</td>\n",
       "      <td>0.15</td>\n",
       "      <td>46.53</td>\n",
       "      <td>198.18</td>\n",
       "    </tr>\n",
       "  </tbody>\n",
       "</table>\n",
       "</div>"
      ],
      "text/plain": [
       "                                                                         s  \\\n",
       "pipeline                                       rule                          \n",
       "012_010_simulation-based-calibration-snakemake collate_sbc          349.97   \n",
       "                                               generate_mockdata     10.37   \n",
       "                                               run_sbc              468.31   \n",
       "                                               sbc_uniformity_test  426.45   \n",
       "\n",
       "                                                                    max_rss  \\\n",
       "pipeline                                       rule                           \n",
       "012_010_simulation-based-calibration-snakemake collate_sbc           449.04   \n",
       "                                               generate_mockdata     217.25   \n",
       "                                               run_sbc              5678.15   \n",
       "                                               sbc_uniformity_test  3051.67   \n",
       "\n",
       "                                                                    max_vms  \\\n",
       "pipeline                                       rule                           \n",
       "012_010_simulation-based-calibration-snakemake collate_sbc          2958.43   \n",
       "                                               generate_mockdata     826.30   \n",
       "                                               run_sbc              7866.74   \n",
       "                                               sbc_uniformity_test  4950.30   \n",
       "\n",
       "                                                                    max_uss  \\\n",
       "pipeline                                       rule                           \n",
       "012_010_simulation-based-calibration-snakemake collate_sbc           447.12   \n",
       "                                               generate_mockdata     214.76   \n",
       "                                               run_sbc              1954.82   \n",
       "                                               sbc_uniformity_test  3049.61   \n",
       "\n",
       "                                                                    max_pss  \\\n",
       "pipeline                                       rule                           \n",
       "012_010_simulation-based-calibration-snakemake collate_sbc           447.18   \n",
       "                                               generate_mockdata     214.82   \n",
       "                                               run_sbc              1960.67   \n",
       "                                               sbc_uniformity_test  3049.65   \n",
       "\n",
       "                                                                       io_in  \\\n",
       "pipeline                                       rule                            \n",
       "012_010_simulation-based-calibration-snakemake collate_sbc           8047.58   \n",
       "                                               generate_mockdata      211.50   \n",
       "                                               run_sbc                150.24   \n",
       "                                               sbc_uniformity_test  15221.14   \n",
       "\n",
       "                                                                    io_out  \\\n",
       "pipeline                                       rule                          \n",
       "012_010_simulation-based-calibration-snakemake collate_sbc            0.26   \n",
       "                                               generate_mockdata      0.27   \n",
       "                                               run_sbc               79.93   \n",
       "                                               sbc_uniformity_test    0.15   \n",
       "\n",
       "                                                                    mean_load  \\\n",
       "pipeline                                       rule                             \n",
       "012_010_simulation-based-calibration-snakemake collate_sbc              42.32   \n",
       "                                               generate_mockdata        34.63   \n",
       "                                               run_sbc                 107.71   \n",
       "                                               sbc_uniformity_test      46.53   \n",
       "\n",
       "                                                                    cpu_time  \n",
       "pipeline                                       rule                           \n",
       "012_010_simulation-based-calibration-snakemake collate_sbc            147.87  \n",
       "                                               generate_mockdata        3.58  \n",
       "                                               run_sbc                 76.16  \n",
       "                                               sbc_uniformity_test    198.18  "
      ]
     },
     "execution_count": 5,
     "metadata": {},
     "output_type": "execute_result"
    }
   ],
   "source": [
    "benchmark_df.groupby([\"pipeline\", \"rule\"]).mean().round(2)"
   ]
  },
  {
   "cell_type": "code",
   "execution_count": 6,
   "metadata": {
    "execution": {
     "iopub.execute_input": "2021-08-14T12:11:28.524058Z",
     "iopub.status.busy": "2021-08-14T12:11:28.523013Z",
     "iopub.status.idle": "2021-08-14T12:11:28.539659Z",
     "shell.execute_reply": "2021-08-14T12:11:28.540362Z"
    },
    "tags": []
   },
   "outputs": [
    {
     "data": {
      "text/html": [
       "<div>\n",
       "<style scoped>\n",
       "    .dataframe tbody tr th:only-of-type {\n",
       "        vertical-align: middle;\n",
       "    }\n",
       "\n",
       "    .dataframe tbody tr th {\n",
       "        vertical-align: top;\n",
       "    }\n",
       "\n",
       "    .dataframe thead th {\n",
       "        text-align: right;\n",
       "    }\n",
       "</style>\n",
       "<table border=\"1\" class=\"dataframe\">\n",
       "  <thead>\n",
       "    <tr style=\"text-align: right;\">\n",
       "      <th></th>\n",
       "      <th>pipeline</th>\n",
       "      <th>rule</th>\n",
       "      <th>step</th>\n",
       "      <th>variable</th>\n",
       "      <th>value</th>\n",
       "    </tr>\n",
       "  </thead>\n",
       "  <tbody>\n",
       "    <tr>\n",
       "      <th>0</th>\n",
       "      <td>012_010_simulation-based-calibration-snakemake</td>\n",
       "      <td>run_sbc</td>\n",
       "      <td>simple-default_MCMC_perm168</td>\n",
       "      <td>cpu_time</td>\n",
       "      <td>59.88</td>\n",
       "    </tr>\n",
       "    <tr>\n",
       "      <th>1</th>\n",
       "      <td>012_010_simulation-based-calibration-snakemake</td>\n",
       "      <td>run_sbc</td>\n",
       "      <td>sp2-default_MCMC_perm106</td>\n",
       "      <td>cpu_time</td>\n",
       "      <td>116.36</td>\n",
       "    </tr>\n",
       "    <tr>\n",
       "      <th>2</th>\n",
       "      <td>012_010_simulation-based-calibration-snakemake</td>\n",
       "      <td>run_sbc</td>\n",
       "      <td>simple-default_MCMC_perm369</td>\n",
       "      <td>cpu_time</td>\n",
       "      <td>61.68</td>\n",
       "    </tr>\n",
       "    <tr>\n",
       "      <th>3</th>\n",
       "      <td>012_010_simulation-based-calibration-snakemake</td>\n",
       "      <td>run_sbc</td>\n",
       "      <td>simple-default_MCMC_perm789</td>\n",
       "      <td>cpu_time</td>\n",
       "      <td>63.86</td>\n",
       "    </tr>\n",
       "    <tr>\n",
       "      <th>4</th>\n",
       "      <td>012_010_simulation-based-calibration-snakemake</td>\n",
       "      <td>run_sbc</td>\n",
       "      <td>simple-default_MCMC_perm140</td>\n",
       "      <td>cpu_time</td>\n",
       "      <td>46.97</td>\n",
       "    </tr>\n",
       "  </tbody>\n",
       "</table>\n",
       "</div>"
      ],
      "text/plain": [
       "                                         pipeline     rule  \\\n",
       "0  012_010_simulation-based-calibration-snakemake  run_sbc   \n",
       "1  012_010_simulation-based-calibration-snakemake  run_sbc   \n",
       "2  012_010_simulation-based-calibration-snakemake  run_sbc   \n",
       "3  012_010_simulation-based-calibration-snakemake  run_sbc   \n",
       "4  012_010_simulation-based-calibration-snakemake  run_sbc   \n",
       "\n",
       "                          step  variable   value  \n",
       "0  simple-default_MCMC_perm168  cpu_time   59.88  \n",
       "1     sp2-default_MCMC_perm106  cpu_time  116.36  \n",
       "2  simple-default_MCMC_perm369  cpu_time   61.68  \n",
       "3  simple-default_MCMC_perm789  cpu_time   63.86  \n",
       "4  simple-default_MCMC_perm140  cpu_time   46.97  "
      ]
     },
     "execution_count": 6,
     "metadata": {},
     "output_type": "execute_result"
    }
   ],
   "source": [
    "benchmark_df_long = benchmark_df[\n",
    "    [\"pipeline\", \"rule\", \"step\", \"cpu_time\", \"max_rss\", \"mean_load\", \"cpu_time\"]\n",
    "].pivot_longer([\"pipeline\", \"rule\", \"step\"])\n",
    "\n",
    "benchmark_df_long.head()"
   ]
  },
  {
   "cell_type": "code",
   "execution_count": 7,
   "metadata": {
    "execution": {
     "iopub.execute_input": "2021-08-14T12:11:28.543655Z",
     "iopub.status.busy": "2021-08-14T12:11:28.542625Z",
     "iopub.status.idle": "2021-08-14T12:11:29.445321Z",
     "shell.execute_reply": "2021-08-14T12:11:29.444546Z"
    },
    "tags": []
   },
   "outputs": [
    {
     "data": {
      "image/png": "[encoded data removed]",
      "text/plain": [
       "<Figure size 360x1080 with 3 Axes>"
      ]
     },
     "metadata": {
      "image/png": {
       "height": 1084,
       "width": 440
      },
      "needs_background": "light"
     },
     "output_type": "display_data"
    }
   ],
   "source": [
    "sns.catplot(\n",
    "    data=benchmark_df_long,\n",
    "    x=\"rule\",\n",
    "    y=\"value\",\n",
    "    kind=\"box\",\n",
    "    row=\"variable\",\n",
    "    col=\"pipeline\",\n",
    "    sharey=False,\n",
    ");"
   ]
  },
  {
   "cell_type": "markdown",
   "metadata": {},
   "source": [
    "---"
   ]
  },
  {
   "cell_type": "code",
   "execution_count": 8,
   "metadata": {
    "execution": {
     "iopub.execute_input": "2021-08-14T12:11:29.450187Z",
     "iopub.status.busy": "2021-08-14T12:11:29.449676Z",
     "iopub.status.idle": "2021-08-14T12:11:29.634359Z",
     "shell.execute_reply": "2021-08-14T12:11:29.635075Z"
    }
   },
   "outputs": [
    {
     "name": "stdout",
     "output_type": "stream",
     "text": [
      "Last updated: 2021-08-14\n",
      "\n",
      "Python implementation: CPython\n",
      "Python version       : 3.9.6\n",
      "IPython version      : 7.25.0\n",
      "\n",
      "Compiler    : GCC 9.3.0\n",
      "OS          : Linux\n",
      "Release     : 3.10.0-1062.el7.x86_64\n",
      "Machine     : x86_64\n",
      "Processor   : x86_64\n",
      "CPU cores   : 32\n",
      "Architecture: 64bit\n",
      "\n",
      "Hostname: compute-a-16-160.o2.rc.hms.harvard.edu\n",
      "\n",
      "Git branch: speclet-simple\n",
      "\n",
      "janitor : 0.21.0\n",
      "seaborn : 0.11.1\n",
      "pandas  : 1.3.0\n",
      "plotnine: 0.8.0\n",
      "\n"
     ]
    }
   ],
   "source": [
    "%load_ext watermark\n",
    "%watermark -d -u -v -iv -b -h -m"
   ]
  }
 ],
 "metadata": {
  "interpreter": {
   "hash": "3085ca38df4f1aaf6729dbaacc5495b38b678ce6649b3c907f566975172f6d0a"
  },
  "kernelspec": {
   "display_name": "Python 3 (ipykernel)",
   "language": "python",
   "name": "python3"
  },
  "language_info": {
   "codemirror_mode": {
    "name": "ipython",
    "version": 3
   },
   "file_extension": ".py",
   "mimetype": "text/x-python",
   "name": "python",
   "nbconvert_exporter": "python",
   "pygments_lexer": "ipython3",
   "version": "3.9.6"
  }
 },
 "nbformat": 4,
 "nbformat_minor": 4
}
