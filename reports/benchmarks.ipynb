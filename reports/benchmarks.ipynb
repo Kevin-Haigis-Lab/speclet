{
 "cells": [
  {
   "cell_type": "markdown",
   "metadata": {},
   "source": [
    "# Pipeline benchmarks"
   ]
  },
  {
   "cell_type": "markdown",
   "metadata": {},
   "source": [
    "## Setup"
   ]
  },
  {
   "cell_type": "code",
   "execution_count": 1,
   "metadata": {
    "execution": {
     "iopub.execute_input": "2022-01-13T20:42:13.518306Z",
     "iopub.status.busy": "2022-01-13T20:42:13.517263Z",
     "iopub.status.idle": "2022-01-13T20:42:16.722733Z",
     "shell.execute_reply": "2022-01-13T20:42:16.723223Z"
    },
    "tags": []
   },
   "outputs": [],
   "source": [
    "from pathlib import Path\n",
    "from typing import Optional\n",
    "\n",
    "import janitor  # noqa: F401\n",
    "import pandas as pd\n",
    "import seaborn as sns\n",
    "\n",
    "from speclet.io import project_root"
   ]
  },
  {
   "cell_type": "code",
   "execution_count": 2,
   "metadata": {
    "execution": {
     "iopub.execute_input": "2022-01-13T20:42:16.732904Z",
     "iopub.status.busy": "2022-01-13T20:42:16.732162Z",
     "iopub.status.idle": "2022-01-13T20:42:16.737746Z",
     "shell.execute_reply": "2022-01-13T20:42:16.738189Z"
    }
   },
   "outputs": [],
   "source": [
    "%config InlineBackend.figure_format='retina'"
   ]
  },
  {
   "cell_type": "code",
   "execution_count": 3,
   "metadata": {
    "execution": {
     "iopub.execute_input": "2022-01-13T20:42:16.742647Z",
     "iopub.status.busy": "2022-01-13T20:42:16.741957Z",
     "iopub.status.idle": "2022-01-13T20:42:16.746840Z",
     "shell.execute_reply": "2022-01-13T20:42:16.747291Z"
    },
    "tags": []
   },
   "outputs": [],
   "source": [
    "benchmark_dir = project_root() / \"benchmarks\"\n",
    "assert benchmark_dir.exists()\n",
    "assert benchmark_dir.is_dir()"
   ]
  },
  {
   "cell_type": "markdown",
   "metadata": {},
   "source": [
    "## Data Processing"
   ]
  },
  {
   "cell_type": "markdown",
   "metadata": {},
   "source": [
    "Organization of benchmarks directory:\n",
    "\n",
    "1. pipeline\n",
    "2. rules\n",
    "3. individual runs\n",
    "\n",
    "> I may want to add more information to the name of the rules to keep them separate and not overwritten.\n",
    "> For instance, including the date would be useful or metadata such as the data size for SBC or debug status for the fitting pipeline."
   ]
  },
  {
   "cell_type": "code",
   "execution_count": 4,
   "metadata": {
    "execution": {
     "iopub.execute_input": "2022-01-13T20:42:16.754128Z",
     "iopub.status.busy": "2022-01-13T20:42:16.753366Z",
     "iopub.status.idle": "2022-01-13T20:42:16.758177Z",
     "shell.execute_reply": "2022-01-13T20:42:16.758611Z"
    }
   },
   "outputs": [
    {
     "data": {
      "text/plain": [
       "[PosixPath('/Users/admin/Developer/haigis-lab/speclet/benchmarks/.DS_Store'),\n",
       " PosixPath('/Users/admin/Developer/haigis-lab/speclet/benchmarks/010_010_model-fitting-pipeline')]"
      ]
     },
     "execution_count": 4,
     "metadata": {},
     "output_type": "execute_result"
    }
   ],
   "source": [
    "list(benchmark_dir.iterdir())"
   ]
  },
  {
   "cell_type": "code",
   "execution_count": 5,
   "metadata": {
    "execution": {
     "iopub.execute_input": "2022-01-13T20:42:16.767432Z",
     "iopub.status.busy": "2022-01-13T20:42:16.766713Z",
     "iopub.status.idle": "2022-01-13T20:42:16.814966Z",
     "shell.execute_reply": "2022-01-13T20:42:16.814345Z"
    },
    "tags": []
   },
   "outputs": [
    {
     "data": {
      "text/html": [
       "<div>\n",
       "<style scoped>\n",
       "    .dataframe tbody tr th:only-of-type {\n",
       "        vertical-align: middle;\n",
       "    }\n",
       "\n",
       "    .dataframe tbody tr th {\n",
       "        vertical-align: top;\n",
       "    }\n",
       "\n",
       "    .dataframe thead th {\n",
       "        text-align: right;\n",
       "    }\n",
       "</style>\n",
       "<table border=\"1\" class=\"dataframe\">\n",
       "  <thead>\n",
       "    <tr style=\"text-align: right;\">\n",
       "      <th></th>\n",
       "      <th>s</th>\n",
       "      <th>h_m_s</th>\n",
       "      <th>max_rss</th>\n",
       "      <th>max_vms</th>\n",
       "      <th>max_uss</th>\n",
       "      <th>max_pss</th>\n",
       "      <th>io_in</th>\n",
       "      <th>io_out</th>\n",
       "      <th>mean_load</th>\n",
       "      <th>cpu_time</th>\n",
       "      <th>step</th>\n",
       "      <th>rule</th>\n",
       "      <th>pipeline</th>\n",
       "    </tr>\n",
       "  </thead>\n",
       "  <tbody>\n",
       "    <tr>\n",
       "      <th>0</th>\n",
       "      <td>47.7928</td>\n",
       "      <td>0:00:47</td>\n",
       "      <td>-</td>\n",
       "      <td>-</td>\n",
       "      <td>-</td>\n",
       "      <td>-</td>\n",
       "      <td>-</td>\n",
       "      <td>-</td>\n",
       "      <td>0.0</td>\n",
       "      <td>0</td>\n",
       "      <td>example-specification_chain0</td>\n",
       "      <td>sample_pymc3_mcmc</td>\n",
       "      <td>010_010_model-fitting-pipeline</td>\n",
       "    </tr>\n",
       "    <tr>\n",
       "      <th>1</th>\n",
       "      <td>51.1992</td>\n",
       "      <td>0:00:51</td>\n",
       "      <td>-</td>\n",
       "      <td>-</td>\n",
       "      <td>-</td>\n",
       "      <td>-</td>\n",
       "      <td>-</td>\n",
       "      <td>-</td>\n",
       "      <td>0.0</td>\n",
       "      <td>0</td>\n",
       "      <td>example-specification_chain1</td>\n",
       "      <td>sample_pymc3_mcmc</td>\n",
       "      <td>010_010_model-fitting-pipeline</td>\n",
       "    </tr>\n",
       "    <tr>\n",
       "      <th>2</th>\n",
       "      <td>46.0756</td>\n",
       "      <td>0:00:46</td>\n",
       "      <td>-</td>\n",
       "      <td>-</td>\n",
       "      <td>-</td>\n",
       "      <td>-</td>\n",
       "      <td>-</td>\n",
       "      <td>-</td>\n",
       "      <td>0.0</td>\n",
       "      <td>0</td>\n",
       "      <td>example-specification_chain0</td>\n",
       "      <td>sample_stan_mcmc</td>\n",
       "      <td>010_010_model-fitting-pipeline</td>\n",
       "    </tr>\n",
       "    <tr>\n",
       "      <th>3</th>\n",
       "      <td>77.1862</td>\n",
       "      <td>0:01:17</td>\n",
       "      <td>-</td>\n",
       "      <td>-</td>\n",
       "      <td>-</td>\n",
       "      <td>-</td>\n",
       "      <td>-</td>\n",
       "      <td>-</td>\n",
       "      <td>0.0</td>\n",
       "      <td>0</td>\n",
       "      <td>example-specification_chain1</td>\n",
       "      <td>sample_stan_mcmc</td>\n",
       "      <td>010_010_model-fitting-pipeline</td>\n",
       "    </tr>\n",
       "    <tr>\n",
       "      <th>4</th>\n",
       "      <td>104.1671</td>\n",
       "      <td>0:01:44</td>\n",
       "      <td>-</td>\n",
       "      <td>-</td>\n",
       "      <td>-</td>\n",
       "      <td>-</td>\n",
       "      <td>-</td>\n",
       "      <td>-</td>\n",
       "      <td>0.0</td>\n",
       "      <td>0</td>\n",
       "      <td>example-specification</td>\n",
       "      <td>sample_pymc3_advi</td>\n",
       "      <td>010_010_model-fitting-pipeline</td>\n",
       "    </tr>\n",
       "  </tbody>\n",
       "</table>\n",
       "</div>"
      ],
      "text/plain": [
       "          s    h_m_s max_rss max_vms max_uss max_pss io_in io_out  mean_load  \\\n",
       "0   47.7928  0:00:47       -       -       -       -     -      -        0.0   \n",
       "1   51.1992  0:00:51       -       -       -       -     -      -        0.0   \n",
       "2   46.0756  0:00:46       -       -       -       -     -      -        0.0   \n",
       "3   77.1862  0:01:17       -       -       -       -     -      -        0.0   \n",
       "4  104.1671  0:01:44       -       -       -       -     -      -        0.0   \n",
       "\n",
       "   cpu_time                          step               rule  \\\n",
       "0         0  example-specification_chain0  sample_pymc3_mcmc   \n",
       "1         0  example-specification_chain1  sample_pymc3_mcmc   \n",
       "2         0  example-specification_chain0   sample_stan_mcmc   \n",
       "3         0  example-specification_chain1   sample_stan_mcmc   \n",
       "4         0         example-specification  sample_pymc3_advi   \n",
       "\n",
       "                         pipeline  \n",
       "0  010_010_model-fitting-pipeline  \n",
       "1  010_010_model-fitting-pipeline  \n",
       "2  010_010_model-fitting-pipeline  \n",
       "3  010_010_model-fitting-pipeline  \n",
       "4  010_010_model-fitting-pipeline  "
      ]
     },
     "execution_count": 5,
     "metadata": {},
     "output_type": "execute_result"
    }
   ],
   "source": [
    "def process_benchmark_file(bench_f: Path) -> pd.DataFrame:\n",
    "    return pd.read_csv(bench_f, sep=\"\\t\").assign(\n",
    "        step=bench_f.name.replace(bench_f.suffix, \"\")\n",
    "    )\n",
    "\n",
    "\n",
    "def get_benchmark_data_for_rule_dir(\n",
    "    rule_d: Path, pipeline_name: str\n",
    ") -> Optional[pd.DataFrame]:\n",
    "    bench_dfs: list[pd.DataFrame] = [\n",
    "        process_benchmark_file(b) for b in rule_d.iterdir()\n",
    "    ]\n",
    "    if len(bench_dfs) == 0:\n",
    "        return None\n",
    "\n",
    "    return (\n",
    "        pd.concat(bench_dfs)\n",
    "        .assign(rule=rule_d.name, pipeline=pipeline_name)\n",
    "        .clean_names()\n",
    "    )\n",
    "\n",
    "\n",
    "benchmark_df_list: list[pd.DataFrame] = []\n",
    "\n",
    "for pipeline_dir in benchmark_dir.iterdir():\n",
    "    if pipeline_dir.name in {\".DS_Store\"}:\n",
    "        continue\n",
    "    for rule_dir in pipeline_dir.iterdir():\n",
    "        df = get_benchmark_data_for_rule_dir(rule_dir, pipeline_name=pipeline_dir.name)\n",
    "        if df is not None:\n",
    "            benchmark_df_list.append(df)\n",
    "\n",
    "benchmark_df = pd.concat(benchmark_df_list).reset_index(drop=True)\n",
    "benchmark_df.head()"
   ]
  },
  {
   "cell_type": "markdown",
   "metadata": {},
   "source": [
    "## Data dictionary\n",
    "\n",
    "| colname | type (unit) | description |\n",
    "|-------- |-------------|-------------|\n",
    "| s | float (seconds) | Running time in seconds. |\n",
    "| h:m:s\t| string (-) | Running time in hour, minutes, seconds format. |\n",
    "| max_rss | float (MB) | Maximum \"Resident Set Size”, this is the non-swapped physical memory a process has used. |\n",
    "| max_vms | float (MB) | Maximum “Virtual Memory Size”, this is the total amount of virtual memory used by the process. |\n",
    "| max_uss | float (MB) | “Unique Set Size”, this is the memory which is unique to a process and which would be freed if the process was terminated right now. |\n",
    "| max_pss | float (MB) | “Proportional Set Size”, is the amount of memory shared with other processes, accounted in a way that the amount is divided evenly between the processes that share it (Linux only). |\n",
    "| io_in | float (MB) | The number of MB read (cumulative). |\n",
    "| io_out | float (MB) | The number of MB written (cumulative). |\n",
    "| mean_load | float (-) | CPU usage over time, divided by the total running time (first row). |\n",
    "| cpu_time | float (-) | CPU time summed for user and system. |"
   ]
  },
  {
   "cell_type": "markdown",
   "metadata": {},
   "source": [
    "## Data analysis and visualization"
   ]
  },
  {
   "cell_type": "code",
   "execution_count": 6,
   "metadata": {
    "execution": {
     "iopub.execute_input": "2022-01-13T20:42:16.833557Z",
     "iopub.status.busy": "2022-01-13T20:42:16.832785Z",
     "iopub.status.idle": "2022-01-13T20:42:16.835655Z",
     "shell.execute_reply": "2022-01-13T20:42:16.836087Z"
    },
    "tags": []
   },
   "outputs": [
    {
     "data": {
      "text/html": [
       "<div>\n",
       "<style scoped>\n",
       "    .dataframe tbody tr th:only-of-type {\n",
       "        vertical-align: middle;\n",
       "    }\n",
       "\n",
       "    .dataframe tbody tr th {\n",
       "        vertical-align: top;\n",
       "    }\n",
       "\n",
       "    .dataframe thead th {\n",
       "        text-align: right;\n",
       "    }\n",
       "</style>\n",
       "<table border=\"1\" class=\"dataframe\">\n",
       "  <thead>\n",
       "    <tr style=\"text-align: right;\">\n",
       "      <th></th>\n",
       "      <th></th>\n",
       "      <th>s</th>\n",
       "      <th>mean_load</th>\n",
       "      <th>cpu_time</th>\n",
       "    </tr>\n",
       "    <tr>\n",
       "      <th>pipeline</th>\n",
       "      <th>rule</th>\n",
       "      <th></th>\n",
       "      <th></th>\n",
       "      <th></th>\n",
       "    </tr>\n",
       "  </thead>\n",
       "  <tbody>\n",
       "    <tr>\n",
       "      <th rowspan=\"3\" valign=\"top\">010_010_model-fitting-pipeline</th>\n",
       "      <th>sample_pymc3_advi</th>\n",
       "      <td>104.17</td>\n",
       "      <td>0.0</td>\n",
       "      <td>0.0</td>\n",
       "    </tr>\n",
       "    <tr>\n",
       "      <th>sample_pymc3_mcmc</th>\n",
       "      <td>49.50</td>\n",
       "      <td>0.0</td>\n",
       "      <td>0.0</td>\n",
       "    </tr>\n",
       "    <tr>\n",
       "      <th>sample_stan_mcmc</th>\n",
       "      <td>61.63</td>\n",
       "      <td>0.0</td>\n",
       "      <td>0.0</td>\n",
       "    </tr>\n",
       "  </tbody>\n",
       "</table>\n",
       "</div>"
      ],
      "text/plain": [
       "                                                       s  mean_load  cpu_time\n",
       "pipeline                       rule                                          \n",
       "010_010_model-fitting-pipeline sample_pymc3_advi  104.17        0.0       0.0\n",
       "                               sample_pymc3_mcmc   49.50        0.0       0.0\n",
       "                               sample_stan_mcmc    61.63        0.0       0.0"
      ]
     },
     "execution_count": 6,
     "metadata": {},
     "output_type": "execute_result"
    }
   ],
   "source": [
    "benchmark_df.groupby([\"pipeline\", \"rule\"]).mean().round(2)"
   ]
  },
  {
   "cell_type": "code",
   "execution_count": 7,
   "metadata": {
    "execution": {
     "iopub.execute_input": "2022-01-13T20:42:16.855833Z",
     "iopub.status.busy": "2022-01-13T20:42:16.855026Z",
     "iopub.status.idle": "2022-01-13T20:42:16.857975Z",
     "shell.execute_reply": "2022-01-13T20:42:16.858408Z"
    },
    "tags": []
   },
   "outputs": [
    {
     "data": {
      "text/html": [
       "<div>\n",
       "<style scoped>\n",
       "    .dataframe tbody tr th:only-of-type {\n",
       "        vertical-align: middle;\n",
       "    }\n",
       "\n",
       "    .dataframe tbody tr th {\n",
       "        vertical-align: top;\n",
       "    }\n",
       "\n",
       "    .dataframe thead th {\n",
       "        text-align: right;\n",
       "    }\n",
       "</style>\n",
       "<table border=\"1\" class=\"dataframe\">\n",
       "  <thead>\n",
       "    <tr style=\"text-align: right;\">\n",
       "      <th></th>\n",
       "      <th>pipeline</th>\n",
       "      <th>rule</th>\n",
       "      <th>step</th>\n",
       "      <th>variable</th>\n",
       "      <th>value</th>\n",
       "    </tr>\n",
       "  </thead>\n",
       "  <tbody>\n",
       "    <tr>\n",
       "      <th>0</th>\n",
       "      <td>010_010_model-fitting-pipeline</td>\n",
       "      <td>sample_pymc3_mcmc</td>\n",
       "      <td>example-specification_chain0</td>\n",
       "      <td>cpu_time</td>\n",
       "      <td>0.0</td>\n",
       "    </tr>\n",
       "    <tr>\n",
       "      <th>1</th>\n",
       "      <td>010_010_model-fitting-pipeline</td>\n",
       "      <td>sample_pymc3_mcmc</td>\n",
       "      <td>example-specification_chain1</td>\n",
       "      <td>cpu_time</td>\n",
       "      <td>0.0</td>\n",
       "    </tr>\n",
       "    <tr>\n",
       "      <th>2</th>\n",
       "      <td>010_010_model-fitting-pipeline</td>\n",
       "      <td>sample_stan_mcmc</td>\n",
       "      <td>example-specification_chain0</td>\n",
       "      <td>cpu_time</td>\n",
       "      <td>0.0</td>\n",
       "    </tr>\n",
       "    <tr>\n",
       "      <th>3</th>\n",
       "      <td>010_010_model-fitting-pipeline</td>\n",
       "      <td>sample_stan_mcmc</td>\n",
       "      <td>example-specification_chain1</td>\n",
       "      <td>cpu_time</td>\n",
       "      <td>0.0</td>\n",
       "    </tr>\n",
       "    <tr>\n",
       "      <th>4</th>\n",
       "      <td>010_010_model-fitting-pipeline</td>\n",
       "      <td>sample_pymc3_advi</td>\n",
       "      <td>example-specification</td>\n",
       "      <td>cpu_time</td>\n",
       "      <td>0.0</td>\n",
       "    </tr>\n",
       "  </tbody>\n",
       "</table>\n",
       "</div>"
      ],
      "text/plain": [
       "                         pipeline               rule  \\\n",
       "0  010_010_model-fitting-pipeline  sample_pymc3_mcmc   \n",
       "1  010_010_model-fitting-pipeline  sample_pymc3_mcmc   \n",
       "2  010_010_model-fitting-pipeline   sample_stan_mcmc   \n",
       "3  010_010_model-fitting-pipeline   sample_stan_mcmc   \n",
       "4  010_010_model-fitting-pipeline  sample_pymc3_advi   \n",
       "\n",
       "                           step  variable  value  \n",
       "0  example-specification_chain0  cpu_time    0.0  \n",
       "1  example-specification_chain1  cpu_time    0.0  \n",
       "2  example-specification_chain0  cpu_time    0.0  \n",
       "3  example-specification_chain1  cpu_time    0.0  \n",
       "4         example-specification  cpu_time    0.0  "
      ]
     },
     "execution_count": 7,
     "metadata": {},
     "output_type": "execute_result"
    }
   ],
   "source": [
    "benchmark_df_long = (\n",
    "    benchmark_df[\n",
    "        [\"pipeline\", \"rule\", \"step\", \"cpu_time\", \"max_rss\", \"mean_load\", \"cpu_time\"]\n",
    "    ]\n",
    "    .pivot_longer([\"pipeline\", \"rule\", \"step\"])\n",
    "    .query(\"value != '-'\")\n",
    "    .astype({\"value\": float})\n",
    ")\n",
    "\n",
    "benchmark_df_long.head()"
   ]
  },
  {
   "cell_type": "code",
   "execution_count": 8,
   "metadata": {
    "execution": {
     "iopub.execute_input": "2022-01-13T20:42:16.876163Z",
     "iopub.status.busy": "2022-01-13T20:42:16.875515Z",
     "iopub.status.idle": "2022-01-13T20:42:17.296487Z",
     "shell.execute_reply": "2022-01-13T20:42:17.297210Z"
    },
    "tags": []
   },
   "outputs": [
    {
     "data": {
      "text/plain": [
       "<seaborn.axisgrid.FacetGrid at 0x110131e50>"
      ]
     },
     "execution_count": 8,
     "metadata": {},
     "output_type": "execute_result"
    },
    {
     "data": {
      "image/png": "[encoded data removed]",
      "text/plain": [
       "<Figure size 360x720 with 2 Axes>"
      ]
     },
     "metadata": {
      "image/png": {
       "height": 710,
       "width": 374
      },
      "needs_background": "light"
     },
     "output_type": "display_data"
    }
   ],
   "source": [
    "sns.catplot(\n",
    "    data=benchmark_df_long,\n",
    "    x=\"rule\",\n",
    "    y=\"value\",\n",
    "    kind=\"box\",\n",
    "    row=\"variable\",\n",
    "    col=\"pipeline\",\n",
    "    sharey=False,\n",
    ")"
   ]
  },
  {
   "cell_type": "markdown",
   "metadata": {},
   "source": [
    "---"
   ]
  },
  {
   "cell_type": "code",
   "execution_count": 9,
   "metadata": {
    "execution": {
     "iopub.execute_input": "2022-01-13T20:42:17.303870Z",
     "iopub.status.busy": "2022-01-13T20:42:17.302879Z",
     "iopub.status.idle": "2022-01-13T20:42:17.364836Z",
     "shell.execute_reply": "2022-01-13T20:42:17.365433Z"
    }
   },
   "outputs": [
    {
     "name": "stdout",
     "output_type": "stream",
     "text": [
      "Last updated: 2022-01-13\n",
      "\n",
      "Python implementation: CPython\n",
      "Python version       : 3.9.9\n",
      "IPython version      : 8.0.0\n",
      "\n",
      "Compiler    : Clang 11.1.0 \n",
      "OS          : Darwin\n",
      "Release     : 21.2.0\n",
      "Machine     : x86_64\n",
      "Processor   : i386\n",
      "CPU cores   : 4\n",
      "Architecture: 64bit\n",
      "\n",
      "Hostname: JHCookMac\n",
      "\n",
      "Git branch: refactor-stan\n",
      "\n",
      "pandas : 1.3.5\n",
      "janitor: 0.22.0\n",
      "seaborn: 0.11.2\n",
      "\n"
     ]
    }
   ],
   "source": [
    "%load_ext watermark\n",
    "%watermark -d -u -v -iv -b -h -m"
   ]
  },
  {
   "cell_type": "code",
   "execution_count": null,
   "metadata": {},
   "outputs": [],
   "source": []
  }
 ],
 "metadata": {
  "interpreter": {
   "hash": "3085ca38df4f1aaf6729dbaacc5495b38b678ce6649b3c907f566975172f6d0a"
  },
  "kernelspec": {
   "display_name": "Python 3 (ipykernel)",
   "language": "python",
   "name": "python3"
  },
  "language_info": {
   "codemirror_mode": {
    "name": "ipython",
    "version": 3
   },
   "file_extension": ".py",
   "mimetype": "text/x-python",
   "name": "python",
   "nbconvert_exporter": "python",
   "pygments_lexer": "ipython3",
   "version": "3.9.9"
  }
 },
 "nbformat": 4,
 "nbformat_minor": 4
}
