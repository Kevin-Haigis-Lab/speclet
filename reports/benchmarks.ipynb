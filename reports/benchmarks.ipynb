{
 "cells": [
  {
   "cell_type": "code",
   "execution_count": 1,
   "metadata": {
    "execution": {
     "iopub.execute_input": "2021-07-26T15:05:03.358684Z",
     "iopub.status.busy": "2021-07-26T15:05:03.357466Z",
     "iopub.status.idle": "2021-07-26T15:05:08.518929Z",
     "shell.execute_reply": "2021-07-26T15:05:08.517817Z"
    },
    "tags": []
   },
   "outputs": [],
   "source": [
    "from pathlib import Path\n",
    "from typing import Optional\n",
    "\n",
    "import janitor\n",
    "import pandas as pd\n",
    "import plotnine as gg\n",
    "import seaborn as sns\n",
    "\n",
    "%config InlineBackend.figure_format='retina'"
   ]
  },
  {
   "cell_type": "code",
   "execution_count": 2,
   "metadata": {
    "execution": {
     "iopub.execute_input": "2021-07-26T15:05:08.524496Z",
     "iopub.status.busy": "2021-07-26T15:05:08.523495Z",
     "iopub.status.idle": "2021-07-26T15:05:08.528381Z",
     "shell.execute_reply": "2021-07-26T15:05:08.527505Z"
    },
    "tags": []
   },
   "outputs": [],
   "source": [
    "benchmark_dir = Path(\"../benchmarks/\")\n",
    "assert benchmark_dir.exists()\n",
    "assert benchmark_dir.is_dir()"
   ]
  },
  {
   "cell_type": "markdown",
   "metadata": {},
   "source": [
    "## Data Processing"
   ]
  },
  {
   "cell_type": "markdown",
   "metadata": {},
   "source": [
    "Organization of benchmarks directory:\n",
    "\n",
    "1. pipeline\n",
    "2. rules\n",
    "3. individual runs\n",
    "\n",
    "> I may want to add more information to the name of the rules to keep them separate and not overwritten.\n",
    "> For instance, including the date would be useful or metadata such as the data size for SBC or debug status for the fitting pipeline."
   ]
  },
  {
   "cell_type": "code",
   "execution_count": 3,
   "metadata": {
    "execution": {
     "iopub.execute_input": "2021-07-26T15:05:08.533706Z",
     "iopub.status.busy": "2021-07-26T15:05:08.532752Z",
     "iopub.status.idle": "2021-07-26T15:05:08.548958Z",
     "shell.execute_reply": "2021-07-26T15:05:08.549764Z"
    }
   },
   "outputs": [
    {
     "data": {
      "text/plain": [
       "[PosixPath('../benchmarks/010_010_run-crc-sampling-snakemake'),\n",
       " PosixPath('../benchmarks/012_010_simulation-based-calibration-snakemake')]"
      ]
     },
     "execution_count": 1,
     "metadata": {},
     "output_type": "execute_result"
    }
   ],
   "source": [
    "list(benchmark_dir.iterdir())"
   ]
  },
  {
   "cell_type": "code",
   "execution_count": 4,
   "metadata": {
    "execution": {
     "iopub.execute_input": "2021-07-26T15:05:08.553764Z",
     "iopub.status.busy": "2021-07-26T15:05:08.552787Z",
     "iopub.status.idle": "2021-07-26T15:05:13.134295Z",
     "shell.execute_reply": "2021-07-26T15:05:13.135216Z"
    },
    "tags": []
   },
   "outputs": [
    {
     "data": {
      "text/html": [
       "<div>\n",
       "<style scoped>\n",
       "    .dataframe tbody tr th:only-of-type {\n",
       "        vertical-align: middle;\n",
       "    }\n",
       "\n",
       "    .dataframe tbody tr th {\n",
       "        vertical-align: top;\n",
       "    }\n",
       "\n",
       "    .dataframe thead th {\n",
       "        text-align: right;\n",
       "    }\n",
       "</style>\n",
       "<table border=\"1\" class=\"dataframe\">\n",
       "  <thead>\n",
       "    <tr style=\"text-align: right;\">\n",
       "      <th></th>\n",
       "      <th>s</th>\n",
       "      <th>h_m_s</th>\n",
       "      <th>max_rss</th>\n",
       "      <th>max_vms</th>\n",
       "      <th>max_uss</th>\n",
       "      <th>max_pss</th>\n",
       "      <th>io_in</th>\n",
       "      <th>io_out</th>\n",
       "      <th>mean_load</th>\n",
       "      <th>cpu_time</th>\n",
       "      <th>step</th>\n",
       "      <th>rule</th>\n",
       "      <th>pipeline</th>\n",
       "    </tr>\n",
       "  </thead>\n",
       "  <tbody>\n",
       "    <tr>\n",
       "      <th>0</th>\n",
       "      <td>900.0916</td>\n",
       "      <td>0:15:00</td>\n",
       "      <td>11876.86</td>\n",
       "      <td>16598.31</td>\n",
       "      <td>2643.14</td>\n",
       "      <td>2643.29</td>\n",
       "      <td>8.54</td>\n",
       "      <td>144.07</td>\n",
       "      <td>80.96</td>\n",
       "      <td>138.08</td>\n",
       "      <td>sp2-default_MCMC_perm106</td>\n",
       "      <td>run_sbc</td>\n",
       "      <td>012_010_simulation-based-calibration-snakemake</td>\n",
       "    </tr>\n",
       "    <tr>\n",
       "      <th>1</th>\n",
       "      <td>681.0140</td>\n",
       "      <td>0:11:21</td>\n",
       "      <td>11834.54</td>\n",
       "      <td>16552.55</td>\n",
       "      <td>2673.76</td>\n",
       "      <td>2698.16</td>\n",
       "      <td>8.98</td>\n",
       "      <td>149.32</td>\n",
       "      <td>67.21</td>\n",
       "      <td>156.21</td>\n",
       "      <td>sp2-default_MCMC_perm447</td>\n",
       "      <td>run_sbc</td>\n",
       "      <td>012_010_simulation-based-calibration-snakemake</td>\n",
       "    </tr>\n",
       "    <tr>\n",
       "      <th>2</th>\n",
       "      <td>745.1272</td>\n",
       "      <td>0:12:25</td>\n",
       "      <td>12174.35</td>\n",
       "      <td>16889.28</td>\n",
       "      <td>2686.37</td>\n",
       "      <td>2686.53</td>\n",
       "      <td>15.43</td>\n",
       "      <td>160.75</td>\n",
       "      <td>82.28</td>\n",
       "      <td>131.27</td>\n",
       "      <td>sp2-default_MCMC_perm10</td>\n",
       "      <td>run_sbc</td>\n",
       "      <td>012_010_simulation-based-calibration-snakemake</td>\n",
       "    </tr>\n",
       "    <tr>\n",
       "      <th>3</th>\n",
       "      <td>609.5455</td>\n",
       "      <td>0:10:09</td>\n",
       "      <td>12045.56</td>\n",
       "      <td>16742.46</td>\n",
       "      <td>2615.14</td>\n",
       "      <td>2637.87</td>\n",
       "      <td>4.54</td>\n",
       "      <td>92.44</td>\n",
       "      <td>133.23</td>\n",
       "      <td>115.00</td>\n",
       "      <td>sp2-default_MCMC_perm82</td>\n",
       "      <td>run_sbc</td>\n",
       "      <td>012_010_simulation-based-calibration-snakemake</td>\n",
       "    </tr>\n",
       "    <tr>\n",
       "      <th>4</th>\n",
       "      <td>605.5162</td>\n",
       "      <td>0:10:05</td>\n",
       "      <td>11209.66</td>\n",
       "      <td>15945.14</td>\n",
       "      <td>2464.32</td>\n",
       "      <td>2477.39</td>\n",
       "      <td>8.06</td>\n",
       "      <td>84.99</td>\n",
       "      <td>79.81</td>\n",
       "      <td>119.25</td>\n",
       "      <td>sp2-default_MCMC_perm24</td>\n",
       "      <td>run_sbc</td>\n",
       "      <td>012_010_simulation-based-calibration-snakemake</td>\n",
       "    </tr>\n",
       "  </tbody>\n",
       "</table>\n",
       "</div>"
      ],
      "text/plain": [
       "          s    h_m_s   max_rss   max_vms  max_uss  max_pss  io_in  io_out  \\\n",
       "0  900.0916  0:15:00  11876.86  16598.31  2643.14  2643.29   8.54  144.07   \n",
       "1  681.0140  0:11:21  11834.54  16552.55  2673.76  2698.16   8.98  149.32   \n",
       "2  745.1272  0:12:25  12174.35  16889.28  2686.37  2686.53  15.43  160.75   \n",
       "3  609.5455  0:10:09  12045.56  16742.46  2615.14  2637.87   4.54   92.44   \n",
       "4  605.5162  0:10:05  11209.66  15945.14  2464.32  2477.39   8.06   84.99   \n",
       "\n",
       "   mean_load  cpu_time                      step     rule  \\\n",
       "0      80.96    138.08  sp2-default_MCMC_perm106  run_sbc   \n",
       "1      67.21    156.21  sp2-default_MCMC_perm447  run_sbc   \n",
       "2      82.28    131.27   sp2-default_MCMC_perm10  run_sbc   \n",
       "3     133.23    115.00   sp2-default_MCMC_perm82  run_sbc   \n",
       "4      79.81    119.25   sp2-default_MCMC_perm24  run_sbc   \n",
       "\n",
       "                                         pipeline  \n",
       "0  012_010_simulation-based-calibration-snakemake  \n",
       "1  012_010_simulation-based-calibration-snakemake  \n",
       "2  012_010_simulation-based-calibration-snakemake  \n",
       "3  012_010_simulation-based-calibration-snakemake  \n",
       "4  012_010_simulation-based-calibration-snakemake  "
      ]
     },
     "execution_count": 1,
     "metadata": {},
     "output_type": "execute_result"
    }
   ],
   "source": [
    "def process_benchmark_file(bench_f: Path) -> pd.DataFrame:\n",
    "    return pd.read_csv(bench_f, sep=\"\\t\").assign(\n",
    "        step=bench_f.name.replace(bench_f.suffix, \"\")\n",
    "    )\n",
    "\n",
    "\n",
    "def get_benchmark_data_for_rule_dir(\n",
    "    rule_d: Path, pipeline_name: str\n",
    ") -> Optional[pd.DataFrame]:\n",
    "    bench_dfs: list[pd.DataFrame] = [\n",
    "        process_benchmark_file(b) for b in rule_d.iterdir()\n",
    "    ]\n",
    "    if len(bench_dfs) == 0:\n",
    "        return None\n",
    "\n",
    "    return (\n",
    "        pd.concat(bench_dfs)\n",
    "        .assign(rule=rule_d.name, pipeline=pipeline_name)\n",
    "        .clean_names()\n",
    "    )\n",
    "\n",
    "\n",
    "benchmark_df_list: list[pd.DataFrame] = []\n",
    "\n",
    "for pipeline_dir in benchmark_dir.iterdir():\n",
    "    for rule_dir in pipeline_dir.iterdir():\n",
    "        df = get_benchmark_data_for_rule_dir(rule_dir, pipeline_name=pipeline_dir.name)\n",
    "        if df is not None:\n",
    "            benchmark_df_list.append(df)\n",
    "\n",
    "benchmark_df = pd.concat(benchmark_df_list).reset_index(drop=True)\n",
    "benchmark_df.head()"
   ]
  },
  {
   "cell_type": "markdown",
   "metadata": {},
   "source": [
    "## Data dictionary\n",
    "\n",
    "| colname | type (unit) | description |\n",
    "|-------- |-------------|-------------|\n",
    "| s | float (seconds) | Running time in seconds. |\n",
    "| h:m:s\t| string (-) | Running time in hour, minutes, seconds format. |\n",
    "| max_rss | float (MB) | Maximum \"Resident Set Size”, this is the non-swapped physical memory a process has used. |\n",
    "| max_vms | float (MB) | Maximum “Virtual Memory Size”, this is the total amount of virtual memory used by the process. |\n",
    "| max_uss | float (MB) | “Unique Set Size”, this is the memory which is unique to a process and which would be freed if the process was terminated right now. |\n",
    "| max_pss | float (MB) | “Proportional Set Size”, is the amount of memory shared with other processes, accounted in a way that the amount is divided evenly between the processes that share it (Linux only). |\n",
    "| io_in | float (MB) | The number of MB read (cumulative). |\n",
    "| io_out | float (MB) | The number of MB written (cumulative). |\n",
    "| mean_load | float (-) | CPU usage over time, divided by the total running time (first row). |\n",
    "| cpu_time | float (-) | CPU time summed for user and system. |"
   ]
  },
  {
   "cell_type": "markdown",
   "metadata": {},
   "source": [
    "## Data analysis and visualization"
   ]
  },
  {
   "cell_type": "code",
   "execution_count": 5,
   "metadata": {
    "execution": {
     "iopub.execute_input": "2021-07-26T15:05:13.139746Z",
     "iopub.status.busy": "2021-07-26T15:05:13.138656Z",
     "iopub.status.idle": "2021-07-26T15:05:13.161756Z",
     "shell.execute_reply": "2021-07-26T15:05:13.162577Z"
    },
    "tags": []
   },
   "outputs": [
    {
     "data": {
      "text/html": [
       "<div>\n",
       "<style scoped>\n",
       "    .dataframe tbody tr th:only-of-type {\n",
       "        vertical-align: middle;\n",
       "    }\n",
       "\n",
       "    .dataframe tbody tr th {\n",
       "        vertical-align: top;\n",
       "    }\n",
       "\n",
       "    .dataframe thead th {\n",
       "        text-align: right;\n",
       "    }\n",
       "</style>\n",
       "<table border=\"1\" class=\"dataframe\">\n",
       "  <thead>\n",
       "    <tr style=\"text-align: right;\">\n",
       "      <th></th>\n",
       "      <th></th>\n",
       "      <th>s</th>\n",
       "      <th>max_rss</th>\n",
       "      <th>max_vms</th>\n",
       "      <th>max_uss</th>\n",
       "      <th>max_pss</th>\n",
       "      <th>io_in</th>\n",
       "      <th>io_out</th>\n",
       "      <th>mean_load</th>\n",
       "      <th>cpu_time</th>\n",
       "    </tr>\n",
       "    <tr>\n",
       "      <th>pipeline</th>\n",
       "      <th>rule</th>\n",
       "      <th></th>\n",
       "      <th></th>\n",
       "      <th></th>\n",
       "      <th></th>\n",
       "      <th></th>\n",
       "      <th></th>\n",
       "      <th></th>\n",
       "      <th></th>\n",
       "      <th></th>\n",
       "    </tr>\n",
       "  </thead>\n",
       "  <tbody>\n",
       "    <tr>\n",
       "      <th rowspan=\"3\" valign=\"top\">012_010_simulation-based-calibration-snakemake</th>\n",
       "      <th>collate_sbc</th>\n",
       "      <td>272.46</td>\n",
       "      <td>288.61</td>\n",
       "      <td>1013.56</td>\n",
       "      <td>286.13</td>\n",
       "      <td>286.20</td>\n",
       "      <td>2269.80</td>\n",
       "      <td>0.22</td>\n",
       "      <td>35.53</td>\n",
       "      <td>95.78</td>\n",
       "    </tr>\n",
       "    <tr>\n",
       "      <th>generate_mockdata</th>\n",
       "      <td>8.94</td>\n",
       "      <td>216.96</td>\n",
       "      <td>929.21</td>\n",
       "      <td>214.40</td>\n",
       "      <td>214.44</td>\n",
       "      <td>259.24</td>\n",
       "      <td>0.29</td>\n",
       "      <td>40.41</td>\n",
       "      <td>3.72</td>\n",
       "    </tr>\n",
       "    <tr>\n",
       "      <th>run_sbc</th>\n",
       "      <td>655.81</td>\n",
       "      <td>11195.34</td>\n",
       "      <td>15717.18</td>\n",
       "      <td>2582.34</td>\n",
       "      <td>2592.93</td>\n",
       "      <td>244.20</td>\n",
       "      <td>122.06</td>\n",
       "      <td>114.10</td>\n",
       "      <td>128.91</td>\n",
       "    </tr>\n",
       "  </tbody>\n",
       "</table>\n",
       "</div>"
      ],
      "text/plain": [
       "                                                                       s  \\\n",
       "pipeline                                       rule                        \n",
       "012_010_simulation-based-calibration-snakemake collate_sbc        272.46   \n",
       "                                               generate_mockdata    8.94   \n",
       "                                               run_sbc            655.81   \n",
       "\n",
       "                                                                   max_rss  \\\n",
       "pipeline                                       rule                          \n",
       "012_010_simulation-based-calibration-snakemake collate_sbc          288.61   \n",
       "                                               generate_mockdata    216.96   \n",
       "                                               run_sbc            11195.34   \n",
       "\n",
       "                                                                   max_vms  \\\n",
       "pipeline                                       rule                          \n",
       "012_010_simulation-based-calibration-snakemake collate_sbc         1013.56   \n",
       "                                               generate_mockdata    929.21   \n",
       "                                               run_sbc            15717.18   \n",
       "\n",
       "                                                                  max_uss  \\\n",
       "pipeline                                       rule                         \n",
       "012_010_simulation-based-calibration-snakemake collate_sbc         286.13   \n",
       "                                               generate_mockdata   214.40   \n",
       "                                               run_sbc            2582.34   \n",
       "\n",
       "                                                                  max_pss  \\\n",
       "pipeline                                       rule                         \n",
       "012_010_simulation-based-calibration-snakemake collate_sbc         286.20   \n",
       "                                               generate_mockdata   214.44   \n",
       "                                               run_sbc            2592.93   \n",
       "\n",
       "                                                                    io_in  \\\n",
       "pipeline                                       rule                         \n",
       "012_010_simulation-based-calibration-snakemake collate_sbc        2269.80   \n",
       "                                               generate_mockdata   259.24   \n",
       "                                               run_sbc             244.20   \n",
       "\n",
       "                                                                  io_out  \\\n",
       "pipeline                                       rule                        \n",
       "012_010_simulation-based-calibration-snakemake collate_sbc          0.22   \n",
       "                                               generate_mockdata    0.29   \n",
       "                                               run_sbc            122.06   \n",
       "\n",
       "                                                                  mean_load  \\\n",
       "pipeline                                       rule                           \n",
       "012_010_simulation-based-calibration-snakemake collate_sbc            35.53   \n",
       "                                               generate_mockdata      40.41   \n",
       "                                               run_sbc               114.10   \n",
       "\n",
       "                                                                  cpu_time  \n",
       "pipeline                                       rule                         \n",
       "012_010_simulation-based-calibration-snakemake collate_sbc           95.78  \n",
       "                                               generate_mockdata      3.72  \n",
       "                                               run_sbc              128.91  "
      ]
     },
     "execution_count": 1,
     "metadata": {},
     "output_type": "execute_result"
    }
   ],
   "source": [
    "benchmark_df.groupby([\"pipeline\", \"rule\"]).mean().round(2)"
   ]
  },
  {
   "cell_type": "code",
   "execution_count": 6,
   "metadata": {
    "execution": {
     "iopub.execute_input": "2021-07-26T15:05:13.166618Z",
     "iopub.status.busy": "2021-07-26T15:05:13.165622Z",
     "iopub.status.idle": "2021-07-26T15:05:13.182392Z",
     "shell.execute_reply": "2021-07-26T15:05:13.183179Z"
    },
    "tags": []
   },
   "outputs": [
    {
     "data": {
      "text/html": [
       "<div>\n",
       "<style scoped>\n",
       "    .dataframe tbody tr th:only-of-type {\n",
       "        vertical-align: middle;\n",
       "    }\n",
       "\n",
       "    .dataframe tbody tr th {\n",
       "        vertical-align: top;\n",
       "    }\n",
       "\n",
       "    .dataframe thead th {\n",
       "        text-align: right;\n",
       "    }\n",
       "</style>\n",
       "<table border=\"1\" class=\"dataframe\">\n",
       "  <thead>\n",
       "    <tr style=\"text-align: right;\">\n",
       "      <th></th>\n",
       "      <th>pipeline</th>\n",
       "      <th>rule</th>\n",
       "      <th>step</th>\n",
       "      <th>variable</th>\n",
       "      <th>value</th>\n",
       "    </tr>\n",
       "  </thead>\n",
       "  <tbody>\n",
       "    <tr>\n",
       "      <th>0</th>\n",
       "      <td>012_010_simulation-based-calibration-snakemake</td>\n",
       "      <td>run_sbc</td>\n",
       "      <td>sp2-default_MCMC_perm106</td>\n",
       "      <td>cpu_time</td>\n",
       "      <td>138.08</td>\n",
       "    </tr>\n",
       "    <tr>\n",
       "      <th>1</th>\n",
       "      <td>012_010_simulation-based-calibration-snakemake</td>\n",
       "      <td>run_sbc</td>\n",
       "      <td>sp2-default_MCMC_perm447</td>\n",
       "      <td>cpu_time</td>\n",
       "      <td>156.21</td>\n",
       "    </tr>\n",
       "    <tr>\n",
       "      <th>2</th>\n",
       "      <td>012_010_simulation-based-calibration-snakemake</td>\n",
       "      <td>run_sbc</td>\n",
       "      <td>sp2-default_MCMC_perm10</td>\n",
       "      <td>cpu_time</td>\n",
       "      <td>131.27</td>\n",
       "    </tr>\n",
       "    <tr>\n",
       "      <th>3</th>\n",
       "      <td>012_010_simulation-based-calibration-snakemake</td>\n",
       "      <td>run_sbc</td>\n",
       "      <td>sp2-default_MCMC_perm82</td>\n",
       "      <td>cpu_time</td>\n",
       "      <td>115.00</td>\n",
       "    </tr>\n",
       "    <tr>\n",
       "      <th>4</th>\n",
       "      <td>012_010_simulation-based-calibration-snakemake</td>\n",
       "      <td>run_sbc</td>\n",
       "      <td>sp2-default_MCMC_perm24</td>\n",
       "      <td>cpu_time</td>\n",
       "      <td>119.25</td>\n",
       "    </tr>\n",
       "  </tbody>\n",
       "</table>\n",
       "</div>"
      ],
      "text/plain": [
       "                                         pipeline     rule  \\\n",
       "0  012_010_simulation-based-calibration-snakemake  run_sbc   \n",
       "1  012_010_simulation-based-calibration-snakemake  run_sbc   \n",
       "2  012_010_simulation-based-calibration-snakemake  run_sbc   \n",
       "3  012_010_simulation-based-calibration-snakemake  run_sbc   \n",
       "4  012_010_simulation-based-calibration-snakemake  run_sbc   \n",
       "\n",
       "                       step  variable   value  \n",
       "0  sp2-default_MCMC_perm106  cpu_time  138.08  \n",
       "1  sp2-default_MCMC_perm447  cpu_time  156.21  \n",
       "2   sp2-default_MCMC_perm10  cpu_time  131.27  \n",
       "3   sp2-default_MCMC_perm82  cpu_time  115.00  \n",
       "4   sp2-default_MCMC_perm24  cpu_time  119.25  "
      ]
     },
     "execution_count": 1,
     "metadata": {},
     "output_type": "execute_result"
    }
   ],
   "source": [
    "benchmark_df_long = benchmark_df[\n",
    "    [\"pipeline\", \"rule\", \"step\", \"cpu_time\", \"max_rss\", \"mean_load\", \"cpu_time\"]\n",
    "].pivot_longer([\"pipeline\", \"rule\", \"step\"])\n",
    "\n",
    "benchmark_df_long.head()"
   ]
  },
  {
   "cell_type": "code",
   "execution_count": 7,
   "metadata": {
    "execution": {
     "iopub.execute_input": "2021-07-26T15:05:13.186954Z",
     "iopub.status.busy": "2021-07-26T15:05:13.186025Z",
     "iopub.status.idle": "2021-07-26T15:05:14.201099Z",
     "shell.execute_reply": "2021-07-26T15:05:14.201950Z"
    },
    "tags": []
   },
   "outputs": [
    {
     "data": {
      "text/plain": [
       "<seaborn.axisgrid.FacetGrid at 0x7fb62c7ed790>"
      ]
     },
     "execution_count": 1,
     "metadata": {},
     "output_type": "execute_result"
    },
    {
     "data": {
      "image/png": "[encoded data removed]",
      "text/plain": [
       "<Figure size 360x1080 with 3 Axes>"
      ]
     },
     "metadata": {
      "image/png": {
       "height": 1084,
       "width": 440
      },
      "needs_background": "light"
     },
     "output_type": "display_data"
    }
   ],
   "source": [
    "sns.catplot(\n",
    "    data=benchmark_df_long,\n",
    "    x=\"rule\",\n",
    "    y=\"value\",\n",
    "    kind=\"box\",\n",
    "    row=\"variable\",\n",
    "    col=\"pipeline\",\n",
    "    sharey=False,\n",
    ");"
   ]
  },
  {
   "cell_type": "markdown",
   "metadata": {},
   "source": [
    "---"
   ]
  },
  {
   "cell_type": "code",
   "execution_count": 8,
   "metadata": {
    "execution": {
     "iopub.execute_input": "2021-07-26T15:05:14.206227Z",
     "iopub.status.busy": "2021-07-26T15:05:14.205222Z",
     "iopub.status.idle": "2021-07-26T15:05:14.408883Z",
     "shell.execute_reply": "2021-07-26T15:05:14.409733Z"
    }
   },
   "outputs": [
    {
     "name": "stdout",
     "output_type": "stream",
     "text": [
      "Last updated: 2021-07-26\n",
      "\n",
      "Python implementation: CPython\n",
      "Python version       : 3.9.2\n",
      "IPython version      : 7.21.0\n",
      "\n",
      "Compiler    : GCC 9.3.0\n",
      "OS          : Linux\n",
      "Release     : 3.10.0-1062.el7.x86_64\n",
      "Machine     : x86_64\n",
      "Processor   : x86_64\n",
      "CPU cores   : 32\n",
      "Architecture: 64bit\n",
      "\n",
      "Hostname: compute-a-17-126.o2.rc.hms.harvard.edu\n",
      "\n",
      "Git branch: sbc-uniform-check\n",
      "\n",
      "seaborn : 0.11.1\n",
      "pandas  : 1.2.3\n",
      "janitor : 0.20.14\n",
      "plotnine: 0.7.1\n",
      "\n"
     ]
    }
   ],
   "source": [
    "%load_ext watermark\n",
    "%watermark -d -u -v -iv -b -h -m"
   ]
  }
 ],
 "metadata": {
  "interpreter": {
   "hash": "3085ca38df4f1aaf6729dbaacc5495b38b678ce6649b3c907f566975172f6d0a"
  },
  "kernelspec": {
   "display_name": "Python 3 (ipykernel)",
   "language": "python",
   "name": "python3"
  },
  "language_info": {
   "codemirror_mode": {
    "name": "ipython",
    "version": 3
   },
   "file_extension": ".py",
   "mimetype": "text/x-python",
   "name": "python",
   "nbconvert_exporter": "python",
   "pygments_lexer": "ipython3",
   "version": "3.9.2"
  }
 },
 "nbformat": 4,
 "nbformat_minor": 4
}
