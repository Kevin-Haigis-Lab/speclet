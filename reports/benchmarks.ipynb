{
 "metadata": {
  "language_info": {
   "codemirror_mode": {
    "name": "ipython",
    "version": 3
   },
   "file_extension": ".py",
   "mimetype": "text/x-python",
   "name": "python",
   "nbconvert_exporter": "python",
   "pygments_lexer": "ipython3",
   "version": "3.9.2"
  },
  "orig_nbformat": 4,
  "kernelspec": {
   "name": "python3",
   "display_name": "Python 3.9.2 64-bit ('speclet': conda)"
  },
  "interpreter": {
   "hash": "3085ca38df4f1aaf6729dbaacc5495b38b678ce6649b3c907f566975172f6d0a"
  }
 },
 "nbformat": 4,
 "nbformat_minor": 2,
 "cells": [
  {
   "cell_type": "code",
   "execution_count": 10,
   "metadata": {},
   "outputs": [],
   "source": [
    "from pathlib import Path\n",
    "from typing import List\n",
    "\n",
    "import altair as alt\n",
    "import janitor\n",
    "import pandas as pd"
   ]
  },
  {
   "cell_type": "code",
   "execution_count": 6,
   "metadata": {},
   "outputs": [],
   "source": [
    "benchmark_dir = Path(\"../benchmarks/\")\n",
    "assert benchmark_dir.exists()\n",
    "assert benchmark_dir.is_dir()"
   ]
  },
  {
   "source": [
    "## Data Processing"
   ],
   "cell_type": "markdown",
   "metadata": {}
  },
  {
   "source": [
    "Organization of benchmarks directory:\n",
    "\n",
    "1. pipeline\n",
    "2. rules\n",
    "3. individual runs\n",
    "\n",
    "> I may want to add more information to the name of the rules to keep them separate and not overwritten.\n",
    "> For instance, including the date would be useful or metadata such as the data size for SBC or debug status for the fitting pipeline."
   ],
   "cell_type": "markdown",
   "metadata": {}
  },
  {
   "cell_type": "code",
   "execution_count": 30,
   "metadata": {},
   "outputs": [
    {
     "output_type": "execute_result",
     "data": {
      "text/plain": [
       "           s    h_m_s  max_rss  max_vms  max_uss  max_pss   io_in  io_out  \\\n",
       "0   160.2274  0:02:40  1295.18  1938.04  1250.59  1271.62   39.25    4.05   \n",
       "1  1767.7202  0:29:27  1447.37  2517.04  1444.73  1444.91  803.91  102.04   \n",
       "2   131.3041  0:02:11  1285.27  1924.70  1282.27  1282.48    5.78    3.93   \n",
       "3   138.4463  0:02:18  1295.54  1948.86  1292.96  1293.05   34.23    4.71   \n",
       "4   135.3755  0:02:15  1281.48  1930.82  1278.91  1278.98    0.39    4.70   \n",
       "\n",
       "   mean_load  cpu_time                  step         rule  \\\n",
       "0      16.19     26.33           sp6-default  sample_advi   \n",
       "1      93.20   1647.72  sp4-default-fullrank  sample_advi   \n",
       "2      17.02     22.32           sp5-default  sample_advi   \n",
       "3      20.34     28.41  sp4-centered-copynum  sample_advi   \n",
       "4      16.47     22.57           sp2-default  sample_advi   \n",
       "\n",
       "                             pipeline  \n",
       "0  010_010_run-crc-sampling-snakemake  \n",
       "1  010_010_run-crc-sampling-snakemake  \n",
       "2  010_010_run-crc-sampling-snakemake  \n",
       "3  010_010_run-crc-sampling-snakemake  \n",
       "4  010_010_run-crc-sampling-snakemake  "
      ],
      "text/html": "<div>\n<style scoped>\n    .dataframe tbody tr th:only-of-type {\n        vertical-align: middle;\n    }\n\n    .dataframe tbody tr th {\n        vertical-align: top;\n    }\n\n    .dataframe thead th {\n        text-align: right;\n    }\n</style>\n<table border=\"1\" class=\"dataframe\">\n  <thead>\n    <tr style=\"text-align: right;\">\n      <th></th>\n      <th>s</th>\n      <th>h_m_s</th>\n      <th>max_rss</th>\n      <th>max_vms</th>\n      <th>max_uss</th>\n      <th>max_pss</th>\n      <th>io_in</th>\n      <th>io_out</th>\n      <th>mean_load</th>\n      <th>cpu_time</th>\n      <th>step</th>\n      <th>rule</th>\n      <th>pipeline</th>\n    </tr>\n  </thead>\n  <tbody>\n    <tr>\n      <th>0</th>\n      <td>160.2274</td>\n      <td>0:02:40</td>\n      <td>1295.18</td>\n      <td>1938.04</td>\n      <td>1250.59</td>\n      <td>1271.62</td>\n      <td>39.25</td>\n      <td>4.05</td>\n      <td>16.19</td>\n      <td>26.33</td>\n      <td>sp6-default</td>\n      <td>sample_advi</td>\n      <td>010_010_run-crc-sampling-snakemake</td>\n    </tr>\n    <tr>\n      <th>1</th>\n      <td>1767.7202</td>\n      <td>0:29:27</td>\n      <td>1447.37</td>\n      <td>2517.04</td>\n      <td>1444.73</td>\n      <td>1444.91</td>\n      <td>803.91</td>\n      <td>102.04</td>\n      <td>93.20</td>\n      <td>1647.72</td>\n      <td>sp4-default-fullrank</td>\n      <td>sample_advi</td>\n      <td>010_010_run-crc-sampling-snakemake</td>\n    </tr>\n    <tr>\n      <th>2</th>\n      <td>131.3041</td>\n      <td>0:02:11</td>\n      <td>1285.27</td>\n      <td>1924.70</td>\n      <td>1282.27</td>\n      <td>1282.48</td>\n      <td>5.78</td>\n      <td>3.93</td>\n      <td>17.02</td>\n      <td>22.32</td>\n      <td>sp5-default</td>\n      <td>sample_advi</td>\n      <td>010_010_run-crc-sampling-snakemake</td>\n    </tr>\n    <tr>\n      <th>3</th>\n      <td>138.4463</td>\n      <td>0:02:18</td>\n      <td>1295.54</td>\n      <td>1948.86</td>\n      <td>1292.96</td>\n      <td>1293.05</td>\n      <td>34.23</td>\n      <td>4.71</td>\n      <td>20.34</td>\n      <td>28.41</td>\n      <td>sp4-centered-copynum</td>\n      <td>sample_advi</td>\n      <td>010_010_run-crc-sampling-snakemake</td>\n    </tr>\n    <tr>\n      <th>4</th>\n      <td>135.3755</td>\n      <td>0:02:15</td>\n      <td>1281.48</td>\n      <td>1930.82</td>\n      <td>1278.91</td>\n      <td>1278.98</td>\n      <td>0.39</td>\n      <td>4.70</td>\n      <td>16.47</td>\n      <td>22.57</td>\n      <td>sp2-default</td>\n      <td>sample_advi</td>\n      <td>010_010_run-crc-sampling-snakemake</td>\n    </tr>\n  </tbody>\n</table>\n</div>"
     },
     "metadata": {},
     "execution_count": 30
    }
   ],
   "source": [
    "def process_benchmark_file(bench_f: Path) -> pd.DataFrame:\n",
    "    return pd.read_csv(bench_f, sep=\"\\t\").assign(\n",
    "        step=bench_f.name.replace(bench_f.suffix, \"\")\n",
    "    )\n",
    "\n",
    "\n",
    "def get_benchmark_data_for_rule_dir(rule_d: Path, pipeline_name: str) -> pd.DataFrame:\n",
    "    bench_dfs: List[pd.DataFrame] = [\n",
    "        process_benchmark_file(b) for b in rule_d.iterdir()\n",
    "    ]\n",
    "    return (\n",
    "        pd.concat(bench_dfs)\n",
    "        .assign(rule=rule_d.name, pipeline=pipeline_name)\n",
    "        .clean_names()\n",
    "    )\n",
    "\n",
    "\n",
    "benchmark_df_list: List[pd.DataFrame] = []\n",
    "\n",
    "for pipeline_dir in benchmark_dir.iterdir():\n",
    "    for rule_dir in pipeline_dir.iterdir():\n",
    "        benchmark_df_list.append(\n",
    "            get_benchmark_data_for_rule_dir(rule_dir, pipeline_name=pipeline_dir.name)\n",
    "        )\n",
    "\n",
    "benchmark_df = pd.concat(benchmark_df_list).reset_index(drop=True)\n",
    "benchmark_df.head()"
   ]
  },
  {
   "source": [
    "## Data dictionary\n",
    "\n",
    "| colname | type (unit) | description |\n",
    "|-------- |-------------|-------------|\n",
    "| s | float (seconds) | Running time in seconds. |\n",
    "| h:m:s\t| string (-) | Running time in hour, minutes, seconds format. |\n",
    "| max_rss | float (MB) | Maximum \"Resident Set Size”, this is the non-swapped physical memory a process has used. |\n",
    "| max_vms | float (MB) | Maximum “Virtual Memory Size”, this is the total amount of virtual memory used by the process. |\n",
    "| max_uss | float (MB) | “Unique Set Size”, this is the memory which is unique to a process and which would be freed if the process was terminated right now. |\n",
    "| max_pss | float (MB) | “Proportional Set Size”, is the amount of memory shared with other processes, accounted in a way that the amount is divided evenly between the processes that share it (Linux only). |\n",
    "| io_in | float (MB) | The number of MB read (cumulative). |\n",
    "| io_out | float (MB) | The number of MB written (cumulative). |\n",
    "| mean_load | float (-) | CPU usage over time, divided by the total running time (first row). |\n",
    "| cpu_time | float (-) | CPU time summed for user and system. |"
   ],
   "cell_type": "markdown",
   "metadata": {}
  },
  {
   "source": [
    "## Data analysis and visualization"
   ],
   "cell_type": "markdown",
   "metadata": {}
  },
  {
   "cell_type": "code",
   "execution_count": 53,
   "metadata": {},
   "outputs": [
    {
     "output_type": "execute_result",
     "data": {
      "text/plain": [
       "                                                      s  max_rss  max_vms  \\\n",
       "pipeline                           rule                                     \n",
       "010_010_run-crc-sampling-snakemake sample_advi   309.92  1304.34  2023.15   \n",
       "                                   sample_mcmc  1512.58  1439.86  2333.38   \n",
       "\n",
       "                                                max_uss  max_pss   io_in  \\\n",
       "pipeline                           rule                                    \n",
       "010_010_run-crc-sampling-snakemake sample_advi  1297.18  1299.43  166.95   \n",
       "                                   sample_mcmc  1429.85  1433.68  320.52   \n",
       "\n",
       "                                                io_out  mean_load  cpu_time  \n",
       "pipeline                           rule                                      \n",
       "010_010_run-crc-sampling-snakemake sample_advi   14.03      24.80    186.06  \n",
       "                                   sample_mcmc   47.70      80.13   1267.32  "
      ],
      "text/html": "<div>\n<style scoped>\n    .dataframe tbody tr th:only-of-type {\n        vertical-align: middle;\n    }\n\n    .dataframe tbody tr th {\n        vertical-align: top;\n    }\n\n    .dataframe thead th {\n        text-align: right;\n    }\n</style>\n<table border=\"1\" class=\"dataframe\">\n  <thead>\n    <tr style=\"text-align: right;\">\n      <th></th>\n      <th></th>\n      <th>s</th>\n      <th>max_rss</th>\n      <th>max_vms</th>\n      <th>max_uss</th>\n      <th>max_pss</th>\n      <th>io_in</th>\n      <th>io_out</th>\n      <th>mean_load</th>\n      <th>cpu_time</th>\n    </tr>\n    <tr>\n      <th>pipeline</th>\n      <th>rule</th>\n      <th></th>\n      <th></th>\n      <th></th>\n      <th></th>\n      <th></th>\n      <th></th>\n      <th></th>\n      <th></th>\n      <th></th>\n    </tr>\n  </thead>\n  <tbody>\n    <tr>\n      <th rowspan=\"2\" valign=\"top\">010_010_run-crc-sampling-snakemake</th>\n      <th>sample_advi</th>\n      <td>309.92</td>\n      <td>1304.34</td>\n      <td>2023.15</td>\n      <td>1297.18</td>\n      <td>1299.43</td>\n      <td>166.95</td>\n      <td>14.03</td>\n      <td>24.80</td>\n      <td>186.06</td>\n    </tr>\n    <tr>\n      <th>sample_mcmc</th>\n      <td>1512.58</td>\n      <td>1439.86</td>\n      <td>2333.38</td>\n      <td>1429.85</td>\n      <td>1433.68</td>\n      <td>320.52</td>\n      <td>47.70</td>\n      <td>80.13</td>\n      <td>1267.32</td>\n    </tr>\n  </tbody>\n</table>\n</div>"
     },
     "metadata": {},
     "execution_count": 53
    }
   ],
   "source": [
    "benchmark_df.groupby([\"pipeline\", \"rule\"]).mean().round(2)"
   ]
  },
  {
   "cell_type": "code",
   "execution_count": 51,
   "metadata": {},
   "outputs": [
    {
     "output_type": "execute_result",
     "data": {
      "text/html": "\n<div id=\"altair-viz-33994c88f7cd40eba16d460a67ce6b23\"></div>\n<script type=\"text/javascript\">\n  (function(spec, embedOpt){\n    let outputDiv = document.currentScript.previousElementSibling;\n    if (outputDiv.id !== \"altair-viz-33994c88f7cd40eba16d460a67ce6b23\") {\n      outputDiv = document.getElementById(\"altair-viz-33994c88f7cd40eba16d460a67ce6b23\");\n    }\n    const paths = {\n      \"vega\": \"https://cdn.jsdelivr.net/npm//vega@5?noext\",\n      \"vega-lib\": \"https://cdn.jsdelivr.net/npm//vega-lib?noext\",\n      \"vega-lite\": \"https://cdn.jsdelivr.net/npm//vega-lite@4.8.1?noext\",\n      \"vega-embed\": \"https://cdn.jsdelivr.net/npm//vega-embed@6?noext\",\n    };\n\n    function loadScript(lib) {\n      return new Promise(function(resolve, reject) {\n        var s = document.createElement('script');\n        s.src = paths[lib];\n        s.async = true;\n        s.onload = () => resolve(paths[lib]);\n        s.onerror = () => reject(`Error loading script: ${paths[lib]}`);\n        document.getElementsByTagName(\"head\")[0].appendChild(s);\n      });\n    }\n\n    function showError(err) {\n      outputDiv.innerHTML = `<div class=\"error\" style=\"color:red;\">${err}</div>`;\n      throw err;\n    }\n\n    function displayChart(vegaEmbed) {\n      vegaEmbed(outputDiv, spec, embedOpt)\n        .catch(err => showError(`Javascript Error: ${err.message}<br>This usually means there's a typo in your chart specification. See the javascript console for the full traceback.`));\n    }\n\n    if(typeof define === \"function\" && define.amd) {\n      requirejs.config({paths});\n      require([\"vega-embed\"], displayChart, err => showError(`Error loading script: ${err.message}`));\n    } else if (typeof vegaEmbed === \"function\") {\n      displayChart(vegaEmbed);\n    } else {\n      loadScript(\"vega\")\n        .then(() => loadScript(\"vega-lite\"))\n        .then(() => loadScript(\"vega-embed\"))\n        .catch(showError)\n        .then(() => displayChart(vegaEmbed));\n    }\n  })({\"config\": {\"view\": {\"continuousWidth\": 400, \"continuousHeight\": 300}}, \"data\": {\"name\": \"data-c630aeaeba6340b8780d3df4698030a8\"}, \"mark\": {\"type\": \"boxplot\", \"size\": 50}, \"encoding\": {\"column\": {\"type\": \"nominal\", \"field\": \"pipeline\"}, \"row\": {\"type\": \"nominal\", \"field\": \"variable\", \"title\": \"\"}, \"tooltip\": [], \"x\": {\"type\": \"nominal\", \"field\": \"rule\"}, \"y\": {\"type\": \"quantitative\", \"field\": \"value\", \"title\": \"\"}}, \"height\": 100, \"resolve\": {\"scale\": {\"y\": \"independent\"}}, \"width\": 200, \"$schema\": \"https://vega.github.io/schema/vega-lite/v4.8.1.json\", \"datasets\": {\"data-c630aeaeba6340b8780d3df4698030a8\": [{\"pipeline\": \"010_010_run-crc-sampling-snakemake\", \"rule\": \"sample_advi\", \"step\": \"sp6-default\", \"variable\": \"cpu_time\", \"value\": 26.33}, {\"pipeline\": \"010_010_run-crc-sampling-snakemake\", \"rule\": \"sample_advi\", \"step\": \"sp4-default-fullrank\", \"variable\": \"cpu_time\", \"value\": 1647.72}, {\"pipeline\": \"010_010_run-crc-sampling-snakemake\", \"rule\": \"sample_advi\", \"step\": \"sp5-default\", \"variable\": \"cpu_time\", \"value\": 22.32}, {\"pipeline\": \"010_010_run-crc-sampling-snakemake\", \"rule\": \"sample_advi\", \"step\": \"sp4-centered-copynum\", \"variable\": \"cpu_time\", \"value\": 28.41}, {\"pipeline\": \"010_010_run-crc-sampling-snakemake\", \"rule\": \"sample_advi\", \"step\": \"sp2-default\", \"variable\": \"cpu_time\", \"value\": 22.57}, {\"pipeline\": \"010_010_run-crc-sampling-snakemake\", \"rule\": \"sample_advi\", \"step\": \"sp7-default\", \"variable\": \"cpu_time\", \"value\": 20.99}, {\"pipeline\": \"010_010_run-crc-sampling-snakemake\", \"rule\": \"sample_advi\", \"step\": \"sp5-noncentered\", \"variable\": \"cpu_time\", \"value\": 20.43}, {\"pipeline\": \"010_010_run-crc-sampling-snakemake\", \"rule\": \"sample_advi\", \"step\": \"sp4-default\", \"variable\": \"cpu_time\", \"value\": 22.47}, {\"pipeline\": \"010_010_run-crc-sampling-snakemake\", \"rule\": \"sample_advi\", \"step\": \"sp4-noncentered\", \"variable\": \"cpu_time\", \"value\": 22.6}, {\"pipeline\": \"010_010_run-crc-sampling-snakemake\", \"rule\": \"sample_advi\", \"step\": \"sp4-noncentered-copynum\", \"variable\": \"cpu_time\", \"value\": 26.81}, {\"pipeline\": \"010_010_run-crc-sampling-snakemake\", \"rule\": \"sample_mcmc\", \"step\": \"sp5-noncentered_chain0\", \"variable\": \"cpu_time\", \"value\": 611.22}, {\"pipeline\": \"010_010_run-crc-sampling-snakemake\", \"rule\": \"sample_mcmc\", \"step\": \"sp5-default_chain0\", \"variable\": \"cpu_time\", \"value\": 360.72}, {\"pipeline\": \"010_010_run-crc-sampling-snakemake\", \"rule\": \"sample_mcmc\", \"step\": \"sp5-default_chain1\", \"variable\": \"cpu_time\", \"value\": 329.62}, {\"pipeline\": \"010_010_run-crc-sampling-snakemake\", \"rule\": \"sample_mcmc\", \"step\": \"sp5-noncentered_chain1\", \"variable\": \"cpu_time\", \"value\": 597.2}, {\"pipeline\": \"010_010_run-crc-sampling-snakemake\", \"rule\": \"sample_mcmc\", \"step\": \"sp5-noncentered_chain3\", \"variable\": \"cpu_time\", \"value\": 614.21}, {\"pipeline\": \"010_010_run-crc-sampling-snakemake\", \"rule\": \"sample_mcmc\", \"step\": \"sp5-default_chain3\", \"variable\": \"cpu_time\", \"value\": 394.14}, {\"pipeline\": \"010_010_run-crc-sampling-snakemake\", \"rule\": \"sample_mcmc\", \"step\": \"sp5-default_chain2\", \"variable\": \"cpu_time\", \"value\": 374.15}, {\"pipeline\": \"010_010_run-crc-sampling-snakemake\", \"rule\": \"sample_mcmc\", \"step\": \"sp5-noncentered_chain2\", \"variable\": \"cpu_time\", \"value\": 635.52}, {\"pipeline\": \"010_010_run-crc-sampling-snakemake\", \"rule\": \"sample_mcmc\", \"step\": \"sp6-default_chain2\", \"variable\": \"cpu_time\", \"value\": 1967.62}, {\"pipeline\": \"010_010_run-crc-sampling-snakemake\", \"rule\": \"sample_mcmc\", \"step\": \"sp6-default_chain3\", \"variable\": \"cpu_time\", \"value\": 2179.39}, {\"pipeline\": \"010_010_run-crc-sampling-snakemake\", \"rule\": \"sample_mcmc\", \"step\": \"sp6-default_chain1\", \"variable\": \"cpu_time\", \"value\": 1856.39}, {\"pipeline\": \"010_010_run-crc-sampling-snakemake\", \"rule\": \"sample_mcmc\", \"step\": \"sp6-default_chain0\", \"variable\": \"cpu_time\", \"value\": 1865.28}, {\"pipeline\": \"010_010_run-crc-sampling-snakemake\", \"rule\": \"sample_mcmc\", \"step\": \"sp4-centered-copynum_chain2\", \"variable\": \"cpu_time\", \"value\": 1539.18}, {\"pipeline\": \"010_010_run-crc-sampling-snakemake\", \"rule\": \"sample_mcmc\", \"step\": \"sp4-centered-copynum_chain3\", \"variable\": \"cpu_time\", \"value\": 874.76}, {\"pipeline\": \"010_010_run-crc-sampling-snakemake\", \"rule\": \"sample_mcmc\", \"step\": \"sp4-centered-copynum_chain1\", \"variable\": \"cpu_time\", \"value\": 891.48}, {\"pipeline\": \"010_010_run-crc-sampling-snakemake\", \"rule\": \"sample_mcmc\", \"step\": \"sp4-centered-copynum_chain0\", \"variable\": \"cpu_time\", \"value\": 1436.22}, {\"pipeline\": \"010_010_run-crc-sampling-snakemake\", \"rule\": \"sample_mcmc\", \"step\": \"sp4-noncentered_chain2\", \"variable\": \"cpu_time\", \"value\": 1858.29}, {\"pipeline\": \"010_010_run-crc-sampling-snakemake\", \"rule\": \"sample_mcmc\", \"step\": \"sp4-noncentered-copynum_chain2\", \"variable\": \"cpu_time\", \"value\": 1995.04}, {\"pipeline\": \"010_010_run-crc-sampling-snakemake\", \"rule\": \"sample_mcmc\", \"step\": \"sp4-noncentered-copynum_chain3\", \"variable\": \"cpu_time\", \"value\": 1812.74}, {\"pipeline\": \"010_010_run-crc-sampling-snakemake\", \"rule\": \"sample_mcmc\", \"step\": \"sp4-noncentered_chain3\", \"variable\": \"cpu_time\", \"value\": 3008.48}, {\"pipeline\": \"010_010_run-crc-sampling-snakemake\", \"rule\": \"sample_mcmc\", \"step\": \"sp4-noncentered_chain1\", \"variable\": \"cpu_time\", \"value\": 1691.11}, {\"pipeline\": \"010_010_run-crc-sampling-snakemake\", \"rule\": \"sample_mcmc\", \"step\": \"sp4-noncentered-copynum_chain1\", \"variable\": \"cpu_time\", \"value\": 2008.26}, {\"pipeline\": \"010_010_run-crc-sampling-snakemake\", \"rule\": \"sample_mcmc\", \"step\": \"sp4-noncentered-copynum_chain0\", \"variable\": \"cpu_time\", \"value\": 1881.07}, {\"pipeline\": \"010_010_run-crc-sampling-snakemake\", \"rule\": \"sample_mcmc\", \"step\": \"sp4-noncentered_chain0\", \"variable\": \"cpu_time\", \"value\": 1736.99}, {\"pipeline\": \"010_010_run-crc-sampling-snakemake\", \"rule\": \"sample_mcmc\", \"step\": \"sp2-default_chain2\", \"variable\": \"cpu_time\", \"value\": 163.77}, {\"pipeline\": \"010_010_run-crc-sampling-snakemake\", \"rule\": \"sample_mcmc\", \"step\": \"sp2-default_chain3\", \"variable\": \"cpu_time\", \"value\": 198.38}, {\"pipeline\": \"010_010_run-crc-sampling-snakemake\", \"rule\": \"sample_mcmc\", \"step\": \"sp2-default_chain1\", \"variable\": \"cpu_time\", \"value\": 197.8}, {\"pipeline\": \"010_010_run-crc-sampling-snakemake\", \"rule\": \"sample_mcmc\", \"step\": \"sp2-default_chain0\", \"variable\": \"cpu_time\", \"value\": 158.53}, {\"pipeline\": \"010_010_run-crc-sampling-snakemake\", \"rule\": \"sample_mcmc\", \"step\": \"sp7-default_chain3\", \"variable\": \"cpu_time\", \"value\": 2043.36}, {\"pipeline\": \"010_010_run-crc-sampling-snakemake\", \"rule\": \"sample_mcmc\", \"step\": \"sp7-default_chain2\", \"variable\": \"cpu_time\", \"value\": 2000.91}, {\"pipeline\": \"010_010_run-crc-sampling-snakemake\", \"rule\": \"sample_mcmc\", \"step\": \"sp7-default_chain0\", \"variable\": \"cpu_time\", \"value\": 2121.29}, {\"pipeline\": \"010_010_run-crc-sampling-snakemake\", \"rule\": \"sample_mcmc\", \"step\": \"sp7-default_chain1\", \"variable\": \"cpu_time\", \"value\": 1892.01}, {\"pipeline\": \"010_010_run-crc-sampling-snakemake\", \"rule\": \"sample_mcmc\", \"step\": \"sp4-default_chain1\", \"variable\": \"cpu_time\", \"value\": 971.0}, {\"pipeline\": \"010_010_run-crc-sampling-snakemake\", \"rule\": \"sample_mcmc\", \"step\": \"sp4-default_chain0\", \"variable\": \"cpu_time\", \"value\": 926.15}, {\"pipeline\": \"010_010_run-crc-sampling-snakemake\", \"rule\": \"sample_mcmc\", \"step\": \"sp4-default_chain2\", \"variable\": \"cpu_time\", \"value\": 1383.81}, {\"pipeline\": \"010_010_run-crc-sampling-snakemake\", \"rule\": \"sample_mcmc\", \"step\": \"sp4-default_chain3\", \"variable\": \"cpu_time\", \"value\": 1047.34}, {\"pipeline\": \"010_010_run-crc-sampling-snakemake\", \"rule\": \"sample_advi\", \"step\": \"sp6-default\", \"variable\": \"max_rss\", \"value\": 1295.18}, {\"pipeline\": \"010_010_run-crc-sampling-snakemake\", \"rule\": \"sample_advi\", \"step\": \"sp4-default-fullrank\", \"variable\": \"max_rss\", \"value\": 1447.37}, {\"pipeline\": \"010_010_run-crc-sampling-snakemake\", \"rule\": \"sample_advi\", \"step\": \"sp5-default\", \"variable\": \"max_rss\", \"value\": 1285.27}, {\"pipeline\": \"010_010_run-crc-sampling-snakemake\", \"rule\": \"sample_advi\", \"step\": \"sp4-centered-copynum\", \"variable\": \"max_rss\", \"value\": 1295.54}, {\"pipeline\": \"010_010_run-crc-sampling-snakemake\", \"rule\": \"sample_advi\", \"step\": \"sp2-default\", \"variable\": \"max_rss\", \"value\": 1281.48}, {\"pipeline\": \"010_010_run-crc-sampling-snakemake\", \"rule\": \"sample_advi\", \"step\": \"sp7-default\", \"variable\": \"max_rss\", \"value\": 1301.98}, {\"pipeline\": \"010_010_run-crc-sampling-snakemake\", \"rule\": \"sample_advi\", \"step\": \"sp5-noncentered\", \"variable\": \"max_rss\", \"value\": 1277.66}, {\"pipeline\": \"010_010_run-crc-sampling-snakemake\", \"rule\": \"sample_advi\", \"step\": \"sp4-default\", \"variable\": \"max_rss\", \"value\": 1285.94}, {\"pipeline\": \"010_010_run-crc-sampling-snakemake\", \"rule\": \"sample_advi\", \"step\": \"sp4-noncentered\", \"variable\": \"max_rss\", \"value\": 1284.8}, {\"pipeline\": \"010_010_run-crc-sampling-snakemake\", \"rule\": \"sample_advi\", \"step\": \"sp4-noncentered-copynum\", \"variable\": \"max_rss\", \"value\": 1288.16}, {\"pipeline\": \"010_010_run-crc-sampling-snakemake\", \"rule\": \"sample_mcmc\", \"step\": \"sp5-noncentered_chain0\", \"variable\": \"max_rss\", \"value\": 1390.63}, {\"pipeline\": \"010_010_run-crc-sampling-snakemake\", \"rule\": \"sample_mcmc\", \"step\": \"sp5-default_chain0\", \"variable\": \"max_rss\", \"value\": 1370.79}, {\"pipeline\": \"010_010_run-crc-sampling-snakemake\", \"rule\": \"sample_mcmc\", \"step\": \"sp5-default_chain1\", \"variable\": \"max_rss\", \"value\": 1358.33}, {\"pipeline\": \"010_010_run-crc-sampling-snakemake\", \"rule\": \"sample_mcmc\", \"step\": \"sp5-noncentered_chain1\", \"variable\": \"max_rss\", \"value\": 1402.98}, {\"pipeline\": \"010_010_run-crc-sampling-snakemake\", \"rule\": \"sample_mcmc\", \"step\": \"sp5-noncentered_chain3\", \"variable\": \"max_rss\", \"value\": 1402.43}, {\"pipeline\": \"010_010_run-crc-sampling-snakemake\", \"rule\": \"sample_mcmc\", \"step\": \"sp5-default_chain3\", \"variable\": \"max_rss\", \"value\": 1378.41}, {\"pipeline\": \"010_010_run-crc-sampling-snakemake\", \"rule\": \"sample_mcmc\", \"step\": \"sp5-default_chain2\", \"variable\": \"max_rss\", \"value\": 1370.21}, {\"pipeline\": \"010_010_run-crc-sampling-snakemake\", \"rule\": \"sample_mcmc\", \"step\": \"sp5-noncentered_chain2\", \"variable\": \"max_rss\", \"value\": 1390.21}, {\"pipeline\": \"010_010_run-crc-sampling-snakemake\", \"rule\": \"sample_mcmc\", \"step\": \"sp6-default_chain2\", \"variable\": \"max_rss\", \"value\": 1500.79}, {\"pipeline\": \"010_010_run-crc-sampling-snakemake\", \"rule\": \"sample_mcmc\", \"step\": \"sp6-default_chain3\", \"variable\": \"max_rss\", \"value\": 1462.01}, {\"pipeline\": \"010_010_run-crc-sampling-snakemake\", \"rule\": \"sample_mcmc\", \"step\": \"sp6-default_chain1\", \"variable\": \"max_rss\", \"value\": 1447.26}, {\"pipeline\": \"010_010_run-crc-sampling-snakemake\", \"rule\": \"sample_mcmc\", \"step\": \"sp6-default_chain0\", \"variable\": \"max_rss\", \"value\": 1552.29}, {\"pipeline\": \"010_010_run-crc-sampling-snakemake\", \"rule\": \"sample_mcmc\", \"step\": \"sp4-centered-copynum_chain2\", \"variable\": \"max_rss\", \"value\": 1438.24}, {\"pipeline\": \"010_010_run-crc-sampling-snakemake\", \"rule\": \"sample_mcmc\", \"step\": \"sp4-centered-copynum_chain3\", \"variable\": \"max_rss\", \"value\": 1410.36}, {\"pipeline\": \"010_010_run-crc-sampling-snakemake\", \"rule\": \"sample_mcmc\", \"step\": \"sp4-centered-copynum_chain1\", \"variable\": \"max_rss\", \"value\": 1444.84}, {\"pipeline\": \"010_010_run-crc-sampling-snakemake\", \"rule\": \"sample_mcmc\", \"step\": \"sp4-centered-copynum_chain0\", \"variable\": \"max_rss\", \"value\": 1425.09}, {\"pipeline\": \"010_010_run-crc-sampling-snakemake\", \"rule\": \"sample_mcmc\", \"step\": \"sp4-noncentered_chain2\", \"variable\": \"max_rss\", \"value\": 1501.35}, {\"pipeline\": \"010_010_run-crc-sampling-snakemake\", \"rule\": \"sample_mcmc\", \"step\": \"sp4-noncentered-copynum_chain2\", \"variable\": \"max_rss\", \"value\": 1425.93}, {\"pipeline\": \"010_010_run-crc-sampling-snakemake\", \"rule\": \"sample_mcmc\", \"step\": \"sp4-noncentered-copynum_chain3\", \"variable\": \"max_rss\", \"value\": 1469.34}, {\"pipeline\": \"010_010_run-crc-sampling-snakemake\", \"rule\": \"sample_mcmc\", \"step\": \"sp4-noncentered_chain3\", \"variable\": \"max_rss\", \"value\": 1452.1}, {\"pipeline\": \"010_010_run-crc-sampling-snakemake\", \"rule\": \"sample_mcmc\", \"step\": \"sp4-noncentered_chain1\", \"variable\": \"max_rss\", \"value\": 1451.43}, {\"pipeline\": \"010_010_run-crc-sampling-snakemake\", \"rule\": \"sample_mcmc\", \"step\": \"sp4-noncentered-copynum_chain1\", \"variable\": \"max_rss\", \"value\": 1516.52}, {\"pipeline\": \"010_010_run-crc-sampling-snakemake\", \"rule\": \"sample_mcmc\", \"step\": \"sp4-noncentered-copynum_chain0\", \"variable\": \"max_rss\", \"value\": 1430.52}, {\"pipeline\": \"010_010_run-crc-sampling-snakemake\", \"rule\": \"sample_mcmc\", \"step\": \"sp4-noncentered_chain0\", \"variable\": \"max_rss\", \"value\": 1426.0}, {\"pipeline\": \"010_010_run-crc-sampling-snakemake\", \"rule\": \"sample_mcmc\", \"step\": \"sp2-default_chain2\", \"variable\": \"max_rss\", \"value\": 1454.91}, {\"pipeline\": \"010_010_run-crc-sampling-snakemake\", \"rule\": \"sample_mcmc\", \"step\": \"sp2-default_chain3\", \"variable\": \"max_rss\", \"value\": 1400.55}, {\"pipeline\": \"010_010_run-crc-sampling-snakemake\", \"rule\": \"sample_mcmc\", \"step\": \"sp2-default_chain1\", \"variable\": \"max_rss\", \"value\": 1393.86}, {\"pipeline\": \"010_010_run-crc-sampling-snakemake\", \"rule\": \"sample_mcmc\", \"step\": \"sp2-default_chain0\", \"variable\": \"max_rss\", \"value\": 1414.7}, {\"pipeline\": \"010_010_run-crc-sampling-snakemake\", \"rule\": \"sample_mcmc\", \"step\": \"sp7-default_chain3\", \"variable\": \"max_rss\", \"value\": 1601.46}, {\"pipeline\": \"010_010_run-crc-sampling-snakemake\", \"rule\": \"sample_mcmc\", \"step\": \"sp7-default_chain2\", \"variable\": \"max_rss\", \"value\": 1478.08}, {\"pipeline\": \"010_010_run-crc-sampling-snakemake\", \"rule\": \"sample_mcmc\", \"step\": \"sp7-default_chain0\", \"variable\": \"max_rss\", \"value\": 1570.75}, {\"pipeline\": \"010_010_run-crc-sampling-snakemake\", \"rule\": \"sample_mcmc\", \"step\": \"sp7-default_chain1\", \"variable\": \"max_rss\", \"value\": 1491.8}, {\"pipeline\": \"010_010_run-crc-sampling-snakemake\", \"rule\": \"sample_mcmc\", \"step\": \"sp4-default_chain1\", \"variable\": \"max_rss\", \"value\": 1387.11}, {\"pipeline\": \"010_010_run-crc-sampling-snakemake\", \"rule\": \"sample_mcmc\", \"step\": \"sp4-default_chain0\", \"variable\": \"max_rss\", \"value\": 1396.42}, {\"pipeline\": \"010_010_run-crc-sampling-snakemake\", \"rule\": \"sample_mcmc\", \"step\": \"sp4-default_chain2\", \"variable\": \"max_rss\", \"value\": 1396.11}, {\"pipeline\": \"010_010_run-crc-sampling-snakemake\", \"rule\": \"sample_mcmc\", \"step\": \"sp4-default_chain3\", \"variable\": \"max_rss\", \"value\": 1431.29}, {\"pipeline\": \"010_010_run-crc-sampling-snakemake\", \"rule\": \"sample_advi\", \"step\": \"sp6-default\", \"variable\": \"mean_load\", \"value\": 16.19}, {\"pipeline\": \"010_010_run-crc-sampling-snakemake\", \"rule\": \"sample_advi\", \"step\": \"sp4-default-fullrank\", \"variable\": \"mean_load\", \"value\": 93.2}, {\"pipeline\": \"010_010_run-crc-sampling-snakemake\", \"rule\": \"sample_advi\", \"step\": \"sp5-default\", \"variable\": \"mean_load\", \"value\": 17.02}, {\"pipeline\": \"010_010_run-crc-sampling-snakemake\", \"rule\": \"sample_advi\", \"step\": \"sp4-centered-copynum\", \"variable\": \"mean_load\", \"value\": 20.34}, {\"pipeline\": \"010_010_run-crc-sampling-snakemake\", \"rule\": \"sample_advi\", \"step\": \"sp2-default\", \"variable\": \"mean_load\", \"value\": 16.47}, {\"pipeline\": \"010_010_run-crc-sampling-snakemake\", \"rule\": \"sample_advi\", \"step\": \"sp7-default\", \"variable\": \"mean_load\", \"value\": 16.32}, {\"pipeline\": \"010_010_run-crc-sampling-snakemake\", \"rule\": \"sample_advi\", \"step\": \"sp5-noncentered\", \"variable\": \"mean_load\", \"value\": 30.38}, {\"pipeline\": \"010_010_run-crc-sampling-snakemake\", \"rule\": \"sample_advi\", \"step\": \"sp4-default\", \"variable\": \"mean_load\", \"value\": 11.58}, {\"pipeline\": \"010_010_run-crc-sampling-snakemake\", \"rule\": \"sample_advi\", \"step\": \"sp4-noncentered\", \"variable\": \"mean_load\", \"value\": 14.53}, {\"pipeline\": \"010_010_run-crc-sampling-snakemake\", \"rule\": \"sample_advi\", \"step\": \"sp4-noncentered-copynum\", \"variable\": \"mean_load\", \"value\": 11.94}, {\"pipeline\": \"010_010_run-crc-sampling-snakemake\", \"rule\": \"sample_mcmc\", \"step\": \"sp5-noncentered_chain0\", \"variable\": \"mean_load\", \"value\": 82.84}, {\"pipeline\": \"010_010_run-crc-sampling-snakemake\", \"rule\": \"sample_mcmc\", \"step\": \"sp5-default_chain0\", \"variable\": \"mean_load\", \"value\": 59.99}, {\"pipeline\": \"010_010_run-crc-sampling-snakemake\", \"rule\": \"sample_mcmc\", \"step\": \"sp5-default_chain1\", \"variable\": \"mean_load\", \"value\": 73.85}, {\"pipeline\": \"010_010_run-crc-sampling-snakemake\", \"rule\": \"sample_mcmc\", \"step\": \"sp5-noncentered_chain1\", \"variable\": \"mean_load\", \"value\": 61.44}, {\"pipeline\": \"010_010_run-crc-sampling-snakemake\", \"rule\": \"sample_mcmc\", \"step\": \"sp5-noncentered_chain3\", \"variable\": \"mean_load\", \"value\": 63.0}, {\"pipeline\": \"010_010_run-crc-sampling-snakemake\", \"rule\": \"sample_mcmc\", \"step\": \"sp5-default_chain3\", \"variable\": \"mean_load\", \"value\": 51.76}, {\"pipeline\": \"010_010_run-crc-sampling-snakemake\", \"rule\": \"sample_mcmc\", \"step\": \"sp5-default_chain2\", \"variable\": \"mean_load\", \"value\": 86.11}, {\"pipeline\": \"010_010_run-crc-sampling-snakemake\", \"rule\": \"sample_mcmc\", \"step\": \"sp5-noncentered_chain2\", \"variable\": \"mean_load\", \"value\": 64.37}, {\"pipeline\": \"010_010_run-crc-sampling-snakemake\", \"rule\": \"sample_mcmc\", \"step\": \"sp6-default_chain2\", \"variable\": \"mean_load\", \"value\": 82.35}, {\"pipeline\": \"010_010_run-crc-sampling-snakemake\", \"rule\": \"sample_mcmc\", \"step\": \"sp6-default_chain3\", \"variable\": \"mean_load\", \"value\": 83.8}, {\"pipeline\": \"010_010_run-crc-sampling-snakemake\", \"rule\": \"sample_mcmc\", \"step\": \"sp6-default_chain1\", \"variable\": \"mean_load\", \"value\": 83.53}, {\"pipeline\": \"010_010_run-crc-sampling-snakemake\", \"rule\": \"sample_mcmc\", \"step\": \"sp6-default_chain0\", \"variable\": \"mean_load\", \"value\": 81.67}, {\"pipeline\": \"010_010_run-crc-sampling-snakemake\", \"rule\": \"sample_mcmc\", \"step\": \"sp4-centered-copynum_chain2\", \"variable\": \"mean_load\", \"value\": 97.15}, {\"pipeline\": \"010_010_run-crc-sampling-snakemake\", \"rule\": \"sample_mcmc\", \"step\": \"sp4-centered-copynum_chain3\", \"variable\": \"mean_load\", \"value\": 77.08}, {\"pipeline\": \"010_010_run-crc-sampling-snakemake\", \"rule\": \"sample_mcmc\", \"step\": \"sp4-centered-copynum_chain1\", \"variable\": \"mean_load\", \"value\": 94.23}, {\"pipeline\": \"010_010_run-crc-sampling-snakemake\", \"rule\": \"sample_mcmc\", \"step\": \"sp4-centered-copynum_chain0\", \"variable\": \"mean_load\", \"value\": 78.45}, {\"pipeline\": \"010_010_run-crc-sampling-snakemake\", \"rule\": \"sample_mcmc\", \"step\": \"sp4-noncentered_chain2\", \"variable\": \"mean_load\", \"value\": 87.76}, {\"pipeline\": \"010_010_run-crc-sampling-snakemake\", \"rule\": \"sample_mcmc\", \"step\": \"sp4-noncentered-copynum_chain2\", \"variable\": \"mean_load\", \"value\": 87.13}, {\"pipeline\": \"010_010_run-crc-sampling-snakemake\", \"rule\": \"sample_mcmc\", \"step\": \"sp4-noncentered-copynum_chain3\", \"variable\": \"mean_load\", \"value\": 85.6}, {\"pipeline\": \"010_010_run-crc-sampling-snakemake\", \"rule\": \"sample_mcmc\", \"step\": \"sp4-noncentered_chain3\", \"variable\": \"mean_load\", \"value\": 90.79}, {\"pipeline\": \"010_010_run-crc-sampling-snakemake\", \"rule\": \"sample_mcmc\", \"step\": \"sp4-noncentered_chain1\", \"variable\": \"mean_load\", \"value\": 94.05}, {\"pipeline\": \"010_010_run-crc-sampling-snakemake\", \"rule\": \"sample_mcmc\", \"step\": \"sp4-noncentered-copynum_chain1\", \"variable\": \"mean_load\", \"value\": 87.62}, {\"pipeline\": \"010_010_run-crc-sampling-snakemake\", \"rule\": \"sample_mcmc\", \"step\": \"sp4-noncentered-copynum_chain0\", \"variable\": \"mean_load\", \"value\": 97.59}, {\"pipeline\": \"010_010_run-crc-sampling-snakemake\", \"rule\": \"sample_mcmc\", \"step\": \"sp4-noncentered_chain0\", \"variable\": \"mean_load\", \"value\": 85.41}, {\"pipeline\": \"010_010_run-crc-sampling-snakemake\", \"rule\": \"sample_mcmc\", \"step\": \"sp2-default_chain2\", \"variable\": \"mean_load\", \"value\": 35.09}, {\"pipeline\": \"010_010_run-crc-sampling-snakemake\", \"rule\": \"sample_mcmc\", \"step\": \"sp2-default_chain3\", \"variable\": \"mean_load\", \"value\": 75.05}, {\"pipeline\": \"010_010_run-crc-sampling-snakemake\", \"rule\": \"sample_mcmc\", \"step\": \"sp2-default_chain1\", \"variable\": \"mean_load\", \"value\": 76.15}, {\"pipeline\": \"010_010_run-crc-sampling-snakemake\", \"rule\": \"sample_mcmc\", \"step\": \"sp2-default_chain0\", \"variable\": \"mean_load\", \"value\": 71.34}, {\"pipeline\": \"010_010_run-crc-sampling-snakemake\", \"rule\": \"sample_mcmc\", \"step\": \"sp7-default_chain3\", \"variable\": \"mean_load\", \"value\": 83.56}, {\"pipeline\": \"010_010_run-crc-sampling-snakemake\", \"rule\": \"sample_mcmc\", \"step\": \"sp7-default_chain2\", \"variable\": \"mean_load\", \"value\": 82.97}, {\"pipeline\": \"010_010_run-crc-sampling-snakemake\", \"rule\": \"sample_mcmc\", \"step\": \"sp7-default_chain0\", \"variable\": \"mean_load\", \"value\": 83.31}, {\"pipeline\": \"010_010_run-crc-sampling-snakemake\", \"rule\": \"sample_mcmc\", \"step\": \"sp7-default_chain1\", \"variable\": \"mean_load\", \"value\": 95.97}, {\"pipeline\": \"010_010_run-crc-sampling-snakemake\", \"rule\": \"sample_mcmc\", \"step\": \"sp4-default_chain1\", \"variable\": \"mean_load\", \"value\": 90.44}, {\"pipeline\": \"010_010_run-crc-sampling-snakemake\", \"rule\": \"sample_mcmc\", \"step\": \"sp4-default_chain0\", \"variable\": \"mean_load\", \"value\": 79.7}, {\"pipeline\": \"010_010_run-crc-sampling-snakemake\", \"rule\": \"sample_mcmc\", \"step\": \"sp4-default_chain2\", \"variable\": \"mean_load\", \"value\": 85.08}, {\"pipeline\": \"010_010_run-crc-sampling-snakemake\", \"rule\": \"sample_mcmc\", \"step\": \"sp4-default_chain3\", \"variable\": \"mean_load\", \"value\": 88.62}, {\"pipeline\": \"010_010_run-crc-sampling-snakemake\", \"rule\": \"sample_advi\", \"step\": \"sp6-default\", \"variable\": \"cpu_time\", \"value\": 26.33}, {\"pipeline\": \"010_010_run-crc-sampling-snakemake\", \"rule\": \"sample_advi\", \"step\": \"sp4-default-fullrank\", \"variable\": \"cpu_time\", \"value\": 1647.72}, {\"pipeline\": \"010_010_run-crc-sampling-snakemake\", \"rule\": \"sample_advi\", \"step\": \"sp5-default\", \"variable\": \"cpu_time\", \"value\": 22.32}, {\"pipeline\": \"010_010_run-crc-sampling-snakemake\", \"rule\": \"sample_advi\", \"step\": \"sp4-centered-copynum\", \"variable\": \"cpu_time\", \"value\": 28.41}, {\"pipeline\": \"010_010_run-crc-sampling-snakemake\", \"rule\": \"sample_advi\", \"step\": \"sp2-default\", \"variable\": \"cpu_time\", \"value\": 22.57}, {\"pipeline\": \"010_010_run-crc-sampling-snakemake\", \"rule\": \"sample_advi\", \"step\": \"sp7-default\", \"variable\": \"cpu_time\", \"value\": 20.99}, {\"pipeline\": \"010_010_run-crc-sampling-snakemake\", \"rule\": \"sample_advi\", \"step\": \"sp5-noncentered\", \"variable\": \"cpu_time\", \"value\": 20.43}, {\"pipeline\": \"010_010_run-crc-sampling-snakemake\", \"rule\": \"sample_advi\", \"step\": \"sp4-default\", \"variable\": \"cpu_time\", \"value\": 22.47}, {\"pipeline\": \"010_010_run-crc-sampling-snakemake\", \"rule\": \"sample_advi\", \"step\": \"sp4-noncentered\", \"variable\": \"cpu_time\", \"value\": 22.6}, {\"pipeline\": \"010_010_run-crc-sampling-snakemake\", \"rule\": \"sample_advi\", \"step\": \"sp4-noncentered-copynum\", \"variable\": \"cpu_time\", \"value\": 26.81}, {\"pipeline\": \"010_010_run-crc-sampling-snakemake\", \"rule\": \"sample_mcmc\", \"step\": \"sp5-noncentered_chain0\", \"variable\": \"cpu_time\", \"value\": 611.22}, {\"pipeline\": \"010_010_run-crc-sampling-snakemake\", \"rule\": \"sample_mcmc\", \"step\": \"sp5-default_chain0\", \"variable\": \"cpu_time\", \"value\": 360.72}, {\"pipeline\": \"010_010_run-crc-sampling-snakemake\", \"rule\": \"sample_mcmc\", \"step\": \"sp5-default_chain1\", \"variable\": \"cpu_time\", \"value\": 329.62}, {\"pipeline\": \"010_010_run-crc-sampling-snakemake\", \"rule\": \"sample_mcmc\", \"step\": \"sp5-noncentered_chain1\", \"variable\": \"cpu_time\", \"value\": 597.2}, {\"pipeline\": \"010_010_run-crc-sampling-snakemake\", \"rule\": \"sample_mcmc\", \"step\": \"sp5-noncentered_chain3\", \"variable\": \"cpu_time\", \"value\": 614.21}, {\"pipeline\": \"010_010_run-crc-sampling-snakemake\", \"rule\": \"sample_mcmc\", \"step\": \"sp5-default_chain3\", \"variable\": \"cpu_time\", \"value\": 394.14}, {\"pipeline\": \"010_010_run-crc-sampling-snakemake\", \"rule\": \"sample_mcmc\", \"step\": \"sp5-default_chain2\", \"variable\": \"cpu_time\", \"value\": 374.15}, {\"pipeline\": \"010_010_run-crc-sampling-snakemake\", \"rule\": \"sample_mcmc\", \"step\": \"sp5-noncentered_chain2\", \"variable\": \"cpu_time\", \"value\": 635.52}, {\"pipeline\": \"010_010_run-crc-sampling-snakemake\", \"rule\": \"sample_mcmc\", \"step\": \"sp6-default_chain2\", \"variable\": \"cpu_time\", \"value\": 1967.62}, {\"pipeline\": \"010_010_run-crc-sampling-snakemake\", \"rule\": \"sample_mcmc\", \"step\": \"sp6-default_chain3\", \"variable\": \"cpu_time\", \"value\": 2179.39}, {\"pipeline\": \"010_010_run-crc-sampling-snakemake\", \"rule\": \"sample_mcmc\", \"step\": \"sp6-default_chain1\", \"variable\": \"cpu_time\", \"value\": 1856.39}, {\"pipeline\": \"010_010_run-crc-sampling-snakemake\", \"rule\": \"sample_mcmc\", \"step\": \"sp6-default_chain0\", \"variable\": \"cpu_time\", \"value\": 1865.28}, {\"pipeline\": \"010_010_run-crc-sampling-snakemake\", \"rule\": \"sample_mcmc\", \"step\": \"sp4-centered-copynum_chain2\", \"variable\": \"cpu_time\", \"value\": 1539.18}, {\"pipeline\": \"010_010_run-crc-sampling-snakemake\", \"rule\": \"sample_mcmc\", \"step\": \"sp4-centered-copynum_chain3\", \"variable\": \"cpu_time\", \"value\": 874.76}, {\"pipeline\": \"010_010_run-crc-sampling-snakemake\", \"rule\": \"sample_mcmc\", \"step\": \"sp4-centered-copynum_chain1\", \"variable\": \"cpu_time\", \"value\": 891.48}, {\"pipeline\": \"010_010_run-crc-sampling-snakemake\", \"rule\": \"sample_mcmc\", \"step\": \"sp4-centered-copynum_chain0\", \"variable\": \"cpu_time\", \"value\": 1436.22}, {\"pipeline\": \"010_010_run-crc-sampling-snakemake\", \"rule\": \"sample_mcmc\", \"step\": \"sp4-noncentered_chain2\", \"variable\": \"cpu_time\", \"value\": 1858.29}, {\"pipeline\": \"010_010_run-crc-sampling-snakemake\", \"rule\": \"sample_mcmc\", \"step\": \"sp4-noncentered-copynum_chain2\", \"variable\": \"cpu_time\", \"value\": 1995.04}, {\"pipeline\": \"010_010_run-crc-sampling-snakemake\", \"rule\": \"sample_mcmc\", \"step\": \"sp4-noncentered-copynum_chain3\", \"variable\": \"cpu_time\", \"value\": 1812.74}, {\"pipeline\": \"010_010_run-crc-sampling-snakemake\", \"rule\": \"sample_mcmc\", \"step\": \"sp4-noncentered_chain3\", \"variable\": \"cpu_time\", \"value\": 3008.48}, {\"pipeline\": \"010_010_run-crc-sampling-snakemake\", \"rule\": \"sample_mcmc\", \"step\": \"sp4-noncentered_chain1\", \"variable\": \"cpu_time\", \"value\": 1691.11}, {\"pipeline\": \"010_010_run-crc-sampling-snakemake\", \"rule\": \"sample_mcmc\", \"step\": \"sp4-noncentered-copynum_chain1\", \"variable\": \"cpu_time\", \"value\": 2008.26}, {\"pipeline\": \"010_010_run-crc-sampling-snakemake\", \"rule\": \"sample_mcmc\", \"step\": \"sp4-noncentered-copynum_chain0\", \"variable\": \"cpu_time\", \"value\": 1881.07}, {\"pipeline\": \"010_010_run-crc-sampling-snakemake\", \"rule\": \"sample_mcmc\", \"step\": \"sp4-noncentered_chain0\", \"variable\": \"cpu_time\", \"value\": 1736.99}, {\"pipeline\": \"010_010_run-crc-sampling-snakemake\", \"rule\": \"sample_mcmc\", \"step\": \"sp2-default_chain2\", \"variable\": \"cpu_time\", \"value\": 163.77}, {\"pipeline\": \"010_010_run-crc-sampling-snakemake\", \"rule\": \"sample_mcmc\", \"step\": \"sp2-default_chain3\", \"variable\": \"cpu_time\", \"value\": 198.38}, {\"pipeline\": \"010_010_run-crc-sampling-snakemake\", \"rule\": \"sample_mcmc\", \"step\": \"sp2-default_chain1\", \"variable\": \"cpu_time\", \"value\": 197.8}, {\"pipeline\": \"010_010_run-crc-sampling-snakemake\", \"rule\": \"sample_mcmc\", \"step\": \"sp2-default_chain0\", \"variable\": \"cpu_time\", \"value\": 158.53}, {\"pipeline\": \"010_010_run-crc-sampling-snakemake\", \"rule\": \"sample_mcmc\", \"step\": \"sp7-default_chain3\", \"variable\": \"cpu_time\", \"value\": 2043.36}, {\"pipeline\": \"010_010_run-crc-sampling-snakemake\", \"rule\": \"sample_mcmc\", \"step\": \"sp7-default_chain2\", \"variable\": \"cpu_time\", \"value\": 2000.91}, {\"pipeline\": \"010_010_run-crc-sampling-snakemake\", \"rule\": \"sample_mcmc\", \"step\": \"sp7-default_chain0\", \"variable\": \"cpu_time\", \"value\": 2121.29}, {\"pipeline\": \"010_010_run-crc-sampling-snakemake\", \"rule\": \"sample_mcmc\", \"step\": \"sp7-default_chain1\", \"variable\": \"cpu_time\", \"value\": 1892.01}, {\"pipeline\": \"010_010_run-crc-sampling-snakemake\", \"rule\": \"sample_mcmc\", \"step\": \"sp4-default_chain1\", \"variable\": \"cpu_time\", \"value\": 971.0}, {\"pipeline\": \"010_010_run-crc-sampling-snakemake\", \"rule\": \"sample_mcmc\", \"step\": \"sp4-default_chain0\", \"variable\": \"cpu_time\", \"value\": 926.15}, {\"pipeline\": \"010_010_run-crc-sampling-snakemake\", \"rule\": \"sample_mcmc\", \"step\": \"sp4-default_chain2\", \"variable\": \"cpu_time\", \"value\": 1383.81}, {\"pipeline\": \"010_010_run-crc-sampling-snakemake\", \"rule\": \"sample_mcmc\", \"step\": \"sp4-default_chain3\", \"variable\": \"cpu_time\", \"value\": 1047.34}]}}, {\"mode\": \"vega-lite\"});\n</script>",
      "text/plain": [
       "alt.Chart(...)"
      ]
     },
     "metadata": {},
     "execution_count": 51
    }
   ],
   "source": [
    "benchmark_df_long = benchmark_df[\n",
    "    [\"pipeline\", \"rule\", \"step\", \"cpu_time\", \"max_rss\", \"mean_load\", \"cpu_time\"]\n",
    "].pivot_longer([\"pipeline\", \"rule\", \"step\"])\n",
    "\n",
    "(\n",
    "    alt.Chart(benchmark_df_long)\n",
    "    .mark_boxplot(size=50)\n",
    "    .encode(\n",
    "        x=\"rule\",\n",
    "        y=alt.Y(\"value\", title=\"\"),\n",
    "        row=alt.Row(\"variable\", title=\"\"),\n",
    "        column=alt.Column(\"pipeline\"),\n",
    "    )\n",
    "    .properties(width=200, height=100)\n",
    "    .resolve_scale(y=\"independent\")\n",
    ")"
   ]
  },
  {
   "cell_type": "code",
   "execution_count": null,
   "metadata": {},
   "outputs": [],
   "source": []
  },
  {
   "cell_type": "code",
   "execution_count": null,
   "metadata": {},
   "outputs": [],
   "source": []
  },
  {
   "cell_type": "code",
   "execution_count": null,
   "metadata": {},
   "outputs": [],
   "source": []
  },
  {
   "cell_type": "code",
   "execution_count": null,
   "metadata": {},
   "outputs": [],
   "source": []
  },
  {
   "cell_type": "code",
   "execution_count": null,
   "metadata": {},
   "outputs": [],
   "source": []
  },
  {
   "cell_type": "code",
   "execution_count": null,
   "metadata": {},
   "outputs": [],
   "source": []
  },
  {
   "source": [
    "---"
   ],
   "cell_type": "markdown",
   "metadata": {}
  },
  {
   "cell_type": "code",
   "execution_count": null,
   "metadata": {},
   "outputs": [],
   "source": [
    "%load_ext watermark\n",
    "%watermark -d -u -v -iv -b -h -m"
   ]
  }
 ]
}
