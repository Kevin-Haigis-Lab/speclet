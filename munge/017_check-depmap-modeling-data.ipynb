{
 "cells": [
  {
   "cell_type": "code",
   "execution_count": 1,
   "id": "80597ff2",
   "metadata": {
    "execution": {
     "iopub.execute_input": "2021-06-03T22:39:33.345541Z",
     "iopub.status.busy": "2021-06-03T22:39:33.334249Z",
     "iopub.status.idle": "2021-06-03T22:39:39.549659Z",
     "shell.execute_reply": "2021-06-03T22:39:39.550418Z"
    }
   },
   "outputs": [],
   "source": [
    "from pathlib import Path\n",
    "from time import time\n",
    "\n",
    "import matplotlib.pyplot as plt\n",
    "import numpy as np\n",
    "import pandas as pd\n",
    "import plotnine as gg\n",
    "import seaborn as sns"
   ]
  },
  {
   "cell_type": "code",
   "execution_count": 2,
   "id": "235de87b",
   "metadata": {
    "execution": {
     "iopub.execute_input": "2021-06-03T22:39:39.553923Z",
     "iopub.status.busy": "2021-06-03T22:39:39.552879Z",
     "iopub.status.idle": "2021-06-03T22:39:39.557675Z",
     "shell.execute_reply": "2021-06-03T22:39:39.558387Z"
    }
   },
   "outputs": [],
   "source": [
    "depmap_modeling_df_path = Path(\"../modeling_data/depmap_modeling_dataframe.csv\")\n",
    "if not depmap_modeling_df_path.exists():\n",
    "    raise FileNotFoundError(f\"Could not find '{depmap_modeling_df_path.as_posix()}'\")"
   ]
  },
  {
   "cell_type": "code",
   "execution_count": 3,
   "id": "8215341e",
   "metadata": {
    "execution": {
     "iopub.execute_input": "2021-06-03T22:39:39.561624Z",
     "iopub.status.busy": "2021-06-03T22:39:39.560609Z",
     "iopub.status.idle": "2021-06-03T22:39:44.417192Z",
     "shell.execute_reply": "2021-06-03T22:39:44.418016Z"
    }
   },
   "outputs": [],
   "source": [
    "depmap_modeling_df = pd.read_csv(depmap_modeling_df_path, nrows=1e6, low_memory=False)"
   ]
  },
  {
   "cell_type": "code",
   "execution_count": 4,
   "id": "9bc3b640",
   "metadata": {
    "execution": {
     "iopub.execute_input": "2021-06-03T22:39:44.422013Z",
     "iopub.status.busy": "2021-06-03T22:39:44.420945Z",
     "iopub.status.idle": "2021-06-03T22:39:44.466078Z",
     "shell.execute_reply": "2021-06-03T22:39:44.466804Z"
    }
   },
   "outputs": [
    {
     "data": {
      "text/html": [
       "<div>\n",
       "<style scoped>\n",
       "    .dataframe tbody tr th:only-of-type {\n",
       "        vertical-align: middle;\n",
       "    }\n",
       "\n",
       "    .dataframe tbody tr th {\n",
       "        vertical-align: top;\n",
       "    }\n",
       "\n",
       "    .dataframe thead th {\n",
       "        text-align: right;\n",
       "    }\n",
       "</style>\n",
       "<table border=\"1\" class=\"dataframe\">\n",
       "  <thead>\n",
       "    <tr style=\"text-align: right;\">\n",
       "      <th></th>\n",
       "      <th>sgrna</th>\n",
       "      <th>replicate_id</th>\n",
       "      <th>lfc</th>\n",
       "      <th>p_dna_batch</th>\n",
       "      <th>genome_alignment</th>\n",
       "      <th>hugo_symbol</th>\n",
       "      <th>screen</th>\n",
       "      <th>multiple_hits_on_gene</th>\n",
       "      <th>sgrna_target_chr</th>\n",
       "      <th>sgrna_target_pos</th>\n",
       "      <th>...</th>\n",
       "      <th>num_mutations</th>\n",
       "      <th>any_deleterious</th>\n",
       "      <th>any_tcga_hotspot</th>\n",
       "      <th>any_cosmic_hotspot</th>\n",
       "      <th>is_mutated</th>\n",
       "      <th>copy_number</th>\n",
       "      <th>lineage</th>\n",
       "      <th>primary_or_metastasis</th>\n",
       "      <th>is_male</th>\n",
       "      <th>age</th>\n",
       "    </tr>\n",
       "  </thead>\n",
       "  <tbody>\n",
       "    <tr>\n",
       "      <th>0</th>\n",
       "      <td>AAACCTGCGGCGGTCGCCA</td>\n",
       "      <td>OVR3_c905R1</td>\n",
       "      <td>-0.299958</td>\n",
       "      <td>CRISPR_C6596666.sample</td>\n",
       "      <td>chr8_66505451_-</td>\n",
       "      <td>VXN</td>\n",
       "      <td>sanger</td>\n",
       "      <td>True</td>\n",
       "      <td>8</td>\n",
       "      <td>66505451</td>\n",
       "      <td>...</td>\n",
       "      <td>0</td>\n",
       "      <td>NaN</td>\n",
       "      <td>NaN</td>\n",
       "      <td>NaN</td>\n",
       "      <td>False</td>\n",
       "      <td>0.847995</td>\n",
       "      <td>ovary</td>\n",
       "      <td>metastasis</td>\n",
       "      <td>False</td>\n",
       "      <td>60</td>\n",
       "    </tr>\n",
       "    <tr>\n",
       "      <th>1</th>\n",
       "      <td>AACAGCACACCGGCCCCGT</td>\n",
       "      <td>OVR3_c905R1</td>\n",
       "      <td>0.267092</td>\n",
       "      <td>CRISPR_C6596666.sample</td>\n",
       "      <td>chrX_156009834_-</td>\n",
       "      <td>IL9R</td>\n",
       "      <td>sanger</td>\n",
       "      <td>True</td>\n",
       "      <td>X</td>\n",
       "      <td>156009834</td>\n",
       "      <td>...</td>\n",
       "      <td>0</td>\n",
       "      <td>NaN</td>\n",
       "      <td>NaN</td>\n",
       "      <td>NaN</td>\n",
       "      <td>False</td>\n",
       "      <td>0.700605</td>\n",
       "      <td>ovary</td>\n",
       "      <td>metastasis</td>\n",
       "      <td>False</td>\n",
       "      <td>60</td>\n",
       "    </tr>\n",
       "    <tr>\n",
       "      <th>2</th>\n",
       "      <td>AACCTCCGGACTCCTCAGC</td>\n",
       "      <td>OVR3_c905R1</td>\n",
       "      <td>0.550477</td>\n",
       "      <td>CRISPR_C6596666.sample</td>\n",
       "      <td>chr7_39609658_-</td>\n",
       "      <td>YAE1</td>\n",
       "      <td>sanger</td>\n",
       "      <td>True</td>\n",
       "      <td>7</td>\n",
       "      <td>39609658</td>\n",
       "      <td>...</td>\n",
       "      <td>0</td>\n",
       "      <td>NaN</td>\n",
       "      <td>NaN</td>\n",
       "      <td>NaN</td>\n",
       "      <td>False</td>\n",
       "      <td>0.934918</td>\n",
       "      <td>ovary</td>\n",
       "      <td>metastasis</td>\n",
       "      <td>False</td>\n",
       "      <td>60</td>\n",
       "    </tr>\n",
       "    <tr>\n",
       "      <th>3</th>\n",
       "      <td>AACTCAAACTGACGCCGAA</td>\n",
       "      <td>OVR3_c905R1</td>\n",
       "      <td>-0.391922</td>\n",
       "      <td>CRISPR_C6596666.sample</td>\n",
       "      <td>chr1_117623388_-</td>\n",
       "      <td>TENT5C</td>\n",
       "      <td>sanger</td>\n",
       "      <td>True</td>\n",
       "      <td>1</td>\n",
       "      <td>117623388</td>\n",
       "      <td>...</td>\n",
       "      <td>0</td>\n",
       "      <td>NaN</td>\n",
       "      <td>NaN</td>\n",
       "      <td>NaN</td>\n",
       "      <td>False</td>\n",
       "      <td>1.352975</td>\n",
       "      <td>ovary</td>\n",
       "      <td>metastasis</td>\n",
       "      <td>False</td>\n",
       "      <td>60</td>\n",
       "    </tr>\n",
       "    <tr>\n",
       "      <th>4</th>\n",
       "      <td>AACTGACCTTGAAACGCTG</td>\n",
       "      <td>OVR3_c905R1</td>\n",
       "      <td>-1.562577</td>\n",
       "      <td>CRISPR_C6596666.sample</td>\n",
       "      <td>chr16_66933623_+</td>\n",
       "      <td>CIAO2B</td>\n",
       "      <td>sanger</td>\n",
       "      <td>True</td>\n",
       "      <td>16</td>\n",
       "      <td>66933623</td>\n",
       "      <td>...</td>\n",
       "      <td>0</td>\n",
       "      <td>NaN</td>\n",
       "      <td>NaN</td>\n",
       "      <td>NaN</td>\n",
       "      <td>False</td>\n",
       "      <td>1.259171</td>\n",
       "      <td>ovary</td>\n",
       "      <td>metastasis</td>\n",
       "      <td>False</td>\n",
       "      <td>60</td>\n",
       "    </tr>\n",
       "  </tbody>\n",
       "</table>\n",
       "<p>5 rows × 22 columns</p>\n",
       "</div>"
      ],
      "text/plain": [
       "                 sgrna replicate_id       lfc             p_dna_batch  \\\n",
       "0  AAACCTGCGGCGGTCGCCA  OVR3_c905R1 -0.299958  CRISPR_C6596666.sample   \n",
       "1  AACAGCACACCGGCCCCGT  OVR3_c905R1  0.267092  CRISPR_C6596666.sample   \n",
       "2  AACCTCCGGACTCCTCAGC  OVR3_c905R1  0.550477  CRISPR_C6596666.sample   \n",
       "3  AACTCAAACTGACGCCGAA  OVR3_c905R1 -0.391922  CRISPR_C6596666.sample   \n",
       "4  AACTGACCTTGAAACGCTG  OVR3_c905R1 -1.562577  CRISPR_C6596666.sample   \n",
       "\n",
       "   genome_alignment hugo_symbol  screen  multiple_hits_on_gene  \\\n",
       "0   chr8_66505451_-         VXN  sanger                   True   \n",
       "1  chrX_156009834_-        IL9R  sanger                   True   \n",
       "2   chr7_39609658_-        YAE1  sanger                   True   \n",
       "3  chr1_117623388_-      TENT5C  sanger                   True   \n",
       "4  chr16_66933623_+      CIAO2B  sanger                   True   \n",
       "\n",
       "  sgrna_target_chr  sgrna_target_pos  ... num_mutations  any_deleterious  \\\n",
       "0                8          66505451  ...             0              NaN   \n",
       "1                X         156009834  ...             0              NaN   \n",
       "2                7          39609658  ...             0              NaN   \n",
       "3                1         117623388  ...             0              NaN   \n",
       "4               16          66933623  ...             0              NaN   \n",
       "\n",
       "   any_tcga_hotspot any_cosmic_hotspot is_mutated copy_number  lineage  \\\n",
       "0               NaN                NaN      False    0.847995    ovary   \n",
       "1               NaN                NaN      False    0.700605    ovary   \n",
       "2               NaN                NaN      False    0.934918    ovary   \n",
       "3               NaN                NaN      False    1.352975    ovary   \n",
       "4               NaN                NaN      False    1.259171    ovary   \n",
       "\n",
       "   primary_or_metastasis is_male age  \n",
       "0             metastasis   False  60  \n",
       "1             metastasis   False  60  \n",
       "2             metastasis   False  60  \n",
       "3             metastasis   False  60  \n",
       "4             metastasis   False  60  \n",
       "\n",
       "[5 rows x 22 columns]"
      ]
     },
     "execution_count": 1,
     "metadata": {},
     "output_type": "execute_result"
    }
   ],
   "source": [
    "depmap_modeling_df.head()"
   ]
  },
  {
   "cell_type": "code",
   "execution_count": 5,
   "id": "2237ea49",
   "metadata": {
    "execution": {
     "iopub.execute_input": "2021-06-03T22:39:44.470259Z",
     "iopub.status.busy": "2021-06-03T22:39:44.469228Z",
     "iopub.status.idle": "2021-06-03T22:39:44.475603Z",
     "shell.execute_reply": "2021-06-03T22:39:44.476335Z"
    }
   },
   "outputs": [
    {
     "data": {
      "text/plain": [
       "(1000000, 22)"
      ]
     },
     "execution_count": 1,
     "metadata": {},
     "output_type": "execute_result"
    }
   ],
   "source": [
    "depmap_modeling_df.shape"
   ]
  },
  {
   "cell_type": "code",
   "execution_count": 6,
   "id": "2d7bfe59",
   "metadata": {
    "execution": {
     "iopub.execute_input": "2021-06-03T22:39:44.479640Z",
     "iopub.status.busy": "2021-06-03T22:39:44.478631Z",
     "iopub.status.idle": "2021-06-03T22:39:44.485199Z",
     "shell.execute_reply": "2021-06-03T22:39:44.485938Z"
    }
   },
   "outputs": [
    {
     "data": {
      "text/plain": [
       "Index(['sgrna', 'replicate_id', 'lfc', 'p_dna_batch', 'genome_alignment',\n",
       "       'hugo_symbol', 'screen', 'multiple_hits_on_gene', 'sgrna_target_chr',\n",
       "       'sgrna_target_pos', 'depmap_id', 'rna_expr', 'num_mutations',\n",
       "       'any_deleterious', 'any_tcga_hotspot', 'any_cosmic_hotspot',\n",
       "       'is_mutated', 'copy_number', 'lineage', 'primary_or_metastasis',\n",
       "       'is_male', 'age'],\n",
       "      dtype='object')"
      ]
     },
     "execution_count": 1,
     "metadata": {},
     "output_type": "execute_result"
    }
   ],
   "source": [
    "depmap_modeling_df.columns"
   ]
  },
  {
   "cell_type": "markdown",
   "id": "6c1d169c",
   "metadata": {},
   "source": [
    "## Basic checks"
   ]
  },
  {
   "cell_type": "code",
   "execution_count": 7,
   "id": "04fd8b54",
   "metadata": {
    "execution": {
     "iopub.execute_input": "2021-06-03T22:39:44.489359Z",
     "iopub.status.busy": "2021-06-03T22:39:44.488337Z",
     "iopub.status.idle": "2021-06-03T22:39:44.492411Z",
     "shell.execute_reply": "2021-06-03T22:39:44.493129Z"
    }
   },
   "outputs": [],
   "source": [
    "FAILED_CHECKS = 0"
   ]
  },
  {
   "cell_type": "markdown",
   "id": "4e675b0f",
   "metadata": {},
   "source": [
    "Check that specific columns have no missing (`NA`) values."
   ]
  },
  {
   "cell_type": "code",
   "execution_count": 8,
   "id": "f51f4fcf",
   "metadata": {
    "execution": {
     "iopub.execute_input": "2021-06-03T22:39:44.496444Z",
     "iopub.status.busy": "2021-06-03T22:39:44.495407Z",
     "iopub.status.idle": "2021-06-03T22:39:45.881372Z",
     "shell.execute_reply": "2021-06-03T22:39:45.882116Z"
    }
   },
   "outputs": [],
   "source": [
    "for c in [\n",
    "    \"depmap_id\",\n",
    "    \"sgrna\",\n",
    "    \"hugo_symbol\",\n",
    "    \"lfc\",\n",
    "    \"screen\",\n",
    "    \"num_mutations\",\n",
    "    \"is_mutated\",\n",
    "    \"lineage\",\n",
    "    \"is_male\",\n",
    "    \"age\",\n",
    "]:\n",
    "    if any(depmap_modeling_df[[c]].isna().values):\n",
    "        print(f\"Column '{c}' has missing values but should not.\")\n",
    "        FAILED_CHECKS += 1"
   ]
  },
  {
   "cell_type": "markdown",
   "id": "79512a10",
   "metadata": {},
   "source": [
    "Check that all combinations of cell line, sgRNA, and experimental replicate only appear once."
   ]
  },
  {
   "cell_type": "code",
   "execution_count": 9,
   "id": "28c34852",
   "metadata": {
    "execution": {
     "iopub.execute_input": "2021-06-03T22:39:45.885596Z",
     "iopub.status.busy": "2021-06-03T22:39:45.884572Z",
     "iopub.status.idle": "2021-06-03T22:39:47.126327Z",
     "shell.execute_reply": "2021-06-03T22:39:47.127078Z"
    }
   },
   "outputs": [],
   "source": [
    "grp_cols = [\"depmap_id\", \"sgrna\", \"replicate_id\"]\n",
    "ct_df = (\n",
    "    depmap_modeling_df[grp_cols]\n",
    "    .assign(n=1)\n",
    "    .groupby(grp_cols)\n",
    "    .count()\n",
    "    .reset_index(drop=False)\n",
    ")\n",
    "\n",
    "if not all(ct_df[[\"n\"]].values == 1):\n",
    "    print(\"There are some sgRNA with multiple targets.\")\n",
    "    FAILED_CHECKS += 1"
   ]
  },
  {
   "cell_type": "code",
   "execution_count": 10,
   "id": "be863de4",
   "metadata": {
    "execution": {
     "iopub.execute_input": "2021-06-03T22:39:47.131696Z",
     "iopub.status.busy": "2021-06-03T22:39:47.129844Z",
     "iopub.status.idle": "2021-06-03T22:39:47.207754Z",
     "shell.execute_reply": "2021-06-03T22:39:47.208488Z"
    }
   },
   "outputs": [
    {
     "data": {
      "text/html": [
       "<div>\n",
       "<style scoped>\n",
       "    .dataframe tbody tr th:only-of-type {\n",
       "        vertical-align: middle;\n",
       "    }\n",
       "\n",
       "    .dataframe tbody tr th {\n",
       "        vertical-align: top;\n",
       "    }\n",
       "\n",
       "    .dataframe thead th {\n",
       "        text-align: right;\n",
       "    }\n",
       "</style>\n",
       "<table border=\"1\" class=\"dataframe\">\n",
       "  <thead>\n",
       "    <tr style=\"text-align: right;\">\n",
       "      <th></th>\n",
       "      <th>sgrna</th>\n",
       "      <th>replicate_id</th>\n",
       "      <th>lfc</th>\n",
       "      <th>p_dna_batch</th>\n",
       "      <th>genome_alignment</th>\n",
       "      <th>hugo_symbol</th>\n",
       "      <th>screen</th>\n",
       "      <th>multiple_hits_on_gene</th>\n",
       "      <th>sgrna_target_chr</th>\n",
       "      <th>sgrna_target_pos</th>\n",
       "      <th>...</th>\n",
       "      <th>num_mutations</th>\n",
       "      <th>any_deleterious</th>\n",
       "      <th>any_tcga_hotspot</th>\n",
       "      <th>any_cosmic_hotspot</th>\n",
       "      <th>is_mutated</th>\n",
       "      <th>copy_number</th>\n",
       "      <th>lineage</th>\n",
       "      <th>primary_or_metastasis</th>\n",
       "      <th>is_male</th>\n",
       "      <th>age</th>\n",
       "    </tr>\n",
       "  </thead>\n",
       "  <tbody>\n",
       "    <tr>\n",
       "      <th>2559</th>\n",
       "      <td>AACTGCGCACAGAAGGAGA</td>\n",
       "      <td>OVR3_c905R1</td>\n",
       "      <td>0.039557</td>\n",
       "      <td>CRISPR_C6596666.sample</td>\n",
       "      <td>chr16_72058351_+</td>\n",
       "      <td>HP</td>\n",
       "      <td>sanger</td>\n",
       "      <td>True</td>\n",
       "      <td>16</td>\n",
       "      <td>72058351</td>\n",
       "      <td>...</td>\n",
       "      <td>0</td>\n",
       "      <td>NaN</td>\n",
       "      <td>NaN</td>\n",
       "      <td>NaN</td>\n",
       "      <td>False</td>\n",
       "      <td>0.71174</td>\n",
       "      <td>ovary</td>\n",
       "      <td>metastasis</td>\n",
       "      <td>False</td>\n",
       "      <td>60</td>\n",
       "    </tr>\n",
       "  </tbody>\n",
       "</table>\n",
       "<p>1 rows × 22 columns</p>\n",
       "</div>"
      ],
      "text/plain": [
       "                    sgrna replicate_id       lfc             p_dna_batch  \\\n",
       "2559  AACTGCGCACAGAAGGAGA  OVR3_c905R1  0.039557  CRISPR_C6596666.sample   \n",
       "\n",
       "      genome_alignment hugo_symbol  screen  multiple_hits_on_gene  \\\n",
       "2559  chr16_72058351_+          HP  sanger                   True   \n",
       "\n",
       "     sgrna_target_chr  sgrna_target_pos  ... num_mutations  any_deleterious  \\\n",
       "2559               16          72058351  ...             0              NaN   \n",
       "\n",
       "      any_tcga_hotspot any_cosmic_hotspot is_mutated copy_number  lineage  \\\n",
       "2559               NaN                NaN      False     0.71174    ovary   \n",
       "\n",
       "      primary_or_metastasis is_male age  \n",
       "2559             metastasis   False  60  \n",
       "\n",
       "[1 rows x 22 columns]"
      ]
     },
     "execution_count": 1,
     "metadata": {},
     "output_type": "execute_result"
    }
   ],
   "source": [
    "depmap_modeling_df.query(\"sgrna == 'AACTGCGCACAGAAGGAGA' and depmap_id == 'ACH-000001'\")"
   ]
  },
  {
   "cell_type": "code",
   "execution_count": 11,
   "id": "e0e317af",
   "metadata": {
    "execution": {
     "iopub.execute_input": "2021-06-03T22:39:47.212057Z",
     "iopub.status.busy": "2021-06-03T22:39:47.210846Z",
     "iopub.status.idle": "2021-06-03T22:39:47.225269Z",
     "shell.execute_reply": "2021-06-03T22:39:47.225999Z"
    }
   },
   "outputs": [
    {
     "data": {
      "text/html": [
       "<div>\n",
       "<style scoped>\n",
       "    .dataframe tbody tr th:only-of-type {\n",
       "        vertical-align: middle;\n",
       "    }\n",
       "\n",
       "    .dataframe tbody tr th {\n",
       "        vertical-align: top;\n",
       "    }\n",
       "\n",
       "    .dataframe thead th {\n",
       "        text-align: right;\n",
       "    }\n",
       "</style>\n",
       "<table border=\"1\" class=\"dataframe\">\n",
       "  <thead>\n",
       "    <tr style=\"text-align: right;\">\n",
       "      <th></th>\n",
       "      <th>depmap_id</th>\n",
       "      <th>sgrna</th>\n",
       "      <th>replicate_id</th>\n",
       "      <th>n</th>\n",
       "    </tr>\n",
       "  </thead>\n",
       "  <tbody>\n",
       "  </tbody>\n",
       "</table>\n",
       "</div>"
      ],
      "text/plain": [
       "Empty DataFrame\n",
       "Columns: [depmap_id, sgrna, replicate_id, n]\n",
       "Index: []"
      ]
     },
     "execution_count": 1,
     "metadata": {},
     "output_type": "execute_result"
    }
   ],
   "source": [
    "ct_df.loc[ct_df[\"n\"] > 1]"
   ]
  },
  {
   "cell_type": "code",
   "execution_count": 12,
   "id": "27ebad4b",
   "metadata": {
    "execution": {
     "iopub.execute_input": "2021-06-03T22:39:47.229320Z",
     "iopub.status.busy": "2021-06-03T22:39:47.228288Z",
     "iopub.status.idle": "2021-06-03T22:39:47.232518Z",
     "shell.execute_reply": "2021-06-03T22:39:47.233232Z"
    }
   },
   "outputs": [],
   "source": [
    "if FAILED_CHECKS > 0:\n",
    "    raise Exception(f\"There were {FAILED_CHECKS} failed checks.\")"
   ]
  },
  {
   "cell_type": "code",
   "execution_count": null,
   "id": "4d9d8dd0",
   "metadata": {},
   "outputs": [],
   "source": []
  },
  {
   "cell_type": "code",
   "execution_count": null,
   "id": "aa0615a7",
   "metadata": {},
   "outputs": [],
   "source": []
  },
  {
   "cell_type": "code",
   "execution_count": null,
   "id": "9579ac60",
   "metadata": {},
   "outputs": [],
   "source": []
  },
  {
   "cell_type": "markdown",
   "id": "47de6deb",
   "metadata": {},
   "source": [
    "---"
   ]
  },
  {
   "cell_type": "code",
   "execution_count": 13,
   "id": "09dbd3b5",
   "metadata": {
    "execution": {
     "iopub.execute_input": "2021-06-03T22:39:47.236803Z",
     "iopub.status.busy": "2021-06-03T22:39:47.235782Z",
     "iopub.status.idle": "2021-06-03T22:39:47.484481Z",
     "shell.execute_reply": "2021-06-03T22:39:47.485240Z"
    }
   },
   "outputs": [
    {
     "name": "stdout",
     "output_type": "stream",
     "text": [
      "Last updated: 2021-06-03\n",
      "\n",
      "Python implementation: CPython\n",
      "Python version       : 3.9.2\n",
      "IPython version      : 7.24.1\n",
      "\n",
      "Compiler    : GCC 9.3.0\n",
      "OS          : Linux\n",
      "Release     : 3.10.0-1062.el7.x86_64\n",
      "Machine     : x86_64\n",
      "Processor   : x86_64\n",
      "CPU cores   : 32\n",
      "Architecture: 64bit\n",
      "\n",
      "Hostname: compute-a-16-62.o2.rc.hms.harvard.edu\n",
      "\n",
      "Git branch: update-data\n",
      "\n",
      "seaborn   : 0.11.1\n",
      "pandas    : 1.2.3\n",
      "numpy     : 1.20.1\n",
      "matplotlib: 3.3.4\n",
      "plotnine  : 0.8.0\n",
      "\n"
     ]
    }
   ],
   "source": [
    "%load_ext watermark\n",
    "%watermark -d -u -v -iv -b -h -m"
   ]
  },
  {
   "cell_type": "code",
   "execution_count": null,
   "id": "8aace661",
   "metadata": {},
   "outputs": [],
   "source": []
  }
 ],
 "metadata": {
  "kernelspec": {
   "display_name": "Python 3",
   "language": "python",
   "name": "python3"
  },
  "language_info": {
   "codemirror_mode": {
    "name": "ipython",
    "version": 3
   },
   "file_extension": ".py",
   "mimetype": "text/x-python",
   "name": "python",
   "nbconvert_exporter": "python",
   "pygments_lexer": "ipython3",
   "version": "3.9.2"
  }
 },
 "nbformat": 4,
 "nbformat_minor": 5
}
