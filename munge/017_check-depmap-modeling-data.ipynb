{
 "cells": [
  {
   "cell_type": "markdown",
   "id": "7fe91a96",
   "metadata": {},
   "source": [
    "# Check of modeling data"
   ]
  },
  {
   "cell_type": "code",
   "execution_count": 1,
   "id": "0179a9ee",
   "metadata": {
    "execution": {
     "iopub.execute_input": "2021-06-04T11:49:57.240296Z",
     "iopub.status.busy": "2021-06-04T11:49:57.239179Z",
     "iopub.status.idle": "2021-06-04T11:50:03.866494Z",
     "shell.execute_reply": "2021-06-04T11:50:03.866982Z"
    },
    "tags": []
   },
   "outputs": [],
   "source": [
    "from pathlib import Path\n",
    "from time import time\n",
    "\n",
    "import matplotlib.pyplot as plt\n",
    "import numpy as np\n",
    "import pandas as pd\n",
    "import plotnine as gg\n",
    "import seaborn as sns"
   ]
  },
  {
   "cell_type": "code",
   "execution_count": 2,
   "id": "bb59d032",
   "metadata": {
    "execution": {
     "iopub.execute_input": "2021-06-04T11:50:03.873345Z",
     "iopub.status.busy": "2021-06-04T11:50:03.872366Z",
     "iopub.status.idle": "2021-06-04T11:50:06.943488Z",
     "shell.execute_reply": "2021-06-04T11:50:06.943980Z"
    }
   },
   "outputs": [
    {
     "data": {
      "text/html": [
       "<table style=\"border: 2px solid white;\">\n",
       "<tr>\n",
       "<td style=\"vertical-align: top; border: 0px solid white\">\n",
       "<h3 style=\"text-align: left;\">Client</h3>\n",
       "<ul style=\"text-align: left; list-style: none; margin: 0; padding: 0;\">\n",
       "  <li><b>Scheduler: </b>tcp://127.0.0.1:36904</li>\n",
       "  <li><b>Dashboard: </b><a href='http://127.0.0.1:8787/status' target='_blank'>http://127.0.0.1:8787/status</a></li>\n",
       "</ul>\n",
       "</td>\n",
       "<td style=\"vertical-align: top; border: 0px solid white\">\n",
       "<h3 style=\"text-align: left;\">Cluster</h3>\n",
       "<ul style=\"text-align: left; list-style:none; margin: 0; padding: 0;\">\n",
       "  <li><b>Workers: </b>4</li>\n",
       "  <li><b>Cores: </b>8</li>\n",
       "  <li><b>Memory: </b>59.60 GiB</li>\n",
       "</ul>\n",
       "</td>\n",
       "</tr>\n",
       "</table>"
      ],
      "text/plain": [
       "<Client: 'tcp://127.0.0.1:36904' processes=4 threads=8, memory=59.60 GiB>"
      ]
     },
     "execution_count": 1,
     "metadata": {},
     "output_type": "execute_result"
    }
   ],
   "source": [
    "import dask.dataframe as dd\n",
    "from dask.distributed import Client, progress\n",
    "\n",
    "client = Client(n_workers=4, threads_per_worker=2, memory_limit=\"16GB\")\n",
    "client"
   ]
  },
  {
   "cell_type": "code",
   "execution_count": 3,
   "id": "b723ad3c",
   "metadata": {
    "execution": {
     "iopub.execute_input": "2021-06-04T11:50:06.956684Z",
     "iopub.status.busy": "2021-06-04T11:50:06.955777Z",
     "iopub.status.idle": "2021-06-04T11:50:06.960524Z",
     "shell.execute_reply": "2021-06-04T11:50:06.959614Z"
    },
    "tags": []
   },
   "outputs": [],
   "source": [
    "depmap_modeling_df_path = Path(\"../modeling_data/depmap_modeling_dataframe.csv\")\n",
    "if not depmap_modeling_df_path.exists():\n",
    "    raise FileNotFoundError(f\"Could not find '{depmap_modeling_df_path.as_posix()}'\")"
   ]
  },
  {
   "cell_type": "code",
   "execution_count": 4,
   "id": "fe240c50",
   "metadata": {
    "execution": {
     "iopub.execute_input": "2021-06-04T11:50:06.966039Z",
     "iopub.status.busy": "2021-06-04T11:50:06.965202Z",
     "iopub.status.idle": "2021-06-04T11:50:07.002082Z",
     "shell.execute_reply": "2021-06-04T11:50:07.001139Z"
    },
    "tags": []
   },
   "outputs": [],
   "source": [
    "depmap_modeling_df = dd.read_csv(\n",
    "    depmap_modeling_df_path, dtype={\"age\": \"float64\"}, low_memory=False\n",
    ")"
   ]
  },
  {
   "cell_type": "code",
   "execution_count": 5,
   "id": "f56f5af3",
   "metadata": {
    "execution": {
     "iopub.execute_input": "2021-06-04T11:50:07.008419Z",
     "iopub.status.busy": "2021-06-04T11:50:07.007296Z",
     "iopub.status.idle": "2021-06-04T11:50:09.327227Z",
     "shell.execute_reply": "2021-06-04T11:50:09.326399Z"
    },
    "tags": []
   },
   "outputs": [
    {
     "data": {
      "text/html": [
       "<div>\n",
       "<style scoped>\n",
       "    .dataframe tbody tr th:only-of-type {\n",
       "        vertical-align: middle;\n",
       "    }\n",
       "\n",
       "    .dataframe tbody tr th {\n",
       "        vertical-align: top;\n",
       "    }\n",
       "\n",
       "    .dataframe thead th {\n",
       "        text-align: right;\n",
       "    }\n",
       "</style>\n",
       "<table border=\"1\" class=\"dataframe\">\n",
       "  <thead>\n",
       "    <tr style=\"text-align: right;\">\n",
       "      <th></th>\n",
       "      <th>sgrna</th>\n",
       "      <th>replicate_id</th>\n",
       "      <th>lfc</th>\n",
       "      <th>p_dna_batch</th>\n",
       "      <th>genome_alignment</th>\n",
       "      <th>hugo_symbol</th>\n",
       "      <th>screen</th>\n",
       "      <th>multiple_hits_on_gene</th>\n",
       "      <th>sgrna_target_chr</th>\n",
       "      <th>sgrna_target_pos</th>\n",
       "      <th>...</th>\n",
       "      <th>num_mutations</th>\n",
       "      <th>any_deleterious</th>\n",
       "      <th>any_tcga_hotspot</th>\n",
       "      <th>any_cosmic_hotspot</th>\n",
       "      <th>is_mutated</th>\n",
       "      <th>copy_number</th>\n",
       "      <th>lineage</th>\n",
       "      <th>primary_or_metastasis</th>\n",
       "      <th>is_male</th>\n",
       "      <th>age</th>\n",
       "    </tr>\n",
       "  </thead>\n",
       "  <tbody>\n",
       "    <tr>\n",
       "      <th>0</th>\n",
       "      <td>AAACCTGCGGCGGTCGCCA</td>\n",
       "      <td>OVR3_c905R1</td>\n",
       "      <td>-0.299958</td>\n",
       "      <td>CRISPR_C6596666.sample</td>\n",
       "      <td>chr8_66505451_-</td>\n",
       "      <td>VXN</td>\n",
       "      <td>sanger</td>\n",
       "      <td>True</td>\n",
       "      <td>8</td>\n",
       "      <td>66505451</td>\n",
       "      <td>...</td>\n",
       "      <td>0</td>\n",
       "      <td>NaN</td>\n",
       "      <td>NaN</td>\n",
       "      <td>NaN</td>\n",
       "      <td>False</td>\n",
       "      <td>0.847995</td>\n",
       "      <td>ovary</td>\n",
       "      <td>metastasis</td>\n",
       "      <td>False</td>\n",
       "      <td>60.0</td>\n",
       "    </tr>\n",
       "    <tr>\n",
       "      <th>1</th>\n",
       "      <td>AACAGCACACCGGCCCCGT</td>\n",
       "      <td>OVR3_c905R1</td>\n",
       "      <td>0.267092</td>\n",
       "      <td>CRISPR_C6596666.sample</td>\n",
       "      <td>chrX_156009834_-</td>\n",
       "      <td>IL9R</td>\n",
       "      <td>sanger</td>\n",
       "      <td>True</td>\n",
       "      <td>X</td>\n",
       "      <td>156009834</td>\n",
       "      <td>...</td>\n",
       "      <td>0</td>\n",
       "      <td>NaN</td>\n",
       "      <td>NaN</td>\n",
       "      <td>NaN</td>\n",
       "      <td>False</td>\n",
       "      <td>0.700605</td>\n",
       "      <td>ovary</td>\n",
       "      <td>metastasis</td>\n",
       "      <td>False</td>\n",
       "      <td>60.0</td>\n",
       "    </tr>\n",
       "    <tr>\n",
       "      <th>2</th>\n",
       "      <td>AACCTCCGGACTCCTCAGC</td>\n",
       "      <td>OVR3_c905R1</td>\n",
       "      <td>0.550477</td>\n",
       "      <td>CRISPR_C6596666.sample</td>\n",
       "      <td>chr7_39609658_-</td>\n",
       "      <td>YAE1</td>\n",
       "      <td>sanger</td>\n",
       "      <td>True</td>\n",
       "      <td>7</td>\n",
       "      <td>39609658</td>\n",
       "      <td>...</td>\n",
       "      <td>0</td>\n",
       "      <td>NaN</td>\n",
       "      <td>NaN</td>\n",
       "      <td>NaN</td>\n",
       "      <td>False</td>\n",
       "      <td>0.934918</td>\n",
       "      <td>ovary</td>\n",
       "      <td>metastasis</td>\n",
       "      <td>False</td>\n",
       "      <td>60.0</td>\n",
       "    </tr>\n",
       "    <tr>\n",
       "      <th>3</th>\n",
       "      <td>AACTCAAACTGACGCCGAA</td>\n",
       "      <td>OVR3_c905R1</td>\n",
       "      <td>-0.391922</td>\n",
       "      <td>CRISPR_C6596666.sample</td>\n",
       "      <td>chr1_117623388_-</td>\n",
       "      <td>TENT5C</td>\n",
       "      <td>sanger</td>\n",
       "      <td>True</td>\n",
       "      <td>1</td>\n",
       "      <td>117623388</td>\n",
       "      <td>...</td>\n",
       "      <td>0</td>\n",
       "      <td>NaN</td>\n",
       "      <td>NaN</td>\n",
       "      <td>NaN</td>\n",
       "      <td>False</td>\n",
       "      <td>1.352975</td>\n",
       "      <td>ovary</td>\n",
       "      <td>metastasis</td>\n",
       "      <td>False</td>\n",
       "      <td>60.0</td>\n",
       "    </tr>\n",
       "    <tr>\n",
       "      <th>4</th>\n",
       "      <td>AACTGACCTTGAAACGCTG</td>\n",
       "      <td>OVR3_c905R1</td>\n",
       "      <td>-1.562577</td>\n",
       "      <td>CRISPR_C6596666.sample</td>\n",
       "      <td>chr16_66933623_+</td>\n",
       "      <td>CIAO2B</td>\n",
       "      <td>sanger</td>\n",
       "      <td>True</td>\n",
       "      <td>16</td>\n",
       "      <td>66933623</td>\n",
       "      <td>...</td>\n",
       "      <td>0</td>\n",
       "      <td>NaN</td>\n",
       "      <td>NaN</td>\n",
       "      <td>NaN</td>\n",
       "      <td>False</td>\n",
       "      <td>1.259171</td>\n",
       "      <td>ovary</td>\n",
       "      <td>metastasis</td>\n",
       "      <td>False</td>\n",
       "      <td>60.0</td>\n",
       "    </tr>\n",
       "  </tbody>\n",
       "</table>\n",
       "<p>5 rows × 22 columns</p>\n",
       "</div>"
      ],
      "text/plain": [
       "                 sgrna replicate_id       lfc             p_dna_batch  \\\n",
       "0  AAACCTGCGGCGGTCGCCA  OVR3_c905R1 -0.299958  CRISPR_C6596666.sample   \n",
       "1  AACAGCACACCGGCCCCGT  OVR3_c905R1  0.267092  CRISPR_C6596666.sample   \n",
       "2  AACCTCCGGACTCCTCAGC  OVR3_c905R1  0.550477  CRISPR_C6596666.sample   \n",
       "3  AACTCAAACTGACGCCGAA  OVR3_c905R1 -0.391922  CRISPR_C6596666.sample   \n",
       "4  AACTGACCTTGAAACGCTG  OVR3_c905R1 -1.562577  CRISPR_C6596666.sample   \n",
       "\n",
       "   genome_alignment hugo_symbol  screen  multiple_hits_on_gene  \\\n",
       "0   chr8_66505451_-         VXN  sanger                   True   \n",
       "1  chrX_156009834_-        IL9R  sanger                   True   \n",
       "2   chr7_39609658_-        YAE1  sanger                   True   \n",
       "3  chr1_117623388_-      TENT5C  sanger                   True   \n",
       "4  chr16_66933623_+      CIAO2B  sanger                   True   \n",
       "\n",
       "  sgrna_target_chr  sgrna_target_pos  ... num_mutations  any_deleterious  \\\n",
       "0                8          66505451  ...             0              NaN   \n",
       "1                X         156009834  ...             0              NaN   \n",
       "2                7          39609658  ...             0              NaN   \n",
       "3                1         117623388  ...             0              NaN   \n",
       "4               16          66933623  ...             0              NaN   \n",
       "\n",
       "   any_tcga_hotspot any_cosmic_hotspot is_mutated copy_number  lineage  \\\n",
       "0               NaN                NaN      False    0.847995    ovary   \n",
       "1               NaN                NaN      False    0.700605    ovary   \n",
       "2               NaN                NaN      False    0.934918    ovary   \n",
       "3               NaN                NaN      False    1.352975    ovary   \n",
       "4               NaN                NaN      False    1.259171    ovary   \n",
       "\n",
       "   primary_or_metastasis is_male   age  \n",
       "0             metastasis   False  60.0  \n",
       "1             metastasis   False  60.0  \n",
       "2             metastasis   False  60.0  \n",
       "3             metastasis   False  60.0  \n",
       "4             metastasis   False  60.0  \n",
       "\n",
       "[5 rows x 22 columns]"
      ]
     },
     "execution_count": 1,
     "metadata": {},
     "output_type": "execute_result"
    }
   ],
   "source": [
    "depmap_modeling_df.head()"
   ]
  },
  {
   "cell_type": "code",
   "execution_count": 6,
   "id": "abeddb91",
   "metadata": {
    "execution": {
     "iopub.execute_input": "2021-06-04T11:50:09.334470Z",
     "iopub.status.busy": "2021-06-04T11:50:09.333571Z",
     "iopub.status.idle": "2021-06-04T11:50:09.336647Z",
     "shell.execute_reply": "2021-06-04T11:50:09.337396Z"
    },
    "tags": []
   },
   "outputs": [
    {
     "data": {
      "text/plain": [
       "(Delayed('int-adc0c546-7c6b-491a-97f1-4936de647e72'), 22)"
      ]
     },
     "execution_count": 1,
     "metadata": {},
     "output_type": "execute_result"
    }
   ],
   "source": [
    "depmap_modeling_df.shape"
   ]
  },
  {
   "cell_type": "code",
   "execution_count": 7,
   "id": "a321087e",
   "metadata": {
    "execution": {
     "iopub.execute_input": "2021-06-04T11:50:09.342241Z",
     "iopub.status.busy": "2021-06-04T11:50:09.341397Z",
     "iopub.status.idle": "2021-06-04T11:50:09.344345Z",
     "shell.execute_reply": "2021-06-04T11:50:09.345031Z"
    },
    "tags": []
   },
   "outputs": [
    {
     "data": {
      "text/plain": [
       "Index(['sgrna', 'replicate_id', 'lfc', 'p_dna_batch', 'genome_alignment',\n",
       "       'hugo_symbol', 'screen', 'multiple_hits_on_gene', 'sgrna_target_chr',\n",
       "       'sgrna_target_pos', 'depmap_id', 'rna_expr', 'num_mutations',\n",
       "       'any_deleterious', 'any_tcga_hotspot', 'any_cosmic_hotspot',\n",
       "       'is_mutated', 'copy_number', 'lineage', 'primary_or_metastasis',\n",
       "       'is_male', 'age'],\n",
       "      dtype='object')"
      ]
     },
     "execution_count": 1,
     "metadata": {},
     "output_type": "execute_result"
    }
   ],
   "source": [
    "depmap_modeling_df.columns"
   ]
  },
  {
   "cell_type": "markdown",
   "id": "d8f07fc3",
   "metadata": {},
   "source": [
    "## Basic checks"
   ]
  },
  {
   "cell_type": "code",
   "execution_count": 8,
   "id": "ef9977a5",
   "metadata": {
    "execution": {
     "iopub.execute_input": "2021-06-04T11:50:09.349439Z",
     "iopub.status.busy": "2021-06-04T11:50:09.348562Z",
     "iopub.status.idle": "2021-06-04T11:50:09.350370Z",
     "shell.execute_reply": "2021-06-04T11:50:09.351047Z"
    },
    "tags": []
   },
   "outputs": [],
   "source": [
    "FAILED_CHECKS = 0"
   ]
  },
  {
   "cell_type": "markdown",
   "id": "0a944c3e",
   "metadata": {},
   "source": [
    "Check that specific columns have no missing (`NA`) values."
   ]
  },
  {
   "cell_type": "code",
   "execution_count": 9,
   "id": "37cecb68",
   "metadata": {
    "execution": {
     "iopub.execute_input": "2021-06-04T11:50:09.383056Z",
     "iopub.status.busy": "2021-06-04T11:50:09.367142Z",
     "iopub.status.idle": "2021-06-04T11:52:16.480390Z",
     "shell.execute_reply": "2021-06-04T11:52:16.479896Z"
    }
   },
   "outputs": [],
   "source": [
    "cols_without_na = [\n",
    "    \"depmap_id\",\n",
    "    \"sgrna\",\n",
    "    \"hugo_symbol\",\n",
    "    \"lfc\",\n",
    "    \"screen\",\n",
    "    \"num_mutations\",\n",
    "    \"is_mutated\",\n",
    "    \"lineage\",\n",
    "]\n",
    "\n",
    "na_checks = depmap_modeling_df.isna()[cols_without_na].any().compute()\n",
    "num_missed_checks = na_checks.sum()\n",
    "\n",
    "if num_missed_checks > 0:\n",
    "    FAILED_CHECKS += num_missed_checks\n",
    "    print(na_checks[na_checks])"
   ]
  },
  {
   "cell_type": "code",
   "execution_count": 10,
   "id": "4d029d43",
   "metadata": {
    "execution": {
     "iopub.execute_input": "2021-06-04T11:52:16.485917Z",
     "iopub.status.busy": "2021-06-04T11:52:16.485436Z",
     "iopub.status.idle": "2021-06-04T11:52:16.488132Z",
     "shell.execute_reply": "2021-06-04T11:52:16.487636Z"
    }
   },
   "outputs": [
    {
     "data": {
      "text/plain": [
       "depmap_id        False\n",
       "sgrna            False\n",
       "hugo_symbol      False\n",
       "lfc              False\n",
       "screen           False\n",
       "num_mutations    False\n",
       "is_mutated       False\n",
       "lineage          False\n",
       "dtype: bool"
      ]
     },
     "execution_count": 1,
     "metadata": {},
     "output_type": "execute_result"
    }
   ],
   "source": [
    "na_checks"
   ]
  },
  {
   "cell_type": "markdown",
   "id": "9da17612",
   "metadata": {},
   "source": [
    "Check that all combinations of cell line, sgRNA, and experimental replicate only appear once."
   ]
  },
  {
   "cell_type": "code",
   "execution_count": 11,
   "id": "e554ea19",
   "metadata": {
    "execution": {
     "iopub.execute_input": "2021-06-04T11:52:16.502966Z",
     "iopub.status.busy": "2021-06-04T11:52:16.499419Z",
     "iopub.status.idle": "2021-06-04T11:58:42.893072Z",
     "shell.execute_reply": "2021-06-04T11:58:42.893580Z"
    },
    "tags": []
   },
   "outputs": [],
   "source": [
    "grp_cols = [\"depmap_id\", \"sgrna\", \"replicate_id\"]\n",
    "ct_df = (\n",
    "    depmap_modeling_df.assign(n=1)[grp_cols + [\"n\"]]\n",
    "    .groupby(grp_cols)\n",
    "    .count()\n",
    "    .query(\"n > 1\")\n",
    "    .compute()\n",
    ")\n",
    "\n",
    "if not ct_df.shape[0] == 0:\n",
    "    print(\"There are some sgRNA with multiple targets.\")\n",
    "    print(ct_df.head(20))\n",
    "    FAILED_CHECKS += 1"
   ]
  },
  {
   "cell_type": "code",
   "execution_count": 12,
   "id": "3671ee6b",
   "metadata": {
    "execution": {
     "iopub.execute_input": "2021-06-04T11:58:42.898497Z",
     "iopub.status.busy": "2021-06-04T11:58:42.898007Z",
     "iopub.status.idle": "2021-06-04T11:58:42.900012Z",
     "shell.execute_reply": "2021-06-04T11:58:42.900431Z"
    },
    "tags": []
   },
   "outputs": [],
   "source": [
    "if FAILED_CHECKS > 0:\n",
    "    raise Exception(f\"There were {FAILED_CHECKS} failed checks.\")"
   ]
  },
  {
   "cell_type": "markdown",
   "id": "a80ef0fa",
   "metadata": {},
   "source": [
    "---"
   ]
  },
  {
   "cell_type": "code",
   "execution_count": 13,
   "id": "14a9d255",
   "metadata": {
    "execution": {
     "iopub.execute_input": "2021-06-04T11:58:42.905125Z",
     "iopub.status.busy": "2021-06-04T11:58:42.904651Z",
     "iopub.status.idle": "2021-06-04T11:58:43.110385Z",
     "shell.execute_reply": "2021-06-04T11:58:43.109938Z"
    }
   },
   "outputs": [
    {
     "name": "stdout",
     "output_type": "stream",
     "text": [
      "Last updated: 2021-06-04\n",
      "\n",
      "Python implementation: CPython\n",
      "Python version       : 3.9.2\n",
      "IPython version      : 7.24.1\n",
      "\n",
      "Compiler    : GCC 9.3.0\n",
      "OS          : Linux\n",
      "Release     : 3.10.0-1062.el7.x86_64\n",
      "Machine     : x86_64\n",
      "Processor   : x86_64\n",
      "CPU cores   : 28\n",
      "Architecture: 64bit\n",
      "\n",
      "Hostname: compute-e-16-189.o2.rc.hms.harvard.edu\n",
      "\n",
      "Git branch: update-data\n",
      "\n",
      "numpy     : 1.20.1\n",
      "seaborn   : 0.11.1\n",
      "dask      : 2021.5.1\n",
      "plotnine  : 0.8.0\n",
      "pandas    : 1.2.3\n",
      "matplotlib: 3.3.4\n",
      "\n"
     ]
    }
   ],
   "source": [
    "%load_ext watermark\n",
    "%watermark -d -u -v -iv -b -h -m"
   ]
  },
  {
   "cell_type": "code",
   "execution_count": null,
   "id": "5bd640d9",
   "metadata": {},
   "outputs": [],
   "source": []
  }
 ],
 "metadata": {
  "kernelspec": {
   "display_name": "Python 3",
   "language": "python",
   "name": "python3"
  },
  "language_info": {
   "codemirror_mode": {
    "name": "ipython",
    "version": 3
   },
   "file_extension": ".py",
   "mimetype": "text/x-python",
   "name": "python",
   "nbconvert_exporter": "python",
   "pygments_lexer": "ipython3",
   "version": "3.9.2"
  }
 },
 "nbformat": 4,
 "nbformat_minor": 5
}
