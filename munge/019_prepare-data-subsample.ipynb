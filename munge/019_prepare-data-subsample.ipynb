{
 "cells": [
  {
   "cell_type": "markdown",
   "metadata": {},
   "source": [
    "# Make a smaller data set for testing models"
   ]
  },
  {
   "cell_type": "code",
   "execution_count": 1,
   "metadata": {},
   "outputs": [
    {
     "name": "stderr",
     "output_type": "stream",
     "text": [
      "── \u001b[1mAttaching packages\u001b[22m ─────────────────────────────────────── tidyverse 1.3.0 ──\n",
      "\n",
      "\u001b[32m✔\u001b[39m \u001b[34mggplot2\u001b[39m 3.3.2     \u001b[32m✔\u001b[39m \u001b[34mpurrr  \u001b[39m 0.3.4\n",
      "\u001b[32m✔\u001b[39m \u001b[34mtibble \u001b[39m 3.0.3     \u001b[32m✔\u001b[39m \u001b[34mdplyr  \u001b[39m 1.0.1\n",
      "\u001b[32m✔\u001b[39m \u001b[34mtidyr  \u001b[39m 1.1.1     \u001b[32m✔\u001b[39m \u001b[34mstringr\u001b[39m 1.4.0\n",
      "\u001b[32m✔\u001b[39m \u001b[34mreadr  \u001b[39m 1.3.1     \u001b[32m✔\u001b[39m \u001b[34mforcats\u001b[39m 0.5.0\n",
      "\n",
      "── \u001b[1mConflicts\u001b[22m ────────────────────────────────────────── tidyverse_conflicts() ──\n",
      "\u001b[31m✖\u001b[39m \u001b[34mdplyr\u001b[39m::\u001b[32mfilter()\u001b[39m masks \u001b[34mstats\u001b[39m::filter()\n",
      "\u001b[31m✖\u001b[39m \u001b[34mdplyr\u001b[39m::\u001b[32mlag()\u001b[39m    masks \u001b[34mstats\u001b[39m::lag()\n",
      "\n"
     ]
    }
   ],
   "source": [
    "library(nakedpipe)\n",
    "library(tidyverse)"
   ]
  },
  {
   "cell_type": "code",
   "execution_count": 20,
   "metadata": {},
   "outputs": [],
   "source": [
    "data_dir <- file.path(\"..\", \"modeling_data\")\n",
    "modeling_data_path <- file.path(data_dir, \"depmap_modeling_dataframe.csv\")\n",
    "out_path <- file.path(data_dir, \"depmap_modeling_dataframe_subsample.csv\")"
   ]
  },
  {
   "cell_type": "code",
   "execution_count": 4,
   "metadata": {},
   "outputs": [
    {
     "name": "stderr",
     "output_type": "stream",
     "text": [
      "Parsed with column specification:\n",
      "cols(\n",
      "  .default = col_character(),\n",
      "  lfc = \u001b[32mcol_double()\u001b[39m,\n",
      "  pdna_batch = \u001b[32mcol_double()\u001b[39m,\n",
      "  passes_qc = \u001b[33mcol_logical()\u001b[39m,\n",
      "  n_alignments = \u001b[32mcol_double()\u001b[39m,\n",
      "  chrom_pos = \u001b[32mcol_double()\u001b[39m,\n",
      "  segment_mean = \u001b[32mcol_double()\u001b[39m,\n",
      "  copy_number = \u001b[32mcol_double()\u001b[39m,\n",
      "  n_muts = \u001b[32mcol_double()\u001b[39m,\n",
      "  any_deleterious = \u001b[33mcol_logical()\u001b[39m,\n",
      "  mutated_at_guide_location = \u001b[33mcol_logical()\u001b[39m,\n",
      "  rna_expr = \u001b[32mcol_double()\u001b[39m\n",
      ")\n",
      "\n",
      "See spec(...) for full column specifications.\n",
      "\n"
     ]
    },
    {
     "data": {
      "text/html": [
       "<table>\n",
       "<caption>A tibble: 6 × 25</caption>\n",
       "<thead>\n",
       "\t<tr><th scope=col>sgrna</th><th scope=col>replicate_id</th><th scope=col>lfc</th><th scope=col>pdna_batch</th><th scope=col>passes_qc</th><th scope=col>depmap_id</th><th scope=col>primary_or_metastasis</th><th scope=col>lineage</th><th scope=col>lineage_subtype</th><th scope=col>kras_mutation</th><th scope=col>⋯</th><th scope=col>segment_mean</th><th scope=col>copy_number</th><th scope=col>n_muts</th><th scope=col>any_deleterious</th><th scope=col>variant_classification</th><th scope=col>is_deleterious</th><th scope=col>is_tcga_hotspot</th><th scope=col>is_cosmic_hotspot</th><th scope=col>mutated_at_guide_location</th><th scope=col>rna_expr</th></tr>\n",
       "\t<tr><th scope=col>&lt;chr&gt;</th><th scope=col>&lt;chr&gt;</th><th scope=col>&lt;dbl&gt;</th><th scope=col>&lt;dbl&gt;</th><th scope=col>&lt;lgl&gt;</th><th scope=col>&lt;chr&gt;</th><th scope=col>&lt;chr&gt;</th><th scope=col>&lt;chr&gt;</th><th scope=col>&lt;chr&gt;</th><th scope=col>&lt;chr&gt;</th><th scope=col>⋯</th><th scope=col>&lt;dbl&gt;</th><th scope=col>&lt;dbl&gt;</th><th scope=col>&lt;dbl&gt;</th><th scope=col>&lt;lgl&gt;</th><th scope=col>&lt;chr&gt;</th><th scope=col>&lt;chr&gt;</th><th scope=col>&lt;chr&gt;</th><th scope=col>&lt;chr&gt;</th><th scope=col>&lt;lgl&gt;</th><th scope=col>&lt;dbl&gt;</th></tr>\n",
       "</thead>\n",
       "<tbody>\n",
       "\t<tr><td>AAAAAAATCCAGCAATGCAG</td><td>143b-311cas9_repa_p6_batch3</td><td> 0.2896938</td><td>3</td><td>TRUE</td><td>ACH-001001</td><td>Primary</td><td>bone</td><td>osteosarcoma</td><td>G12S</td><td>⋯</td><td>1.1434280</td><td>2.209053</td><td>0</td><td>FALSE</td><td>NA</td><td>NA</td><td>NA</td><td>NA</td><td>FALSE</td><td>4.1009776</td></tr>\n",
       "\t<tr><td>AAAAAACCCGTAGATAGCCT</td><td>143b-311cas9_repa_p6_batch3</td><td> 0.1701723</td><td>3</td><td>TRUE</td><td>ACH-001001</td><td>Primary</td><td>bone</td><td>osteosarcoma</td><td>G12S</td><td>⋯</td><td>0.8850587</td><td>1.846840</td><td>0</td><td>FALSE</td><td>NA</td><td>NA</td><td>NA</td><td>NA</td><td>FALSE</td><td>7.4709435</td></tr>\n",
       "\t<tr><td>AAAAAAGAAGAAAAAACCAG</td><td>143b-311cas9_repa_p6_batch3</td><td>-0.6959467</td><td>3</td><td>TRUE</td><td>ACH-001001</td><td>Primary</td><td>bone</td><td>osteosarcoma</td><td>G12S</td><td>⋯</td><td>0.8946238</td><td>1.859125</td><td>0</td><td>FALSE</td><td>NA</td><td>NA</td><td>NA</td><td>NA</td><td>FALSE</td><td>4.6270231</td></tr>\n",
       "\t<tr><td>AAAAAAGCTCAAGAAGGAGG</td><td>143b-311cas9_repa_p6_batch3</td><td>-0.3249354</td><td>3</td><td>TRUE</td><td>ACH-001001</td><td>Primary</td><td>bone</td><td>osteosarcoma</td><td>G12S</td><td>⋯</td><td>1.0461620</td><td>2.065029</td><td>0</td><td>FALSE</td><td>NA</td><td>NA</td><td>NA</td><td>NA</td><td>FALSE</td><td>4.7750505</td></tr>\n",
       "\t<tr><td>AAAAAAGGCTGTAAAAGCGT</td><td>143b-311cas9_repa_p6_batch3</td><td> 0.1428739</td><td>3</td><td>TRUE</td><td>ACH-001001</td><td>Primary</td><td>bone</td><td>osteosarcoma</td><td>G12S</td><td>⋯</td><td>0.8744568</td><td>1.833318</td><td>0</td><td>FALSE</td><td>NA</td><td>NA</td><td>NA</td><td>NA</td><td>FALSE</td><td>0.2265085</td></tr>\n",
       "\t<tr><td>AAAAAAGGGCTCCAAAAAGG</td><td>143b-311cas9_repa_p6_batch3</td><td>-0.2998787</td><td>3</td><td>TRUE</td><td>ACH-001001</td><td>Primary</td><td>bone</td><td>osteosarcoma</td><td>G12S</td><td>⋯</td><td>1.0855960</td><td>2.122252</td><td>0</td><td>FALSE</td><td>NA</td><td>NA</td><td>NA</td><td>NA</td><td>FALSE</td><td>0.3785116</td></tr>\n",
       "</tbody>\n",
       "</table>\n"
      ],
      "text/latex": [
       "A tibble: 6 × 25\n",
       "\\begin{tabular}{lllllllllllllllllllll}\n",
       " sgrna & replicate\\_id & lfc & pdna\\_batch & passes\\_qc & depmap\\_id & primary\\_or\\_metastasis & lineage & lineage\\_subtype & kras\\_mutation & ⋯ & segment\\_mean & copy\\_number & n\\_muts & any\\_deleterious & variant\\_classification & is\\_deleterious & is\\_tcga\\_hotspot & is\\_cosmic\\_hotspot & mutated\\_at\\_guide\\_location & rna\\_expr\\\\\n",
       " <chr> & <chr> & <dbl> & <dbl> & <lgl> & <chr> & <chr> & <chr> & <chr> & <chr> & ⋯ & <dbl> & <dbl> & <dbl> & <lgl> & <chr> & <chr> & <chr> & <chr> & <lgl> & <dbl>\\\\\n",
       "\\hline\n",
       "\t AAAAAAATCCAGCAATGCAG & 143b-311cas9\\_repa\\_p6\\_batch3 &  0.2896938 & 3 & TRUE & ACH-001001 & Primary & bone & osteosarcoma & G12S & ⋯ & 1.1434280 & 2.209053 & 0 & FALSE & NA & NA & NA & NA & FALSE & 4.1009776\\\\\n",
       "\t AAAAAACCCGTAGATAGCCT & 143b-311cas9\\_repa\\_p6\\_batch3 &  0.1701723 & 3 & TRUE & ACH-001001 & Primary & bone & osteosarcoma & G12S & ⋯ & 0.8850587 & 1.846840 & 0 & FALSE & NA & NA & NA & NA & FALSE & 7.4709435\\\\\n",
       "\t AAAAAAGAAGAAAAAACCAG & 143b-311cas9\\_repa\\_p6\\_batch3 & -0.6959467 & 3 & TRUE & ACH-001001 & Primary & bone & osteosarcoma & G12S & ⋯ & 0.8946238 & 1.859125 & 0 & FALSE & NA & NA & NA & NA & FALSE & 4.6270231\\\\\n",
       "\t AAAAAAGCTCAAGAAGGAGG & 143b-311cas9\\_repa\\_p6\\_batch3 & -0.3249354 & 3 & TRUE & ACH-001001 & Primary & bone & osteosarcoma & G12S & ⋯ & 1.0461620 & 2.065029 & 0 & FALSE & NA & NA & NA & NA & FALSE & 4.7750505\\\\\n",
       "\t AAAAAAGGCTGTAAAAGCGT & 143b-311cas9\\_repa\\_p6\\_batch3 &  0.1428739 & 3 & TRUE & ACH-001001 & Primary & bone & osteosarcoma & G12S & ⋯ & 0.8744568 & 1.833318 & 0 & FALSE & NA & NA & NA & NA & FALSE & 0.2265085\\\\\n",
       "\t AAAAAAGGGCTCCAAAAAGG & 143b-311cas9\\_repa\\_p6\\_batch3 & -0.2998787 & 3 & TRUE & ACH-001001 & Primary & bone & osteosarcoma & G12S & ⋯ & 1.0855960 & 2.122252 & 0 & FALSE & NA & NA & NA & NA & FALSE & 0.3785116\\\\\n",
       "\\end{tabular}\n"
      ],
      "text/markdown": [
       "\n",
       "A tibble: 6 × 25\n",
       "\n",
       "| sgrna &lt;chr&gt; | replicate_id &lt;chr&gt; | lfc &lt;dbl&gt; | pdna_batch &lt;dbl&gt; | passes_qc &lt;lgl&gt; | depmap_id &lt;chr&gt; | primary_or_metastasis &lt;chr&gt; | lineage &lt;chr&gt; | lineage_subtype &lt;chr&gt; | kras_mutation &lt;chr&gt; | ⋯ ⋯ | segment_mean &lt;dbl&gt; | copy_number &lt;dbl&gt; | n_muts &lt;dbl&gt; | any_deleterious &lt;lgl&gt; | variant_classification &lt;chr&gt; | is_deleterious &lt;chr&gt; | is_tcga_hotspot &lt;chr&gt; | is_cosmic_hotspot &lt;chr&gt; | mutated_at_guide_location &lt;lgl&gt; | rna_expr &lt;dbl&gt; |\n",
       "|---|---|---|---|---|---|---|---|---|---|---|---|---|---|---|---|---|---|---|---|---|\n",
       "| AAAAAAATCCAGCAATGCAG | 143b-311cas9_repa_p6_batch3 |  0.2896938 | 3 | TRUE | ACH-001001 | Primary | bone | osteosarcoma | G12S | ⋯ | 1.1434280 | 2.209053 | 0 | FALSE | NA | NA | NA | NA | FALSE | 4.1009776 |\n",
       "| AAAAAACCCGTAGATAGCCT | 143b-311cas9_repa_p6_batch3 |  0.1701723 | 3 | TRUE | ACH-001001 | Primary | bone | osteosarcoma | G12S | ⋯ | 0.8850587 | 1.846840 | 0 | FALSE | NA | NA | NA | NA | FALSE | 7.4709435 |\n",
       "| AAAAAAGAAGAAAAAACCAG | 143b-311cas9_repa_p6_batch3 | -0.6959467 | 3 | TRUE | ACH-001001 | Primary | bone | osteosarcoma | G12S | ⋯ | 0.8946238 | 1.859125 | 0 | FALSE | NA | NA | NA | NA | FALSE | 4.6270231 |\n",
       "| AAAAAAGCTCAAGAAGGAGG | 143b-311cas9_repa_p6_batch3 | -0.3249354 | 3 | TRUE | ACH-001001 | Primary | bone | osteosarcoma | G12S | ⋯ | 1.0461620 | 2.065029 | 0 | FALSE | NA | NA | NA | NA | FALSE | 4.7750505 |\n",
       "| AAAAAAGGCTGTAAAAGCGT | 143b-311cas9_repa_p6_batch3 |  0.1428739 | 3 | TRUE | ACH-001001 | Primary | bone | osteosarcoma | G12S | ⋯ | 0.8744568 | 1.833318 | 0 | FALSE | NA | NA | NA | NA | FALSE | 0.2265085 |\n",
       "| AAAAAAGGGCTCCAAAAAGG | 143b-311cas9_repa_p6_batch3 | -0.2998787 | 3 | TRUE | ACH-001001 | Primary | bone | osteosarcoma | G12S | ⋯ | 1.0855960 | 2.122252 | 0 | FALSE | NA | NA | NA | NA | FALSE | 0.3785116 |\n",
       "\n"
      ],
      "text/plain": [
       "  sgrna                replicate_id                lfc        pdna_batch\n",
       "1 AAAAAAATCCAGCAATGCAG 143b-311cas9_repa_p6_batch3  0.2896938 3         \n",
       "2 AAAAAACCCGTAGATAGCCT 143b-311cas9_repa_p6_batch3  0.1701723 3         \n",
       "3 AAAAAAGAAGAAAAAACCAG 143b-311cas9_repa_p6_batch3 -0.6959467 3         \n",
       "4 AAAAAAGCTCAAGAAGGAGG 143b-311cas9_repa_p6_batch3 -0.3249354 3         \n",
       "5 AAAAAAGGCTGTAAAAGCGT 143b-311cas9_repa_p6_batch3  0.1428739 3         \n",
       "6 AAAAAAGGGCTCCAAAAAGG 143b-311cas9_repa_p6_batch3 -0.2998787 3         \n",
       "  passes_qc depmap_id  primary_or_metastasis lineage lineage_subtype\n",
       "1 TRUE      ACH-001001 Primary               bone    osteosarcoma   \n",
       "2 TRUE      ACH-001001 Primary               bone    osteosarcoma   \n",
       "3 TRUE      ACH-001001 Primary               bone    osteosarcoma   \n",
       "4 TRUE      ACH-001001 Primary               bone    osteosarcoma   \n",
       "5 TRUE      ACH-001001 Primary               bone    osteosarcoma   \n",
       "6 TRUE      ACH-001001 Primary               bone    osteosarcoma   \n",
       "  kras_mutation ⋯ segment_mean copy_number n_muts any_deleterious\n",
       "1 G12S          ⋯ 1.1434280    2.209053    0      FALSE          \n",
       "2 G12S          ⋯ 0.8850587    1.846840    0      FALSE          \n",
       "3 G12S          ⋯ 0.8946238    1.859125    0      FALSE          \n",
       "4 G12S          ⋯ 1.0461620    2.065029    0      FALSE          \n",
       "5 G12S          ⋯ 0.8744568    1.833318    0      FALSE          \n",
       "6 G12S          ⋯ 1.0855960    2.122252    0      FALSE          \n",
       "  variant_classification is_deleterious is_tcga_hotspot is_cosmic_hotspot\n",
       "1 NA                     NA             NA              NA               \n",
       "2 NA                     NA             NA              NA               \n",
       "3 NA                     NA             NA              NA               \n",
       "4 NA                     NA             NA              NA               \n",
       "5 NA                     NA             NA              NA               \n",
       "6 NA                     NA             NA              NA               \n",
       "  mutated_at_guide_location rna_expr \n",
       "1 FALSE                     4.1009776\n",
       "2 FALSE                     7.4709435\n",
       "3 FALSE                     4.6270231\n",
       "4 FALSE                     4.7750505\n",
       "5 FALSE                     0.2265085\n",
       "6 FALSE                     0.3785116"
      ]
     },
     "metadata": {},
     "output_type": "display_data"
    }
   ],
   "source": [
    "modeling_data <- read_csv(modeling_data_path, guess_max = 1e5)\n",
    "head(modeling_data)"
   ]
  },
  {
   "cell_type": "code",
   "execution_count": 5,
   "metadata": {},
   "outputs": [
    {
     "name": "stdout",
     "output_type": "stream",
     "text": [
      "Rows: 120,235,860\n",
      "Columns: 25\n",
      "$ sgrna                     \u001b[3m\u001b[90m<chr>\u001b[39m\u001b[23m \"AAAAAAATCCAGCAATGCAG\", \"AAAAAACCCGTAGATAGC…\n",
      "$ replicate_id              \u001b[3m\u001b[90m<chr>\u001b[39m\u001b[23m \"143b-311cas9_repa_p6_batch3\", \"143b-311cas…\n",
      "$ lfc                       \u001b[3m\u001b[90m<dbl>\u001b[39m\u001b[23m 0.28969381, 0.17017231, -0.69594665, -0.324…\n",
      "$ pdna_batch                \u001b[3m\u001b[90m<dbl>\u001b[39m\u001b[23m 3, 3, 3, 3, 3, 3, 3, 3, 3, 3, 3, 3, 3, 3, 3…\n",
      "$ passes_qc                 \u001b[3m\u001b[90m<lgl>\u001b[39m\u001b[23m TRUE, TRUE, TRUE, TRUE, TRUE, TRUE, TRUE, T…\n",
      "$ depmap_id                 \u001b[3m\u001b[90m<chr>\u001b[39m\u001b[23m \"ACH-001001\", \"ACH-001001\", \"ACH-001001\", \"…\n",
      "$ primary_or_metastasis     \u001b[3m\u001b[90m<chr>\u001b[39m\u001b[23m \"Primary\", \"Primary\", \"Primary\", \"Primary\",…\n",
      "$ lineage                   \u001b[3m\u001b[90m<chr>\u001b[39m\u001b[23m \"bone\", \"bone\", \"bone\", \"bone\", \"bone\", \"bo…\n",
      "$ lineage_subtype           \u001b[3m\u001b[90m<chr>\u001b[39m\u001b[23m \"osteosarcoma\", \"osteosarcoma\", \"osteosarco…\n",
      "$ kras_mutation             \u001b[3m\u001b[90m<chr>\u001b[39m\u001b[23m \"G12S\", \"G12S\", \"G12S\", \"G12S\", \"G12S\", \"G1…\n",
      "$ genome_alignment          \u001b[3m\u001b[90m<chr>\u001b[39m\u001b[23m \"chr10_110964620_+\", \"chr12_95003615_+\", \"c…\n",
      "$ n_alignments              \u001b[3m\u001b[90m<dbl>\u001b[39m\u001b[23m 1, 1, 1, 1, 1, 1, 1, 1, 1, 1, 1, 1, 1, 1, 1…\n",
      "$ hugo_symbol               \u001b[3m\u001b[90m<chr>\u001b[39m\u001b[23m \"SHOC2\", \"NDUFA12\", \"SDAD1\", \"FAM98A\", \"ZNF…\n",
      "$ chromosome                \u001b[3m\u001b[90m<chr>\u001b[39m\u001b[23m \"10\", \"12\", \"4\", \"2\", \"19\", \"6\", \"14\", \"1\",…\n",
      "$ chrom_pos                 \u001b[3m\u001b[90m<dbl>\u001b[39m\u001b[23m 110964620, 95003615, 75970356, 33588446, 19…\n",
      "$ segment_mean              \u001b[3m\u001b[90m<dbl>\u001b[39m\u001b[23m 1.1434280, 0.8850587, 0.8946238, 1.0461620,…\n",
      "$ copy_number               \u001b[3m\u001b[90m<dbl>\u001b[39m\u001b[23m 2.209053, 1.846840, 1.859125, 2.065029, 1.8…\n",
      "$ n_muts                    \u001b[3m\u001b[90m<dbl>\u001b[39m\u001b[23m 0, 0, 0, 0, 0, 0, 0, 0, 0, 0, 0, 0, 0, 1, 0…\n",
      "$ any_deleterious           \u001b[3m\u001b[90m<lgl>\u001b[39m\u001b[23m FALSE, FALSE, FALSE, FALSE, FALSE, FALSE, F…\n",
      "$ variant_classification    \u001b[3m\u001b[90m<chr>\u001b[39m\u001b[23m NA, NA, NA, NA, NA, NA, NA, NA, NA, NA, NA,…\n",
      "$ is_deleterious            \u001b[3m\u001b[90m<chr>\u001b[39m\u001b[23m NA, NA, NA, NA, NA, NA, NA, NA, NA, NA, NA,…\n",
      "$ is_tcga_hotspot           \u001b[3m\u001b[90m<chr>\u001b[39m\u001b[23m NA, NA, NA, NA, NA, NA, NA, NA, NA, NA, NA,…\n",
      "$ is_cosmic_hotspot         \u001b[3m\u001b[90m<chr>\u001b[39m\u001b[23m NA, NA, NA, NA, NA, NA, NA, NA, NA, NA, NA,…\n",
      "$ mutated_at_guide_location \u001b[3m\u001b[90m<lgl>\u001b[39m\u001b[23m FALSE, FALSE, FALSE, FALSE, FALSE, FALSE, F…\n",
      "$ rna_expr                  \u001b[3m\u001b[90m<dbl>\u001b[39m\u001b[23m 4.1009776, 7.4709435, 4.6270231, 4.7750505,…\n"
     ]
    }
   ],
   "source": [
    "glimpse(modeling_data)"
   ]
  },
  {
   "cell_type": "code",
   "execution_count": 6,
   "metadata": {},
   "outputs": [
    {
     "data": {
      "text/html": [
       "72133"
      ],
      "text/latex": [
       "72133"
      ],
      "text/markdown": [
       "72133"
      ],
      "text/plain": [
       "[1] 72133"
      ]
     },
     "metadata": {},
     "output_type": "display_data"
    }
   ],
   "source": [
    "# Number of unique guides.\n",
    "n_distinct(modeling_data$sgrna)"
   ]
  },
  {
   "cell_type": "code",
   "execution_count": 7,
   "metadata": {},
   "outputs": [
    {
     "data": {
      "text/html": [
       "767"
      ],
      "text/latex": [
       "767"
      ],
      "text/markdown": [
       "767"
      ],
      "text/plain": [
       "[1] 767"
      ]
     },
     "metadata": {},
     "output_type": "display_data"
    }
   ],
   "source": [
    "# Number of unique cell lines.\n",
    "n_distinct(modeling_data$depmap_id)"
   ]
  },
  {
   "cell_type": "code",
   "execution_count": 8,
   "metadata": {},
   "outputs": [
    {
     "data": {
      "text/html": [
       "18524"
      ],
      "text/latex": [
       "18524"
      ],
      "text/markdown": [
       "18524"
      ],
      "text/plain": [
       "[1] 18524"
      ]
     },
     "metadata": {},
     "output_type": "display_data"
    }
   ],
   "source": [
    "# Number of genes.\n",
    "n_distinct(modeling_data$hugo_symbol)"
   ]
  },
  {
   "cell_type": "code",
   "execution_count": 12,
   "metadata": {},
   "outputs": [
    {
     "data": {
      "text/html": [
       "TRUE"
      ],
      "text/latex": [
       "TRUE"
      ],
      "text/markdown": [
       "TRUE"
      ],
      "text/plain": [
       "[1] TRUE"
      ]
     },
     "metadata": {},
     "output_type": "display_data"
    }
   ],
   "source": [
    "# Some specific genes to subset.\n",
    "specific_genes <- c(\"KRAS\", \"BRAF\", \"PIK3CA\", \"PTK2\", \"MDM2\", \"TP53\")\n",
    "\n",
    "set.seed(0)\n",
    "num_random_genes <- 20\n",
    "subsample_genes <- c(\n",
    "    sample(unique(modeling_data$hugo_symbol), num_random_genes),\n",
    "    specific_genes\n",
    ")\n",
    "\n",
    "# Check that all genes are actually in the modeling data.\n",
    "all(subsample_genes %in% modeling_data$hugo_symbol)"
   ]
  },
  {
   "cell_type": "code",
   "execution_count": 13,
   "metadata": {},
   "outputs": [
    {
     "data": {
      "text/html": [
       "<style>\n",
       ".list-inline {list-style: none; margin:0; padding: 0}\n",
       ".list-inline>li {display: inline-block}\n",
       ".list-inline>li:not(:last-child)::after {content: \"\\00b7\"; padding: 0 .5ex}\n",
       "</style>\n",
       "<ol class=list-inline><li>'PHACTR3'</li><li>'ZSWIM8'</li><li>'DPH7'</li><li>'LGALS7B'</li><li>'DISP1'</li><li>'KIF3C'</li><li>'RNF125'</li><li>'LGALS4'</li><li>'SLC7A14'</li><li>'UQCRC1'</li><li>'SCMH1'</li><li>'SMAD7'</li><li>'GHSR'</li><li>'IQCK'</li><li>'NDUFAF3'</li><li>'FAM43B'</li><li>'PDE5A'</li><li>'HIST1H2BO'</li><li>'ADAMTS13'</li><li>'CXCL2'</li><li>'KRAS'</li><li>'BRAF'</li><li>'PIK3CA'</li><li>'PTK2'</li><li>'MDM2'</li><li>'TP53'</li></ol>\n"
      ],
      "text/latex": [
       "\\begin{enumerate*}\n",
       "\\item 'PHACTR3'\n",
       "\\item 'ZSWIM8'\n",
       "\\item 'DPH7'\n",
       "\\item 'LGALS7B'\n",
       "\\item 'DISP1'\n",
       "\\item 'KIF3C'\n",
       "\\item 'RNF125'\n",
       "\\item 'LGALS4'\n",
       "\\item 'SLC7A14'\n",
       "\\item 'UQCRC1'\n",
       "\\item 'SCMH1'\n",
       "\\item 'SMAD7'\n",
       "\\item 'GHSR'\n",
       "\\item 'IQCK'\n",
       "\\item 'NDUFAF3'\n",
       "\\item 'FAM43B'\n",
       "\\item 'PDE5A'\n",
       "\\item 'HIST1H2BO'\n",
       "\\item 'ADAMTS13'\n",
       "\\item 'CXCL2'\n",
       "\\item 'KRAS'\n",
       "\\item 'BRAF'\n",
       "\\item 'PIK3CA'\n",
       "\\item 'PTK2'\n",
       "\\item 'MDM2'\n",
       "\\item 'TP53'\n",
       "\\end{enumerate*}\n"
      ],
      "text/markdown": [
       "1. 'PHACTR3'\n",
       "2. 'ZSWIM8'\n",
       "3. 'DPH7'\n",
       "4. 'LGALS7B'\n",
       "5. 'DISP1'\n",
       "6. 'KIF3C'\n",
       "7. 'RNF125'\n",
       "8. 'LGALS4'\n",
       "9. 'SLC7A14'\n",
       "10. 'UQCRC1'\n",
       "11. 'SCMH1'\n",
       "12. 'SMAD7'\n",
       "13. 'GHSR'\n",
       "14. 'IQCK'\n",
       "15. 'NDUFAF3'\n",
       "16. 'FAM43B'\n",
       "17. 'PDE5A'\n",
       "18. 'HIST1H2BO'\n",
       "19. 'ADAMTS13'\n",
       "20. 'CXCL2'\n",
       "21. 'KRAS'\n",
       "22. 'BRAF'\n",
       "23. 'PIK3CA'\n",
       "24. 'PTK2'\n",
       "25. 'MDM2'\n",
       "26. 'TP53'\n",
       "\n",
       "\n"
      ],
      "text/plain": [
       " [1] \"PHACTR3\"   \"ZSWIM8\"    \"DPH7\"      \"LGALS7B\"   \"DISP1\"     \"KIF3C\"    \n",
       " [7] \"RNF125\"    \"LGALS4\"    \"SLC7A14\"   \"UQCRC1\"    \"SCMH1\"     \"SMAD7\"    \n",
       "[13] \"GHSR\"      \"IQCK\"      \"NDUFAF3\"   \"FAM43B\"    \"PDE5A\"     \"HIST1H2BO\"\n",
       "[19] \"ADAMTS13\"  \"CXCL2\"     \"KRAS\"      \"BRAF\"      \"PIK3CA\"    \"PTK2\"     \n",
       "[25] \"MDM2\"      \"TP53\"     "
      ]
     },
     "metadata": {},
     "output_type": "display_data"
    }
   ],
   "source": [
    "subsample_genes"
   ]
  },
  {
   "cell_type": "code",
   "execution_count": 18,
   "metadata": {},
   "outputs": [
    {
     "data": {
      "text/plain": [
       "31.5 MB"
      ]
     },
     "metadata": {},
     "output_type": "display_data"
    }
   ],
   "source": [
    "subsample_modeling_data <- modeling_data %>% filter(hugo_symbol %in% subsample_genes)\n",
    "pryr::object_size(subsample_modeling_data)"
   ]
  },
  {
   "cell_type": "code",
   "execution_count": 21,
   "metadata": {},
   "outputs": [
    {
     "data": {
      "text/html": [
       "166345"
      ],
      "text/latex": [
       "166345"
      ],
      "text/markdown": [
       "166345"
      ],
      "text/plain": [
       "[1] 166345"
      ]
     },
     "metadata": {},
     "output_type": "display_data"
    }
   ],
   "source": [
    "nrow(subsample_modeling_data)"
   ]
  },
  {
   "cell_type": "code",
   "execution_count": 22,
   "metadata": {},
   "outputs": [],
   "source": [
    "write_csv(subsample_modeling_data, out_path)"
   ]
  },
  {
   "cell_type": "code",
   "execution_count": null,
   "metadata": {},
   "outputs": [],
   "source": []
  }
 ],
 "metadata": {
  "kernelspec": {
   "display_name": "R",
   "language": "R",
   "name": "ir"
  },
  "language_info": {
   "codemirror_mode": "r",
   "file_extension": ".r",
   "mimetype": "text/x-r-source",
   "name": "R",
   "pygments_lexer": "r",
   "version": "4.0.1"
  }
 },
 "nbformat": 4,
 "nbformat_minor": 4
}
