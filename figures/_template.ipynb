{
 "cells": [
  {
   "cell_type": "markdown",
   "id": "0e0cd0b9-8e6e-4e5d-bc8a-784ae6e8e496",
   "metadata": {},
   "source": [
    "# Figure X (vX)\n",
    "\n",
    "Description...."
   ]
  },
  {
   "cell_type": "markdown",
   "id": "a1f0cd0b-9f8b-4b8d-97ba-18f3813d424e",
   "metadata": {},
   "source": [
    "## Setup"
   ]
  },
  {
   "cell_type": "markdown",
   "id": "6f45e1d7-3e45-4da6-a30a-a3fa0f7c220f",
   "metadata": {},
   "source": [
    "### Imports"
   ]
  },
  {
   "cell_type": "code",
   "execution_count": null,
   "id": "ed322a4d-c8ff-40d4-9c3c-f089812c1b6e",
   "metadata": {},
   "outputs": [],
   "source": [
    "%load_ext autoreload\n",
    "%autoreload 2"
   ]
  },
  {
   "cell_type": "code",
   "execution_count": null,
   "id": "61acb01a-5630-4a76-9b48-f48f13a7180c",
   "metadata": {},
   "outputs": [],
   "source": [
    "import janitor  # noqa: F401\n",
    "import matplotlib.pyplot as plt\n",
    "import pandas as pd\n",
    "import seaborn as sns"
   ]
  },
  {
   "cell_type": "code",
   "execution_count": null,
   "id": "db7bd930-6996-45ee-9ec7-a3985dcc8079",
   "metadata": {},
   "outputs": [],
   "source": [
    "import speclet.plot as sp\n",
    "from speclet.io import figure_img_file"
   ]
  },
  {
   "cell_type": "code",
   "execution_count": null,
   "id": "3e18206d-2204-4397-9a2c-95652d85eb9b",
   "metadata": {},
   "outputs": [],
   "source": [
    "%matplotlib inline\n",
    "%config InlineBackend.figure_format='retina'\n",
    "sp.set_speclet_theme(sp.PlottingMode.DISSERTATION)"
   ]
  },
  {
   "cell_type": "markdown",
   "id": "a7124ba6-6727-4831-a418-c7cdcb71cb78",
   "metadata": {},
   "source": [
    "### Data"
   ]
  },
  {
   "cell_type": "code",
   "execution_count": null,
   "id": "01fa5896-af5f-4b96-bca3-a0cf2f32fb15",
   "metadata": {},
   "outputs": [],
   "source": []
  },
  {
   "cell_type": "markdown",
   "id": "01ca2a98-dadc-41e3-ba7a-bbf604afe5ec",
   "metadata": {},
   "source": [
    "## Figure"
   ]
  },
  {
   "cell_type": "markdown",
   "id": "233f509f-8f01-4cf1-b148-5bf623d83957",
   "metadata": {},
   "source": [
    "### Shared"
   ]
  },
  {
   "cell_type": "code",
   "execution_count": null,
   "id": "3b760b62-5d24-4c38-a0d1-b778675af034",
   "metadata": {},
   "outputs": [],
   "source": [
    "FIGNUM, VERSION = 0, 0\n",
    "FIGURE_FILE = figure_img_file(FIGNUM, VERSION, \"name\")\n",
    "FIGURE_FILE"
   ]
  },
  {
   "cell_type": "code",
   "execution_count": null,
   "id": "9ffa3919-f6c9-407e-9b02-ba2c017b45f8",
   "metadata": {},
   "outputs": [],
   "source": [
    "FIGSIZE = (6.5, 6)\n",
    "figure = plt.figure(constrained_layout=True, figsize=FIGSIZE)\n",
    "subfigures = figure.subfigures(nrows=2, ncols=1, squeeze=True, height_ratios=(1, 2))\n",
    "\n",
    "subfigure_ab = subfigures[0].subfigures(\n",
    "    nrows=1, ncols=2, squeeze=True, width_ratios=(1, 1)\n",
    ")\n",
    "panel_a_fig = subfigure_ab[0]\n",
    "panel_b_fig = subfigure_ab[1]\n",
    "panel_c_fig = subfigures[1]"
   ]
  },
  {
   "cell_type": "markdown",
   "id": "695d561c-17fb-44c6-94a2-7e91f43a971d",
   "metadata": {},
   "source": [
    "### a. ..."
   ]
  },
  {
   "cell_type": "code",
   "execution_count": null,
   "id": "156e9e35-555e-4fcf-8441-2683895916a6",
   "metadata": {},
   "outputs": [],
   "source": []
  },
  {
   "cell_type": "code",
   "execution_count": null,
   "id": "0788f47a-ba59-407b-92c1-da5ce76d6e3a",
   "metadata": {},
   "outputs": [],
   "source": []
  },
  {
   "cell_type": "code",
   "execution_count": null,
   "id": "0fe56c83-3e37-4d76-8684-a83e9833ef16",
   "metadata": {},
   "outputs": [],
   "source": []
  },
  {
   "cell_type": "code",
   "execution_count": null,
   "id": "eb2e8ea3-e8ba-42ee-9cfd-eacf5a5055b5",
   "metadata": {},
   "outputs": [],
   "source": []
  },
  {
   "cell_type": "markdown",
   "id": "955af078-bdee-47ac-ab5f-df0d704c9f72",
   "metadata": {},
   "source": [
    "## Saving"
   ]
  },
  {
   "cell_type": "code",
   "execution_count": null,
   "id": "9fc8be94-2b5c-40fa-926e-4ee3ec2253da",
   "metadata": {},
   "outputs": [],
   "source": [
    "figure.savefig(FIGURE_FILE, dpi=400, pad_inches=0)\n",
    "\n",
    "fig, ax = plt.subplots(figsize=[x * 2 for x in FIGSIZE])\n",
    "ax.imshow(plt.imread(FIGURE_FILE))\n",
    "ax.axis(\"off\")\n",
    "plt.show()"
   ]
  },
  {
   "cell_type": "markdown",
   "id": "354d1be1-6345-45bd-894b-b462c5bb059f",
   "metadata": {},
   "source": [
    "---"
   ]
  },
  {
   "cell_type": "markdown",
   "id": "2bddc14e-8be7-441f-930a-26f0965ea0b7",
   "metadata": {},
   "source": [
    "## Session Info"
   ]
  },
  {
   "cell_type": "code",
   "execution_count": null,
   "id": "181a54e9-53c2-431b-adbb-9babb7890eec",
   "metadata": {},
   "outputs": [],
   "source": [
    "%load_ext watermark\n",
    "%watermark -d -u -v -iv -b -h -m"
   ]
  }
 ],
 "metadata": {
  "kernelspec": {
   "display_name": "Python 3.10.5 ('speclet')",
   "language": "python",
   "name": "python3"
  },
  "language_info": {
   "codemirror_mode": {
    "name": "ipython",
    "version": 3
   },
   "file_extension": ".py",
   "mimetype": "text/x-python",
   "name": "python",
   "nbconvert_exporter": "python",
   "pygments_lexer": "ipython3",
   "version": "3.10.5"
  },
  "vscode": {
   "interpreter": {
    "hash": "4769bf24bc498781164c688bc11a94206605929ba0bbe41f9e4c6af0ec480c6e"
   }
  }
 },
 "nbformat": 4,
 "nbformat_minor": 5
}
