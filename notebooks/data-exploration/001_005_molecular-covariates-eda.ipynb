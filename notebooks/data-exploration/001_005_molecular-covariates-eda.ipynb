{
 "cells": [
  {
   "cell_type": "code",
   "execution_count": 1,
   "id": "6929a6b1-1329-4045-b044-7f53cdcda6af",
   "metadata": {},
   "outputs": [],
   "source": [
    "%load_ext autoreload\n",
    "%autoreload 2"
   ]
  },
  {
   "cell_type": "code",
   "execution_count": 2,
   "id": "3dc98ead-397c-4e93-98f9-5f0dec2ad4f5",
   "metadata": {},
   "outputs": [],
   "source": [
    "import numpy as np\n",
    "import pandas as pd\n",
    "import seaborn as sns"
   ]
  },
  {
   "cell_type": "code",
   "execution_count": 3,
   "id": "a42cc1c6-400e-45f1-9987-67963abf61e3",
   "metadata": {},
   "outputs": [],
   "source": [
    "from speclet.bayesian_models.hierarchical_nb import HierarchcalNegativeBinomialModel\n",
    "from speclet.data_processing.vectors import zscale\n",
    "from speclet.io import DataFile\n",
    "from speclet.managers.data_managers import CrisprScreenDataManager"
   ]
  },
  {
   "cell_type": "code",
   "execution_count": 4,
   "id": "b9e878e9-debe-4a3e-9fb7-707a0e4b24a5",
   "metadata": {},
   "outputs": [],
   "source": [
    "hnb = HierarchcalNegativeBinomialModel()"
   ]
  },
  {
   "cell_type": "code",
   "execution_count": 5,
   "id": "6df4d5c4-dce4-42a7-b914-ac83a238fca2",
   "metadata": {},
   "outputs": [
    {
     "name": "stderr",
     "output_type": "stream",
     "text": [
      "/Users/admin/Developer/haigis-lab/speclet/speclet/managers/data_managers.py:139: DtypeWarning: Columns (3,22) have mixed types. Specify dtype option on import or set low_memory=False.\n",
      "  self._data = pd.read_csv(self.data_file, **read_kwargs)\n"
     ]
    },
    {
     "data": {
      "text/html": [
       "<div>\n",
       "<style scoped>\n",
       "    .dataframe tbody tr th:only-of-type {\n",
       "        vertical-align: middle;\n",
       "    }\n",
       "\n",
       "    .dataframe tbody tr th {\n",
       "        vertical-align: top;\n",
       "    }\n",
       "\n",
       "    .dataframe thead th {\n",
       "        text-align: right;\n",
       "    }\n",
       "</style>\n",
       "<table border=\"1\" class=\"dataframe\">\n",
       "  <thead>\n",
       "    <tr style=\"text-align: right;\">\n",
       "      <th></th>\n",
       "      <th>sgrna</th>\n",
       "      <th>replicate_id</th>\n",
       "      <th>lfc</th>\n",
       "      <th>p_dna_batch</th>\n",
       "      <th>genome_alignment</th>\n",
       "      <th>hugo_symbol</th>\n",
       "      <th>screen</th>\n",
       "      <th>multiple_hits_on_gene</th>\n",
       "      <th>sgrna_target_chr</th>\n",
       "      <th>sgrna_target_pos</th>\n",
       "      <th>...</th>\n",
       "      <th>num_mutations</th>\n",
       "      <th>any_deleterious</th>\n",
       "      <th>any_tcga_hotspot</th>\n",
       "      <th>any_cosmic_hotspot</th>\n",
       "      <th>is_mutated</th>\n",
       "      <th>copy_number</th>\n",
       "      <th>lineage</th>\n",
       "      <th>primary_or_metastasis</th>\n",
       "      <th>is_male</th>\n",
       "      <th>age</th>\n",
       "    </tr>\n",
       "  </thead>\n",
       "  <tbody>\n",
       "    <tr>\n",
       "      <th>0</th>\n",
       "      <td>AAAGCCCAGGAGTATGGGAG</td>\n",
       "      <td>LS513-311Cas9_RepA_p6_batch2</td>\n",
       "      <td>0.594321</td>\n",
       "      <td>2</td>\n",
       "      <td>chr2_130522105_-</td>\n",
       "      <td>CFC1B</td>\n",
       "      <td>broad</td>\n",
       "      <td>True</td>\n",
       "      <td>2</td>\n",
       "      <td>130522105</td>\n",
       "      <td>...</td>\n",
       "      <td>0</td>\n",
       "      <td>NaN</td>\n",
       "      <td>NaN</td>\n",
       "      <td>NaN</td>\n",
       "      <td>False</td>\n",
       "      <td>0.951337</td>\n",
       "      <td>colorectal</td>\n",
       "      <td>primary</td>\n",
       "      <td>True</td>\n",
       "      <td>63.0</td>\n",
       "    </tr>\n",
       "    <tr>\n",
       "      <th>1</th>\n",
       "      <td>AATCGGAATGGTCTCGCTC</td>\n",
       "      <td>LS513_c903R1</td>\n",
       "      <td>-0.272724</td>\n",
       "      <td>ERS717283.plasmid</td>\n",
       "      <td>chr6_81751906_+</td>\n",
       "      <td>TENT5A</td>\n",
       "      <td>sanger</td>\n",
       "      <td>True</td>\n",
       "      <td>6</td>\n",
       "      <td>81751906</td>\n",
       "      <td>...</td>\n",
       "      <td>0</td>\n",
       "      <td>NaN</td>\n",
       "      <td>NaN</td>\n",
       "      <td>NaN</td>\n",
       "      <td>False</td>\n",
       "      <td>0.949854</td>\n",
       "      <td>colorectal</td>\n",
       "      <td>primary</td>\n",
       "      <td>True</td>\n",
       "      <td>63.0</td>\n",
       "    </tr>\n",
       "    <tr>\n",
       "      <th>2</th>\n",
       "      <td>ACGCCACTGACACTCAAGG</td>\n",
       "      <td>LS513_c903R1</td>\n",
       "      <td>0.583209</td>\n",
       "      <td>ERS717283.plasmid</td>\n",
       "      <td>chr1_27006713_-</td>\n",
       "      <td>TENT5B</td>\n",
       "      <td>sanger</td>\n",
       "      <td>True</td>\n",
       "      <td>1</td>\n",
       "      <td>27006713</td>\n",
       "      <td>...</td>\n",
       "      <td>0</td>\n",
       "      <td>NaN</td>\n",
       "      <td>NaN</td>\n",
       "      <td>NaN</td>\n",
       "      <td>False</td>\n",
       "      <td>0.961139</td>\n",
       "      <td>colorectal</td>\n",
       "      <td>primary</td>\n",
       "      <td>True</td>\n",
       "      <td>63.0</td>\n",
       "    </tr>\n",
       "    <tr>\n",
       "      <th>3</th>\n",
       "      <td>ACTTGTCTCATGAACGTGAT</td>\n",
       "      <td>LS513-311Cas9_RepA_p6_batch2</td>\n",
       "      <td>0.475678</td>\n",
       "      <td>2</td>\n",
       "      <td>chr2_86917638_+</td>\n",
       "      <td>RGPD1</td>\n",
       "      <td>broad</td>\n",
       "      <td>True</td>\n",
       "      <td>2</td>\n",
       "      <td>86917638</td>\n",
       "      <td>...</td>\n",
       "      <td>0</td>\n",
       "      <td>NaN</td>\n",
       "      <td>NaN</td>\n",
       "      <td>NaN</td>\n",
       "      <td>False</td>\n",
       "      <td>0.949234</td>\n",
       "      <td>colorectal</td>\n",
       "      <td>primary</td>\n",
       "      <td>True</td>\n",
       "      <td>63.0</td>\n",
       "    </tr>\n",
       "    <tr>\n",
       "      <th>4</th>\n",
       "      <td>AGAAACTTCACCCCTTTCAT</td>\n",
       "      <td>LS513-311Cas9_RepA_p6_batch2</td>\n",
       "      <td>0.296108</td>\n",
       "      <td>2</td>\n",
       "      <td>chr16_18543661_+</td>\n",
       "      <td>NOMO2</td>\n",
       "      <td>broad</td>\n",
       "      <td>True</td>\n",
       "      <td>16</td>\n",
       "      <td>18543661</td>\n",
       "      <td>...</td>\n",
       "      <td>0</td>\n",
       "      <td>NaN</td>\n",
       "      <td>NaN</td>\n",
       "      <td>NaN</td>\n",
       "      <td>False</td>\n",
       "      <td>0.944648</td>\n",
       "      <td>colorectal</td>\n",
       "      <td>primary</td>\n",
       "      <td>True</td>\n",
       "      <td>63.0</td>\n",
       "    </tr>\n",
       "  </tbody>\n",
       "</table>\n",
       "<p>5 rows × 24 columns</p>\n",
       "</div>"
      ],
      "text/plain": [
       "                  sgrna                  replicate_id       lfc  \\\n",
       "0  AAAGCCCAGGAGTATGGGAG  LS513-311Cas9_RepA_p6_batch2  0.594321   \n",
       "1   AATCGGAATGGTCTCGCTC                  LS513_c903R1 -0.272724   \n",
       "2   ACGCCACTGACACTCAAGG                  LS513_c903R1  0.583209   \n",
       "3  ACTTGTCTCATGAACGTGAT  LS513-311Cas9_RepA_p6_batch2  0.475678   \n",
       "4  AGAAACTTCACCCCTTTCAT  LS513-311Cas9_RepA_p6_batch2  0.296108   \n",
       "\n",
       "         p_dna_batch  genome_alignment hugo_symbol  screen  \\\n",
       "0                  2  chr2_130522105_-       CFC1B   broad   \n",
       "1  ERS717283.plasmid   chr6_81751906_+      TENT5A  sanger   \n",
       "2  ERS717283.plasmid   chr1_27006713_-      TENT5B  sanger   \n",
       "3                  2   chr2_86917638_+       RGPD1   broad   \n",
       "4                  2  chr16_18543661_+       NOMO2   broad   \n",
       "\n",
       "   multiple_hits_on_gene sgrna_target_chr  sgrna_target_pos  ...  \\\n",
       "0                   True                2         130522105  ...   \n",
       "1                   True                6          81751906  ...   \n",
       "2                   True                1          27006713  ...   \n",
       "3                   True                2          86917638  ...   \n",
       "4                   True               16          18543661  ...   \n",
       "\n",
       "  num_mutations  any_deleterious  any_tcga_hotspot  any_cosmic_hotspot  \\\n",
       "0             0              NaN               NaN                 NaN   \n",
       "1             0              NaN               NaN                 NaN   \n",
       "2             0              NaN               NaN                 NaN   \n",
       "3             0              NaN               NaN                 NaN   \n",
       "4             0              NaN               NaN                 NaN   \n",
       "\n",
       "   is_mutated copy_number     lineage primary_or_metastasis  is_male   age  \n",
       "0       False    0.951337  colorectal               primary     True  63.0  \n",
       "1       False    0.949854  colorectal               primary     True  63.0  \n",
       "2       False    0.961139  colorectal               primary     True  63.0  \n",
       "3       False    0.949234  colorectal               primary     True  63.0  \n",
       "4       False    0.944648  colorectal               primary     True  63.0  \n",
       "\n",
       "[5 rows x 24 columns]"
      ]
     },
     "execution_count": 5,
     "metadata": {},
     "output_type": "execute_result"
    }
   ],
   "source": [
    "data_manager = CrisprScreenDataManager(DataFile.DEPMAP_CRC_BONE_LARGE_SUBSAMPLE)\n",
    "ct_data = data_manager.get_data()\n",
    "ct_data.head()"
   ]
  },
  {
   "cell_type": "code",
   "execution_count": 6,
   "id": "ed626108-fbb5-4e67-b3bc-52e84faecc92",
   "metadata": {},
   "outputs": [],
   "source": [
    "valid_data = hnb.data_processing_pipeline(ct_data)"
   ]
  },
  {
   "cell_type": "code",
   "execution_count": 7,
   "id": "32947bee-3557-4c02-8531-6061a0aa1efb",
   "metadata": {},
   "outputs": [
    {
     "data": {
      "text/plain": [
       "(865044, 32)"
      ]
     },
     "execution_count": 7,
     "metadata": {},
     "output_type": "execute_result"
    }
   ],
   "source": [
    "valid_data.shape"
   ]
  },
  {
   "cell_type": "code",
   "execution_count": 8,
   "id": "a8bbd801-c3ef-4300-9ebd-9af4d8a5c69a",
   "metadata": {},
   "outputs": [
    {
     "data": {
      "text/html": [
       "<div>\n",
       "<style scoped>\n",
       "    .dataframe tbody tr th:only-of-type {\n",
       "        vertical-align: middle;\n",
       "    }\n",
       "\n",
       "    .dataframe tbody tr th {\n",
       "        vertical-align: top;\n",
       "    }\n",
       "\n",
       "    .dataframe thead th {\n",
       "        text-align: right;\n",
       "    }\n",
       "</style>\n",
       "<table border=\"1\" class=\"dataframe\">\n",
       "  <thead>\n",
       "    <tr style=\"text-align: right;\">\n",
       "      <th></th>\n",
       "      <th>sgrna</th>\n",
       "      <th>replicate_id</th>\n",
       "      <th>lfc</th>\n",
       "      <th>p_dna_batch</th>\n",
       "      <th>genome_alignment</th>\n",
       "      <th>hugo_symbol</th>\n",
       "      <th>screen</th>\n",
       "      <th>multiple_hits_on_gene</th>\n",
       "      <th>sgrna_target_chr</th>\n",
       "      <th>sgrna_target_pos</th>\n",
       "      <th>...</th>\n",
       "      <th>is_male</th>\n",
       "      <th>age</th>\n",
       "      <th>z_rna_gene_lineage</th>\n",
       "      <th>z_cn_gene</th>\n",
       "      <th>z_cn_cell_line</th>\n",
       "      <th>log_rna_expr</th>\n",
       "      <th>counts_final_total</th>\n",
       "      <th>counts_initial_total</th>\n",
       "      <th>counts_final_rpm</th>\n",
       "      <th>counts_initial_adj</th>\n",
       "    </tr>\n",
       "  </thead>\n",
       "  <tbody>\n",
       "    <tr>\n",
       "      <th>0</th>\n",
       "      <td>AAAGCCCAGGAGTATGGGAG</td>\n",
       "      <td>LS513-311Cas9_RepA_p6_batch2</td>\n",
       "      <td>0.594321</td>\n",
       "      <td>2</td>\n",
       "      <td>chr2_130522105_-</td>\n",
       "      <td>CFC1B</td>\n",
       "      <td>broad</td>\n",
       "      <td>True</td>\n",
       "      <td>2</td>\n",
       "      <td>130522105</td>\n",
       "      <td>...</td>\n",
       "      <td>True</td>\n",
       "      <td>63.0</td>\n",
       "      <td>-0.160128</td>\n",
       "      <td>-0.445925</td>\n",
       "      <td>-0.354485</td>\n",
       "      <td>0.000000</td>\n",
       "      <td>35176093</td>\n",
       "      <td>1.072163e+06</td>\n",
       "      <td>13.309497</td>\n",
       "      <td>257.442323</td>\n",
       "    </tr>\n",
       "    <tr>\n",
       "      <th>1</th>\n",
       "      <td>ACTTGTCTCATGAACGTGAT</td>\n",
       "      <td>LS513-311Cas9_RepA_p6_batch2</td>\n",
       "      <td>0.475678</td>\n",
       "      <td>2</td>\n",
       "      <td>chr2_86917638_+</td>\n",
       "      <td>RGPD1</td>\n",
       "      <td>broad</td>\n",
       "      <td>True</td>\n",
       "      <td>2</td>\n",
       "      <td>86917638</td>\n",
       "      <td>...</td>\n",
       "      <td>True</td>\n",
       "      <td>63.0</td>\n",
       "      <td>-0.702651</td>\n",
       "      <td>-0.504988</td>\n",
       "      <td>-0.367375</td>\n",
       "      <td>0.014253</td>\n",
       "      <td>35176093</td>\n",
       "      <td>1.072163e+06</td>\n",
       "      <td>37.928490</td>\n",
       "      <td>766.756365</td>\n",
       "    </tr>\n",
       "    <tr>\n",
       "      <th>2</th>\n",
       "      <td>AGAAACTTCACCCCTTTCAT</td>\n",
       "      <td>LS513-311Cas9_RepA_p6_batch2</td>\n",
       "      <td>0.296108</td>\n",
       "      <td>2</td>\n",
       "      <td>chr16_18543661_+</td>\n",
       "      <td>NOMO2</td>\n",
       "      <td>broad</td>\n",
       "      <td>True</td>\n",
       "      <td>16</td>\n",
       "      <td>18543661</td>\n",
       "      <td>...</td>\n",
       "      <td>True</td>\n",
       "      <td>63.0</td>\n",
       "      <td>0.238451</td>\n",
       "      <td>-0.183505</td>\n",
       "      <td>-0.395475</td>\n",
       "      <td>2.005789</td>\n",
       "      <td>35176093</td>\n",
       "      <td>1.072163e+06</td>\n",
       "      <td>29.513684</td>\n",
       "      <td>685.044642</td>\n",
       "    </tr>\n",
       "    <tr>\n",
       "      <th>3</th>\n",
       "      <td>AGCTGAGCGCAGGGACCGGG</td>\n",
       "      <td>LS513-311Cas9_RepA_p6_batch2</td>\n",
       "      <td>-0.020788</td>\n",
       "      <td>2</td>\n",
       "      <td>chr1_27012633_-</td>\n",
       "      <td>TENT5B</td>\n",
       "      <td>broad</td>\n",
       "      <td>True</td>\n",
       "      <td>1</td>\n",
       "      <td>27012633</td>\n",
       "      <td>...</td>\n",
       "      <td>True</td>\n",
       "      <td>63.0</td>\n",
       "      <td>-0.782033</td>\n",
       "      <td>-0.202823</td>\n",
       "      <td>-0.294429</td>\n",
       "      <td>0.162393</td>\n",
       "      <td>35176093</td>\n",
       "      <td>1.072163e+06</td>\n",
       "      <td>4.837834</td>\n",
       "      <td>142.977169</td>\n",
       "    </tr>\n",
       "    <tr>\n",
       "      <th>4</th>\n",
       "      <td>ATACTCCTGGGCTTTCGGAG</td>\n",
       "      <td>LS513-311Cas9_RepA_p6_batch2</td>\n",
       "      <td>-0.771298</td>\n",
       "      <td>2</td>\n",
       "      <td>chr2_130522124_+</td>\n",
       "      <td>CFC1B</td>\n",
       "      <td>broad</td>\n",
       "      <td>True</td>\n",
       "      <td>2</td>\n",
       "      <td>130522124</td>\n",
       "      <td>...</td>\n",
       "      <td>True</td>\n",
       "      <td>63.0</td>\n",
       "      <td>-0.160128</td>\n",
       "      <td>-0.445925</td>\n",
       "      <td>-0.354485</td>\n",
       "      <td>0.000000</td>\n",
       "      <td>35176093</td>\n",
       "      <td>1.072163e+06</td>\n",
       "      <td>14.588775</td>\n",
       "      <td>706.908890</td>\n",
       "    </tr>\n",
       "  </tbody>\n",
       "</table>\n",
       "<p>5 rows × 32 columns</p>\n",
       "</div>"
      ],
      "text/plain": [
       "                  sgrna                  replicate_id       lfc p_dna_batch  \\\n",
       "0  AAAGCCCAGGAGTATGGGAG  LS513-311Cas9_RepA_p6_batch2  0.594321           2   \n",
       "1  ACTTGTCTCATGAACGTGAT  LS513-311Cas9_RepA_p6_batch2  0.475678           2   \n",
       "2  AGAAACTTCACCCCTTTCAT  LS513-311Cas9_RepA_p6_batch2  0.296108           2   \n",
       "3  AGCTGAGCGCAGGGACCGGG  LS513-311Cas9_RepA_p6_batch2 -0.020788           2   \n",
       "4  ATACTCCTGGGCTTTCGGAG  LS513-311Cas9_RepA_p6_batch2 -0.771298           2   \n",
       "\n",
       "   genome_alignment hugo_symbol screen  multiple_hits_on_gene  \\\n",
       "0  chr2_130522105_-       CFC1B  broad                   True   \n",
       "1   chr2_86917638_+       RGPD1  broad                   True   \n",
       "2  chr16_18543661_+       NOMO2  broad                   True   \n",
       "3   chr1_27012633_-      TENT5B  broad                   True   \n",
       "4  chr2_130522124_+       CFC1B  broad                   True   \n",
       "\n",
       "  sgrna_target_chr  sgrna_target_pos  ... is_male   age  z_rna_gene_lineage  \\\n",
       "0                2         130522105  ...    True  63.0           -0.160128   \n",
       "1                2          86917638  ...    True  63.0           -0.702651   \n",
       "2               16          18543661  ...    True  63.0            0.238451   \n",
       "3                1          27012633  ...    True  63.0           -0.782033   \n",
       "4                2         130522124  ...    True  63.0           -0.160128   \n",
       "\n",
       "   z_cn_gene  z_cn_cell_line log_rna_expr counts_final_total  \\\n",
       "0  -0.445925       -0.354485     0.000000           35176093   \n",
       "1  -0.504988       -0.367375     0.014253           35176093   \n",
       "2  -0.183505       -0.395475     2.005789           35176093   \n",
       "3  -0.202823       -0.294429     0.162393           35176093   \n",
       "4  -0.445925       -0.354485     0.000000           35176093   \n",
       "\n",
       "  counts_initial_total  counts_final_rpm  counts_initial_adj  \n",
       "0         1.072163e+06         13.309497          257.442323  \n",
       "1         1.072163e+06         37.928490          766.756365  \n",
       "2         1.072163e+06         29.513684          685.044642  \n",
       "3         1.072163e+06          4.837834          142.977169  \n",
       "4         1.072163e+06         14.588775          706.908890  \n",
       "\n",
       "[5 rows x 32 columns]"
      ]
     },
     "execution_count": 8,
     "metadata": {},
     "output_type": "execute_result"
    }
   ],
   "source": [
    "valid_data.head()"
   ]
  },
  {
   "cell_type": "code",
   "execution_count": 9,
   "id": "5ff8e56d-037e-499a-a214-4efd11d20367",
   "metadata": {},
   "outputs": [
    {
     "data": {
      "text/plain": [
       "Index(['sgrna', 'replicate_id', 'lfc', 'p_dna_batch', 'genome_alignment',\n",
       "       'hugo_symbol', 'screen', 'multiple_hits_on_gene', 'sgrna_target_chr',\n",
       "       'sgrna_target_pos', 'depmap_id', 'counts_final', 'counts_initial',\n",
       "       'rna_expr', 'num_mutations', 'any_deleterious', 'any_tcga_hotspot',\n",
       "       'any_cosmic_hotspot', 'is_mutated', 'copy_number', 'lineage',\n",
       "       'primary_or_metastasis', 'is_male', 'age', 'z_rna_gene_lineage',\n",
       "       'z_cn_gene', 'z_cn_cell_line', 'log_rna_expr', 'counts_final_total',\n",
       "       'counts_initial_total', 'counts_final_rpm', 'counts_initial_adj'],\n",
       "      dtype='object')"
      ]
     },
     "execution_count": 9,
     "metadata": {},
     "output_type": "execute_result"
    }
   ],
   "source": [
    "valid_data.columns"
   ]
  },
  {
   "cell_type": "code",
   "execution_count": 10,
   "id": "2072c841-e1fc-429c-baa4-f46174fea06f",
   "metadata": {},
   "outputs": [
    {
     "data": {
      "text/html": [
       "<div>\n",
       "<style scoped>\n",
       "    .dataframe tbody tr th:only-of-type {\n",
       "        vertical-align: middle;\n",
       "    }\n",
       "\n",
       "    .dataframe tbody tr th {\n",
       "        vertical-align: top;\n",
       "    }\n",
       "\n",
       "    .dataframe thead tr th {\n",
       "        text-align: left;\n",
       "    }\n",
       "\n",
       "    .dataframe thead tr:last-of-type th {\n",
       "        text-align: right;\n",
       "    }\n",
       "</style>\n",
       "<table border=\"1\" class=\"dataframe\">\n",
       "  <thead>\n",
       "    <tr>\n",
       "      <th></th>\n",
       "      <th></th>\n",
       "      <th colspan=\"4\" halign=\"left\">z_rna_gene_lineage</th>\n",
       "    </tr>\n",
       "    <tr>\n",
       "      <th></th>\n",
       "      <th></th>\n",
       "      <th>mean</th>\n",
       "      <th>std</th>\n",
       "      <th>min</th>\n",
       "      <th>max</th>\n",
       "    </tr>\n",
       "    <tr>\n",
       "      <th>hugo_symbol</th>\n",
       "      <th>lineage</th>\n",
       "      <th></th>\n",
       "      <th></th>\n",
       "      <th></th>\n",
       "      <th></th>\n",
       "    </tr>\n",
       "  </thead>\n",
       "  <tbody>\n",
       "    <tr>\n",
       "      <th rowspan=\"2\" valign=\"top\">CFC1B</th>\n",
       "      <th>colorectal</th>\n",
       "      <td>-1.601282e-01</td>\n",
       "      <td>0.000000</td>\n",
       "      <td>-0.160128</td>\n",
       "      <td>-0.160128</td>\n",
       "    </tr>\n",
       "    <tr>\n",
       "      <th>bone</th>\n",
       "      <td>0.000000e+00</td>\n",
       "      <td>0.000000</td>\n",
       "      <td>0.000000</td>\n",
       "      <td>0.000000</td>\n",
       "    </tr>\n",
       "    <tr>\n",
       "      <th rowspan=\"2\" valign=\"top\">RGPD1</th>\n",
       "      <th>colorectal</th>\n",
       "      <td>2.106659e-02</td>\n",
       "      <td>1.047634</td>\n",
       "      <td>-0.726356</td>\n",
       "      <td>2.846313</td>\n",
       "    </tr>\n",
       "    <tr>\n",
       "      <th>bone</th>\n",
       "      <td>2.099294e-02</td>\n",
       "      <td>1.028463</td>\n",
       "      <td>-0.608795</td>\n",
       "      <td>2.922327</td>\n",
       "    </tr>\n",
       "    <tr>\n",
       "      <th>NOMO2</th>\n",
       "      <th>colorectal</th>\n",
       "      <td>1.127822e-01</td>\n",
       "      <td>0.832499</td>\n",
       "      <td>-3.758523</td>\n",
       "      <td>1.342848</td>\n",
       "    </tr>\n",
       "    <tr>\n",
       "      <th>...</th>\n",
       "      <th>...</th>\n",
       "      <td>...</td>\n",
       "      <td>...</td>\n",
       "      <td>...</td>\n",
       "      <td>...</td>\n",
       "    </tr>\n",
       "    <tr>\n",
       "      <th>KCNE1</th>\n",
       "      <th>bone</th>\n",
       "      <td>2.562053e-17</td>\n",
       "      <td>1.019804</td>\n",
       "      <td>-0.338222</td>\n",
       "      <td>3.450995</td>\n",
       "    </tr>\n",
       "    <tr>\n",
       "      <th rowspan=\"2\" valign=\"top\">TBL1Y</th>\n",
       "      <th>colorectal</th>\n",
       "      <td>1.531342e-17</td>\n",
       "      <td>1.004338</td>\n",
       "      <td>-0.257428</td>\n",
       "      <td>4.711318</td>\n",
       "    </tr>\n",
       "    <tr>\n",
       "      <th>bone</th>\n",
       "      <td>1.708035e-17</td>\n",
       "      <td>1.009756</td>\n",
       "      <td>-0.288675</td>\n",
       "      <td>3.464102</td>\n",
       "    </tr>\n",
       "    <tr>\n",
       "      <th rowspan=\"2\" valign=\"top\">LCE1C</th>\n",
       "      <th>colorectal</th>\n",
       "      <td>2.105595e-17</td>\n",
       "      <td>1.017700</td>\n",
       "      <td>-0.312799</td>\n",
       "      <td>4.403382</td>\n",
       "    </tr>\n",
       "    <tr>\n",
       "      <th>bone</th>\n",
       "      <td>0.000000e+00</td>\n",
       "      <td>0.000000</td>\n",
       "      <td>0.000000</td>\n",
       "      <td>0.000000</td>\n",
       "    </tr>\n",
       "  </tbody>\n",
       "</table>\n",
       "<p>4000 rows × 4 columns</p>\n",
       "</div>"
      ],
      "text/plain": [
       "                       z_rna_gene_lineage                              \n",
       "                                     mean       std       min       max\n",
       "hugo_symbol lineage                                                    \n",
       "CFC1B       colorectal      -1.601282e-01  0.000000 -0.160128 -0.160128\n",
       "            bone             0.000000e+00  0.000000  0.000000  0.000000\n",
       "RGPD1       colorectal       2.106659e-02  1.047634 -0.726356  2.846313\n",
       "            bone             2.099294e-02  1.028463 -0.608795  2.922327\n",
       "NOMO2       colorectal       1.127822e-01  0.832499 -3.758523  1.342848\n",
       "...                                   ...       ...       ...       ...\n",
       "KCNE1       bone             2.562053e-17  1.019804 -0.338222  3.450995\n",
       "TBL1Y       colorectal       1.531342e-17  1.004338 -0.257428  4.711318\n",
       "            bone             1.708035e-17  1.009756 -0.288675  3.464102\n",
       "LCE1C       colorectal       2.105595e-17  1.017700 -0.312799  4.403382\n",
       "            bone             0.000000e+00  0.000000  0.000000  0.000000\n",
       "\n",
       "[4000 rows x 4 columns]"
      ]
     },
     "execution_count": 10,
     "metadata": {},
     "output_type": "execute_result"
    }
   ],
   "source": [
    "valid_data.groupby([\"hugo_symbol\", \"lineage\"])[[\"z_rna_gene_lineage\"]].agg(\n",
    "    [\"mean\", \"std\", \"min\", \"max\"]\n",
    ")"
   ]
  },
  {
   "cell_type": "code",
   "execution_count": 11,
   "id": "9bd7d1c3-0802-4a70-8064-13bd1f918a53",
   "metadata": {},
   "outputs": [
    {
     "data": {
      "text/plain": [
       "False"
      ]
     },
     "execution_count": 11,
     "metadata": {},
     "output_type": "execute_result"
    }
   ],
   "source": [
    "valid_data.rna_expr.isna().any()"
   ]
  },
  {
   "cell_type": "code",
   "execution_count": 12,
   "id": "76552b29-4d17-486f-bec9-6ce90f8ea7c3",
   "metadata": {},
   "outputs": [
    {
     "data": {
      "image/png": "[encoded data removed]",
      "text/plain": [
       "<Figure size 360x360 with 1 Axes>"
      ]
     },
     "metadata": {
      "needs_background": "light"
     },
     "output_type": "display_data"
    }
   ],
   "source": [
    "sns.displot(data=valid_data, x=\"rna_expr\", binwidth=0.1);"
   ]
  },
  {
   "cell_type": "code",
   "execution_count": 13,
   "id": "3ef0604c-f5a1-4823-b31c-54da88cefc71",
   "metadata": {},
   "outputs": [
    {
     "data": {
      "image/png": "[encoded data removed]",
      "text/plain": [
       "<Figure size 360x360 with 1 Axes>"
      ]
     },
     "metadata": {
      "needs_background": "light"
     },
     "output_type": "display_data"
    }
   ],
   "source": [
    "sns.displot(\n",
    "    data=valid_data.assign(log_rna=lambda d: np.log(d.rna_expr + 1)),\n",
    "    x=\"log_rna\",\n",
    "    binwidth=0.1,\n",
    ");"
   ]
  },
  {
   "cell_type": "code",
   "execution_count": 14,
   "id": "e2f9443e-0a9f-4c41-8632-ff69637dbd16",
   "metadata": {},
   "outputs": [
    {
     "data": {
      "image/png": "[encoded data removed]",
      "text/plain": [
       "<Figure size 360x360 with 1 Axes>"
      ]
     },
     "metadata": {
      "needs_background": "light"
     },
     "output_type": "display_data"
    }
   ],
   "source": [
    "sns.displot(data=valid_data, x=\"z_rna_gene_lineage\", binwidth=0.1);"
   ]
  },
  {
   "cell_type": "code",
   "execution_count": 15,
   "id": "e9e95b69-9d29-4a43-8447-9bd4192b5ef3",
   "metadata": {},
   "outputs": [
    {
     "data": {
      "image/png": "[encoded data removed]",
      "text/plain": [
       "<Figure size 360x360 with 1 Axes>"
      ]
     },
     "metadata": {
      "needs_background": "light"
     },
     "output_type": "display_data"
    }
   ],
   "source": [
    "sns.displot(data=valid_data, x=\"copy_number\", binwidth=0.1);"
   ]
  },
  {
   "cell_type": "code",
   "execution_count": 16,
   "id": "163dbfff-fc4a-4b77-9470-e002d13d9283",
   "metadata": {},
   "outputs": [
    {
     "data": {
      "image/png": "[encoded data removed]",
      "text/plain": [
       "<Figure size 360x360 with 1 Axes>"
      ]
     },
     "metadata": {
      "needs_background": "light"
     },
     "output_type": "display_data"
    }
   ],
   "source": [
    "sns.displot(data=valid_data, x=\"z_cn_gene\", binwidth=0.1);"
   ]
  },
  {
   "cell_type": "code",
   "execution_count": 17,
   "id": "ab5df678-f3e9-426c-9926-80e5e41e62cc",
   "metadata": {},
   "outputs": [
    {
     "data": {
      "image/png": "[encoded data removed]",
      "text/plain": [
       "<Figure size 360x360 with 1 Axes>"
      ]
     },
     "metadata": {
      "needs_background": "light"
     },
     "output_type": "display_data"
    }
   ],
   "source": [
    "sns.displot(data=valid_data, x=\"z_cn_cell_line\", binwidth=0.1);"
   ]
  },
  {
   "cell_type": "code",
   "execution_count": null,
   "id": "1efe4814-d6eb-4bb7-beef-d20053eb62b8",
   "metadata": {},
   "outputs": [],
   "source": []
  },
  {
   "cell_type": "code",
   "execution_count": null,
   "id": "84857a5a-a7a7-4e2a-bdcd-9a7974d51c26",
   "metadata": {},
   "outputs": [],
   "source": []
  },
  {
   "cell_type": "code",
   "execution_count": null,
   "id": "80da0ff1-2c84-4653-a8ae-78281274f2a4",
   "metadata": {},
   "outputs": [],
   "source": []
  }
 ],
 "metadata": {
  "kernelspec": {
   "display_name": "Python 3 (ipykernel)",
   "language": "python",
   "name": "python3"
  },
  "language_info": {
   "codemirror_mode": {
    "name": "ipython",
    "version": 3
   },
   "file_extension": ".py",
   "mimetype": "text/x-python",
   "name": "python",
   "nbconvert_exporter": "python",
   "pygments_lexer": "ipython3",
   "version": "3.9.9"
  }
 },
 "nbformat": 4,
 "nbformat_minor": 5
}
