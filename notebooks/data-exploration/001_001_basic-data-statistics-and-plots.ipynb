{
 "cells": [
  {
   "cell_type": "code",
   "execution_count": 1,
   "metadata": {},
   "outputs": [],
   "source": [
    "%load_ext autoreload\n",
    "%autoreload 2"
   ]
  },
  {
   "cell_type": "code",
   "execution_count": 2,
   "metadata": {},
   "outputs": [],
   "source": [
    "import warnings\n",
    "from pathlib import Path\n",
    "from time import time\n",
    "\n",
    "import dask\n",
    "import dask.dataframe as dd\n",
    "import matplotlib.colors as mcolors\n",
    "import matplotlib.pyplot as plt\n",
    "import numpy as np\n",
    "import pandas as pd\n",
    "import plotnine as gg\n",
    "import seaborn as sns\n",
    "from dask.distributed import Client, progress"
   ]
  },
  {
   "cell_type": "code",
   "execution_count": 3,
   "metadata": {},
   "outputs": [],
   "source": [
    "from src.data_processing import achilles as achelp\n",
    "from src.data_processing import common as dphelp\n",
    "from src.io import cache_io, data_io\n",
    "from src.loggers import logger\n",
    "from src.plot.color_pal import SeabornColor"
   ]
  },
  {
   "cell_type": "code",
   "execution_count": 4,
   "metadata": {},
   "outputs": [],
   "source": [
    "notebook_tic = time()\n",
    "\n",
    "warnings.simplefilter(action=\"ignore\", category=UserWarning)\n",
    "\n",
    "gg.theme_set(\n",
    "    gg.theme_bw()\n",
    "    + gg.theme(\n",
    "        figure_size=(4, 4),\n",
    "        axis_ticks_major=gg.element_blank(),\n",
    "        strip_background=gg.element_blank(),\n",
    "    )\n",
    ")\n",
    "%config InlineBackend.figure_format = \"retina\"\n",
    "\n",
    "RANDOM_SEED = 847\n",
    "np.random.seed(RANDOM_SEED)"
   ]
  },
  {
   "cell_type": "markdown",
   "metadata": {},
   "source": [
    "## Setup"
   ]
  },
  {
   "cell_type": "code",
   "execution_count": 5,
   "metadata": {},
   "outputs": [],
   "source": [
    "client = Client(n_workers=2, threads_per_worker=2, memory_limit=\"10GB\")"
   ]
  },
  {
   "cell_type": "code",
   "execution_count": 6,
   "metadata": {},
   "outputs": [
    {
     "name": "stdout",
     "output_type": "stream",
     "text": [
      "data file: '/n/data1/hms/dbmi/park/Cook/speclet/modeling_data/depmap_modeling_dataframe.csv'\n"
     ]
    }
   ],
   "source": [
    "data_path = data_io.data_path(data_io.DataFile.achilles_data)\n",
    "if data_path.exists():\n",
    "    print(f\"data file: '{data_path.as_posix()}'\")\n",
    "else:\n",
    "    raise FileNotFoundError(data_path)"
   ]
  },
  {
   "cell_type": "code",
   "execution_count": 7,
   "metadata": {},
   "outputs": [],
   "source": [
    "data_types: dict[str, str] = {\"age\": \"float64\"}\n",
    "for a in [\"p_dna_batch\", \"replicate_id\", \"primary_or_metastasis\", \"is_male\"]:\n",
    "    data_types[a] = \"category\"\n",
    "\n",
    "achilles_data = dd.read_csv(data_path, dtype=data_types, low_memory=False)"
   ]
  },
  {
   "cell_type": "markdown",
   "metadata": {
    "tags": []
   },
   "source": [
    "## Basic statistics"
   ]
  },
  {
   "cell_type": "code",
   "execution_count": 8,
   "metadata": {},
   "outputs": [
    {
     "data": {
      "text/html": [
       "<div>\n",
       "<style scoped>\n",
       "    .dataframe tbody tr th:only-of-type {\n",
       "        vertical-align: middle;\n",
       "    }\n",
       "\n",
       "    .dataframe tbody tr th {\n",
       "        vertical-align: top;\n",
       "    }\n",
       "\n",
       "    .dataframe thead th {\n",
       "        text-align: right;\n",
       "    }\n",
       "</style>\n",
       "<table border=\"1\" class=\"dataframe\">\n",
       "  <thead>\n",
       "    <tr style=\"text-align: right;\">\n",
       "      <th></th>\n",
       "      <th>sgrna</th>\n",
       "      <th>replicate_id</th>\n",
       "      <th>lfc</th>\n",
       "      <th>p_dna_batch</th>\n",
       "      <th>genome_alignment</th>\n",
       "      <th>hugo_symbol</th>\n",
       "      <th>screen</th>\n",
       "      <th>multiple_hits_on_gene</th>\n",
       "      <th>sgrna_target_chr</th>\n",
       "      <th>sgrna_target_pos</th>\n",
       "      <th>...</th>\n",
       "      <th>num_mutations</th>\n",
       "      <th>any_deleterious</th>\n",
       "      <th>any_tcga_hotspot</th>\n",
       "      <th>any_cosmic_hotspot</th>\n",
       "      <th>is_mutated</th>\n",
       "      <th>copy_number</th>\n",
       "      <th>lineage</th>\n",
       "      <th>primary_or_metastasis</th>\n",
       "      <th>is_male</th>\n",
       "      <th>age</th>\n",
       "    </tr>\n",
       "  </thead>\n",
       "  <tbody>\n",
       "    <tr>\n",
       "      <th>0</th>\n",
       "      <td>AAACCTGCGGCGGTCGCCA</td>\n",
       "      <td>OVR3_c905R1</td>\n",
       "      <td>-0.299958</td>\n",
       "      <td>CRISPR_C6596666.sample</td>\n",
       "      <td>chr8_66505451_-</td>\n",
       "      <td>VXN</td>\n",
       "      <td>sanger</td>\n",
       "      <td>True</td>\n",
       "      <td>8</td>\n",
       "      <td>66505451</td>\n",
       "      <td>...</td>\n",
       "      <td>0</td>\n",
       "      <td>NaN</td>\n",
       "      <td>NaN</td>\n",
       "      <td>NaN</td>\n",
       "      <td>False</td>\n",
       "      <td>0.847995</td>\n",
       "      <td>ovary</td>\n",
       "      <td>metastasis</td>\n",
       "      <td>FALSE</td>\n",
       "      <td>60.0</td>\n",
       "    </tr>\n",
       "    <tr>\n",
       "      <th>1</th>\n",
       "      <td>AACAGCACACCGGCCCCGT</td>\n",
       "      <td>OVR3_c905R1</td>\n",
       "      <td>0.267092</td>\n",
       "      <td>CRISPR_C6596666.sample</td>\n",
       "      <td>chrX_156009834_-</td>\n",
       "      <td>IL9R</td>\n",
       "      <td>sanger</td>\n",
       "      <td>True</td>\n",
       "      <td>X</td>\n",
       "      <td>156009834</td>\n",
       "      <td>...</td>\n",
       "      <td>0</td>\n",
       "      <td>NaN</td>\n",
       "      <td>NaN</td>\n",
       "      <td>NaN</td>\n",
       "      <td>False</td>\n",
       "      <td>0.700605</td>\n",
       "      <td>ovary</td>\n",
       "      <td>metastasis</td>\n",
       "      <td>FALSE</td>\n",
       "      <td>60.0</td>\n",
       "    </tr>\n",
       "    <tr>\n",
       "      <th>2</th>\n",
       "      <td>AACCTCCGGACTCCTCAGC</td>\n",
       "      <td>OVR3_c905R1</td>\n",
       "      <td>0.550477</td>\n",
       "      <td>CRISPR_C6596666.sample</td>\n",
       "      <td>chr7_39609658_-</td>\n",
       "      <td>YAE1</td>\n",
       "      <td>sanger</td>\n",
       "      <td>True</td>\n",
       "      <td>7</td>\n",
       "      <td>39609658</td>\n",
       "      <td>...</td>\n",
       "      <td>0</td>\n",
       "      <td>NaN</td>\n",
       "      <td>NaN</td>\n",
       "      <td>NaN</td>\n",
       "      <td>False</td>\n",
       "      <td>0.934918</td>\n",
       "      <td>ovary</td>\n",
       "      <td>metastasis</td>\n",
       "      <td>FALSE</td>\n",
       "      <td>60.0</td>\n",
       "    </tr>\n",
       "    <tr>\n",
       "      <th>3</th>\n",
       "      <td>AACTCAAACTGACGCCGAA</td>\n",
       "      <td>OVR3_c905R1</td>\n",
       "      <td>-0.391922</td>\n",
       "      <td>CRISPR_C6596666.sample</td>\n",
       "      <td>chr1_117623388_-</td>\n",
       "      <td>TENT5C</td>\n",
       "      <td>sanger</td>\n",
       "      <td>True</td>\n",
       "      <td>1</td>\n",
       "      <td>117623388</td>\n",
       "      <td>...</td>\n",
       "      <td>0</td>\n",
       "      <td>NaN</td>\n",
       "      <td>NaN</td>\n",
       "      <td>NaN</td>\n",
       "      <td>False</td>\n",
       "      <td>1.352975</td>\n",
       "      <td>ovary</td>\n",
       "      <td>metastasis</td>\n",
       "      <td>FALSE</td>\n",
       "      <td>60.0</td>\n",
       "    </tr>\n",
       "    <tr>\n",
       "      <th>4</th>\n",
       "      <td>AACTGACCTTGAAACGCTG</td>\n",
       "      <td>OVR3_c905R1</td>\n",
       "      <td>-1.562577</td>\n",
       "      <td>CRISPR_C6596666.sample</td>\n",
       "      <td>chr16_66933623_+</td>\n",
       "      <td>CIAO2B</td>\n",
       "      <td>sanger</td>\n",
       "      <td>True</td>\n",
       "      <td>16</td>\n",
       "      <td>66933623</td>\n",
       "      <td>...</td>\n",
       "      <td>0</td>\n",
       "      <td>NaN</td>\n",
       "      <td>NaN</td>\n",
       "      <td>NaN</td>\n",
       "      <td>False</td>\n",
       "      <td>1.259171</td>\n",
       "      <td>ovary</td>\n",
       "      <td>metastasis</td>\n",
       "      <td>FALSE</td>\n",
       "      <td>60.0</td>\n",
       "    </tr>\n",
       "  </tbody>\n",
       "</table>\n",
       "<p>5 rows × 22 columns</p>\n",
       "</div>"
      ],
      "text/plain": [
       "                 sgrna replicate_id       lfc             p_dna_batch  \\\n",
       "0  AAACCTGCGGCGGTCGCCA  OVR3_c905R1 -0.299958  CRISPR_C6596666.sample   \n",
       "1  AACAGCACACCGGCCCCGT  OVR3_c905R1  0.267092  CRISPR_C6596666.sample   \n",
       "2  AACCTCCGGACTCCTCAGC  OVR3_c905R1  0.550477  CRISPR_C6596666.sample   \n",
       "3  AACTCAAACTGACGCCGAA  OVR3_c905R1 -0.391922  CRISPR_C6596666.sample   \n",
       "4  AACTGACCTTGAAACGCTG  OVR3_c905R1 -1.562577  CRISPR_C6596666.sample   \n",
       "\n",
       "   genome_alignment hugo_symbol  screen  multiple_hits_on_gene  \\\n",
       "0   chr8_66505451_-         VXN  sanger                   True   \n",
       "1  chrX_156009834_-        IL9R  sanger                   True   \n",
       "2   chr7_39609658_-        YAE1  sanger                   True   \n",
       "3  chr1_117623388_-      TENT5C  sanger                   True   \n",
       "4  chr16_66933623_+      CIAO2B  sanger                   True   \n",
       "\n",
       "  sgrna_target_chr  sgrna_target_pos  ... num_mutations  any_deleterious  \\\n",
       "0                8          66505451  ...             0              NaN   \n",
       "1                X         156009834  ...             0              NaN   \n",
       "2                7          39609658  ...             0              NaN   \n",
       "3                1         117623388  ...             0              NaN   \n",
       "4               16          66933623  ...             0              NaN   \n",
       "\n",
       "   any_tcga_hotspot  any_cosmic_hotspot  is_mutated  copy_number  lineage  \\\n",
       "0               NaN                 NaN       False     0.847995    ovary   \n",
       "1               NaN                 NaN       False     0.700605    ovary   \n",
       "2               NaN                 NaN       False     0.934918    ovary   \n",
       "3               NaN                 NaN       False     1.352975    ovary   \n",
       "4               NaN                 NaN       False     1.259171    ovary   \n",
       "\n",
       "   primary_or_metastasis is_male   age  \n",
       "0             metastasis   FALSE  60.0  \n",
       "1             metastasis   FALSE  60.0  \n",
       "2             metastasis   FALSE  60.0  \n",
       "3             metastasis   FALSE  60.0  \n",
       "4             metastasis   FALSE  60.0  \n",
       "\n",
       "[5 rows x 22 columns]"
      ]
     },
     "execution_count": 8,
     "metadata": {},
     "output_type": "execute_result"
    }
   ],
   "source": [
    "achilles_data.head()"
   ]
  },
  {
   "cell_type": "code",
   "execution_count": 9,
   "metadata": {},
   "outputs": [
    {
     "data": {
      "text/plain": [
       "Index(['sgrna', 'replicate_id', 'lfc', 'p_dna_batch', 'genome_alignment',\n",
       "       'hugo_symbol', 'screen', 'multiple_hits_on_gene', 'sgrna_target_chr',\n",
       "       'sgrna_target_pos', 'depmap_id', 'rna_expr', 'num_mutations',\n",
       "       'any_deleterious', 'any_tcga_hotspot', 'any_cosmic_hotspot',\n",
       "       'is_mutated', 'copy_number', 'lineage', 'primary_or_metastasis',\n",
       "       'is_male', 'age'],\n",
       "      dtype='object')"
      ]
     },
     "execution_count": 9,
     "metadata": {},
     "output_type": "execute_result"
    }
   ],
   "source": [
    "achilles_data.columns"
   ]
  },
  {
   "cell_type": "code",
   "execution_count": 10,
   "metadata": {},
   "outputs": [
    {
     "name": "stdout",
     "output_type": "stream",
     "text": [
      "num sgRNA: 157,808\n",
      "num genes: 18,182\n",
      "num cell lines: 984\n",
      "num lineages: 27\n",
      "num data sources: 2\n"
     ]
    }
   ],
   "source": [
    "for col, lbl in {\n",
    "    \"sgrna\": \"sgRNA\",\n",
    "    \"hugo_symbol\": \"genes\",\n",
    "    \"depmap_id\": \"cell lines\",\n",
    "    \"lineage\": \"lineages\",\n",
    "    \"screen\": \"data sources\",\n",
    "}.items():\n",
    "    count = len(achilles_data[col].unique().compute())\n",
    "    print(f\"num {lbl}: {count:,}\")"
   ]
  },
  {
   "cell_type": "code",
   "execution_count": null,
   "metadata": {},
   "outputs": [],
   "source": []
  },
  {
   "cell_type": "code",
   "execution_count": null,
   "metadata": {},
   "outputs": [],
   "source": []
  },
  {
   "cell_type": "code",
   "execution_count": null,
   "metadata": {},
   "outputs": [],
   "source": []
  },
  {
   "cell_type": "code",
   "execution_count": null,
   "metadata": {},
   "outputs": [],
   "source": []
  },
  {
   "cell_type": "markdown",
   "metadata": {},
   "source": [
    "---"
   ]
  },
  {
   "cell_type": "code",
   "execution_count": 11,
   "metadata": {},
   "outputs": [
    {
     "name": "stdout",
     "output_type": "stream",
     "text": [
      "execution time: 10.60 minutes\n"
     ]
    }
   ],
   "source": [
    "notebook_toc = time()\n",
    "print(f\"execution time: {(notebook_toc - notebook_tic) / 60:.2f} minutes\")"
   ]
  },
  {
   "cell_type": "code",
   "execution_count": 12,
   "metadata": {},
   "outputs": [
    {
     "name": "stdout",
     "output_type": "stream",
     "text": [
      "Last updated: 2021-08-20\n",
      "\n",
      "Python implementation: CPython\n",
      "Python version       : 3.9.6\n",
      "IPython version      : 7.26.0\n",
      "\n",
      "Compiler    : GCC 9.3.0\n",
      "OS          : Linux\n",
      "Release     : 3.10.0-1062.el7.x86_64\n",
      "Machine     : x86_64\n",
      "Processor   : x86_64\n",
      "CPU cores   : 28\n",
      "Architecture: 64bit\n",
      "\n",
      "Hostname: compute-e-16-237.o2.rc.hms.harvard.edu\n",
      "\n",
      "Git branch: fix-theano-lock\n",
      "\n",
      "dask      : 2021.8.0\n",
      "plotnine  : 0.8.0\n",
      "pandas    : 1.3.2\n",
      "matplotlib: 3.4.3\n",
      "seaborn   : 0.11.2\n",
      "numpy     : 1.21.2\n",
      "\n"
     ]
    }
   ],
   "source": [
    "%load_ext watermark\n",
    "%watermark -d -u -v -iv -b -h -m"
   ]
  }
 ],
 "metadata": {
  "kernelspec": {
   "display_name": "Python 3 (ipykernel)",
   "language": "python",
   "name": "python3"
  },
  "language_info": {
   "codemirror_mode": {
    "name": "ipython",
    "version": 3
   },
   "file_extension": ".py",
   "mimetype": "text/x-python",
   "name": "python",
   "nbconvert_exporter": "python",
   "pygments_lexer": "ipython3",
   "version": "3.9.6"
  }
 },
 "nbformat": 4,
 "nbformat_minor": 4
}
