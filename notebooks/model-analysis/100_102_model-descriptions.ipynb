{
 "cells": [
  {
   "cell_type": "markdown",
   "metadata": {},
   "source": [
    "# Model diagnostics"
   ]
  },
  {
   "cell_type": "markdown",
   "metadata": {},
   "source": [
    "## Setup"
   ]
  },
  {
   "cell_type": "markdown",
   "metadata": {},
   "source": [
    "### Imports"
   ]
  },
  {
   "cell_type": "code",
   "execution_count": 1,
   "metadata": {},
   "outputs": [],
   "source": [
    "%load_ext autoreload\n",
    "%autoreload 2"
   ]
  },
  {
   "cell_type": "code",
   "execution_count": 2,
   "metadata": {
    "tags": []
   },
   "outputs": [],
   "source": [
    "from time import time\n",
    "\n",
    "import pandas as pd"
   ]
  },
  {
   "cell_type": "code",
   "execution_count": 3,
   "metadata": {
    "tags": []
   },
   "outputs": [],
   "source": [
    "from speclet.analysis.sublineage_model_analysis import load_sublineage_model_posteriors\n",
    "from speclet.managers.posterior_data_manager import PosteriorDataManager as PostDataMan"
   ]
  },
  {
   "cell_type": "code",
   "execution_count": 4,
   "metadata": {},
   "outputs": [],
   "source": [
    "# Notebook execution timer.\n",
    "notebook_tic = time()"
   ]
  },
  {
   "cell_type": "markdown",
   "metadata": {},
   "source": [
    "### Data"
   ]
  },
  {
   "cell_type": "markdown",
   "metadata": {},
   "source": [
    "#### Model posteriors"
   ]
  },
  {
   "cell_type": "code",
   "execution_count": 5,
   "metadata": {},
   "outputs": [],
   "source": [
    "postmen = load_sublineage_model_posteriors()"
   ]
  },
  {
   "cell_type": "code",
   "execution_count": 6,
   "metadata": {},
   "outputs": [
    {
     "data": {
      "text/plain": [
       "43"
      ]
     },
     "execution_count": 6,
     "metadata": {},
     "output_type": "execute_result"
    }
   ],
   "source": [
    "len(postmen)"
   ]
  },
  {
   "cell_type": "markdown",
   "metadata": {},
   "source": [
    "## Analysis"
   ]
  },
  {
   "cell_type": "code",
   "execution_count": 7,
   "metadata": {},
   "outputs": [],
   "source": [
    "def posterior_dims_to_dataframe(pm: PostDataMan) -> pd.DataFrame:\n",
    "    return pd.DataFrame(dict(pm.trace.posterior.dims), index=[0]).assign(\n",
    "        lineage_subtype=pm.id\n",
    "    )"
   ]
  },
  {
   "cell_type": "code",
   "execution_count": 8,
   "metadata": {},
   "outputs": [],
   "source": [
    "posterior_dims = pd.concat(\n",
    "    [posterior_dims_to_dataframe(pm) for pm in postmen.posteriors]\n",
    ").reset_index(drop=True)"
   ]
  },
  {
   "cell_type": "code",
   "execution_count": 9,
   "metadata": {},
   "outputs": [
    {
     "data": {
      "text/html": [
       "<div>\n",
       "<style scoped>\n",
       "    .dataframe tbody tr th:only-of-type {\n",
       "        vertical-align: middle;\n",
       "    }\n",
       "\n",
       "    .dataframe tbody tr th {\n",
       "        vertical-align: top;\n",
       "    }\n",
       "\n",
       "    .dataframe thead th {\n",
       "        text-align: right;\n",
       "    }\n",
       "</style>\n",
       "<table border=\"1\" class=\"dataframe\">\n",
       "  <thead>\n",
       "    <tr style=\"text-align: right;\">\n",
       "      <th></th>\n",
       "      <th>chain</th>\n",
       "      <th>draw</th>\n",
       "      <th>delta_genes_dim_0</th>\n",
       "      <th>delta_genes_dim_1</th>\n",
       "      <th>sgrna</th>\n",
       "      <th>delta_cells_dim_0</th>\n",
       "      <th>delta_cells_dim_1</th>\n",
       "      <th>cell_chrom</th>\n",
       "      <th>genes_chol_cov_dim_0</th>\n",
       "      <th>cells_chol_cov_dim_0</th>\n",
       "      <th>genes_chol_cov_corr_dim_0</th>\n",
       "      <th>genes_chol_cov_corr_dim_1</th>\n",
       "      <th>genes_chol_cov_stds_dim_0</th>\n",
       "      <th>gene</th>\n",
       "      <th>cancer_gene</th>\n",
       "      <th>cells_chol_cov_corr_dim_0</th>\n",
       "      <th>cells_chol_cov_corr_dim_1</th>\n",
       "      <th>cells_chol_cov_stds_dim_0</th>\n",
       "      <th>cell_line</th>\n",
       "    </tr>\n",
       "  </thead>\n",
       "  <tbody>\n",
       "    <tr>\n",
       "      <th>count</th>\n",
       "      <td>43.0</td>\n",
       "      <td>43.0</td>\n",
       "      <td>43.0</td>\n",
       "      <td>43.0</td>\n",
       "      <td>43.0</td>\n",
       "      <td>43.0</td>\n",
       "      <td>43.0</td>\n",
       "      <td>43.0</td>\n",
       "      <td>43.0</td>\n",
       "      <td>43.0</td>\n",
       "      <td>43.0</td>\n",
       "      <td>43.0</td>\n",
       "      <td>43.0</td>\n",
       "      <td>43.0</td>\n",
       "      <td>19.0</td>\n",
       "      <td>43.0</td>\n",
       "      <td>43.0</td>\n",
       "      <td>43.0</td>\n",
       "      <td>43.0</td>\n",
       "    </tr>\n",
       "    <tr>\n",
       "      <th>mean</th>\n",
       "      <td>4.0</td>\n",
       "      <td>1000.0</td>\n",
       "      <td>6.3</td>\n",
       "      <td>18119.0</td>\n",
       "      <td>71062.0</td>\n",
       "      <td>2.0</td>\n",
       "      <td>19.4</td>\n",
       "      <td>446.1</td>\n",
       "      <td>29.0</td>\n",
       "      <td>3.0</td>\n",
       "      <td>6.3</td>\n",
       "      <td>6.3</td>\n",
       "      <td>6.3</td>\n",
       "      <td>18119.0</td>\n",
       "      <td>5.1</td>\n",
       "      <td>2.0</td>\n",
       "      <td>2.0</td>\n",
       "      <td>2.0</td>\n",
       "      <td>19.4</td>\n",
       "    </tr>\n",
       "    <tr>\n",
       "      <th>std</th>\n",
       "      <td>0.0</td>\n",
       "      <td>0.0</td>\n",
       "      <td>3.6</td>\n",
       "      <td>0.0</td>\n",
       "      <td>0.0</td>\n",
       "      <td>0.0</td>\n",
       "      <td>17.5</td>\n",
       "      <td>403.5</td>\n",
       "      <td>34.2</td>\n",
       "      <td>0.0</td>\n",
       "      <td>3.6</td>\n",
       "      <td>3.6</td>\n",
       "      <td>3.6</td>\n",
       "      <td>0.0</td>\n",
       "      <td>3.8</td>\n",
       "      <td>0.0</td>\n",
       "      <td>0.0</td>\n",
       "      <td>0.0</td>\n",
       "      <td>17.5</td>\n",
       "    </tr>\n",
       "    <tr>\n",
       "      <th>min</th>\n",
       "      <td>4.0</td>\n",
       "      <td>1000.0</td>\n",
       "      <td>4.0</td>\n",
       "      <td>18119.0</td>\n",
       "      <td>71062.0</td>\n",
       "      <td>2.0</td>\n",
       "      <td>4.0</td>\n",
       "      <td>92.0</td>\n",
       "      <td>10.0</td>\n",
       "      <td>3.0</td>\n",
       "      <td>4.0</td>\n",
       "      <td>4.0</td>\n",
       "      <td>4.0</td>\n",
       "      <td>18119.0</td>\n",
       "      <td>1.0</td>\n",
       "      <td>2.0</td>\n",
       "      <td>2.0</td>\n",
       "      <td>2.0</td>\n",
       "      <td>4.0</td>\n",
       "    </tr>\n",
       "    <tr>\n",
       "      <th>25%</th>\n",
       "      <td>4.0</td>\n",
       "      <td>1000.0</td>\n",
       "      <td>4.0</td>\n",
       "      <td>18119.0</td>\n",
       "      <td>71062.0</td>\n",
       "      <td>2.0</td>\n",
       "      <td>5.0</td>\n",
       "      <td>115.0</td>\n",
       "      <td>10.0</td>\n",
       "      <td>3.0</td>\n",
       "      <td>4.0</td>\n",
       "      <td>4.0</td>\n",
       "      <td>4.0</td>\n",
       "      <td>18119.0</td>\n",
       "      <td>1.5</td>\n",
       "      <td>2.0</td>\n",
       "      <td>2.0</td>\n",
       "      <td>2.0</td>\n",
       "      <td>5.0</td>\n",
       "    </tr>\n",
       "    <tr>\n",
       "      <th>50%</th>\n",
       "      <td>4.0</td>\n",
       "      <td>1000.0</td>\n",
       "      <td>4.0</td>\n",
       "      <td>18119.0</td>\n",
       "      <td>71062.0</td>\n",
       "      <td>2.0</td>\n",
       "      <td>15.0</td>\n",
       "      <td>345.0</td>\n",
       "      <td>10.0</td>\n",
       "      <td>3.0</td>\n",
       "      <td>4.0</td>\n",
       "      <td>4.0</td>\n",
       "      <td>4.0</td>\n",
       "      <td>18119.0</td>\n",
       "      <td>5.0</td>\n",
       "      <td>2.0</td>\n",
       "      <td>2.0</td>\n",
       "      <td>2.0</td>\n",
       "      <td>15.0</td>\n",
       "    </tr>\n",
       "    <tr>\n",
       "      <th>75%</th>\n",
       "      <td>4.0</td>\n",
       "      <td>1000.0</td>\n",
       "      <td>8.0</td>\n",
       "      <td>18119.0</td>\n",
       "      <td>71062.0</td>\n",
       "      <td>2.0</td>\n",
       "      <td>26.5</td>\n",
       "      <td>609.5</td>\n",
       "      <td>36.5</td>\n",
       "      <td>3.0</td>\n",
       "      <td>8.0</td>\n",
       "      <td>8.0</td>\n",
       "      <td>8.0</td>\n",
       "      <td>18119.0</td>\n",
       "      <td>8.0</td>\n",
       "      <td>2.0</td>\n",
       "      <td>2.0</td>\n",
       "      <td>2.0</td>\n",
       "      <td>26.5</td>\n",
       "    </tr>\n",
       "    <tr>\n",
       "      <th>max</th>\n",
       "      <td>4.0</td>\n",
       "      <td>1000.0</td>\n",
       "      <td>16.0</td>\n",
       "      <td>18119.0</td>\n",
       "      <td>71062.0</td>\n",
       "      <td>2.0</td>\n",
       "      <td>83.0</td>\n",
       "      <td>1909.0</td>\n",
       "      <td>136.0</td>\n",
       "      <td>3.0</td>\n",
       "      <td>16.0</td>\n",
       "      <td>16.0</td>\n",
       "      <td>16.0</td>\n",
       "      <td>18119.0</td>\n",
       "      <td>12.0</td>\n",
       "      <td>2.0</td>\n",
       "      <td>2.0</td>\n",
       "      <td>2.0</td>\n",
       "      <td>83.0</td>\n",
       "    </tr>\n",
       "  </tbody>\n",
       "</table>\n",
       "</div>"
      ],
      "text/plain": [
       "       chain    draw  delta_genes_dim_0  delta_genes_dim_1    sgrna  \\\n",
       "count   43.0    43.0               43.0               43.0     43.0   \n",
       "mean     4.0  1000.0                6.3            18119.0  71062.0   \n",
       "std      0.0     0.0                3.6                0.0      0.0   \n",
       "min      4.0  1000.0                4.0            18119.0  71062.0   \n",
       "25%      4.0  1000.0                4.0            18119.0  71062.0   \n",
       "50%      4.0  1000.0                4.0            18119.0  71062.0   \n",
       "75%      4.0  1000.0                8.0            18119.0  71062.0   \n",
       "max      4.0  1000.0               16.0            18119.0  71062.0   \n",
       "\n",
       "       delta_cells_dim_0  delta_cells_dim_1  cell_chrom  genes_chol_cov_dim_0  \\\n",
       "count               43.0               43.0        43.0                  43.0   \n",
       "mean                 2.0               19.4       446.1                  29.0   \n",
       "std                  0.0               17.5       403.5                  34.2   \n",
       "min                  2.0                4.0        92.0                  10.0   \n",
       "25%                  2.0                5.0       115.0                  10.0   \n",
       "50%                  2.0               15.0       345.0                  10.0   \n",
       "75%                  2.0               26.5       609.5                  36.5   \n",
       "max                  2.0               83.0      1909.0                 136.0   \n",
       "\n",
       "       cells_chol_cov_dim_0  genes_chol_cov_corr_dim_0  \\\n",
       "count                  43.0                       43.0   \n",
       "mean                    3.0                        6.3   \n",
       "std                     0.0                        3.6   \n",
       "min                     3.0                        4.0   \n",
       "25%                     3.0                        4.0   \n",
       "50%                     3.0                        4.0   \n",
       "75%                     3.0                        8.0   \n",
       "max                     3.0                       16.0   \n",
       "\n",
       "       genes_chol_cov_corr_dim_1  genes_chol_cov_stds_dim_0     gene  \\\n",
       "count                       43.0                       43.0     43.0   \n",
       "mean                         6.3                        6.3  18119.0   \n",
       "std                          3.6                        3.6      0.0   \n",
       "min                          4.0                        4.0  18119.0   \n",
       "25%                          4.0                        4.0  18119.0   \n",
       "50%                          4.0                        4.0  18119.0   \n",
       "75%                          8.0                        8.0  18119.0   \n",
       "max                         16.0                       16.0  18119.0   \n",
       "\n",
       "       cancer_gene  cells_chol_cov_corr_dim_0  cells_chol_cov_corr_dim_1  \\\n",
       "count         19.0                       43.0                       43.0   \n",
       "mean           5.1                        2.0                        2.0   \n",
       "std            3.8                        0.0                        0.0   \n",
       "min            1.0                        2.0                        2.0   \n",
       "25%            1.5                        2.0                        2.0   \n",
       "50%            5.0                        2.0                        2.0   \n",
       "75%            8.0                        2.0                        2.0   \n",
       "max           12.0                        2.0                        2.0   \n",
       "\n",
       "       cells_chol_cov_stds_dim_0  cell_line  \n",
       "count                       43.0       43.0  \n",
       "mean                         2.0       19.4  \n",
       "std                          0.0       17.5  \n",
       "min                          2.0        4.0  \n",
       "25%                          2.0        5.0  \n",
       "50%                          2.0       15.0  \n",
       "75%                          2.0       26.5  \n",
       "max                          2.0       83.0  "
      ]
     },
     "execution_count": 9,
     "metadata": {},
     "output_type": "execute_result"
    }
   ],
   "source": [
    "posterior_dims.describe().round(1)"
   ]
  },
  {
   "cell_type": "code",
   "execution_count": 10,
   "metadata": {},
   "outputs": [
    {
     "data": {
      "text/plain": [
       "(960, 144000, 90000, 234960)"
      ]
     },
     "execution_count": 10,
     "metadata": {},
     "output_type": "execute_result"
    }
   ],
   "source": [
    "n_cell_lines = 20\n",
    "n_chromosomes = 23\n",
    "n_cancer_genes = 5\n",
    "n_sgrnas = 72000\n",
    "n_genes = 18000\n",
    "\n",
    "n_cell_vars = (n_cell_lines * 2) + (n_cell_lines * n_chromosomes * 2)\n",
    "n_gene_vars = (n_genes * 4) + n_sgrnas\n",
    "n_comut_vars = n_genes * n_cancer_genes\n",
    "total = n_cell_vars + n_gene_vars + n_comut_vars\n",
    "\n",
    "n_cell_vars, n_gene_vars, n_comut_vars, total"
   ]
  },
  {
   "cell_type": "markdown",
   "metadata": {},
   "source": [
    "---"
   ]
  },
  {
   "cell_type": "code",
   "execution_count": 11,
   "metadata": {},
   "outputs": [
    {
     "name": "stdout",
     "output_type": "stream",
     "text": [
      "execution time: 0.39 minutes\n"
     ]
    }
   ],
   "source": [
    "notebook_toc = time()\n",
    "print(f\"execution time: {(notebook_toc - notebook_tic) / 60:.2f} minutes\")"
   ]
  },
  {
   "cell_type": "code",
   "execution_count": 12,
   "metadata": {},
   "outputs": [
    {
     "name": "stdout",
     "output_type": "stream",
     "text": [
      "Last updated: 2022-10-18\n",
      "\n",
      "Python implementation: CPython\n",
      "Python version       : 3.10.6\n",
      "IPython version      : 8.5.0\n",
      "\n",
      "Compiler    : GCC 10.4.0\n",
      "OS          : Linux\n",
      "Release     : 3.10.0-1160.76.1.el7.x86_64\n",
      "Machine     : x86_64\n",
      "Processor   : x86_64\n",
      "CPU cores   : 28\n",
      "Architecture: 64bit\n",
      "\n",
      "Hostname: compute-e-16-231.o2.rc.hms.harvard.edu\n",
      "\n",
      "Git branch: figures\n",
      "\n",
      "pandas: 1.4.4\n",
      "\n"
     ]
    }
   ],
   "source": [
    "%load_ext watermark\n",
    "%watermark -d -u -v -iv -b -h -m"
   ]
  },
  {
   "cell_type": "code",
   "execution_count": null,
   "metadata": {},
   "outputs": [],
   "source": []
  }
 ],
 "metadata": {
  "kernelspec": {
   "display_name": "Python 3 (ipykernel)",
   "language": "python",
   "name": "python3"
  },
  "language_info": {
   "codemirror_mode": {
    "name": "ipython",
    "version": 3
   },
   "file_extension": ".py",
   "mimetype": "text/x-python",
   "name": "python",
   "nbconvert_exporter": "python",
   "pygments_lexer": "ipython3",
   "version": "3.10.6"
  }
 },
 "nbformat": 4,
 "nbformat_minor": 4
}
