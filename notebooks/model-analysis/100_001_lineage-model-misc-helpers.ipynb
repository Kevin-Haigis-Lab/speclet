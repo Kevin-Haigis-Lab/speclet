{
 "cells": [
  {
   "cell_type": "markdown",
   "metadata": {},
   "source": [
    "# Miscellaneous helpers for analyzing the lineage models"
   ]
  },
  {
   "cell_type": "markdown",
   "metadata": {},
   "source": [
    "## Setup"
   ]
  },
  {
   "cell_type": "markdown",
   "metadata": {},
   "source": [
    "### Imports"
   ]
  },
  {
   "cell_type": "code",
   "execution_count": 1,
   "metadata": {},
   "outputs": [],
   "source": [
    "%load_ext autoreload\n",
    "%autoreload 2"
   ]
  },
  {
   "cell_type": "code",
   "execution_count": 2,
   "metadata": {},
   "outputs": [],
   "source": [
    "import re\n",
    "from time import time\n",
    "\n",
    "import numpy as np\n",
    "import seaborn as sns"
   ]
  },
  {
   "cell_type": "code",
   "execution_count": 3,
   "metadata": {},
   "outputs": [],
   "source": [
    "from speclet.io import project_root\n",
    "from speclet.managers.posterior_data_manager import PosteriorDataManagers as PostDataMen\n",
    "from speclet.model_configuration import read_model_configurations\n",
    "from speclet.plot import set_speclet_theme\n",
    "from speclet.project_configuration import get_model_configuration_file\n",
    "from speclet.project_enums import ModelFitMethod"
   ]
  },
  {
   "cell_type": "code",
   "execution_count": 4,
   "metadata": {},
   "outputs": [],
   "source": [
    "# Notebook execution timer.\n",
    "notebook_tic = time()\n",
    "\n",
    "# Plotting setup.\n",
    "set_speclet_theme()\n",
    "%config InlineBackend.figure_format = \"retina\"\n",
    "\n",
    "# Constants\n",
    "RANDOM_SEED = 709\n",
    "np.random.seed(RANDOM_SEED)\n",
    "\n",
    "# File paths\n",
    "config_path = project_root() / get_model_configuration_file()"
   ]
  },
  {
   "cell_type": "markdown",
   "metadata": {},
   "source": [
    "### Data"
   ]
  },
  {
   "cell_type": "markdown",
   "metadata": {},
   "source": [
    "#### Model posteriors"
   ]
  },
  {
   "cell_type": "code",
   "execution_count": 5,
   "metadata": {},
   "outputs": [
    {
     "data": {
      "text/plain": [
       "'Number of configurations: 43'"
      ]
     },
     "execution_count": 5,
     "metadata": {},
     "output_type": "execute_result"
    }
   ],
   "source": [
    "model_configs = read_model_configurations(config_path, active_only=True)\n",
    "f\"Number of configurations: {len(model_configs.configurations)}\""
   ]
  },
  {
   "cell_type": "code",
   "execution_count": 6,
   "metadata": {},
   "outputs": [],
   "source": [
    "model_names = [c.name for c in model_configs.configurations]\n",
    "model_names.sort()\n",
    "pattern = r\"(?<=hnb-single-lineage-).*$\"\n",
    "sublineage_names = [re.findall(pattern, m)[0] for m in model_names]\n",
    "sublineage_names = [n.replace(\"_\", \" \") for n in sublineage_names]\n",
    "\n",
    "postmen = PostDataMen(\n",
    "    names=model_names,\n",
    "    fit_methods=ModelFitMethod.PYMC_NUMPYRO,\n",
    "    config_paths=config_path,\n",
    "    keys=sublineage_names,\n",
    ")"
   ]
  },
  {
   "cell_type": "code",
   "execution_count": 7,
   "metadata": {},
   "outputs": [
    {
     "data": {
      "text/plain": [
       "['bile duct (cholangiocarcinoma)',\n",
       " 'bile duct (gallbladder adenocarcinoma)',\n",
       " 'blood (ALL)',\n",
       " 'blood (AML)',\n",
       " 'blood (CLL)',\n",
       " 'blood (CML)',\n",
       " 'bone (Ewing sarcoma)',\n",
       " 'bone (chordoma)',\n",
       " 'bone (osteosarcoma)',\n",
       " 'breast',\n",
       " 'central nervous system (glioma)',\n",
       " 'central nervous system (medulloblastoma)',\n",
       " 'cervix (cervical carcinoma)',\n",
       " 'cervix (cervical squamous)',\n",
       " 'colorectal',\n",
       " 'esophagus (esophagus adenocarcinoma)',\n",
       " 'esophagus (esophagus squamous)',\n",
       " 'eye (uveal melanoma)',\n",
       " 'gastric (gastric adenocarcinoma)',\n",
       " 'kidney (renal cell carcinoma)',\n",
       " 'liver (hepatocellular carcinoma)',\n",
       " 'lung (NSCLC)',\n",
       " 'lung (SCLC)',\n",
       " 'lung (mesothelioma)',\n",
       " 'lymphocyte (hodgkin lymphoma)',\n",
       " 'lymphocyte (lymphoma unspecified)',\n",
       " 'lymphocyte (non hodgkin lymphoma)',\n",
       " 'ovary (ovary adenocarcinoma)',\n",
       " 'pancreas',\n",
       " 'peripheral nervous system (neuroblastoma)',\n",
       " 'plasma cell (multiple myeloma)',\n",
       " 'prostate',\n",
       " 'skin (melanoma)',\n",
       " 'skin (skin squamous)',\n",
       " 'soft tissue (ATRT)',\n",
       " 'soft tissue (liposarcoma)',\n",
       " 'soft tissue (malignant rhabdoid tumor)',\n",
       " 'soft tissue (rhabdomyosarcoma)',\n",
       " 'soft tissue (synovial sarcoma)',\n",
       " 'thyroid (thyroid carcinoma)',\n",
       " 'upper aerodigestive',\n",
       " 'urinary tract',\n",
       " 'uterus (endometrial adenocarcinoma)']"
      ]
     },
     "execution_count": 7,
     "metadata": {},
     "output_type": "execute_result"
    }
   ],
   "source": [
    "postmen.keys"
   ]
  },
  {
   "cell_type": "code",
   "execution_count": 8,
   "metadata": {},
   "outputs": [
    {
     "data": {
      "text/plain": [
       "43"
      ]
     },
     "execution_count": 8,
     "metadata": {},
     "output_type": "execute_result"
    }
   ],
   "source": [
    "len(postmen)"
   ]
  },
  {
   "cell_type": "code",
   "execution_count": 9,
   "metadata": {},
   "outputs": [],
   "source": [
    "sub_to_lineage = {pm.id: pm.id.split(\" (\")[0] for pm in postmen.posteriors}\n",
    "lineages = list(set(sub_to_lineage.values()))\n",
    "lineages.sort()"
   ]
  },
  {
   "cell_type": "markdown",
   "metadata": {},
   "source": [
    "### Generate color palettes."
   ]
  },
  {
   "cell_type": "code",
   "execution_count": 10,
   "metadata": {},
   "outputs": [],
   "source": [
    "sublineage_cmap = sns.color_palette(\"Spectral\", n_colors=len(postmen), as_cmap=False)\n",
    "sublineage_pal = {line: sublineage_cmap[i] for i, line in enumerate(sublineage_names)}\n",
    "\n",
    "lineage_cmap = sns.color_palette(\"terrain\", n_colors=len(lineages), as_cmap=False)\n",
    "lineage_pal = {line: lineage_cmap[i] for i, line in enumerate(lineages)}"
   ]
  },
  {
   "cell_type": "code",
   "execution_count": 11,
   "metadata": {},
   "outputs": [
    {
     "data": {
      "text/plain": [
       "{'bile duct (cholangiocarcinoma)': (0.6618992695117263,\n",
       "  0.050826605151864664,\n",
       "  0.26881968473663975),\n",
       " 'bile duct (gallbladder adenocarcinoma)': (0.7126489811610919,\n",
       "  0.10711264898116109,\n",
       "  0.28081507112648985),\n",
       " 'blood (ALL)': (0.7633986928104575, 0.1633986928104575, 0.2928104575163399),\n",
       " 'blood (AML)': (0.8141484044598232, 0.2196847366397539, 0.3048058439061899),\n",
       " 'blood (CLL)': (0.8519800076893502, 0.26843521722414454, 0.3033448673587082),\n",
       " 'blood (CML)': (0.8758169934640523, 0.3045751633986928, 0.29411764705882354),\n",
       " 'bone (Ewing sarcoma)': (0.9044213763936948,\n",
       "  0.34794309880815066,\n",
       "  0.28304498269896194),\n",
       " 'bone (chordoma)': (0.9330257593233372,\n",
       "  0.3913110342176086,\n",
       "  0.27197231833910035),\n",
       " 'bone (osteosarcoma)': (0.958246828143022,\n",
       "  0.43744713571703187,\n",
       "  0.267358708189158),\n",
       " 'breast': (0.9665513264129182, 0.49742406766628217, 0.295040369088812),\n",
       " 'central nervous system (glioma)': (0.9748558246828143,\n",
       "  0.5574009996155325,\n",
       "  0.32272202998846594),\n",
       " 'central nervous system (medulloblastoma)': (0.9817762399077278,\n",
       "  0.6073817762399076,\n",
       "  0.3457900807381776),\n",
       " 'cervix (cervical carcinoma)': (0.990080738177624,\n",
       "  0.6673587081891579,\n",
       "  0.37347174163783153),\n",
       " 'cervix (cervical squamous)': (0.9928489042675894,\n",
       "  0.716955017301038,\n",
       "  0.40945790080738165),\n",
       " 'colorectal': (0.9937716262975779, 0.7630911188004613, 0.44821222606689726),\n",
       " 'esophagus (esophagus adenocarcinoma)': (0.9946943483275663,\n",
       "  0.8092272202998846,\n",
       "  0.48696655132641287),\n",
       " 'esophagus (esophagus squamous)': (0.9954632833525567,\n",
       "  0.8476739715494039,\n",
       "  0.519261822376009),\n",
       " 'eye (uveal melanoma)': (0.9963860053825452,\n",
       "  0.8879661668589004,\n",
       "  0.5610918877354863),\n",
       " 'gastric (gastric adenocarcinoma)': (0.9973087274125336,\n",
       "  0.9165705497885429,\n",
       "  0.6090734332948865),\n",
       " 'kidney (renal cell carcinoma)': (0.9982314494425221,\n",
       "  0.9451749327181853,\n",
       "  0.6570549788542868),\n",
       " 'liver (hepatocellular carcinoma)': (0.9991541714725106,\n",
       "  0.9737793156478277,\n",
       "  0.7050365244136869),\n",
       " 'lung (NSCLC)': (0.998077662437524, 0.9992310649750096, 0.7460207612456747),\n",
       " 'lung (SCLC)': (0.9788542868127643, 0.9915417147251058, 0.7160322952710496),\n",
       " 'lung (mesothelioma)': (0.9557862360630527,\n",
       "  0.9823144944252211,\n",
       "  0.6800461361014996),\n",
       " 'lymphocyte (hodgkin lymphoma)': (0.932718185313341,\n",
       "  0.9730872741253365,\n",
       "  0.6440599769319494),\n",
       " 'lymphocyte (lymphoma unspecified)': (0.9096501345636295,\n",
       "  0.9638600538254518,\n",
       "  0.6080738177623992),\n",
       " 'lymphocyte (non hodgkin lymphoma)': (0.8656670511341794,\n",
       "  0.9460207612456749,\n",
       "  0.6034602076124567),\n",
       " 'ovary (ovary adenocarcinoma)': (0.8202998846597465,\n",
       "  0.9275663206459055,\n",
       "  0.6126874279123413),\n",
       " 'pancreas': (0.765859284890427, 0.9054209919261824, 0.623760092272203),\n",
       " 'peripheral nervous system (neuroblastoma)': (0.7114186851211075,\n",
       "  0.8832756632064592,\n",
       "  0.6348327566320646),\n",
       " 'plasma cell (multiple myeloma)': (0.6546712802768171,\n",
       "  0.8604382929642448,\n",
       "  0.6433679354094579),\n",
       " 'prostate': (0.5910034602076126, 0.835524798154556, 0.6442906574394464),\n",
       " 'skin (melanoma)': (0.5273356401384084,\n",
       "  0.8106113033448674,\n",
       "  0.6452133794694349),\n",
       " 'skin (skin squamous)': (0.47427912341407163,\n",
       "  0.7898500576701268,\n",
       "  0.6459823144944252),\n",
       " 'soft tissue (ATRT)': (0.4106113033448674,\n",
       "  0.7649365628604383,\n",
       "  0.6469050365244137),\n",
       " 'soft tissue (liposarcoma)': (0.3600153787004998,\n",
       "  0.7161860822760476,\n",
       "  0.6655132641291811),\n",
       " 'soft tissue (malignant rhabdoid tumor)': (0.31203383314109956,\n",
       "  0.6626682045367166,\n",
       "  0.6876585928489043),\n",
       " 'soft tissue (rhabdomyosarcoma)': (0.26405228758169935,\n",
       "  0.6091503267973857,\n",
       "  0.7098039215686275),\n",
       " 'soft tissue (synovial sarcoma)': (0.22406766628219915,\n",
       "  0.564552095347943,\n",
       "  0.7282583621683968),\n",
       " 'thyroid (thyroid carcinoma)': (0.21299500192233756,\n",
       "  0.5114186851211072,\n",
       "  0.730795847750865),\n",
       " 'upper aerodigestive': (0.25359477124183005,\n",
       "  0.45882352941176474,\n",
       "  0.7058823529411765),\n",
       " 'urinary tract': (0.2941945405613224, 0.4062283737024224, 0.680968858131488),\n",
       " 'uterus (endometrial adenocarcinoma)': (0.3347943098808151,\n",
       "  0.35363321799307956,\n",
       "  0.6560553633217993)}"
      ]
     },
     "execution_count": 11,
     "metadata": {},
     "output_type": "execute_result"
    }
   ],
   "source": [
    "sublineage_pal"
   ]
  },
  {
   "cell_type": "code",
   "execution_count": 12,
   "metadata": {},
   "outputs": [
    {
     "data": {
      "text/plain": [
       "{'bile duct': (0.15294117647058825, 0.29411764705882354, 0.6941176470588235),\n",
       " 'blood': (0.10065359477124183, 0.39869281045751637, 0.7986928104575164),\n",
       " 'bone': (0.04836601307189542, 0.5032679738562091, 0.9032679738562092),\n",
       " 'breast': (0.0, 0.6058823529411764, 0.9823529411764705),\n",
       " 'central nervous system': (0.0, 0.6843137254901961, 0.747058823529412),\n",
       " 'cervix': (0.0, 0.7627450980392158, 0.5117647058823529),\n",
       " 'colorectal': (0.06666666666666667, 0.8133333333333334, 0.41333333333333333),\n",
       " 'esophagus': (0.2235294117647059, 0.8447058823529412, 0.4447058823529412),\n",
       " 'eye': (0.3803921568627451, 0.876078431372549, 0.476078431372549),\n",
       " 'gastric': (0.5372549019607841, 0.9074509803921569, 0.5074509803921569),\n",
       " 'kidney': (0.6941176470588235, 0.9388235294117647, 0.5388235294117647),\n",
       " 'liver': (0.8509803921568627, 0.9701960784313726, 0.5701960784313725),\n",
       " 'lung': (0.996078431372549, 0.9949803921568627, 0.5978823529411764),\n",
       " 'lymphocyte': (0.9254901960784314, 0.9046274509803922, 0.5597647058823529),\n",
       " 'ovary': (0.8470588235294118, 0.804235294117647, 0.5174117647058823),\n",
       " 'pancreas': (0.7686274509803921, 0.7038431372549019, 0.47505882352941176),\n",
       " 'peripheral nervous system': (0.6901960784313725,\n",
       "  0.6034509803921568,\n",
       "  0.43270588235294116),\n",
       " 'plasma cell': (0.611764705882353, 0.5030588235294118, 0.39035294117647057),\n",
       " 'prostate': (0.5333333333333333, 0.4026666666666666, 0.34800000000000003),\n",
       " 'skin': (0.5372549019607841, 0.4076862745098036, 0.3799215686274507),\n",
       " 'soft tissue': (0.615686274509804, 0.508078431372549, 0.48501960784313725),\n",
       " 'thyroid': (0.6941176470588235, 0.6084705882352941, 0.5901176470588235),\n",
       " 'upper aerodigestive': (0.7725490196078431,\n",
       "  0.7088627450980391,\n",
       "  0.6952156862745098),\n",
       " 'urinary tract': (0.8509803921568627, 0.8092549019607842, 0.800313725490196),\n",
       " 'uterus': (0.9294117647058824, 0.9096470588235294, 0.9054117647058824)}"
      ]
     },
     "execution_count": 12,
     "metadata": {},
     "output_type": "execute_result"
    }
   ],
   "source": [
    "lineage_pal"
   ]
  },
  {
   "cell_type": "markdown",
   "metadata": {},
   "source": [
    "---"
   ]
  },
  {
   "cell_type": "code",
   "execution_count": 13,
   "metadata": {},
   "outputs": [
    {
     "name": "stdout",
     "output_type": "stream",
     "text": [
      "execution time: 0.09 minutes\n"
     ]
    }
   ],
   "source": [
    "notebook_toc = time()\n",
    "print(f\"execution time: {(notebook_toc - notebook_tic) / 60:.2f} minutes\")"
   ]
  },
  {
   "cell_type": "code",
   "execution_count": 14,
   "metadata": {},
   "outputs": [
    {
     "name": "stdout",
     "output_type": "stream",
     "text": [
      "Last updated: 2022-09-18\n",
      "\n",
      "Python implementation: CPython\n",
      "Python version       : 3.10.6\n",
      "IPython version      : 8.5.0\n",
      "\n",
      "Compiler    : GCC 10.4.0\n",
      "OS          : Linux\n",
      "Release     : 3.10.0-1160.76.1.el7.x86_64\n",
      "Machine     : x86_64\n",
      "Processor   : x86_64\n",
      "CPU cores   : 28\n",
      "Architecture: 64bit\n",
      "\n",
      "Hostname: compute-e-16-231.o2.rc.hms.harvard.edu\n",
      "\n",
      "Git branch: figures\n",
      "\n",
      "seaborn: 0.11.2\n",
      "numpy  : 1.23.3\n",
      "re     : 2.2.1\n",
      "\n"
     ]
    }
   ],
   "source": [
    "%load_ext watermark\n",
    "%watermark -d -u -v -iv -b -h -m"
   ]
  },
  {
   "cell_type": "code",
   "execution_count": null,
   "metadata": {},
   "outputs": [],
   "source": []
  }
 ],
 "metadata": {
  "kernelspec": {
   "display_name": "Python 3 (ipykernel)",
   "language": "python",
   "name": "python3"
  },
  "language_info": {
   "codemirror_mode": {
    "name": "ipython",
    "version": 3
   },
   "file_extension": ".py",
   "mimetype": "text/x-python",
   "name": "python",
   "nbconvert_exporter": "python",
   "pygments_lexer": "ipython3",
   "version": "3.10.6"
  }
 },
 "nbformat": 4,
 "nbformat_minor": 4
}
