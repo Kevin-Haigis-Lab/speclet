{
 "cells": [
  {
   "cell_type": "code",
   "execution_count": 1,
   "metadata": {},
   "outputs": [],
   "source": [
    "%load_ext autoreload\n",
    "%autoreload 2"
   ]
  },
  {
   "cell_type": "code",
   "execution_count": 2,
   "metadata": {},
   "outputs": [],
   "source": [
    "import re\n",
    "import string\n",
    "import warnings\n",
    "from pathlib import Path\n",
    "from time import time\n",
    "\n",
    "import arviz as az\n",
    "import matplotlib.colors as mcolors\n",
    "import matplotlib.pyplot as plt\n",
    "import numpy as np\n",
    "import pandas as pd\n",
    "import plotnine as gg\n",
    "import pymc3 as pm\n",
    "import seaborn as sns\n",
    "from theano import tensor as tt"
   ]
  },
  {
   "cell_type": "code",
   "execution_count": 1,
   "metadata": {},
   "outputs": [],
   "source": [
    "from src.data_processing import achilles as achelp\n",
    "from src.data_processing import common as dphelp\n",
    "from src.io import cache_io\n",
    "from src.loggers import logger\n",
    "from src.modeling import pymc3_analysis as pmanal\n",
    "from src.modeling import pymc3_sampling_api as pmapi\n",
    "from src.plot.color_pal import FitMethodColors, ModelColors, SeabornColor"
   ]
  },
  {
   "cell_type": "code",
   "execution_count": 5,
   "metadata": {},
   "outputs": [],
   "source": [
    "notebook_tic = time()\n",
    "\n",
    "warnings.simplefilter(action=\"ignore\", category=UserWarning)\n",
    "\n",
    "gg.theme_set(\n",
    "    gg.theme_bw()\n",
    "    + gg.theme(\n",
    "        figure_size=(4, 4),\n",
    "        axis_ticks_major=gg.element_blank(),\n",
    "        strip_background=gg.element_blank(),\n",
    "    )\n",
    ")\n",
    "%config InlineBackend.figure_format = \"retina\"\n",
    "\n",
    "RANDOM_SEED = 847\n",
    "np.random.seed(RANDOM_SEED)\n",
    "HDI_PROB = 0.89"
   ]
  },
  {
   "cell_type": "code",
   "execution_count": null,
   "metadata": {},
   "outputs": [],
   "source": []
  },
  {
   "cell_type": "code",
   "execution_count": null,
   "metadata": {},
   "outputs": [],
   "source": []
  },
  {
   "cell_type": "code",
   "execution_count": null,
   "metadata": {},
   "outputs": [],
   "source": []
  },
  {
   "cell_type": "markdown",
   "metadata": {},
   "source": [
    "---"
   ]
  },
  {
   "cell_type": "code",
   "execution_count": null,
   "metadata": {},
   "outputs": [],
   "source": [
    "notebook_toc = time()\n",
    "print(f\"execution time: {(notebook_toc - notebook_tic) / 60:.2f} minutes\")"
   ]
  },
  {
   "cell_type": "code",
   "execution_count": null,
   "metadata": {},
   "outputs": [],
   "source": [
    "%load_ext watermark\n",
    "%watermark -d -u -v -iv -b -h -m"
   ]
  }
 ],
 "metadata": {
  "kernelspec": {
   "display_name": "Python 3",
   "language": "python",
   "name": "python3"
  },
  "language_info": {
   "codemirror_mode": {
    "name": "ipython",
    "version": 3
   },
   "file_extension": ".py",
   "mimetype": "text/x-python",
   "name": "python",
   "nbconvert_exporter": "python",
   "pygments_lexer": "ipython3",
   "version": "3.9.2"
  }
 },
 "nbformat": 4,
 "nbformat_minor": 4
}
