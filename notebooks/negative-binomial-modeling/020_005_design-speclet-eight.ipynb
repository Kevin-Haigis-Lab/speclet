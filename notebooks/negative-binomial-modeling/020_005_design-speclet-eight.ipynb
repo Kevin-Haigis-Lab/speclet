{
 "cells": [
  {
   "cell_type": "code",
   "execution_count": 1,
   "metadata": {},
   "outputs": [],
   "source": [
    "%load_ext autoreload\n",
    "%autoreload 2"
   ]
  },
  {
   "cell_type": "code",
   "execution_count": 2,
   "metadata": {},
   "outputs": [],
   "source": [
    "import logging\n",
    "import warnings\n",
    "from time import time\n",
    "\n",
    "import arviz as az\n",
    "import matplotlib.pyplot as plt\n",
    "import numpy as np\n",
    "import pandas as pd\n",
    "import plotnine as gg\n",
    "import pymc3 as pm\n",
    "import seaborn as sns"
   ]
  },
  {
   "cell_type": "code",
   "execution_count": 3,
   "metadata": {},
   "outputs": [],
   "source": [
    "from src.io.cache_io import temp_dir\n",
    "from src.io.data_io import DataFile\n",
    "from src.loggers import set_console_handler_level\n",
    "from src.managers.data_managers import CrisprScreenDataManager\n",
    "from src.models.speclet_eight import SpecletEight\n",
    "from src.plot.color_pal import SeabornColor\n",
    "from src.plot.plotnine_helpers import set_gg_theme"
   ]
  },
  {
   "cell_type": "code",
   "execution_count": 4,
   "metadata": {},
   "outputs": [],
   "source": [
    "notebook_tic = time()\n",
    "\n",
    "warnings.simplefilter(action=\"ignore\", category=UserWarning)\n",
    "set_console_handler_level(logging.INFO)\n",
    "set_gg_theme()\n",
    "%config InlineBackend.figure_format = \"retina\"\n",
    "\n",
    "RANDOM_SEED = 1026\n",
    "np.random.seed(RANDOM_SEED)"
   ]
  },
  {
   "cell_type": "code",
   "execution_count": 11,
   "metadata": {},
   "outputs": [],
   "source": [
    "from src.models.speclet_eight import SpecletEight"
   ]
  },
  {
   "cell_type": "code",
   "execution_count": 12,
   "metadata": {},
   "outputs": [
    {
     "data": {
      "text/html": [
       "<pre style=\"white-space:pre;overflow-x:auto;line-height:normal;font-family:Menlo,'DejaVu Sans Mono',consolas,'Courier New',monospace\"><span style=\"color: #7fbfbf; text-decoration-color: #7fbfbf\">[10/15/21 10:07:44] </span><span style=\"color: #000080; text-decoration-color: #000080\">INFO    </span> Creating a new SpecletEight object.          <a href=\"file:///Users/admin/Lab_Projects/speclet/src/models/speclet_eight.py\"><span style=\"color: #7f7f7f; text-decoration-color: #7f7f7f\">speclet_eight.py</span></a><span style=\"color: #7f7f7f; text-decoration-color: #7f7f7f\">:91</span>\n",
       "</pre>\n"
      ],
      "text/plain": [
       "\u001b[2;36m[10/15/21 10:07:44]\u001b[0m\u001b[2;36m \u001b[0m\u001b[34mINFO    \u001b[0m Creating a new SpecletEight object.          \u001b]8;id=387003;file:///Users/admin/Lab_Projects/speclet/src/models/speclet_eight.py\u001b\\\u001b[2mspeclet_eight.py\u001b[0m\u001b]8;;\u001b\\\u001b[2m:91\u001b[0m\n"
      ]
     },
     "metadata": {},
     "output_type": "display_data"
    },
    {
     "data": {
      "text/html": [
       "<pre style=\"white-space:pre;overflow-x:auto;line-height:normal;font-family:Menlo,'DejaVu Sans Mono',consolas,'Courier New',monospace\"><span style=\"color: #7fbfbf; text-decoration-color: #7fbfbf\">                    </span><span style=\"color: #000080; text-decoration-color: #000080\">INFO    </span> Adding new transformation.                  <a href=\"file:///Users/admin/Lab_Projects/speclet/src/managers/data_managers.py\"><span style=\"color: #7f7f7f; text-decoration-color: #7f7f7f\">data_managers.py</span></a><span style=\"color: #7f7f7f; text-decoration-color: #7f7f7f\">:171</span>\n",
       "</pre>\n"
      ],
      "text/plain": [
       "\u001b[2;36m                   \u001b[0m\u001b[2;36m \u001b[0m\u001b[34mINFO    \u001b[0m Adding new transformation.                  \u001b]8;id=468919;file:///Users/admin/Lab_Projects/speclet/src/managers/data_managers.py\u001b\\\u001b[2mdata_managers.py\u001b[0m\u001b]8;;\u001b\\\u001b[2m:171\u001b[0m\n"
      ]
     },
     "metadata": {},
     "output_type": "display_data"
    },
    {
     "data": {
      "text/html": [
       "<pre style=\"white-space:pre;overflow-x:auto;line-height:normal;font-family:Menlo,'DejaVu Sans Mono',consolas,'Courier New',monospace\"><span style=\"color: #7fbfbf; text-decoration-color: #7fbfbf\">                    </span><span style=\"color: #000080; text-decoration-color: #000080\">INFO    </span> Adding new transformation.                  <a href=\"file:///Users/admin/Lab_Projects/speclet/src/managers/data_managers.py\"><span style=\"color: #7f7f7f; text-decoration-color: #7f7f7f\">data_managers.py</span></a><span style=\"color: #7f7f7f; text-decoration-color: #7f7f7f\">:171</span>\n",
       "</pre>\n"
      ],
      "text/plain": [
       "\u001b[2;36m                   \u001b[0m\u001b[2;36m \u001b[0m\u001b[34mINFO    \u001b[0m Adding new transformation.                  \u001b]8;id=93294;file:///Users/admin/Lab_Projects/speclet/src/managers/data_managers.py\u001b\\\u001b[2mdata_managers.py\u001b[0m\u001b]8;;\u001b\\\u001b[2m:171\u001b[0m\n"
      ]
     },
     "metadata": {},
     "output_type": "display_data"
    },
    {
     "data": {
      "text/html": [
       "<pre style=\"white-space:pre;overflow-x:auto;line-height:normal;font-family:Menlo,'DejaVu Sans Mono',consolas,'Courier New',monospace\"><span style=\"color: #7fbfbf; text-decoration-color: #7fbfbf\">                    </span><span style=\"color: #000080; text-decoration-color: #000080\">INFO    </span> Adding new transformation.                  <a href=\"file:///Users/admin/Lab_Projects/speclet/src/managers/data_managers.py\"><span style=\"color: #7f7f7f; text-decoration-color: #7f7f7f\">data_managers.py</span></a><span style=\"color: #7f7f7f; text-decoration-color: #7f7f7f\">:171</span>\n",
       "</pre>\n"
      ],
      "text/plain": [
       "\u001b[2;36m                   \u001b[0m\u001b[2;36m \u001b[0m\u001b[34mINFO    \u001b[0m Adding new transformation.                  \u001b]8;id=143880;file:///Users/admin/Lab_Projects/speclet/src/managers/data_managers.py\u001b\\\u001b[2mdata_managers.py\u001b[0m\u001b]8;;\u001b\\\u001b[2m:171\u001b[0m\n"
      ]
     },
     "metadata": {},
     "output_type": "display_data"
    },
    {
     "data": {
      "text/html": [
       "<pre style=\"white-space:pre;overflow-x:auto;line-height:normal;font-family:Menlo,'DejaVu Sans Mono',consolas,'Courier New',monospace\"><span style=\"color: #7fbfbf; text-decoration-color: #7fbfbf\">                    </span><span style=\"color: #000080; text-decoration-color: #000080\">INFO    </span> Calling `<span style=\"color: #800080; text-decoration-color: #800080; font-weight: bold\">model_specification</span><span style=\"font-weight: bold\">()</span>` method.     <a href=\"file:///Users/admin/Lab_Projects/speclet/src/models/speclet_model.py\"><span style=\"color: #7f7f7f; text-decoration-color: #7f7f7f\">speclet_model.py</span></a><span style=\"color: #7f7f7f; text-decoration-color: #7f7f7f\">:205</span>\n",
       "</pre>\n"
      ],
      "text/plain": [
       "\u001b[2;36m                   \u001b[0m\u001b[2;36m \u001b[0m\u001b[34mINFO    \u001b[0m Calling `\u001b[1;35mmodel_specification\u001b[0m\u001b[1m(\u001b[0m\u001b[1m)\u001b[0m` method.     \u001b]8;id=588755;file:///Users/admin/Lab_Projects/speclet/src/models/speclet_model.py\u001b\\\u001b[2mspeclet_model.py\u001b[0m\u001b]8;;\u001b\\\u001b[2m:205\u001b[0m\n"
      ]
     },
     "metadata": {},
     "output_type": "display_data"
    },
    {
     "data": {
      "text/html": [
       "<pre style=\"white-space:pre;overflow-x:auto;line-height:normal;font-family:Menlo,'DejaVu Sans Mono',consolas,'Courier New',monospace\"><span style=\"color: #7fbfbf; text-decoration-color: #7fbfbf\">                    </span><span style=\"color: #000080; text-decoration-color: #000080\">INFO    </span> Creating SpecletEight model.                <a href=\"file:///Users/admin/Lab_Projects/speclet/src/models/speclet_eight.py\"><span style=\"color: #7f7f7f; text-decoration-color: #7f7f7f\">speclet_eight.py</span></a><span style=\"color: #7f7f7f; text-decoration-color: #7f7f7f\">:122</span>\n",
       "</pre>\n"
      ],
      "text/plain": [
       "\u001b[2;36m                   \u001b[0m\u001b[2;36m \u001b[0m\u001b[34mINFO    \u001b[0m Creating SpecletEight model.                \u001b]8;id=489397;file:///Users/admin/Lab_Projects/speclet/src/models/speclet_eight.py\u001b\\\u001b[2mspeclet_eight.py\u001b[0m\u001b]8;;\u001b\\\u001b[2m:122\u001b[0m\n"
      ]
     },
     "metadata": {},
     "output_type": "display_data"
    },
    {
     "data": {
      "text/html": [
       "<pre style=\"white-space:pre;overflow-x:auto;line-height:normal;font-family:Menlo,'DejaVu Sans Mono',consolas,'Courier New',monospace\"><span style=\"color: #7fbfbf; text-decoration-color: #7fbfbf\">                    </span><span style=\"color: #000080; text-decoration-color: #000080\">INFO    </span> Getting data - reading from file.           <a href=\"file:///Users/admin/Lab_Projects/speclet/src/managers/data_managers.py\"><span style=\"color: #7f7f7f; text-decoration-color: #7f7f7f\">data_managers.py</span></a><span style=\"color: #7f7f7f; text-decoration-color: #7f7f7f\">:126</span>\n",
       "</pre>\n"
      ],
      "text/plain": [
       "\u001b[2;36m                   \u001b[0m\u001b[2;36m \u001b[0m\u001b[34mINFO    \u001b[0m Getting data - reading from file.           \u001b]8;id=743403;file:///Users/admin/Lab_Projects/speclet/src/managers/data_managers.py\u001b\\\u001b[2mdata_managers.py\u001b[0m\u001b]8;;\u001b\\\u001b[2m:126\u001b[0m\n"
      ]
     },
     "metadata": {},
     "output_type": "display_data"
    },
    {
     "data": {
      "text/html": [
       "<pre style=\"white-space:pre;overflow-x:auto;line-height:normal;font-family:Menlo,'DejaVu Sans Mono',consolas,'Courier New',monospace\"><span style=\"color: #7fbfbf; text-decoration-color: #7fbfbf\">                    </span><span style=\"color: #800000; text-decoration-color: #800000\">WARNING </span> Dropping <span style=\"color: #008080; text-decoration-color: #008080; font-weight: bold\">0</span> sgRNA that map to multiple genes.     <a href=\"file:///Users/admin/Lab_Projects/speclet/src/data_processing/achilles.py\"><span style=\"color: #7f7f7f; text-decoration-color: #7f7f7f\">achilles.py</span></a><span style=\"color: #7f7f7f; text-decoration-color: #7f7f7f\">:616</span>\n",
       "</pre>\n"
      ],
      "text/plain": [
       "\u001b[2;36m                   \u001b[0m\u001b[2;36m \u001b[0m\u001b[31mWARNING \u001b[0m Dropping \u001b[1;36m0\u001b[0m sgRNA that map to multiple genes.     \u001b]8;id=92494;file:///Users/admin/Lab_Projects/speclet/src/data_processing/achilles.py\u001b\\\u001b[2machilles.py\u001b[0m\u001b]8;;\u001b\\\u001b[2m:616\u001b[0m\n"
      ]
     },
     "metadata": {},
     "output_type": "display_data"
    },
    {
     "data": {
      "text/html": [
       "<pre style=\"white-space:pre;overflow-x:auto;line-height:normal;font-family:Menlo,'DejaVu Sans Mono',consolas,'Courier New',monospace\"><span style=\"color: #7fbfbf; text-decoration-color: #7fbfbf\">                    </span><span style=\"color: #000080; text-decoration-color: #000080\">INFO    </span> Adding <span style=\"color: #008000; text-decoration-color: #008000\">'rna_expr_gene_lineage'</span> column. <a href=\"file:///Users/admin/Lab_Projects/speclet/src/modeling/feature_engineering.py\"><span style=\"color: #7f7f7f; text-decoration-color: #7f7f7f\">feature_engineering.py</span></a><span style=\"color: #7f7f7f; text-decoration-color: #7f7f7f\">:73</span>\n",
       "</pre>\n"
      ],
      "text/plain": [
       "\u001b[2;36m                   \u001b[0m\u001b[2;36m \u001b[0m\u001b[34mINFO    \u001b[0m Adding \u001b[32m'rna_expr_gene_lineage'\u001b[0m column. \u001b]8;id=77576;file:///Users/admin/Lab_Projects/speclet/src/modeling/feature_engineering.py\u001b\\\u001b[2mfeature_engineering.py\u001b[0m\u001b]8;;\u001b\\\u001b[2m:73\u001b[0m\n"
      ]
     },
     "metadata": {},
     "output_type": "display_data"
    },
    {
     "data": {
      "text/html": [
       "<pre style=\"white-space:pre;overflow-x:auto;line-height:normal;font-family:Menlo,'DejaVu Sans Mono',consolas,'Courier New',monospace\"><span style=\"color: #7fbfbf; text-decoration-color: #7fbfbf\">[10/15/21 10:07:45] </span><span style=\"color: #000080; text-decoration-color: #000080\">INFO    </span> Number of data points: <span style=\"color: #008080; text-decoration-color: #008080; font-weight: bold\">960</span>                  <a href=\"file:///Users/admin/Lab_Projects/speclet/src/models/speclet_eight.py\"><span style=\"color: #7f7f7f; text-decoration-color: #7f7f7f\">speclet_eight.py</span></a><span style=\"color: #7f7f7f; text-decoration-color: #7f7f7f\">:126</span>\n",
       "</pre>\n"
      ],
      "text/plain": [
       "\u001b[2;36m[10/15/21 10:07:45]\u001b[0m\u001b[2;36m \u001b[0m\u001b[34mINFO    \u001b[0m Number of data points: \u001b[1;36m960\u001b[0m                  \u001b]8;id=333827;file:///Users/admin/Lab_Projects/speclet/src/models/speclet_eight.py\u001b\\\u001b[2mspeclet_eight.py\u001b[0m\u001b]8;;\u001b\\\u001b[2m:126\u001b[0m\n"
      ]
     },
     "metadata": {},
     "output_type": "display_data"
    },
    {
     "data": {
      "text/html": [
       "<pre style=\"white-space:pre;overflow-x:auto;line-height:normal;font-family:Menlo,'DejaVu Sans Mono',consolas,'Courier New',monospace\"><span style=\"color: #7fbfbf; text-decoration-color: #7fbfbf\">                    </span><span style=\"color: #000080; text-decoration-color: #000080\">INFO    </span> Number of sgRNA: <span style=\"color: #008080; text-decoration-color: #008080; font-weight: bold\">160</span>                        <a href=\"file:///Users/admin/Lab_Projects/speclet/src/models/speclet_eight.py\"><span style=\"color: #7f7f7f; text-decoration-color: #7f7f7f\">speclet_eight.py</span></a><span style=\"color: #7f7f7f; text-decoration-color: #7f7f7f\">:128</span>\n",
       "</pre>\n"
      ],
      "text/plain": [
       "\u001b[2;36m                   \u001b[0m\u001b[2;36m \u001b[0m\u001b[34mINFO    \u001b[0m Number of sgRNA: \u001b[1;36m160\u001b[0m                        \u001b]8;id=84499;file:///Users/admin/Lab_Projects/speclet/src/models/speclet_eight.py\u001b\\\u001b[2mspeclet_eight.py\u001b[0m\u001b]8;;\u001b\\\u001b[2m:128\u001b[0m\n"
      ]
     },
     "metadata": {},
     "output_type": "display_data"
    },
    {
     "data": {
      "text/html": [
       "<pre style=\"white-space:pre;overflow-x:auto;line-height:normal;font-family:Menlo,'DejaVu Sans Mono',consolas,'Courier New',monospace\"><span style=\"color: #7fbfbf; text-decoration-color: #7fbfbf\">                    </span><span style=\"color: #000080; text-decoration-color: #000080\">INFO    </span> Number of genes: <span style=\"color: #008080; text-decoration-color: #008080; font-weight: bold\">101</span>                        <a href=\"file:///Users/admin/Lab_Projects/speclet/src/models/speclet_eight.py\"><span style=\"color: #7f7f7f; text-decoration-color: #7f7f7f\">speclet_eight.py</span></a><span style=\"color: #7f7f7f; text-decoration-color: #7f7f7f\">:129</span>\n",
       "</pre>\n"
      ],
      "text/plain": [
       "\u001b[2;36m                   \u001b[0m\u001b[2;36m \u001b[0m\u001b[34mINFO    \u001b[0m Number of genes: \u001b[1;36m101\u001b[0m                        \u001b]8;id=551092;file:///Users/admin/Lab_Projects/speclet/src/models/speclet_eight.py\u001b\\\u001b[2mspeclet_eight.py\u001b[0m\u001b]8;;\u001b\\\u001b[2m:129\u001b[0m\n"
      ]
     },
     "metadata": {},
     "output_type": "display_data"
    },
    {
     "data": {
      "text/html": [
       "<pre style=\"white-space:pre;overflow-x:auto;line-height:normal;font-family:Menlo,'DejaVu Sans Mono',consolas,'Courier New',monospace\"><span style=\"color: #7fbfbf; text-decoration-color: #7fbfbf\">                    </span><span style=\"color: #000080; text-decoration-color: #000080\">INFO    </span> Number of cell lines: <span style=\"color: #008080; text-decoration-color: #008080; font-weight: bold\">6</span>                     <a href=\"file:///Users/admin/Lab_Projects/speclet/src/models/speclet_eight.py\"><span style=\"color: #7f7f7f; text-decoration-color: #7f7f7f\">speclet_eight.py</span></a><span style=\"color: #7f7f7f; text-decoration-color: #7f7f7f\">:130</span>\n",
       "</pre>\n"
      ],
      "text/plain": [
       "\u001b[2;36m                   \u001b[0m\u001b[2;36m \u001b[0m\u001b[34mINFO    \u001b[0m Number of cell lines: \u001b[1;36m6\u001b[0m                     \u001b]8;id=263639;file:///Users/admin/Lab_Projects/speclet/src/models/speclet_eight.py\u001b\\\u001b[2mspeclet_eight.py\u001b[0m\u001b]8;;\u001b\\\u001b[2m:130\u001b[0m\n"
      ]
     },
     "metadata": {},
     "output_type": "display_data"
    },
    {
     "data": {
      "text/html": [
       "<pre style=\"white-space:pre;overflow-x:auto;line-height:normal;font-family:Menlo,'DejaVu Sans Mono',consolas,'Courier New',monospace\"><span style=\"color: #7fbfbf; text-decoration-color: #7fbfbf\">                    </span><span style=\"color: #000080; text-decoration-color: #000080\">INFO    </span> Number of lineages: <span style=\"color: #008080; text-decoration-color: #008080; font-weight: bold\">1</span>                       <a href=\"file:///Users/admin/Lab_Projects/speclet/src/models/speclet_eight.py\"><span style=\"color: #7f7f7f; text-decoration-color: #7f7f7f\">speclet_eight.py</span></a><span style=\"color: #7f7f7f; text-decoration-color: #7f7f7f\">:131</span>\n",
       "</pre>\n"
      ],
      "text/plain": [
       "\u001b[2;36m                   \u001b[0m\u001b[2;36m \u001b[0m\u001b[34mINFO    \u001b[0m Number of lineages: \u001b[1;36m1\u001b[0m                       \u001b]8;id=767638;file:///Users/admin/Lab_Projects/speclet/src/models/speclet_eight.py\u001b\\\u001b[2mspeclet_eight.py\u001b[0m\u001b]8;;\u001b\\\u001b[2m:131\u001b[0m\n"
      ]
     },
     "metadata": {},
     "output_type": "display_data"
    },
    {
     "data": {
      "text/html": [
       "<pre style=\"white-space:pre;overflow-x:auto;line-height:normal;font-family:Menlo,'DejaVu Sans Mono',consolas,'Courier New',monospace\"><span style=\"color: #7fbfbf; text-decoration-color: #7fbfbf\">                    </span><span style=\"color: #000080; text-decoration-color: #000080\">INFO    </span> Creating shared variables.                  <a href=\"file:///Users/admin/Lab_Projects/speclet/src/models/speclet_eight.py\"><span style=\"color: #7f7f7f; text-decoration-color: #7f7f7f\">speclet_eight.py</span></a><span style=\"color: #7f7f7f; text-decoration-color: #7f7f7f\">:134</span>\n",
       "</pre>\n"
      ],
      "text/plain": [
       "\u001b[2;36m                   \u001b[0m\u001b[2;36m \u001b[0m\u001b[34mINFO    \u001b[0m Creating shared variables.                  \u001b]8;id=575735;file:///Users/admin/Lab_Projects/speclet/src/models/speclet_eight.py\u001b\\\u001b[2mspeclet_eight.py\u001b[0m\u001b]8;;\u001b\\\u001b[2m:134\u001b[0m\n"
      ]
     },
     "metadata": {},
     "output_type": "display_data"
    },
    {
     "data": {
      "image/svg+xml": "<?xml version=\"1.0\" encoding=\"UTF-8\" standalone=\"no\"?>\n<!DOCTYPE svg PUBLIC \"-//W3C//DTD SVG 1.1//EN\"\n \"http://www.w3.org/Graphics/SVG/1.1/DTD/svg11.dtd\">\n<!-- Generated by graphviz version 2.48.0 (0)\n -->\n<!-- Pages: 1 -->\n<svg width=\"1082pt\" height=\"991pt\"\n viewBox=\"0.00 0.00 1082.02 990.67\" xmlns=\"http://www.w3.org/2000/svg\" xmlns:xlink=\"http://www.w3.org/1999/xlink\">\n<g id=\"graph0\" class=\"graph\" transform=\"scale(1 1) rotate(0) translate(4 986.67)\">\n<polygon fill=\"white\" stroke=\"transparent\" points=\"-4,4 -4,-986.67 1078.02,-986.67 1078.02,4 -4,4\"/>\n<g id=\"clust1\" class=\"cluster\">\n<title>cluster960</title>\n<path fill=\"none\" stroke=\"black\" d=\"M138.4,-8C138.4,-8 310.4,-8 310.4,-8 316.4,-8 322.4,-14 322.4,-20 322.4,-20 322.4,-501.88 322.4,-501.88 322.4,-507.88 316.4,-513.88 310.4,-513.88 310.4,-513.88 138.4,-513.88 138.4,-513.88 132.4,-513.88 126.4,-507.88 126.4,-501.88 126.4,-501.88 126.4,-20 126.4,-20 126.4,-14 132.4,-8 138.4,-8\"/>\n<text text-anchor=\"middle\" x=\"303.9\" y=\"-15.8\" font-family=\"Times,serif\" font-size=\"14.00\">960</text>\n</g>\n<g id=\"clust2\" class=\"cluster\">\n<title>cluster160</title>\n<path fill=\"none\" stroke=\"black\" d=\"M69.4,-543.84C69.4,-543.84 185.4,-543.84 185.4,-543.84 191.4,-543.84 197.4,-549.84 197.4,-555.84 197.4,-555.84 197.4,-623.84 197.4,-623.84 197.4,-629.84 191.4,-635.84 185.4,-635.84 185.4,-635.84 69.4,-635.84 69.4,-635.84 63.4,-635.84 57.4,-629.84 57.4,-623.84 57.4,-623.84 57.4,-555.84 57.4,-555.84 57.4,-549.84 63.4,-543.84 69.4,-543.84\"/>\n<text text-anchor=\"middle\" x=\"178.9\" y=\"-551.64\" font-family=\"Times,serif\" font-size=\"14.00\">160</text>\n</g>\n<g id=\"clust3\" class=\"cluster\">\n<title>cluster6</title>\n<path fill=\"none\" stroke=\"black\" d=\"M145.4,-776.74C145.4,-776.74 293.4,-776.74 293.4,-776.74 299.4,-776.74 305.4,-782.74 305.4,-788.74 305.4,-788.74 305.4,-856.74 305.4,-856.74 305.4,-862.74 299.4,-868.74 293.4,-868.74 293.4,-868.74 145.4,-868.74 145.4,-868.74 139.4,-868.74 133.4,-862.74 133.4,-856.74 133.4,-856.74 133.4,-788.74 133.4,-788.74 133.4,-782.74 139.4,-776.74 145.4,-776.74\"/>\n<text text-anchor=\"middle\" x=\"293.9\" y=\"-784.54\" font-family=\"Times,serif\" font-size=\"14.00\">6</text>\n</g>\n<g id=\"clust4\" class=\"cluster\">\n<title>cluster101 x 6</title>\n<path fill=\"none\" stroke=\"black\" d=\"M217.4,-543.84C217.4,-543.84 531.4,-543.84 531.4,-543.84 537.4,-543.84 543.4,-549.84 543.4,-555.84 543.4,-555.84 543.4,-745.77 543.4,-745.77 543.4,-751.77 537.4,-757.77 531.4,-757.77 531.4,-757.77 217.4,-757.77 217.4,-757.77 211.4,-757.77 205.4,-751.77 205.4,-745.77 205.4,-745.77 205.4,-555.84 205.4,-555.84 205.4,-549.84 211.4,-543.84 217.4,-543.84\"/>\n<text text-anchor=\"middle\" x=\"514.4\" y=\"-551.64\" font-family=\"Times,serif\" font-size=\"14.00\">101 x 6</text>\n</g>\n<g id=\"clust5\" class=\"cluster\">\n<title>cluster101 x 1</title>\n<path fill=\"none\" stroke=\"black\" d=\"M676.4,-765.77C676.4,-765.77 853.4,-765.77 853.4,-765.77 859.4,-765.77 865.4,-771.77 865.4,-777.77 865.4,-777.77 865.4,-867.72 865.4,-867.72 865.4,-873.72 859.4,-879.72 853.4,-879.72 853.4,-879.72 676.4,-879.72 676.4,-879.72 670.4,-879.72 664.4,-873.72 664.4,-867.72 664.4,-867.72 664.4,-777.77 664.4,-777.77 664.4,-771.77 670.4,-765.77 676.4,-765.77\"/>\n<text text-anchor=\"middle\" x=\"836.4\" y=\"-773.57\" font-family=\"Times,serif\" font-size=\"14.00\">101 x 1</text>\n</g>\n<g id=\"clust6\" class=\"cluster\">\n<title>cluster101</title>\n<path fill=\"none\" stroke=\"black\" d=\"M573.4,-532.86C573.4,-532.86 683.4,-532.86 683.4,-532.86 689.4,-532.86 695.4,-538.86 695.4,-544.86 695.4,-544.86 695.4,-634.81 695.4,-634.81 695.4,-640.81 689.4,-646.81 683.4,-646.81 683.4,-646.81 573.4,-646.81 573.4,-646.81 567.4,-646.81 561.4,-640.81 561.4,-634.81 561.4,-634.81 561.4,-544.86 561.4,-544.86 561.4,-538.86 567.4,-532.86 573.4,-532.86\"/>\n<text text-anchor=\"middle\" x=\"676.9\" y=\"-540.66\" font-family=\"Times,serif\" font-size=\"14.00\">101</text>\n</g>\n<g id=\"clust7\" class=\"cluster\">\n<title>cluster160 x 6</title>\n<path fill=\"none\" stroke=\"black\" d=\"M342.4,-410.91C342.4,-410.91 442.4,-410.91 442.4,-410.91 448.4,-410.91 454.4,-416.91 454.4,-422.91 454.4,-422.91 454.4,-512.86 454.4,-512.86 454.4,-518.86 448.4,-524.86 442.4,-524.86 442.4,-524.86 342.4,-524.86 342.4,-524.86 336.4,-524.86 330.4,-518.86 330.4,-512.86 330.4,-512.86 330.4,-422.91 330.4,-422.91 330.4,-416.91 336.4,-410.91 342.4,-410.91\"/>\n<text text-anchor=\"middle\" x=\"425.4\" y=\"-418.71\" font-family=\"Times,serif\" font-size=\"14.00\">160 x 6</text>\n</g>\n<!-- eta -->\n<g id=\"node1\" class=\"node\">\n<title>eta</title>\n<polygon fill=\"none\" stroke=\"black\" points=\"313.9,-402.91 220.9,-402.91 220.9,-349.91 313.9,-349.91 313.9,-402.91\"/>\n<text text-anchor=\"middle\" x=\"267.4\" y=\"-387.71\" font-family=\"Times,serif\" font-size=\"14.00\">eta</text>\n<text text-anchor=\"middle\" x=\"267.4\" y=\"-372.71\" font-family=\"Times,serif\" font-size=\"14.00\">~</text>\n<text text-anchor=\"middle\" x=\"267.4\" y=\"-357.71\" font-family=\"Times,serif\" font-size=\"14.00\">Deterministic</text>\n</g>\n<!-- mu -->\n<g id=\"node3\" class=\"node\">\n<title>mu</title>\n<polygon fill=\"none\" stroke=\"black\" points=\"313.9,-302.93 220.9,-302.93 220.9,-249.93 313.9,-249.93 313.9,-302.93\"/>\n<text text-anchor=\"middle\" x=\"267.4\" y=\"-287.73\" font-family=\"Times,serif\" font-size=\"14.00\">mu</text>\n<text text-anchor=\"middle\" x=\"267.4\" y=\"-272.73\" font-family=\"Times,serif\" font-size=\"14.00\">~</text>\n<text text-anchor=\"middle\" x=\"267.4\" y=\"-257.73\" font-family=\"Times,serif\" font-size=\"14.00\">Deterministic</text>\n</g>\n<!-- eta&#45;&gt;mu -->\n<g id=\"edge24\" class=\"edge\">\n<title>eta&#45;&gt;mu</title>\n<path fill=\"none\" stroke=\"black\" d=\"M267.4,-349.66C267.4,-338.53 267.4,-325.3 267.4,-313.23\"/>\n<polygon fill=\"black\" stroke=\"black\" points=\"270.9,-313 267.4,-303 263.9,-313 270.9,-313\"/>\n</g>\n<!-- cell_line_idx -->\n<g id=\"node2\" class=\"node\">\n<title>cell_line_idx</title>\n<path fill=\"lightgrey\" stroke=\"black\" d=\"M212.4,-505.88C212.4,-505.88 146.4,-505.88 146.4,-505.88 140.4,-505.88 134.4,-499.88 134.4,-493.88 134.4,-493.88 134.4,-464.88 134.4,-464.88 134.4,-458.88 140.4,-452.88 146.4,-452.88 146.4,-452.88 212.4,-452.88 212.4,-452.88 218.4,-452.88 224.4,-458.88 224.4,-464.88 224.4,-464.88 224.4,-493.88 224.4,-493.88 224.4,-499.88 218.4,-505.88 212.4,-505.88\"/>\n<text text-anchor=\"middle\" x=\"179.4\" y=\"-490.68\" font-family=\"Times,serif\" font-size=\"14.00\">cell_line_idx</text>\n<text text-anchor=\"middle\" x=\"179.4\" y=\"-475.68\" font-family=\"Times,serif\" font-size=\"14.00\">~</text>\n<text text-anchor=\"middle\" x=\"179.4\" y=\"-460.68\" font-family=\"Times,serif\" font-size=\"14.00\">Data</text>\n</g>\n<!-- cell_line_idx&#45;&gt;eta -->\n<g id=\"edge21\" class=\"edge\">\n<title>cell_line_idx&#45;&gt;eta</title>\n<path fill=\"none\" stroke=\"black\" d=\"M198.72,-452.81C208.72,-439.94 221.34,-424.28 233.4,-410.91 233.54,-410.75 233.69,-410.58 233.84,-410.42\"/>\n<polygon fill=\"black\" stroke=\"black\" points=\"236.44,-412.77 240.73,-403.08 231.33,-407.97 236.44,-412.77\"/>\n</g>\n<!-- y -->\n<g id=\"node6\" class=\"node\">\n<title>y</title>\n<ellipse fill=\"lightgrey\" stroke=\"black\" cx=\"218.4\" cy=\"-165.48\" rx=\"84.29\" ry=\"37.45\"/>\n<text text-anchor=\"middle\" x=\"218.4\" y=\"-176.78\" font-family=\"Times,serif\" font-size=\"14.00\">y</text>\n<text text-anchor=\"middle\" x=\"218.4\" y=\"-161.78\" font-family=\"Times,serif\" font-size=\"14.00\">~</text>\n<text text-anchor=\"middle\" x=\"218.4\" y=\"-146.78\" font-family=\"Times,serif\" font-size=\"14.00\">NegativeBinomial</text>\n</g>\n<!-- mu&#45;&gt;y -->\n<g id=\"edge26\" class=\"edge\">\n<title>mu&#45;&gt;y</title>\n<path fill=\"none\" stroke=\"black\" d=\"M255.91,-249.89C250.81,-238.55 244.65,-224.86 238.81,-211.87\"/>\n<polygon fill=\"black\" stroke=\"black\" points=\"241.93,-210.27 234.64,-202.59 235.55,-213.14 241.93,-210.27\"/>\n</g>\n<!-- x_initial -->\n<g id=\"node4\" class=\"node\">\n<title>x_initial</title>\n<path fill=\"lightgrey\" stroke=\"black\" d=\"M190.9,-302.93C190.9,-302.93 151.9,-302.93 151.9,-302.93 145.9,-302.93 139.9,-296.93 139.9,-290.93 139.9,-290.93 139.9,-261.93 139.9,-261.93 139.9,-255.93 145.9,-249.93 151.9,-249.93 151.9,-249.93 190.9,-249.93 190.9,-249.93 196.9,-249.93 202.9,-255.93 202.9,-261.93 202.9,-261.93 202.9,-290.93 202.9,-290.93 202.9,-296.93 196.9,-302.93 190.9,-302.93\"/>\n<text text-anchor=\"middle\" x=\"171.4\" y=\"-287.73\" font-family=\"Times,serif\" font-size=\"14.00\">x_initial</text>\n<text text-anchor=\"middle\" x=\"171.4\" y=\"-272.73\" font-family=\"Times,serif\" font-size=\"14.00\">~</text>\n<text text-anchor=\"middle\" x=\"171.4\" y=\"-257.73\" font-family=\"Times,serif\" font-size=\"14.00\">Data</text>\n</g>\n<!-- x_initial&#45;&gt;y -->\n<g id=\"edge27\" class=\"edge\">\n<title>x_initial&#45;&gt;y</title>\n<path fill=\"none\" stroke=\"black\" d=\"M182.42,-249.89C187.31,-238.55 193.21,-224.86 198.81,-211.87\"/>\n<polygon fill=\"black\" stroke=\"black\" points=\"202.07,-213.15 202.82,-202.59 195.65,-210.38 202.07,-213.15\"/>\n</g>\n<!-- counts_final -->\n<g id=\"node5\" class=\"node\">\n<title>counts_final</title>\n<path fill=\"lightgrey\" stroke=\"black\" d=\"M248.9,-92C248.9,-92 187.9,-92 187.9,-92 181.9,-92 175.9,-86 175.9,-80 175.9,-80 175.9,-51 175.9,-51 175.9,-45 181.9,-39 187.9,-39 187.9,-39 248.9,-39 248.9,-39 254.9,-39 260.9,-45 260.9,-51 260.9,-51 260.9,-80 260.9,-80 260.9,-86 254.9,-92 248.9,-92\"/>\n<text text-anchor=\"middle\" x=\"218.4\" y=\"-76.8\" font-family=\"Times,serif\" font-size=\"14.00\">counts_final</text>\n<text text-anchor=\"middle\" x=\"218.4\" y=\"-61.8\" font-family=\"Times,serif\" font-size=\"14.00\">~</text>\n<text text-anchor=\"middle\" x=\"218.4\" y=\"-46.8\" font-family=\"Times,serif\" font-size=\"14.00\">Data</text>\n</g>\n<!-- y&#45;&gt;counts_final -->\n<g id=\"edge1\" class=\"edge\">\n<title>y&#45;&gt;counts_final</title>\n<path fill=\"none\" stroke=\"black\" d=\"M218.4,-127.99C218.4,-119.58 218.4,-110.63 218.4,-102.25\"/>\n<polygon fill=\"black\" stroke=\"black\" points=\"221.9,-102.01 218.4,-92.01 214.9,-102.01 221.9,-102.01\"/>\n</g>\n<!-- sgrna_idx -->\n<g id=\"node7\" class=\"node\">\n<title>sgrna_idx</title>\n<path fill=\"lightgrey\" stroke=\"black\" d=\"M302.4,-505.88C302.4,-505.88 254.4,-505.88 254.4,-505.88 248.4,-505.88 242.4,-499.88 242.4,-493.88 242.4,-493.88 242.4,-464.88 242.4,-464.88 242.4,-458.88 248.4,-452.88 254.4,-452.88 254.4,-452.88 302.4,-452.88 302.4,-452.88 308.4,-452.88 314.4,-458.88 314.4,-464.88 314.4,-464.88 314.4,-493.88 314.4,-493.88 314.4,-499.88 308.4,-505.88 302.4,-505.88\"/>\n<text text-anchor=\"middle\" x=\"278.4\" y=\"-490.68\" font-family=\"Times,serif\" font-size=\"14.00\">sgrna_idx</text>\n<text text-anchor=\"middle\" x=\"278.4\" y=\"-475.68\" font-family=\"Times,serif\" font-size=\"14.00\">~</text>\n<text text-anchor=\"middle\" x=\"278.4\" y=\"-460.68\" font-family=\"Times,serif\" font-size=\"14.00\">Data</text>\n</g>\n<!-- sgrna_idx&#45;&gt;eta -->\n<g id=\"edge23\" class=\"edge\">\n<title>sgrna_idx&#45;&gt;eta</title>\n<path fill=\"none\" stroke=\"black\" d=\"M275.59,-452.64C274.29,-440.65 272.71,-426.19 271.29,-413.17\"/>\n<polygon fill=\"black\" stroke=\"black\" points=\"274.76,-412.66 270.2,-403.1 267.8,-413.42 274.76,-412.66\"/>\n</g>\n<!-- sgrna_to_gene_idx -->\n<g id=\"node8\" class=\"node\">\n<title>sgrna_to_gene_idx</title>\n<path fill=\"lightgrey\" stroke=\"black\" d=\"M176.9,-627.84C176.9,-627.84 77.9,-627.84 77.9,-627.84 71.9,-627.84 65.9,-621.84 65.9,-615.84 65.9,-615.84 65.9,-586.84 65.9,-586.84 65.9,-580.84 71.9,-574.84 77.9,-574.84 77.9,-574.84 176.9,-574.84 176.9,-574.84 182.9,-574.84 188.9,-580.84 188.9,-586.84 188.9,-586.84 188.9,-615.84 188.9,-615.84 188.9,-621.84 182.9,-627.84 176.9,-627.84\"/>\n<text text-anchor=\"middle\" x=\"127.4\" y=\"-612.64\" font-family=\"Times,serif\" font-size=\"14.00\">sgrna_to_gene_idx</text>\n<text text-anchor=\"middle\" x=\"127.4\" y=\"-597.64\" font-family=\"Times,serif\" font-size=\"14.00\">~</text>\n<text text-anchor=\"middle\" x=\"127.4\" y=\"-582.64\" font-family=\"Times,serif\" font-size=\"14.00\">Data</text>\n</g>\n<!-- beta_sgrna -->\n<g id=\"node27\" class=\"node\">\n<title>beta_sgrna</title>\n<ellipse fill=\"none\" stroke=\"black\" cx=\"392.4\" cy=\"-479.38\" rx=\"54.39\" ry=\"37.45\"/>\n<text text-anchor=\"middle\" x=\"392.4\" y=\"-490.68\" font-family=\"Times,serif\" font-size=\"14.00\">beta_sgrna</text>\n<text text-anchor=\"middle\" x=\"392.4\" y=\"-475.68\" font-family=\"Times,serif\" font-size=\"14.00\">~</text>\n<text text-anchor=\"middle\" x=\"392.4\" y=\"-460.68\" font-family=\"Times,serif\" font-size=\"14.00\">Normal</text>\n</g>\n<!-- sgrna_to_gene_idx&#45;&gt;beta_sgrna -->\n<g id=\"edge19\" class=\"edge\">\n<title>sgrna_to_gene_idx&#45;&gt;beta_sgrna</title>\n<path fill=\"none\" stroke=\"black\" d=\"M147.49,-574.83C160.97,-559.76 180.11,-541.9 201.4,-532.86 252.64,-511.1 273.7,-542.82 326.4,-524.86 334.12,-522.23 341.79,-518.44 349.03,-514.18\"/>\n<polygon fill=\"black\" stroke=\"black\" points=\"351.34,-516.86 357.93,-508.57 347.6,-510.94 351.34,-516.86\"/>\n</g>\n<!-- cell_line_to_lineage_idx -->\n<g id=\"node9\" class=\"node\">\n<title>cell_line_to_lineage_idx</title>\n<path fill=\"lightgrey\" stroke=\"black\" d=\"M284.9,-860.74C284.9,-860.74 153.9,-860.74 153.9,-860.74 147.9,-860.74 141.9,-854.74 141.9,-848.74 141.9,-848.74 141.9,-819.74 141.9,-819.74 141.9,-813.74 147.9,-807.74 153.9,-807.74 153.9,-807.74 284.9,-807.74 284.9,-807.74 290.9,-807.74 296.9,-813.74 296.9,-819.74 296.9,-819.74 296.9,-848.74 296.9,-848.74 296.9,-854.74 290.9,-860.74 284.9,-860.74\"/>\n<text text-anchor=\"middle\" x=\"219.4\" y=\"-845.54\" font-family=\"Times,serif\" font-size=\"14.00\">cell_line_to_lineage_idx</text>\n<text text-anchor=\"middle\" x=\"219.4\" y=\"-830.54\" font-family=\"Times,serif\" font-size=\"14.00\">~</text>\n<text text-anchor=\"middle\" x=\"219.4\" y=\"-815.54\" font-family=\"Times,serif\" font-size=\"14.00\">Data</text>\n</g>\n<!-- q -->\n<g id=\"node10\" class=\"node\">\n<title>q</title>\n<ellipse fill=\"none\" stroke=\"black\" cx=\"392.4\" cy=\"-712.29\" rx=\"41.94\" ry=\"37.45\"/>\n<text text-anchor=\"middle\" x=\"392.4\" y=\"-723.59\" font-family=\"Times,serif\" font-size=\"14.00\">q</text>\n<text text-anchor=\"middle\" x=\"392.4\" y=\"-708.59\" font-family=\"Times,serif\" font-size=\"14.00\">~</text>\n<text text-anchor=\"middle\" x=\"392.4\" y=\"-693.59\" font-family=\"Times,serif\" font-size=\"14.00\">Normal</text>\n</g>\n<!-- cell_line_to_lineage_idx&#45;&gt;q -->\n<g id=\"edge13\" class=\"edge\">\n<title>cell_line_to_lineage_idx&#45;&gt;q</title>\n<path fill=\"none\" stroke=\"black\" d=\"M245.91,-807.64C262.16,-793.3 284.08,-776.25 306.4,-765.77 321.23,-758.8 327.81,-765.23 342.4,-757.77 347.7,-755.05 352.88,-751.65 357.78,-747.93\"/>\n<polygon fill=\"black\" stroke=\"black\" points=\"360.19,-750.48 365.73,-741.45 355.76,-745.06 360.19,-750.48\"/>\n</g>\n<!-- h -->\n<g id=\"node11\" class=\"node\">\n<title>h</title>\n<ellipse fill=\"none\" stroke=\"black\" cx=\"493.4\" cy=\"-712.29\" rx=\"41.94\" ry=\"37.45\"/>\n<text text-anchor=\"middle\" x=\"493.4\" y=\"-723.59\" font-family=\"Times,serif\" font-size=\"14.00\">h</text>\n<text text-anchor=\"middle\" x=\"493.4\" y=\"-708.59\" font-family=\"Times,serif\" font-size=\"14.00\">~</text>\n<text text-anchor=\"middle\" x=\"493.4\" y=\"-693.59\" font-family=\"Times,serif\" font-size=\"14.00\">Normal</text>\n</g>\n<!-- cell_line_to_lineage_idx&#45;&gt;h -->\n<g id=\"edge6\" class=\"edge\">\n<title>cell_line_to_lineage_idx&#45;&gt;h</title>\n<path fill=\"none\" stroke=\"black\" d=\"M243.87,-807.67C260.04,-792.56 282.6,-774.7 306.4,-765.77 334.95,-755.05 415.22,-769.44 443.4,-757.77 449.17,-755.37 454.73,-752.02 459.91,-748.22\"/>\n<polygon fill=\"black\" stroke=\"black\" points=\"462.1,-750.94 467.7,-741.95 457.71,-745.49 462.1,-750.94\"/>\n</g>\n<!-- mu_beta -->\n<g id=\"node13\" class=\"node\">\n<title>mu_beta</title>\n<polygon fill=\"none\" stroke=\"black\" points=\"438.9,-627.84 345.9,-627.84 345.9,-574.84 438.9,-574.84 438.9,-627.84\"/>\n<text text-anchor=\"middle\" x=\"392.4\" y=\"-612.64\" font-family=\"Times,serif\" font-size=\"14.00\">mu_beta</text>\n<text text-anchor=\"middle\" x=\"392.4\" y=\"-597.64\" font-family=\"Times,serif\" font-size=\"14.00\">~</text>\n<text text-anchor=\"middle\" x=\"392.4\" y=\"-582.64\" font-family=\"Times,serif\" font-size=\"14.00\">Deterministic</text>\n</g>\n<!-- q&#45;&gt;mu_beta -->\n<g id=\"edge14\" class=\"edge\">\n<title>q&#45;&gt;mu_beta</title>\n<path fill=\"none\" stroke=\"black\" d=\"M392.4,-674.71C392.4,-662.97 392.4,-649.98 392.4,-638.29\"/>\n<polygon fill=\"black\" stroke=\"black\" points=\"395.9,-637.99 392.4,-627.99 388.9,-637.99 395.9,-637.99\"/>\n</g>\n<!-- h&#45;&gt;mu_beta -->\n<g id=\"edge15\" class=\"edge\">\n<title>h&#45;&gt;mu_beta</title>\n<path fill=\"none\" stroke=\"black\" d=\"M467.12,-682.95C453.69,-668.45 437.25,-650.72 423.21,-635.58\"/>\n<polygon fill=\"black\" stroke=\"black\" points=\"425.49,-632.88 416.12,-627.93 420.35,-637.64 425.49,-632.88\"/>\n</g>\n<!-- rna_expression_gl -->\n<g id=\"node12\" class=\"node\">\n<title>rna_expression_gl</title>\n<path fill=\"lightgrey\" stroke=\"black\" d=\"M320.9,-738.79C320.9,-738.79 225.9,-738.79 225.9,-738.79 219.9,-738.79 213.9,-732.79 213.9,-726.79 213.9,-726.79 213.9,-697.79 213.9,-697.79 213.9,-691.79 219.9,-685.79 225.9,-685.79 225.9,-685.79 320.9,-685.79 320.9,-685.79 326.9,-685.79 332.9,-691.79 332.9,-697.79 332.9,-697.79 332.9,-726.79 332.9,-726.79 332.9,-732.79 326.9,-738.79 320.9,-738.79\"/>\n<text text-anchor=\"middle\" x=\"273.4\" y=\"-723.59\" font-family=\"Times,serif\" font-size=\"14.00\">rna_expression_gl</text>\n<text text-anchor=\"middle\" x=\"273.4\" y=\"-708.59\" font-family=\"Times,serif\" font-size=\"14.00\">~</text>\n<text text-anchor=\"middle\" x=\"273.4\" y=\"-693.59\" font-family=\"Times,serif\" font-size=\"14.00\">Data</text>\n</g>\n<!-- rna_expression_gl&#45;&gt;mu_beta -->\n<g id=\"edge16\" class=\"edge\">\n<title>rna_expression_gl&#45;&gt;mu_beta</title>\n<path fill=\"none\" stroke=\"black\" d=\"M301.3,-685.75C317.89,-670.56 339.1,-651.14 356.87,-634.86\"/>\n<polygon fill=\"black\" stroke=\"black\" points=\"359.25,-637.43 364.26,-628.1 354.52,-632.27 359.25,-637.43\"/>\n</g>\n<!-- mu_beta&#45;&gt;beta_sgrna -->\n<g id=\"edge20\" class=\"edge\">\n<title>mu_beta&#45;&gt;beta_sgrna</title>\n<path fill=\"none\" stroke=\"black\" d=\"M392.4,-574.6C392.4,-560.82 392.4,-543.42 392.4,-527.33\"/>\n<polygon fill=\"black\" stroke=\"black\" points=\"395.9,-527 392.4,-517 388.9,-527 395.9,-527\"/>\n</g>\n<!-- sigma_mu_h -->\n<g id=\"node14\" class=\"node\">\n<title>sigma_mu_h</title>\n<ellipse fill=\"none\" stroke=\"black\" cx=\"889.4\" cy=\"-945.2\" rx=\"62.87\" ry=\"37.45\"/>\n<text text-anchor=\"middle\" x=\"889.4\" y=\"-956.5\" font-family=\"Times,serif\" font-size=\"14.00\">sigma_mu_h</text>\n<text text-anchor=\"middle\" x=\"889.4\" y=\"-941.5\" font-family=\"Times,serif\" font-size=\"14.00\">~</text>\n<text text-anchor=\"middle\" x=\"889.4\" y=\"-926.5\" font-family=\"Times,serif\" font-size=\"14.00\">HalfNormal</text>\n</g>\n<!-- mu_h -->\n<g id=\"node25\" class=\"node\">\n<title>mu_h</title>\n<ellipse fill=\"none\" stroke=\"black\" cx=\"815.4\" cy=\"-834.24\" rx=\"41.94\" ry=\"37.45\"/>\n<text text-anchor=\"middle\" x=\"815.4\" y=\"-845.54\" font-family=\"Times,serif\" font-size=\"14.00\">mu_h</text>\n<text text-anchor=\"middle\" x=\"815.4\" y=\"-830.54\" font-family=\"Times,serif\" font-size=\"14.00\">~</text>\n<text text-anchor=\"middle\" x=\"815.4\" y=\"-815.54\" font-family=\"Times,serif\" font-size=\"14.00\">Normal</text>\n</g>\n<!-- sigma_mu_h&#45;&gt;mu_h -->\n<g id=\"edge2\" class=\"edge\">\n<title>sigma_mu_h&#45;&gt;mu_h</title>\n<path fill=\"none\" stroke=\"black\" d=\"M866.19,-910.02C858.69,-898.98 850.31,-886.64 842.55,-875.22\"/>\n<polygon fill=\"black\" stroke=\"black\" points=\"845.28,-873.01 836.76,-866.7 839.49,-876.94 845.28,-873.01\"/>\n</g>\n<!-- sigma_mu_q -->\n<g id=\"node15\" class=\"node\">\n<title>sigma_mu_q</title>\n<ellipse fill=\"none\" stroke=\"black\" cx=\"623.4\" cy=\"-945.2\" rx=\"62.87\" ry=\"37.45\"/>\n<text text-anchor=\"middle\" x=\"623.4\" y=\"-956.5\" font-family=\"Times,serif\" font-size=\"14.00\">sigma_mu_q</text>\n<text text-anchor=\"middle\" x=\"623.4\" y=\"-941.5\" font-family=\"Times,serif\" font-size=\"14.00\">~</text>\n<text text-anchor=\"middle\" x=\"623.4\" y=\"-926.5\" font-family=\"Times,serif\" font-size=\"14.00\">HalfNormal</text>\n</g>\n<!-- mu_q -->\n<g id=\"node24\" class=\"node\">\n<title>mu_q</title>\n<ellipse fill=\"none\" stroke=\"black\" cx=\"714.4\" cy=\"-834.24\" rx=\"41.94\" ry=\"37.45\"/>\n<text text-anchor=\"middle\" x=\"714.4\" y=\"-845.54\" font-family=\"Times,serif\" font-size=\"14.00\">mu_q</text>\n<text text-anchor=\"middle\" x=\"714.4\" y=\"-830.54\" font-family=\"Times,serif\" font-size=\"14.00\">~</text>\n<text text-anchor=\"middle\" x=\"714.4\" y=\"-815.54\" font-family=\"Times,serif\" font-size=\"14.00\">Normal</text>\n</g>\n<!-- sigma_mu_q&#45;&gt;mu_q -->\n<g id=\"edge8\" class=\"edge\">\n<title>sigma_mu_q&#45;&gt;mu_q</title>\n<path fill=\"none\" stroke=\"black\" d=\"M650.95,-911.21C661.07,-899.09 672.61,-885.27 683.05,-872.77\"/>\n<polygon fill=\"black\" stroke=\"black\" points=\"686,-874.7 689.72,-864.78 680.63,-870.22 686,-874.7\"/>\n</g>\n<!-- mu_mu_q -->\n<g id=\"node16\" class=\"node\">\n<title>mu_mu_q</title>\n<ellipse fill=\"none\" stroke=\"black\" cx=\"756.4\" cy=\"-945.2\" rx=\"51.74\" ry=\"37.45\"/>\n<text text-anchor=\"middle\" x=\"756.4\" y=\"-956.5\" font-family=\"Times,serif\" font-size=\"14.00\">mu_mu_q</text>\n<text text-anchor=\"middle\" x=\"756.4\" y=\"-941.5\" font-family=\"Times,serif\" font-size=\"14.00\">~</text>\n<text text-anchor=\"middle\" x=\"756.4\" y=\"-926.5\" font-family=\"Times,serif\" font-size=\"14.00\">Normal</text>\n</g>\n<!-- mu_mu_q&#45;&gt;mu_q -->\n<g id=\"edge9\" class=\"edge\">\n<title>mu_mu_q&#45;&gt;mu_q</title>\n<path fill=\"none\" stroke=\"black\" d=\"M742.76,-908.82C739.17,-899.5 735.25,-889.33 731.5,-879.6\"/>\n<polygon fill=\"black\" stroke=\"black\" points=\"734.68,-878.14 727.82,-870.07 728.15,-880.66 734.68,-878.14\"/>\n</g>\n<!-- sigma_sigma_beta -->\n<g id=\"node17\" class=\"node\">\n<title>sigma_sigma_beta</title>\n<ellipse fill=\"none\" stroke=\"black\" cx=\"638.4\" cy=\"-712.29\" rx=\"85.62\" ry=\"37.45\"/>\n<text text-anchor=\"middle\" x=\"638.4\" y=\"-723.59\" font-family=\"Times,serif\" font-size=\"14.00\">sigma_sigma_beta</text>\n<text text-anchor=\"middle\" x=\"638.4\" y=\"-708.59\" font-family=\"Times,serif\" font-size=\"14.00\">~</text>\n<text text-anchor=\"middle\" x=\"638.4\" y=\"-693.59\" font-family=\"Times,serif\" font-size=\"14.00\">HalfNormal</text>\n</g>\n<!-- sigma_beta -->\n<g id=\"node26\" class=\"node\">\n<title>sigma_beta</title>\n<ellipse fill=\"none\" stroke=\"black\" cx=\"628.4\" cy=\"-601.34\" rx=\"59.29\" ry=\"37.45\"/>\n<text text-anchor=\"middle\" x=\"628.4\" y=\"-612.64\" font-family=\"Times,serif\" font-size=\"14.00\">sigma_beta</text>\n<text text-anchor=\"middle\" x=\"628.4\" y=\"-597.64\" font-family=\"Times,serif\" font-size=\"14.00\">~</text>\n<text text-anchor=\"middle\" x=\"628.4\" y=\"-582.64\" font-family=\"Times,serif\" font-size=\"14.00\">HalfNormal</text>\n</g>\n<!-- sigma_sigma_beta&#45;&gt;sigma_beta -->\n<g id=\"edge17\" class=\"edge\">\n<title>sigma_sigma_beta&#45;&gt;sigma_beta</title>\n<path fill=\"none\" stroke=\"black\" d=\"M635.04,-674.71C634.29,-666.53 633.48,-657.75 632.7,-649.23\"/>\n<polygon fill=\"black\" stroke=\"black\" points=\"636.16,-648.65 631.76,-639.01 629.19,-649.29 636.16,-648.65\"/>\n</g>\n<!-- sigma_sigma_q -->\n<g id=\"node18\" class=\"node\">\n<title>sigma_sigma_q</title>\n<ellipse fill=\"none\" stroke=\"black\" cx=\"304.4\" cy=\"-945.2\" rx=\"73.58\" ry=\"37.45\"/>\n<text text-anchor=\"middle\" x=\"304.4\" y=\"-956.5\" font-family=\"Times,serif\" font-size=\"14.00\">sigma_sigma_q</text>\n<text text-anchor=\"middle\" x=\"304.4\" y=\"-941.5\" font-family=\"Times,serif\" font-size=\"14.00\">~</text>\n<text text-anchor=\"middle\" x=\"304.4\" y=\"-926.5\" font-family=\"Times,serif\" font-size=\"14.00\">HalfNormal</text>\n</g>\n<!-- sigma_q -->\n<g id=\"node20\" class=\"node\">\n<title>sigma_q</title>\n<ellipse fill=\"none\" stroke=\"black\" cx=\"374.4\" cy=\"-834.24\" rx=\"59.29\" ry=\"37.45\"/>\n<text text-anchor=\"middle\" x=\"374.4\" y=\"-845.54\" font-family=\"Times,serif\" font-size=\"14.00\">sigma_q</text>\n<text text-anchor=\"middle\" x=\"374.4\" y=\"-830.54\" font-family=\"Times,serif\" font-size=\"14.00\">~</text>\n<text text-anchor=\"middle\" x=\"374.4\" y=\"-815.54\" font-family=\"Times,serif\" font-size=\"14.00\">HalfNormal</text>\n</g>\n<!-- sigma_sigma_q&#45;&gt;sigma_q -->\n<g id=\"edge10\" class=\"edge\">\n<title>sigma_sigma_q&#45;&gt;sigma_q</title>\n<path fill=\"none\" stroke=\"black\" d=\"M326.74,-909.42C333.18,-899.4 340.28,-888.35 346.99,-877.91\"/>\n<polygon fill=\"black\" stroke=\"black\" points=\"350.05,-879.62 352.51,-869.31 344.16,-875.84 350.05,-879.62\"/>\n</g>\n<!-- alpha -->\n<g id=\"node19\" class=\"node\">\n<title>alpha</title>\n<ellipse fill=\"none\" stroke=\"black\" cx=\"59.4\" cy=\"-276.43\" rx=\"59.29\" ry=\"37.45\"/>\n<text text-anchor=\"middle\" x=\"59.4\" y=\"-287.73\" font-family=\"Times,serif\" font-size=\"14.00\">alpha</text>\n<text text-anchor=\"middle\" x=\"59.4\" y=\"-272.73\" font-family=\"Times,serif\" font-size=\"14.00\">~</text>\n<text text-anchor=\"middle\" x=\"59.4\" y=\"-257.73\" font-family=\"Times,serif\" font-size=\"14.00\">HalfCauchy</text>\n</g>\n<!-- alpha&#45;&gt;y -->\n<g id=\"edge25\" class=\"edge\">\n<title>alpha&#45;&gt;y</title>\n<path fill=\"none\" stroke=\"black\" d=\"M99.11,-248.22C119,-234.58 143.38,-217.88 164.9,-203.14\"/>\n<polygon fill=\"black\" stroke=\"black\" points=\"167.03,-205.92 173.3,-197.38 163.07,-200.15 167.03,-205.92\"/>\n</g>\n<!-- sigma_q&#45;&gt;q -->\n<g id=\"edge11\" class=\"edge\">\n<title>sigma_q&#45;&gt;q</title>\n<path fill=\"none\" stroke=\"black\" d=\"M379.9,-796.6C381.64,-784.97 383.59,-771.96 385.43,-759.74\"/>\n<polygon fill=\"black\" stroke=\"black\" points=\"388.91,-760.12 386.93,-749.71 381.99,-759.08 388.91,-760.12\"/>\n</g>\n<!-- sigma_sigma_h -->\n<g id=\"node21\" class=\"node\">\n<title>sigma_sigma_h</title>\n<ellipse fill=\"none\" stroke=\"black\" cx=\"469.4\" cy=\"-945.2\" rx=\"73.58\" ry=\"37.45\"/>\n<text text-anchor=\"middle\" x=\"469.4\" y=\"-956.5\" font-family=\"Times,serif\" font-size=\"14.00\">sigma_sigma_h</text>\n<text text-anchor=\"middle\" x=\"469.4\" y=\"-941.5\" font-family=\"Times,serif\" font-size=\"14.00\">~</text>\n<text text-anchor=\"middle\" x=\"469.4\" y=\"-926.5\" font-family=\"Times,serif\" font-size=\"14.00\">HalfNormal</text>\n</g>\n<!-- sigma_h -->\n<g id=\"node22\" class=\"node\">\n<title>sigma_h</title>\n<ellipse fill=\"none\" stroke=\"black\" cx=\"511.4\" cy=\"-834.24\" rx=\"59.29\" ry=\"37.45\"/>\n<text text-anchor=\"middle\" x=\"511.4\" y=\"-845.54\" font-family=\"Times,serif\" font-size=\"14.00\">sigma_h</text>\n<text text-anchor=\"middle\" x=\"511.4\" y=\"-830.54\" font-family=\"Times,serif\" font-size=\"14.00\">~</text>\n<text text-anchor=\"middle\" x=\"511.4\" y=\"-815.54\" font-family=\"Times,serif\" font-size=\"14.00\">HalfNormal</text>\n</g>\n<!-- sigma_sigma_h&#45;&gt;sigma_h -->\n<g id=\"edge4\" class=\"edge\">\n<title>sigma_sigma_h&#45;&gt;sigma_h</title>\n<path fill=\"none\" stroke=\"black\" d=\"M483.27,-908.22C486.71,-899.29 490.44,-889.62 494.02,-880.32\"/>\n<polygon fill=\"black\" stroke=\"black\" points=\"497.35,-881.4 497.69,-870.81 490.82,-878.88 497.35,-881.4\"/>\n</g>\n<!-- sigma_h&#45;&gt;h -->\n<g id=\"edge5\" class=\"edge\">\n<title>sigma_h&#45;&gt;h</title>\n<path fill=\"none\" stroke=\"black\" d=\"M505.9,-796.6C504.15,-784.97 502.2,-771.96 500.37,-759.74\"/>\n<polygon fill=\"black\" stroke=\"black\" points=\"503.81,-759.08 498.86,-749.71 496.88,-760.12 503.81,-759.08\"/>\n</g>\n<!-- mu_mu_h -->\n<g id=\"node23\" class=\"node\">\n<title>mu_mu_h</title>\n<ellipse fill=\"none\" stroke=\"black\" cx=\"1022.4\" cy=\"-945.2\" rx=\"51.74\" ry=\"37.45\"/>\n<text text-anchor=\"middle\" x=\"1022.4\" y=\"-956.5\" font-family=\"Times,serif\" font-size=\"14.00\">mu_mu_h</text>\n<text text-anchor=\"middle\" x=\"1022.4\" y=\"-941.5\" font-family=\"Times,serif\" font-size=\"14.00\">~</text>\n<text text-anchor=\"middle\" x=\"1022.4\" y=\"-926.5\" font-family=\"Times,serif\" font-size=\"14.00\">Normal</text>\n</g>\n<!-- mu_mu_h&#45;&gt;mu_h -->\n<g id=\"edge3\" class=\"edge\">\n<title>mu_mu_h&#45;&gt;mu_h</title>\n<path fill=\"none\" stroke=\"black\" d=\"M983.61,-920.39C976.29,-916.07 968.65,-911.68 961.4,-907.72 928.34,-889.67 890.19,-870.8 861.18,-856.84\"/>\n<polygon fill=\"black\" stroke=\"black\" points=\"862.63,-853.65 852.1,-852.48 859.61,-859.96 862.63,-853.65\"/>\n</g>\n<!-- mu_q&#45;&gt;q -->\n<g id=\"edge12\" class=\"edge\">\n<title>mu_q&#45;&gt;q</title>\n<path fill=\"none\" stroke=\"black\" d=\"M680.97,-811.71C654.54,-795.91 616.1,-775.57 579.4,-765.77 549.93,-757.9 470.57,-769.44 442.4,-757.77 436.62,-755.37 431.06,-752.02 425.89,-748.22\"/>\n<polygon fill=\"black\" stroke=\"black\" points=\"428.08,-745.49 418.09,-741.95 423.69,-750.94 428.08,-745.49\"/>\n</g>\n<!-- mu_h&#45;&gt;h -->\n<g id=\"edge7\" class=\"edge\">\n<title>mu_h&#45;&gt;h</title>\n<path fill=\"none\" stroke=\"black\" d=\"M799.01,-799.72C790.82,-786.75 779.59,-773.24 765.4,-765.77 743.56,-754.27 566.31,-766.96 543.4,-757.77 537.73,-755.49 532.29,-752.28 527.21,-748.61\"/>\n<polygon fill=\"black\" stroke=\"black\" points=\"529.04,-745.59 519.04,-742.08 524.67,-751.06 529.04,-745.59\"/>\n</g>\n<!-- sigma_beta&#45;&gt;beta_sgrna -->\n<g id=\"edge18\" class=\"edge\">\n<title>sigma_beta&#45;&gt;beta_sgrna</title>\n<path fill=\"none\" stroke=\"black\" d=\"M596.94,-569.47C582.71,-556.79 565.12,-542.79 547.4,-532.86 518.11,-516.46 482.84,-504.02 453.35,-495.38\"/>\n<polygon fill=\"black\" stroke=\"black\" points=\"454.17,-491.97 443.59,-492.59 452.25,-498.7 454.17,-491.97\"/>\n</g>\n<!-- beta_sgrna&#45;&gt;eta -->\n<g id=\"edge22\" class=\"edge\">\n<title>beta_sgrna&#45;&gt;eta</title>\n<path fill=\"none\" stroke=\"black\" d=\"M364.82,-446.61C353.58,-434.65 340.03,-421.41 326.4,-410.91 325.05,-409.87 323.67,-408.84 322.26,-407.83\"/>\n<polygon fill=\"black\" stroke=\"black\" points=\"324.17,-404.9 313.94,-402.17 320.24,-410.69 324.17,-404.9\"/>\n</g>\n</g>\n</svg>\n",
      "text/plain": [
       "<graphviz.dot.Digraph at 0x14dbd0bb0>"
      ]
     },
     "execution_count": 12,
     "metadata": {},
     "output_type": "execute_result"
    }
   ],
   "source": [
    "dm = CrisprScreenDataManager(DataFile.DEPMAP_CRC_SUBSAMPLE)\n",
    "sp8 = SpecletEight(\"design-model\", data_manager=dm, root_cache_dir=temp_dir())\n",
    "sp8.build_model()\n",
    "pm.model_to_graphviz(sp8.model)"
   ]
  },
  {
   "cell_type": "code",
   "execution_count": 14,
   "metadata": {},
   "outputs": [
    {
     "data": {
      "text/html": [
       "<pre style=\"white-space:pre;overflow-x:auto;line-height:normal;font-family:Menlo,'DejaVu Sans Mono',consolas,'Courier New',monospace\"><span style=\"color: #7fbfbf; text-decoration-color: #7fbfbf\">[10/15/21 10:12:56] </span><span style=\"color: #000080; text-decoration-color: #000080\">INFO    </span> Beginning MCMC sampling.                    <a href=\"file:///Users/admin/Lab_Projects/speclet/src/models/speclet_model.py\"><span style=\"color: #7f7f7f; text-decoration-color: #7f7f7f\">speclet_model.py</span></a><span style=\"color: #7f7f7f; text-decoration-color: #7f7f7f\">:304</span>\n",
       "</pre>\n"
      ],
      "text/plain": [
       "\u001b[2;36m[10/15/21 10:12:56]\u001b[0m\u001b[2;36m \u001b[0m\u001b[34mINFO    \u001b[0m Beginning MCMC sampling.                    \u001b]8;id=895432;file:///Users/admin/Lab_Projects/speclet/src/models/speclet_model.py\u001b\\\u001b[2mspeclet_model.py\u001b[0m\u001b]8;;\u001b\\\u001b[2m:304\u001b[0m\n"
      ]
     },
     "metadata": {},
     "output_type": "display_data"
    },
    {
     "name": "stderr",
     "output_type": "stream",
     "text": [
      "Auto-assigning NUTS sampler...\n",
      "Initializing NUTS using advi...\n"
     ]
    },
    {
     "data": {
      "text/html": [
       "\n",
       "    <div>\n",
       "        <style>\n",
       "            /* Turns off some styling */\n",
       "            progress {\n",
       "                /* gets rid of default border in Firefox and Opera. */\n",
       "                border: none;\n",
       "                /* Needs to be in here for Safari polyfill so background images work as expected. */\n",
       "                background-size: auto;\n",
       "            }\n",
       "            .progress-bar-interrupted, .progress-bar-interrupted::-webkit-progress-bar {\n",
       "                background: #F44336;\n",
       "            }\n",
       "        </style>\n",
       "      <progress value='20000' class='' max='20000' style='width:300px; height:20px; vertical-align: middle;'></progress>\n",
       "      100.00% [20000/20000 00:36<00:00 Average Loss = 7,299.1]\n",
       "    </div>\n",
       "    "
      ],
      "text/plain": [
       "<IPython.core.display.HTML object>"
      ]
     },
     "metadata": {},
     "output_type": "display_data"
    },
    {
     "name": "stderr",
     "output_type": "stream",
     "text": [
      "Finished [100%]: Average Loss = 7,299\n",
      "Multiprocess sampling (2 chains in 2 jobs)\n",
      "NUTS: [alpha, beta_sgrna, sigma_beta, sigma_sigma_beta, q, sigma_q, sigma_sigma_q, mu_q, sigma_mu_q, mu_mu_q, h, sigma_h, sigma_sigma_h, mu_h, sigma_mu_h, mu_mu_h]\n"
     ]
    },
    {
     "data": {
      "text/html": [
       "\n",
       "    <div>\n",
       "        <style>\n",
       "            /* Turns off some styling */\n",
       "            progress {\n",
       "                /* gets rid of default border in Firefox and Opera. */\n",
       "                border: none;\n",
       "                /* Needs to be in here for Safari polyfill so background images work as expected. */\n",
       "                background-size: auto;\n",
       "            }\n",
       "            .progress-bar-interrupted, .progress-bar-interrupted::-webkit-progress-bar {\n",
       "                background: #F44336;\n",
       "            }\n",
       "        </style>\n",
       "      <progress value='2185' class='' max='3000' style='width:300px; height:20px; vertical-align: middle;'></progress>\n",
       "      72.83% [2185/3000 09:15<03:27 Sampling 2 chains, 1,020 divergences]\n",
       "    </div>\n",
       "    "
      ],
      "text/plain": [
       "<IPython.core.display.HTML object>"
      ]
     },
     "metadata": {},
     "output_type": "display_data"
    },
    {
     "ename": "KeyError",
     "evalue": "0",
     "output_type": "error",
     "traceback": [
      "\u001b[0;31m---------------------------------------------------------------------------\u001b[0m",
      "\u001b[0;31mKeyError\u001b[0m                                  Traceback (most recent call last)",
      "\u001b[0;32m/var/folders/r4/qpcdgl_14hbd412snp1jnv300000gn/T/ipykernel_73535/538203001.py\u001b[0m in \u001b[0;36m<module>\u001b[0;34m\u001b[0m\n\u001b[0;32m----> 1\u001b[0;31m sp8_mcmc_post = sp8.mcmc_sample_model(\n\u001b[0m\u001b[1;32m      2\u001b[0m     \u001b[0mdraws\u001b[0m\u001b[0;34m=\u001b[0m\u001b[0;36m1000\u001b[0m\u001b[0;34m,\u001b[0m\u001b[0;34m\u001b[0m\u001b[0;34m\u001b[0m\u001b[0m\n\u001b[1;32m      3\u001b[0m     \u001b[0mtune\u001b[0m\u001b[0;34m=\u001b[0m\u001b[0;36m500\u001b[0m\u001b[0;34m,\u001b[0m\u001b[0;34m\u001b[0m\u001b[0;34m\u001b[0m\u001b[0m\n\u001b[1;32m      4\u001b[0m     \u001b[0mchains\u001b[0m\u001b[0;34m=\u001b[0m\u001b[0;36m2\u001b[0m\u001b[0;34m,\u001b[0m\u001b[0;34m\u001b[0m\u001b[0;34m\u001b[0m\u001b[0m\n\u001b[1;32m      5\u001b[0m     \u001b[0mcores\u001b[0m\u001b[0;34m=\u001b[0m\u001b[0;36m2\u001b[0m\u001b[0;34m,\u001b[0m\u001b[0;34m\u001b[0m\u001b[0;34m\u001b[0m\u001b[0m\n",
      "\u001b[0;32m~/Lab_Projects/speclet/src/models/speclet_model.py\u001b[0m in \u001b[0;36mmcmc_sample_model\u001b[0;34m(self, draws, tune, chains, cores, target_accept, prior_pred_samples, random_seed, sample_kwargs, ignore_cache)\u001b[0m\n\u001b[1;32m    303\u001b[0m \u001b[0;34m\u001b[0m\u001b[0m\n\u001b[1;32m    304\u001b[0m         \u001b[0mlogger\u001b[0m\u001b[0;34m.\u001b[0m\u001b[0minfo\u001b[0m\u001b[0;34m(\u001b[0m\u001b[0;34m\"Beginning MCMC sampling.\"\u001b[0m\u001b[0;34m)\u001b[0m\u001b[0;34m\u001b[0m\u001b[0;34m\u001b[0m\u001b[0m\n\u001b[0;32m--> 305\u001b[0;31m         self.mcmc_results = pmapi.pymc3_sampling_procedure(\n\u001b[0m\u001b[1;32m    306\u001b[0m             \u001b[0mmodel\u001b[0m\u001b[0;34m=\u001b[0m\u001b[0mself\u001b[0m\u001b[0;34m.\u001b[0m\u001b[0mmodel\u001b[0m\u001b[0;34m,\u001b[0m\u001b[0;34m\u001b[0m\u001b[0;34m\u001b[0m\u001b[0m\n\u001b[1;32m    307\u001b[0m             \u001b[0mmcmc_draws\u001b[0m\u001b[0;34m=\u001b[0m\u001b[0mdraws\u001b[0m\u001b[0;34m,\u001b[0m\u001b[0;34m\u001b[0m\u001b[0;34m\u001b[0m\u001b[0m\n",
      "\u001b[0;32m~/Lab_Projects/speclet/src/modeling/pymc3_sampling_api.py\u001b[0m in \u001b[0;36mpymc3_sampling_procedure\u001b[0;34m(model, mcmc_draws, tune, chains, cores, prior_pred_samples, random_seed, sample_kwargs)\u001b[0m\n\u001b[1;32m     70\u001b[0m \u001b[0;34m\u001b[0m\u001b[0m\n\u001b[1;32m     71\u001b[0m     \u001b[0;32mwith\u001b[0m \u001b[0mmodel\u001b[0m\u001b[0;34m:\u001b[0m\u001b[0;34m\u001b[0m\u001b[0;34m\u001b[0m\u001b[0m\n\u001b[0;32m---> 72\u001b[0;31m         trace = pm.sample(\n\u001b[0m\u001b[1;32m     73\u001b[0m             \u001b[0mdraws\u001b[0m\u001b[0;34m=\u001b[0m\u001b[0mmcmc_draws\u001b[0m\u001b[0;34m,\u001b[0m\u001b[0;34m\u001b[0m\u001b[0;34m\u001b[0m\u001b[0m\n\u001b[1;32m     74\u001b[0m             \u001b[0mtune\u001b[0m\u001b[0;34m=\u001b[0m\u001b[0mtune\u001b[0m\u001b[0;34m,\u001b[0m\u001b[0;34m\u001b[0m\u001b[0;34m\u001b[0m\u001b[0m\n",
      "\u001b[0;32m/usr/local/Caskroom/miniconda/base/envs/speclet/lib/python3.9/site-packages/pymc3/sampling.py\u001b[0m in \u001b[0;36msample\u001b[0;34m(draws, step, init, n_init, start, trace, chain_idx, chains, cores, tune, progressbar, model, random_seed, discard_tuned_samples, compute_convergence_checks, callback, jitter_max_retries, return_inferencedata, idata_kwargs, mp_ctx, pickle_backend, **kwargs)\u001b[0m\n\u001b[1;32m    601\u001b[0m     \u001b[0;31m# ideally via the \"tune\" statistic, but not all samplers record it!\u001b[0m\u001b[0;34m\u001b[0m\u001b[0;34m\u001b[0m\u001b[0;34m\u001b[0m\u001b[0m\n\u001b[1;32m    602\u001b[0m     \u001b[0;32mif\u001b[0m \u001b[0;34m\"tune\"\u001b[0m \u001b[0;32min\u001b[0m \u001b[0mtrace\u001b[0m\u001b[0;34m.\u001b[0m\u001b[0mstat_names\u001b[0m\u001b[0;34m:\u001b[0m\u001b[0;34m\u001b[0m\u001b[0;34m\u001b[0m\u001b[0m\n\u001b[0;32m--> 603\u001b[0;31m         \u001b[0mstat\u001b[0m \u001b[0;34m=\u001b[0m \u001b[0mtrace\u001b[0m\u001b[0;34m.\u001b[0m\u001b[0mget_sampler_stats\u001b[0m\u001b[0;34m(\u001b[0m\u001b[0;34m\"tune\"\u001b[0m\u001b[0;34m,\u001b[0m \u001b[0mchains\u001b[0m\u001b[0;34m=\u001b[0m\u001b[0;36m0\u001b[0m\u001b[0;34m)\u001b[0m\u001b[0;34m\u001b[0m\u001b[0;34m\u001b[0m\u001b[0m\n\u001b[0m\u001b[1;32m    604\u001b[0m         \u001b[0;31m# when CompoundStep is used, the stat is 2 dimensional!\u001b[0m\u001b[0;34m\u001b[0m\u001b[0;34m\u001b[0m\u001b[0;34m\u001b[0m\u001b[0m\n\u001b[1;32m    605\u001b[0m         \u001b[0;32mif\u001b[0m \u001b[0mlen\u001b[0m\u001b[0;34m(\u001b[0m\u001b[0mstat\u001b[0m\u001b[0;34m.\u001b[0m\u001b[0mshape\u001b[0m\u001b[0;34m)\u001b[0m \u001b[0;34m==\u001b[0m \u001b[0;36m2\u001b[0m\u001b[0;34m:\u001b[0m\u001b[0;34m\u001b[0m\u001b[0;34m\u001b[0m\u001b[0m\n",
      "\u001b[0;32m/usr/local/Caskroom/miniconda/base/envs/speclet/lib/python3.9/site-packages/pymc3/backends/base.py\u001b[0m in \u001b[0;36mget_sampler_stats\u001b[0;34m(self, stat_name, burn, thin, combine, chains, squeeze)\u001b[0m\n\u001b[1;32m    518\u001b[0m             \u001b[0mchains\u001b[0m \u001b[0;34m=\u001b[0m \u001b[0;34m[\u001b[0m\u001b[0mchains\u001b[0m\u001b[0;34m]\u001b[0m\u001b[0;34m\u001b[0m\u001b[0;34m\u001b[0m\u001b[0m\n\u001b[1;32m    519\u001b[0m \u001b[0;34m\u001b[0m\u001b[0m\n\u001b[0;32m--> 520\u001b[0;31m         results = [\n\u001b[0m\u001b[1;32m    521\u001b[0m             \u001b[0mself\u001b[0m\u001b[0;34m.\u001b[0m\u001b[0m_straces\u001b[0m\u001b[0;34m[\u001b[0m\u001b[0mchain\u001b[0m\u001b[0;34m]\u001b[0m\u001b[0;34m.\u001b[0m\u001b[0mget_sampler_stats\u001b[0m\u001b[0;34m(\u001b[0m\u001b[0mstat_name\u001b[0m\u001b[0;34m,\u001b[0m \u001b[0;32mNone\u001b[0m\u001b[0;34m,\u001b[0m \u001b[0mburn\u001b[0m\u001b[0;34m,\u001b[0m \u001b[0mthin\u001b[0m\u001b[0;34m)\u001b[0m \u001b[0;32mfor\u001b[0m \u001b[0mchain\u001b[0m \u001b[0;32min\u001b[0m \u001b[0mchains\u001b[0m\u001b[0;34m\u001b[0m\u001b[0;34m\u001b[0m\u001b[0m\n\u001b[1;32m    522\u001b[0m         ]\n",
      "\u001b[0;32m/usr/local/Caskroom/miniconda/base/envs/speclet/lib/python3.9/site-packages/pymc3/backends/base.py\u001b[0m in \u001b[0;36m<listcomp>\u001b[0;34m(.0)\u001b[0m\n\u001b[1;32m    519\u001b[0m \u001b[0;34m\u001b[0m\u001b[0m\n\u001b[1;32m    520\u001b[0m         results = [\n\u001b[0;32m--> 521\u001b[0;31m             \u001b[0mself\u001b[0m\u001b[0;34m.\u001b[0m\u001b[0m_straces\u001b[0m\u001b[0;34m[\u001b[0m\u001b[0mchain\u001b[0m\u001b[0;34m]\u001b[0m\u001b[0;34m.\u001b[0m\u001b[0mget_sampler_stats\u001b[0m\u001b[0;34m(\u001b[0m\u001b[0mstat_name\u001b[0m\u001b[0;34m,\u001b[0m \u001b[0;32mNone\u001b[0m\u001b[0;34m,\u001b[0m \u001b[0mburn\u001b[0m\u001b[0;34m,\u001b[0m \u001b[0mthin\u001b[0m\u001b[0;34m)\u001b[0m \u001b[0;32mfor\u001b[0m \u001b[0mchain\u001b[0m \u001b[0;32min\u001b[0m \u001b[0mchains\u001b[0m\u001b[0;34m\u001b[0m\u001b[0;34m\u001b[0m\u001b[0m\n\u001b[0m\u001b[1;32m    522\u001b[0m         ]\n\u001b[1;32m    523\u001b[0m         \u001b[0;32mreturn\u001b[0m \u001b[0m_squeeze_cat\u001b[0m\u001b[0;34m(\u001b[0m\u001b[0mresults\u001b[0m\u001b[0;34m,\u001b[0m \u001b[0mcombine\u001b[0m\u001b[0;34m,\u001b[0m \u001b[0msqueeze\u001b[0m\u001b[0;34m)\u001b[0m\u001b[0;34m\u001b[0m\u001b[0;34m\u001b[0m\u001b[0m\n",
      "\u001b[0;31mKeyError\u001b[0m: 0"
     ]
    }
   ],
   "source": [
    "sp8_mcmc_post = sp8.mcmc_sample_model(\n",
    "    draws=1000,\n",
    "    tune=500,\n",
    "    chains=2,\n",
    "    cores=2,\n",
    "    target_accept=0.85,\n",
    "    prior_pred_samples=-1,\n",
    "    random_seed=RANDOM_SEED,\n",
    "    ignore_cache=True,\n",
    "    sample_kwargs={\"init\": \"advi\", \"n_init\": 20000},\n",
    ")"
   ]
  },
  {
   "cell_type": "code",
   "execution_count": 15,
   "metadata": {},
   "outputs": [],
   "source": [
    "sp8_vars: list[str] = [\n",
    "    \"mu_mu_h\",\n",
    "    \"sigma_mu_h\",\n",
    "    \"mu_h\",\n",
    "    \"sigma_sigma_h\",\n",
    "    \"sigma_h\",\n",
    "    \"h\",\n",
    "    \"mu_beta_sgrna\",\n",
    "    \"sigma_sigma_beta_sgrna\",\n",
    "    \"sigma_beta_sgrna\",\n",
    "    \"beta_sgrna\",\n",
    "    \"alpha\",\n",
    "]"
   ]
  },
  {
   "cell_type": "code",
   "execution_count": 16,
   "metadata": {},
   "outputs": [
    {
     "ename": "NameError",
     "evalue": "name 'sp8_mcmc_post' is not defined",
     "output_type": "error",
     "traceback": [
      "\u001b[0;31m---------------------------------------------------------------------------\u001b[0m",
      "\u001b[0;31mNameError\u001b[0m                                 Traceback (most recent call last)",
      "\u001b[0;32m/var/folders/r4/qpcdgl_14hbd412snp1jnv300000gn/T/ipykernel_73535/103795264.py\u001b[0m in \u001b[0;36m<module>\u001b[0;34m\u001b[0m\n\u001b[0;32m----> 1\u001b[0;31m \u001b[0maz\u001b[0m\u001b[0;34m.\u001b[0m\u001b[0mplot_trace\u001b[0m\u001b[0;34m(\u001b[0m\u001b[0msp8_mcmc_post\u001b[0m\u001b[0;34m,\u001b[0m \u001b[0mvar_names\u001b[0m\u001b[0;34m=\u001b[0m\u001b[0msp8_vars\u001b[0m\u001b[0;34m)\u001b[0m\u001b[0;34m;\u001b[0m\u001b[0;34m\u001b[0m\u001b[0;34m\u001b[0m\u001b[0m\n\u001b[0m",
      "\u001b[0;31mNameError\u001b[0m: name 'sp8_mcmc_post' is not defined"
     ]
    }
   ],
   "source": [
    "az.plot_trace(sp8_mcmc_post, var_names=sp8_vars);"
   ]
  },
  {
   "cell_type": "code",
   "execution_count": 17,
   "metadata": {},
   "outputs": [
    {
     "ename": "NameError",
     "evalue": "name 'sp8_mcmc_post' is not defined",
     "output_type": "error",
     "traceback": [
      "\u001b[0;31m---------------------------------------------------------------------------\u001b[0m",
      "\u001b[0;31mNameError\u001b[0m                                 Traceback (most recent call last)",
      "\u001b[0;32m/var/folders/r4/qpcdgl_14hbd412snp1jnv300000gn/T/ipykernel_73535/3060634186.py\u001b[0m in \u001b[0;36m<module>\u001b[0;34m\u001b[0m\n\u001b[0;32m----> 1\u001b[0;31m \u001b[0maz\u001b[0m\u001b[0;34m.\u001b[0m\u001b[0msummary\u001b[0m\u001b[0;34m(\u001b[0m\u001b[0msp8_mcmc_post\u001b[0m\u001b[0;34m,\u001b[0m \u001b[0mvar_names\u001b[0m\u001b[0;34m=\u001b[0m\u001b[0msp8_vars\u001b[0m\u001b[0;34m)\u001b[0m\u001b[0;34m.\u001b[0m\u001b[0mquery\u001b[0m\u001b[0;34m(\u001b[0m\u001b[0;34m\"r_hat > 1.1\"\u001b[0m\u001b[0;34m)\u001b[0m\u001b[0;34m\u001b[0m\u001b[0;34m\u001b[0m\u001b[0m\n\u001b[0m",
      "\u001b[0;31mNameError\u001b[0m: name 'sp8_mcmc_post' is not defined"
     ]
    }
   ],
   "source": [
    "az.summary(sp8_mcmc_post, var_names=sp8_vars).query(\"r_hat > 1.1\")"
   ]
  },
  {
   "cell_type": "code",
   "execution_count": 18,
   "metadata": {},
   "outputs": [],
   "source": [
    "# az.plot_pair(\n",
    "#     sp8_mcmc_post,\n",
    "#     var_names=[\"beta_sgrna\", \"beta_batch\"],\n",
    "#     coords={\"sgrna\": \"AGCTGAGCGCAGGGACCGGG\", \"batch\": \"2\", \"cell_line\": \"ACH-000007\"},\n",
    "#     divergences=True,\n",
    "# );"
   ]
  },
  {
   "cell_type": "code",
   "execution_count": 19,
   "metadata": {},
   "outputs": [
    {
     "ename": "NameError",
     "evalue": "name 'sp8_mcmc_post' is not defined",
     "output_type": "error",
     "traceback": [
      "\u001b[0;31m---------------------------------------------------------------------------\u001b[0m",
      "\u001b[0;31mNameError\u001b[0m                                 Traceback (most recent call last)",
      "\u001b[0;32m/var/folders/r4/qpcdgl_14hbd412snp1jnv300000gn/T/ipykernel_73535/3593300202.py\u001b[0m in \u001b[0;36m<module>\u001b[0;34m\u001b[0m\n\u001b[1;32m      1\u001b[0m ax = az.plot_pair(\n\u001b[0;32m----> 2\u001b[0;31m     \u001b[0msp8_mcmc_post\u001b[0m\u001b[0;34m,\u001b[0m\u001b[0;34m\u001b[0m\u001b[0;34m\u001b[0m\u001b[0m\n\u001b[0m\u001b[1;32m      3\u001b[0m     \u001b[0mvar_names\u001b[0m\u001b[0;34m=\u001b[0m\u001b[0;34m[\u001b[0m\u001b[0;34m\"mu_beta_batch\"\u001b[0m\u001b[0;34m,\u001b[0m \u001b[0;34m\"sigma_beta_batch\"\u001b[0m\u001b[0;34m]\u001b[0m\u001b[0;34m,\u001b[0m\u001b[0;34m\u001b[0m\u001b[0;34m\u001b[0m\u001b[0m\n\u001b[1;32m      4\u001b[0m     \u001b[0mdivergences\u001b[0m\u001b[0;34m=\u001b[0m\u001b[0;32mTrue\u001b[0m\u001b[0;34m,\u001b[0m\u001b[0;34m\u001b[0m\u001b[0;34m\u001b[0m\u001b[0m\n\u001b[1;32m      5\u001b[0m )\n",
      "\u001b[0;31mNameError\u001b[0m: name 'sp8_mcmc_post' is not defined"
     ]
    }
   ],
   "source": [
    "ax = az.plot_pair(\n",
    "    sp8_mcmc_post,\n",
    "    var_names=[\"mu_beta_batch\", \"sigma_beta_batch\"],\n",
    "    divergences=True,\n",
    ")\n",
    "ax.set_yscale(\"log\");"
   ]
  },
  {
   "cell_type": "code",
   "execution_count": null,
   "metadata": {},
   "outputs": [
    {
     "data": {
      "text/html": [
       "<pre style=\"white-space:pre;overflow-x:auto;line-height:normal;font-family:Menlo,'DejaVu Sans Mono',consolas,'Courier New',monospace\"><span style=\"color: #7fbfbf; text-decoration-color: #7fbfbf\">[10/15/21 07:50:30] </span><span style=\"color: #000080; text-decoration-color: #000080\">INFO    </span> Getting data - already loaded.              <a href=\"file:///Users/admin/Lab_Projects/speclet/src/managers/data_managers.py\"><span style=\"color: #7f7f7f; text-decoration-color: #7f7f7f\">data_managers.py</span></a><span style=\"color: #7f7f7f; text-decoration-color: #7f7f7f\">:123</span>\n",
       "</pre>\n"
      ],
      "text/plain": [
       "\u001b[2;36m[10/15/21 07:50:30]\u001b[0m\u001b[2;36m \u001b[0m\u001b[34mINFO    \u001b[0m Getting data - already loaded.              \u001b]8;id=238700;file:///Users/admin/Lab_Projects/speclet/src/managers/data_managers.py\u001b\\\u001b[2mdata_managers.py\u001b[0m\u001b]8;;\u001b\\\u001b[2m:123\u001b[0m\n"
      ]
     },
     "metadata": {},
     "output_type": "display_data"
    }
   ],
   "source": [
    "df = sp8.data_manager.get_data()"
   ]
  },
  {
   "cell_type": "code",
   "execution_count": null,
   "metadata": {},
   "outputs": [],
   "source": []
  },
  {
   "cell_type": "code",
   "execution_count": null,
   "metadata": {},
   "outputs": [],
   "source": []
  },
  {
   "cell_type": "code",
   "execution_count": null,
   "metadata": {},
   "outputs": [],
   "source": []
  },
  {
   "cell_type": "markdown",
   "metadata": {},
   "source": [
    "---"
   ]
  },
  {
   "cell_type": "code",
   "execution_count": 20,
   "metadata": {},
   "outputs": [
    {
     "name": "stdout",
     "output_type": "stream",
     "text": [
      "execution time: 27.32 minutes\n"
     ]
    }
   ],
   "source": [
    "notebook_toc = time()\n",
    "print(f\"execution time: {(notebook_toc - notebook_tic) / 60:.2f} minutes\")"
   ]
  },
  {
   "cell_type": "code",
   "execution_count": 21,
   "metadata": {},
   "outputs": [
    {
     "name": "stdout",
     "output_type": "stream",
     "text": [
      "Last updated: 2021-10-15\n",
      "\n",
      "Python implementation: CPython\n",
      "Python version       : 3.9.6\n",
      "IPython version      : 7.26.0\n",
      "\n",
      "Compiler    : Clang 11.1.0 \n",
      "OS          : Darwin\n",
      "Release     : 20.6.0\n",
      "Machine     : x86_64\n",
      "Processor   : i386\n",
      "CPU cores   : 4\n",
      "Architecture: 64bit\n",
      "\n",
      "Hostname: JHCookMac.local\n",
      "\n",
      "Git branch: speclet-eight\n",
      "\n",
      "arviz     : 0.11.2\n",
      "pandas    : 1.3.2\n",
      "plotnine  : 0.8.0\n",
      "numpy     : 1.21.2\n",
      "matplotlib: 3.4.3\n",
      "sys       : 3.9.6 | packaged by conda-forge | (default, Jul 11 2021, 03:36:15) \n",
      "[Clang 11.1.0 ]\n",
      "logging   : 0.5.1.2\n",
      "pymc3     : 3.11.2\n",
      "seaborn   : 0.11.2\n",
      "\n"
     ]
    }
   ],
   "source": [
    "%load_ext watermark\n",
    "%watermark -d -u -v -iv -b -h -m"
   ]
  },
  {
   "cell_type": "code",
   "execution_count": null,
   "metadata": {},
   "outputs": [],
   "source": []
  }
 ],
 "metadata": {
  "interpreter": {
   "hash": "4769bf24bc498781164c688bc11a94206605929ba0bbe41f9e4c6af0ec480c6e"
  },
  "kernelspec": {
   "display_name": "Python 3.9.6 64-bit ('speclet': conda)",
   "name": "python3"
  },
  "language_info": {
   "codemirror_mode": {
    "name": "ipython",
    "version": 3
   },
   "file_extension": ".py",
   "mimetype": "text/x-python",
   "name": "python",
   "nbconvert_exporter": "python",
   "pygments_lexer": "ipython3",
   "version": "3.9.6"
  },
  "orig_nbformat": 4
 },
 "nbformat": 4,
 "nbformat_minor": 2
}
