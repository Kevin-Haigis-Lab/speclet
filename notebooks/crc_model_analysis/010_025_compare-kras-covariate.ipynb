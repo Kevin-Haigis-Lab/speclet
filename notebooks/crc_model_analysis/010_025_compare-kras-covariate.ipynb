{
 "cells": [
  {
   "cell_type": "markdown",
   "metadata": {},
   "source": [
    "# Compare SpecletTwo models with and without a *KRAS* allele covariate"
   ]
  },
  {
   "cell_type": "code",
   "execution_count": 1,
   "metadata": {},
   "outputs": [],
   "source": [
    "%load_ext autoreload\n",
    "%autoreload 2"
   ]
  },
  {
   "cell_type": "code",
   "execution_count": 2,
   "metadata": {},
   "outputs": [],
   "source": [
    "import re\n",
    "import string\n",
    "import warnings\n",
    "from pathlib import Path\n",
    "from time import time\n",
    "\n",
    "import arviz as az\n",
    "import matplotlib.colors as mcolors\n",
    "import matplotlib.pyplot as plt\n",
    "import numpy as np\n",
    "import pandas as pd\n",
    "import plotnine as gg\n",
    "import pymc3 as pm\n",
    "import seaborn as sns\n",
    "from theano import tensor as tt"
   ]
  },
  {
   "cell_type": "code",
   "execution_count": 36,
   "metadata": {},
   "outputs": [],
   "source": [
    "from src.data_processing import achilles as achelp\n",
    "from src.data_processing import common as dphelp\n",
    "from src.globals import PYMC3\n",
    "from src.io.cache_io import default_cache_dir\n",
    "from src.modeling import pymc3_analysis as pmanal\n",
    "from src.modeling import pymc3_sampling_api as pmapi\n",
    "from src.models.speclet_two import SpecletTwo\n",
    "from src.plot.color_pal import ModelColors, SeabornColor"
   ]
  },
  {
   "cell_type": "code",
   "execution_count": 33,
   "metadata": {},
   "outputs": [],
   "source": [
    "notebook_tic = time()\n",
    "\n",
    "warnings.simplefilter(action=\"ignore\", category=UserWarning)\n",
    "\n",
    "gg.theme_set(\n",
    "    gg.theme_bw()\n",
    "    + gg.theme(\n",
    "        figure_size=(4, 4),\n",
    "        axis_ticks_major=gg.element_blank(),\n",
    "        strip_background=gg.element_blank(),\n",
    "    )\n",
    ")\n",
    "%config InlineBackend.figure_format = \"retina\"\n",
    "\n",
    "RANDOM_SEED = 248\n",
    "np.random.seed(RANDOM_SEED)"
   ]
  },
  {
   "cell_type": "markdown",
   "metadata": {},
   "source": [
    "## Load models"
   ]
  },
  {
   "cell_type": "markdown",
   "metadata": {},
   "source": [
    "**Note:** I have changed the structure for caching in the pipeline, so if the following does not work, check that underlying structure and compare to that used here."
   ]
  },
  {
   "cell_type": "code",
   "execution_count": 11,
   "metadata": {},
   "outputs": [],
   "source": [
    "sp2 = SpecletTwo(\n",
    "    \"SpecletTwo-debug\",\n",
    "    root_cache_dir=default_cache_dir() / \"SpecletTwo-debug\",\n",
    "    debug=True,\n",
    "    kras_cov=False,\n",
    ")\n",
    "sp2_kras = SpecletTwo(\n",
    "    \"SpecletTwo-kras-debug\",\n",
    "    root_cache_dir=default_cache_dir() / \"SpecletTwo-kras-debug\",\n",
    "    debug=True,\n",
    "    kras_cov=True,\n",
    ")"
   ]
  },
  {
   "cell_type": "code",
   "execution_count": 14,
   "metadata": {},
   "outputs": [
    {
     "name": "stdout",
     "output_type": "stream",
     "text": [
      "[04/29/21 14:56:16] INFO     Calling                        speclet_model.py:155\n",
      "                             `model_specification()`                            \n",
      "                             method.                                            \n",
      "                    INFO     Beginning PyMC3 model             speclet_two.py:75\n",
      "                             specification.                                     \n",
      "[04/29/21 14:56:17] WARNING  Dropping data points of  model_data_managers.py:125\n",
      "                             sgRNA that map to                                  \n",
      "                             multiple genes.                                    \n",
      "                    WARNING  Dropping data points     model_data_managers.py:131\n",
      "                             with missing copy                                  \n",
      "                             number.                                            \n",
      "                    INFO     Getting Theano shared variables.  speclet_two.py:82\n",
      "                    INFO     Creating PyMC3 model.             speclet_two.py:90\n"
     ]
    },
    {
     "name": "stderr",
     "output_type": "stream",
     "text": [
      "/home/jc604/.conda/envs/speclet/lib/python3.9/site-packages/pymc3/data.py:316: FutureWarning: Using a non-tuple sequence for multidimensional indexing is deprecated; use `arr[tuple(seq)]` instead of `arr[seq]`. In the future this will be interpreted as an array index, `arr[np.array(seq)]`, which will result either in an error or a different result.\n"
     ]
    },
    {
     "name": "stdout",
     "output_type": "stream",
     "text": [
      "[04/29/21 14:56:58] INFO     Returning results from cache.  speclet_model.py:377\n"
     ]
    },
    {
     "name": "stderr",
     "output_type": "stream",
     "text": [
      "/home/jc604/.conda/envs/speclet/lib/python3.9/site-packages/pymc3/data.py:316: FutureWarning: Using a non-tuple sequence for multidimensional indexing is deprecated; use `arr[tuple(seq)]` instead of `arr[seq]`. In the future this will be interpreted as an array index, `arr[np.array(seq)]`, which will result either in an error or a different result.\n"
     ]
    },
    {
     "name": "stdout",
     "output_type": "stream",
     "text": [
      "[04/29/21 14:57:05] INFO     Calling                        speclet_model.py:155\n",
      "                             `model_specification()`                            \n",
      "                             method.                                            \n",
      "                    INFO     Beginning PyMC3 model             speclet_two.py:75\n",
      "                             specification.                                     \n",
      "                    INFO     Getting Theano shared variables.  speclet_two.py:82\n",
      "                    INFO     Creating PyMC3 model.             speclet_two.py:90\n",
      "[04/29/21 14:57:06] INFO     Returning results from cache.  speclet_model.py:377\n"
     ]
    },
    {
     "name": "stderr",
     "output_type": "stream",
     "text": [
      "/home/jc604/.conda/envs/speclet/lib/python3.9/site-packages/pymc3/data.py:316: FutureWarning: Using a non-tuple sequence for multidimensional indexing is deprecated; use `arr[tuple(seq)]` instead of `arr[seq]`. In the future this will be interpreted as an array index, `arr[np.array(seq)]`, which will result either in an error or a different result.\n"
     ]
    }
   ],
   "source": [
    "for s in [sp2, sp2_kras]:\n",
    "    if s.cache_manager.advi_cache_exists():\n",
    "        s.build_model()\n",
    "        s.advi_sample_model()"
   ]
  },
  {
   "cell_type": "code",
   "execution_count": 20,
   "metadata": {},
   "outputs": [
    {
     "data": {
      "image/svg+xml": [
       "<?xml version=\"1.0\" encoding=\"UTF-8\" standalone=\"no\"?>\n",
       "<!DOCTYPE svg PUBLIC \"-//W3C//DTD SVG 1.1//EN\"\n",
       " \"http://www.w3.org/Graphics/SVG/1.1/DTD/svg11.dtd\">\n",
       "<!-- Generated by graphviz version 2.47.0 (20210327.0129)\n",
       " -->\n",
       "<!-- Pages: 1 -->\n",
       "<svg width=\"576pt\" height=\"469pt\"\n",
       " viewBox=\"0.00 0.00 576.30 468.81\" xmlns=\"http://www.w3.org/2000/svg\" xmlns:xlink=\"http://www.w3.org/1999/xlink\">\n",
       "<g id=\"graph0\" class=\"graph\" transform=\"scale(1 1) rotate(0) translate(4 464.81)\">\n",
       "<polygon fill=\"white\" stroke=\"transparent\" points=\"-4,4 -4,-464.81 572.3,-464.81 572.3,4 -4,4\"/>\n",
       "<g id=\"clust1\" class=\"cluster\">\n",
       "<title>cluster99 x 36</title>\n",
       "<path fill=\"none\" stroke=\"black\" d=\"M160.3,-243.91C160.3,-243.91 250.3,-243.91 250.3,-243.91 256.3,-243.91 262.3,-249.91 262.3,-255.91 262.3,-255.91 262.3,-345.86 262.3,-345.86 262.3,-351.86 256.3,-357.86 250.3,-357.86 250.3,-357.86 160.3,-357.86 160.3,-357.86 154.3,-357.86 148.3,-351.86 148.3,-345.86 148.3,-345.86 148.3,-255.91 148.3,-255.91 148.3,-249.91 154.3,-243.91 160.3,-243.91\"/>\n",
       "<text text-anchor=\"middle\" x=\"227.3\" y=\"-251.71\" font-family=\"Times-Roman\" font-size=\"14.00\">99 x 36</text>\n",
       "</g>\n",
       "<g id=\"clust2\" class=\"cluster\">\n",
       "<title>cluster2</title>\n",
       "<path fill=\"none\" stroke=\"black\" d=\"M296.3,-243.91C296.3,-243.91 386.3,-243.91 386.3,-243.91 392.3,-243.91 398.3,-249.91 398.3,-255.91 398.3,-255.91 398.3,-345.86 398.3,-345.86 398.3,-351.86 392.3,-357.86 386.3,-357.86 386.3,-357.86 296.3,-357.86 296.3,-357.86 290.3,-357.86 284.3,-351.86 284.3,-345.86 284.3,-345.86 284.3,-255.91 284.3,-255.91 284.3,-249.91 290.3,-243.91 296.3,-243.91\"/>\n",
       "<text text-anchor=\"middle\" x=\"385.3\" y=\"-251.71\" font-family=\"Times-Roman\" font-size=\"14.00\">2</text>\n",
       "</g>\n",
       "<g id=\"clust3\" class=\"cluster\">\n",
       "<title>cluster34,408</title>\n",
       "<path fill=\"none\" stroke=\"black\" d=\"M282.3,-8C282.3,-8 386.3,-8 386.3,-8 392.3,-8 398.3,-14 398.3,-20 398.3,-20 398.3,-212.93 398.3,-212.93 398.3,-218.93 392.3,-224.93 386.3,-224.93 386.3,-224.93 282.3,-224.93 282.3,-224.93 276.3,-224.93 270.3,-218.93 270.3,-212.93 270.3,-212.93 270.3,-20 270.3,-20 270.3,-14 276.3,-8 282.3,-8\"/>\n",
       "<text text-anchor=\"middle\" x=\"365.3\" y=\"-15.8\" font-family=\"Times-Roman\" font-size=\"14.00\">34,408</text>\n",
       "</g>\n",
       "<g id=\"clust4\" class=\"cluster\">\n",
       "<title>cluster391</title>\n",
       "<path fill=\"none\" stroke=\"black\" d=\"M418.3,-121.95C418.3,-121.95 548.3,-121.95 548.3,-121.95 554.3,-121.95 560.3,-127.95 560.3,-133.95 560.3,-133.95 560.3,-223.91 560.3,-223.91 560.3,-229.91 554.3,-235.91 548.3,-235.91 548.3,-235.91 418.3,-235.91 418.3,-235.91 412.3,-235.91 406.3,-229.91 406.3,-223.91 406.3,-223.91 406.3,-133.95 406.3,-133.95 406.3,-127.95 412.3,-121.95 418.3,-121.95\"/>\n",
       "<text text-anchor=\"middle\" x=\"538.3\" y=\"-129.75\" font-family=\"Times-Roman\" font-size=\"14.00\">391</text>\n",
       "</g>\n",
       "<!-- σ_α -->\n",
       "<g id=\"node1\" class=\"node\">\n",
       "<title>σ_α</title>\n",
       "<ellipse fill=\"none\" stroke=\"black\" cx=\"69.3\" cy=\"-423.34\" rx=\"69.09\" ry=\"37.45\"/>\n",
       "<text text-anchor=\"middle\" x=\"69.3\" y=\"-434.64\" font-family=\"Times-Roman\" font-size=\"14.00\">σ_α</text>\n",
       "<text text-anchor=\"middle\" x=\"69.3\" y=\"-419.64\" font-family=\"Times-Roman\" font-size=\"14.00\">~</text>\n",
       "<text text-anchor=\"middle\" x=\"69.3\" y=\"-404.64\" font-family=\"Times-Roman\" font-size=\"14.00\">HalfNormal</text>\n",
       "</g>\n",
       "<!-- α -->\n",
       "<g id=\"node6\" class=\"node\">\n",
       "<title>α</title>\n",
       "<ellipse fill=\"none\" stroke=\"black\" cx=\"205.3\" cy=\"-312.38\" rx=\"48.58\" ry=\"37.45\"/>\n",
       "<text text-anchor=\"middle\" x=\"205.3\" y=\"-323.68\" font-family=\"Times-Roman\" font-size=\"14.00\">α</text>\n",
       "<text text-anchor=\"middle\" x=\"205.3\" y=\"-308.68\" font-family=\"Times-Roman\" font-size=\"14.00\">~</text>\n",
       "<text text-anchor=\"middle\" x=\"205.3\" y=\"-293.68\" font-family=\"Times-Roman\" font-size=\"14.00\">Normal</text>\n",
       "</g>\n",
       "<!-- σ_α&#45;&gt;α -->\n",
       "<g id=\"edge2\" class=\"edge\">\n",
       "<title>σ_α&#45;&gt;α</title>\n",
       "<path fill=\"none\" stroke=\"black\" d=\"M107.54,-391.7C125.12,-377.62 146,-360.89 163.94,-346.51\"/>\n",
       "<polygon fill=\"black\" stroke=\"black\" points=\"166.34,-349.08 171.96,-340.09 161.97,-343.61 166.34,-349.08\"/>\n",
       "</g>\n",
       "<!-- σ_η -->\n",
       "<g id=\"node2\" class=\"node\">\n",
       "<title>σ_η</title>\n",
       "<ellipse fill=\"none\" stroke=\"black\" cx=\"341.3\" cy=\"-423.34\" rx=\"69.09\" ry=\"37.45\"/>\n",
       "<text text-anchor=\"middle\" x=\"341.3\" y=\"-434.64\" font-family=\"Times-Roman\" font-size=\"14.00\">σ_η</text>\n",
       "<text text-anchor=\"middle\" x=\"341.3\" y=\"-419.64\" font-family=\"Times-Roman\" font-size=\"14.00\">~</text>\n",
       "<text text-anchor=\"middle\" x=\"341.3\" y=\"-404.64\" font-family=\"Times-Roman\" font-size=\"14.00\">HalfNormal</text>\n",
       "</g>\n",
       "<!-- η -->\n",
       "<g id=\"node7\" class=\"node\">\n",
       "<title>η</title>\n",
       "<ellipse fill=\"none\" stroke=\"black\" cx=\"341.3\" cy=\"-312.38\" rx=\"48.58\" ry=\"37.45\"/>\n",
       "<text text-anchor=\"middle\" x=\"341.3\" y=\"-323.68\" font-family=\"Times-Roman\" font-size=\"14.00\">η</text>\n",
       "<text text-anchor=\"middle\" x=\"341.3\" y=\"-308.68\" font-family=\"Times-Roman\" font-size=\"14.00\">~</text>\n",
       "<text text-anchor=\"middle\" x=\"341.3\" y=\"-293.68\" font-family=\"Times-Roman\" font-size=\"14.00\">Normal</text>\n",
       "</g>\n",
       "<!-- σ_η&#45;&gt;η -->\n",
       "<g id=\"edge3\" class=\"edge\">\n",
       "<title>σ_η&#45;&gt;η</title>\n",
       "<path fill=\"none\" stroke=\"black\" d=\"M341.3,-385.75C341.3,-377.58 341.3,-368.8 341.3,-360.27\"/>\n",
       "<polygon fill=\"black\" stroke=\"black\" points=\"344.8,-360.06 341.3,-350.06 337.8,-360.06 344.8,-360.06\"/>\n",
       "</g>\n",
       "<!-- μ_α -->\n",
       "<g id=\"node3\" class=\"node\">\n",
       "<title>μ_α</title>\n",
       "<ellipse fill=\"none\" stroke=\"black\" cx=\"205.3\" cy=\"-423.34\" rx=\"48.58\" ry=\"37.45\"/>\n",
       "<text text-anchor=\"middle\" x=\"205.3\" y=\"-434.64\" font-family=\"Times-Roman\" font-size=\"14.00\">μ_α</text>\n",
       "<text text-anchor=\"middle\" x=\"205.3\" y=\"-419.64\" font-family=\"Times-Roman\" font-size=\"14.00\">~</text>\n",
       "<text text-anchor=\"middle\" x=\"205.3\" y=\"-404.64\" font-family=\"Times-Roman\" font-size=\"14.00\">Normal</text>\n",
       "</g>\n",
       "<!-- μ_α&#45;&gt;α -->\n",
       "<g id=\"edge1\" class=\"edge\">\n",
       "<title>μ_α&#45;&gt;α</title>\n",
       "<path fill=\"none\" stroke=\"black\" d=\"M205.3,-385.75C205.3,-377.58 205.3,-368.8 205.3,-360.27\"/>\n",
       "<polygon fill=\"black\" stroke=\"black\" points=\"208.8,-360.06 205.3,-350.06 201.8,-360.06 208.8,-360.06\"/>\n",
       "</g>\n",
       "<!-- μ_η -->\n",
       "<g id=\"node4\" class=\"node\">\n",
       "<title>μ_η</title>\n",
       "<ellipse fill=\"none\" stroke=\"black\" cx=\"477.3\" cy=\"-423.34\" rx=\"48.58\" ry=\"37.45\"/>\n",
       "<text text-anchor=\"middle\" x=\"477.3\" y=\"-434.64\" font-family=\"Times-Roman\" font-size=\"14.00\">μ_η</text>\n",
       "<text text-anchor=\"middle\" x=\"477.3\" y=\"-419.64\" font-family=\"Times-Roman\" font-size=\"14.00\">~</text>\n",
       "<text text-anchor=\"middle\" x=\"477.3\" y=\"-404.64\" font-family=\"Times-Roman\" font-size=\"14.00\">Normal</text>\n",
       "</g>\n",
       "<!-- μ_η&#45;&gt;η -->\n",
       "<g id=\"edge4\" class=\"edge\">\n",
       "<title>μ_η&#45;&gt;η</title>\n",
       "<path fill=\"none\" stroke=\"black\" d=\"M444.03,-395.68C425.5,-380.84 402.28,-362.24 382.6,-346.48\"/>\n",
       "<polygon fill=\"black\" stroke=\"black\" points=\"384.69,-343.66 374.69,-340.14 380.31,-349.12 384.69,-343.66\"/>\n",
       "</g>\n",
       "<!-- σ_σ -->\n",
       "<g id=\"node5\" class=\"node\">\n",
       "<title>σ_σ</title>\n",
       "<ellipse fill=\"none\" stroke=\"black\" cx=\"483.3\" cy=\"-312.38\" rx=\"69.09\" ry=\"37.45\"/>\n",
       "<text text-anchor=\"middle\" x=\"483.3\" y=\"-323.68\" font-family=\"Times-Roman\" font-size=\"14.00\">σ_σ</text>\n",
       "<text text-anchor=\"middle\" x=\"483.3\" y=\"-308.68\" font-family=\"Times-Roman\" font-size=\"14.00\">~</text>\n",
       "<text text-anchor=\"middle\" x=\"483.3\" y=\"-293.68\" font-family=\"Times-Roman\" font-size=\"14.00\">HalfNormal</text>\n",
       "</g>\n",
       "<!-- σ -->\n",
       "<g id=\"node10\" class=\"node\">\n",
       "<title>σ</title>\n",
       "<ellipse fill=\"none\" stroke=\"black\" cx=\"483.3\" cy=\"-190.43\" rx=\"69.09\" ry=\"37.45\"/>\n",
       "<text text-anchor=\"middle\" x=\"483.3\" y=\"-201.73\" font-family=\"Times-Roman\" font-size=\"14.00\">σ</text>\n",
       "<text text-anchor=\"middle\" x=\"483.3\" y=\"-186.73\" font-family=\"Times-Roman\" font-size=\"14.00\">~</text>\n",
       "<text text-anchor=\"middle\" x=\"483.3\" y=\"-171.73\" font-family=\"Times-Roman\" font-size=\"14.00\">HalfNormal</text>\n",
       "</g>\n",
       "<!-- σ_σ&#45;&gt;σ -->\n",
       "<g id=\"edge7\" class=\"edge\">\n",
       "<title>σ_σ&#45;&gt;σ</title>\n",
       "<path fill=\"none\" stroke=\"black\" d=\"M483.3,-274.74C483.3,-263.34 483.3,-250.6 483.3,-238.58\"/>\n",
       "<polygon fill=\"black\" stroke=\"black\" points=\"486.8,-238.26 483.3,-228.26 479.8,-238.26 486.8,-238.26\"/>\n",
       "</g>\n",
       "<!-- μ -->\n",
       "<g id=\"node9\" class=\"node\">\n",
       "<title>μ</title>\n",
       "<polygon fill=\"none\" stroke=\"black\" points=\"390.3,-216.93 278.3,-216.93 278.3,-163.93 390.3,-163.93 390.3,-216.93\"/>\n",
       "<text text-anchor=\"middle\" x=\"334.3\" y=\"-201.73\" font-family=\"Times-Roman\" font-size=\"14.00\">μ</text>\n",
       "<text text-anchor=\"middle\" x=\"334.3\" y=\"-186.73\" font-family=\"Times-Roman\" font-size=\"14.00\">~</text>\n",
       "<text text-anchor=\"middle\" x=\"334.3\" y=\"-171.73\" font-family=\"Times-Roman\" font-size=\"14.00\">Deterministic</text>\n",
       "</g>\n",
       "<!-- α&#45;&gt;μ -->\n",
       "<g id=\"edge5\" class=\"edge\">\n",
       "<title>α&#45;&gt;μ</title>\n",
       "<path fill=\"none\" stroke=\"black\" d=\"M235.87,-282.96C254.89,-265.26 279.43,-242.45 299.24,-224.03\"/>\n",
       "<polygon fill=\"black\" stroke=\"black\" points=\"301.64,-226.57 306.58,-217.2 296.88,-221.45 301.64,-226.57\"/>\n",
       "</g>\n",
       "<!-- η&#45;&gt;μ -->\n",
       "<g id=\"edge6\" class=\"edge\">\n",
       "<title>η&#45;&gt;μ</title>\n",
       "<path fill=\"none\" stroke=\"black\" d=\"M339.16,-274.74C338.28,-259.77 337.28,-242.51 336.41,-227.59\"/>\n",
       "<polygon fill=\"black\" stroke=\"black\" points=\"339.88,-226.98 335.8,-217.2 332.89,-227.39 339.88,-226.98\"/>\n",
       "</g>\n",
       "<!-- lfc -->\n",
       "<g id=\"node8\" class=\"node\">\n",
       "<title>lfc</title>\n",
       "<ellipse fill=\"lightgrey\" stroke=\"black\" cx=\"337.3\" cy=\"-76.48\" rx=\"48.58\" ry=\"37.45\"/>\n",
       "<text text-anchor=\"middle\" x=\"337.3\" y=\"-87.78\" font-family=\"Times-Roman\" font-size=\"14.00\">lfc</text>\n",
       "<text text-anchor=\"middle\" x=\"337.3\" y=\"-72.78\" font-family=\"Times-Roman\" font-size=\"14.00\">~</text>\n",
       "<text text-anchor=\"middle\" x=\"337.3\" y=\"-57.78\" font-family=\"Times-Roman\" font-size=\"14.00\">Normal</text>\n",
       "</g>\n",
       "<!-- μ&#45;&gt;lfc -->\n",
       "<g id=\"edge8\" class=\"edge\">\n",
       "<title>μ&#45;&gt;lfc</title>\n",
       "<path fill=\"none\" stroke=\"black\" d=\"M334.98,-163.75C335.3,-152.02 335.68,-137.75 336.04,-124.22\"/>\n",
       "<polygon fill=\"black\" stroke=\"black\" points=\"339.55,-124.16 336.32,-114.07 332.55,-123.98 339.55,-124.16\"/>\n",
       "</g>\n",
       "<!-- σ&#45;&gt;lfc -->\n",
       "<g id=\"edge9\" class=\"edge\">\n",
       "<title>σ&#45;&gt;lfc</title>\n",
       "<path fill=\"none\" stroke=\"black\" d=\"M447.2,-158.12C433.38,-146.47 417.33,-133.32 402.3,-121.95 395.93,-117.14 389.09,-112.21 382.32,-107.47\"/>\n",
       "<polygon fill=\"black\" stroke=\"black\" points=\"384.04,-104.4 373.83,-101.58 380.05,-110.15 384.04,-104.4\"/>\n",
       "</g>\n",
       "</g>\n",
       "</svg>\n"
      ],
      "text/plain": [
       "<graphviz.dot.Digraph at 0x7f0954dc4f10>"
      ]
     },
     "execution_count": 20,
     "metadata": {},
     "output_type": "execute_result"
    }
   ],
   "source": [
    "pm.model_to_graphviz(sp2.model)"
   ]
  },
  {
   "cell_type": "code",
   "execution_count": 21,
   "metadata": {},
   "outputs": [
    {
     "data": {
      "image/svg+xml": [
       "<?xml version=\"1.0\" encoding=\"UTF-8\" standalone=\"no\"?>\n",
       "<!DOCTYPE svg PUBLIC \"-//W3C//DTD SVG 1.1//EN\"\n",
       " \"http://www.w3.org/Graphics/SVG/1.1/DTD/svg11.dtd\">\n",
       "<!-- Generated by graphviz version 2.47.0 (20210327.0129)\n",
       " -->\n",
       "<!-- Pages: 1 -->\n",
       "<svg width=\"820pt\" height=\"469pt\"\n",
       " viewBox=\"0.00 0.00 819.59 468.81\" xmlns=\"http://www.w3.org/2000/svg\" xmlns:xlink=\"http://www.w3.org/1999/xlink\">\n",
       "<g id=\"graph0\" class=\"graph\" transform=\"scale(1 1) rotate(0) translate(4 464.81)\">\n",
       "<polygon fill=\"white\" stroke=\"transparent\" points=\"-4,4 -4,-464.81 815.59,-464.81 815.59,4 -4,4\"/>\n",
       "<g id=\"clust1\" class=\"cluster\">\n",
       "<title>cluster99 x 36</title>\n",
       "<path fill=\"none\" stroke=\"black\" d=\"M432.3,-243.91C432.3,-243.91 522.3,-243.91 522.3,-243.91 528.3,-243.91 534.3,-249.91 534.3,-255.91 534.3,-255.91 534.3,-345.86 534.3,-345.86 534.3,-351.86 528.3,-357.86 522.3,-357.86 522.3,-357.86 432.3,-357.86 432.3,-357.86 426.3,-357.86 420.3,-351.86 420.3,-345.86 420.3,-345.86 420.3,-255.91 420.3,-255.91 420.3,-249.91 426.3,-243.91 432.3,-243.91\"/>\n",
       "<text text-anchor=\"middle\" x=\"499.3\" y=\"-251.71\" font-family=\"Times-Roman\" font-size=\"14.00\">99 x 36</text>\n",
       "</g>\n",
       "<g id=\"clust2\" class=\"cluster\">\n",
       "<title>cluster2</title>\n",
       "<path fill=\"none\" stroke=\"black\" d=\"M561.3,-243.91C561.3,-243.91 651.3,-243.91 651.3,-243.91 657.3,-243.91 663.3,-249.91 663.3,-255.91 663.3,-255.91 663.3,-345.86 663.3,-345.86 663.3,-351.86 657.3,-357.86 651.3,-357.86 651.3,-357.86 561.3,-357.86 561.3,-357.86 555.3,-357.86 549.3,-351.86 549.3,-345.86 549.3,-345.86 549.3,-255.91 549.3,-255.91 549.3,-249.91 555.3,-243.91 561.3,-243.91\"/>\n",
       "<text text-anchor=\"middle\" x=\"650.3\" y=\"-251.71\" font-family=\"Times-Roman\" font-size=\"14.00\">2</text>\n",
       "</g>\n",
       "<g id=\"clust3\" class=\"cluster\">\n",
       "<title>cluster10</title>\n",
       "<path fill=\"none\" stroke=\"black\" d=\"M160.3,-243.91C160.3,-243.91 250.3,-243.91 250.3,-243.91 256.3,-243.91 262.3,-249.91 262.3,-255.91 262.3,-255.91 262.3,-345.86 262.3,-345.86 262.3,-351.86 256.3,-357.86 250.3,-357.86 250.3,-357.86 160.3,-357.86 160.3,-357.86 154.3,-357.86 148.3,-351.86 148.3,-345.86 148.3,-345.86 148.3,-255.91 148.3,-255.91 148.3,-249.91 154.3,-243.91 160.3,-243.91\"/>\n",
       "<text text-anchor=\"middle\" x=\"244.8\" y=\"-251.71\" font-family=\"Times-Roman\" font-size=\"14.00\">10</text>\n",
       "</g>\n",
       "<g id=\"clust4\" class=\"cluster\">\n",
       "<title>cluster34,408</title>\n",
       "<path fill=\"none\" stroke=\"black\" d=\"M454.3,-8C454.3,-8 558.3,-8 558.3,-8 564.3,-8 570.3,-14 570.3,-20 570.3,-20 570.3,-212.93 570.3,-212.93 570.3,-218.93 564.3,-224.93 558.3,-224.93 558.3,-224.93 454.3,-224.93 454.3,-224.93 448.3,-224.93 442.3,-218.93 442.3,-212.93 442.3,-212.93 442.3,-20 442.3,-20 442.3,-14 448.3,-8 454.3,-8\"/>\n",
       "<text text-anchor=\"middle\" x=\"537.3\" y=\"-15.8\" font-family=\"Times-Roman\" font-size=\"14.00\">34,408</text>\n",
       "</g>\n",
       "<g id=\"clust5\" class=\"cluster\">\n",
       "<title>cluster391</title>\n",
       "<path fill=\"none\" stroke=\"black\" d=\"M648.3,-121.95C648.3,-121.95 778.3,-121.95 778.3,-121.95 784.3,-121.95 790.3,-127.95 790.3,-133.95 790.3,-133.95 790.3,-223.91 790.3,-223.91 790.3,-229.91 784.3,-235.91 778.3,-235.91 778.3,-235.91 648.3,-235.91 648.3,-235.91 642.3,-235.91 636.3,-229.91 636.3,-223.91 636.3,-223.91 636.3,-133.95 636.3,-133.95 636.3,-127.95 642.3,-121.95 648.3,-121.95\"/>\n",
       "<text text-anchor=\"middle\" x=\"768.3\" y=\"-129.75\" font-family=\"Times-Roman\" font-size=\"14.00\">391</text>\n",
       "</g>\n",
       "<!-- σ_β -->\n",
       "<g id=\"node1\" class=\"node\">\n",
       "<title>σ_β</title>\n",
       "<ellipse fill=\"none\" stroke=\"black\" cx=\"69.3\" cy=\"-423.34\" rx=\"69.09\" ry=\"37.45\"/>\n",
       "<text text-anchor=\"middle\" x=\"69.3\" y=\"-434.64\" font-family=\"Times-Roman\" font-size=\"14.00\">σ_β</text>\n",
       "<text text-anchor=\"middle\" x=\"69.3\" y=\"-419.64\" font-family=\"Times-Roman\" font-size=\"14.00\">~</text>\n",
       "<text text-anchor=\"middle\" x=\"69.3\" y=\"-404.64\" font-family=\"Times-Roman\" font-size=\"14.00\">HalfNormal</text>\n",
       "</g>\n",
       "<!-- β -->\n",
       "<g id=\"node10\" class=\"node\">\n",
       "<title>β</title>\n",
       "<ellipse fill=\"none\" stroke=\"black\" cx=\"205.3\" cy=\"-312.38\" rx=\"48.58\" ry=\"37.45\"/>\n",
       "<text text-anchor=\"middle\" x=\"205.3\" y=\"-323.68\" font-family=\"Times-Roman\" font-size=\"14.00\">β</text>\n",
       "<text text-anchor=\"middle\" x=\"205.3\" y=\"-308.68\" font-family=\"Times-Roman\" font-size=\"14.00\">~</text>\n",
       "<text text-anchor=\"middle\" x=\"205.3\" y=\"-293.68\" font-family=\"Times-Roman\" font-size=\"14.00\">Normal</text>\n",
       "</g>\n",
       "<!-- σ_β&#45;&gt;β -->\n",
       "<g id=\"edge5\" class=\"edge\">\n",
       "<title>σ_β&#45;&gt;β</title>\n",
       "<path fill=\"none\" stroke=\"black\" d=\"M107.54,-391.7C125.12,-377.62 146,-360.89 163.94,-346.51\"/>\n",
       "<polygon fill=\"black\" stroke=\"black\" points=\"166.34,-349.08 171.96,-340.09 161.97,-343.61 166.34,-349.08\"/>\n",
       "</g>\n",
       "<!-- σ_α -->\n",
       "<g id=\"node2\" class=\"node\">\n",
       "<title>σ_α</title>\n",
       "<ellipse fill=\"none\" stroke=\"black\" cx=\"341.3\" cy=\"-423.34\" rx=\"69.09\" ry=\"37.45\"/>\n",
       "<text text-anchor=\"middle\" x=\"341.3\" y=\"-434.64\" font-family=\"Times-Roman\" font-size=\"14.00\">σ_α</text>\n",
       "<text text-anchor=\"middle\" x=\"341.3\" y=\"-419.64\" font-family=\"Times-Roman\" font-size=\"14.00\">~</text>\n",
       "<text text-anchor=\"middle\" x=\"341.3\" y=\"-404.64\" font-family=\"Times-Roman\" font-size=\"14.00\">HalfNormal</text>\n",
       "</g>\n",
       "<!-- α -->\n",
       "<g id=\"node8\" class=\"node\">\n",
       "<title>α</title>\n",
       "<ellipse fill=\"none\" stroke=\"black\" cx=\"477.3\" cy=\"-312.38\" rx=\"48.58\" ry=\"37.45\"/>\n",
       "<text text-anchor=\"middle\" x=\"477.3\" y=\"-323.68\" font-family=\"Times-Roman\" font-size=\"14.00\">α</text>\n",
       "<text text-anchor=\"middle\" x=\"477.3\" y=\"-308.68\" font-family=\"Times-Roman\" font-size=\"14.00\">~</text>\n",
       "<text text-anchor=\"middle\" x=\"477.3\" y=\"-293.68\" font-family=\"Times-Roman\" font-size=\"14.00\">Normal</text>\n",
       "</g>\n",
       "<!-- σ_α&#45;&gt;α -->\n",
       "<g id=\"edge2\" class=\"edge\">\n",
       "<title>σ_α&#45;&gt;α</title>\n",
       "<path fill=\"none\" stroke=\"black\" d=\"M379.54,-391.7C397.12,-377.62 418,-360.89 435.94,-346.51\"/>\n",
       "<polygon fill=\"black\" stroke=\"black\" points=\"438.34,-349.08 443.96,-340.09 433.97,-343.61 438.34,-349.08\"/>\n",
       "</g>\n",
       "<!-- σ_η -->\n",
       "<g id=\"node3\" class=\"node\">\n",
       "<title>σ_η</title>\n",
       "<ellipse fill=\"none\" stroke=\"black\" cx=\"613.3\" cy=\"-423.34\" rx=\"69.09\" ry=\"37.45\"/>\n",
       "<text text-anchor=\"middle\" x=\"613.3\" y=\"-434.64\" font-family=\"Times-Roman\" font-size=\"14.00\">σ_η</text>\n",
       "<text text-anchor=\"middle\" x=\"613.3\" y=\"-419.64\" font-family=\"Times-Roman\" font-size=\"14.00\">~</text>\n",
       "<text text-anchor=\"middle\" x=\"613.3\" y=\"-404.64\" font-family=\"Times-Roman\" font-size=\"14.00\">HalfNormal</text>\n",
       "</g>\n",
       "<!-- η -->\n",
       "<g id=\"node9\" class=\"node\">\n",
       "<title>η</title>\n",
       "<ellipse fill=\"none\" stroke=\"black\" cx=\"606.3\" cy=\"-312.38\" rx=\"48.58\" ry=\"37.45\"/>\n",
       "<text text-anchor=\"middle\" x=\"606.3\" y=\"-323.68\" font-family=\"Times-Roman\" font-size=\"14.00\">η</text>\n",
       "<text text-anchor=\"middle\" x=\"606.3\" y=\"-308.68\" font-family=\"Times-Roman\" font-size=\"14.00\">~</text>\n",
       "<text text-anchor=\"middle\" x=\"606.3\" y=\"-293.68\" font-family=\"Times-Roman\" font-size=\"14.00\">Normal</text>\n",
       "</g>\n",
       "<!-- σ_η&#45;&gt;η -->\n",
       "<g id=\"edge3\" class=\"edge\">\n",
       "<title>σ_η&#45;&gt;η</title>\n",
       "<path fill=\"none\" stroke=\"black\" d=\"M610.95,-385.75C610.42,-377.58 609.86,-368.8 609.31,-360.27\"/>\n",
       "<polygon fill=\"black\" stroke=\"black\" points=\"612.79,-359.81 608.65,-350.06 605.8,-360.26 612.79,-359.81\"/>\n",
       "</g>\n",
       "<!-- μ_α -->\n",
       "<g id=\"node4\" class=\"node\">\n",
       "<title>μ_α</title>\n",
       "<ellipse fill=\"none\" stroke=\"black\" cx=\"477.3\" cy=\"-423.34\" rx=\"48.58\" ry=\"37.45\"/>\n",
       "<text text-anchor=\"middle\" x=\"477.3\" y=\"-434.64\" font-family=\"Times-Roman\" font-size=\"14.00\">μ_α</text>\n",
       "<text text-anchor=\"middle\" x=\"477.3\" y=\"-419.64\" font-family=\"Times-Roman\" font-size=\"14.00\">~</text>\n",
       "<text text-anchor=\"middle\" x=\"477.3\" y=\"-404.64\" font-family=\"Times-Roman\" font-size=\"14.00\">Normal</text>\n",
       "</g>\n",
       "<!-- μ_α&#45;&gt;α -->\n",
       "<g id=\"edge1\" class=\"edge\">\n",
       "<title>μ_α&#45;&gt;α</title>\n",
       "<path fill=\"none\" stroke=\"black\" d=\"M477.3,-385.75C477.3,-377.58 477.3,-368.8 477.3,-360.27\"/>\n",
       "<polygon fill=\"black\" stroke=\"black\" points=\"480.8,-360.06 477.3,-350.06 473.8,-360.06 480.8,-360.06\"/>\n",
       "</g>\n",
       "<!-- μ_η -->\n",
       "<g id=\"node5\" class=\"node\">\n",
       "<title>μ_η</title>\n",
       "<ellipse fill=\"none\" stroke=\"black\" cx=\"749.3\" cy=\"-423.34\" rx=\"48.58\" ry=\"37.45\"/>\n",
       "<text text-anchor=\"middle\" x=\"749.3\" y=\"-434.64\" font-family=\"Times-Roman\" font-size=\"14.00\">μ_η</text>\n",
       "<text text-anchor=\"middle\" x=\"749.3\" y=\"-419.64\" font-family=\"Times-Roman\" font-size=\"14.00\">~</text>\n",
       "<text text-anchor=\"middle\" x=\"749.3\" y=\"-404.64\" font-family=\"Times-Roman\" font-size=\"14.00\">Normal</text>\n",
       "</g>\n",
       "<!-- μ_η&#45;&gt;η -->\n",
       "<g id=\"edge4\" class=\"edge\">\n",
       "<title>μ_η&#45;&gt;η</title>\n",
       "<path fill=\"none\" stroke=\"black\" d=\"M714.94,-396.34C699.45,-384.6 680.94,-370.55 664.3,-357.86 659.2,-353.97 653.85,-349.89 648.56,-345.83\"/>\n",
       "<polygon fill=\"black\" stroke=\"black\" points=\"650.38,-342.82 640.32,-339.52 646.13,-348.38 650.38,-342.82\"/>\n",
       "</g>\n",
       "<!-- σ_σ -->\n",
       "<g id=\"node6\" class=\"node\">\n",
       "<title>σ_σ</title>\n",
       "<ellipse fill=\"none\" stroke=\"black\" cx=\"742.3\" cy=\"-312.38\" rx=\"69.09\" ry=\"37.45\"/>\n",
       "<text text-anchor=\"middle\" x=\"742.3\" y=\"-323.68\" font-family=\"Times-Roman\" font-size=\"14.00\">σ_σ</text>\n",
       "<text text-anchor=\"middle\" x=\"742.3\" y=\"-308.68\" font-family=\"Times-Roman\" font-size=\"14.00\">~</text>\n",
       "<text text-anchor=\"middle\" x=\"742.3\" y=\"-293.68\" font-family=\"Times-Roman\" font-size=\"14.00\">HalfNormal</text>\n",
       "</g>\n",
       "<!-- σ -->\n",
       "<g id=\"node13\" class=\"node\">\n",
       "<title>σ</title>\n",
       "<ellipse fill=\"none\" stroke=\"black\" cx=\"713.3\" cy=\"-190.43\" rx=\"69.09\" ry=\"37.45\"/>\n",
       "<text text-anchor=\"middle\" x=\"713.3\" y=\"-201.73\" font-family=\"Times-Roman\" font-size=\"14.00\">σ</text>\n",
       "<text text-anchor=\"middle\" x=\"713.3\" y=\"-186.73\" font-family=\"Times-Roman\" font-size=\"14.00\">~</text>\n",
       "<text text-anchor=\"middle\" x=\"713.3\" y=\"-171.73\" font-family=\"Times-Roman\" font-size=\"14.00\">HalfNormal</text>\n",
       "</g>\n",
       "<!-- σ_σ&#45;&gt;σ -->\n",
       "<g id=\"edge10\" class=\"edge\">\n",
       "<title>σ_σ&#45;&gt;σ</title>\n",
       "<path fill=\"none\" stroke=\"black\" d=\"M733.52,-275.07C730.65,-263.21 727.43,-249.87 724.41,-237.4\"/>\n",
       "<polygon fill=\"black\" stroke=\"black\" points=\"727.8,-236.52 722.05,-227.62 720.99,-238.16 727.8,-236.52\"/>\n",
       "</g>\n",
       "<!-- μ_β -->\n",
       "<g id=\"node7\" class=\"node\">\n",
       "<title>μ_β</title>\n",
       "<ellipse fill=\"none\" stroke=\"black\" cx=\"205.3\" cy=\"-423.34\" rx=\"48.58\" ry=\"37.45\"/>\n",
       "<text text-anchor=\"middle\" x=\"205.3\" y=\"-434.64\" font-family=\"Times-Roman\" font-size=\"14.00\">μ_β</text>\n",
       "<text text-anchor=\"middle\" x=\"205.3\" y=\"-419.64\" font-family=\"Times-Roman\" font-size=\"14.00\">~</text>\n",
       "<text text-anchor=\"middle\" x=\"205.3\" y=\"-404.64\" font-family=\"Times-Roman\" font-size=\"14.00\">Normal</text>\n",
       "</g>\n",
       "<!-- μ_β&#45;&gt;β -->\n",
       "<g id=\"edge6\" class=\"edge\">\n",
       "<title>μ_β&#45;&gt;β</title>\n",
       "<path fill=\"none\" stroke=\"black\" d=\"M205.3,-385.75C205.3,-377.58 205.3,-368.8 205.3,-360.27\"/>\n",
       "<polygon fill=\"black\" stroke=\"black\" points=\"208.8,-360.06 205.3,-350.06 201.8,-360.06 208.8,-360.06\"/>\n",
       "</g>\n",
       "<!-- μ -->\n",
       "<g id=\"node12\" class=\"node\">\n",
       "<title>μ</title>\n",
       "<polygon fill=\"none\" stroke=\"black\" points=\"562.3,-216.93 450.3,-216.93 450.3,-163.93 562.3,-163.93 562.3,-216.93\"/>\n",
       "<text text-anchor=\"middle\" x=\"506.3\" y=\"-201.73\" font-family=\"Times-Roman\" font-size=\"14.00\">μ</text>\n",
       "<text text-anchor=\"middle\" x=\"506.3\" y=\"-186.73\" font-family=\"Times-Roman\" font-size=\"14.00\">~</text>\n",
       "<text text-anchor=\"middle\" x=\"506.3\" y=\"-171.73\" font-family=\"Times-Roman\" font-size=\"14.00\">Deterministic</text>\n",
       "</g>\n",
       "<!-- α&#45;&gt;μ -->\n",
       "<g id=\"edge8\" class=\"edge\">\n",
       "<title>α&#45;&gt;μ</title>\n",
       "<path fill=\"none\" stroke=\"black\" d=\"M486,-275.39C489.68,-260.14 493.97,-242.41 497.65,-227.19\"/>\n",
       "<polygon fill=\"black\" stroke=\"black\" points=\"501.14,-227.65 500.09,-217.11 494.34,-226.01 501.14,-227.65\"/>\n",
       "</g>\n",
       "<!-- η&#45;&gt;μ -->\n",
       "<g id=\"edge9\" class=\"edge\">\n",
       "<title>η&#45;&gt;μ</title>\n",
       "<path fill=\"none\" stroke=\"black\" d=\"M580.54,-280.49C566.29,-263.4 548.57,-242.14 534.02,-224.68\"/>\n",
       "<polygon fill=\"black\" stroke=\"black\" points=\"536.67,-222.4 527.58,-216.96 531.29,-226.88 536.67,-222.4\"/>\n",
       "</g>\n",
       "<!-- β&#45;&gt;μ -->\n",
       "<g id=\"edge7\" class=\"edge\">\n",
       "<title>β&#45;&gt;μ</title>\n",
       "<path fill=\"none\" stroke=\"black\" d=\"M248.1,-294.32C298.3,-274.32 382.07,-240.94 440.53,-217.64\"/>\n",
       "<polygon fill=\"black\" stroke=\"black\" points=\"442.05,-220.8 450.05,-213.85 439.46,-214.3 442.05,-220.8\"/>\n",
       "</g>\n",
       "<!-- lfc -->\n",
       "<g id=\"node11\" class=\"node\">\n",
       "<title>lfc</title>\n",
       "<ellipse fill=\"lightgrey\" stroke=\"black\" cx=\"509.3\" cy=\"-76.48\" rx=\"48.58\" ry=\"37.45\"/>\n",
       "<text text-anchor=\"middle\" x=\"509.3\" y=\"-87.78\" font-family=\"Times-Roman\" font-size=\"14.00\">lfc</text>\n",
       "<text text-anchor=\"middle\" x=\"509.3\" y=\"-72.78\" font-family=\"Times-Roman\" font-size=\"14.00\">~</text>\n",
       "<text text-anchor=\"middle\" x=\"509.3\" y=\"-57.78\" font-family=\"Times-Roman\" font-size=\"14.00\">Normal</text>\n",
       "</g>\n",
       "<!-- μ&#45;&gt;lfc -->\n",
       "<g id=\"edge11\" class=\"edge\">\n",
       "<title>μ&#45;&gt;lfc</title>\n",
       "<path fill=\"none\" stroke=\"black\" d=\"M506.98,-163.75C507.3,-152.02 507.68,-137.75 508.04,-124.22\"/>\n",
       "<polygon fill=\"black\" stroke=\"black\" points=\"511.55,-124.16 508.32,-114.07 504.55,-123.98 511.55,-124.16\"/>\n",
       "</g>\n",
       "<!-- σ&#45;&gt;lfc -->\n",
       "<g id=\"edge12\" class=\"edge\">\n",
       "<title>σ&#45;&gt;lfc</title>\n",
       "<path fill=\"none\" stroke=\"black\" d=\"M665.47,-163.18C632.96,-145.34 590.11,-121.82 557.52,-103.94\"/>\n",
       "<polygon fill=\"black\" stroke=\"black\" points=\"559.06,-100.8 548.61,-99.05 555.7,-106.93 559.06,-100.8\"/>\n",
       "</g>\n",
       "</g>\n",
       "</svg>\n"
      ],
      "text/plain": [
       "<graphviz.dot.Digraph at 0x7f09975d77f0>"
      ]
     },
     "execution_count": 21,
     "metadata": {},
     "output_type": "execute_result"
    }
   ],
   "source": [
    "pm.model_to_graphviz(sp2_kras.model)"
   ]
  },
  {
   "cell_type": "code",
   "execution_count": 32,
   "metadata": {},
   "outputs": [],
   "source": [
    "az_sp2 = pmapi.convert_samples_to_arviz(sp2.model, sp2.advi_results)\n",
    "az_sp2_kras = pmapi.convert_samples_to_arviz(sp2_kras.model, sp2_kras.advi_results)"
   ]
  },
  {
   "cell_type": "markdown",
   "metadata": {},
   "source": [
    "## ADVI diagnositics"
   ]
  },
  {
   "cell_type": "markdown",
   "metadata": {},
   "source": [
    "Can probably re-run with the max number of iterations at 30,000."
   ]
  },
  {
   "cell_type": "code",
   "execution_count": 31,
   "metadata": {},
   "outputs": [
    {
     "data": {
      "image/png": "[encoded data removed]",
      "text/plain": [
       "<Figure size 400x300 with 1 Axes>"
      ]
     },
     "metadata": {
      "image/png": {
       "height": 316,
       "width": 409
      }
     },
     "output_type": "display_data"
    },
    {
     "name": "stdout",
     "output_type": "stream",
     "text": [
      "\n"
     ]
    },
    {
     "data": {
      "image/png": "[encoded data removed]",
      "text/plain": [
       "<Figure size 400x300 with 1 Axes>"
      ]
     },
     "metadata": {
      "image/png": {
       "height": 316,
       "width": 409
      }
     },
     "output_type": "display_data"
    },
    {
     "name": "stdout",
     "output_type": "stream",
     "text": [
      "\n"
     ]
    }
   ],
   "source": [
    "for sp in [sp2, sp2_kras]:\n",
    "    p = pmanal.plot_vi_hist(sp.advi_results.approximation) + gg.theme(\n",
    "        figure_size=(4, 3)\n",
    "    )\n",
    "    print(p)"
   ]
  },
  {
   "cell_type": "markdown",
   "metadata": {},
   "source": [
    "## Compare models"
   ]
  },
  {
   "cell_type": "markdown",
   "metadata": {},
   "source": [
    "### Parameter estimates"
   ]
  },
  {
   "cell_type": "code",
   "execution_count": 46,
   "metadata": {},
   "outputs": [
    {
     "data": {
      "text/html": [
       "<div>\n",
       "<style scoped>\n",
       "    .dataframe tbody tr th:only-of-type {\n",
       "        vertical-align: middle;\n",
       "    }\n",
       "\n",
       "    .dataframe tbody tr th {\n",
       "        vertical-align: top;\n",
       "    }\n",
       "\n",
       "    .dataframe thead th {\n",
       "        text-align: right;\n",
       "    }\n",
       "</style>\n",
       "<table border=\"1\" class=\"dataframe\">\n",
       "  <thead>\n",
       "    <tr style=\"text-align: right;\">\n",
       "      <th></th>\n",
       "      <th>depmap_id</th>\n",
       "    </tr>\n",
       "    <tr>\n",
       "      <th>kras_mutation</th>\n",
       "      <th></th>\n",
       "    </tr>\n",
       "  </thead>\n",
       "  <tbody>\n",
       "    <tr>\n",
       "      <th>Q61H</th>\n",
       "      <td>1</td>\n",
       "    </tr>\n",
       "    <tr>\n",
       "      <th>other</th>\n",
       "      <td>1</td>\n",
       "    </tr>\n",
       "    <tr>\n",
       "      <th>Q61L</th>\n",
       "      <td>1</td>\n",
       "    </tr>\n",
       "    <tr>\n",
       "      <th>A146V</th>\n",
       "      <td>1</td>\n",
       "    </tr>\n",
       "    <tr>\n",
       "      <th>G12A</th>\n",
       "      <td>1</td>\n",
       "    </tr>\n",
       "    <tr>\n",
       "      <th>G12C</th>\n",
       "      <td>2</td>\n",
       "    </tr>\n",
       "    <tr>\n",
       "      <th>G13D</th>\n",
       "      <td>3</td>\n",
       "    </tr>\n",
       "    <tr>\n",
       "      <th>G12V</th>\n",
       "      <td>3</td>\n",
       "    </tr>\n",
       "    <tr>\n",
       "      <th>G12D</th>\n",
       "      <td>5</td>\n",
       "    </tr>\n",
       "    <tr>\n",
       "      <th>WT</th>\n",
       "      <td>18</td>\n",
       "    </tr>\n",
       "  </tbody>\n",
       "</table>\n",
       "</div>"
      ],
      "text/plain": [
       "               depmap_id\n",
       "kras_mutation           \n",
       "Q61H                   1\n",
       "other                  1\n",
       "Q61L                   1\n",
       "A146V                  1\n",
       "G12A                   1\n",
       "G12C                   2\n",
       "G13D                   3\n",
       "G12V                   3\n",
       "G12D                   5\n",
       "WT                    18"
      ]
     },
     "execution_count": 46,
     "metadata": {},
     "output_type": "execute_result"
    }
   ],
   "source": [
    "(\n",
    "    sp2_kras.data_manager.get_data()[[\"kras_mutation\", \"depmap_id\"]]\n",
    "    .drop_duplicates()\n",
    "    .groupby(\"kras_mutation\")\n",
    "    .count()\n",
    "    .sort_values(\"depmap_id\")\n",
    ")"
   ]
  },
  {
   "cell_type": "code",
   "execution_count": 38,
   "metadata": {},
   "outputs": [
    {
     "data": {
      "text/html": [
       "<div>\n",
       "<style scoped>\n",
       "    .dataframe tbody tr th:only-of-type {\n",
       "        vertical-align: middle;\n",
       "    }\n",
       "\n",
       "    .dataframe tbody tr th {\n",
       "        vertical-align: top;\n",
       "    }\n",
       "\n",
       "    .dataframe thead th {\n",
       "        text-align: right;\n",
       "    }\n",
       "</style>\n",
       "<table border=\"1\" class=\"dataframe\">\n",
       "  <thead>\n",
       "    <tr style=\"text-align: right;\">\n",
       "      <th></th>\n",
       "      <th>mean</th>\n",
       "      <th>sd</th>\n",
       "      <th>hdi_5.5%</th>\n",
       "      <th>hdi_94.5%</th>\n",
       "      <th>kras_mutation</th>\n",
       "    </tr>\n",
       "  </thead>\n",
       "  <tbody>\n",
       "    <tr>\n",
       "      <th>β[0]</th>\n",
       "      <td>-0.037</td>\n",
       "      <td>0.009</td>\n",
       "      <td>-0.053</td>\n",
       "      <td>-0.024</td>\n",
       "      <td>G12D</td>\n",
       "    </tr>\n",
       "    <tr>\n",
       "      <th>β[1]</th>\n",
       "      <td>-0.009</td>\n",
       "      <td>0.004</td>\n",
       "      <td>-0.016</td>\n",
       "      <td>-0.002</td>\n",
       "      <td>WT</td>\n",
       "    </tr>\n",
       "    <tr>\n",
       "      <th>β[2]</th>\n",
       "      <td>-0.132</td>\n",
       "      <td>0.033</td>\n",
       "      <td>-0.180</td>\n",
       "      <td>-0.076</td>\n",
       "      <td>Q61H</td>\n",
       "    </tr>\n",
       "    <tr>\n",
       "      <th>β[3]</th>\n",
       "      <td>-0.016</td>\n",
       "      <td>0.010</td>\n",
       "      <td>-0.029</td>\n",
       "      <td>0.001</td>\n",
       "      <td>G13D</td>\n",
       "    </tr>\n",
       "    <tr>\n",
       "      <th>β[4]</th>\n",
       "      <td>-0.059</td>\n",
       "      <td>0.012</td>\n",
       "      <td>-0.080</td>\n",
       "      <td>-0.041</td>\n",
       "      <td>G12C</td>\n",
       "    </tr>\n",
       "    <tr>\n",
       "      <th>β[5]</th>\n",
       "      <td>-0.009</td>\n",
       "      <td>0.011</td>\n",
       "      <td>-0.026</td>\n",
       "      <td>0.007</td>\n",
       "      <td>G12V</td>\n",
       "    </tr>\n",
       "    <tr>\n",
       "      <th>β[6]</th>\n",
       "      <td>-0.057</td>\n",
       "      <td>0.017</td>\n",
       "      <td>-0.088</td>\n",
       "      <td>-0.034</td>\n",
       "      <td>other</td>\n",
       "    </tr>\n",
       "    <tr>\n",
       "      <th>β[7]</th>\n",
       "      <td>-0.203</td>\n",
       "      <td>0.037</td>\n",
       "      <td>-0.259</td>\n",
       "      <td>-0.143</td>\n",
       "      <td>Q61L</td>\n",
       "    </tr>\n",
       "    <tr>\n",
       "      <th>β[8]</th>\n",
       "      <td>0.046</td>\n",
       "      <td>0.018</td>\n",
       "      <td>0.017</td>\n",
       "      <td>0.075</td>\n",
       "      <td>A146V</td>\n",
       "    </tr>\n",
       "    <tr>\n",
       "      <th>β[9]</th>\n",
       "      <td>-0.145</td>\n",
       "      <td>0.024</td>\n",
       "      <td>-0.183</td>\n",
       "      <td>-0.107</td>\n",
       "      <td>G12A</td>\n",
       "    </tr>\n",
       "  </tbody>\n",
       "</table>\n",
       "</div>"
      ],
      "text/plain": [
       "       mean     sd  hdi_5.5%  hdi_94.5% kras_mutation\n",
       "β[0] -0.037  0.009    -0.053     -0.024          G12D\n",
       "β[1] -0.009  0.004    -0.016     -0.002            WT\n",
       "β[2] -0.132  0.033    -0.180     -0.076          Q61H\n",
       "β[3] -0.016  0.010    -0.029      0.001          G13D\n",
       "β[4] -0.059  0.012    -0.080     -0.041          G12C\n",
       "β[5] -0.009  0.011    -0.026      0.007          G12V\n",
       "β[6] -0.057  0.017    -0.088     -0.034         other\n",
       "β[7] -0.203  0.037    -0.259     -0.143          Q61L\n",
       "β[8]  0.046  0.018     0.017      0.075         A146V\n",
       "β[9] -0.145  0.024    -0.183     -0.107          G12A"
      ]
     },
     "execution_count": 38,
     "metadata": {},
     "output_type": "execute_result"
    }
   ],
   "source": [
    "kras_posterior = az.summary(\n",
    "    az_sp2_kras, var_names=\"β\", hdi_prob=PYMC3.HDI_PROB, kind=\"stats\"\n",
    ")\n",
    "kras_posterior[\n",
    "    \"kras_mutation\"\n",
    "] = sp2_kras.data_manager.get_data().kras_mutation.cat.categories\n",
    "kras_posterior"
   ]
  },
  {
   "cell_type": "code",
   "execution_count": 43,
   "metadata": {},
   "outputs": [
    {
     "data": {
      "image/png": "[encoded data removed]",
      "text/plain": [
       "<Figure size 400x300 with 1 Axes>"
      ]
     },
     "metadata": {
      "image/png": {
       "height": 290,
       "width": 397
      }
     },
     "output_type": "display_data"
    },
    {
     "data": {
      "text/plain": [
       "<ggplot: (8729825443069)>"
      ]
     },
     "execution_count": 43,
     "metadata": {},
     "output_type": "execute_result"
    }
   ],
   "source": [
    "(\n",
    "    gg.ggplot(kras_posterior, gg.aes(x=\"kras_mutation\", y=\"mean\"))\n",
    "    + gg.geom_linerange(gg.aes(ymin=\"hdi_5.5%\", ymax=\"hdi_94.5%\"))\n",
    "    + gg.geom_point()\n",
    "    + gg.coord_flip()\n",
    "    + gg.theme(figure_size=(4, 3))\n",
    "    + gg.labs(x=\"$KRAS$ allele\", y=\"posterior (mean & 89% CI)\")\n",
    ")"
   ]
  },
  {
   "cell_type": "code",
   "execution_count": null,
   "metadata": {},
   "outputs": [],
   "source": []
  },
  {
   "cell_type": "code",
   "execution_count": null,
   "metadata": {},
   "outputs": [],
   "source": []
  },
  {
   "cell_type": "code",
   "execution_count": null,
   "metadata": {},
   "outputs": [],
   "source": []
  },
  {
   "cell_type": "code",
   "execution_count": null,
   "metadata": {},
   "outputs": [],
   "source": []
  },
  {
   "cell_type": "markdown",
   "metadata": {},
   "source": [
    "### Prediction accuracy"
   ]
  },
  {
   "cell_type": "code",
   "execution_count": null,
   "metadata": {},
   "outputs": [],
   "source": []
  },
  {
   "cell_type": "code",
   "execution_count": null,
   "metadata": {},
   "outputs": [],
   "source": []
  },
  {
   "cell_type": "code",
   "execution_count": null,
   "metadata": {},
   "outputs": [],
   "source": []
  },
  {
   "cell_type": "code",
   "execution_count": null,
   "metadata": {},
   "outputs": [],
   "source": []
  },
  {
   "cell_type": "markdown",
   "metadata": {},
   "source": [
    "### Model fit"
   ]
  },
  {
   "cell_type": "code",
   "execution_count": null,
   "metadata": {},
   "outputs": [],
   "source": []
  },
  {
   "cell_type": "code",
   "execution_count": null,
   "metadata": {},
   "outputs": [],
   "source": []
  },
  {
   "cell_type": "code",
   "execution_count": null,
   "metadata": {},
   "outputs": [],
   "source": []
  },
  {
   "cell_type": "code",
   "execution_count": null,
   "metadata": {},
   "outputs": [],
   "source": []
  },
  {
   "cell_type": "code",
   "execution_count": null,
   "metadata": {},
   "outputs": [],
   "source": []
  },
  {
   "cell_type": "markdown",
   "metadata": {},
   "source": [
    "---"
   ]
  },
  {
   "cell_type": "code",
   "execution_count": 5,
   "metadata": {},
   "outputs": [
    {
     "name": "stdout",
     "output_type": "stream",
     "text": [
      "execution time: 0.00 minutes\n"
     ]
    }
   ],
   "source": [
    "notebook_toc = time()\n",
    "print(f\"execution time: {(notebook_toc - notebook_tic) / 60:.2f} minutes\")"
   ]
  },
  {
   "cell_type": "code",
   "execution_count": 6,
   "metadata": {},
   "outputs": [
    {
     "name": "stdout",
     "output_type": "stream",
     "text": [
      "Last updated: 2021-04-29\n",
      "\n",
      "Python implementation: CPython\n",
      "Python version       : 3.9.2\n",
      "IPython version      : 7.22.0\n",
      "\n",
      "Compiler    : GCC 9.3.0\n",
      "OS          : Linux\n",
      "Release     : 3.10.0-1062.el7.x86_64\n",
      "Machine     : x86_64\n",
      "Processor   : x86_64\n",
      "CPU cores   : 28\n",
      "Architecture: 64bit\n",
      "\n",
      "Hostname: compute-e-16-231.o2.rc.hms.harvard.edu\n",
      "\n",
      "Git branch: optional-kras-cov\n",
      "\n",
      "plotnine  : 0.8.0\n",
      "numpy     : 1.20.2\n",
      "theano    : 1.0.5\n",
      "pandas    : 1.2.3\n",
      "pymc3     : 3.11.2\n",
      "re        : 2.2.1\n",
      "matplotlib: 3.4.1\n",
      "seaborn   : 0.11.1\n",
      "arviz     : 0.11.2\n",
      "\n"
     ]
    }
   ],
   "source": [
    "%load_ext watermark\n",
    "%watermark -d -u -v -iv -b -h -m"
   ]
  }
 ],
 "metadata": {
  "kernelspec": {
   "display_name": "Python 3",
   "language": "python",
   "name": "python3"
  },
  "language_info": {
   "codemirror_mode": {
    "name": "ipython",
    "version": 3
   },
   "file_extension": ".py",
   "mimetype": "text/x-python",
   "name": "python",
   "nbconvert_exporter": "python",
   "pygments_lexer": "ipython3",
   "version": "3.9.2"
  }
 },
 "nbformat": 4,
 "nbformat_minor": 4
}
