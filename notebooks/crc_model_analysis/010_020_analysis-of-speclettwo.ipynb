{
 "cells": [
  {
   "cell_type": "code",
   "execution_count": 1,
   "metadata": {},
   "outputs": [],
   "source": [
    "%load_ext autoreload\n",
    "%autoreload 2"
   ]
  },
  {
   "cell_type": "code",
   "execution_count": 2,
   "metadata": {
    "tags": []
   },
   "outputs": [],
   "source": [
    "import re\n",
    "import string\n",
    "import warnings\n",
    "from pathlib import Path\n",
    "from time import time\n",
    "\n",
    "import arviz as az\n",
    "import matplotlib.colors as mcolors\n",
    "import matplotlib.pyplot as plt\n",
    "import numpy as np\n",
    "import pandas as pd\n",
    "import plotnine as gg\n",
    "import pymc3 as pm\n",
    "import seaborn as sns\n",
    "from theano import tensor as tt"
   ]
  },
  {
   "cell_type": "code",
   "execution_count": 3,
   "metadata": {},
   "outputs": [],
   "source": [
    "from src.data_processing import achilles as achelp\n",
    "from src.data_processing import common as dphelp\n",
    "from src.io import cache_io\n",
    "from src.modeling import pymc3_analysis as pmanal\n",
    "from src.modeling import pymc3_sampling_api as pmapi\n",
    "from src.models.speclet_two import SpecletTwo\n",
    "from src.plot.color_pal import FitMethodColors, ModelColors, SeabornColor"
   ]
  },
  {
   "cell_type": "code",
   "execution_count": 4,
   "metadata": {},
   "outputs": [],
   "source": [
    "notebook_tic = time()\n",
    "\n",
    "warnings.simplefilter(action=\"ignore\", category=UserWarning)\n",
    "\n",
    "gg.theme_set(\n",
    "    gg.theme_bw()\n",
    "    + gg.theme(\n",
    "        figure_size=(4, 4),\n",
    "        axis_ticks_major=gg.element_blank(),\n",
    "        strip_background=gg.element_blank(),\n",
    "    )\n",
    ")\n",
    "%config InlineBackend.figure_format = \"retina\"\n",
    "\n",
    "RANDOM_SEED = 255\n",
    "np.random.seed(RANDOM_SEED)\n",
    "\n",
    "cache_dir = cache_io.default_cache_dir() / \"pymc3_model_cache\"\n",
    "cache_dir\n",
    "\n",
    "HDI_PROB = 0.89"
   ]
  },
  {
   "cell_type": "code",
   "execution_count": 5,
   "metadata": {},
   "outputs": [],
   "source": [
    "eb = gg.element_blank()"
   ]
  },
  {
   "cell_type": "code",
   "execution_count": 6,
   "metadata": {},
   "outputs": [],
   "source": [
    "sp_two = SpecletTwo(\n",
    "    \"SpecletTwo-debug\",\n",
    "    root_cache_dir=cache_dir / \"SpecletTwo-debug\",\n",
    "    debug=True,\n",
    "    kras_cov=False,\n",
    ")\n",
    "sp_two.advi_sampling_params.n_iterations = 40000"
   ]
  },
  {
   "cell_type": "code",
   "execution_count": 7,
   "metadata": {},
   "outputs": [
    {
     "data": {
      "text/html": [
       "<pre style=\"white-space:pre;overflow-x:auto;line-height:normal;font-family:Menlo,'DejaVu Sans Mono',consolas,'Courier New',monospace\"><span style=\"color: #7fbfbf; text-decoration-color: #7fbfbf\">[04/29/21 10:59:44] </span><span style=\"color: #000080; text-decoration-color: #000080\">INFO    </span> Calling `model_specification<span style=\"font-weight: bold\">()</span>` method.     <a href=\"file:///n/data2/dfci/cancerbio/haigis/Cook/speclet/src/models/speclet_model.py\"><span style=\"color: #7f7f7f; text-decoration-color: #7f7f7f\">speclet_model.py</span></a><span style=\"color: #7f7f7f; text-decoration-color: #7f7f7f\">:155</span>\n",
       "</pre>\n"
      ],
      "text/plain": [
       "\u001b[2;36m[04/29/21 10:59:44]\u001b[0m\u001b[2;36m \u001b[0m\u001b[34mINFO    \u001b[0m Calling `model_specification\u001b[1m(\u001b[0m\u001b[1m)\u001b[0m` method.     \u001b]8;id=1619708384.893004-133003;file:///n/data2/dfci/cancerbio/haigis/Cook/speclet/src/models/speclet_model.py\u001b\\\u001b[2mspeclet_model.py\u001b[0m\u001b]8;;\u001b\\\u001b[2m:155\u001b[0m\n"
      ]
     },
     "metadata": {},
     "output_type": "display_data"
    },
    {
     "data": {
      "text/html": [
       "<pre style=\"white-space:pre;overflow-x:auto;line-height:normal;font-family:Menlo,'DejaVu Sans Mono',consolas,'Courier New',monospace\"><span style=\"color: #7fbfbf; text-decoration-color: #7fbfbf\">                    </span><span style=\"color: #000080; text-decoration-color: #000080\">INFO    </span> Beginning PyMC3 model specification.           <a href=\"file:///n/data2/dfci/cancerbio/haigis/Cook/speclet/src/models/speclet_two.py\"><span style=\"color: #7f7f7f; text-decoration-color: #7f7f7f\">speclet_two.py</span></a><span style=\"color: #7f7f7f; text-decoration-color: #7f7f7f\">:78</span>\n",
       "</pre>\n"
      ],
      "text/plain": [
       "\u001b[2;36m                   \u001b[0m\u001b[2;36m \u001b[0m\u001b[34mINFO    \u001b[0m Beginning PyMC3 model specification.           \u001b]8;id=1619708384.8980966-268886;file:///n/data2/dfci/cancerbio/haigis/Cook/speclet/src/models/speclet_two.py\u001b\\\u001b[2mspeclet_two.py\u001b[0m\u001b]8;;\u001b\\\u001b[2m:78\u001b[0m\n"
      ]
     },
     "metadata": {},
     "output_type": "display_data"
    },
    {
     "data": {
      "text/html": [
       "<pre style=\"white-space:pre;overflow-x:auto;line-height:normal;font-family:Menlo,'DejaVu Sans Mono',consolas,'Courier New',monospace\"><span style=\"color: #7fbfbf; text-decoration-color: #7fbfbf\">[04/29/21 10:59:45] </span><span style=\"color: #800000; text-decoration-color: #800000\">WARNING </span> Dropping data points of sgRNA that    <a href=\"file:///n/data2/dfci/cancerbio/haigis/Cook/speclet/src/managers/model_data_managers.py\"><span style=\"color: #7f7f7f; text-decoration-color: #7f7f7f\">model_data_managers.py</span></a><span style=\"color: #7f7f7f; text-decoration-color: #7f7f7f\">:125</span>\n",
       "                             map to multiple genes.                                          \n",
       "</pre>\n"
      ],
      "text/plain": [
       "\u001b[2;36m[04/29/21 10:59:45]\u001b[0m\u001b[2;36m \u001b[0m\u001b[31mWARNING \u001b[0m Dropping data points of sgRNA that    \u001b]8;id=1619708385.3980815-131220;file:///n/data2/dfci/cancerbio/haigis/Cook/speclet/src/managers/model_data_managers.py\u001b\\\u001b[2mmodel_data_managers.py\u001b[0m\u001b]8;;\u001b\\\u001b[2m:125\u001b[0m\n",
       "                             map to multiple genes.                                          \n"
      ]
     },
     "metadata": {},
     "output_type": "display_data"
    },
    {
     "data": {
      "text/html": [
       "<pre style=\"white-space:pre;overflow-x:auto;line-height:normal;font-family:Menlo,'DejaVu Sans Mono',consolas,'Courier New',monospace\"><span style=\"color: #7fbfbf; text-decoration-color: #7fbfbf\">                    </span><span style=\"color: #800000; text-decoration-color: #800000\">WARNING </span> Dropping data points with missing     <a href=\"file:///n/data2/dfci/cancerbio/haigis/Cook/speclet/src/managers/model_data_managers.py\"><span style=\"color: #7f7f7f; text-decoration-color: #7f7f7f\">model_data_managers.py</span></a><span style=\"color: #7f7f7f; text-decoration-color: #7f7f7f\">:131</span>\n",
       "                             copy number.                                                    \n",
       "</pre>\n"
      ],
      "text/plain": [
       "\u001b[2;36m                   \u001b[0m\u001b[2;36m \u001b[0m\u001b[31mWARNING \u001b[0m Dropping data points with missing     \u001b]8;id=1619708385.4208102-100855;file:///n/data2/dfci/cancerbio/haigis/Cook/speclet/src/managers/model_data_managers.py\u001b\\\u001b[2mmodel_data_managers.py\u001b[0m\u001b]8;;\u001b\\\u001b[2m:131\u001b[0m\n",
       "                             copy number.                                                    \n"
      ]
     },
     "metadata": {},
     "output_type": "display_data"
    },
    {
     "data": {
      "text/html": [
       "<pre style=\"white-space:pre;overflow-x:auto;line-height:normal;font-family:Menlo,'DejaVu Sans Mono',consolas,'Courier New',monospace\"><span style=\"color: #7fbfbf; text-decoration-color: #7fbfbf\">                    </span><span style=\"color: #000080; text-decoration-color: #000080\">INFO    </span> Getting Theano shared variables.               <a href=\"file:///n/data2/dfci/cancerbio/haigis/Cook/speclet/src/models/speclet_two.py\"><span style=\"color: #7f7f7f; text-decoration-color: #7f7f7f\">speclet_two.py</span></a><span style=\"color: #7f7f7f; text-decoration-color: #7f7f7f\">:85</span>\n",
       "</pre>\n"
      ],
      "text/plain": [
       "\u001b[2;36m                   \u001b[0m\u001b[2;36m \u001b[0m\u001b[34mINFO    \u001b[0m Getting Theano shared variables.               \u001b]8;id=1619708385.4469106-616231;file:///n/data2/dfci/cancerbio/haigis/Cook/speclet/src/models/speclet_two.py\u001b\\\u001b[2mspeclet_two.py\u001b[0m\u001b]8;;\u001b\\\u001b[2m:85\u001b[0m\n"
      ]
     },
     "metadata": {},
     "output_type": "display_data"
    },
    {
     "data": {
      "text/html": [
       "<pre style=\"white-space:pre;overflow-x:auto;line-height:normal;font-family:Menlo,'DejaVu Sans Mono',consolas,'Courier New',monospace\"><span style=\"color: #7fbfbf; text-decoration-color: #7fbfbf\">                    </span><span style=\"color: #000080; text-decoration-color: #000080\">INFO    </span> Creating PyMC3 model.                          <a href=\"file:///n/data2/dfci/cancerbio/haigis/Cook/speclet/src/models/speclet_two.py\"><span style=\"color: #7f7f7f; text-decoration-color: #7f7f7f\">speclet_two.py</span></a><span style=\"color: #7f7f7f; text-decoration-color: #7f7f7f\">:93</span>\n",
       "</pre>\n"
      ],
      "text/plain": [
       "\u001b[2;36m                   \u001b[0m\u001b[2;36m \u001b[0m\u001b[34mINFO    \u001b[0m Creating PyMC3 model.                          \u001b]8;id=1619708385.4556694-679450;file:///n/data2/dfci/cancerbio/haigis/Cook/speclet/src/models/speclet_two.py\u001b\\\u001b[2mspeclet_two.py\u001b[0m\u001b]8;;\u001b\\\u001b[2m:93\u001b[0m\n"
      ]
     },
     "metadata": {},
     "output_type": "display_data"
    },
    {
     "data": {
      "text/html": [
       "<pre style=\"white-space:pre;overflow-x:auto;line-height:normal;font-family:Menlo,'DejaVu Sans Mono',consolas,'Courier New',monospace\"><span style=\"color: #7fbfbf; text-decoration-color: #7fbfbf\">[04/29/21 11:00:37] </span><span style=\"color: #000080; text-decoration-color: #000080\">INFO    </span> Returning results from cache.               <a href=\"file:///n/data2/dfci/cancerbio/haigis/Cook/speclet/src/models/speclet_model.py\"><span style=\"color: #7f7f7f; text-decoration-color: #7f7f7f\">speclet_model.py</span></a><span style=\"color: #7f7f7f; text-decoration-color: #7f7f7f\">:247</span>\n",
       "</pre>\n"
      ],
      "text/plain": [
       "\u001b[2;36m[04/29/21 11:00:37]\u001b[0m\u001b[2;36m \u001b[0m\u001b[34mINFO    \u001b[0m Returning results from cache.               \u001b]8;id=1619708437.2085602-933185;file:///n/data2/dfci/cancerbio/haigis/Cook/speclet/src/models/speclet_model.py\u001b\\\u001b[2mspeclet_model.py\u001b[0m\u001b]8;;\u001b\\\u001b[2m:247\u001b[0m\n"
      ]
     },
     "metadata": {},
     "output_type": "display_data"
    }
   ],
   "source": [
    "sp_two.build_model()\n",
    "if sp_two.cache_manager.mcmc_cache_exists():\n",
    "    _ = sp_two.mcmc_sample_model()"
   ]
  },
  {
   "cell_type": "code",
   "execution_count": 8,
   "metadata": {},
   "outputs": [
    {
     "name": "stderr",
     "output_type": "stream",
     "text": [
      "/home/jc604/.conda/envs/speclet/lib/python3.9/site-packages/pymc3/data.py:316: FutureWarning: Using a non-tuple sequence for multidimensional indexing is deprecated; use `arr[tuple(seq)]` instead of `arr[seq]`. In the future this will be interpreted as an array index, `arr[np.array(seq)]`, which will result either in an error or a different result.\n",
      "/home/jc604/.conda/envs/speclet/lib/python3.9/site-packages/pymc3/data.py:316: FutureWarning: Using a non-tuple sequence for multidimensional indexing is deprecated; use `arr[tuple(seq)]` instead of `arr[seq]`. In the future this will be interpreted as an array index, `arr[np.array(seq)]`, which will result either in an error or a different result.\n"
     ]
    },
    {
     "data": {
      "text/html": [
       "<pre style=\"white-space:pre;overflow-x:auto;line-height:normal;font-family:Menlo,'DejaVu Sans Mono',consolas,'Courier New',monospace\"><span style=\"color: #7fbfbf; text-decoration-color: #7fbfbf\">[04/29/21 11:01:41] </span><span style=\"color: #000080; text-decoration-color: #000080\">INFO    </span> Returning results from cache.               <a href=\"file:///n/data2/dfci/cancerbio/haigis/Cook/speclet/src/models/speclet_model.py\"><span style=\"color: #7f7f7f; text-decoration-color: #7f7f7f\">speclet_model.py</span></a><span style=\"color: #7f7f7f; text-decoration-color: #7f7f7f\">:367</span>\n",
       "</pre>\n"
      ],
      "text/plain": [
       "\u001b[2;36m[04/29/21 11:01:41]\u001b[0m\u001b[2;36m \u001b[0m\u001b[34mINFO    \u001b[0m Returning results from cache.               \u001b]8;id=1619708501.6237288-904265;file:///n/data2/dfci/cancerbio/haigis/Cook/speclet/src/models/speclet_model.py\u001b\\\u001b[2mspeclet_model.py\u001b[0m\u001b]8;;\u001b\\\u001b[2m:367\u001b[0m\n"
      ]
     },
     "metadata": {},
     "output_type": "display_data"
    }
   ],
   "source": [
    "_ = sp_two.advi_sample_model(ignore_cache=False)"
   ]
  },
  {
   "cell_type": "code",
   "execution_count": 9,
   "metadata": {},
   "outputs": [
    {
     "ename": "KeyError",
     "evalue": "'μ_α'",
     "output_type": "error",
     "traceback": [
      "\u001b[0;31m---------------------------------------------------------------------------\u001b[0m",
      "\u001b[0;31mKeyError\u001b[0m                                  Traceback (most recent call last)",
      "\u001b[0;32m<ipython-input-9-b63253ec3df2>\u001b[0m in \u001b[0;36m<module>\u001b[0;34m\u001b[0m\n\u001b[0;32m----> 1\u001b[0;31m \u001b[0maz_sptwo_mcmc\u001b[0m \u001b[0;34m=\u001b[0m \u001b[0mpmapi\u001b[0m\u001b[0;34m.\u001b[0m\u001b[0mconvert_samples_to_arviz\u001b[0m\u001b[0;34m(\u001b[0m\u001b[0msp_two\u001b[0m\u001b[0;34m.\u001b[0m\u001b[0mmodel\u001b[0m\u001b[0;34m,\u001b[0m \u001b[0msp_two\u001b[0m\u001b[0;34m.\u001b[0m\u001b[0mmcmc_results\u001b[0m\u001b[0;34m)\u001b[0m\u001b[0;34m\u001b[0m\u001b[0;34m\u001b[0m\u001b[0m\n\u001b[0m\u001b[1;32m      2\u001b[0m \u001b[0maz_sptwo_advi\u001b[0m \u001b[0;34m=\u001b[0m \u001b[0mpmapi\u001b[0m\u001b[0;34m.\u001b[0m\u001b[0mconvert_samples_to_arviz\u001b[0m\u001b[0;34m(\u001b[0m\u001b[0msp_two\u001b[0m\u001b[0;34m.\u001b[0m\u001b[0mmodel\u001b[0m\u001b[0;34m,\u001b[0m \u001b[0msp_two\u001b[0m\u001b[0;34m.\u001b[0m\u001b[0madvi_results\u001b[0m\u001b[0;34m)\u001b[0m\u001b[0;34m\u001b[0m\u001b[0;34m\u001b[0m\u001b[0m\n",
      "\u001b[0;32m/n/data2/dfci/cancerbio/haigis/Cook/speclet/src/modeling/pymc3_sampling_api.py\u001b[0m in \u001b[0;36mconvert_samples_to_arviz\u001b[0;34m(model, res)\u001b[0m\n\u001b[1;32m     68\u001b[0m         \u001b[0maz\u001b[0m\u001b[0;34m.\u001b[0m\u001b[0mInferenceData\u001b[0m\u001b[0;34m:\u001b[0m \u001b[0mA\u001b[0m \u001b[0mstandard\u001b[0m \u001b[0mArviZ\u001b[0m \u001b[0mdata\u001b[0m \u001b[0mobject\u001b[0m\u001b[0;34m.\u001b[0m\u001b[0;34m\u001b[0m\u001b[0;34m\u001b[0m\u001b[0m\n\u001b[1;32m     69\u001b[0m     \"\"\"\n\u001b[0;32m---> 70\u001b[0;31m     return az.from_pymc3(\n\u001b[0m\u001b[1;32m     71\u001b[0m         \u001b[0mtrace\u001b[0m\u001b[0;34m=\u001b[0m\u001b[0mres\u001b[0m\u001b[0;34m.\u001b[0m\u001b[0mtrace\u001b[0m\u001b[0;34m,\u001b[0m\u001b[0;34m\u001b[0m\u001b[0;34m\u001b[0m\u001b[0m\n\u001b[1;32m     72\u001b[0m         \u001b[0mmodel\u001b[0m\u001b[0;34m=\u001b[0m\u001b[0mmodel\u001b[0m\u001b[0;34m,\u001b[0m\u001b[0;34m\u001b[0m\u001b[0;34m\u001b[0m\u001b[0m\n",
      "\u001b[0;32m~/.conda/envs/speclet/lib/python3.9/site-packages/arviz/data/io_pymc3.py\u001b[0m in \u001b[0;36mfrom_pymc3\u001b[0;34m(trace, prior, posterior_predictive, log_likelihood, coords, dims, model, save_warmup, density_dist_obs)\u001b[0m\n\u001b[1;32m    561\u001b[0m     \u001b[0mInferenceData\u001b[0m\u001b[0;34m\u001b[0m\u001b[0;34m\u001b[0m\u001b[0m\n\u001b[1;32m    562\u001b[0m     \"\"\"\n\u001b[0;32m--> 563\u001b[0;31m     return PyMC3Converter(\n\u001b[0m\u001b[1;32m    564\u001b[0m         \u001b[0mtrace\u001b[0m\u001b[0;34m=\u001b[0m\u001b[0mtrace\u001b[0m\u001b[0;34m,\u001b[0m\u001b[0;34m\u001b[0m\u001b[0;34m\u001b[0m\u001b[0m\n\u001b[1;32m    565\u001b[0m         \u001b[0mprior\u001b[0m\u001b[0;34m=\u001b[0m\u001b[0mprior\u001b[0m\u001b[0;34m,\u001b[0m\u001b[0;34m\u001b[0m\u001b[0;34m\u001b[0m\u001b[0m\n",
      "\u001b[0;32m~/.conda/envs/speclet/lib/python3.9/site-packages/arviz/data/io_pymc3.py\u001b[0m in \u001b[0;36mto_inference_data\u001b[0;34m(self)\u001b[0m\n\u001b[1;32m    495\u001b[0m         \"\"\"\n\u001b[1;32m    496\u001b[0m         id_dict = {\n\u001b[0;32m--> 497\u001b[0;31m             \u001b[0;34m\"posterior\"\u001b[0m\u001b[0;34m:\u001b[0m \u001b[0mself\u001b[0m\u001b[0;34m.\u001b[0m\u001b[0mposterior_to_xarray\u001b[0m\u001b[0;34m(\u001b[0m\u001b[0;34m)\u001b[0m\u001b[0;34m,\u001b[0m\u001b[0;34m\u001b[0m\u001b[0;34m\u001b[0m\u001b[0m\n\u001b[0m\u001b[1;32m    498\u001b[0m             \u001b[0;34m\"sample_stats\"\u001b[0m\u001b[0;34m:\u001b[0m \u001b[0mself\u001b[0m\u001b[0;34m.\u001b[0m\u001b[0msample_stats_to_xarray\u001b[0m\u001b[0;34m(\u001b[0m\u001b[0;34m)\u001b[0m\u001b[0;34m,\u001b[0m\u001b[0;34m\u001b[0m\u001b[0;34m\u001b[0m\u001b[0m\n\u001b[1;32m    499\u001b[0m             \u001b[0;34m\"log_likelihood\"\u001b[0m\u001b[0;34m:\u001b[0m \u001b[0mself\u001b[0m\u001b[0;34m.\u001b[0m\u001b[0mlog_likelihood_to_xarray\u001b[0m\u001b[0;34m(\u001b[0m\u001b[0;34m)\u001b[0m\u001b[0;34m,\u001b[0m\u001b[0;34m\u001b[0m\u001b[0;34m\u001b[0m\u001b[0m\n",
      "\u001b[0;32m~/.conda/envs/speclet/lib/python3.9/site-packages/arviz/data/base.py\u001b[0m in \u001b[0;36mwrapped\u001b[0;34m(cls, *args, **kwargs)\u001b[0m\n\u001b[1;32m     44\u001b[0m                 \u001b[0;32mif\u001b[0m \u001b[0mall\u001b[0m\u001b[0;34m(\u001b[0m\u001b[0;34m[\u001b[0m\u001b[0mgetattr\u001b[0m\u001b[0;34m(\u001b[0m\u001b[0mcls\u001b[0m\u001b[0;34m,\u001b[0m \u001b[0mprop_i\u001b[0m\u001b[0;34m)\u001b[0m \u001b[0;32mis\u001b[0m \u001b[0;32mNone\u001b[0m \u001b[0;32mfor\u001b[0m \u001b[0mprop_i\u001b[0m \u001b[0;32min\u001b[0m \u001b[0mprop\u001b[0m\u001b[0;34m]\u001b[0m\u001b[0;34m)\u001b[0m\u001b[0;34m:\u001b[0m\u001b[0;34m\u001b[0m\u001b[0;34m\u001b[0m\u001b[0m\n\u001b[1;32m     45\u001b[0m                     \u001b[0;32mreturn\u001b[0m \u001b[0;32mNone\u001b[0m\u001b[0;34m\u001b[0m\u001b[0;34m\u001b[0m\u001b[0m\n\u001b[0;32m---> 46\u001b[0;31m             \u001b[0;32mreturn\u001b[0m \u001b[0mfunc\u001b[0m\u001b[0;34m(\u001b[0m\u001b[0mcls\u001b[0m\u001b[0;34m,\u001b[0m \u001b[0;34m*\u001b[0m\u001b[0margs\u001b[0m\u001b[0;34m,\u001b[0m \u001b[0;34m**\u001b[0m\u001b[0mkwargs\u001b[0m\u001b[0;34m)\u001b[0m\u001b[0;34m\u001b[0m\u001b[0;34m\u001b[0m\u001b[0m\n\u001b[0m\u001b[1;32m     47\u001b[0m \u001b[0;34m\u001b[0m\u001b[0m\n\u001b[1;32m     48\u001b[0m         \u001b[0;32mreturn\u001b[0m \u001b[0mwrapped\u001b[0m\u001b[0;34m\u001b[0m\u001b[0;34m\u001b[0m\u001b[0m\n",
      "\u001b[0;32m~/.conda/envs/speclet/lib/python3.9/site-packages/arviz/data/io_pymc3.py\u001b[0m in \u001b[0;36mposterior_to_xarray\u001b[0;34m(self)\u001b[0m\n\u001b[1;32m    264\u001b[0m             \u001b[0;32mif\u001b[0m \u001b[0mself\u001b[0m\u001b[0;34m.\u001b[0m\u001b[0mposterior_trace\u001b[0m\u001b[0;34m:\u001b[0m\u001b[0;34m\u001b[0m\u001b[0;34m\u001b[0m\u001b[0m\n\u001b[1;32m    265\u001b[0m                 data[var_name] = np.array(\n\u001b[0;32m--> 266\u001b[0;31m                     \u001b[0mself\u001b[0m\u001b[0;34m.\u001b[0m\u001b[0mposterior_trace\u001b[0m\u001b[0;34m.\u001b[0m\u001b[0mget_values\u001b[0m\u001b[0;34m(\u001b[0m\u001b[0mvar_name\u001b[0m\u001b[0;34m,\u001b[0m \u001b[0mcombine\u001b[0m\u001b[0;34m=\u001b[0m\u001b[0;32mFalse\u001b[0m\u001b[0;34m,\u001b[0m \u001b[0msqueeze\u001b[0m\u001b[0;34m=\u001b[0m\u001b[0;32mFalse\u001b[0m\u001b[0;34m)\u001b[0m\u001b[0;34m\u001b[0m\u001b[0;34m\u001b[0m\u001b[0m\n\u001b[0m\u001b[1;32m    267\u001b[0m                 )\n\u001b[1;32m    268\u001b[0m         return (\n",
      "\u001b[0;32m~/.conda/envs/speclet/lib/python3.9/site-packages/pymc3/backends/base.py\u001b[0m in \u001b[0;36mget_values\u001b[0;34m(self, varname, burn, thin, combine, chains, squeeze)\u001b[0m\n\u001b[1;32m    485\u001b[0m         \u001b[0mvarname\u001b[0m \u001b[0;34m=\u001b[0m \u001b[0mget_var_name\u001b[0m\u001b[0;34m(\u001b[0m\u001b[0mvarname\u001b[0m\u001b[0;34m)\u001b[0m\u001b[0;34m\u001b[0m\u001b[0;34m\u001b[0m\u001b[0m\n\u001b[1;32m    486\u001b[0m         \u001b[0;32mtry\u001b[0m\u001b[0;34m:\u001b[0m\u001b[0;34m\u001b[0m\u001b[0;34m\u001b[0m\u001b[0m\n\u001b[0;32m--> 487\u001b[0;31m             \u001b[0mresults\u001b[0m \u001b[0;34m=\u001b[0m \u001b[0;34m[\u001b[0m\u001b[0mself\u001b[0m\u001b[0;34m.\u001b[0m\u001b[0m_straces\u001b[0m\u001b[0;34m[\u001b[0m\u001b[0mchain\u001b[0m\u001b[0;34m]\u001b[0m\u001b[0;34m.\u001b[0m\u001b[0mget_values\u001b[0m\u001b[0;34m(\u001b[0m\u001b[0mvarname\u001b[0m\u001b[0;34m,\u001b[0m \u001b[0mburn\u001b[0m\u001b[0;34m,\u001b[0m \u001b[0mthin\u001b[0m\u001b[0;34m)\u001b[0m \u001b[0;32mfor\u001b[0m \u001b[0mchain\u001b[0m \u001b[0;32min\u001b[0m \u001b[0mchains\u001b[0m\u001b[0;34m]\u001b[0m\u001b[0;34m\u001b[0m\u001b[0;34m\u001b[0m\u001b[0m\n\u001b[0m\u001b[1;32m    488\u001b[0m         \u001b[0;32mexcept\u001b[0m \u001b[0mTypeError\u001b[0m\u001b[0;34m:\u001b[0m  \u001b[0;31m# Single chain passed.\u001b[0m\u001b[0;34m\u001b[0m\u001b[0;34m\u001b[0m\u001b[0m\n\u001b[1;32m    489\u001b[0m             \u001b[0mresults\u001b[0m \u001b[0;34m=\u001b[0m \u001b[0;34m[\u001b[0m\u001b[0mself\u001b[0m\u001b[0;34m.\u001b[0m\u001b[0m_straces\u001b[0m\u001b[0;34m[\u001b[0m\u001b[0mchains\u001b[0m\u001b[0;34m]\u001b[0m\u001b[0;34m.\u001b[0m\u001b[0mget_values\u001b[0m\u001b[0;34m(\u001b[0m\u001b[0mvarname\u001b[0m\u001b[0;34m,\u001b[0m \u001b[0mburn\u001b[0m\u001b[0;34m,\u001b[0m \u001b[0mthin\u001b[0m\u001b[0;34m)\u001b[0m\u001b[0;34m]\u001b[0m\u001b[0;34m\u001b[0m\u001b[0;34m\u001b[0m\u001b[0m\n",
      "\u001b[0;32m~/.conda/envs/speclet/lib/python3.9/site-packages/pymc3/backends/base.py\u001b[0m in \u001b[0;36m<listcomp>\u001b[0;34m(.0)\u001b[0m\n\u001b[1;32m    485\u001b[0m         \u001b[0mvarname\u001b[0m \u001b[0;34m=\u001b[0m \u001b[0mget_var_name\u001b[0m\u001b[0;34m(\u001b[0m\u001b[0mvarname\u001b[0m\u001b[0;34m)\u001b[0m\u001b[0;34m\u001b[0m\u001b[0;34m\u001b[0m\u001b[0m\n\u001b[1;32m    486\u001b[0m         \u001b[0;32mtry\u001b[0m\u001b[0;34m:\u001b[0m\u001b[0;34m\u001b[0m\u001b[0;34m\u001b[0m\u001b[0m\n\u001b[0;32m--> 487\u001b[0;31m             \u001b[0mresults\u001b[0m \u001b[0;34m=\u001b[0m \u001b[0;34m[\u001b[0m\u001b[0mself\u001b[0m\u001b[0;34m.\u001b[0m\u001b[0m_straces\u001b[0m\u001b[0;34m[\u001b[0m\u001b[0mchain\u001b[0m\u001b[0;34m]\u001b[0m\u001b[0;34m.\u001b[0m\u001b[0mget_values\u001b[0m\u001b[0;34m(\u001b[0m\u001b[0mvarname\u001b[0m\u001b[0;34m,\u001b[0m \u001b[0mburn\u001b[0m\u001b[0;34m,\u001b[0m \u001b[0mthin\u001b[0m\u001b[0;34m)\u001b[0m \u001b[0;32mfor\u001b[0m \u001b[0mchain\u001b[0m \u001b[0;32min\u001b[0m \u001b[0mchains\u001b[0m\u001b[0;34m]\u001b[0m\u001b[0;34m\u001b[0m\u001b[0;34m\u001b[0m\u001b[0m\n\u001b[0m\u001b[1;32m    488\u001b[0m         \u001b[0;32mexcept\u001b[0m \u001b[0mTypeError\u001b[0m\u001b[0;34m:\u001b[0m  \u001b[0;31m# Single chain passed.\u001b[0m\u001b[0;34m\u001b[0m\u001b[0;34m\u001b[0m\u001b[0m\n\u001b[1;32m    489\u001b[0m             \u001b[0mresults\u001b[0m \u001b[0;34m=\u001b[0m \u001b[0;34m[\u001b[0m\u001b[0mself\u001b[0m\u001b[0;34m.\u001b[0m\u001b[0m_straces\u001b[0m\u001b[0;34m[\u001b[0m\u001b[0mchains\u001b[0m\u001b[0;34m]\u001b[0m\u001b[0;34m.\u001b[0m\u001b[0mget_values\u001b[0m\u001b[0;34m(\u001b[0m\u001b[0mvarname\u001b[0m\u001b[0;34m,\u001b[0m \u001b[0mburn\u001b[0m\u001b[0;34m,\u001b[0m \u001b[0mthin\u001b[0m\u001b[0;34m)\u001b[0m\u001b[0;34m]\u001b[0m\u001b[0;34m\u001b[0m\u001b[0;34m\u001b[0m\u001b[0m\n",
      "\u001b[0;32m~/.conda/envs/speclet/lib/python3.9/site-packages/pymc3/backends/ndarray.py\u001b[0m in \u001b[0;36mget_values\u001b[0;34m(self, varname, burn, thin)\u001b[0m\n\u001b[1;32m    330\u001b[0m         \u001b[0mA\u001b[0m \u001b[0mNumPy\u001b[0m \u001b[0marray\u001b[0m\u001b[0;34m\u001b[0m\u001b[0;34m\u001b[0m\u001b[0m\n\u001b[1;32m    331\u001b[0m         \"\"\"\n\u001b[0;32m--> 332\u001b[0;31m         \u001b[0;32mreturn\u001b[0m \u001b[0mself\u001b[0m\u001b[0;34m.\u001b[0m\u001b[0msamples\u001b[0m\u001b[0;34m[\u001b[0m\u001b[0mvarname\u001b[0m\u001b[0;34m]\u001b[0m\u001b[0;34m[\u001b[0m\u001b[0mburn\u001b[0m\u001b[0;34m:\u001b[0m\u001b[0;34m:\u001b[0m\u001b[0mthin\u001b[0m\u001b[0;34m]\u001b[0m\u001b[0;34m\u001b[0m\u001b[0;34m\u001b[0m\u001b[0m\n\u001b[0m\u001b[1;32m    333\u001b[0m \u001b[0;34m\u001b[0m\u001b[0m\n\u001b[1;32m    334\u001b[0m     \u001b[0;32mdef\u001b[0m \u001b[0m_slice\u001b[0m\u001b[0;34m(\u001b[0m\u001b[0mself\u001b[0m\u001b[0;34m,\u001b[0m \u001b[0midx\u001b[0m\u001b[0;34m)\u001b[0m\u001b[0;34m:\u001b[0m\u001b[0;34m\u001b[0m\u001b[0;34m\u001b[0m\u001b[0m\n",
      "\u001b[0;31mKeyError\u001b[0m: 'μ_α'"
     ]
    }
   ],
   "source": [
    "az_sptwo_mcmc = pmapi.convert_samples_to_arviz(sp_two.model, sp_two.mcmc_results)\n",
    "az_sptwo_advi = pmapi.convert_samples_to_arviz(sp_two.model, sp_two.advi_results)"
   ]
  },
  {
   "cell_type": "code",
   "execution_count": null,
   "metadata": {},
   "outputs": [],
   "source": [
    "pm.model_to_graphviz(sp_two.model)"
   ]
  },
  {
   "cell_type": "markdown",
   "metadata": {},
   "source": [
    "## MCMC Diagnostics"
   ]
  },
  {
   "cell_type": "code",
   "execution_count": null,
   "metadata": {},
   "outputs": [],
   "source": [
    "hyperparams_var_names = [\"μ_η\", \"σ_η\", \"μ_ɑ\", \"σ_ɑ\", \"σ_σ\"]\n",
    "az.plot_trace(az_sptwo_mcmc, var_names=hyperparams_var_names);"
   ]
  },
  {
   "cell_type": "code",
   "execution_count": null,
   "metadata": {},
   "outputs": [],
   "source": [
    "az.plot_energy(az_sptwo_mcmc);"
   ]
  },
  {
   "cell_type": "code",
   "execution_count": null,
   "metadata": {},
   "outputs": [],
   "source": [
    "for kind in [\"quantile\", \"local\", \"evolution\"]:\n",
    "    print(kind.upper())\n",
    "    az.plot_ess(az_sptwo_mcmc, var_names=hyperparams_var_names, kind=kind)\n",
    "    plt.show()\n",
    "    print(\"-\" * 80)"
   ]
  },
  {
   "cell_type": "markdown",
   "metadata": {},
   "source": [
    "## ADVI Diagnostics"
   ]
  },
  {
   "cell_type": "code",
   "execution_count": null,
   "metadata": {},
   "outputs": [],
   "source": [
    "advi_loss = sp_two.advi_results.approximation.hist\n",
    "advi_loss.shape"
   ]
  },
  {
   "cell_type": "code",
   "execution_count": null,
   "metadata": {},
   "outputs": [],
   "source": [
    "ax = sns.lineplot(x=np.arange(len(advi_loss)), y=advi_loss)\n",
    "ax.set_yscale(\"log\")"
   ]
  },
  {
   "cell_type": "markdown",
   "metadata": {},
   "source": [
    "## Comparing paramerter estimates"
   ]
  },
  {
   "cell_type": "code",
   "execution_count": null,
   "metadata": {},
   "outputs": [],
   "source": [
    "fig, axes = plt.subplots(nrows=1, ncols=2, figsize=(10, 4))\n",
    "for ax, az_obj in zip(axes.flatten(), [az_sptwo_mcmc, az_sptwo_advi]):\n",
    "    az.plot_forest(az_obj, var_names=\"η\", hdi_prob=HDI_PROB, ax=ax)\n",
    "plt.show()"
   ]
  },
  {
   "cell_type": "code",
   "execution_count": null,
   "metadata": {},
   "outputs": [],
   "source": [
    "alpha_posterior = pd.DataFrame()\n",
    "\n",
    "for fit_method, az_obj in zip((\"MCMC\", \"ADVI\"), [az_sptwo_mcmc, az_sptwo_advi]):\n",
    "    df = az.summary(az_obj, var_names=\"ɑ\", hdi_prob=HDI_PROB, kind=\"stats\").reset_index(\n",
    "        drop=False\n",
    "    )\n",
    "    df = pmanal.extract_matrix_variable_indices(\n",
    "        df,\n",
    "        col=\"index\",\n",
    "        idx1=sp_two.data_manager.get_data()[\"hugo_symbol\"].cat.categories,\n",
    "        idx2=sp_two.data_manager.get_data()[\"depmap_id\"].cat.categories,\n",
    "        idx1name=\"hugo_symbol\",\n",
    "        idx2name=\"depmap_id\",\n",
    "    ).assign(fit_method=fit_method)\n",
    "    alpha_posterior = pd.concat([alpha_posterior, df])"
   ]
  },
  {
   "cell_type": "code",
   "execution_count": null,
   "metadata": {},
   "outputs": [],
   "source": [
    "fit_method_pal = {\n",
    "    \"MCMC\": FitMethodColors.pymc3_mcmc,\n",
    "    \"ADVI\": FitMethodColors.pymc3_advi,\n",
    "}\n",
    "\n",
    "(\n",
    "    gg.ggplot(alpha_posterior, gg.aes(x=\"depmap_id\", y=\"mean\", color=\"fit_method\"))\n",
    "    + gg.geom_hline(yintercept=0)\n",
    "    + gg.geom_boxplot(gg.aes(fill=\"fit_method\"), outlier_size=0.2, alpha=0.5)\n",
    "    + gg.scale_color_manual(values=fit_method_pal)\n",
    "    + gg.scale_fill_manual(values=fit_method_pal)\n",
    "    + gg.theme(figure_size=(8, 3), axis_text_x=gg.element_text(angle=90))\n",
    "    + gg.labs(x=\"cell line DepMap ID\", y=\"mean posterior of α\", color=\"fit method\")\n",
    ")"
   ]
  },
  {
   "cell_type": "code",
   "execution_count": null,
   "metadata": {},
   "outputs": [],
   "source": [
    "SELECT_CL = \"ACH-000009\"\n",
    "\n",
    "pos = gg.position_dodge(width=0.8)\n",
    "\n",
    "(\n",
    "    gg.ggplot(\n",
    "        alpha_posterior.query(f\"depmap_id == '{SELECT_CL}'\"),\n",
    "        gg.aes(x=\"hugo_symbol\", y=\"mean\", color=\"fit_method\"),\n",
    "    )\n",
    "    + gg.geom_hline(yintercept=0, alpha=0.5)\n",
    "    + gg.geom_linerange(\n",
    "        gg.aes(ymin=\"hdi_5.5%\", ymax=\"hdi_94.5%\"),\n",
    "        position=pos,\n",
    "        size=0.4,\n",
    "        alpha=0.75,\n",
    "        show_legend=False,\n",
    "    )\n",
    "    + gg.geom_point(position=pos, size=0.7)\n",
    "    + gg.scale_color_manual(values=fit_method_pal)\n",
    "    + gg.theme(\n",
    "        figure_size=(11, 3),\n",
    "        axis_text_x=gg.element_text(angle=90, size=6),\n",
    "        legend_position=(0.192, 0.80),\n",
    "        legend_direction=\"horizontal\",\n",
    "        legend_background=eb,\n",
    "    )\n",
    "    + gg.labs(x=\"gene\", y=\"posterior of α (89% CI)\", color=\"fit method\")\n",
    ")"
   ]
  },
  {
   "cell_type": "code",
   "execution_count": null,
   "metadata": {},
   "outputs": [],
   "source": [
    "sp_two.data_manager.get_data().query(f\"depmap_id == '{SELECT_CL}'\").query(\"n_muts > 0\")[\n",
    "    [\"hugo_symbol\", \"n_muts\"]\n",
    "].reset_index(drop=True).drop_duplicates()"
   ]
  },
  {
   "cell_type": "code",
   "execution_count": null,
   "metadata": {},
   "outputs": [],
   "source": [
    "sp_two.data_manager.get_data().query(\"n_muts > 0\")[\n",
    "    [\"depmap_id\", \"hugo_symbol\"]\n",
    "].drop_duplicates().groupby(\"hugo_symbol\")[[\"depmap_id\"]].count().reset_index(\n",
    "    drop=False\n",
    ").sort_values(\n",
    "    \"depmap_id\", ascending=False\n",
    ").reset_index(\n",
    "    drop=True\n",
    ").head(\n",
    "    8\n",
    ")"
   ]
  },
  {
   "cell_type": "code",
   "execution_count": null,
   "metadata": {},
   "outputs": [],
   "source": [
    "SELECT_GENE = \"WASF3\"\n",
    "assert SELECT_GENE in alpha_posterior[\"hugo_symbol\"].unique()\n",
    "\n",
    "gene_mutants = (\n",
    "    sp_two.data_manager.get_data()\n",
    "    .query(f\"hugo_symbol == '{SELECT_GENE}'\")\n",
    "    .query(\"n_muts > 0\")\n",
    "    .depmap_id.unique()\n",
    ")\n",
    "print(f\"Num. mutants: {len(gene_mutants)}\")\n",
    "\n",
    "plot_df = (\n",
    "    alpha_posterior.query(f\"hugo_symbol == '{SELECT_GENE}'\")\n",
    "    .sort_values(\"mean\")\n",
    "    .reset_index(drop=True)\n",
    "    .assign(\n",
    "        depmap_id=lambda d: dphelp.make_cat(d, \"depmap_id\", ordered=True)[\"depmap_id\"],\n",
    "        is_mutated=lambda d: d.depmap_id.isin(gene_mutants),\n",
    "    )\n",
    ")\n",
    "\n",
    "(\n",
    "    gg.ggplot(\n",
    "        plot_df,\n",
    "        gg.aes(x=\"depmap_id\", y=\"mean\", color=\"fit_method\"),\n",
    "    )\n",
    "    + gg.geom_hline(yintercept=0, alpha=0.5)\n",
    "    + gg.geom_linerange(\n",
    "        gg.aes(ymin=\"hdi_5.5%\", ymax=\"hdi_94.5%\"),\n",
    "        position=pos,\n",
    "        size=0.4,\n",
    "        alpha=0.75,\n",
    "        show_legend=False,\n",
    "    )\n",
    "    + gg.geom_point(gg.aes(size=\"is_mutated\"), position=pos)\n",
    "    + gg.scale_color_manual(values=fit_method_pal)\n",
    "    + gg.scale_size_discrete(range=(1, 3))\n",
    "    + gg.theme(\n",
    "        figure_size=(8, 3),\n",
    "        axis_text_x=gg.element_text(angle=90, size=8),\n",
    "    )\n",
    "    + gg.labs(x=\"gene\", y=\"posterior of α (89% CI)\", color=\"fit method\")\n",
    ")"
   ]
  },
  {
   "cell_type": "code",
   "execution_count": null,
   "metadata": {},
   "outputs": [],
   "source": [
    "gene_data = sp_two.data_manager.get_data()[\n",
    "    [\"hugo_symbol\", \"depmap_id\", \"gene_cn\", \"z_log2_cn\", \"is_mutated\", \"rna_expr\"]\n",
    "].assign(\n",
    "    hugo_symbol=lambda d: d.hugo_symbol.astype(str),\n",
    "    depmap_id=lambda d: d.depmap_id.astype(str),\n",
    ")"
   ]
  },
  {
   "cell_type": "code",
   "execution_count": null,
   "metadata": {},
   "outputs": [],
   "source": [
    "alpha_posterior_extra = alpha_posterior.merge(\n",
    "    gene_data, on=[\"depmap_id\", \"hugo_symbol\"]\n",
    ")\n",
    "alpha_posterior_extra.head()"
   ]
  },
  {
   "cell_type": "code",
   "execution_count": null,
   "metadata": {},
   "outputs": [],
   "source": [
    "alpha_posterior_extra[\"gene_cn_rnd\"] = [\n",
    "    np.min([6.0, x]) for x in np.round(alpha_posterior_extra.gene_cn)\n",
    "]\n",
    "\n",
    "avg_cn_effect = (\n",
    "    alpha_posterior_extra.groupby(\"gene_cn_rnd\")[[\"mean\"]]\n",
    "    .mean()\n",
    "    .reset_index(drop=False)\n",
    ")\n",
    "\n",
    "(\n",
    "    gg.ggplot(\n",
    "        alpha_posterior_extra, gg.aes(x=\"factor(gene_cn_rnd.astype(int))\", y=\"mean\")\n",
    "    )\n",
    "    + gg.geom_boxplot(outlier_size=0.2, outlier_alpha=0.2)\n",
    "    + gg.geom_point(data=avg_cn_effect, color=SeabornColor.red)\n",
    "    + gg.geom_line(\n",
    "        group=\"a\", data=avg_cn_effect, color=SeabornColor.orange, alpha=1, size=0.7\n",
    "    )\n",
    "    + gg.theme(figure_size=(3, 3))\n",
    ")"
   ]
  },
  {
   "cell_type": "code",
   "execution_count": null,
   "metadata": {},
   "outputs": [],
   "source": []
  },
  {
   "cell_type": "code",
   "execution_count": null,
   "metadata": {},
   "outputs": [],
   "source": []
  },
  {
   "cell_type": "code",
   "execution_count": null,
   "metadata": {},
   "outputs": [],
   "source": []
  },
  {
   "cell_type": "code",
   "execution_count": null,
   "metadata": {},
   "outputs": [],
   "source": []
  },
  {
   "cell_type": "code",
   "execution_count": null,
   "metadata": {},
   "outputs": [],
   "source": []
  },
  {
   "cell_type": "code",
   "execution_count": null,
   "metadata": {},
   "outputs": [],
   "source": []
  },
  {
   "cell_type": "code",
   "execution_count": null,
   "metadata": {},
   "outputs": [],
   "source": []
  },
  {
   "cell_type": "code",
   "execution_count": null,
   "metadata": {},
   "outputs": [],
   "source": []
  },
  {
   "cell_type": "code",
   "execution_count": null,
   "metadata": {},
   "outputs": [],
   "source": []
  },
  {
   "cell_type": "markdown",
   "metadata": {},
   "source": [
    "## Comparing prediciton accuracy"
   ]
  },
  {
   "cell_type": "code",
   "execution_count": null,
   "metadata": {},
   "outputs": [],
   "source": [
    "for fit_method, az_obj in zip((\"MCMC\", \"ADVI\"), [az_sptwo_mcmc, az_sptwo_advi]):\n",
    "    ax = az.plot_ppc(az_sptwo_mcmc, num_pp_samples=50)\n",
    "    ax.set_title(fit_method)\n",
    "plt.show()"
   ]
  },
  {
   "cell_type": "code",
   "execution_count": null,
   "metadata": {},
   "outputs": [],
   "source": [
    "post_preds = sp_two.data_manager.get_data().copy()\n",
    "\n",
    "for fit_method, res in zip(\n",
    "    (\"mcmc\", \"advi\"), [sp_two.mcmc_results, sp_two.advi_results]\n",
    "):\n",
    "    post_preds = pmanal.summarize_posterior_predictions(\n",
    "        res.posterior_predictive[\"lfc\"],\n",
    "        hdi_prob=HDI_PROB,\n",
    "        merge_with=post_preds,\n",
    "        calc_error=True,\n",
    "        observed_y=\"lfc\",\n",
    "    ).rename(\n",
    "        columns={\n",
    "            \"pred_mean\": f\"{fit_method}_pred_mean\",\n",
    "            \"pred_hdi_low\": f\"{fit_method}_pred_hdi_low\",\n",
    "            \"pred_hdi_high\": f\"{fit_method}_pred_hdi_high\",\n",
    "            \"error\": f\"{fit_method}_error\",\n",
    "        }\n",
    "    )\n",
    "\n",
    "post_preds.head()"
   ]
  },
  {
   "cell_type": "code",
   "execution_count": null,
   "metadata": {},
   "outputs": [],
   "source": [
    "plot_df = post_preds[[\"lfc\", \"advi_pred_mean\", \"mcmc_pred_mean\"]].melt(\n",
    "    id_vars=[\"lfc\"],\n",
    "    value_vars=[\"advi_pred_mean\", \"mcmc_pred_mean\"],\n",
    "    var_name=\"fit_method\",\n",
    "    value_name=\"pred\",\n",
    ")\n",
    "\n",
    "\n",
    "def fit_method_labeller(x):\n",
    "    return x.replace(\"_pred_mean\", \"\").upper()\n",
    "\n",
    "\n",
    "(\n",
    "    gg.ggplot(plot_df, gg.aes(x=\"pred\", y=\"lfc\"))\n",
    "    + gg.facet_wrap(\"~ fit_method\", labeller=fit_method_labeller, nrow=1)\n",
    "    + gg.geom_point(size=0.2, alpha=0.2)\n",
    "    + gg.geom_abline(slope=1, intercept=0, linetype=\"--\", color=SeabornColor.orange)\n",
    "    + gg.geom_smooth(method=\"lm\", color=SeabornColor.blue)\n",
    "    + gg.scale_x_continuous(expand=(0, 0))\n",
    "    + gg.scale_y_continuous(expand=(0, 0))\n",
    "    + gg.theme(figure_size=(6, 3))\n",
    "    + gg.labs(x=\"posterior prediction (mean)\", y=\"observed LFC\")\n",
    ")"
   ]
  },
  {
   "cell_type": "code",
   "execution_count": null,
   "metadata": {},
   "outputs": [],
   "source": [
    "(\n",
    "    gg.ggplot(post_preds, gg.aes(x=\"mcmc_pred_mean\", y=\"advi_pred_mean\"))\n",
    "    + gg.geom_point(size=0.2, alpha=0.2)\n",
    "    + gg.geom_abline(slope=1, intercept=0, linetype=\"--\", color=SeabornColor.orange)\n",
    "    + gg.geom_smooth(method=\"lm\", color=SeabornColor.blue)\n",
    "    + gg.scale_x_continuous(expand=(0, 0))\n",
    "    + gg.scale_y_continuous(expand=(0, 0))\n",
    "    + gg.labs(x=\"MCMC pred (mean)\", y=\"ADVI pred (mean)\")\n",
    ")"
   ]
  },
  {
   "cell_type": "code",
   "execution_count": null,
   "metadata": {},
   "outputs": [],
   "source": []
  },
  {
   "cell_type": "code",
   "execution_count": null,
   "metadata": {},
   "outputs": [],
   "source": []
  },
  {
   "cell_type": "code",
   "execution_count": null,
   "metadata": {},
   "outputs": [],
   "source": []
  },
  {
   "cell_type": "markdown",
   "metadata": {},
   "source": [
    "---"
   ]
  },
  {
   "cell_type": "code",
   "execution_count": null,
   "metadata": {},
   "outputs": [],
   "source": [
    "notebook_toc = time()\n",
    "print(f\"execution time: {(notebook_toc - notebook_tic) / 60:.2f} minutes\")"
   ]
  },
  {
   "cell_type": "code",
   "execution_count": null,
   "metadata": {
    "tags": []
   },
   "outputs": [],
   "source": [
    "%load_ext watermark\n",
    "%watermark -d -u -v -iv -b -h -m"
   ]
  }
 ],
 "metadata": {
  "kernelspec": {
   "display_name": "Python 3",
   "language": "python",
   "name": "python3"
  },
  "language_info": {
   "codemirror_mode": {
    "name": "ipython",
    "version": 3
   },
   "file_extension": ".py",
   "mimetype": "text/x-python",
   "name": "python",
   "nbconvert_exporter": "python",
   "pygments_lexer": "ipython3",
   "version": "3.9.2"
  }
 },
 "nbformat": 4,
 "nbformat_minor": 4
}
