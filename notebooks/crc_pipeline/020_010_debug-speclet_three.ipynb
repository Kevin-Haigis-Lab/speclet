{
 "cells": [
  {
   "cell_type": "code",
   "execution_count": 1,
   "metadata": {},
   "outputs": [],
   "source": [
    "%load_ext autoreload\n",
    "%autoreload 2"
   ]
  },
  {
   "cell_type": "code",
   "execution_count": 2,
   "metadata": {},
   "outputs": [],
   "source": [
    "import re\n",
    "import string\n",
    "import warnings\n",
    "from pathlib import Path\n",
    "from time import time\n",
    "\n",
    "import arviz as az\n",
    "import matplotlib.colors as mcolors\n",
    "import matplotlib.pyplot as plt\n",
    "import numpy as np\n",
    "import pandas as pd\n",
    "import plotnine as gg\n",
    "import pymc3 as pm\n",
    "import seaborn as sns\n",
    "from theano import tensor as tt"
   ]
  },
  {
   "cell_type": "code",
   "execution_count": 3,
   "metadata": {},
   "outputs": [],
   "source": [
    "from src.data_processing import achilles as achelp\n",
    "from src.data_processing import common as dphelp\n",
    "from src.modeling import pymc3_analysis as pmanal\n",
    "from src.modeling import pymc3_sampling_api as pmapi\n",
    "from src.models.speclet_three import SpecletThree\n",
    "from src.plot.color_pal import ModelColors, SeabornColor"
   ]
  },
  {
   "cell_type": "code",
   "execution_count": 4,
   "metadata": {},
   "outputs": [],
   "source": [
    "notebook_tic = time()\n",
    "\n",
    "warnings.simplefilter(action=\"ignore\", category=UserWarning)\n",
    "\n",
    "gg.theme_set(\n",
    "    gg.theme_bw()\n",
    "    + gg.theme(\n",
    "        figure_size=(4, 4),\n",
    "        axis_ticks_major=gg.element_blank(),\n",
    "        strip_background=gg.element_blank(),\n",
    "    )\n",
    ")\n",
    "%config InlineBackend.figure_format = \"retina\"\n",
    "\n",
    "RANDOM_SEED = 847\n",
    "np.random.seed(RANDOM_SEED)"
   ]
  },
  {
   "cell_type": "code",
   "execution_count": 5,
   "metadata": {},
   "outputs": [
    {
     "name": "stdout",
     "output_type": "stream",
     "text": [
      "Speclet Model: 'speclet-two_DEBUGGING' (debug)\n"
     ]
    }
   ],
   "source": [
    "cache_dir = Path(\"temp\", \"speclet-three-debugging\")\n",
    "sp = SpecletThree(\n",
    "    \"DEBUGGING\",\n",
    "    root_cache_dir=cache_dir,\n",
    "    debug=True,\n",
    "    kras_cov=True,\n",
    "    kras_mutation_minimum=3,\n",
    ")\n",
    "print(sp)"
   ]
  },
  {
   "cell_type": "code",
   "execution_count": 6,
   "metadata": {},
   "outputs": [
    {
     "data": {
      "text/html": [
       "<pre style=\"white-space:pre;overflow-x:auto;line-height:normal;font-family:Menlo,'DejaVu Sans Mono',consolas,'Courier New',monospace\"><span style=\"color: #7fbfbf; text-decoration-color: #7fbfbf\">[04/30/21 14:52:26] </span><span style=\"color: #800000; text-decoration-color: #800000\">WARNING </span> Dropping data points of sgRNA that    <a href=\"file:///Users/admin/Lab_Projects/speclet/src/managers/model_data_managers.py\"><span style=\"color: #7f7f7f; text-decoration-color: #7f7f7f\">model_data_managers.py</span></a><span style=\"color: #7f7f7f; text-decoration-color: #7f7f7f\">:125</span>\n",
       "                             map to multiple genes.                                          \n",
       "</pre>\n"
      ],
      "text/plain": [
       "\u001b[2;36m[04/30/21 14:52:26]\u001b[0m\u001b[2;36m \u001b[0m\u001b[31mWARNING \u001b[0m Dropping data points of sgRNA that    \u001b]8;id=1619808746.9950771-453546;file:///Users/admin/Lab_Projects/speclet/src/managers/model_data_managers.py\u001b\\\u001b[2mmodel_data_managers.py\u001b[0m\u001b]8;;\u001b\\\u001b[2m:125\u001b[0m\n",
       "                             map to multiple genes.                                          \n"
      ]
     },
     "metadata": {},
     "output_type": "display_data"
    },
    {
     "data": {
      "text/html": [
       "<pre style=\"white-space:pre;overflow-x:auto;line-height:normal;font-family:Menlo,'DejaVu Sans Mono',consolas,'Courier New',monospace\"><span style=\"color: #7fbfbf; text-decoration-color: #7fbfbf\">[04/30/21 14:52:27] </span><span style=\"color: #800000; text-decoration-color: #800000\">WARNING </span> Dropping data points with missing     <a href=\"file:///Users/admin/Lab_Projects/speclet/src/managers/model_data_managers.py\"><span style=\"color: #7f7f7f; text-decoration-color: #7f7f7f\">model_data_managers.py</span></a><span style=\"color: #7f7f7f; text-decoration-color: #7f7f7f\">:131</span>\n",
       "                             copy number.                                                    \n",
       "</pre>\n"
      ],
      "text/plain": [
       "\u001b[2;36m[04/30/21 14:52:27]\u001b[0m\u001b[2;36m \u001b[0m\u001b[31mWARNING \u001b[0m Dropping data points with missing     \u001b]8;id=1619808747.0550091-912794;file:///Users/admin/Lab_Projects/speclet/src/managers/model_data_managers.py\u001b\\\u001b[2mmodel_data_managers.py\u001b[0m\u001b]8;;\u001b\\\u001b[2m:131\u001b[0m\n",
       "                             copy number.                                                    \n"
      ]
     },
     "metadata": {},
     "output_type": "display_data"
    }
   ],
   "source": [
    "data = sp.data_manager.get_data()"
   ]
  },
  {
   "cell_type": "code",
   "execution_count": 7,
   "metadata": {},
   "outputs": [
    {
     "data": {
      "text/html": [
       "<pre style=\"white-space:pre;overflow-x:auto;line-height:normal;font-family:Menlo,'DejaVu Sans Mono',consolas,'Courier New',monospace\"><span style=\"color: #7fbfbf; text-decoration-color: #7fbfbf\">                    </span><span style=\"color: #000080; text-decoration-color: #000080\">INFO    </span> Calling `model_specification<span style=\"font-weight: bold\">()</span>` method.     <a href=\"file:///Users/admin/Lab_Projects/speclet/src/models/speclet_model.py\"><span style=\"color: #7f7f7f; text-decoration-color: #7f7f7f\">speclet_model.py</span></a><span style=\"color: #7f7f7f; text-decoration-color: #7f7f7f\">:161</span>\n",
       "</pre>\n"
      ],
      "text/plain": [
       "\u001b[2;36m                   \u001b[0m\u001b[2;36m \u001b[0m\u001b[34mINFO    \u001b[0m Calling `model_specification\u001b[1m(\u001b[0m\u001b[1m)\u001b[0m` method.     \u001b]8;id=1619808747.284609-741950;file:///Users/admin/Lab_Projects/speclet/src/models/speclet_model.py\u001b\\\u001b[2mspeclet_model.py\u001b[0m\u001b]8;;\u001b\\\u001b[2m:161\u001b[0m\n"
      ]
     },
     "metadata": {},
     "output_type": "display_data"
    },
    {
     "data": {
      "text/html": [
       "<pre style=\"white-space:pre;overflow-x:auto;line-height:normal;font-family:Menlo,'DejaVu Sans Mono',consolas,'Courier New',monospace\"><span style=\"color: #7fbfbf; text-decoration-color: #7fbfbf\">                    </span><span style=\"color: #000080; text-decoration-color: #000080\">INFO    </span> Beginning PyMC3 model specification.        <a href=\"file:///Users/admin/Lab_Projects/speclet/src/models/speclet_three.py\"><span style=\"color: #7f7f7f; text-decoration-color: #7f7f7f\">speclet_three.py</span></a><span style=\"color: #7f7f7f; text-decoration-color: #7f7f7f\">:101</span>\n",
       "</pre>\n"
      ],
      "text/plain": [
       "\u001b[2;36m                   \u001b[0m\u001b[2;36m \u001b[0m\u001b[34mINFO    \u001b[0m Beginning PyMC3 model specification.        \u001b]8;id=1619808747.2881558-484794;file:///Users/admin/Lab_Projects/speclet/src/models/speclet_three.py\u001b\\\u001b[2mspeclet_three.py\u001b[0m\u001b]8;;\u001b\\\u001b[2m:101\u001b[0m\n"
      ]
     },
     "metadata": {},
     "output_type": "display_data"
    },
    {
     "data": {
      "text/html": [
       "<pre style=\"white-space:pre;overflow-x:auto;line-height:normal;font-family:Menlo,'DejaVu Sans Mono',consolas,'Courier New',monospace\"><span style=\"color: #7fbfbf; text-decoration-color: #7fbfbf\">                    </span><span style=\"color: #000080; text-decoration-color: #000080\">INFO    </span> Getting Theano shared variables.            <a href=\"file:///Users/admin/Lab_Projects/speclet/src/models/speclet_three.py\"><span style=\"color: #7f7f7f; text-decoration-color: #7f7f7f\">speclet_three.py</span></a><span style=\"color: #7f7f7f; text-decoration-color: #7f7f7f\">:108</span>\n",
       "</pre>\n"
      ],
      "text/plain": [
       "\u001b[2;36m                   \u001b[0m\u001b[2;36m \u001b[0m\u001b[34mINFO    \u001b[0m Getting Theano shared variables.            \u001b]8;id=1619808747.393882-514581;file:///Users/admin/Lab_Projects/speclet/src/models/speclet_three.py\u001b\\\u001b[2mspeclet_three.py\u001b[0m\u001b]8;;\u001b\\\u001b[2m:108\u001b[0m\n"
      ]
     },
     "metadata": {},
     "output_type": "display_data"
    },
    {
     "data": {
      "text/html": [
       "<pre style=\"white-space:pre;overflow-x:auto;line-height:normal;font-family:Menlo,'DejaVu Sans Mono',consolas,'Courier New',monospace\"><span style=\"color: #7fbfbf; text-decoration-color: #7fbfbf\">                    </span><span style=\"color: #000080; text-decoration-color: #000080\">INFO    </span> Creating PyMC3 model.                       <a href=\"file:///Users/admin/Lab_Projects/speclet/src/models/speclet_three.py\"><span style=\"color: #7f7f7f; text-decoration-color: #7f7f7f\">speclet_three.py</span></a><span style=\"color: #7f7f7f; text-decoration-color: #7f7f7f\">:116</span>\n",
       "</pre>\n"
      ],
      "text/plain": [
       "\u001b[2;36m                   \u001b[0m\u001b[2;36m \u001b[0m\u001b[34mINFO    \u001b[0m Creating PyMC3 model.                       \u001b]8;id=1619808747.406165-895405;file:///Users/admin/Lab_Projects/speclet/src/models/speclet_three.py\u001b\\\u001b[2mspeclet_three.py\u001b[0m\u001b]8;;\u001b\\\u001b[2m:116\u001b[0m\n"
      ]
     },
     "metadata": {},
     "output_type": "display_data"
    }
   ],
   "source": [
    "sp.build_model()"
   ]
  },
  {
   "cell_type": "code",
   "execution_count": 8,
   "metadata": {},
   "outputs": [
    {
     "name": "stdout",
     "output_type": "stream",
     "text": [
      "      μ_h ~ Normal\n",
      "σ_h_log__ ~ TransformedDistribution\n",
      "        h ~ Normal\n",
      "      μ_g ~ Normal\n",
      "σ_g_log__ ~ TransformedDistribution\n",
      "        g ~ Normal\n",
      "      μ_b ~ Normal\n",
      "σ_b_log__ ~ TransformedDistribution\n",
      "        b ~ Normal\n",
      "      μ_a ~ Normal\n",
      "σ_a_log__ ~ TransformedDistribution\n",
      "        a ~ Normal\n",
      "σ_σ_log__ ~ TransformedDistribution\n",
      "  σ_log__ ~ TransformedDistribution\n",
      "      σ_h ~ HalfNormal\n",
      "      σ_g ~ HalfNormal\n",
      "      σ_b ~ HalfNormal\n",
      "      σ_a ~ HalfNormal\n",
      "        μ ~ Deterministic\n",
      "      σ_σ ~ HalfNormal\n",
      "        σ ~ HalfNormal\n",
      "      lfc ~ Normal\n"
     ]
    }
   ],
   "source": [
    "print(sp.model)"
   ]
  },
  {
   "cell_type": "code",
   "execution_count": 9,
   "metadata": {},
   "outputs": [
    {
     "data": {
      "text/plain": [
       "(99, 5)"
      ]
     },
     "execution_count": 9,
     "metadata": {},
     "output_type": "execute_result"
    }
   ],
   "source": [
    "sp.model[\"a\"].dshape"
   ]
  },
  {
   "cell_type": "code",
   "execution_count": 10,
   "metadata": {},
   "outputs": [
    {
     "data": {
      "text/plain": [
       "(99, 10)"
      ]
     },
     "execution_count": 10,
     "metadata": {},
     "output_type": "execute_result"
    }
   ],
   "source": [
    "dphelp.nunique(data[\"hugo_symbol\"]), dphelp.nunique(data[\"kras_mutation\"])"
   ]
  },
  {
   "cell_type": "code",
   "execution_count": null,
   "metadata": {},
   "outputs": [
    {
     "name": "stderr",
     "output_type": "stream",
     "text": [
      "/usr/local/Caskroom/miniconda/base/envs/speclet/lib/python3.9/site-packages/pymc3/data.py:316: FutureWarning: Using a non-tuple sequence for multidimensional indexing is deprecated; use `arr[tuple(seq)]` instead of `arr[seq]`. In the future this will be interpreted as an array index, `arr[np.array(seq)]`, which will result either in an error or a different result.\n",
      "/usr/local/Caskroom/miniconda/base/envs/speclet/lib/python3.9/site-packages/pymc3/data.py:316: FutureWarning: Using a non-tuple sequence for multidimensional indexing is deprecated; use `arr[tuple(seq)]` instead of `arr[seq]`. In the future this will be interpreted as an array index, `arr[np.array(seq)]`, which will result either in an error or a different result.\n"
     ]
    },
    {
     "data": {
      "text/html": [
       "<pre style=\"white-space:pre;overflow-x:auto;line-height:normal;font-family:Menlo,'DejaVu Sans Mono',consolas,'Courier New',monospace\"><span style=\"color: #7fbfbf; text-decoration-color: #7fbfbf\">[04/30/21 14:53:00] </span><span style=\"color: #000080; text-decoration-color: #000080\">INFO    </span> Beginning ADVI fitting.                     <a href=\"file:///Users/admin/Lab_Projects/speclet/src/models/speclet_model.py\"><span style=\"color: #7f7f7f; text-decoration-color: #7f7f7f\">speclet_model.py</span></a><span style=\"color: #7f7f7f; text-decoration-color: #7f7f7f\">:387</span>\n",
       "</pre>\n"
      ],
      "text/plain": [
       "\u001b[2;36m[04/30/21 14:53:00]\u001b[0m\u001b[2;36m \u001b[0m\u001b[34mINFO    \u001b[0m Beginning ADVI fitting.                     \u001b]8;id=1619808780.206561-322441;file:///Users/admin/Lab_Projects/speclet/src/models/speclet_model.py\u001b\\\u001b[2mspeclet_model.py\u001b[0m\u001b]8;;\u001b\\\u001b[2m:387\u001b[0m\n"
      ]
     },
     "metadata": {},
     "output_type": "display_data"
    },
    {
     "data": {
      "text/html": [
       "\n",
       "    <div>\n",
       "        <style>\n",
       "            /* Turns off some styling */\n",
       "            progress {\n",
       "                /* gets rid of default border in Firefox and Opera. */\n",
       "                border: none;\n",
       "                /* Needs to be in here for Safari polyfill so background images work as expected. */\n",
       "                background-size: auto;\n",
       "            }\n",
       "            .progress-bar-interrupted, .progress-bar-interrupted::-webkit-progress-bar {\n",
       "                background: #F44336;\n",
       "            }\n",
       "        </style>\n",
       "      <progress value='100' class='' max='100' style='width:300px; height:20px; vertical-align: middle;'></progress>\n",
       "      100.00% [100/100 00:00<00:00 Average Loss = 28,287]\n",
       "    </div>\n",
       "    "
      ],
      "text/plain": [
       "<IPython.core.display.HTML object>"
      ]
     },
     "metadata": {},
     "output_type": "display_data"
    },
    {
     "name": "stderr",
     "output_type": "stream",
     "text": [
      "Finished [100%]: Average Loss = 28,031\n"
     ]
    },
    {
     "data": {
      "text/html": [
       "\n",
       "    <div>\n",
       "        <style>\n",
       "            /* Turns off some styling */\n",
       "            progress {\n",
       "                /* gets rid of default border in Firefox and Opera. */\n",
       "                border: none;\n",
       "                /* Needs to be in here for Safari polyfill so background images work as expected. */\n",
       "                background-size: auto;\n",
       "            }\n",
       "            .progress-bar-interrupted, .progress-bar-interrupted::-webkit-progress-bar {\n",
       "                background: #F44336;\n",
       "            }\n",
       "        </style>\n",
       "      <progress value='43' class='' max='1000' style='width:300px; height:20px; vertical-align: middle;'></progress>\n",
       "      4.30% [43/1000 00:01<00:41]\n",
       "    </div>\n",
       "    "
      ],
      "text/plain": [
       "<IPython.core.display.HTML object>"
      ]
     },
     "metadata": {},
     "output_type": "display_data"
    }
   ],
   "source": [
    "sp.advi_sample_model(n_iterations=100)"
   ]
  },
  {
   "cell_type": "code",
   "execution_count": null,
   "metadata": {},
   "outputs": [],
   "source": []
  },
  {
   "cell_type": "code",
   "execution_count": null,
   "metadata": {},
   "outputs": [],
   "source": []
  },
  {
   "cell_type": "code",
   "execution_count": null,
   "metadata": {},
   "outputs": [],
   "source": []
  },
  {
   "cell_type": "code",
   "execution_count": null,
   "metadata": {},
   "outputs": [],
   "source": []
  },
  {
   "cell_type": "code",
   "execution_count": null,
   "metadata": {},
   "outputs": [],
   "source": []
  },
  {
   "cell_type": "markdown",
   "metadata": {},
   "source": [
    "---"
   ]
  },
  {
   "cell_type": "code",
   "execution_count": null,
   "metadata": {},
   "outputs": [],
   "source": [
    "notebook_toc = time()\n",
    "print(f\"execution time: {(notebook_toc - notebook_tic) / 60:.2f} minutes\")"
   ]
  },
  {
   "cell_type": "code",
   "execution_count": null,
   "metadata": {},
   "outputs": [],
   "source": [
    "%load_ext watermark\n",
    "%watermark -d -u -v -iv -b -h -m"
   ]
  }
 ],
 "metadata": {
  "kernelspec": {
   "display_name": "Python 3",
   "language": "python",
   "name": "python3"
  },
  "language_info": {
   "codemirror_mode": {
    "name": "ipython",
    "version": 3
   },
   "file_extension": ".py",
   "mimetype": "text/x-python",
   "name": "python",
   "nbconvert_exporter": "python",
   "pygments_lexer": "ipython3",
   "version": "3.9.2"
  }
 },
 "nbformat": 4,
 "nbformat_minor": 4
}
