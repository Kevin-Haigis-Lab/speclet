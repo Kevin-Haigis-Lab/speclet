{
 "cells": [
  {
   "cell_type": "markdown",
   "metadata": {},
   "source": [
    "# Comparing results to the Broads data"
   ]
  },
  {
   "cell_type": "markdown",
   "metadata": {},
   "source": [
    "## Setup"
   ]
  },
  {
   "cell_type": "markdown",
   "metadata": {},
   "source": [
    "### Imports"
   ]
  },
  {
   "cell_type": "code",
   "execution_count": 1,
   "metadata": {},
   "outputs": [],
   "source": [
    "%load_ext autoreload\n",
    "%autoreload 2"
   ]
  },
  {
   "cell_type": "code",
   "execution_count": 2,
   "metadata": {},
   "outputs": [],
   "source": [
    "import re\n",
    "from pathlib import Path\n",
    "from time import time\n",
    "\n",
    "import arviz as az\n",
    "import matplotlib.pyplot as plt\n",
    "import numpy as np\n",
    "import pandas as pd\n",
    "import plotnine as gg"
   ]
  },
  {
   "cell_type": "code",
   "execution_count": 3,
   "metadata": {},
   "outputs": [],
   "source": [
    "from speclet.io import DataFile, data_path, project_root\n",
    "from speclet.managers.posterior_data_manager import (\n",
    "    PosteriorDataManager,\n",
    "    PosteriorDataManagers,\n",
    ")\n",
    "from speclet.model_configuration import read_model_configurations\n",
    "from speclet.plot import set_speclet_theme\n",
    "from speclet.project_configuration import arviz_config, get_model_configuration_file\n",
    "from speclet.project_enums import ModelFitMethod"
   ]
  },
  {
   "cell_type": "code",
   "execution_count": 4,
   "metadata": {},
   "outputs": [],
   "source": [
    "# Notebook execution timer.\n",
    "notebook_tic = time()\n",
    "\n",
    "# Plotting setup.\n",
    "set_speclet_theme()\n",
    "%config InlineBackend.figure_format = \"retina\"\n",
    "\n",
    "# Constants\n",
    "RANDOM_SEED = 709\n",
    "np.random.seed(RANDOM_SEED)\n",
    "arviz_config()\n",
    "\n",
    "# File paths\n",
    "config_path = project_root() / get_model_configuration_file()"
   ]
  },
  {
   "cell_type": "markdown",
   "metadata": {},
   "source": [
    "### Data"
   ]
  },
  {
   "cell_type": "markdown",
   "metadata": {},
   "source": [
    "#### Model posteriors"
   ]
  },
  {
   "cell_type": "code",
   "execution_count": 5,
   "metadata": {},
   "outputs": [
    {
     "data": {
      "text/plain": [
       "'Number of configurations: 5'"
      ]
     },
     "execution_count": 5,
     "metadata": {},
     "output_type": "execute_result"
    }
   ],
   "source": [
    "model_configs = read_model_configurations(config_path, active_only=True)\n",
    "f\"Number of configurations: {len(model_configs.configurations)}\""
   ]
  },
  {
   "cell_type": "code",
   "execution_count": 6,
   "metadata": {},
   "outputs": [],
   "source": [
    "# Use these test models while pipeline is running.\n",
    "model_names = [\n",
    "    \"hnb-single-lineage-prostate-009\",\n",
    "    \"hnb-single-lineage-colorectal-009\",\n",
    "]\n",
    "pattern = r\"(?<=hnb-single-lineage-).*$\"\n",
    "lineage_names = [re.findall(pattern, m)[0] for m in model_names]\n",
    "\n",
    "postmen = PosteriorDataManagers(\n",
    "    names=model_names,\n",
    "    fit_methods=ModelFitMethod.PYMC_NUMPYRO,\n",
    "    config_paths=config_path,\n",
    "    keys=lineage_names,\n",
    ")"
   ]
  },
  {
   "cell_type": "markdown",
   "metadata": {},
   "source": [
    "#### CERES and Chronos data"
   ]
  },
  {
   "cell_type": "code",
   "execution_count": 7,
   "metadata": {},
   "outputs": [
    {
     "data": {
      "text/html": [
       "<div>\n",
       "<style scoped>\n",
       "    .dataframe tbody tr th:only-of-type {\n",
       "        vertical-align: middle;\n",
       "    }\n",
       "\n",
       "    .dataframe tbody tr th {\n",
       "        vertical-align: top;\n",
       "    }\n",
       "\n",
       "    .dataframe thead th {\n",
       "        text-align: right;\n",
       "    }\n",
       "</style>\n",
       "<table border=\"1\" class=\"dataframe\">\n",
       "  <thead>\n",
       "    <tr style=\"text-align: right;\">\n",
       "      <th></th>\n",
       "      <th>depmap_id</th>\n",
       "      <th>hugo_symbol</th>\n",
       "      <th>chronos_gene_effect</th>\n",
       "      <th>ceres_gene_effect</th>\n",
       "    </tr>\n",
       "  </thead>\n",
       "  <tbody>\n",
       "    <tr>\n",
       "      <th>0</th>\n",
       "      <td>ACH-000001</td>\n",
       "      <td>A1BG</td>\n",
       "      <td>-0.147896</td>\n",
       "      <td>-0.338801</td>\n",
       "    </tr>\n",
       "    <tr>\n",
       "      <th>1</th>\n",
       "      <td>ACH-000001</td>\n",
       "      <td>A1CF</td>\n",
       "      <td>0.054635</td>\n",
       "      <td>-0.061894</td>\n",
       "    </tr>\n",
       "    <tr>\n",
       "      <th>2</th>\n",
       "      <td>ACH-000001</td>\n",
       "      <td>A2M</td>\n",
       "      <td>0.001420</td>\n",
       "      <td>-0.025479</td>\n",
       "    </tr>\n",
       "    <tr>\n",
       "      <th>3</th>\n",
       "      <td>ACH-000001</td>\n",
       "      <td>A2ML1</td>\n",
       "      <td>-0.013390</td>\n",
       "      <td>-0.029948</td>\n",
       "    </tr>\n",
       "    <tr>\n",
       "      <th>4</th>\n",
       "      <td>ACH-000001</td>\n",
       "      <td>A3GALT2</td>\n",
       "      <td>-0.103499</td>\n",
       "      <td>-0.131452</td>\n",
       "    </tr>\n",
       "  </tbody>\n",
       "</table>\n",
       "</div>"
      ],
      "text/plain": [
       "    depmap_id hugo_symbol  chronos_gene_effect  ceres_gene_effect\n",
       "0  ACH-000001        A1BG            -0.147896          -0.338801\n",
       "1  ACH-000001        A1CF             0.054635          -0.061894\n",
       "2  ACH-000001         A2M             0.001420          -0.025479\n",
       "3  ACH-000001       A2ML1            -0.013390          -0.029948\n",
       "4  ACH-000001     A3GALT2            -0.103499          -0.131452"
      ]
     },
     "execution_count": 7,
     "metadata": {},
     "output_type": "execute_result"
    }
   ],
   "source": [
    "# TODO: fix the DataFile.ACHILLES_GENE_EFFECT to point to real file.\n",
    "# broad_crispr_effect = pd.read_csv(data_path(DataFile.ACHILLES_GENE_EFFECT))\n",
    "\n",
    "broad_crispr_effect = pd.read_csv(data_path(\"crispr_gene_effect.csv\"), low_memory=False)\n",
    "broad_crispr_effect.head()"
   ]
  },
  {
   "cell_type": "markdown",
   "metadata": {},
   "source": [
    "## ..."
   ]
  },
  {
   "cell_type": "code",
   "execution_count": null,
   "metadata": {},
   "outputs": [],
   "source": []
  },
  {
   "cell_type": "markdown",
   "metadata": {},
   "source": [
    "---"
   ]
  },
  {
   "cell_type": "code",
   "execution_count": 8,
   "metadata": {},
   "outputs": [
    {
     "name": "stdout",
     "output_type": "stream",
     "text": [
      "execution time: 0.18 minutes\n"
     ]
    }
   ],
   "source": [
    "notebook_toc = time()\n",
    "print(f\"execution time: {(notebook_toc - notebook_tic) / 60:.2f} minutes\")"
   ]
  },
  {
   "cell_type": "code",
   "execution_count": 9,
   "metadata": {},
   "outputs": [
    {
     "name": "stdout",
     "output_type": "stream",
     "text": [
      "Last updated: 2022-08-12\n",
      "\n",
      "Python implementation: CPython\n",
      "Python version       : 3.10.5\n",
      "IPython version      : 8.4.0\n",
      "\n",
      "Compiler    : GCC 10.3.0\n",
      "OS          : Linux\n",
      "Release     : 3.10.0-1160.45.1.el7.x86_64\n",
      "Machine     : x86_64\n",
      "Processor   : x86_64\n",
      "CPU cores   : 28\n",
      "Architecture: 64bit\n",
      "\n",
      "Hostname: compute-e-16-233.o2.rc.hms.harvard.edu\n",
      "\n",
      "Git branch: expand-lineages\n",
      "\n",
      "matplotlib: 3.5.2\n",
      "re        : 2.2.1\n",
      "pandas    : 1.4.3\n",
      "arviz     : 0.12.1\n",
      "numpy     : 1.23.1\n",
      "plotnine  : 0.0.0\n",
      "\n"
     ]
    }
   ],
   "source": [
    "%load_ext watermark\n",
    "%watermark -d -u -v -iv -b -h -m"
   ]
  }
 ],
 "metadata": {
  "kernelspec": {
   "display_name": "Python 3 (ipykernel)",
   "language": "python",
   "name": "python3"
  },
  "language_info": {
   "codemirror_mode": {
    "name": "ipython",
    "version": 3
   },
   "file_extension": ".py",
   "mimetype": "text/x-python",
   "name": "python",
   "nbconvert_exporter": "python",
   "pygments_lexer": "ipython3",
   "version": "3.10.5"
  }
 },
 "nbformat": 4,
 "nbformat_minor": 4
}
