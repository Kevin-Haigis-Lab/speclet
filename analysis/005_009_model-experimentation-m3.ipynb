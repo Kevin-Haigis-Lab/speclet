{
 "cells": [
  {
   "cell_type": "code",
   "execution_count": 1,
   "metadata": {},
   "outputs": [],
   "source": [
    "import string\n",
    "from itertools import product\n",
    "\n",
    "import arviz as az\n",
    "import matplotlib.pyplot as plt\n",
    "import numpy as np\n",
    "import pandas as pd\n",
    "import plotnine as gg\n",
    "import pymc3 as pm\n",
    "import seaborn as sns\n",
    "from numpy.random import exponential, normal"
   ]
  },
  {
   "cell_type": "code",
   "execution_count": 2,
   "metadata": {},
   "outputs": [],
   "source": [
    "import warnings\n",
    "\n",
    "warnings.simplefilter(action=\"ignore\", category=UserWarning)"
   ]
  },
  {
   "cell_type": "code",
   "execution_count": 3,
   "metadata": {},
   "outputs": [],
   "source": [
    "gg.theme_set(gg.theme_minimal())"
   ]
  },
  {
   "cell_type": "code",
   "execution_count": 4,
   "metadata": {},
   "outputs": [],
   "source": [
    "RANDOM_SEED = 103"
   ]
  },
  {
   "cell_type": "markdown",
   "metadata": {},
   "source": [
    "---\n",
    "\n",
    "## Model 3. Multiple logFC readings per gene per cell line and only one RNA expression reading\n",
    "\n",
    "Model the logFC of multiple genes in multiple cell lines using a single predictor: RNA expression.\n",
    "There are multiple logFC readings per gene per cell line, but only one RNA expression reading.\n",
    "(For now) there is only one varying effect for gene.\n",
    "\n",
    "$\n",
    "logFC_g \\sim \\mathcal{N}(\\mu_g, \\sigma) \\\\\n",
    "\\quad \\mu_g = \\alpha_g \\\\\n",
    "\\qquad \\alpha_g \\sim \\mathcal{N}(\\mu_{\\alpha_g}, \\sigma_{\\alpha_g}) \\\\\n",
    "\\qquad \\quad \\mu_{\\alpha_g} = \\gamma_g + \\delta_g R \\\\\n",
    "\\qquad \\qquad \\gamma_g \\sim \\mathcal{N}(\\mu_\\gamma, \\sigma_\\gamma) \\\\\n",
    "\\qquad \\qquad \\quad \\mu_\\gamma \\sim \\mathcal{N}(0,5) \\quad \\sigma_\\gamma \\sim \\text{Exp}(1) \\\\\n",
    "\\qquad \\qquad \\delta_g \\sim \\mathcal{N}(\\mu_\\delta, \\sigma_\\delta) \\\\\n",
    "\\qquad \\qquad \\quad \\mu_\\delta \\sim \\mathcal{N}(0,5) \\quad \\sigma_\\delta \\sim \\text{Exp}(1) \\\\\n",
    "\\qquad \\quad \\sigma_{\\alpha_g} \\sim \\text{Exp}(\\sigma_g) \\\\\n",
    "\\qquad \\qquad \\sigma_g \\sim \\text{Exp}(1) \\\\\n",
    "\\quad \\sigma \\sim \\text{Exp}(1)\n",
    "$"
   ]
  },
  {
   "cell_type": "markdown",
   "metadata": {},
   "source": [
    "Simulated real values:\n",
    "\n",
    "- number of cell lines: 30\n",
    "- number of logFC data points per gene per cell line: 3\n",
    "- number of genes: 5\n",
    "- $\\mu_\\gamma = -1$\n",
    "- $\\sigma_\\gamma = 0.4$\n",
    "- $\\mu_\\delta = 0$\n",
    "- $\\sigma_\\delta = 1$\n",
    "- $\\sigma_g = 0.4$\n",
    "- $\\sigma = 0.3$"
   ]
  },
  {
   "cell_type": "code",
   "execution_count": 5,
   "metadata": {},
   "outputs": [
    {
     "data": {
      "text/html": [
       "<div>\n",
       "<style scoped>\n",
       "    .dataframe tbody tr th:only-of-type {\n",
       "        vertical-align: middle;\n",
       "    }\n",
       "\n",
       "    .dataframe tbody tr th {\n",
       "        vertical-align: top;\n",
       "    }\n",
       "\n",
       "    .dataframe thead th {\n",
       "        text-align: right;\n",
       "    }\n",
       "</style>\n",
       "<table border=\"1\" class=\"dataframe\">\n",
       "  <thead>\n",
       "    <tr style=\"text-align: right;\">\n",
       "      <th></th>\n",
       "      <th>ko_idx</th>\n",
       "      <th>gene</th>\n",
       "      <th>cell_line</th>\n",
       "      <th>logfc</th>\n",
       "    </tr>\n",
       "  </thead>\n",
       "  <tbody>\n",
       "    <tr>\n",
       "      <th>0</th>\n",
       "      <td>0</td>\n",
       "      <td>geneA</td>\n",
       "      <td>cellA</td>\n",
       "      <td>-1.475160</td>\n",
       "    </tr>\n",
       "    <tr>\n",
       "      <th>1</th>\n",
       "      <td>0</td>\n",
       "      <td>geneA</td>\n",
       "      <td>cellB</td>\n",
       "      <td>-1.574389</td>\n",
       "    </tr>\n",
       "    <tr>\n",
       "      <th>2</th>\n",
       "      <td>0</td>\n",
       "      <td>geneA</td>\n",
       "      <td>cellC</td>\n",
       "      <td>-1.413401</td>\n",
       "    </tr>\n",
       "    <tr>\n",
       "      <th>3</th>\n",
       "      <td>0</td>\n",
       "      <td>geneA</td>\n",
       "      <td>cellD</td>\n",
       "      <td>-1.057404</td>\n",
       "    </tr>\n",
       "    <tr>\n",
       "      <th>4</th>\n",
       "      <td>0</td>\n",
       "      <td>geneA</td>\n",
       "      <td>cellE</td>\n",
       "      <td>-1.570743</td>\n",
       "    </tr>\n",
       "    <tr>\n",
       "      <th>...</th>\n",
       "      <td>...</td>\n",
       "      <td>...</td>\n",
       "      <td>...</td>\n",
       "      <td>...</td>\n",
       "    </tr>\n",
       "    <tr>\n",
       "      <th>295</th>\n",
       "      <td>2</td>\n",
       "      <td>geneE</td>\n",
       "      <td>cellP</td>\n",
       "      <td>0.758133</td>\n",
       "    </tr>\n",
       "    <tr>\n",
       "      <th>296</th>\n",
       "      <td>2</td>\n",
       "      <td>geneE</td>\n",
       "      <td>cellQ</td>\n",
       "      <td>0.352038</td>\n",
       "    </tr>\n",
       "    <tr>\n",
       "      <th>297</th>\n",
       "      <td>2</td>\n",
       "      <td>geneE</td>\n",
       "      <td>cellR</td>\n",
       "      <td>0.583303</td>\n",
       "    </tr>\n",
       "    <tr>\n",
       "      <th>298</th>\n",
       "      <td>2</td>\n",
       "      <td>geneE</td>\n",
       "      <td>cellS</td>\n",
       "      <td>0.818320</td>\n",
       "    </tr>\n",
       "    <tr>\n",
       "      <th>299</th>\n",
       "      <td>2</td>\n",
       "      <td>geneE</td>\n",
       "      <td>cellT</td>\n",
       "      <td>0.686769</td>\n",
       "    </tr>\n",
       "  </tbody>\n",
       "</table>\n",
       "<p>300 rows × 4 columns</p>\n",
       "</div>"
      ],
      "text/plain": [
       "     ko_idx   gene cell_line     logfc\n",
       "0         0  geneA     cellA -1.475160\n",
       "1         0  geneA     cellB -1.574389\n",
       "2         0  geneA     cellC -1.413401\n",
       "3         0  geneA     cellD -1.057404\n",
       "4         0  geneA     cellE -1.570743\n",
       "..      ...    ...       ...       ...\n",
       "295       2  geneE     cellP  0.758133\n",
       "296       2  geneE     cellQ  0.352038\n",
       "297       2  geneE     cellR  0.583303\n",
       "298       2  geneE     cellS  0.818320\n",
       "299       2  geneE     cellT  0.686769\n",
       "\n",
       "[300 rows x 4 columns]"
      ]
     },
     "execution_count": 5,
     "metadata": {},
     "output_type": "execute_result"
    }
   ],
   "source": [
    "np.random.seed(RANDOM_SEED)\n",
    "\n",
    "# Synthetic data parmeters\n",
    "num_cell_lines = 20\n",
    "num_logfc_datum = 3\n",
    "num_genes = 5\n",
    "\n",
    "# Real hyper-parameter values\n",
    "real_mu_gamma = -1\n",
    "real_sigma_gamma = 0.4\n",
    "real_mu_delta = 0\n",
    "real_sigma_delta = 1\n",
    "real_sigma_g = 0.4\n",
    "real_sigma = 0.3\n",
    "\n",
    "\n",
    "genes = [\"gene\" + a for a in string.ascii_uppercase[:num_genes]]\n",
    "gene_idx = list(range(num_genes))\n",
    "\n",
    "cell_lines = [\"cell\" + a for a in string.ascii_uppercase[:num_cell_lines]]\n",
    "cell_line_idx = list(range(num_cell_lines))\n",
    "\n",
    "# RNA expression data (scaled within each gene)\n",
    "rna = np.random.normal(loc=0, scale=1, size=(num_genes, num_cell_lines))\n",
    "rna_data = pd.DataFrame(list(product(genes, cell_lines)), columns=[\"gene\", \"cell_line\"])\n",
    "rna_data[\"rna\"] = rna.flatten()\n",
    "\n",
    "for c in [\"gene\", \"cell_line\"]:\n",
    "    rna_data[c] = pd.Categorical(rna_data[c])\n",
    "\n",
    "\n",
    "real_gamma_g = np.random.normal(real_mu_gamma, real_sigma_gamma, (num_genes, 1))\n",
    "real_delta_g = np.random.normal(real_mu_delta, real_sigma_delta, (num_genes, 1))\n",
    "real_mu_alpha = (real_gamma_g + rna * real_delta_g).mean(axis=1)\n",
    "real_sigma_alpha = np.random.exponential(real_sigma_g, num_genes)\n",
    "\n",
    "real_alpha_g = np.random.normal(real_mu_alpha, real_sigma_alpha)\n",
    "real_mu_g = real_alpha_g\n",
    "\n",
    "ko_idx = list(range(num_logfc_datum))\n",
    "logfc_data = pd.DataFrame(\n",
    "    list(product(ko_idx, genes, cell_lines)), columns=[\"ko_idx\", \"gene\", \"cell_line\"]\n",
    ")\n",
    "\n",
    "for c in [\"gene\", \"cell_line\"]:\n",
    "    logfc_data[c] = pd.Categorical(logfc_data[c])\n",
    "\n",
    "\n",
    "logfc_data[\"logfc\"] = np.nan\n",
    "for i in range(len(logfc_data)):\n",
    "    g = logfc_data[\"gene\"].cat.codes[i]\n",
    "    logfc_data.loc[i, \"logfc\"] = np.random.normal(real_mu_g[g], real_sigma)\n",
    "\n",
    "logfc_data"
   ]
  },
  {
   "cell_type": "code",
   "execution_count": 6,
   "metadata": {},
   "outputs": [
    {
     "data": {
      "image/png": "[encoded data removed]",
      "text/plain": [
       "<Figure size 640x480 with 1 Axes>"
      ]
     },
     "metadata": {
      "needs_background": "light"
     },
     "output_type": "display_data"
    },
    {
     "data": {
      "text/plain": [
       "<ggplot: (8737775755237)>"
      ]
     },
     "execution_count": 6,
     "metadata": {},
     "output_type": "execute_result"
    }
   ],
   "source": [
    "known_logfc_values_df = pd.DataFrame(\n",
    "    {\"gene\": genes, \"logfc\": real_alpha_g, \"sd\": real_sigma_alpha}\n",
    ")\n",
    "known_logfc_values_df[\"lower_err\"] = (\n",
    "    known_logfc_values_df[\"logfc\"] - known_logfc_values_df[\"sd\"]\n",
    ")\n",
    "known_logfc_values_df[\"upper_err\"] = (\n",
    "    known_logfc_values_df[\"logfc\"] + known_logfc_values_df[\"sd\"]\n",
    ")\n",
    "\n",
    "pos = gg.position_nudge(x=0.1)\n",
    "\n",
    "(\n",
    "    gg.ggplot(logfc_data, gg.aes(x=\"gene\", y=\"logfc\"))\n",
    "    + gg.geom_boxplot(outlier_color=\"\")\n",
    "    + gg.geom_linerange(\n",
    "        gg.aes(ymin=\"lower_err\", ymax=\"upper_err\"),\n",
    "        data=known_logfc_values_df,\n",
    "        position=pos,\n",
    "    )\n",
    "    + gg.geom_point(data=known_logfc_values_df, position=pos)\n",
    ")"
   ]
  },
  {
   "cell_type": "code",
   "execution_count": 7,
   "metadata": {},
   "outputs": [
    {
     "data": {
      "image/png": "[encoded data removed]",
      "text/plain": [
       "<Figure size 640x480 with 1 Axes>"
      ]
     },
     "metadata": {
      "needs_background": "light"
     },
     "output_type": "display_data"
    },
    {
     "data": {
      "text/plain": [
       "<ggplot: (8737725598501)>"
      ]
     },
     "execution_count": 7,
     "metadata": {},
     "output_type": "execute_result"
    }
   ],
   "source": [
    "merged_data = pd.merge(logfc_data, rna_data, how=\"inner\", on=[\"gene\", \"cell_line\"])\n",
    "\n",
    "(\n",
    "    gg.ggplot(merged_data, gg.aes(x=\"rna\", y=\"logfc\", color=\"gene\"))\n",
    "    + gg.geom_point(gg.aes(shape=\"factor(ko_idx)\"), alpha=0.8, size=1.8)\n",
    ")"
   ]
  },
  {
   "cell_type": "markdown",
   "metadata": {},
   "source": [
    "### Conclusions and final thoughts\n",
    "\n",
    "This was an incorrect understanding of how to use a predictor variable in a higher level of the model.\n",
    "Though it is not the right model the purposes of this project, I'll leave it here as an example.\n",
    "\n",
    "---"
   ]
  },
  {
   "cell_type": "code",
   "execution_count": 8,
   "metadata": {},
   "outputs": [
    {
     "name": "stdout",
     "output_type": "stream",
     "text": [
      "seaborn  0.11.0\n",
      "numpy    1.19.2\n",
      "pandas   1.1.3\n",
      "pymc3    3.9.3\n",
      "arviz    0.10.0\n",
      "plotnine 0.7.1\n",
      "last updated: 2020-10-26 \n",
      "\n",
      "CPython 3.8.5\n",
      "IPython 7.18.1\n",
      "\n",
      "compiler   : GCC 7.3.0\n",
      "system     : Linux\n",
      "release    : 3.10.0-1062.el7.x86_64\n",
      "machine    : x86_64\n",
      "processor  : x86_64\n",
      "CPU cores  : 28\n",
      "interpreter: 64bit\n",
      "host name  : compute-e-16-237.o2.rc.hms.harvard.edu\n",
      "Git branch : models\n"
     ]
    }
   ],
   "source": [
    "%load_ext watermark\n",
    "%watermark -d -u -v -iv -b -h -m"
   ]
  }
 ],
 "metadata": {
  "kernelspec": {
   "display_name": "Python 3",
   "language": "python",
   "name": "python3"
  },
  "language_info": {
   "codemirror_mode": {
    "name": "ipython",
    "version": 3
   },
   "file_extension": ".py",
   "mimetype": "text/x-python",
   "name": "python",
   "nbconvert_exporter": "python",
   "pygments_lexer": "ipython3",
   "version": "3.8.5"
  }
 },
 "nbformat": 4,
 "nbformat_minor": 4
}
