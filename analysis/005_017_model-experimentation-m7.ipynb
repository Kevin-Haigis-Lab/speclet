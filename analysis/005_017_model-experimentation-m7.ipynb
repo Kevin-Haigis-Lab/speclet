{
 "cells": [
  {
   "cell_type": "code",
   "execution_count": 1,
   "metadata": {},
   "outputs": [],
   "source": [
    "import pandas as pd\n",
    "import numpy as np\n",
    "import plotnine as gg\n",
    "import pymc3 as pm\n",
    "from theano import tensor as tt\n",
    "import arviz as az\n",
    "import seaborn as sns\n",
    "import matplotlib.pyplot as plt\n",
    "import string\n",
    "from itertools import product\n",
    "from numpy.random import normal, exponential, seed\n",
    "import warnings\n",
    "\n",
    "# Remove annoying filters from some dated ArViz functions.\n",
    "warnings.simplefilter(action=\"ignore\", category=UserWarning)\n",
    "\n",
    "# Default theme for Plotnine.\n",
    "gg.theme_set(gg.theme_minimal())\n",
    "\n",
    "# A value to use in all random seed setting instances.\n",
    "RANDOM_SEED = 103"
   ]
  },
  {
   "cell_type": "markdown",
   "metadata": {},
   "source": [
    "---\n",
    "\n",
    "## Model 7. 2-Dimensional varying intercept.\n",
    "\n",
    "Model the logFC for knocking-out a gene $g$ with sgRNA $s$ with known copy number $X$.\n",
    "Use a varying intercept for the the intercept and slope by taget gene $g$ of the sgRNA $s$.\n",
    "\n",
    "$\n",
    "logFC_s \\sim \\mathcal{N}(\\mu_s, \\sigma) \\\\\n",
    "\\mu_s = \\alpha_s + \\beta_s X \\\\\n",
    "\\quad \\alpha_s \\sim \\mathcal{N}(\\mu_\\alpha, \\sigma_\\alpha) \\\\\n",
    "\\qquad \\mu_\\alpha = \\gamma_g \\\\\n",
    "\\qquad\\quad \\gamma_g \\sim \\mathcal{N}(\\mu_\\gamma, \\sigma_\\gamma) \\\\\n",
    "\\qquad\\qquad \\mu_\\gamma \\sim \\mathcal{N}(0, 5) \\quad \\sigma_\\gamma \\sim \\text{Exp}(1) \\\\\n",
    "\\qquad \\sigma_\\alpha \\sim \\text{Exp}(1) \\\\\n",
    "\\quad \\beta_s \\sim \\mathcal{N}(\\mu_\\beta, \\sigma_\\beta) \\\\\n",
    "\\qquad \\mu_\\beta = \\delta_g \\\\\n",
    "\\qquad\\quad \\delta_g \\sim \\mathcal{N}(\\mu_\\delta, \\sigma_\\delta) \\\\\n",
    "\\qquad\\qquad \\mu_\\delta \\sim \\mathcal{N}(0, 5) \\quad \\sigma_\\delta \\sim \\text{Exp}(1) \\\\\n",
    "\\qquad \\sigma_\\beta \\sim \\text{Exp}(1) \\\\\n",
    "\\sigma \\sim \\text{Exp}(1)\n",
    "$"
   ]
  },
  {
   "cell_type": "markdown",
   "metadata": {},
   "source": [
    "Simulated values:\n",
    "\n",
    "- number of cell lines: 20\n",
    "- number of genes: 5\n",
    "- number of repeated measures: ${1, 2, 3, 4, 5}$\n",
    "- $\\mu_\\gamma = -0.5$, $\\sigma_\\gamma = 0.5$\n",
    "- $\\sigma_\\alpha = 0.2$\n",
    "- $\\mu_\\delta = -1$, $\\sigma_\\delta = 1$\n",
    "- $\\sigma_\\beta = 0.2$\n",
    "- $\\sigma = 0.3$"
   ]
  },
  {
   "cell_type": "code",
   "execution_count": 5,
   "metadata": {},
   "outputs": [],
   "source": [
    "seed(RANDOM_SEED)\n",
    "\n",
    "num_cell_lines = 20\n",
    "num_genes = 5\n",
    "num_sgrna_per_gene = list(range(1, num_genes + 1))\n",
    "num_sgrnas = sum(num_sgrna_per_gene)\n",
    "\n"
   ]
  },
  {
   "cell_type": "code",
   "execution_count": 6,
   "metadata": {},
   "outputs": [
    {
     "data": {
      "text/html": [
       "<div>\n",
       "<style scoped>\n",
       "    .dataframe tbody tr th:only-of-type {\n",
       "        vertical-align: middle;\n",
       "    }\n",
       "\n",
       "    .dataframe tbody tr th {\n",
       "        vertical-align: top;\n",
       "    }\n",
       "\n",
       "    .dataframe thead th {\n",
       "        text-align: right;\n",
       "    }\n",
       "</style>\n",
       "<table border=\"1\" class=\"dataframe\">\n",
       "  <thead>\n",
       "    <tr style=\"text-align: right;\">\n",
       "      <th></th>\n",
       "      <th>gene</th>\n",
       "      <th>cell_line</th>\n",
       "      <th>sgRNA</th>\n",
       "      <th>cna</th>\n",
       "      <th>cna_z</th>\n",
       "      <th>logfc</th>\n",
       "    </tr>\n",
       "  </thead>\n",
       "  <tbody>\n",
       "    <tr>\n",
       "      <th>0</th>\n",
       "      <td>gene_0</td>\n",
       "      <td>cell_0</td>\n",
       "      <td>sgRNA_0</td>\n",
       "      <td>2.016189</td>\n",
       "      <td>1.133899</td>\n",
       "      <td>1.556512</td>\n",
       "    </tr>\n",
       "    <tr>\n",
       "      <th>1</th>\n",
       "      <td>gene_0</td>\n",
       "      <td>cell_1</td>\n",
       "      <td>sgRNA_0</td>\n",
       "      <td>0.113033</td>\n",
       "      <td>-0.930018</td>\n",
       "      <td>-0.484596</td>\n",
       "    </tr>\n",
       "    <tr>\n",
       "      <th>2</th>\n",
       "      <td>gene_0</td>\n",
       "      <td>cell_2</td>\n",
       "      <td>sgRNA_0</td>\n",
       "      <td>1.848434</td>\n",
       "      <td>0.951974</td>\n",
       "      <td>1.482701</td>\n",
       "    </tr>\n",
       "    <tr>\n",
       "      <th>3</th>\n",
       "      <td>gene_0</td>\n",
       "      <td>cell_3</td>\n",
       "      <td>sgRNA_0</td>\n",
       "      <td>0.000000</td>\n",
       "      <td>-1.052599</td>\n",
       "      <td>-1.162076</td>\n",
       "    </tr>\n",
       "    <tr>\n",
       "      <th>4</th>\n",
       "      <td>gene_0</td>\n",
       "      <td>cell_4</td>\n",
       "      <td>sgRNA_0</td>\n",
       "      <td>0.970350</td>\n",
       "      <td>-0.000282</td>\n",
       "      <td>0.441627</td>\n",
       "    </tr>\n",
       "  </tbody>\n",
       "</table>\n",
       "</div>"
      ],
      "text/plain": [
       "     gene cell_line    sgRNA       cna     cna_z     logfc\n",
       "0  gene_0    cell_0  sgRNA_0  2.016189  1.133899  1.556512\n",
       "1  gene_0    cell_1  sgRNA_0  0.113033 -0.930018 -0.484596\n",
       "2  gene_0    cell_2  sgRNA_0  1.848434  0.951974  1.482701\n",
       "3  gene_0    cell_3  sgRNA_0  0.000000 -1.052599 -1.162076\n",
       "4  gene_0    cell_4  sgRNA_0  0.970350 -0.000282  0.441627"
      ]
     },
     "execution_count": 6,
     "metadata": {},
     "output_type": "execute_result"
    }
   ],
   "source": [
    "data.head()"
   ]
  },
  {
   "cell_type": "code",
   "execution_count": null,
   "metadata": {},
   "outputs": [],
   "source": []
  },
  {
   "cell_type": "code",
   "execution_count": null,
   "metadata": {},
   "outputs": [],
   "source": []
  },
  {
   "cell_type": "code",
   "execution_count": null,
   "metadata": {},
   "outputs": [],
   "source": []
  },
  {
   "cell_type": "code",
   "execution_count": null,
   "metadata": {},
   "outputs": [],
   "source": []
  },
  {
   "cell_type": "code",
   "execution_count": null,
   "metadata": {},
   "outputs": [],
   "source": []
  },
  {
   "cell_type": "code",
   "execution_count": null,
   "metadata": {},
   "outputs": [],
   "source": []
  },
  {
   "cell_type": "code",
   "execution_count": null,
   "metadata": {},
   "outputs": [],
   "source": []
  },
  {
   "cell_type": "code",
   "execution_count": null,
   "metadata": {},
   "outputs": [],
   "source": []
  },
  {
   "cell_type": "code",
   "execution_count": null,
   "metadata": {},
   "outputs": [],
   "source": []
  },
  {
   "cell_type": "code",
   "execution_count": null,
   "metadata": {},
   "outputs": [],
   "source": []
  },
  {
   "cell_type": "code",
   "execution_count": null,
   "metadata": {},
   "outputs": [],
   "source": []
  },
  {
   "cell_type": "code",
   "execution_count": null,
   "metadata": {},
   "outputs": [],
   "source": []
  },
  {
   "cell_type": "code",
   "execution_count": null,
   "metadata": {},
   "outputs": [],
   "source": []
  },
  {
   "cell_type": "code",
   "execution_count": null,
   "metadata": {},
   "outputs": [],
   "source": []
  },
  {
   "cell_type": "code",
   "execution_count": null,
   "metadata": {},
   "outputs": [],
   "source": []
  },
  {
   "cell_type": "code",
   "execution_count": null,
   "metadata": {},
   "outputs": [],
   "source": []
  },
  {
   "cell_type": "markdown",
   "metadata": {},
   "source": [
    "---"
   ]
  },
  {
   "cell_type": "code",
   "execution_count": 31,
   "metadata": {},
   "outputs": [
    {
     "name": "stdout",
     "output_type": "stream",
     "text": [
      "numpy    1.19.2\n",
      "seaborn  0.11.0\n",
      "plotnine 0.7.1\n",
      "arviz    0.10.0\n",
      "pandas   1.1.3\n",
      "pymc3    3.9.3\n",
      "last updated: 2020-11-07 \n",
      "\n",
      "CPython 3.8.5\n",
      "IPython 7.18.1\n",
      "\n",
      "compiler   : GCC 7.3.0\n",
      "system     : Linux\n",
      "release    : 3.10.0-1062.el7.x86_64\n",
      "machine    : x86_64\n",
      "processor  : x86_64\n",
      "CPU cores  : 28\n",
      "interpreter: 64bit\n",
      "host name  : compute-e-16-229.o2.rc.hms.harvard.edu\n",
      "Git branch : models\n"
     ]
    }
   ],
   "source": [
    "%load_ext watermark\n",
    "%watermark -d -u -v -iv -b -h -m"
   ]
  }
 ],
 "metadata": {
  "kernelspec": {
   "display_name": "Python 3",
   "language": "python",
   "name": "python3"
  },
  "language_info": {
   "codemirror_mode": {
    "name": "ipython",
    "version": 3
   },
   "file_extension": ".py",
   "mimetype": "text/x-python",
   "name": "python",
   "nbconvert_exporter": "python",
   "pygments_lexer": "ipython3",
   "version": "3.8.5"
  }
 },
 "nbformat": 4,
 "nbformat_minor": 4
}
