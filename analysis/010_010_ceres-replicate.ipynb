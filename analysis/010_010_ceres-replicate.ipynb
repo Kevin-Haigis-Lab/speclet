{
 "cells": [
  {
   "cell_type": "markdown",
   "metadata": {},
   "source": [
    "# Replicate the CERES model"
   ]
  },
  {
   "cell_type": "markdown",
   "metadata": {},
   "source": [
    "## The CERES model\n",
    "\n",
    "The following is the CERES model as desicrbed in [\"Computational correction of copy number effect improves specificity of CRISPR–Cas9 essentiality screens in cancer cells\"](https://www.nature.com/articles/ng.3984#Sec24) (Meyeres *et al*, 2017).\n",
    "\n",
    "\n",
    "$\n",
    "\\quad D_{ij} = q_i \\lgroup \\sum_{k \\in G_i} (h_k + g_{kj}) + \\mathcal{f} (\\sum_{l \\in L_i} C_{lj}) \\rgroup + o_i + \\epsilon\n",
    "$\n",
    "\n",
    "where:\n",
    "\n",
    "- $D_{ij}$: sgRNA $i$ depletion in cell line $j$\n",
    "- $q_i$: \"guide activity score... to mitigate the influence of low-quality reagents\" (restricted $[0,1]$)\n",
    "- $G_i$: the genes targeted by sgRNA $i$\n",
    "- $h_k$: \"shared\" (non-cell-line-specific) effect of gene $k$\n",
    "- $g_{kj}$: cell-line-specific effect in cell line $j$ and gene $k$\n",
    "- $\\mathcal{f}_j$: piecewise linear spine to model copy number effect\n",
    "- $L_i$: target loci of sgRNA $i$\n",
    "- $C_{lj}$: copy number of target locus $l$ in cell line $j$\n",
    "- $o_i$: sgRNA-sepcific effect to account for noise in the measurement of sgRNA abundance in the reference pool\n",
    "- $\\epsilon$: normal error"
   ]
  },
  {
   "cell_type": "code",
   "execution_count": 2,
   "metadata": {},
   "outputs": [],
   "source": [
    "import pandas as pd\n",
    "import numpy as np\n",
    "import plotnine as gg\n",
    "import pymc3 as pm\n",
    "from theano import tensor as tt\n",
    "import arviz as az\n",
    "import seaborn as sns\n",
    "import matplotlib.pyplot as plt\n",
    "import matplotlib.colors as mcolors\n",
    "import string\n",
    "import warnings\n",
    "from pathlib import Path\n",
    "import pymc3_helpers as pmhelp\n",
    "\n",
    "warnings.simplefilter(action=\"ignore\", category=UserWarning)\n",
    "\n",
    "gg.theme_set(gg.theme_minimal())\n",
    "\n",
    "RANDOM_SEED = 847\n",
    "np.random.seed(RANDOM_SEED)\n",
    "\n",
    "pymc3_cache_dir = Path(\"pymc3_model_cache\")"
   ]
  },
  {
   "cell_type": "markdown",
   "metadata": {},
   "source": [
    "### Data preparation"
   ]
  },
  {
   "cell_type": "code",
   "execution_count": 3,
   "metadata": {},
   "outputs": [
    {
     "data": {
      "text/html": [
       "<div>\n",
       "<style scoped>\n",
       "    .dataframe tbody tr th:only-of-type {\n",
       "        vertical-align: middle;\n",
       "    }\n",
       "\n",
       "    .dataframe tbody tr th {\n",
       "        vertical-align: top;\n",
       "    }\n",
       "\n",
       "    .dataframe thead th {\n",
       "        text-align: right;\n",
       "    }\n",
       "</style>\n",
       "<table border=\"1\" class=\"dataframe\">\n",
       "  <thead>\n",
       "    <tr style=\"text-align: right;\">\n",
       "      <th></th>\n",
       "      <th>sgrna</th>\n",
       "      <th>replicate_id</th>\n",
       "      <th>lfc</th>\n",
       "      <th>pdna_batch</th>\n",
       "      <th>passes_qc</th>\n",
       "      <th>depmap_id</th>\n",
       "      <th>primary_or_metastasis</th>\n",
       "      <th>lineage</th>\n",
       "      <th>lineage_subtype</th>\n",
       "      <th>kras_mutation</th>\n",
       "      <th>...</th>\n",
       "      <th>segment_mean</th>\n",
       "      <th>copy_number</th>\n",
       "      <th>n_muts</th>\n",
       "      <th>any_deleterious</th>\n",
       "      <th>variant_classification</th>\n",
       "      <th>is_deleterious</th>\n",
       "      <th>is_tcga_hotspot</th>\n",
       "      <th>is_cosmic_hotspot</th>\n",
       "      <th>mutated_at_guide_location</th>\n",
       "      <th>rna_expr</th>\n",
       "    </tr>\n",
       "  </thead>\n",
       "  <tbody>\n",
       "    <tr>\n",
       "      <th>4225</th>\n",
       "      <td>AATTACTACTTGCTTCCTGT</td>\n",
       "      <td>a375skincj3-311cas9_repa_p6_batch3</td>\n",
       "      <td>-1.549750</td>\n",
       "      <td>3</td>\n",
       "      <td>True</td>\n",
       "      <td>ACH-002003</td>\n",
       "      <td>NaN</td>\n",
       "      <td>skin</td>\n",
       "      <td>melanoma</td>\n",
       "      <td>WT</td>\n",
       "      <td>...</td>\n",
       "      <td>1.143535</td>\n",
       "      <td>2.209217</td>\n",
       "      <td>0</td>\n",
       "      <td>False</td>\n",
       "      <td>NaN</td>\n",
       "      <td>NaN</td>\n",
       "      <td>NaN</td>\n",
       "      <td>NaN</td>\n",
       "      <td>False</td>\n",
       "      <td>4.266037</td>\n",
       "    </tr>\n",
       "    <tr>\n",
       "      <th>4230</th>\n",
       "      <td>AGAGGAGTACAGTGCAATGA</td>\n",
       "      <td>a375skincj3-311cas9_repa_p6_batch3</td>\n",
       "      <td>-0.730231</td>\n",
       "      <td>3</td>\n",
       "      <td>True</td>\n",
       "      <td>ACH-002003</td>\n",
       "      <td>NaN</td>\n",
       "      <td>skin</td>\n",
       "      <td>melanoma</td>\n",
       "      <td>WT</td>\n",
       "      <td>...</td>\n",
       "      <td>1.143535</td>\n",
       "      <td>2.209217</td>\n",
       "      <td>0</td>\n",
       "      <td>False</td>\n",
       "      <td>NaN</td>\n",
       "      <td>NaN</td>\n",
       "      <td>NaN</td>\n",
       "      <td>NaN</td>\n",
       "      <td>False</td>\n",
       "      <td>4.266037</td>\n",
       "    </tr>\n",
       "    <tr>\n",
       "      <th>4236</th>\n",
       "      <td>ATACCCAATAGAGTCCGAGG</td>\n",
       "      <td>a375skincj3-311cas9_repa_p6_batch3</td>\n",
       "      <td>-1.583222</td>\n",
       "      <td>3</td>\n",
       "      <td>True</td>\n",
       "      <td>ACH-002003</td>\n",
       "      <td>NaN</td>\n",
       "      <td>skin</td>\n",
       "      <td>melanoma</td>\n",
       "      <td>WT</td>\n",
       "      <td>...</td>\n",
       "      <td>1.472983</td>\n",
       "      <td>2.775953</td>\n",
       "      <td>1</td>\n",
       "      <td>False</td>\n",
       "      <td>missense_mutation</td>\n",
       "      <td>FALSE</td>\n",
       "      <td>TRUE</td>\n",
       "      <td>TRUE</td>\n",
       "      <td>False</td>\n",
       "      <td>3.667892</td>\n",
       "    </tr>\n",
       "    <tr>\n",
       "      <th>4248</th>\n",
       "      <td>CCTCAGGTGTCACATCCCGG</td>\n",
       "      <td>a375skincj3-311cas9_repa_p6_batch3</td>\n",
       "      <td>-0.775751</td>\n",
       "      <td>3</td>\n",
       "      <td>True</td>\n",
       "      <td>ACH-002003</td>\n",
       "      <td>NaN</td>\n",
       "      <td>skin</td>\n",
       "      <td>melanoma</td>\n",
       "      <td>WT</td>\n",
       "      <td>...</td>\n",
       "      <td>1.079963</td>\n",
       "      <td>2.113982</td>\n",
       "      <td>0</td>\n",
       "      <td>False</td>\n",
       "      <td>NaN</td>\n",
       "      <td>NaN</td>\n",
       "      <td>NaN</td>\n",
       "      <td>NaN</td>\n",
       "      <td>False</td>\n",
       "      <td>4.167519</td>\n",
       "    </tr>\n",
       "    <tr>\n",
       "      <th>4251</th>\n",
       "      <td>CGAATATGATCCAACAATAG</td>\n",
       "      <td>a375skincj3-311cas9_repa_p6_batch3</td>\n",
       "      <td>0.239417</td>\n",
       "      <td>3</td>\n",
       "      <td>True</td>\n",
       "      <td>ACH-002003</td>\n",
       "      <td>NaN</td>\n",
       "      <td>skin</td>\n",
       "      <td>melanoma</td>\n",
       "      <td>WT</td>\n",
       "      <td>...</td>\n",
       "      <td>1.143535</td>\n",
       "      <td>2.209217</td>\n",
       "      <td>0</td>\n",
       "      <td>False</td>\n",
       "      <td>NaN</td>\n",
       "      <td>NaN</td>\n",
       "      <td>NaN</td>\n",
       "      <td>NaN</td>\n",
       "      <td>False</td>\n",
       "      <td>4.266037</td>\n",
       "    </tr>\n",
       "    <tr>\n",
       "      <th>4266</th>\n",
       "      <td>GCACCACTCCACCGAGTCCG</td>\n",
       "      <td>a375skincj3-311cas9_repa_p6_batch3</td>\n",
       "      <td>-0.403133</td>\n",
       "      <td>3</td>\n",
       "      <td>True</td>\n",
       "      <td>ACH-002003</td>\n",
       "      <td>NaN</td>\n",
       "      <td>skin</td>\n",
       "      <td>melanoma</td>\n",
       "      <td>WT</td>\n",
       "      <td>...</td>\n",
       "      <td>1.079963</td>\n",
       "      <td>2.113982</td>\n",
       "      <td>0</td>\n",
       "      <td>False</td>\n",
       "      <td>NaN</td>\n",
       "      <td>NaN</td>\n",
       "      <td>NaN</td>\n",
       "      <td>NaN</td>\n",
       "      <td>False</td>\n",
       "      <td>4.167519</td>\n",
       "    </tr>\n",
       "    <tr>\n",
       "      <th>4288</th>\n",
       "      <td>GGGCCAGGCTCTGTTCAACG</td>\n",
       "      <td>a375skincj3-311cas9_repa_p6_batch3</td>\n",
       "      <td>-2.012851</td>\n",
       "      <td>3</td>\n",
       "      <td>True</td>\n",
       "      <td>ACH-002003</td>\n",
       "      <td>NaN</td>\n",
       "      <td>skin</td>\n",
       "      <td>melanoma</td>\n",
       "      <td>WT</td>\n",
       "      <td>...</td>\n",
       "      <td>1.472983</td>\n",
       "      <td>2.775953</td>\n",
       "      <td>1</td>\n",
       "      <td>False</td>\n",
       "      <td>missense_mutation</td>\n",
       "      <td>FALSE</td>\n",
       "      <td>TRUE</td>\n",
       "      <td>TRUE</td>\n",
       "      <td>False</td>\n",
       "      <td>3.667892</td>\n",
       "    </tr>\n",
       "    <tr>\n",
       "      <th>4292</th>\n",
       "      <td>GGTGGACACCGAGCTGACCG</td>\n",
       "      <td>a375skincj3-311cas9_repa_p6_batch3</td>\n",
       "      <td>-2.156874</td>\n",
       "      <td>3</td>\n",
       "      <td>True</td>\n",
       "      <td>ACH-002003</td>\n",
       "      <td>NaN</td>\n",
       "      <td>skin</td>\n",
       "      <td>melanoma</td>\n",
       "      <td>WT</td>\n",
       "      <td>...</td>\n",
       "      <td>1.079963</td>\n",
       "      <td>2.113982</td>\n",
       "      <td>0</td>\n",
       "      <td>False</td>\n",
       "      <td>NaN</td>\n",
       "      <td>NaN</td>\n",
       "      <td>NaN</td>\n",
       "      <td>NaN</td>\n",
       "      <td>False</td>\n",
       "      <td>4.167519</td>\n",
       "    </tr>\n",
       "    <tr>\n",
       "      <th>4298</th>\n",
       "      <td>GTCCGCAGCCGAAGAGGCCG</td>\n",
       "      <td>a375skincj3-311cas9_repa_p6_batch3</td>\n",
       "      <td>-0.264441</td>\n",
       "      <td>3</td>\n",
       "      <td>True</td>\n",
       "      <td>ACH-002003</td>\n",
       "      <td>NaN</td>\n",
       "      <td>skin</td>\n",
       "      <td>melanoma</td>\n",
       "      <td>WT</td>\n",
       "      <td>...</td>\n",
       "      <td>1.472983</td>\n",
       "      <td>2.775953</td>\n",
       "      <td>1</td>\n",
       "      <td>False</td>\n",
       "      <td>missense_mutation</td>\n",
       "      <td>FALSE</td>\n",
       "      <td>TRUE</td>\n",
       "      <td>TRUE</td>\n",
       "      <td>False</td>\n",
       "      <td>3.667892</td>\n",
       "    </tr>\n",
       "    <tr>\n",
       "      <th>4308</th>\n",
       "      <td>TCATCAGCAGTGACTCCACA</td>\n",
       "      <td>a375skincj3-311cas9_repa_p6_batch3</td>\n",
       "      <td>0.661678</td>\n",
       "      <td>3</td>\n",
       "      <td>True</td>\n",
       "      <td>ACH-002003</td>\n",
       "      <td>NaN</td>\n",
       "      <td>skin</td>\n",
       "      <td>melanoma</td>\n",
       "      <td>WT</td>\n",
       "      <td>...</td>\n",
       "      <td>1.079963</td>\n",
       "      <td>2.113982</td>\n",
       "      <td>0</td>\n",
       "      <td>False</td>\n",
       "      <td>NaN</td>\n",
       "      <td>NaN</td>\n",
       "      <td>NaN</td>\n",
       "      <td>NaN</td>\n",
       "      <td>False</td>\n",
       "      <td>4.167519</td>\n",
       "    </tr>\n",
       "  </tbody>\n",
       "</table>\n",
       "<p>10 rows × 25 columns</p>\n",
       "</div>"
      ],
      "text/plain": [
       "                     sgrna                        replicate_id       lfc  \\\n",
       "4225  AATTACTACTTGCTTCCTGT  a375skincj3-311cas9_repa_p6_batch3 -1.549750   \n",
       "4230  AGAGGAGTACAGTGCAATGA  a375skincj3-311cas9_repa_p6_batch3 -0.730231   \n",
       "4236  ATACCCAATAGAGTCCGAGG  a375skincj3-311cas9_repa_p6_batch3 -1.583222   \n",
       "4248  CCTCAGGTGTCACATCCCGG  a375skincj3-311cas9_repa_p6_batch3 -0.775751   \n",
       "4251  CGAATATGATCCAACAATAG  a375skincj3-311cas9_repa_p6_batch3  0.239417   \n",
       "4266  GCACCACTCCACCGAGTCCG  a375skincj3-311cas9_repa_p6_batch3 -0.403133   \n",
       "4288  GGGCCAGGCTCTGTTCAACG  a375skincj3-311cas9_repa_p6_batch3 -2.012851   \n",
       "4292  GGTGGACACCGAGCTGACCG  a375skincj3-311cas9_repa_p6_batch3 -2.156874   \n",
       "4298  GTCCGCAGCCGAAGAGGCCG  a375skincj3-311cas9_repa_p6_batch3 -0.264441   \n",
       "4308  TCATCAGCAGTGACTCCACA  a375skincj3-311cas9_repa_p6_batch3  0.661678   \n",
       "\n",
       "      pdna_batch  passes_qc   depmap_id primary_or_metastasis lineage  \\\n",
       "4225           3       True  ACH-002003                   NaN    skin   \n",
       "4230           3       True  ACH-002003                   NaN    skin   \n",
       "4236           3       True  ACH-002003                   NaN    skin   \n",
       "4248           3       True  ACH-002003                   NaN    skin   \n",
       "4251           3       True  ACH-002003                   NaN    skin   \n",
       "4266           3       True  ACH-002003                   NaN    skin   \n",
       "4288           3       True  ACH-002003                   NaN    skin   \n",
       "4292           3       True  ACH-002003                   NaN    skin   \n",
       "4298           3       True  ACH-002003                   NaN    skin   \n",
       "4308           3       True  ACH-002003                   NaN    skin   \n",
       "\n",
       "     lineage_subtype kras_mutation  ... segment_mean  copy_number n_muts  \\\n",
       "4225        melanoma            WT  ...     1.143535     2.209217      0   \n",
       "4230        melanoma            WT  ...     1.143535     2.209217      0   \n",
       "4236        melanoma            WT  ...     1.472983     2.775953      1   \n",
       "4248        melanoma            WT  ...     1.079963     2.113982      0   \n",
       "4251        melanoma            WT  ...     1.143535     2.209217      0   \n",
       "4266        melanoma            WT  ...     1.079963     2.113982      0   \n",
       "4288        melanoma            WT  ...     1.472983     2.775953      1   \n",
       "4292        melanoma            WT  ...     1.079963     2.113982      0   \n",
       "4298        melanoma            WT  ...     1.472983     2.775953      1   \n",
       "4308        melanoma            WT  ...     1.079963     2.113982      0   \n",
       "\n",
       "      any_deleterious  variant_classification  is_deleterious  \\\n",
       "4225            False                     NaN             NaN   \n",
       "4230            False                     NaN             NaN   \n",
       "4236            False       missense_mutation           FALSE   \n",
       "4248            False                     NaN             NaN   \n",
       "4251            False                     NaN             NaN   \n",
       "4266            False                     NaN             NaN   \n",
       "4288            False       missense_mutation           FALSE   \n",
       "4292            False                     NaN             NaN   \n",
       "4298            False       missense_mutation           FALSE   \n",
       "4308            False                     NaN             NaN   \n",
       "\n",
       "      is_tcga_hotspot  is_cosmic_hotspot  mutated_at_guide_location  rna_expr  \n",
       "4225              NaN                NaN                      False  4.266037  \n",
       "4230              NaN                NaN                      False  4.266037  \n",
       "4236             TRUE               TRUE                      False  3.667892  \n",
       "4248              NaN                NaN                      False  4.167519  \n",
       "4251              NaN                NaN                      False  4.266037  \n",
       "4266              NaN                NaN                      False  4.167519  \n",
       "4288             TRUE               TRUE                      False  3.667892  \n",
       "4292              NaN                NaN                      False  4.167519  \n",
       "4298             TRUE               TRUE                      False  3.667892  \n",
       "4308              NaN                NaN                      False  4.167519  \n",
       "\n",
       "[10 rows x 25 columns]"
      ]
     },
     "execution_count": 3,
     "metadata": {},
     "output_type": "execute_result"
    }
   ],
   "source": [
    "data_path = Path(\"../modeling_data/depmap_modeling_dataframe_subsample.csv\")\n",
    "data = pd.read_csv(data_path)\n",
    "\n",
    "SAMPLED_GENES=['KRAS', \"BRAF\", \"DPH7\", \"KF3C\"]\n",
    "SAMPLED_DEPMAPIDS=data[[\"depmap_id\"]].drop_duplicates().sample(n=40).depmap_id.to_list()\n",
    "\n",
    "data = data[~np.isnan(data.segment_mean)]\n",
    "data = data[data['hugo_symbol'].isin(SAMPLED_GENES)]\n",
    "data = data[data['depmap_id'].isin(SAMPLED_DEPMAPIDS)]\n",
    "\n",
    "data.head(n=10)"
   ]
  },
  {
   "cell_type": "code",
   "execution_count": 4,
   "metadata": {},
   "outputs": [
    {
     "name": "stdout",
     "output_type": "stream",
     "text": [
      "testing with 1044 data points\n"
     ]
    }
   ],
   "source": [
    "print(f\"testing with {data.shape[0]} data points\")"
   ]
  },
  {
   "cell_type": "code",
   "execution_count": 5,
   "metadata": {},
   "outputs": [],
   "source": [
    "def make_cat(df, col, ordered=True):\n",
    "    \"\"\"Make a column of a data frame into categorical.\"\"\"\n",
    "    df[col] = pd.Categorical(df[col], categories=df[col].unique(), ordered=ordered)\n",
    "    return df\n",
    "\n",
    "\n",
    "cat_cols = [\n",
    "    \"sgrna\",\n",
    "    \"replicate_id\",\n",
    "    \"pdna_batch\",\n",
    "    \"depmap_id\",\n",
    "    \"lineage\",\n",
    "    \"kras_mutation\",\n",
    "    \"hugo_symbol\",\n",
    "    \"chromosome\",\n",
    "]\n",
    "\n",
    "for col in cat_cols:\n",
    "    data = make_cat(data, col)"
   ]
  },
  {
   "cell_type": "code",
   "execution_count": 6,
   "metadata": {},
   "outputs": [],
   "source": [
    "def count_unique(df, col):\n",
    "    \"\"\"Count the number of unique values in a column.\"\"\"\n",
    "    return len(df[col].unique())\n",
    "\n",
    "\n",
    "def get_indices(df, col):\n",
    "    \"\"\"Get a list of the indices for a column.\"\"\"\n",
    "    return df[col].cat.codes.to_list()\n",
    "\n",
    "\n",
    "num_sgrnas = count_unique(data, \"sgrna\")\n",
    "num_genes = count_unique(data, \"hugo_symbol\")\n",
    "num_cell_lines = count_unique(data, \"depmap_id\")\n",
    "\n",
    "sgrna_idx = get_indices(data, \"sgrna\")\n",
    "gene_idx = get_indices(data, \"hugo_symbol\")\n",
    "cell_line_idx = get_indices(data, \"depmap_id\")"
   ]
  },
  {
   "cell_type": "code",
   "execution_count": 7,
   "metadata": {},
   "outputs": [],
   "source": [
    "data[\"segment_mean_z\"] = data[\"segment_mean\"].apply(lambda x: np.min((x, 10)))\n",
    "data[\"segment_mean_z\"] = data.groupby(\"hugo_symbol\")[\"segment_mean_z\"].apply(\n",
    "    lambda x: (x - np.mean(x)) / np.std(x)\n",
    ")"
   ]
  },
  {
   "cell_type": "code",
   "execution_count": 8,
   "metadata": {},
   "outputs": [
    {
     "data": {
      "image/png": "[encoded data removed]",
      "text/plain": [
       "<Figure size 640x480 with 1 Axes>"
      ]
     },
     "metadata": {
      "needs_background": "light"
     },
     "output_type": "display_data"
    },
    {
     "data": {
      "text/plain": [
       "<ggplot: (8789751417835)>"
      ]
     },
     "execution_count": 8,
     "metadata": {},
     "output_type": "execute_result"
    }
   ],
   "source": [
    "(\n",
    "    gg.ggplot(data, gg.aes(x=\"segment_mean_z\"))\n",
    "    + gg.geom_density(gg.aes(color=\"hugo_symbol\"), size=0.7)\n",
    "    + gg.scale_color_discrete(guide=False)\n",
    "    + gg.labs(x=\"z-scaled segment mean\", y=\"density\")\n",
    ")"
   ]
  },
  {
   "cell_type": "markdown",
   "metadata": {},
   "source": [
    "### Model 1.\n",
    "\n",
    "Below is the model that will be fit with PyMC3 as the mimic of CERES.\n",
    "\n",
    "$\n",
    "\\quad D_{ij} \\sim \\mathcal{N}(\\mu_{ij}, \\epsilon) \\\\\n",
    "\\quad \\mu_{ij} = q_i \\lgroup h_k + g_{kj} \\beta_{ij} C_{ij} \\rgroup + o_i \\\\\n",
    "\\qquad q_i \\sim \\text{Beta}(2, 2) \\\\\n",
    "\\qquad h_k \\sim \\mathcal{N}(0, 1) \\\\\n",
    "\\qquad g_{kj} \\sim \\mathcal{N}(0, 1) \\\\\n",
    "\\qquad \\beta_{ij} \\sim \\mathcal{N}(-0.2, 0.5) \\\\\n",
    "\\qquad o_i \\sim \\mathcal{N}(0, 1) \\\\\n",
    "\\quad \\epsilon \\sim \\text{Exp}(1)\n",
    "$"
   ]
  },
  {
   "cell_type": "code",
   "execution_count": 9,
   "metadata": {},
   "outputs": [
    {
     "name": "stderr",
     "output_type": "stream",
     "text": [
      "/home/jc604/.conda/envs/speclet/lib/python3.8/site-packages/theano/tensor/subtensor.py:2197: FutureWarning: Using a non-tuple sequence for multidimensional indexing is deprecated; use `arr[tuple(seq)]` instead of `arr[seq]`. In the future this will be interpreted as an array index, `arr[np.array(seq)]`, which will result either in an error or a different result.\n"
     ]
    },
    {
     "name": "stdout",
     "output_type": "stream",
     "text": [
      "CPU times: user 2.21 s, sys: 448 ms, total: 2.66 s\n",
      "Wall time: 7.25 s\n"
     ]
    }
   ],
   "source": [
    "%%time\n",
    "with pm.Model() as ceres_m1:\n",
    "    # Priors\n",
    "    q_i = pm.Beta(\"q_i\", alpha=2, beta=2, shape=num_sgrnas)\n",
    "    h_k = pm.Normal(\"h_k\", 0, 1, shape=num_genes)\n",
    "    g_kj = pm.Normal(\"g_kj\", 0, 1, shape=(num_genes, num_cell_lines))\n",
    "    #     beta_ij = pm.Normal(\"beta_ij\", -0.2, 0.5, shape=(num_sgrnas, num_cell_lines))\n",
    "    o_i = pm.Normal(\"o_i\", 0, 1, shape=num_sgrnas)\n",
    "\n",
    "    # Model\n",
    "    mu_ij = (\n",
    "        q_i[sgrna_idx] * (h_k[gene_idx] + g_kj[gene_idx, cell_line_idx])\n",
    "        + o_i[sgrna_idx]\n",
    "    )\n",
    "    epsilon = pm.Exponential(\"epsilon\", 1)\n",
    "\n",
    "    # Likelihood\n",
    "    D_ij = pm.Normal(\"D_ij\", mu_ij, epsilon, observed=data.lfc)"
   ]
  },
  {
   "cell_type": "code",
   "execution_count": 10,
   "metadata": {},
   "outputs": [
    {
     "data": {
      "image/svg+xml": [
       "<?xml version=\"1.0\" encoding=\"UTF-8\" standalone=\"no\"?>\n",
       "<!DOCTYPE svg PUBLIC \"-//W3C//DTD SVG 1.1//EN\"\n",
       " \"http://www.w3.org/Graphics/SVG/1.1/DTD/svg11.dtd\">\n",
       "<!-- Generated by graphviz version 2.42.3 (20191010.1750)\n",
       " -->\n",
       "<!-- Title: %3 Pages: 1 -->\n",
       "<svg width=\"534pt\" height=\"260pt\"\n",
       " viewBox=\"0.00 0.00 533.98 259.91\" xmlns=\"http://www.w3.org/2000/svg\" xmlns:xlink=\"http://www.w3.org/1999/xlink\">\n",
       "<g id=\"graph0\" class=\"graph\" transform=\"scale(1 1) rotate(0) translate(4 255.91)\">\n",
       "<title>%3</title>\n",
       "<polygon fill=\"white\" stroke=\"transparent\" points=\"-4,4 -4,-255.91 529.98,-255.91 529.98,4 -4,4\"/>\n",
       "<g id=\"clust1\" class=\"cluster\">\n",
       "<title>cluster12</title>\n",
       "<path fill=\"none\" stroke=\"black\" d=\"M20,-129.95C20,-129.95 172,-129.95 172,-129.95 178,-129.95 184,-135.95 184,-141.95 184,-141.95 184,-231.91 184,-231.91 184,-237.91 178,-243.91 172,-243.91 172,-243.91 20,-243.91 20,-243.91 14,-243.91 8,-237.91 8,-231.91 8,-231.91 8,-141.95 8,-141.95 8,-135.95 14,-129.95 20,-129.95\"/>\n",
       "<text text-anchor=\"middle\" x=\"169\" y=\"-137.75\" font-family=\"Times,serif\" font-size=\"14.00\">12</text>\n",
       "</g>\n",
       "<g id=\"clust2\" class=\"cluster\">\n",
       "<title>cluster3</title>\n",
       "<path fill=\"none\" stroke=\"black\" d=\"M204,-129.95C204,-129.95 280,-129.95 280,-129.95 286,-129.95 292,-135.95 292,-141.95 292,-141.95 292,-231.91 292,-231.91 292,-237.91 286,-243.91 280,-243.91 280,-243.91 204,-243.91 204,-243.91 198,-243.91 192,-237.91 192,-231.91 192,-231.91 192,-141.95 192,-141.95 192,-135.95 198,-129.95 204,-129.95\"/>\n",
       "<text text-anchor=\"middle\" x=\"280.5\" y=\"-137.75\" font-family=\"Times,serif\" font-size=\"14.00\">3</text>\n",
       "</g>\n",
       "<g id=\"clust3\" class=\"cluster\">\n",
       "<title>cluster3 x 40</title>\n",
       "<path fill=\"none\" stroke=\"black\" d=\"M312,-129.95C312,-129.95 388,-129.95 388,-129.95 394,-129.95 400,-135.95 400,-141.95 400,-141.95 400,-231.91 400,-231.91 400,-237.91 394,-243.91 388,-243.91 388,-243.91 312,-243.91 312,-243.91 306,-243.91 300,-237.91 300,-231.91 300,-231.91 300,-141.95 300,-141.95 300,-135.95 306,-129.95 312,-129.95\"/>\n",
       "<text text-anchor=\"middle\" x=\"374.5\" y=\"-137.75\" font-family=\"Times,serif\" font-size=\"14.00\">3 x 40</text>\n",
       "</g>\n",
       "<g id=\"clust4\" class=\"cluster\">\n",
       "<title>cluster1,044</title>\n",
       "<path fill=\"none\" stroke=\"black\" d=\"M204,-8C204,-8 280,-8 280,-8 286,-8 292,-14 292,-20 292,-20 292,-109.95 292,-109.95 292,-115.95 286,-121.95 280,-121.95 280,-121.95 204,-121.95 204,-121.95 198,-121.95 192,-115.95 192,-109.95 192,-109.95 192,-20 192,-20 192,-14 198,-8 204,-8\"/>\n",
       "<text text-anchor=\"middle\" x=\"268.5\" y=\"-15.8\" font-family=\"Times,serif\" font-size=\"14.00\">1,044</text>\n",
       "</g>\n",
       "<!-- o_i -->\n",
       "<g id=\"node1\" class=\"node\">\n",
       "<title>o_i</title>\n",
       "<ellipse fill=\"none\" stroke=\"black\" cx=\"134\" cy=\"-198.43\" rx=\"41.94\" ry=\"37.45\"/>\n",
       "<text text-anchor=\"middle\" x=\"134\" y=\"-209.73\" font-family=\"Times,serif\" font-size=\"14.00\">o_i</text>\n",
       "<text text-anchor=\"middle\" x=\"134\" y=\"-194.73\" font-family=\"Times,serif\" font-size=\"14.00\">~</text>\n",
       "<text text-anchor=\"middle\" x=\"134\" y=\"-179.73\" font-family=\"Times,serif\" font-size=\"14.00\">Normal</text>\n",
       "</g>\n",
       "<!-- D_ij -->\n",
       "<g id=\"node6\" class=\"node\">\n",
       "<title>D_ij</title>\n",
       "<ellipse fill=\"lightgrey\" stroke=\"black\" cx=\"242\" cy=\"-76.48\" rx=\"41.94\" ry=\"37.45\"/>\n",
       "<text text-anchor=\"middle\" x=\"242\" y=\"-87.78\" font-family=\"Times,serif\" font-size=\"14.00\">D_ij</text>\n",
       "<text text-anchor=\"middle\" x=\"242\" y=\"-72.78\" font-family=\"Times,serif\" font-size=\"14.00\">~</text>\n",
       "<text text-anchor=\"middle\" x=\"242\" y=\"-57.78\" font-family=\"Times,serif\" font-size=\"14.00\">Normal</text>\n",
       "</g>\n",
       "<!-- o_i&#45;&gt;D_ij -->\n",
       "<g id=\"edge4\" class=\"edge\">\n",
       "<title>o_i&#45;&gt;D_ij</title>\n",
       "<path fill=\"none\" stroke=\"black\" d=\"M157.14,-166.87C166.42,-155.06 177.41,-141.62 188,-129.95 193.69,-123.69 199.95,-117.25 206.13,-111.11\"/>\n",
       "<polygon fill=\"black\" stroke=\"black\" points=\"208.61,-113.57 213.31,-104.07 203.72,-108.57 208.61,-113.57\"/>\n",
       "</g>\n",
       "<!-- q_i -->\n",
       "<g id=\"node2\" class=\"node\">\n",
       "<title>q_i</title>\n",
       "<ellipse fill=\"none\" stroke=\"black\" cx=\"45\" cy=\"-198.43\" rx=\"28.98\" ry=\"37.45\"/>\n",
       "<text text-anchor=\"middle\" x=\"45\" y=\"-209.73\" font-family=\"Times,serif\" font-size=\"14.00\">q_i</text>\n",
       "<text text-anchor=\"middle\" x=\"45\" y=\"-194.73\" font-family=\"Times,serif\" font-size=\"14.00\">~</text>\n",
       "<text text-anchor=\"middle\" x=\"45\" y=\"-179.73\" font-family=\"Times,serif\" font-size=\"14.00\">Beta</text>\n",
       "</g>\n",
       "<!-- q_i&#45;&gt;D_ij -->\n",
       "<g id=\"edge3\" class=\"edge\">\n",
       "<title>q_i&#45;&gt;D_ij</title>\n",
       "<path fill=\"none\" stroke=\"black\" d=\"M57.51,-164.4C63.59,-152.13 71.99,-139.01 83,-129.95 113.72,-104.68 157.03,-91.43 190.69,-84.58\"/>\n",
       "<polygon fill=\"black\" stroke=\"black\" points=\"191.64,-87.96 200.81,-82.65 190.33,-81.08 191.64,-87.96\"/>\n",
       "</g>\n",
       "<!-- h_k -->\n",
       "<g id=\"node3\" class=\"node\">\n",
       "<title>h_k</title>\n",
       "<ellipse fill=\"none\" stroke=\"black\" cx=\"242\" cy=\"-198.43\" rx=\"41.94\" ry=\"37.45\"/>\n",
       "<text text-anchor=\"middle\" x=\"242\" y=\"-209.73\" font-family=\"Times,serif\" font-size=\"14.00\">h_k</text>\n",
       "<text text-anchor=\"middle\" x=\"242\" y=\"-194.73\" font-family=\"Times,serif\" font-size=\"14.00\">~</text>\n",
       "<text text-anchor=\"middle\" x=\"242\" y=\"-179.73\" font-family=\"Times,serif\" font-size=\"14.00\">Normal</text>\n",
       "</g>\n",
       "<!-- h_k&#45;&gt;D_ij -->\n",
       "<g id=\"edge5\" class=\"edge\">\n",
       "<title>h_k&#45;&gt;D_ij</title>\n",
       "<path fill=\"none\" stroke=\"black\" d=\"M242,-160.79C242,-149.38 242,-136.65 242,-124.63\"/>\n",
       "<polygon fill=\"black\" stroke=\"black\" points=\"245.5,-124.31 242,-114.31 238.5,-124.31 245.5,-124.31\"/>\n",
       "</g>\n",
       "<!-- g_kj -->\n",
       "<g id=\"node4\" class=\"node\">\n",
       "<title>g_kj</title>\n",
       "<ellipse fill=\"none\" stroke=\"black\" cx=\"350\" cy=\"-198.43\" rx=\"41.94\" ry=\"37.45\"/>\n",
       "<text text-anchor=\"middle\" x=\"350\" y=\"-209.73\" font-family=\"Times,serif\" font-size=\"14.00\">g_kj</text>\n",
       "<text text-anchor=\"middle\" x=\"350\" y=\"-194.73\" font-family=\"Times,serif\" font-size=\"14.00\">~</text>\n",
       "<text text-anchor=\"middle\" x=\"350\" y=\"-179.73\" font-family=\"Times,serif\" font-size=\"14.00\">Normal</text>\n",
       "</g>\n",
       "<!-- g_kj&#45;&gt;D_ij -->\n",
       "<g id=\"edge1\" class=\"edge\">\n",
       "<title>g_kj&#45;&gt;D_ij</title>\n",
       "<path fill=\"none\" stroke=\"black\" d=\"M326.86,-166.87C317.58,-155.06 306.59,-141.62 296,-129.95 290.31,-123.69 284.05,-117.25 277.87,-111.11\"/>\n",
       "<polygon fill=\"black\" stroke=\"black\" points=\"280.28,-108.57 270.69,-104.07 275.39,-113.57 280.28,-108.57\"/>\n",
       "</g>\n",
       "<!-- epsilon -->\n",
       "<g id=\"node5\" class=\"node\">\n",
       "<title>epsilon</title>\n",
       "<ellipse fill=\"none\" stroke=\"black\" cx=\"468\" cy=\"-198.43\" rx=\"57.97\" ry=\"37.45\"/>\n",
       "<text text-anchor=\"middle\" x=\"468\" y=\"-209.73\" font-family=\"Times,serif\" font-size=\"14.00\">epsilon</text>\n",
       "<text text-anchor=\"middle\" x=\"468\" y=\"-194.73\" font-family=\"Times,serif\" font-size=\"14.00\">~</text>\n",
       "<text text-anchor=\"middle\" x=\"468\" y=\"-179.73\" font-family=\"Times,serif\" font-size=\"14.00\">Exponential</text>\n",
       "</g>\n",
       "<!-- epsilon&#45;&gt;D_ij -->\n",
       "<g id=\"edge2\" class=\"edge\">\n",
       "<title>epsilon&#45;&gt;D_ij</title>\n",
       "<path fill=\"none\" stroke=\"black\" d=\"M442.74,-164.48C431.94,-152.22 418.48,-139.08 404,-129.95 369.89,-108.45 326.14,-94.96 292.71,-87.05\"/>\n",
       "<polygon fill=\"black\" stroke=\"black\" points=\"293.21,-83.58 282.69,-84.78 291.66,-90.41 293.21,-83.58\"/>\n",
       "</g>\n",
       "</g>\n",
       "</svg>\n"
      ],
      "text/plain": [
       "<graphviz.dot.Digraph at 0x7fe82d4b3df0>"
      ]
     },
     "execution_count": 10,
     "metadata": {},
     "output_type": "execute_result"
    }
   ],
   "source": [
    "pm.model_to_graphviz(ceres_m1)"
   ]
  },
  {
   "cell_type": "code",
   "execution_count": 35,
   "metadata": {},
   "outputs": [
    {
     "name": "stdout",
     "output_type": "stream",
     "text": [
      "Loading cached trace and posterior sample...\n"
     ]
    }
   ],
   "source": [
    "ceres_m1_cachedir = pymc3_cache_dir / \"ceres_m1\"\n",
    "\n",
    "ceres_m1_samples = pmhelp.pymc3_sampling_procedure(\n",
    "    model=ceres_m1,\n",
    "    num_mcmc=2000,\n",
    "    tune=1000,\n",
    "    chains=2,\n",
    "    prior_check_samples=1000,\n",
    "    ppc_samples=1000,\n",
    "    random_seed=RANDOM_SEED,\n",
    "    cache_dir=ceres_m1_cachedir,\n",
    "    force=False\n",
    ")"
   ]
  },
  {
   "cell_type": "code",
   "execution_count": 38,
   "metadata": {},
   "outputs": [
    {
     "name": "stderr",
     "output_type": "stream",
     "text": [
      "arviz.data.io_pymc3 - WARNING - posterior predictive variable D_ij's shape not compatible with number of chains and draws. This can mean that some draws or even whole chains are not represented.\n"
     ]
    }
   ],
   "source": [
    "az_ceres_m1 = az.from_pymc3(\n",
    "    trace=ceres_m1_samples[\"trace\"],\n",
    "    model=ceres_m1,\n",
    "    prior=ceres_m1_samples[\"prior_predictive\"],\n",
    "    posterior_predictive=ceres_m1_samples[\"posterior_predictive\"],\n",
    ")"
   ]
  },
  {
   "cell_type": "code",
   "execution_count": 39,
   "metadata": {},
   "outputs": [
    {
     "data": {
      "image/png": "[encoded data removed]",
      "text/plain": [
       "<Figure size 432x374.4 with 1 Axes>"
      ]
     },
     "metadata": {
      "needs_background": "light"
     },
     "output_type": "display_data"
    }
   ],
   "source": [
    "az.plot_forest(az_ceres_m1, var_names=\"q_i\", combined=True)\n",
    "plt.show()"
   ]
  },
  {
   "cell_type": "code",
   "execution_count": 40,
   "metadata": {},
   "outputs": [
    {
     "data": {
      "image/png": "[encoded data removed]",
      "text/plain": [
       "<Figure size 432x374.4 with 1 Axes>"
      ]
     },
     "metadata": {
      "needs_background": "light"
     },
     "output_type": "display_data"
    }
   ],
   "source": [
    "az.plot_forest(az_ceres_m1, var_names=\"o_i\", combined=True)\n",
    "plt.show()"
   ]
  },
  {
   "cell_type": "code",
   "execution_count": 41,
   "metadata": {},
   "outputs": [
    {
     "data": {
      "image/png": "[encoded data removed]",
      "text/plain": [
       "<Figure size 432x309.6 with 1 Axes>"
      ]
     },
     "metadata": {
      "needs_background": "light"
     },
     "output_type": "display_data"
    }
   ],
   "source": [
    "az.plot_forest(az_ceres_m1, var_names=\"h_k\", combined=True)\n",
    "plt.show()"
   ]
  },
  {
   "cell_type": "code",
   "execution_count": 46,
   "metadata": {},
   "outputs": [
    {
     "data": {
      "text/plain": [
       "(4000, 3, 40)"
      ]
     },
     "execution_count": 46,
     "metadata": {},
     "output_type": "execute_result"
    }
   ],
   "source": [
    "gene_effect_post = ceres_m1_samples[\"trace\"].get_values(\"g_kj\")\n",
    "gene_effect_post.shape"
   ]
  },
  {
   "cell_type": "code",
   "execution_count": 47,
   "metadata": {},
   "outputs": [
    {
     "data": {
      "text/plain": [
       "(3, 40)"
      ]
     },
     "execution_count": 47,
     "metadata": {},
     "output_type": "execute_result"
    }
   ],
   "source": [
    "gene_effect_mean = gene_effect_post.mean(axis=0)\n",
    "gene_effect_mean.shape"
   ]
  },
  {
   "cell_type": "code",
   "execution_count": 48,
   "metadata": {},
   "outputs": [
    {
     "data": {
      "text/plain": [
       "Index(['KRAS', 'BRAF', 'DPH7'], dtype='object')"
      ]
     },
     "execution_count": 48,
     "metadata": {},
     "output_type": "execute_result"
    }
   ],
   "source": [
    "data['hugo_symbol'].cat.categories"
   ]
  },
  {
   "cell_type": "code",
   "execution_count": 49,
   "metadata": {},
   "outputs": [
    {
     "data": {
      "text/html": [
       "<div>\n",
       "<style scoped>\n",
       "    .dataframe tbody tr th:only-of-type {\n",
       "        vertical-align: middle;\n",
       "    }\n",
       "\n",
       "    .dataframe tbody tr th {\n",
       "        vertical-align: top;\n",
       "    }\n",
       "\n",
       "    .dataframe thead th {\n",
       "        text-align: right;\n",
       "    }\n",
       "</style>\n",
       "<table border=\"1\" class=\"dataframe\">\n",
       "  <thead>\n",
       "    <tr style=\"text-align: right;\">\n",
       "      <th></th>\n",
       "      <th>gene_idx</th>\n",
       "      <th>cell_line_idx</th>\n",
       "      <th>gene_effect</th>\n",
       "      <th>hugo_symbol</th>\n",
       "      <th>depmap_id</th>\n",
       "    </tr>\n",
       "  </thead>\n",
       "  <tbody>\n",
       "    <tr>\n",
       "      <th>0</th>\n",
       "      <td>0</td>\n",
       "      <td>0</td>\n",
       "      <td>-0.809170</td>\n",
       "      <td>KRAS</td>\n",
       "      <td>ACH-002003</td>\n",
       "    </tr>\n",
       "    <tr>\n",
       "      <th>1</th>\n",
       "      <td>1</td>\n",
       "      <td>0</td>\n",
       "      <td>-2.136512</td>\n",
       "      <td>BRAF</td>\n",
       "      <td>ACH-002003</td>\n",
       "    </tr>\n",
       "    <tr>\n",
       "      <th>2</th>\n",
       "      <td>2</td>\n",
       "      <td>0</td>\n",
       "      <td>-2.888485</td>\n",
       "      <td>DPH7</td>\n",
       "      <td>ACH-002003</td>\n",
       "    </tr>\n",
       "    <tr>\n",
       "      <th>3</th>\n",
       "      <td>0</td>\n",
       "      <td>1</td>\n",
       "      <td>-1.020171</td>\n",
       "      <td>KRAS</td>\n",
       "      <td>ACH-000757</td>\n",
       "    </tr>\n",
       "    <tr>\n",
       "      <th>4</th>\n",
       "      <td>1</td>\n",
       "      <td>1</td>\n",
       "      <td>0.140421</td>\n",
       "      <td>BRAF</td>\n",
       "      <td>ACH-000757</td>\n",
       "    </tr>\n",
       "    <tr>\n",
       "      <th>5</th>\n",
       "      <td>2</td>\n",
       "      <td>1</td>\n",
       "      <td>-0.652821</td>\n",
       "      <td>DPH7</td>\n",
       "      <td>ACH-000757</td>\n",
       "    </tr>\n",
       "    <tr>\n",
       "      <th>6</th>\n",
       "      <td>0</td>\n",
       "      <td>2</td>\n",
       "      <td>-0.007476</td>\n",
       "      <td>KRAS</td>\n",
       "      <td>ACH-000528</td>\n",
       "    </tr>\n",
       "    <tr>\n",
       "      <th>7</th>\n",
       "      <td>1</td>\n",
       "      <td>2</td>\n",
       "      <td>0.480153</td>\n",
       "      <td>BRAF</td>\n",
       "      <td>ACH-000528</td>\n",
       "    </tr>\n",
       "    <tr>\n",
       "      <th>8</th>\n",
       "      <td>2</td>\n",
       "      <td>2</td>\n",
       "      <td>-0.170117</td>\n",
       "      <td>DPH7</td>\n",
       "      <td>ACH-000528</td>\n",
       "    </tr>\n",
       "    <tr>\n",
       "      <th>9</th>\n",
       "      <td>0</td>\n",
       "      <td>3</td>\n",
       "      <td>-0.113334</td>\n",
       "      <td>KRAS</td>\n",
       "      <td>ACH-000222</td>\n",
       "    </tr>\n",
       "  </tbody>\n",
       "</table>\n",
       "</div>"
      ],
      "text/plain": [
       "   gene_idx cell_line_idx  gene_effect hugo_symbol   depmap_id\n",
       "0         0             0    -0.809170        KRAS  ACH-002003\n",
       "1         1             0    -2.136512        BRAF  ACH-002003\n",
       "2         2             0    -2.888485        DPH7  ACH-002003\n",
       "3         0             1    -1.020171        KRAS  ACH-000757\n",
       "4         1             1     0.140421        BRAF  ACH-000757\n",
       "5         2             1    -0.652821        DPH7  ACH-000757\n",
       "6         0             2    -0.007476        KRAS  ACH-000528\n",
       "7         1             2     0.480153        BRAF  ACH-000528\n",
       "8         2             2    -0.170117        DPH7  ACH-000528\n",
       "9         0             3    -0.113334        KRAS  ACH-000222"
      ]
     },
     "execution_count": 49,
     "metadata": {},
     "output_type": "execute_result"
    }
   ],
   "source": [
    "gene_effect_post_df = (\n",
    "    pd.DataFrame(gene_effect_mean)\n",
    "    .reset_index()\n",
    "    .rename(columns={\"index\": \"gene_idx\"})\n",
    "    .melt(id_vars=\"gene_idx\", var_name=\"cell_line_idx\", value_name=\"gene_effect\")\n",
    "    .assign(\n",
    "        hugo_symbol=lambda d: [\n",
    "            data[\"hugo_symbol\"].values.categories[i] for i in d[\"gene_idx\"].values\n",
    "        ],\n",
    "        depmap_id=lambda d: [\n",
    "            data[\"depmap_id\"].values.categories[i] for i in d[\"cell_line_idx\"].values\n",
    "        ],\n",
    "    )\n",
    ")\n",
    "gene_effect_post_df.head(n=10)"
   ]
  },
  {
   "cell_type": "code",
   "execution_count": 53,
   "metadata": {},
   "outputs": [
    {
     "data": {
      "image/png": "[encoded data removed]",
      "text/plain": [
       "<Figure size 100x1000 with 1 Axes>"
      ]
     },
     "metadata": {
      "needs_background": "light"
     },
     "output_type": "display_data"
    },
    {
     "data": {
      "text/plain": [
       "<ggplot: (8789678696298)>"
      ]
     },
     "execution_count": 53,
     "metadata": {},
     "output_type": "execute_result"
    }
   ],
   "source": [
    "(\n",
    "    gg.ggplot(gene_effect_post_df, gg.aes(x=\"hugo_symbol\", y=\"depmap_id\"))\n",
    "    + gg.geom_tile(gg.aes(fill=\"gene_effect\"))\n",
    "    + gg.theme(\n",
    "        figure_size=(1, 10),\n",
    "        axis_text_x=gg.element_text(angle=90),\n",
    "        axis_text_y=gg.element_text(size=6),\n",
    "    )\n",
    ")"
   ]
  },
  {
   "cell_type": "code",
   "execution_count": 54,
   "metadata": {},
   "outputs": [
    {
     "data": {
      "image/png": "[encoded data removed]",
      "text/plain": [
       "<Figure size 640x480 with 1 Axes>"
      ]
     },
     "metadata": {
      "needs_background": "light"
     },
     "output_type": "display_data"
    },
    {
     "data": {
      "text/plain": [
       "<ggplot: (8789676950038)>"
      ]
     },
     "execution_count": 54,
     "metadata": {},
     "output_type": "execute_result"
    }
   ],
   "source": [
    "(\n",
    "    gg.ggplot(gene_effect_post_df, gg.aes(x=\"hugo_symbol\", y=\"gene_effect\"))\n",
    "    + gg.geom_boxplot(alpha=0, color=\"gray\", outlier_size=-1)\n",
    "    + gg.geom_jitter(alpha=0.5, size=0.2, height=0, width=0.4)\n",
    "    + gg.theme(axis_text_x=gg.element_text(angle=90, hjust=0.5, vjust=1))\n",
    ")"
   ]
  },
  {
   "cell_type": "code",
   "execution_count": 55,
   "metadata": {},
   "outputs": [
    {
     "data": {
      "image/png": "[encoded data removed]",
      "text/plain": [
       "<Figure size 640x480 with 1 Axes>"
      ]
     },
     "metadata": {
      "needs_background": "light"
     },
     "output_type": "display_data"
    },
    {
     "data": {
      "text/plain": [
       "<ggplot: (8789676969819)>"
      ]
     },
     "execution_count": 55,
     "metadata": {},
     "output_type": "execute_result"
    }
   ],
   "source": [
    "kras_muts = data[[\"depmap_id\", \"kras_mutation\"]].drop_duplicates()\n",
    "kras_muts[[\"depmap_id\", \"kras_mutation\"]] = kras_muts[\n",
    "    [\"depmap_id\", \"kras_mutation\"]\n",
    "].astype(\"str\")\n",
    "\n",
    "kras_gene_effect = (\n",
    "    gene_effect_post_df[gene_effect_post_df.hugo_symbol == \"KRAS\"]\n",
    "    .reset_index(drop=True)\n",
    "    .merge(kras_muts, how=\"left\", on=[\"depmap_id\"])\n",
    ")\n",
    "\n",
    "(\n",
    "    gg.ggplot(kras_gene_effect, gg.aes(x=\"kras_mutation\", y=\"gene_effect\"))\n",
    "    + gg.geom_boxplot(alpha=0, color=\"gray\", outlier_size=-1)\n",
    "    + gg.geom_jitter(gg.aes(color=\"kras_mutation\"), width=0.4, height=0)\n",
    "    + gg.theme(axis_text_x = gg.element_text(angle=90, hjust=0.5, vjust=1))\n",
    ")"
   ]
  },
  {
   "cell_type": "code",
   "execution_count": null,
   "metadata": {},
   "outputs": [],
   "source": []
  }
 ],
 "metadata": {
  "kernelspec": {
   "display_name": "Python 3",
   "language": "python",
   "name": "python3"
  },
  "language_info": {
   "codemirror_mode": {
    "name": "ipython",
    "version": 3
   },
   "file_extension": ".py",
   "mimetype": "text/x-python",
   "name": "python",
   "nbconvert_exporter": "python",
   "pygments_lexer": "ipython3",
   "version": "3.8.5"
  }
 },
 "nbformat": 4,
 "nbformat_minor": 4
}
