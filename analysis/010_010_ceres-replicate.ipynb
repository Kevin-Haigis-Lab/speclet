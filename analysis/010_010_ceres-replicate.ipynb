{
 "cells": [
  {
   "cell_type": "markdown",
   "metadata": {},
   "source": [
    "# Replicate the CERES model"
   ]
  },
  {
   "cell_type": "markdown",
   "metadata": {},
   "source": [
    "## The CERES model\n",
    "\n",
    "The following is the CERES model as desicrbed in [\"Computational correction of copy number effect improves specificity of CRISPR–Cas9 essentiality screens in cancer cells\"](https://www.nature.com/articles/ng.3984#Sec24) (Meyeres *et al*, 2017).\n",
    "\n",
    "\n",
    "$\n",
    "\\quad D_{ij} = q_i \\lgroup \\sum_{k \\in G_i} (h_k + g_{kj}) + \\mathcal{f} (\\sum_{l \\in L_i} C_{lj}) \\rgroup + o_i + \\epsilon\n",
    "$\n",
    "\n",
    "where:\n",
    "\n",
    "- $D_{ij}$: sgRNA $i$ depletion in cell line $j$\n",
    "- $q_i$: \"guide activity score... to mitigate the influence of low-quality reagents\" (restricted $[0,1]$)\n",
    "- $G_i$: the genes targeted by sgRNA $i$\n",
    "- $h_k$: \"shared\" (non-cell-line-specific) effect of gene $k$\n",
    "- $g_{kj}$: cell-line-specific effect in cell line $j$ and gene $k$\n",
    "- $\\mathcal{f}_j$: piecewise linear spine to model copy number effect\n",
    "- $L_i$: target loci of sgRNA $i$\n",
    "- $C_{lj}$: copy number of target locus $l$ in cell line $j$\n",
    "- $o_i$: sgRNA-sepcific effect to account for noise in the measurement of sgRNA abundance in the reference pool\n",
    "- $\\epsilon$: normal error"
   ]
  },
  {
   "cell_type": "markdown",
   "metadata": {},
   "source": [
    "Below is the model that will be fit with PyMC3 as the mimic of CERES.\n",
    "\n",
    "$\n",
    "\\quad D_{ij} \\sim \\mathcal{N}(\\mu_{ij}, \\epsilon) \\\\\n",
    "\\quad \\mu_{ij} = q_i \\lgroup h_k + g_{kj} \\beta_{ij} C_{ij} \\rgroup + o_i \\\\\n",
    "\\qquad q_i \\sim \\text{Beta}(2, 2) \\\\\n",
    "\\qquad h_k \\sim \\mathcal{N}(0, 1) \\\\\n",
    "\\qquad g_{kj} \\sim \\mathcal{N}(0, 1) \\\\\n",
    "\\qquad \\beta_{ij} \\sim \\mathcal{N}(-0.2, 0.5) \\\\\n",
    "\\qquad o_i \\sim \\mathcal{N}(0, 1) \\\\\n",
    "\\quad \\epsilon \\sim \\text{Exp}(1)\n",
    "$"
   ]
  },
  {
   "cell_type": "code",
   "execution_count": null,
   "metadata": {},
   "outputs": [],
   "source": []
  }
 ],
 "metadata": {
  "kernelspec": {
   "display_name": "Python 3",
   "language": "python",
   "name": "python3"
  },
  "language_info": {
   "codemirror_mode": {
    "name": "ipython",
    "version": 3
   },
   "file_extension": ".py",
   "mimetype": "text/x-python",
   "name": "python",
   "nbconvert_exporter": "python",
   "pygments_lexer": "ipython3",
   "version": "3.8.5"
  }
 },
 "nbformat": 4,
 "nbformat_minor": 4
}
