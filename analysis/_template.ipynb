{
 "cells": [
  {
   "cell_type": "code",
   "execution_count": 1,
   "metadata": {},
   "outputs": [],
   "source": [
    "import re\n",
    "import string\n",
    "import warnings\n",
    "from pathlib import Path\n",
    "from time import time\n",
    "\n",
    "import arviz as az\n",
    "import matplotlib.colors as mcolors\n",
    "import matplotlib.pyplot as plt\n",
    "import numpy as np\n",
    "import pandas as pd\n",
    "import plotnine as gg\n",
    "import pymc3 as pm\n",
    "import pymc3_helpers as pmhelp\n",
    "import seaborn as sns\n",
    "from theano import tensor as tt\n",
    "\n",
    "notebook_tic = time()\n",
    "\n",
    "warnings.simplefilter(action=\"ignore\", category=UserWarning)\n",
    "\n",
    "gg.theme_set(gg.theme_minimal())\n",
    "%config InlineBackend.figure_format = 'retina'\n",
    "\n",
    "RANDOM_SEED = 847\n",
    "np.random.seed(RANDOM_SEED)\n",
    "\n",
    "pymc3_cache_dir = Path(\"pymc3_model_cache\")"
   ]
  },
  {
   "cell_type": "code",
   "execution_count": null,
   "metadata": {},
   "outputs": [],
   "source": []
  },
  {
   "cell_type": "code",
   "execution_count": null,
   "metadata": {},
   "outputs": [],
   "source": []
  },
  {
   "cell_type": "markdown",
   "metadata": {},
   "source": [
    "---"
   ]
  },
  {
   "cell_type": "code",
   "execution_count": 50,
   "metadata": {
    "execution": {
     "iopub.execute_input": "2020-12-17T14:19:13.225737Z",
     "iopub.status.busy": "2020-12-17T14:19:13.225162Z",
     "iopub.status.idle": "2020-12-17T14:19:13.228785Z",
     "shell.execute_reply": "2020-12-17T14:19:13.229344Z"
    }
   },
   "outputs": [
    {
     "name": "stdout",
     "output_type": "stream",
     "text": [
      "execution time: 10.63 minutes\n"
     ]
    }
   ],
   "source": [
    "notebook_toc = time()\n",
    "print(f\"execution time: {(notebook_toc - notebook_tic) / 60:.2f} minutes\")"
   ]
  },
  {
   "cell_type": "code",
   "execution_count": 51,
   "metadata": {
    "execution": {
     "iopub.execute_input": "2020-12-17T14:19:13.236802Z",
     "iopub.status.busy": "2020-12-17T14:19:13.236226Z",
     "iopub.status.idle": "2020-12-17T14:19:14.525935Z",
     "shell.execute_reply": "2020-12-17T14:19:14.525296Z"
    }
   },
   "outputs": [
    {
     "name": "stdout",
     "output_type": "stream",
     "text": [
      "plotnine 0.7.1\n",
      "pandas   1.1.3\n",
      "seaborn  0.11.0\n",
      "re       2.2.1\n",
      "numpy    1.19.2\n",
      "pymc3    3.9.3\n",
      "arviz    0.10.0\n",
      "last updated: 2020-12-17 \n",
      "\n",
      "CPython 3.8.5\n",
      "IPython 7.18.1\n",
      "\n",
      "compiler   : GCC 7.3.0\n",
      "system     : Linux\n",
      "release    : 3.10.0-1062.el7.x86_64\n",
      "machine    : x86_64\n",
      "processor  : x86_64\n",
      "CPU cores  : 32\n",
      "interpreter: 64bit\n",
      "host name  : compute-a-16-78.o2.rc.hms.harvard.edu\n",
      "Git branch : subset-data\n"
     ]
    }
   ],
   "source": [
    "%load_ext watermark\n",
    "%watermark -d -u -v -iv -b -h -m"
   ]
  }
 ],
 "metadata": {
  "kernelspec": {
   "display_name": "Python 3",
   "language": "python",
   "name": "python3"
  },
  "language_info": {
   "codemirror_mode": {
    "name": "ipython",
    "version": 3
   },
   "file_extension": ".py",
   "mimetype": "text/x-python",
   "name": "python",
   "nbconvert_exporter": "python",
   "pygments_lexer": "ipython3",
   "version": "3.8.6"
  }
 },
 "nbformat": 4,
 "nbformat_minor": 4
}
