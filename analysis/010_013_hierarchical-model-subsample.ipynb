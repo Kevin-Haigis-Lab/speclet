{
 "cells": [
  {
   "cell_type": "markdown",
   "metadata": {},
   "source": [
    "# A hierarchcial linear regression to fit CRISPR-Cas9 screen results"
   ]
  },
  {
   "cell_type": "markdown",
   "metadata": {},
   "source": [
    "The CERES model was replicated using PyMC3 in []().\n",
    "This notebook is intended to experiment with various hierarchical model architectures on a sub-sample of the real DepMap data."
   ]
  },
  {
   "cell_type": "markdown",
   "metadata": {},
   "source": [
    "## Set-up"
   ]
  },
  {
   "cell_type": "code",
   "execution_count": 1,
   "metadata": {
    "execution": {
     "iopub.execute_input": "2020-12-17T14:19:23.304740Z",
     "iopub.status.busy": "2020-12-17T14:19:23.303810Z",
     "iopub.status.idle": "2020-12-17T14:19:28.402283Z",
     "shell.execute_reply": "2020-12-17T14:19:28.403147Z"
    }
   },
   "outputs": [],
   "source": [
    "import re\n",
    "import string\n",
    "import warnings\n",
    "from pathlib import Path\n",
    "from time import time\n",
    "\n",
    "import arviz as az\n",
    "import matplotlib.colors as mcolors\n",
    "import matplotlib.pyplot as plt\n",
    "import numpy as np\n",
    "import pandas as pd\n",
    "import plotnine as gg\n",
    "import pymc3 as pm\n",
    "import pymc3_helpers as pmhelp\n",
    "import seaborn as sns\n",
    "from common_data_processing import get_indices, make_cat, zscale_cna_by_group\n",
    "from theano import tensor as tt\n",
    "\n",
    "notebook_tic = time()\n",
    "\n",
    "warnings.simplefilter(action=\"ignore\", category=UserWarning)\n",
    "\n",
    "gg.theme_set(gg.theme_minimal())\n",
    "\n",
    "%config InlineBackend.figure_format = 'retina'\n",
    "\n",
    "RANDOM_SEED = 824\n",
    "np.random.seed(RANDOM_SEED)\n",
    "\n",
    "pymc3_cache_dir = Path(\"pymc3_model_cache\")"
   ]
  },
  {
   "cell_type": "markdown",
   "metadata": {},
   "source": [
    "## Data preparation"
   ]
  },
  {
   "cell_type": "code",
   "execution_count": 2,
   "metadata": {
    "execution": {
     "iopub.execute_input": "2020-12-17T14:19:28.411809Z",
     "iopub.status.busy": "2020-12-17T14:19:28.410758Z",
     "iopub.status.idle": "2020-12-17T14:19:28.414733Z",
     "shell.execute_reply": "2020-12-17T14:19:28.415710Z"
    }
   },
   "outputs": [
    {
     "data": {
      "text/plain": [
       "inf"
      ]
     },
     "execution_count": 1,
     "metadata": {},
     "output_type": "execute_result"
    }
   ],
   "source": [
    "np.max((2, 1, np.inf))"
   ]
  },
  {
   "cell_type": "code",
   "execution_count": 3,
   "metadata": {
    "execution": {
     "iopub.execute_input": "2020-12-17T14:19:28.422684Z",
     "iopub.status.busy": "2020-12-17T14:19:28.421703Z",
     "iopub.status.idle": "2020-12-17T14:19:28.708731Z",
     "shell.execute_reply": "2020-12-17T14:19:28.709877Z"
    }
   },
   "outputs": [
    {
     "data": {
      "text/html": [
       "<div>\n",
       "<style scoped>\n",
       "    .dataframe tbody tr th:only-of-type {\n",
       "        vertical-align: middle;\n",
       "    }\n",
       "\n",
       "    .dataframe tbody tr th {\n",
       "        vertical-align: top;\n",
       "    }\n",
       "\n",
       "    .dataframe thead th {\n",
       "        text-align: right;\n",
       "    }\n",
       "</style>\n",
       "<table border=\"1\" class=\"dataframe\">\n",
       "  <thead>\n",
       "    <tr style=\"text-align: right;\">\n",
       "      <th></th>\n",
       "      <th>sgrna</th>\n",
       "      <th>replicate_id</th>\n",
       "      <th>lfc</th>\n",
       "      <th>pdna_batch</th>\n",
       "      <th>passes_qc</th>\n",
       "      <th>depmap_id</th>\n",
       "      <th>primary_or_metastasis</th>\n",
       "      <th>lineage</th>\n",
       "      <th>lineage_subtype</th>\n",
       "      <th>kras_mutation</th>\n",
       "      <th>...</th>\n",
       "      <th>log2_gene_cn_p1</th>\n",
       "      <th>gene_cn</th>\n",
       "      <th>n_muts</th>\n",
       "      <th>any_deleterious</th>\n",
       "      <th>variant_classification</th>\n",
       "      <th>is_deleterious</th>\n",
       "      <th>is_tcga_hotspot</th>\n",
       "      <th>is_cosmic_hotspot</th>\n",
       "      <th>mutated_at_guide_location</th>\n",
       "      <th>rna_expr</th>\n",
       "    </tr>\n",
       "  </thead>\n",
       "  <tbody>\n",
       "    <tr>\n",
       "      <th>0</th>\n",
       "      <td>AAGAGGCCGGTCAAATTCAG</td>\n",
       "      <td>42-mg-ba-311cas9_repa_p6_batch3</td>\n",
       "      <td>-0.405499</td>\n",
       "      <td>3</td>\n",
       "      <td>True</td>\n",
       "      <td>ACH-000323</td>\n",
       "      <td>Primary</td>\n",
       "      <td>central_nervous_system</td>\n",
       "      <td>glioma</td>\n",
       "      <td>WT</td>\n",
       "      <td>...</td>\n",
       "      <td>0.845287</td>\n",
       "      <td>1.328646</td>\n",
       "      <td>0</td>\n",
       "      <td>False</td>\n",
       "      <td>NaN</td>\n",
       "      <td>NaN</td>\n",
       "      <td>NaN</td>\n",
       "      <td>NaN</td>\n",
       "      <td>False</td>\n",
       "      <td>1.263034</td>\n",
       "    </tr>\n",
       "    <tr>\n",
       "      <th>1</th>\n",
       "      <td>AATCAACCCACAGCTGCACA</td>\n",
       "      <td>42-mg-ba-311cas9_repa_p6_batch3</td>\n",
       "      <td>-0.133541</td>\n",
       "      <td>3</td>\n",
       "      <td>True</td>\n",
       "      <td>ACH-000323</td>\n",
       "      <td>Primary</td>\n",
       "      <td>central_nervous_system</td>\n",
       "      <td>glioma</td>\n",
       "      <td>WT</td>\n",
       "      <td>...</td>\n",
       "      <td>0.827398</td>\n",
       "      <td>1.287359</td>\n",
       "      <td>2</td>\n",
       "      <td>False</td>\n",
       "      <td>missense_mutation;missense_mutation</td>\n",
       "      <td>FALSE;FALSE</td>\n",
       "      <td>TRUE;TRUE</td>\n",
       "      <td>TRUE;TRUE</td>\n",
       "      <td>False</td>\n",
       "      <td>5.220330</td>\n",
       "    </tr>\n",
       "    <tr>\n",
       "      <th>2</th>\n",
       "      <td>AATTACTACTTGCTTCCTGT</td>\n",
       "      <td>42-mg-ba-311cas9_repa_p6_batch3</td>\n",
       "      <td>-0.491495</td>\n",
       "      <td>3</td>\n",
       "      <td>True</td>\n",
       "      <td>ACH-000323</td>\n",
       "      <td>Primary</td>\n",
       "      <td>central_nervous_system</td>\n",
       "      <td>glioma</td>\n",
       "      <td>WT</td>\n",
       "      <td>...</td>\n",
       "      <td>0.879280</td>\n",
       "      <td>1.409165</td>\n",
       "      <td>0</td>\n",
       "      <td>False</td>\n",
       "      <td>NaN</td>\n",
       "      <td>NaN</td>\n",
       "      <td>NaN</td>\n",
       "      <td>NaN</td>\n",
       "      <td>False</td>\n",
       "      <td>3.008989</td>\n",
       "    </tr>\n",
       "    <tr>\n",
       "      <th>3</th>\n",
       "      <td>ACCTGTATGACGAAACCGTG</td>\n",
       "      <td>42-mg-ba-311cas9_repa_p6_batch3</td>\n",
       "      <td>-0.015850</td>\n",
       "      <td>3</td>\n",
       "      <td>True</td>\n",
       "      <td>ACH-000323</td>\n",
       "      <td>Primary</td>\n",
       "      <td>central_nervous_system</td>\n",
       "      <td>glioma</td>\n",
       "      <td>WT</td>\n",
       "      <td>...</td>\n",
       "      <td>0.818549</td>\n",
       "      <td>1.267208</td>\n",
       "      <td>0</td>\n",
       "      <td>False</td>\n",
       "      <td>NaN</td>\n",
       "      <td>NaN</td>\n",
       "      <td>NaN</td>\n",
       "      <td>NaN</td>\n",
       "      <td>False</td>\n",
       "      <td>4.083213</td>\n",
       "    </tr>\n",
       "    <tr>\n",
       "      <th>4</th>\n",
       "      <td>ACTCTGTTCCTTCATCTCCG</td>\n",
       "      <td>42-mg-ba-311cas9_repa_p6_batch3</td>\n",
       "      <td>-0.530277</td>\n",
       "      <td>3</td>\n",
       "      <td>True</td>\n",
       "      <td>ACH-000323</td>\n",
       "      <td>Primary</td>\n",
       "      <td>central_nervous_system</td>\n",
       "      <td>glioma</td>\n",
       "      <td>WT</td>\n",
       "      <td>...</td>\n",
       "      <td>0.990378</td>\n",
       "      <td>1.692253</td>\n",
       "      <td>0</td>\n",
       "      <td>False</td>\n",
       "      <td>NaN</td>\n",
       "      <td>NaN</td>\n",
       "      <td>NaN</td>\n",
       "      <td>NaN</td>\n",
       "      <td>False</td>\n",
       "      <td>5.822730</td>\n",
       "    </tr>\n",
       "    <tr>\n",
       "      <th>5</th>\n",
       "      <td>ACTGCTGCGGGAATTCCAAG</td>\n",
       "      <td>42-mg-ba-311cas9_repa_p6_batch3</td>\n",
       "      <td>0.778827</td>\n",
       "      <td>3</td>\n",
       "      <td>True</td>\n",
       "      <td>ACH-000323</td>\n",
       "      <td>Primary</td>\n",
       "      <td>central_nervous_system</td>\n",
       "      <td>glioma</td>\n",
       "      <td>WT</td>\n",
       "      <td>...</td>\n",
       "      <td>0.818549</td>\n",
       "      <td>1.267208</td>\n",
       "      <td>0</td>\n",
       "      <td>False</td>\n",
       "      <td>NaN</td>\n",
       "      <td>NaN</td>\n",
       "      <td>NaN</td>\n",
       "      <td>NaN</td>\n",
       "      <td>False</td>\n",
       "      <td>4.083213</td>\n",
       "    </tr>\n",
       "    <tr>\n",
       "      <th>6</th>\n",
       "      <td>AGACACTTATACTATGAAAG</td>\n",
       "      <td>42-mg-ba-311cas9_repa_p6_batch3</td>\n",
       "      <td>0.035950</td>\n",
       "      <td>3</td>\n",
       "      <td>True</td>\n",
       "      <td>ACH-000323</td>\n",
       "      <td>Primary</td>\n",
       "      <td>central_nervous_system</td>\n",
       "      <td>glioma</td>\n",
       "      <td>WT</td>\n",
       "      <td>...</td>\n",
       "      <td>0.872323</td>\n",
       "      <td>1.392463</td>\n",
       "      <td>0</td>\n",
       "      <td>False</td>\n",
       "      <td>NaN</td>\n",
       "      <td>NaN</td>\n",
       "      <td>NaN</td>\n",
       "      <td>NaN</td>\n",
       "      <td>False</td>\n",
       "      <td>3.701549</td>\n",
       "    </tr>\n",
       "  </tbody>\n",
       "</table>\n",
       "<p>7 rows × 27 columns</p>\n",
       "</div>"
      ],
      "text/plain": [
       "                  sgrna                     replicate_id       lfc  \\\n",
       "0  AAGAGGCCGGTCAAATTCAG  42-mg-ba-311cas9_repa_p6_batch3 -0.405499   \n",
       "1  AATCAACCCACAGCTGCACA  42-mg-ba-311cas9_repa_p6_batch3 -0.133541   \n",
       "2  AATTACTACTTGCTTCCTGT  42-mg-ba-311cas9_repa_p6_batch3 -0.491495   \n",
       "3  ACCTGTATGACGAAACCGTG  42-mg-ba-311cas9_repa_p6_batch3 -0.015850   \n",
       "4  ACTCTGTTCCTTCATCTCCG  42-mg-ba-311cas9_repa_p6_batch3 -0.530277   \n",
       "5  ACTGCTGCGGGAATTCCAAG  42-mg-ba-311cas9_repa_p6_batch3  0.778827   \n",
       "6  AGACACTTATACTATGAAAG  42-mg-ba-311cas9_repa_p6_batch3  0.035950   \n",
       "\n",
       "   pdna_batch  passes_qc   depmap_id primary_or_metastasis  \\\n",
       "0           3       True  ACH-000323               Primary   \n",
       "1           3       True  ACH-000323               Primary   \n",
       "2           3       True  ACH-000323               Primary   \n",
       "3           3       True  ACH-000323               Primary   \n",
       "4           3       True  ACH-000323               Primary   \n",
       "5           3       True  ACH-000323               Primary   \n",
       "6           3       True  ACH-000323               Primary   \n",
       "\n",
       "                  lineage lineage_subtype kras_mutation  ... log2_gene_cn_p1  \\\n",
       "0  central_nervous_system          glioma            WT  ...        0.845287   \n",
       "1  central_nervous_system          glioma            WT  ...        0.827398   \n",
       "2  central_nervous_system          glioma            WT  ...        0.879280   \n",
       "3  central_nervous_system          glioma            WT  ...        0.818549   \n",
       "4  central_nervous_system          glioma            WT  ...        0.990378   \n",
       "5  central_nervous_system          glioma            WT  ...        0.818549   \n",
       "6  central_nervous_system          glioma            WT  ...        0.872323   \n",
       "\n",
       "    gene_cn n_muts  any_deleterious               variant_classification  \\\n",
       "0  1.328646      0            False                                  NaN   \n",
       "1  1.287359      2            False  missense_mutation;missense_mutation   \n",
       "2  1.409165      0            False                                  NaN   \n",
       "3  1.267208      0            False                                  NaN   \n",
       "4  1.692253      0            False                                  NaN   \n",
       "5  1.267208      0            False                                  NaN   \n",
       "6  1.392463      0            False                                  NaN   \n",
       "\n",
       "   is_deleterious  is_tcga_hotspot  is_cosmic_hotspot  \\\n",
       "0             NaN              NaN                NaN   \n",
       "1     FALSE;FALSE        TRUE;TRUE          TRUE;TRUE   \n",
       "2             NaN              NaN                NaN   \n",
       "3             NaN              NaN                NaN   \n",
       "4             NaN              NaN                NaN   \n",
       "5             NaN              NaN                NaN   \n",
       "6             NaN              NaN                NaN   \n",
       "\n",
       "   mutated_at_guide_location  rna_expr  \n",
       "0                      False  1.263034  \n",
       "1                      False  5.220330  \n",
       "2                      False  3.008989  \n",
       "3                      False  4.083213  \n",
       "4                      False  5.822730  \n",
       "5                      False  4.083213  \n",
       "6                      False  3.701549  \n",
       "\n",
       "[7 rows x 27 columns]"
      ]
     },
     "execution_count": 1,
     "metadata": {},
     "output_type": "execute_result"
    }
   ],
   "source": [
    "data_path = Path(\"../modeling_data/depmap_modeling_dataframe_subsample.csv\")\n",
    "data = pd.read_csv(data_path)\n",
    "data.head(n=7)"
   ]
  },
  {
   "cell_type": "code",
   "execution_count": 4,
   "metadata": {
    "execution": {
     "iopub.execute_input": "2020-12-17T14:19:28.716020Z",
     "iopub.status.busy": "2020-12-17T14:19:28.714992Z",
     "iopub.status.idle": "2020-12-17T14:19:28.718374Z",
     "shell.execute_reply": "2020-12-17T14:19:28.719410Z"
    }
   },
   "outputs": [
    {
     "data": {
      "text/plain": [
       "(60049, 27)"
      ]
     },
     "execution_count": 1,
     "metadata": {},
     "output_type": "execute_result"
    }
   ],
   "source": [
    "data.shape"
   ]
  },
  {
   "cell_type": "code",
   "execution_count": 5,
   "metadata": {
    "execution": {
     "iopub.execute_input": "2020-12-17T14:19:28.944072Z",
     "iopub.status.busy": "2020-12-17T14:19:28.726295Z",
     "iopub.status.idle": "2020-12-17T14:19:29.432837Z",
     "shell.execute_reply": "2020-12-17T14:19:29.433746Z"
    }
   },
   "outputs": [],
   "source": [
    "data = zscale_cna_by_group(data, cn_max=10)"
   ]
  },
  {
   "cell_type": "code",
   "execution_count": null,
   "metadata": {},
   "outputs": [],
   "source": []
  },
  {
   "cell_type": "code",
   "execution_count": null,
   "metadata": {},
   "outputs": [],
   "source": []
  },
  {
   "cell_type": "code",
   "execution_count": null,
   "metadata": {},
   "outputs": [],
   "source": []
  },
  {
   "cell_type": "code",
   "execution_count": null,
   "metadata": {},
   "outputs": [],
   "source": []
  },
  {
   "cell_type": "code",
   "execution_count": null,
   "metadata": {},
   "outputs": [],
   "source": []
  },
  {
   "cell_type": "markdown",
   "metadata": {},
   "source": [
    "---"
   ]
  },
  {
   "cell_type": "code",
   "execution_count": 6,
   "metadata": {
    "execution": {
     "iopub.execute_input": "2020-12-17T14:19:29.440607Z",
     "iopub.status.busy": "2020-12-17T14:19:29.439499Z",
     "iopub.status.idle": "2020-12-17T14:19:29.443050Z",
     "shell.execute_reply": "2020-12-17T14:19:29.444079Z"
    }
   },
   "outputs": [
    {
     "name": "stdout",
     "output_type": "stream",
     "text": [
      "execution time: 0.02 minutes\n"
     ]
    }
   ],
   "source": [
    "notebook_toc = time()\n",
    "print(f\"execution time: {(notebook_toc - notebook_tic) / 60:.2f} minutes\")"
   ]
  },
  {
   "cell_type": "code",
   "execution_count": 7,
   "metadata": {
    "execution": {
     "iopub.execute_input": "2020-12-17T14:19:29.451757Z",
     "iopub.status.busy": "2020-12-17T14:19:29.450740Z",
     "iopub.status.idle": "2020-12-17T14:19:29.512637Z",
     "shell.execute_reply": "2020-12-17T14:19:29.513366Z"
    }
   },
   "outputs": [
    {
     "name": "stdout",
     "output_type": "stream",
     "text": [
      "re       2.2.1\n",
      "numpy    1.19.2\n",
      "arviz    0.10.0\n",
      "seaborn  0.11.0\n",
      "pandas   1.1.3\n",
      "plotnine 0.7.1\n",
      "pymc3    3.9.3\n",
      "last updated: 2020-12-17 \n",
      "\n",
      "CPython 3.8.5\n",
      "IPython 7.18.1\n",
      "\n",
      "compiler   : GCC 7.3.0\n",
      "system     : Linux\n",
      "release    : 3.10.0-1062.el7.x86_64\n",
      "machine    : x86_64\n",
      "processor  : x86_64\n",
      "CPU cores  : 32\n",
      "interpreter: 64bit\n",
      "host name  : compute-a-16-78.o2.rc.hms.harvard.edu\n",
      "Git branch : subset-data\n"
     ]
    }
   ],
   "source": [
    "%load_ext watermark\n",
    "%watermark -d -u -v -iv -b -h -m"
   ]
  },
  {
   "cell_type": "code",
   "execution_count": null,
   "metadata": {},
   "outputs": [],
   "source": []
  }
 ],
 "metadata": {
  "kernelspec": {
   "display_name": "Python 3",
   "language": "python",
   "name": "python3"
  },
  "language_info": {
   "codemirror_mode": {
    "name": "ipython",
    "version": 3
   },
   "file_extension": ".py",
   "mimetype": "text/x-python",
   "name": "python",
   "nbconvert_exporter": "python",
   "pygments_lexer": "ipython3",
   "version": "3.8.5"
  }
 },
 "nbformat": 4,
 "nbformat_minor": 4
}
